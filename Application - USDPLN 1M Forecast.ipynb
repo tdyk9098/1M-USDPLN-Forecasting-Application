{
 "cells": [
  {
   "cell_type": "code",
   "execution_count": 1,
   "id": "3bb12f8f",
   "metadata": {},
   "outputs": [],
   "source": [
    "import numpy as np\n",
    "import pandas as pd\n",
    "import matplotlib.pyplot as plt\n",
    "import seaborn as sns\n",
    "import scipy.stats as st\n",
    "import datetime as dt\n",
    "\n",
    "\n",
    "from tensorflow.keras.models import Sequential\n",
    "from tensorflow.keras.layers import *\n",
    "from sklearn.preprocessing import StandardScaler\n",
    "\n",
    "from sklearn.model_selection import train_test_split\n",
    "from tensorflow.keras.callbacks import ModelCheckpoint\n",
    "from tensorflow.keras.losses import MeanSquaredError\n",
    "from tensorflow.keras.metrics import RootMeanSquaredError\n",
    "from tensorflow.keras.optimizers import Adam\n",
    "\n",
    "from keras.callbacks import EarlyStopping\n",
    "from sklearn.preprocessing import MinMaxScaler\n",
    "\n",
    "from sklearn.metrics import mean_squared_error, r2_score\n",
    "from sklearn import metrics"
   ]
  },
  {
   "cell_type": "code",
   "execution_count": 2,
   "id": "6f31b8c2",
   "metadata": {},
   "outputs": [],
   "source": [
    "##########################################################################################"
   ]
  },
  {
   "cell_type": "code",
   "execution_count": 3,
   "id": "6053c8c4",
   "metadata": {},
   "outputs": [],
   "source": [
    "# FX BASKET CROSSES DOWNLOAD #"
   ]
  },
  {
   "cell_type": "code",
   "execution_count": 4,
   "id": "1c64899a",
   "metadata": {},
   "outputs": [],
   "source": [
    "import requests\n",
    "#from bs4 import BeautifulSoup\n",
    "\n",
    "# USD BASKET #\n",
    "email = \"your@email.com\"\n",
    "product_type = \"currency_crosses\"\n",
    "time_frame = \"Monthly\"\n",
    "\n",
    "names = ['AUD/USD','EUR/USD','GBP/USD','USD/JPY','USD/CHF','USD/CAD']\n",
    "dict1={0:pd.DataFrame(),1:pd.DataFrame,2:pd.DataFrame(),3:pd.DataFrame(),4:pd.DataFrame(),5:pd.DataFrame()}\n",
    "\n",
    "for x in range(len(dict1)):\n",
    "    from_date = '01/01/1996'\n",
    "    to_date = dt.datetime.now().strftime('%m/%d/%Y')\n",
    "    name = names[x]\n",
    "    params = {\n",
    "        \"email\": email,\n",
    "        \"type\": \"historical_data\",\n",
    "        \"product\": product_type,\n",
    "        \"from_date\": from_date,\n",
    "        \"to_date\": to_date,\n",
    "        \"time_frame\": time_frame,\n",
    "        \"name\": name\n",
    "    }\n",
    "\n",
    "    response = requests.get(\"http://api.scraperlink.com/investpy/\", params=params)\n",
    "    data = response.json()\n",
    "    dict1[x] = pd.DataFrame(data['data'])\n",
    "\n",
    "for x in range(len(dict1)):\n",
    "    dict1[x] = pd.DataFrame(dict1[x][['rowDateTimestamp','last_closeRaw','last_openRaw','last_maxRaw','last_minRaw']].copy())\n",
    "    dict1[x].columns = ['Date',names[x]+' Close',names[x]+' Open',names[x]+' High',names[x]+' Low']\n",
    "    dict1[x]['Date'] = pd.to_datetime(dict1[x]['Date'].str[:10])\n",
    "    dict1[x] = dict1[x].set_index('Date')\n",
    "    dict1[x] = dict1[x].astype(float).reset_index()"
   ]
  },
  {
   "cell_type": "code",
   "execution_count": 5,
   "id": "25353344",
   "metadata": {},
   "outputs": [],
   "source": [
    "USD = dict1[0].merge(dict1[1], how = 'inner', on = 'Date').merge(dict1[2], how = 'inner', on = 'Date').merge(dict1[3], how = 'inner', on = 'Date').merge(dict1[4], how = 'inner', on = 'Date').merge(dict1[5], how = 'inner', on = 'Date')"
   ]
  },
  {
   "cell_type": "code",
   "execution_count": 6,
   "id": "2b9c522f",
   "metadata": {},
   "outputs": [],
   "source": [
    "# PLN BASKET #\n",
    "email = \"your@email.com\"\n",
    "product_type = \"currency_crosses\"\n",
    "time_frame = \"Monthly\"\n",
    "\n",
    "names = ['AUD/PLN','EUR/PLN','GBP/PLN','PLN/JPY','CHF/PLN','CAD/PLN','USD/PLN']\n",
    "dict1={0:pd.DataFrame(),1:pd.DataFrame,2:pd.DataFrame(),3:pd.DataFrame(),4:pd.DataFrame(),5:pd.DataFrame(),6:pd.DataFrame()}\n",
    "\n",
    "for x in range(len(dict1)):\n",
    "    from_date = '01/01/1996'\n",
    "    to_date = dt.datetime.now().strftime('%m/%d/%Y')\n",
    "    name = names[x]\n",
    "    params = {\n",
    "        \"email\": email,\n",
    "        \"type\": \"historical_data\",\n",
    "        \"product\": product_type,\n",
    "        \"from_date\": from_date,\n",
    "        \"to_date\": to_date,\n",
    "        \"time_frame\": time_frame,\n",
    "        \"name\": name\n",
    "    }\n",
    "\n",
    "    response = requests.get(\"http://api.scraperlink.com/investpy/\", params=params)\n",
    "    data = response.json()\n",
    "    dict1[x] = pd.DataFrame(data['data'])\n",
    "\n",
    "for x in range(len(dict1)):\n",
    "    dict1[x] = pd.DataFrame(dict1[x][['rowDateTimestamp','last_closeRaw','last_openRaw','last_maxRaw','last_minRaw']].copy())\n",
    "    dict1[x].columns = ['Date',names[x]+' Close',names[x]+' Open',names[x]+' High',names[x]+' Low']\n",
    "    dict1[x]['Date'] = pd.to_datetime(dict1[x]['Date'].str[:10])\n",
    "    dict1[x] = dict1[x].set_index('Date')\n",
    "    dict1[x] = dict1[x].astype(float).reset_index()"
   ]
  },
  {
   "cell_type": "code",
   "execution_count": 7,
   "id": "55c59147",
   "metadata": {
    "scrolled": true
   },
   "outputs": [
    {
     "data": {
      "text/html": [
       "<div>\n",
       "<style scoped>\n",
       "    .dataframe tbody tr th:only-of-type {\n",
       "        vertical-align: middle;\n",
       "    }\n",
       "\n",
       "    .dataframe tbody tr th {\n",
       "        vertical-align: top;\n",
       "    }\n",
       "\n",
       "    .dataframe thead th {\n",
       "        text-align: right;\n",
       "    }\n",
       "</style>\n",
       "<table border=\"1\" class=\"dataframe\">\n",
       "  <thead>\n",
       "    <tr style=\"text-align: right;\">\n",
       "      <th></th>\n",
       "      <th>Date</th>\n",
       "      <th>CAD/PLN Close</th>\n",
       "      <th>CAD/PLN Open</th>\n",
       "      <th>CAD/PLN High</th>\n",
       "      <th>CAD/PLN Low</th>\n",
       "    </tr>\n",
       "  </thead>\n",
       "  <tbody>\n",
       "    <tr>\n",
       "      <th>6</th>\n",
       "      <td>2022-08-01</td>\n",
       "      <td>3.5751</td>\n",
       "      <td>3.61585</td>\n",
       "      <td>3.71020</td>\n",
       "      <td>3.53375</td>\n",
       "    </tr>\n",
       "    <tr>\n",
       "      <th>319</th>\n",
       "      <td>1996-07-01</td>\n",
       "      <td>1.9688</td>\n",
       "      <td>1.96670</td>\n",
       "      <td>1.96880</td>\n",
       "      <td>1.96670</td>\n",
       "    </tr>\n",
       "    <tr>\n",
       "      <th>321</th>\n",
       "      <td>1996-05-01</td>\n",
       "      <td>1.9580</td>\n",
       "      <td>1.95580</td>\n",
       "      <td>1.95800</td>\n",
       "      <td>1.95580</td>\n",
       "    </tr>\n",
       "    <tr>\n",
       "      <th>322</th>\n",
       "      <td>1996-04-01</td>\n",
       "      <td>1.9554</td>\n",
       "      <td>1.95280</td>\n",
       "      <td>1.95540</td>\n",
       "      <td>1.95280</td>\n",
       "    </tr>\n",
       "    <tr>\n",
       "      <th>323</th>\n",
       "      <td>1996-03-01</td>\n",
       "      <td>1.9036</td>\n",
       "      <td>1.90140</td>\n",
       "      <td>1.90360</td>\n",
       "      <td>1.90140</td>\n",
       "    </tr>\n",
       "    <tr>\n",
       "      <th>324</th>\n",
       "      <td>1996-02-01</td>\n",
       "      <td>1.8677</td>\n",
       "      <td>1.86660</td>\n",
       "      <td>1.86770</td>\n",
       "      <td>1.86660</td>\n",
       "    </tr>\n",
       "    <tr>\n",
       "      <th>325</th>\n",
       "      <td>1996-01-01</td>\n",
       "      <td>1.8566</td>\n",
       "      <td>1.85520</td>\n",
       "      <td>1.85660</td>\n",
       "      <td>1.85520</td>\n",
       "    </tr>\n",
       "    <tr>\n",
       "      <th>323</th>\n",
       "      <td>1996-03-01</td>\n",
       "      <td>1.9036</td>\n",
       "      <td>1.90140</td>\n",
       "      <td>1.90360</td>\n",
       "      <td>1.90140</td>\n",
       "    </tr>\n",
       "    <tr>\n",
       "      <th>324</th>\n",
       "      <td>1996-02-01</td>\n",
       "      <td>1.8677</td>\n",
       "      <td>1.86660</td>\n",
       "      <td>1.86770</td>\n",
       "      <td>1.86660</td>\n",
       "    </tr>\n",
       "    <tr>\n",
       "      <th>325</th>\n",
       "      <td>1996-01-01</td>\n",
       "      <td>1.8566</td>\n",
       "      <td>1.85520</td>\n",
       "      <td>1.85660</td>\n",
       "      <td>1.85520</td>\n",
       "    </tr>\n",
       "    <tr>\n",
       "      <th>5</th>\n",
       "      <td>2022-09-01</td>\n",
       "      <td>3.5785</td>\n",
       "      <td>3.57770</td>\n",
       "      <td>3.67735</td>\n",
       "      <td>3.53620</td>\n",
       "    </tr>\n",
       "    <tr>\n",
       "      <th>6</th>\n",
       "      <td>2022-08-01</td>\n",
       "      <td>3.5751</td>\n",
       "      <td>3.61585</td>\n",
       "      <td>3.71020</td>\n",
       "      <td>3.53375</td>\n",
       "    </tr>\n",
       "    <tr>\n",
       "      <th>319</th>\n",
       "      <td>1996-07-01</td>\n",
       "      <td>1.9688</td>\n",
       "      <td>1.96670</td>\n",
       "      <td>1.96880</td>\n",
       "      <td>1.96670</td>\n",
       "    </tr>\n",
       "    <tr>\n",
       "      <th>321</th>\n",
       "      <td>1996-05-01</td>\n",
       "      <td>1.9580</td>\n",
       "      <td>1.95580</td>\n",
       "      <td>1.95800</td>\n",
       "      <td>1.95580</td>\n",
       "    </tr>\n",
       "    <tr>\n",
       "      <th>322</th>\n",
       "      <td>1996-04-01</td>\n",
       "      <td>1.9554</td>\n",
       "      <td>1.95280</td>\n",
       "      <td>1.95540</td>\n",
       "      <td>1.95280</td>\n",
       "    </tr>\n",
       "    <tr>\n",
       "      <th>323</th>\n",
       "      <td>1996-03-01</td>\n",
       "      <td>1.9036</td>\n",
       "      <td>1.90140</td>\n",
       "      <td>1.90360</td>\n",
       "      <td>1.90140</td>\n",
       "    </tr>\n",
       "    <tr>\n",
       "      <th>324</th>\n",
       "      <td>1996-02-01</td>\n",
       "      <td>1.8677</td>\n",
       "      <td>1.86660</td>\n",
       "      <td>1.86770</td>\n",
       "      <td>1.86660</td>\n",
       "    </tr>\n",
       "    <tr>\n",
       "      <th>325</th>\n",
       "      <td>1996-01-01</td>\n",
       "      <td>1.8566</td>\n",
       "      <td>1.85520</td>\n",
       "      <td>1.85660</td>\n",
       "      <td>1.85520</td>\n",
       "    </tr>\n",
       "    <tr>\n",
       "      <th>321</th>\n",
       "      <td>1996-05-01</td>\n",
       "      <td>1.9580</td>\n",
       "      <td>1.95580</td>\n",
       "      <td>1.95800</td>\n",
       "      <td>1.95580</td>\n",
       "    </tr>\n",
       "    <tr>\n",
       "      <th>322</th>\n",
       "      <td>1996-04-01</td>\n",
       "      <td>1.9554</td>\n",
       "      <td>1.95280</td>\n",
       "      <td>1.95540</td>\n",
       "      <td>1.95280</td>\n",
       "    </tr>\n",
       "    <tr>\n",
       "      <th>323</th>\n",
       "      <td>1996-03-01</td>\n",
       "      <td>1.9036</td>\n",
       "      <td>1.90140</td>\n",
       "      <td>1.90360</td>\n",
       "      <td>1.90140</td>\n",
       "    </tr>\n",
       "    <tr>\n",
       "      <th>324</th>\n",
       "      <td>1996-02-01</td>\n",
       "      <td>1.8677</td>\n",
       "      <td>1.86660</td>\n",
       "      <td>1.86770</td>\n",
       "      <td>1.86660</td>\n",
       "    </tr>\n",
       "    <tr>\n",
       "      <th>325</th>\n",
       "      <td>1996-01-01</td>\n",
       "      <td>1.8566</td>\n",
       "      <td>1.85520</td>\n",
       "      <td>1.85660</td>\n",
       "      <td>1.85520</td>\n",
       "    </tr>\n",
       "  </tbody>\n",
       "</table>\n",
       "</div>"
      ],
      "text/plain": [
       "          Date  CAD/PLN Close  CAD/PLN Open  CAD/PLN High  CAD/PLN Low\n",
       "6   2022-08-01         3.5751       3.61585       3.71020      3.53375\n",
       "319 1996-07-01         1.9688       1.96670       1.96880      1.96670\n",
       "321 1996-05-01         1.9580       1.95580       1.95800      1.95580\n",
       "322 1996-04-01         1.9554       1.95280       1.95540      1.95280\n",
       "323 1996-03-01         1.9036       1.90140       1.90360      1.90140\n",
       "324 1996-02-01         1.8677       1.86660       1.86770      1.86660\n",
       "325 1996-01-01         1.8566       1.85520       1.85660      1.85520\n",
       "323 1996-03-01         1.9036       1.90140       1.90360      1.90140\n",
       "324 1996-02-01         1.8677       1.86660       1.86770      1.86660\n",
       "325 1996-01-01         1.8566       1.85520       1.85660      1.85520\n",
       "5   2022-09-01         3.5785       3.57770       3.67735      3.53620\n",
       "6   2022-08-01         3.5751       3.61585       3.71020      3.53375\n",
       "319 1996-07-01         1.9688       1.96670       1.96880      1.96670\n",
       "321 1996-05-01         1.9580       1.95580       1.95800      1.95580\n",
       "322 1996-04-01         1.9554       1.95280       1.95540      1.95280\n",
       "323 1996-03-01         1.9036       1.90140       1.90360      1.90140\n",
       "324 1996-02-01         1.8677       1.86660       1.86770      1.86660\n",
       "325 1996-01-01         1.8566       1.85520       1.85660      1.85520\n",
       "321 1996-05-01         1.9580       1.95580       1.95800      1.95580\n",
       "322 1996-04-01         1.9554       1.95280       1.95540      1.95280\n",
       "323 1996-03-01         1.9036       1.90140       1.90360      1.90140\n",
       "324 1996-02-01         1.8677       1.86660       1.86770      1.86660\n",
       "325 1996-01-01         1.8566       1.85520       1.85660      1.85520"
      ]
     },
     "execution_count": 7,
     "metadata": {},
     "output_type": "execute_result"
    }
   ],
   "source": [
    "outliers = pd.DataFrame()\n",
    "c = 5\n",
    "checklist = [names[c]+' Open',names[c]+' High',names[c]+' Low',names[c]+' Close']\n",
    "\n",
    "\n",
    "for y in range(len(checklist)):\n",
    "    q1=dict1[c][checklist[y]].quantile(0.25)\n",
    "    q3=dict1[c][checklist[y]].quantile(0.75)\n",
    "    IQR=q3-q1\n",
    "    outliers = pd.concat([outliers,dict1[c][((dict1[c][checklist[y]]<(q1-2*IQR)) | (dict1[c][checklist[y]]>(q3+2*IQR)))]],axis = 0)\n",
    "\n",
    "outliers"
   ]
  },
  {
   "cell_type": "code",
   "execution_count": 8,
   "id": "3fccd5d8",
   "metadata": {},
   "outputs": [],
   "source": [
    "PLN = dict1[0].merge(dict1[1], how = 'inner', on = 'Date').merge(dict1[2], how = 'inner', on = 'Date').merge(dict1[3], how = 'inner', on = 'Date').merge(dict1[4], how = 'inner', on = 'Date').merge(dict1[5], how = 'inner', on = 'Date').merge(dict1[6], how = 'inner', on = 'Date')"
   ]
  },
  {
   "cell_type": "code",
   "execution_count": 9,
   "id": "9d874ef8",
   "metadata": {},
   "outputs": [],
   "source": [
    "# USD BASKET, BASE CURRENCY = USD\n",
    "USD[['AUD/USD Close', 'AUD/USD Open', 'AUD/USD High', 'AUD/USD Low',\n",
    "       'EUR/USD Close', 'EUR/USD Open', 'EUR/USD High', 'EUR/USD Low',\n",
    "       'GBP/USD Close', 'GBP/USD Open', 'GBP/USD High', 'GBP/USD Low']] = 1/USD[['AUD/USD Close', 'AUD/USD Open', 'AUD/USD High', 'AUD/USD Low',\n",
    "       'EUR/USD Close', 'EUR/USD Open', 'EUR/USD High', 'EUR/USD Low',\n",
    "       'GBP/USD Close', 'GBP/USD Open', 'GBP/USD High', 'GBP/USD Low']]"
   ]
  },
  {
   "cell_type": "code",
   "execution_count": 10,
   "id": "43ea42b9",
   "metadata": {},
   "outputs": [],
   "source": [
    "# PLN BASKET, BASE CURRENCY = PLN\n",
    "PLN[['AUD/PLN Close', 'AUD/PLN Open', 'AUD/PLN High', 'AUD/PLN Low',\n",
    "       'EUR/PLN Close', 'EUR/PLN Open', 'EUR/PLN High', 'EUR/PLN Low',\n",
    "       'GBP/PLN Close', 'GBP/PLN Open', 'GBP/PLN High', 'GBP/PLN Low','CHF/PLN Close', 'CHF/PLN Open', 'CHF/PLN High', 'CHF/PLN Low',\n",
    "       'CAD/PLN Close', 'CAD/PLN Open', 'CAD/PLN High', 'CAD/PLN Low','USD/PLN Close','USD/PLN Open','USD/PLN High','USD/PLN Low']] = 1/PLN[['AUD/PLN Close', 'AUD/PLN Open', 'AUD/PLN High', 'AUD/PLN Low',\n",
    "       'EUR/PLN Close', 'EUR/PLN Open', 'EUR/PLN High', 'EUR/PLN Low',\n",
    "       'GBP/PLN Close', 'GBP/PLN Open', 'GBP/PLN High', 'GBP/PLN Low','CHF/PLN Close', 'CHF/PLN Open', 'CHF/PLN High', 'CHF/PLN Low',\n",
    "       'CAD/PLN Close', 'CAD/PLN Open', 'CAD/PLN High', 'CAD/PLN Low','USD/PLN Close','USD/PLN Open','USD/PLN High','USD/PLN Low']]"
   ]
  },
  {
   "cell_type": "code",
   "execution_count": 11,
   "id": "7bf4ec5b",
   "metadata": {},
   "outputs": [],
   "source": [
    "# DROP MOST RECENT MONTH\n",
    "USD = USD[1:].set_index('Date')\n",
    "PLN = PLN[1:].set_index('Date')"
   ]
  },
  {
   "cell_type": "code",
   "execution_count": 12,
   "id": "6e940534",
   "metadata": {},
   "outputs": [
    {
     "name": "stdout",
     "output_type": "stream",
     "text": [
      "Good to go\n"
     ]
    }
   ],
   "source": [
    "# CHECK DATA MATCH, FULLY LOADED ALL DATA #\n",
    "from datetime import *\n",
    "\n",
    "if max(datetime.now().month-USD.index[0].month,datetime.now().month-PLN.index[0].month)>1:\n",
    "    print('Check the data download dates. Shift the start date so the rows downloaded does not > 5000')\n",
    "else:\n",
    "    print('Good to go')"
   ]
  },
  {
   "cell_type": "code",
   "execution_count": 13,
   "id": "a0e54d09",
   "metadata": {},
   "outputs": [],
   "source": [
    "##########################################################################################"
   ]
  },
  {
   "cell_type": "code",
   "execution_count": 14,
   "id": "0e94154d",
   "metadata": {},
   "outputs": [],
   "source": [
    "# EQUAL WEIGHTING FX BASKET - PRICE INDEX #"
   ]
  },
  {
   "cell_type": "code",
   "execution_count": 15,
   "id": "9d258067",
   "metadata": {},
   "outputs": [],
   "source": [
    "# ASSIGNING WEIGHTS \n",
    "traits = ['Open','High', 'Low', 'Close']\n",
    "fx = ['USD','PLN']\n",
    "dict1={0:USD.copy(),1:PLN.copy()}\n",
    "\n",
    "for x in range(len(dict1)):\n",
    "    for y in range(len(traits)):\n",
    "        dict1[x][fx[x]+' '+traits[y]] = np.nan \n",
    "        dict1[x][fx[x]+' '+traits[y]].iloc[0]= dict1[x][dict1[x].columns[dict1[x].columns.str.contains(traits[y], regex=True)]].mean(axis = 1).iloc[0]\n",
    "        dict1[x][fx[x]+' '+traits[y]+' Return'] = (1+(dict1[x][dict1[x].columns[dict1[x].columns.str.contains(traits[y], regex=True)]]/dict1[x][dict1[x].columns[dict1[x].columns.str.contains(traits[y], regex=True)]].shift(1)-1).mean(axis = 1))\n",
    "        dict1[x][fx[x]+' '+traits[y]].iloc[1] = dict1[x][fx[x]+' '+traits[y]].iloc[0]*dict1[x][fx[x]+' '+traits[y]+' Return'].iloc[1]\n",
    "for x in range(len(dict1)):    \n",
    "    dict1[x] = dict1[x][dict1[x].columns[-8:]]\n",
    "for x in range(len(dict1)):\n",
    "    for y in range(len(traits)):\n",
    "        for a in range(len(dict1[x])-2):\n",
    "            dict1[x][fx[x]+' '+traits[y]].iloc[a+2] = dict1[x][fx[x]+' '+traits[y]].iloc[a+1]*dict1[x][fx[x]+' '+traits[y]+' Return'].iloc[a+2]\n",
    "    \n",
    "for x in range(len(dict1)):    \n",
    "    dict1[x] = dict1[x][dict1[x].columns[::2]]"
   ]
  },
  {
   "cell_type": "code",
   "execution_count": 16,
   "id": "78543753",
   "metadata": {},
   "outputs": [],
   "source": [
    "USD_I = dict1[0].copy()\n",
    "PLN_I = dict1[1].copy()"
   ]
  },
  {
   "cell_type": "code",
   "execution_count": 17,
   "id": "ae08585a",
   "metadata": {},
   "outputs": [],
   "source": [
    "##########################################################################################"
   ]
  },
  {
   "cell_type": "code",
   "execution_count": 18,
   "id": "29a215f0",
   "metadata": {},
   "outputs": [],
   "source": [
    "# 3M Yield, Trade Economic Releases\n",
    "# Released 1 Month Delay"
   ]
  },
  {
   "cell_type": "code",
   "execution_count": 19,
   "id": "df06f315",
   "metadata": {},
   "outputs": [],
   "source": [
    "# FRED API\n",
    "from fredapi import Fred\n",
    "fred = Fred(api_key='YOUR-API-KEY')"
   ]
  },
  {
   "cell_type": "code",
   "execution_count": 20,
   "id": "2394919b",
   "metadata": {},
   "outputs": [],
   "source": [
    "# SHIFTING DATE 1M FOR INTEREST RATES, 3M FOR POLAND TRADE, 2M FOR USA TRADE\n",
    "# ALL DATA POINTS ARE UPDATED ON THE 13th of EACH MONTH\n",
    "# MODEL SHOULD BE RUN AT EOM\n",
    "# FIRST SERIES, NO REVISIONS\n",
    "\n",
    "# GETTING 3M YIELDS\n",
    "pol_3m = fred.get_series_first_release('IR3TIB01PLM156N')\n",
    "usa_3m = fred.get_series_first_release('IR3TIB01USM156N')\n",
    "\n",
    "yields = pd.concat([pol_3m,usa_3m], axis = 1).reset_index()\n",
    "yields['date'] = pd.to_datetime(yields['date']) + pd.DateOffset(months=1)\n",
    "\n",
    "# GETTING TRADE BALANCE... not seasonal adjusted\n",
    "# IN PLN\n",
    "pol_import = fred.get_series_first_release('XTIMVA01PLM664N')\n",
    "pol_export = fred.get_series_first_release('XTEXVA01PLM664N')\n",
    "pol_net = fred.get_series_first_release('XTNTVA01PLM664N')\n",
    "\n",
    "pol_trade = pd.concat([pol_import,pol_export,pol_net], axis = 1).reset_index()\n",
    "pol_trade['date'] = pd.to_datetime(pol_trade['date']) + pd.DateOffset(months=3)\n",
    "\n",
    "# IN USD\n",
    "usa_import = fred.get_series_first_release('XTIMVA01USM664N')\n",
    "usa_export = fred.get_series_first_release('XTEXVA01USM664N')\n",
    "usa_net = fred.get_series_first_release('XTNTVA01USM664N')\n",
    "\n",
    "usa_trade = pd.concat([usa_import,usa_export,usa_net], axis = 1).reset_index()\n",
    "usa_trade['date'] = pd.to_datetime(usa_trade['date']) + pd.DateOffset(months=2)"
   ]
  },
  {
   "cell_type": "code",
   "execution_count": 21,
   "id": "365b7b34",
   "metadata": {},
   "outputs": [],
   "source": [
    "# CONCAT ALL ECONOMIC INDICATORS\n",
    "econ_ind = yields.merge(pol_trade.copy(),how = 'inner', on = 'date').merge(usa_trade.copy(),how = 'inner', on = 'date').dropna()\n",
    "econ_ind = econ_ind.reset_index(drop = True)\n",
    "econ_ind.columns = ['Date','PLN 3MY','USD 3MY','PLN Import','PLN Export','PLN Net','USD Import','USD Export','USD Net']"
   ]
  },
  {
   "cell_type": "code",
   "execution_count": 22,
   "id": "e5e3eab1",
   "metadata": {},
   "outputs": [],
   "source": [
    "# TRADE DATA in MILLIONS\n",
    "econ_ind[['PLN Import', 'PLN Export', 'PLN Net',\n",
    "       'USD Import', 'USD Export', 'USD Net']] = econ_ind[['PLN Import', 'PLN Export', 'PLN Net',\n",
    "       'USD Import', 'USD Export', 'USD Net']]/1000000"
   ]
  },
  {
   "cell_type": "code",
   "execution_count": 23,
   "id": "7487d134",
   "metadata": {},
   "outputs": [],
   "source": [
    "##########################################################################################"
   ]
  },
  {
   "cell_type": "code",
   "execution_count": 24,
   "id": "95d3baea",
   "metadata": {},
   "outputs": [],
   "source": [
    "# Merging all into one DF\n",
    "USDPLN = USD_I.copy().reset_index().merge(PLN_I.copy().reset_index(), how = 'inner', on = 'Date')\n",
    "USDPLN = USDPLN.merge(econ_ind.copy(), how = 'inner', on = 'Date')"
   ]
  },
  {
   "cell_type": "code",
   "execution_count": 25,
   "id": "e783865a",
   "metadata": {},
   "outputs": [],
   "source": [
    "# ADDING USD/PLN BACK IN (OUTPUT)\n",
    "email = \"your@email.com\"\n",
    "product_type = \"currency_crosses\"\n",
    "time_frame = \"Monthly\"\n",
    "\n",
    "from_date = '01/01/1996'\n",
    "to_date = dt.datetime.now().strftime('%m/%d/%Y')\n",
    "\n",
    "params = {\n",
    "    \"email\": email,\n",
    "    \"type\": \"historical_data\",\n",
    "    \"product\": product_type,\n",
    "    \"from_date\": from_date,\n",
    "    \"to_date\": to_date,\n",
    "    \"time_frame\": time_frame,\n",
    "    \"name\": 'USD/PLN'\n",
    "}\n",
    "\n",
    "response = requests.get(\"http://api.scraperlink.com/investpy/\", params=params)\n",
    "data = response.json()\n",
    "usd_pln = pd.DataFrame(data['data'])\n",
    "\n",
    "usd_pln = pd.DataFrame(usd_pln[['rowDateTimestamp','last_closeRaw','last_openRaw','last_maxRaw','last_minRaw']].copy())\n",
    "usd_pln.columns = ['Date','USDPLN Close','USDPLN Open','USDPLN High','USDPLN Low']\n",
    "usd_pln['Date'] = pd.to_datetime(usd_pln['Date'].str[:10])\n",
    "usd_pln = usd_pln.set_index('Date')\n",
    "usd_pln = usd_pln.astype(float).reset_index()"
   ]
  },
  {
   "cell_type": "code",
   "execution_count": 26,
   "id": "2d3d0209",
   "metadata": {},
   "outputs": [],
   "source": [
    "# MERGING FINAL DF\n",
    "finaldf = usd_pln.merge(USDPLN.copy(), how = 'inner', on = 'Date')\n",
    "finaldf = finaldf.sort_values(by = 'Date')"
   ]
  },
  {
   "cell_type": "code",
   "execution_count": 27,
   "id": "1ab1dd33",
   "metadata": {},
   "outputs": [],
   "source": [
    "model_data = finaldf.set_index('Date').copy()"
   ]
  },
  {
   "cell_type": "code",
   "execution_count": 28,
   "id": "9213d87e",
   "metadata": {},
   "outputs": [
    {
     "data": {
      "text/plain": [
       "<AxesSubplot:xlabel='Date'>"
      ]
     },
     "execution_count": 28,
     "metadata": {},
     "output_type": "execute_result"
    },
    {
     "data": {
      "image/png": "[encoded data removed]",
      "text/plain": [
       "<Figure size 720x576 with 1 Axes>"
      ]
     },
     "metadata": {
      "needs_background": "light"
     },
     "output_type": "display_data"
    }
   ],
   "source": [
    "# PLOTTING USD/PLN\n",
    "plt.figure(figsize=(10,8))\n",
    "model_data['USDPLN Close'].plot()"
   ]
  },
  {
   "cell_type": "code",
   "execution_count": 29,
   "id": "c2b2d88b",
   "metadata": {},
   "outputs": [
    {
     "data": {
      "text/plain": [
       "PLN Close      -0.703124\n",
       "PLN High       -0.690543\n",
       "PLN Low        -0.678386\n",
       "PLN Open       -0.673625\n",
       "USD Low         0.629477\n",
       "USD Open        0.640475\n",
       "USD Close       0.652783\n",
       "USD High        0.660020\n",
       "USDPLN Open     0.973630\n",
       "USDPLN Low      0.986488\n",
       "USDPLN High     0.990005\n",
       "USDPLN Close    1.000000\n",
       "Name: USDPLN Close, dtype: float64"
      ]
     },
     "execution_count": 29,
     "metadata": {},
     "output_type": "execute_result"
    }
   ],
   "source": [
    "# CORR BEFORE DIFFERENCING\n",
    "model_data.corr()['USDPLN Close'].sort_values()"
   ]
  },
  {
   "cell_type": "code",
   "execution_count": 30,
   "id": "26a56c46",
   "metadata": {},
   "outputs": [
    {
     "data": {
      "text/plain": [
       "<AxesSubplot:>"
      ]
     },
     "execution_count": 30,
     "metadata": {},
     "output_type": "execute_result"
    },
    {
     "data": {
      "image/png": "[encoded data removed]",
      "text/plain": [
       "<Figure size 432x288 with 2 Axes>"
      ]
     },
     "metadata": {
      "needs_background": "light"
     },
     "output_type": "display_data"
    }
   ],
   "source": [
    "sns.heatmap(model_data.corr())"
   ]
  },
  {
   "cell_type": "code",
   "execution_count": 31,
   "id": "8c6e44a2",
   "metadata": {},
   "outputs": [],
   "source": [
    "# CUTTING DOWN INPUTS\n",
    "model_data = model_data[['USDPLN Close','USDPLN Open','USDPLN Low','USDPLN High',\n",
    "            'PLN Close',\n",
    "            'USD Close']].copy()"
   ]
  },
  {
   "cell_type": "code",
   "execution_count": 32,
   "id": "b07ac218",
   "metadata": {},
   "outputs": [
    {
     "name": "stdout",
     "output_type": "stream",
     "text": [
      "USDPLN Close p-value: 0.207589\n",
      "USDPLN Open p-value: 0.191523\n",
      "USDPLN Low p-value: 0.274443\n",
      "USDPLN High p-value: 0.095290\n",
      "PLN Close p-value: 0.026560\n",
      "USD Close p-value: 0.571995\n"
     ]
    }
   ],
   "source": [
    "# Stationary Check\n",
    "from statsmodels.tsa.stattools import adfuller\n",
    "\n",
    "for x in range(len(model_data.columns)):\n",
    "    adf_test = adfuller(model_data[model_data.columns[x]].dropna())\n",
    "    print(str(model_data.columns[x])+' p-value: %f' %adf_test[1])"
   ]
  },
  {
   "cell_type": "code",
   "execution_count": 33,
   "id": "a233b45a",
   "metadata": {
    "scrolled": true
   },
   "outputs": [
    {
     "name": "stdout",
     "output_type": "stream",
     "text": [
      "USDPLN Open p-value: 0.000000\n",
      "USDPLN Low p-value: 0.000000\n",
      "USDPLN High p-value: 0.000000\n",
      "PLN Close p-value: 0.000000\n",
      "USD Close p-value: 0.000000\n"
     ]
    }
   ],
   "source": [
    "# DIFFERENCING + STATIONARITY CHECK\n",
    "for x in range(len(model_data.columns)-1):\n",
    "    model_data[model_data.columns[x+1]] = model_data[model_data.columns[x+1]].diff(1)\n",
    "    adf_test = adfuller(model_data[model_data.columns[x+1]].dropna())\n",
    "    print(str(model_data.columns[x+1])+' p-value: %f' %adf_test[1])"
   ]
  },
  {
   "cell_type": "code",
   "execution_count": 34,
   "id": "2c6ad49e",
   "metadata": {},
   "outputs": [],
   "source": [
    "#############################################"
   ]
  },
  {
   "cell_type": "code",
   "execution_count": 35,
   "id": "5418cef0",
   "metadata": {},
   "outputs": [],
   "source": [
    "#model_data = data.copy().dropna()\n",
    "model_data = model_data.copy().dropna()"
   ]
  },
  {
   "cell_type": "code",
   "execution_count": 36,
   "id": "8d4ab981",
   "metadata": {},
   "outputs": [
    {
     "data": {
      "text/plain": [
       "((316, 7, 6), (316,))"
      ]
     },
     "execution_count": 36,
     "metadata": {},
     "output_type": "execute_result"
    }
   ],
   "source": [
    "def df_to_X_y_mv(df,window_size = 7):\n",
    "    df_as_np = df.to_numpy()\n",
    "    X = []\n",
    "    y = []\n",
    "    for i in range(len(df_as_np)-window_size):\n",
    "        row = [r for r in df_as_np[i:i+window_size]]\n",
    "        X.append(row)\n",
    "        label = df_as_np[i+window_size][0]\n",
    "        y.append(label)\n",
    "    return np.array(X), np.array(y)\n",
    "\n",
    "WINDOW_SIZE = 7\n",
    "X,y = df_to_X_y_mv(model_data, WINDOW_SIZE)\n",
    "X.shape, y.shape"
   ]
  },
  {
   "cell_type": "code",
   "execution_count": 37,
   "id": "c5a58e0c",
   "metadata": {},
   "outputs": [],
   "source": [
    "X_train, y_train = X[:225], y[:225]\n",
    "X_val, y_val = X[225:270], y[225:270]\n",
    "X_test, y_test = X[270:], y[270:]\n",
    "\n",
    "training_mean = np.mean(X_train[:,:,0])\n",
    "training_std = np.std(X_train[:,:,0])\n",
    "\n",
    "def preprocess(X):\n",
    "    X[:,:,0] = (X[:,:,0]- training_mean)/training_std\n",
    "\n",
    "preprocess(X_train)\n",
    "preprocess(X_val)\n",
    "preprocess(X_test)"
   ]
  },
  {
   "cell_type": "code",
   "execution_count": 38,
   "id": "cec8446e",
   "metadata": {},
   "outputs": [
    {
     "data": {
      "text/plain": [
       "((225, 7, 6), (225,), (45, 7, 6), (45,), (46, 7, 6), (46,))"
      ]
     },
     "execution_count": 38,
     "metadata": {},
     "output_type": "execute_result"
    }
   ],
   "source": [
    "X_train.shape, y_train.shape,X_val.shape, y_val.shape,X_test.shape, y_test.shape"
   ]
  },
  {
   "cell_type": "code",
   "execution_count": 27,
   "id": "1fbad828",
   "metadata": {
    "scrolled": true
   },
   "outputs": [
    {
     "name": "stdout",
     "output_type": "stream",
     "text": [
      "Epoch 1/2500\n",
      "1/8 [==>...........................] - ETA: 10s - loss: 11.3697 - root_mean_squared_error: 3.3719"
     ]
    },
    {
     "name": "stderr",
     "output_type": "stream",
     "text": [
      "WARNING:absl:Found untraced functions such as lstm_cell_layer_call_fn, lstm_cell_layer_call_and_return_conditional_losses while saving (showing 2 of 2). These functions will not be directly callable after loading.\n"
     ]
    },
    {
     "name": "stdout",
     "output_type": "stream",
     "text": [
      "INFO:tensorflow:Assets written to: model0\\assets\n"
     ]
    },
    {
     "name": "stderr",
     "output_type": "stream",
     "text": [
      "INFO:tensorflow:Assets written to: model0\\assets\n"
     ]
    },
    {
     "name": "stdout",
     "output_type": "stream",
     "text": [
      "8/8 [==============================] - 5s 509ms/step - loss: 11.1633 - root_mean_squared_error: 3.3411 - val_loss: 13.2605 - val_root_mean_squared_error: 3.6415\n",
      "Epoch 2/2500\n",
      "1/8 [==>...........................] - ETA: 0s - loss: 11.0752 - root_mean_squared_error: 3.3279"
     ]
    },
    {
     "name": "stderr",
     "output_type": "stream",
     "text": [
      "WARNING:absl:Found untraced functions such as lstm_cell_layer_call_fn, lstm_cell_layer_call_and_return_conditional_losses while saving (showing 2 of 2). These functions will not be directly callable after loading.\n"
     ]
    },
    {
     "name": "stdout",
     "output_type": "stream",
     "text": [
      "INFO:tensorflow:Assets written to: model0\\assets\n"
     ]
    },
    {
     "name": "stderr",
     "output_type": "stream",
     "text": [
      "INFO:tensorflow:Assets written to: model0\\assets\n"
     ]
    },
    {
     "name": "stdout",
     "output_type": "stream",
     "text": [
      "8/8 [==============================] - 3s 489ms/step - loss: 10.9953 - root_mean_squared_error: 3.3159 - val_loss: 13.0966 - val_root_mean_squared_error: 3.6189\n",
      "Epoch 3/2500\n",
      "1/8 [==>...........................] - ETA: 0s - loss: 10.7388 - root_mean_squared_error: 3.2770"
     ]
    },
    {
     "name": "stderr",
     "output_type": "stream",
     "text": [
      "WARNING:absl:Found untraced functions such as lstm_cell_layer_call_fn, lstm_cell_layer_call_and_return_conditional_losses while saving (showing 2 of 2). These functions will not be directly callable after loading.\n"
     ]
    },
    {
     "name": "stdout",
     "output_type": "stream",
     "text": [
      "INFO:tensorflow:Assets written to: model0\\assets\n"
     ]
    },
    {
     "name": "stderr",
     "output_type": "stream",
     "text": [
      "INFO:tensorflow:Assets written to: model0\\assets\n"
     ]
    },
    {
     "name": "stdout",
     "output_type": "stream",
     "text": [
      "8/8 [==============================] - 4s 540ms/step - loss: 10.8454 - root_mean_squared_error: 3.2932 - val_loss: 12.9396 - val_root_mean_squared_error: 3.5972\n",
      "Epoch 4/2500\n",
      "1/8 [==>...........................] - ETA: 0s - loss: 10.8260 - root_mean_squared_error: 3.2903"
     ]
    },
    {
     "name": "stderr",
     "output_type": "stream",
     "text": [
      "WARNING:absl:Found untraced functions such as lstm_cell_layer_call_fn, lstm_cell_layer_call_and_return_conditional_losses while saving (showing 2 of 2). These functions will not be directly callable after loading.\n"
     ]
    },
    {
     "name": "stdout",
     "output_type": "stream",
     "text": [
      "INFO:tensorflow:Assets written to: model0\\assets\n"
     ]
    },
    {
     "name": "stderr",
     "output_type": "stream",
     "text": [
      "INFO:tensorflow:Assets written to: model0\\assets\n"
     ]
    },
    {
     "name": "stdout",
     "output_type": "stream",
     "text": [
      "8/8 [==============================] - 4s 523ms/step - loss: 10.7044 - root_mean_squared_error: 3.2718 - val_loss: 12.8047 - val_root_mean_squared_error: 3.5784\n",
      "Epoch 5/2500\n",
      "8/8 [==============================] - ETA: 0s - loss: 10.5639 - root_mean_squared_error: 3.2502"
     ]
    },
    {
     "name": "stderr",
     "output_type": "stream",
     "text": [
      "WARNING:absl:Found untraced functions such as lstm_cell_layer_call_fn, lstm_cell_layer_call_and_return_conditional_losses while saving (showing 2 of 2). These functions will not be directly callable after loading.\n"
     ]
    },
    {
     "name": "stdout",
     "output_type": "stream",
     "text": [
      "INFO:tensorflow:Assets written to: model0\\assets\n"
     ]
    },
    {
     "name": "stderr",
     "output_type": "stream",
     "text": [
      "INFO:tensorflow:Assets written to: model0\\assets\n"
     ]
    },
    {
     "name": "stdout",
     "output_type": "stream",
     "text": [
      "8/8 [==============================] - 4s 540ms/step - loss: 10.5639 - root_mean_squared_error: 3.2502 - val_loss: 12.6770 - val_root_mean_squared_error: 3.5605\n",
      "Epoch 6/2500\n",
      "1/8 [==>...........................] - ETA: 0s - loss: 10.5050 - root_mean_squared_error: 3.2411"
     ]
    },
    {
     "name": "stderr",
     "output_type": "stream",
     "text": [
      "WARNING:absl:Found untraced functions such as lstm_cell_layer_call_fn, lstm_cell_layer_call_and_return_conditional_losses while saving (showing 2 of 2). These functions will not be directly callable after loading.\n"
     ]
    },
    {
     "name": "stdout",
     "output_type": "stream",
     "text": [
      "INFO:tensorflow:Assets written to: model0\\assets\n"
     ]
    },
    {
     "name": "stderr",
     "output_type": "stream",
     "text": [
      "INFO:tensorflow:Assets written to: model0\\assets\n"
     ]
    },
    {
     "name": "stdout",
     "output_type": "stream",
     "text": [
      "8/8 [==============================] - 3s 474ms/step - loss: 10.4277 - root_mean_squared_error: 3.2292 - val_loss: 12.5402 - val_root_mean_squared_error: 3.5412\n",
      "Epoch 7/2500\n",
      "1/8 [==>...........................] - ETA: 0s - loss: 10.7265 - root_mean_squared_error: 3.2751"
     ]
    },
    {
     "name": "stderr",
     "output_type": "stream",
     "text": [
      "WARNING:absl:Found untraced functions such as lstm_cell_layer_call_fn, lstm_cell_layer_call_and_return_conditional_losses while saving (showing 2 of 2). These functions will not be directly callable after loading.\n"
     ]
    },
    {
     "name": "stdout",
     "output_type": "stream",
     "text": [
      "INFO:tensorflow:Assets written to: model0\\assets\n"
     ]
    },
    {
     "name": "stderr",
     "output_type": "stream",
     "text": [
      "INFO:tensorflow:Assets written to: model0\\assets\n"
     ]
    },
    {
     "name": "stdout",
     "output_type": "stream",
     "text": [
      "8/8 [==============================] - 4s 526ms/step - loss: 10.2881 - root_mean_squared_error: 3.2075 - val_loss: 12.3996 - val_root_mean_squared_error: 3.5213\n",
      "Epoch 8/2500\n",
      "1/8 [==>...........................] - ETA: 0s - loss: 10.6461 - root_mean_squared_error: 3.2628"
     ]
    },
    {
     "name": "stderr",
     "output_type": "stream",
     "text": [
      "WARNING:absl:Found untraced functions such as lstm_cell_layer_call_fn, lstm_cell_layer_call_and_return_conditional_losses while saving (showing 2 of 2). These functions will not be directly callable after loading.\n"
     ]
    },
    {
     "name": "stdout",
     "output_type": "stream",
     "text": [
      "INFO:tensorflow:Assets written to: model0\\assets\n"
     ]
    },
    {
     "name": "stderr",
     "output_type": "stream",
     "text": [
      "INFO:tensorflow:Assets written to: model0\\assets\n"
     ]
    },
    {
     "name": "stdout",
     "output_type": "stream",
     "text": [
      "8/8 [==============================] - 3s 462ms/step - loss: 10.1545 - root_mean_squared_error: 3.1866 - val_loss: 12.2432 - val_root_mean_squared_error: 3.4990\n",
      "Epoch 9/2500\n",
      "1/8 [==>...........................] - ETA: 0s - loss: 10.3266 - root_mean_squared_error: 3.2135"
     ]
    },
    {
     "name": "stderr",
     "output_type": "stream",
     "text": [
      "WARNING:absl:Found untraced functions such as lstm_cell_layer_call_fn, lstm_cell_layer_call_and_return_conditional_losses while saving (showing 2 of 2). These functions will not be directly callable after loading.\n"
     ]
    },
    {
     "name": "stdout",
     "output_type": "stream",
     "text": [
      "INFO:tensorflow:Assets written to: model0\\assets\n"
     ]
    },
    {
     "name": "stderr",
     "output_type": "stream",
     "text": [
      "INFO:tensorflow:Assets written to: model0\\assets\n"
     ]
    },
    {
     "name": "stdout",
     "output_type": "stream",
     "text": [
      "8/8 [==============================] - 3s 488ms/step - loss: 10.0083 - root_mean_squared_error: 3.1636 - val_loss: 12.0541 - val_root_mean_squared_error: 3.4719\n",
      "Epoch 10/2500\n",
      "1/8 [==>...........................] - ETA: 0s - loss: 9.3120 - root_mean_squared_error: 3.0516"
     ]
    },
    {
     "name": "stderr",
     "output_type": "stream",
     "text": [
      "WARNING:absl:Found untraced functions such as lstm_cell_layer_call_fn, lstm_cell_layer_call_and_return_conditional_losses while saving (showing 2 of 2). These functions will not be directly callable after loading.\n"
     ]
    },
    {
     "name": "stdout",
     "output_type": "stream",
     "text": [
      "INFO:tensorflow:Assets written to: model0\\assets\n"
     ]
    },
    {
     "name": "stderr",
     "output_type": "stream",
     "text": [
      "INFO:tensorflow:Assets written to: model0\\assets\n"
     ]
    },
    {
     "name": "stdout",
     "output_type": "stream",
     "text": [
      "8/8 [==============================] - 4s 521ms/step - loss: 9.8476 - root_mean_squared_error: 3.1381 - val_loss: 11.8544 - val_root_mean_squared_error: 3.4430\n",
      "Epoch 11/2500\n",
      "1/8 [==>...........................] - ETA: 0s - loss: 9.5762 - root_mean_squared_error: 3.0945"
     ]
    },
    {
     "name": "stderr",
     "output_type": "stream",
     "text": [
      "WARNING:absl:Found untraced functions such as lstm_cell_layer_call_fn, lstm_cell_layer_call_and_return_conditional_losses while saving (showing 2 of 2). These functions will not be directly callable after loading.\n"
     ]
    },
    {
     "name": "stdout",
     "output_type": "stream",
     "text": [
      "INFO:tensorflow:Assets written to: model0\\assets\n"
     ]
    },
    {
     "name": "stderr",
     "output_type": "stream",
     "text": [
      "INFO:tensorflow:Assets written to: model0\\assets\n"
     ]
    },
    {
     "name": "stdout",
     "output_type": "stream",
     "text": [
      "8/8 [==============================] - 3s 474ms/step - loss: 9.6866 - root_mean_squared_error: 3.1123 - val_loss: 11.6599 - val_root_mean_squared_error: 3.4147\n",
      "Epoch 12/2500\n",
      "1/8 [==>...........................] - ETA: 0s - loss: 9.9923 - root_mean_squared_error: 3.1611"
     ]
    },
    {
     "name": "stderr",
     "output_type": "stream",
     "text": [
      "WARNING:absl:Found untraced functions such as lstm_cell_layer_call_fn, lstm_cell_layer_call_and_return_conditional_losses while saving (showing 2 of 2). These functions will not be directly callable after loading.\n"
     ]
    },
    {
     "name": "stdout",
     "output_type": "stream",
     "text": [
      "INFO:tensorflow:Assets written to: model0\\assets\n"
     ]
    },
    {
     "name": "stderr",
     "output_type": "stream",
     "text": [
      "INFO:tensorflow:Assets written to: model0\\assets\n"
     ]
    },
    {
     "name": "stdout",
     "output_type": "stream",
     "text": [
      "8/8 [==============================] - 3s 467ms/step - loss: 9.5176 - root_mean_squared_error: 3.0851 - val_loss: 11.4326 - val_root_mean_squared_error: 3.3812\n",
      "Epoch 13/2500\n",
      "1/8 [==>...........................] - ETA: 0s - loss: 8.5704 - root_mean_squared_error: 2.9275"
     ]
    },
    {
     "name": "stderr",
     "output_type": "stream",
     "text": [
      "WARNING:absl:Found untraced functions such as lstm_cell_layer_call_fn, lstm_cell_layer_call_and_return_conditional_losses while saving (showing 2 of 2). These functions will not be directly callable after loading.\n"
     ]
    },
    {
     "name": "stdout",
     "output_type": "stream",
     "text": [
      "INFO:tensorflow:Assets written to: model0\\assets\n"
     ]
    },
    {
     "name": "stderr",
     "output_type": "stream",
     "text": [
      "INFO:tensorflow:Assets written to: model0\\assets\n"
     ]
    },
    {
     "name": "stdout",
     "output_type": "stream",
     "text": [
      "8/8 [==============================] - 4s 555ms/step - loss: 9.3353 - root_mean_squared_error: 3.0554 - val_loss: 11.2277 - val_root_mean_squared_error: 3.3508\n",
      "Epoch 14/2500\n",
      "1/8 [==>...........................] - ETA: 0s - loss: 9.3063 - root_mean_squared_error: 3.0506"
     ]
    },
    {
     "name": "stderr",
     "output_type": "stream",
     "text": [
      "WARNING:absl:Found untraced functions such as lstm_cell_layer_call_fn, lstm_cell_layer_call_and_return_conditional_losses while saving (showing 2 of 2). These functions will not be directly callable after loading.\n"
     ]
    },
    {
     "name": "stdout",
     "output_type": "stream",
     "text": [
      "INFO:tensorflow:Assets written to: model0\\assets\n"
     ]
    },
    {
     "name": "stderr",
     "output_type": "stream",
     "text": [
      "INFO:tensorflow:Assets written to: model0\\assets\n"
     ]
    },
    {
     "name": "stdout",
     "output_type": "stream",
     "text": [
      "8/8 [==============================] - 3s 483ms/step - loss: 9.1556 - root_mean_squared_error: 3.0258 - val_loss: 11.0227 - val_root_mean_squared_error: 3.3200\n",
      "Epoch 15/2500\n",
      "1/8 [==>...........................] - ETA: 0s - loss: 8.4882 - root_mean_squared_error: 2.9135"
     ]
    },
    {
     "name": "stderr",
     "output_type": "stream",
     "text": [
      "WARNING:absl:Found untraced functions such as lstm_cell_layer_call_fn, lstm_cell_layer_call_and_return_conditional_losses while saving (showing 2 of 2). These functions will not be directly callable after loading.\n"
     ]
    },
    {
     "name": "stdout",
     "output_type": "stream",
     "text": [
      "INFO:tensorflow:Assets written to: model0\\assets\n"
     ]
    },
    {
     "name": "stderr",
     "output_type": "stream",
     "text": [
      "INFO:tensorflow:Assets written to: model0\\assets\n"
     ]
    },
    {
     "name": "stdout",
     "output_type": "stream",
     "text": [
      "8/8 [==============================] - 4s 524ms/step - loss: 8.9634 - root_mean_squared_error: 2.9939 - val_loss: 10.8067 - val_root_mean_squared_error: 3.2873\n",
      "Epoch 16/2500\n",
      "1/8 [==>...........................] - ETA: 0s - loss: 9.1775 - root_mean_squared_error: 3.0294"
     ]
    },
    {
     "name": "stderr",
     "output_type": "stream",
     "text": [
      "WARNING:absl:Found untraced functions such as lstm_cell_layer_call_fn, lstm_cell_layer_call_and_return_conditional_losses while saving (showing 2 of 2). These functions will not be directly callable after loading.\n"
     ]
    },
    {
     "name": "stdout",
     "output_type": "stream",
     "text": [
      "INFO:tensorflow:Assets written to: model0\\assets\n"
     ]
    },
    {
     "name": "stderr",
     "output_type": "stream",
     "text": [
      "INFO:tensorflow:Assets written to: model0\\assets\n"
     ]
    },
    {
     "name": "stdout",
     "output_type": "stream",
     "text": [
      "8/8 [==============================] - 3s 478ms/step - loss: 8.7584 - root_mean_squared_error: 2.9595 - val_loss: 10.5258 - val_root_mean_squared_error: 3.2443\n",
      "Epoch 17/2500\n",
      "1/8 [==>...........................] - ETA: 0s - loss: 8.7740 - root_mean_squared_error: 2.9621"
     ]
    },
    {
     "name": "stderr",
     "output_type": "stream",
     "text": [
      "WARNING:absl:Found untraced functions such as lstm_cell_layer_call_fn, lstm_cell_layer_call_and_return_conditional_losses while saving (showing 2 of 2). These functions will not be directly callable after loading.\n"
     ]
    },
    {
     "name": "stdout",
     "output_type": "stream",
     "text": [
      "INFO:tensorflow:Assets written to: model0\\assets\n"
     ]
    },
    {
     "name": "stderr",
     "output_type": "stream",
     "text": [
      "INFO:tensorflow:Assets written to: model0\\assets\n"
     ]
    },
    {
     "name": "stdout",
     "output_type": "stream",
     "text": [
      "8/8 [==============================] - 3s 462ms/step - loss: 8.5326 - root_mean_squared_error: 2.9211 - val_loss: 10.2260 - val_root_mean_squared_error: 3.1978\n",
      "Epoch 18/2500\n",
      "1/8 [==>...........................] - ETA: 0s - loss: 8.3663 - root_mean_squared_error: 2.8925"
     ]
    },
    {
     "name": "stderr",
     "output_type": "stream",
     "text": [
      "WARNING:absl:Found untraced functions such as lstm_cell_layer_call_fn, lstm_cell_layer_call_and_return_conditional_losses while saving (showing 2 of 2). These functions will not be directly callable after loading.\n"
     ]
    },
    {
     "name": "stdout",
     "output_type": "stream",
     "text": [
      "INFO:tensorflow:Assets written to: model0\\assets\n"
     ]
    },
    {
     "name": "stderr",
     "output_type": "stream",
     "text": [
      "INFO:tensorflow:Assets written to: model0\\assets\n"
     ]
    },
    {
     "name": "stdout",
     "output_type": "stream",
     "text": [
      "8/8 [==============================] - 4s 514ms/step - loss: 8.3084 - root_mean_squared_error: 2.8824 - val_loss: 9.9445 - val_root_mean_squared_error: 3.1535\n",
      "Epoch 19/2500\n",
      "1/8 [==>...........................] - ETA: 0s - loss: 8.2721 - root_mean_squared_error: 2.8761"
     ]
    },
    {
     "name": "stderr",
     "output_type": "stream",
     "text": [
      "WARNING:absl:Found untraced functions such as lstm_cell_layer_call_fn, lstm_cell_layer_call_and_return_conditional_losses while saving (showing 2 of 2). These functions will not be directly callable after loading.\n"
     ]
    },
    {
     "name": "stdout",
     "output_type": "stream",
     "text": [
      "INFO:tensorflow:Assets written to: model0\\assets\n"
     ]
    },
    {
     "name": "stderr",
     "output_type": "stream",
     "text": [
      "INFO:tensorflow:Assets written to: model0\\assets\n"
     ]
    },
    {
     "name": "stdout",
     "output_type": "stream",
     "text": [
      "8/8 [==============================] - 3s 450ms/step - loss: 8.0761 - root_mean_squared_error: 2.8419 - val_loss: 9.6615 - val_root_mean_squared_error: 3.1083\n",
      "Epoch 20/2500\n",
      "1/8 [==>...........................] - ETA: 0s - loss: 8.6055 - root_mean_squared_error: 2.9335"
     ]
    },
    {
     "name": "stderr",
     "output_type": "stream",
     "text": [
      "WARNING:absl:Found untraced functions such as lstm_cell_layer_call_fn, lstm_cell_layer_call_and_return_conditional_losses while saving (showing 2 of 2). These functions will not be directly callable after loading.\n"
     ]
    },
    {
     "name": "stdout",
     "output_type": "stream",
     "text": [
      "INFO:tensorflow:Assets written to: model0\\assets\n"
     ]
    },
    {
     "name": "stderr",
     "output_type": "stream",
     "text": [
      "INFO:tensorflow:Assets written to: model0\\assets\n"
     ]
    },
    {
     "name": "stdout",
     "output_type": "stream",
     "text": [
      "8/8 [==============================] - 3s 455ms/step - loss: 7.8336 - root_mean_squared_error: 2.7989 - val_loss: 9.3358 - val_root_mean_squared_error: 3.0555\n",
      "Epoch 21/2500\n",
      "1/8 [==>...........................] - ETA: 0s - loss: 7.7488 - root_mean_squared_error: 2.7837"
     ]
    },
    {
     "name": "stderr",
     "output_type": "stream",
     "text": [
      "WARNING:absl:Found untraced functions such as lstm_cell_layer_call_fn, lstm_cell_layer_call_and_return_conditional_losses while saving (showing 2 of 2). These functions will not be directly callable after loading.\n"
     ]
    },
    {
     "name": "stdout",
     "output_type": "stream",
     "text": [
      "INFO:tensorflow:Assets written to: model0\\assets\n"
     ]
    },
    {
     "name": "stderr",
     "output_type": "stream",
     "text": [
      "INFO:tensorflow:Assets written to: model0\\assets\n"
     ]
    },
    {
     "name": "stdout",
     "output_type": "stream",
     "text": [
      "8/8 [==============================] - 3s 497ms/step - loss: 7.5763 - root_mean_squared_error: 2.7525 - val_loss: 8.9794 - val_root_mean_squared_error: 2.9966\n",
      "Epoch 22/2500\n",
      "1/8 [==>...........................] - ETA: 0s - loss: 7.3106 - root_mean_squared_error: 2.7038"
     ]
    },
    {
     "name": "stderr",
     "output_type": "stream",
     "text": [
      "WARNING:absl:Found untraced functions such as lstm_cell_layer_call_fn, lstm_cell_layer_call_and_return_conditional_losses while saving (showing 2 of 2). These functions will not be directly callable after loading.\n"
     ]
    },
    {
     "name": "stdout",
     "output_type": "stream",
     "text": [
      "INFO:tensorflow:Assets written to: model0\\assets\n"
     ]
    },
    {
     "name": "stderr",
     "output_type": "stream",
     "text": [
      "INFO:tensorflow:Assets written to: model0\\assets\n"
     ]
    },
    {
     "name": "stdout",
     "output_type": "stream",
     "text": [
      "8/8 [==============================] - 3s 446ms/step - loss: 7.3007 - root_mean_squared_error: 2.7020 - val_loss: 8.5855 - val_root_mean_squared_error: 2.9301\n",
      "Epoch 23/2500\n",
      "1/8 [==>...........................] - ETA: 0s - loss: 6.8793 - root_mean_squared_error: 2.6228"
     ]
    },
    {
     "name": "stderr",
     "output_type": "stream",
     "text": [
      "WARNING:absl:Found untraced functions such as lstm_cell_layer_call_fn, lstm_cell_layer_call_and_return_conditional_losses while saving (showing 2 of 2). These functions will not be directly callable after loading.\n"
     ]
    },
    {
     "name": "stdout",
     "output_type": "stream",
     "text": [
      "INFO:tensorflow:Assets written to: model0\\assets\n"
     ]
    },
    {
     "name": "stderr",
     "output_type": "stream",
     "text": [
      "INFO:tensorflow:Assets written to: model0\\assets\n"
     ]
    },
    {
     "name": "stdout",
     "output_type": "stream",
     "text": [
      "8/8 [==============================] - 3s 449ms/step - loss: 7.0115 - root_mean_squared_error: 2.6479 - val_loss: 8.2070 - val_root_mean_squared_error: 2.8648\n",
      "Epoch 24/2500\n",
      "1/8 [==>...........................] - ETA: 0s - loss: 6.2463 - root_mean_squared_error: 2.4993"
     ]
    },
    {
     "name": "stderr",
     "output_type": "stream",
     "text": [
      "WARNING:absl:Found untraced functions such as lstm_cell_layer_call_fn, lstm_cell_layer_call_and_return_conditional_losses while saving (showing 2 of 2). These functions will not be directly callable after loading.\n"
     ]
    },
    {
     "name": "stdout",
     "output_type": "stream",
     "text": [
      "INFO:tensorflow:Assets written to: model0\\assets\n"
     ]
    },
    {
     "name": "stderr",
     "output_type": "stream",
     "text": [
      "INFO:tensorflow:Assets written to: model0\\assets\n"
     ]
    },
    {
     "name": "stdout",
     "output_type": "stream",
     "text": [
      "8/8 [==============================] - 3s 498ms/step - loss: 6.7137 - root_mean_squared_error: 2.5911 - val_loss: 7.7966 - val_root_mean_squared_error: 2.7922\n",
      "Epoch 25/2500\n",
      "1/8 [==>...........................] - ETA: 0s - loss: 6.8560 - root_mean_squared_error: 2.6184"
     ]
    },
    {
     "name": "stderr",
     "output_type": "stream",
     "text": [
      "WARNING:absl:Found untraced functions such as lstm_cell_layer_call_fn, lstm_cell_layer_call_and_return_conditional_losses while saving (showing 2 of 2). These functions will not be directly callable after loading.\n"
     ]
    },
    {
     "name": "stdout",
     "output_type": "stream",
     "text": [
      "INFO:tensorflow:Assets written to: model0\\assets\n"
     ]
    },
    {
     "name": "stderr",
     "output_type": "stream",
     "text": [
      "INFO:tensorflow:Assets written to: model0\\assets\n"
     ]
    },
    {
     "name": "stdout",
     "output_type": "stream",
     "text": [
      "8/8 [==============================] - 3s 462ms/step - loss: 6.4130 - root_mean_squared_error: 2.5324 - val_loss: 7.3499 - val_root_mean_squared_error: 2.7111\n",
      "Epoch 26/2500\n",
      "1/8 [==>...........................] - ETA: 0s - loss: 6.1759 - root_mean_squared_error: 2.4851"
     ]
    },
    {
     "name": "stderr",
     "output_type": "stream",
     "text": [
      "WARNING:absl:Found untraced functions such as lstm_cell_layer_call_fn, lstm_cell_layer_call_and_return_conditional_losses while saving (showing 2 of 2). These functions will not be directly callable after loading.\n"
     ]
    },
    {
     "name": "stdout",
     "output_type": "stream",
     "text": [
      "INFO:tensorflow:Assets written to: model0\\assets\n"
     ]
    },
    {
     "name": "stderr",
     "output_type": "stream",
     "text": [
      "INFO:tensorflow:Assets written to: model0\\assets\n"
     ]
    },
    {
     "name": "stdout",
     "output_type": "stream",
     "text": [
      "8/8 [==============================] - 3s 448ms/step - loss: 6.0848 - root_mean_squared_error: 2.4667 - val_loss: 6.8588 - val_root_mean_squared_error: 2.6189\n",
      "Epoch 27/2500\n",
      "1/8 [==>...........................] - ETA: 0s - loss: 6.1314 - root_mean_squared_error: 2.4762"
     ]
    },
    {
     "name": "stderr",
     "output_type": "stream",
     "text": [
      "WARNING:absl:Found untraced functions such as lstm_cell_layer_call_fn, lstm_cell_layer_call_and_return_conditional_losses while saving (showing 2 of 2). These functions will not be directly callable after loading.\n"
     ]
    },
    {
     "name": "stdout",
     "output_type": "stream",
     "text": [
      "INFO:tensorflow:Assets written to: model0\\assets\n"
     ]
    },
    {
     "name": "stderr",
     "output_type": "stream",
     "text": [
      "INFO:tensorflow:Assets written to: model0\\assets\n"
     ]
    },
    {
     "name": "stdout",
     "output_type": "stream",
     "text": [
      "8/8 [==============================] - 4s 506ms/step - loss: 5.7530 - root_mean_squared_error: 2.3985 - val_loss: 6.4087 - val_root_mean_squared_error: 2.5315\n",
      "Epoch 28/2500\n",
      "1/8 [==>...........................] - ETA: 0s - loss: 5.4796 - root_mean_squared_error: 2.3409"
     ]
    },
    {
     "name": "stderr",
     "output_type": "stream",
     "text": [
      "WARNING:absl:Found untraced functions such as lstm_cell_layer_call_fn, lstm_cell_layer_call_and_return_conditional_losses while saving (showing 2 of 2). These functions will not be directly callable after loading.\n"
     ]
    },
    {
     "name": "stdout",
     "output_type": "stream",
     "text": [
      "INFO:tensorflow:Assets written to: model0\\assets\n"
     ]
    },
    {
     "name": "stderr",
     "output_type": "stream",
     "text": [
      "INFO:tensorflow:Assets written to: model0\\assets\n"
     ]
    },
    {
     "name": "stdout",
     "output_type": "stream",
     "text": [
      "8/8 [==============================] - 3s 481ms/step - loss: 5.4230 - root_mean_squared_error: 2.3287 - val_loss: 5.9813 - val_root_mean_squared_error: 2.4457\n",
      "Epoch 29/2500\n",
      "1/8 [==>...........................] - ETA: 0s - loss: 5.6126 - root_mean_squared_error: 2.3691"
     ]
    },
    {
     "name": "stderr",
     "output_type": "stream",
     "text": [
      "WARNING:absl:Found untraced functions such as lstm_cell_layer_call_fn, lstm_cell_layer_call_and_return_conditional_losses while saving (showing 2 of 2). These functions will not be directly callable after loading.\n"
     ]
    },
    {
     "name": "stdout",
     "output_type": "stream",
     "text": [
      "INFO:tensorflow:Assets written to: model0\\assets\n"
     ]
    },
    {
     "name": "stderr",
     "output_type": "stream",
     "text": [
      "INFO:tensorflow:Assets written to: model0\\assets\n"
     ]
    },
    {
     "name": "stdout",
     "output_type": "stream",
     "text": [
      "8/8 [==============================] - 3s 490ms/step - loss: 5.0916 - root_mean_squared_error: 2.2565 - val_loss: 5.5642 - val_root_mean_squared_error: 2.3589\n",
      "Epoch 30/2500\n",
      "1/8 [==>...........................] - ETA: 0s - loss: 4.6887 - root_mean_squared_error: 2.1653"
     ]
    },
    {
     "name": "stderr",
     "output_type": "stream",
     "text": [
      "WARNING:absl:Found untraced functions such as lstm_cell_layer_call_fn, lstm_cell_layer_call_and_return_conditional_losses while saving (showing 2 of 2). These functions will not be directly callable after loading.\n"
     ]
    },
    {
     "name": "stdout",
     "output_type": "stream",
     "text": [
      "INFO:tensorflow:Assets written to: model0\\assets\n"
     ]
    },
    {
     "name": "stderr",
     "output_type": "stream",
     "text": [
      "INFO:tensorflow:Assets written to: model0\\assets\n"
     ]
    },
    {
     "name": "stdout",
     "output_type": "stream",
     "text": [
      "8/8 [==============================] - 4s 521ms/step - loss: 4.7572 - root_mean_squared_error: 2.1811 - val_loss: 5.1463 - val_root_mean_squared_error: 2.2685\n",
      "Epoch 31/2500\n",
      "1/8 [==>...........................] - ETA: 0s - loss: 4.9253 - root_mean_squared_error: 2.2193"
     ]
    },
    {
     "name": "stderr",
     "output_type": "stream",
     "text": [
      "WARNING:absl:Found untraced functions such as lstm_cell_layer_call_fn, lstm_cell_layer_call_and_return_conditional_losses while saving (showing 2 of 2). These functions will not be directly callable after loading.\n"
     ]
    },
    {
     "name": "stdout",
     "output_type": "stream",
     "text": [
      "INFO:tensorflow:Assets written to: model0\\assets\n"
     ]
    },
    {
     "name": "stderr",
     "output_type": "stream",
     "text": [
      "INFO:tensorflow:Assets written to: model0\\assets\n"
     ]
    },
    {
     "name": "stdout",
     "output_type": "stream",
     "text": [
      "8/8 [==============================] - 3s 490ms/step - loss: 4.4232 - root_mean_squared_error: 2.1031 - val_loss: 4.6879 - val_root_mean_squared_error: 2.1652\n",
      "Epoch 32/2500\n",
      "1/8 [==>...........................] - ETA: 0s - loss: 5.2949 - root_mean_squared_error: 2.3011"
     ]
    },
    {
     "name": "stderr",
     "output_type": "stream",
     "text": [
      "WARNING:absl:Found untraced functions such as lstm_cell_layer_call_fn, lstm_cell_layer_call_and_return_conditional_losses while saving (showing 2 of 2). These functions will not be directly callable after loading.\n"
     ]
    },
    {
     "name": "stdout",
     "output_type": "stream",
     "text": [
      "INFO:tensorflow:Assets written to: model0\\assets\n"
     ]
    },
    {
     "name": "stderr",
     "output_type": "stream",
     "text": [
      "INFO:tensorflow:Assets written to: model0\\assets\n"
     ]
    },
    {
     "name": "stdout",
     "output_type": "stream",
     "text": [
      "8/8 [==============================] - 4s 512ms/step - loss: 4.1015 - root_mean_squared_error: 2.0252 - val_loss: 4.2987 - val_root_mean_squared_error: 2.0733\n",
      "Epoch 33/2500\n",
      "1/8 [==>...........................] - ETA: 0s - loss: 4.3595 - root_mean_squared_error: 2.0879"
     ]
    },
    {
     "name": "stderr",
     "output_type": "stream",
     "text": [
      "WARNING:absl:Found untraced functions such as lstm_cell_layer_call_fn, lstm_cell_layer_call_and_return_conditional_losses while saving (showing 2 of 2). These functions will not be directly callable after loading.\n"
     ]
    },
    {
     "name": "stdout",
     "output_type": "stream",
     "text": [
      "INFO:tensorflow:Assets written to: model0\\assets\n"
     ]
    },
    {
     "name": "stderr",
     "output_type": "stream",
     "text": [
      "INFO:tensorflow:Assets written to: model0\\assets\n"
     ]
    },
    {
     "name": "stdout",
     "output_type": "stream",
     "text": [
      "8/8 [==============================] - 3s 445ms/step - loss: 3.7986 - root_mean_squared_error: 1.9490 - val_loss: 3.9510 - val_root_mean_squared_error: 1.9877\n",
      "Epoch 34/2500\n",
      "1/8 [==>...........................] - ETA: 0s - loss: 3.4936 - root_mean_squared_error: 1.8691"
     ]
    },
    {
     "name": "stderr",
     "output_type": "stream",
     "text": [
      "WARNING:absl:Found untraced functions such as lstm_cell_layer_call_fn, lstm_cell_layer_call_and_return_conditional_losses while saving (showing 2 of 2). These functions will not be directly callable after loading.\n"
     ]
    },
    {
     "name": "stdout",
     "output_type": "stream",
     "text": [
      "INFO:tensorflow:Assets written to: model0\\assets\n"
     ]
    },
    {
     "name": "stderr",
     "output_type": "stream",
     "text": [
      "INFO:tensorflow:Assets written to: model0\\assets\n"
     ]
    },
    {
     "name": "stdout",
     "output_type": "stream",
     "text": [
      "8/8 [==============================] - 3s 450ms/step - loss: 3.5149 - root_mean_squared_error: 1.8748 - val_loss: 3.6262 - val_root_mean_squared_error: 1.9043\n",
      "Epoch 35/2500\n",
      "1/8 [==>...........................] - ETA: 0s - loss: 3.6077 - root_mean_squared_error: 1.8994"
     ]
    },
    {
     "name": "stderr",
     "output_type": "stream",
     "text": [
      "WARNING:absl:Found untraced functions such as lstm_cell_layer_call_fn, lstm_cell_layer_call_and_return_conditional_losses while saving (showing 2 of 2). These functions will not be directly callable after loading.\n"
     ]
    },
    {
     "name": "stdout",
     "output_type": "stream",
     "text": [
      "INFO:tensorflow:Assets written to: model0\\assets\n"
     ]
    },
    {
     "name": "stderr",
     "output_type": "stream",
     "text": [
      "INFO:tensorflow:Assets written to: model0\\assets\n"
     ]
    },
    {
     "name": "stdout",
     "output_type": "stream",
     "text": [
      "8/8 [==============================] - 3s 490ms/step - loss: 3.2439 - root_mean_squared_error: 1.8011 - val_loss: 3.3090 - val_root_mean_squared_error: 1.8191\n",
      "Epoch 36/2500\n",
      "6/8 [=====================>........] - ETA: 0s - loss: 3.0375 - root_mean_squared_error: 1.7428"
     ]
    },
    {
     "name": "stderr",
     "output_type": "stream",
     "text": [
      "WARNING:absl:Found untraced functions such as lstm_cell_layer_call_fn, lstm_cell_layer_call_and_return_conditional_losses while saving (showing 2 of 2). These functions will not be directly callable after loading.\n"
     ]
    },
    {
     "name": "stdout",
     "output_type": "stream",
     "text": [
      "INFO:tensorflow:Assets written to: model0\\assets\n"
     ]
    },
    {
     "name": "stderr",
     "output_type": "stream",
     "text": [
      "INFO:tensorflow:Assets written to: model0\\assets\n"
     ]
    },
    {
     "name": "stdout",
     "output_type": "stream",
     "text": [
      "8/8 [==============================] - 3s 460ms/step - loss: 2.9966 - root_mean_squared_error: 1.7311 - val_loss: 3.0082 - val_root_mean_squared_error: 1.7344\n",
      "Epoch 37/2500\n",
      "1/8 [==>...........................] - ETA: 0s - loss: 3.6837 - root_mean_squared_error: 1.9193"
     ]
    },
    {
     "name": "stderr",
     "output_type": "stream",
     "text": [
      "WARNING:absl:Found untraced functions such as lstm_cell_layer_call_fn, lstm_cell_layer_call_and_return_conditional_losses while saving (showing 2 of 2). These functions will not be directly callable after loading.\n"
     ]
    },
    {
     "name": "stdout",
     "output_type": "stream",
     "text": [
      "INFO:tensorflow:Assets written to: model0\\assets\n"
     ]
    },
    {
     "name": "stderr",
     "output_type": "stream",
     "text": [
      "INFO:tensorflow:Assets written to: model0\\assets\n"
     ]
    },
    {
     "name": "stdout",
     "output_type": "stream",
     "text": [
      "8/8 [==============================] - 3s 462ms/step - loss: 2.7666 - root_mean_squared_error: 1.6633 - val_loss: 2.7900 - val_root_mean_squared_error: 1.6703\n",
      "Epoch 38/2500\n",
      "1/8 [==>...........................] - ETA: 0s - loss: 2.9006 - root_mean_squared_error: 1.7031"
     ]
    },
    {
     "name": "stderr",
     "output_type": "stream",
     "text": [
      "WARNING:absl:Found untraced functions such as lstm_cell_layer_call_fn, lstm_cell_layer_call_and_return_conditional_losses while saving (showing 2 of 2). These functions will not be directly callable after loading.\n"
     ]
    },
    {
     "name": "stdout",
     "output_type": "stream",
     "text": [
      "INFO:tensorflow:Assets written to: model0\\assets\n"
     ]
    },
    {
     "name": "stderr",
     "output_type": "stream",
     "text": [
      "INFO:tensorflow:Assets written to: model0\\assets\n"
     ]
    },
    {
     "name": "stdout",
     "output_type": "stream",
     "text": [
      "8/8 [==============================] - 4s 507ms/step - loss: 2.5508 - root_mean_squared_error: 1.5971 - val_loss: 2.6267 - val_root_mean_squared_error: 1.6207\n",
      "Epoch 39/2500\n",
      "1/8 [==>...........................] - ETA: 0s - loss: 2.9811 - root_mean_squared_error: 1.7266"
     ]
    },
    {
     "name": "stderr",
     "output_type": "stream",
     "text": [
      "WARNING:absl:Found untraced functions such as lstm_cell_layer_call_fn, lstm_cell_layer_call_and_return_conditional_losses while saving (showing 2 of 2). These functions will not be directly callable after loading.\n"
     ]
    },
    {
     "name": "stdout",
     "output_type": "stream",
     "text": [
      "INFO:tensorflow:Assets written to: model0\\assets\n"
     ]
    },
    {
     "name": "stderr",
     "output_type": "stream",
     "text": [
      "INFO:tensorflow:Assets written to: model0\\assets\n"
     ]
    },
    {
     "name": "stdout",
     "output_type": "stream",
     "text": [
      "8/8 [==============================] - 3s 455ms/step - loss: 2.3560 - root_mean_squared_error: 1.5349 - val_loss: 2.4849 - val_root_mean_squared_error: 1.5764\n",
      "Epoch 40/2500\n",
      "1/8 [==>...........................] - ETA: 0s - loss: 2.7672 - root_mean_squared_error: 1.6635"
     ]
    },
    {
     "name": "stderr",
     "output_type": "stream",
     "text": [
      "WARNING:absl:Found untraced functions such as lstm_cell_layer_call_fn, lstm_cell_layer_call_and_return_conditional_losses while saving (showing 2 of 2). These functions will not be directly callable after loading.\n"
     ]
    },
    {
     "name": "stdout",
     "output_type": "stream",
     "text": [
      "INFO:tensorflow:Assets written to: model0\\assets\n"
     ]
    },
    {
     "name": "stderr",
     "output_type": "stream",
     "text": [
      "INFO:tensorflow:Assets written to: model0\\assets\n"
     ]
    },
    {
     "name": "stdout",
     "output_type": "stream",
     "text": [
      "8/8 [==============================] - 3s 481ms/step - loss: 2.2005 - root_mean_squared_error: 1.4834 - val_loss: 2.3611 - val_root_mean_squared_error: 1.5366\n",
      "Epoch 41/2500\n",
      "1/8 [==>...........................] - ETA: 0s - loss: 1.7335 - root_mean_squared_error: 1.3166"
     ]
    },
    {
     "name": "stderr",
     "output_type": "stream",
     "text": [
      "WARNING:absl:Found untraced functions such as lstm_cell_layer_call_fn, lstm_cell_layer_call_and_return_conditional_losses while saving (showing 2 of 2). These functions will not be directly callable after loading.\n"
     ]
    },
    {
     "name": "stdout",
     "output_type": "stream",
     "text": [
      "INFO:tensorflow:Assets written to: model0\\assets\n"
     ]
    },
    {
     "name": "stderr",
     "output_type": "stream",
     "text": [
      "INFO:tensorflow:Assets written to: model0\\assets\n"
     ]
    },
    {
     "name": "stdout",
     "output_type": "stream",
     "text": [
      "8/8 [==============================] - 4s 514ms/step - loss: 2.0735 - root_mean_squared_error: 1.4400 - val_loss: 2.2614 - val_root_mean_squared_error: 1.5038\n",
      "Epoch 42/2500\n",
      "1/8 [==>...........................] - ETA: 0s - loss: 1.7068 - root_mean_squared_error: 1.3064"
     ]
    },
    {
     "name": "stderr",
     "output_type": "stream",
     "text": [
      "WARNING:absl:Found untraced functions such as lstm_cell_layer_call_fn, lstm_cell_layer_call_and_return_conditional_losses while saving (showing 2 of 2). These functions will not be directly callable after loading.\n"
     ]
    },
    {
     "name": "stdout",
     "output_type": "stream",
     "text": [
      "INFO:tensorflow:Assets written to: model0\\assets\n"
     ]
    },
    {
     "name": "stderr",
     "output_type": "stream",
     "text": [
      "INFO:tensorflow:Assets written to: model0\\assets\n"
     ]
    },
    {
     "name": "stdout",
     "output_type": "stream",
     "text": [
      "8/8 [==============================] - 3s 436ms/step - loss: 1.9639 - root_mean_squared_error: 1.4014 - val_loss: 2.1709 - val_root_mean_squared_error: 1.4734\n",
      "Epoch 43/2500\n",
      "1/8 [==>...........................] - ETA: 0s - loss: 1.6340 - root_mean_squared_error: 1.2783"
     ]
    },
    {
     "name": "stderr",
     "output_type": "stream",
     "text": [
      "WARNING:absl:Found untraced functions such as lstm_cell_layer_call_fn, lstm_cell_layer_call_and_return_conditional_losses while saving (showing 2 of 2). These functions will not be directly callable after loading.\n"
     ]
    },
    {
     "name": "stdout",
     "output_type": "stream",
     "text": [
      "INFO:tensorflow:Assets written to: model0\\assets\n"
     ]
    },
    {
     "name": "stderr",
     "output_type": "stream",
     "text": [
      "INFO:tensorflow:Assets written to: model0\\assets\n"
     ]
    },
    {
     "name": "stdout",
     "output_type": "stream",
     "text": [
      "8/8 [==============================] - 3s 472ms/step - loss: 1.8675 - root_mean_squared_error: 1.3665 - val_loss: 2.1004 - val_root_mean_squared_error: 1.4493\n",
      "Epoch 44/2500\n",
      "1/8 [==>...........................] - ETA: 0s - loss: 1.9410 - root_mean_squared_error: 1.3932"
     ]
    },
    {
     "name": "stderr",
     "output_type": "stream",
     "text": [
      "WARNING:absl:Found untraced functions such as lstm_cell_layer_call_fn, lstm_cell_layer_call_and_return_conditional_losses while saving (showing 2 of 2). These functions will not be directly callable after loading.\n"
     ]
    },
    {
     "name": "stdout",
     "output_type": "stream",
     "text": [
      "INFO:tensorflow:Assets written to: model0\\assets\n"
     ]
    },
    {
     "name": "stderr",
     "output_type": "stream",
     "text": [
      "INFO:tensorflow:Assets written to: model0\\assets\n"
     ]
    },
    {
     "name": "stdout",
     "output_type": "stream",
     "text": [
      "8/8 [==============================] - 3s 459ms/step - loss: 1.7790 - root_mean_squared_error: 1.3338 - val_loss: 2.0369 - val_root_mean_squared_error: 1.4272\n",
      "Epoch 45/2500\n",
      "1/8 [==>...........................] - ETA: 0s - loss: 2.1881 - root_mean_squared_error: 1.4792"
     ]
    },
    {
     "name": "stderr",
     "output_type": "stream",
     "text": [
      "WARNING:absl:Found untraced functions such as lstm_cell_layer_call_fn, lstm_cell_layer_call_and_return_conditional_losses while saving (showing 2 of 2). These functions will not be directly callable after loading.\n"
     ]
    },
    {
     "name": "stdout",
     "output_type": "stream",
     "text": [
      "INFO:tensorflow:Assets written to: model0\\assets\n"
     ]
    },
    {
     "name": "stderr",
     "output_type": "stream",
     "text": [
      "INFO:tensorflow:Assets written to: model0\\assets\n"
     ]
    },
    {
     "name": "stdout",
     "output_type": "stream",
     "text": [
      "8/8 [==============================] - 3s 450ms/step - loss: 1.7046 - root_mean_squared_error: 1.3056 - val_loss: 1.9290 - val_root_mean_squared_error: 1.3889\n",
      "Epoch 46/2500\n",
      "1/8 [==>...........................] - ETA: 0s - loss: 1.2490 - root_mean_squared_error: 1.1176"
     ]
    },
    {
     "name": "stderr",
     "output_type": "stream",
     "text": [
      "WARNING:absl:Found untraced functions such as lstm_cell_layer_call_fn, lstm_cell_layer_call_and_return_conditional_losses while saving (showing 2 of 2). These functions will not be directly callable after loading.\n"
     ]
    },
    {
     "name": "stdout",
     "output_type": "stream",
     "text": [
      "INFO:tensorflow:Assets written to: model0\\assets\n"
     ]
    },
    {
     "name": "stderr",
     "output_type": "stream",
     "text": [
      "INFO:tensorflow:Assets written to: model0\\assets\n"
     ]
    },
    {
     "name": "stdout",
     "output_type": "stream",
     "text": [
      "8/8 [==============================] - 4s 510ms/step - loss: 1.6456 - root_mean_squared_error: 1.2828 - val_loss: 1.8721 - val_root_mean_squared_error: 1.3682\n",
      "Epoch 47/2500\n",
      "1/8 [==>...........................] - ETA: 0s - loss: 1.0416 - root_mean_squared_error: 1.0206"
     ]
    },
    {
     "name": "stderr",
     "output_type": "stream",
     "text": [
      "WARNING:absl:Found untraced functions such as lstm_cell_layer_call_fn, lstm_cell_layer_call_and_return_conditional_losses while saving (showing 2 of 2). These functions will not be directly callable after loading.\n"
     ]
    },
    {
     "name": "stdout",
     "output_type": "stream",
     "text": [
      "INFO:tensorflow:Assets written to: model0\\assets\n"
     ]
    },
    {
     "name": "stderr",
     "output_type": "stream",
     "text": [
      "INFO:tensorflow:Assets written to: model0\\assets\n"
     ]
    },
    {
     "name": "stdout",
     "output_type": "stream",
     "text": [
      "8/8 [==============================] - 3s 466ms/step - loss: 1.5970 - root_mean_squared_error: 1.2637 - val_loss: 1.8514 - val_root_mean_squared_error: 1.3607\n",
      "Epoch 48/2500\n",
      "1/8 [==>...........................] - ETA: 0s - loss: 1.1549 - root_mean_squared_error: 1.0747"
     ]
    },
    {
     "name": "stderr",
     "output_type": "stream",
     "text": [
      "WARNING:absl:Found untraced functions such as lstm_cell_layer_call_fn, lstm_cell_layer_call_and_return_conditional_losses while saving (showing 2 of 2). These functions will not be directly callable after loading.\n"
     ]
    },
    {
     "name": "stdout",
     "output_type": "stream",
     "text": [
      "INFO:tensorflow:Assets written to: model0\\assets\n"
     ]
    },
    {
     "name": "stderr",
     "output_type": "stream",
     "text": [
      "INFO:tensorflow:Assets written to: model0\\assets\n"
     ]
    },
    {
     "name": "stdout",
     "output_type": "stream",
     "text": [
      "8/8 [==============================] - 3s 445ms/step - loss: 1.5581 - root_mean_squared_error: 1.2483 - val_loss: 1.8420 - val_root_mean_squared_error: 1.3572\n",
      "Epoch 49/2500\n",
      "1/8 [==>...........................] - ETA: 0s - loss: 1.2382 - root_mean_squared_error: 1.1127"
     ]
    },
    {
     "name": "stderr",
     "output_type": "stream",
     "text": [
      "WARNING:absl:Found untraced functions such as lstm_cell_layer_call_fn, lstm_cell_layer_call_and_return_conditional_losses while saving (showing 2 of 2). These functions will not be directly callable after loading.\n"
     ]
    },
    {
     "name": "stdout",
     "output_type": "stream",
     "text": [
      "INFO:tensorflow:Assets written to: model0\\assets\n"
     ]
    },
    {
     "name": "stderr",
     "output_type": "stream",
     "text": [
      "INFO:tensorflow:Assets written to: model0\\assets\n"
     ]
    },
    {
     "name": "stdout",
     "output_type": "stream",
     "text": [
      "8/8 [==============================] - 4s 503ms/step - loss: 1.5258 - root_mean_squared_error: 1.2353 - val_loss: 1.8353 - val_root_mean_squared_error: 1.3547\n",
      "Epoch 50/2500\n",
      "1/8 [==>...........................] - ETA: 0s - loss: 1.8927 - root_mean_squared_error: 1.3757"
     ]
    },
    {
     "name": "stderr",
     "output_type": "stream",
     "text": [
      "WARNING:absl:Found untraced functions such as lstm_cell_layer_call_fn, lstm_cell_layer_call_and_return_conditional_losses while saving (showing 2 of 2). These functions will not be directly callable after loading.\n"
     ]
    },
    {
     "name": "stdout",
     "output_type": "stream",
     "text": [
      "INFO:tensorflow:Assets written to: model0\\assets\n"
     ]
    },
    {
     "name": "stderr",
     "output_type": "stream",
     "text": [
      "INFO:tensorflow:Assets written to: model0\\assets\n"
     ]
    },
    {
     "name": "stdout",
     "output_type": "stream",
     "text": [
      "8/8 [==============================] - 3s 467ms/step - loss: 1.4939 - root_mean_squared_error: 1.2223 - val_loss: 1.8157 - val_root_mean_squared_error: 1.3475\n",
      "Epoch 51/2500\n",
      "1/8 [==>...........................] - ETA: 0s - loss: 0.8793 - root_mean_squared_error: 0.9377"
     ]
    },
    {
     "name": "stderr",
     "output_type": "stream",
     "text": [
      "WARNING:absl:Found untraced functions such as lstm_cell_layer_call_fn, lstm_cell_layer_call_and_return_conditional_losses while saving (showing 2 of 2). These functions will not be directly callable after loading.\n"
     ]
    },
    {
     "name": "stdout",
     "output_type": "stream",
     "text": [
      "INFO:tensorflow:Assets written to: model0\\assets\n"
     ]
    },
    {
     "name": "stderr",
     "output_type": "stream",
     "text": [
      "INFO:tensorflow:Assets written to: model0\\assets\n"
     ]
    },
    {
     "name": "stdout",
     "output_type": "stream",
     "text": [
      "8/8 [==============================] - 3s 462ms/step - loss: 1.4667 - root_mean_squared_error: 1.2111 - val_loss: 1.7550 - val_root_mean_squared_error: 1.3248\n",
      "Epoch 52/2500\n",
      "1/8 [==>...........................] - ETA: 0s - loss: 1.0083 - root_mean_squared_error: 1.0041"
     ]
    },
    {
     "name": "stderr",
     "output_type": "stream",
     "text": [
      "WARNING:absl:Found untraced functions such as lstm_cell_layer_call_fn, lstm_cell_layer_call_and_return_conditional_losses while saving (showing 2 of 2). These functions will not be directly callable after loading.\n"
     ]
    },
    {
     "name": "stdout",
     "output_type": "stream",
     "text": [
      "INFO:tensorflow:Assets written to: model0\\assets\n"
     ]
    },
    {
     "name": "stderr",
     "output_type": "stream",
     "text": [
      "INFO:tensorflow:Assets written to: model0\\assets\n"
     ]
    },
    {
     "name": "stdout",
     "output_type": "stream",
     "text": [
      "8/8 [==============================] - 3s 479ms/step - loss: 1.4413 - root_mean_squared_error: 1.2006 - val_loss: 1.7201 - val_root_mean_squared_error: 1.3115\n",
      "Epoch 53/2500\n",
      "1/8 [==>...........................] - ETA: 0s - loss: 1.5702 - root_mean_squared_error: 1.2531"
     ]
    },
    {
     "name": "stderr",
     "output_type": "stream",
     "text": [
      "WARNING:absl:Found untraced functions such as lstm_cell_layer_call_fn, lstm_cell_layer_call_and_return_conditional_losses while saving (showing 2 of 2). These functions will not be directly callable after loading.\n"
     ]
    },
    {
     "name": "stdout",
     "output_type": "stream",
     "text": [
      "INFO:tensorflow:Assets written to: model0\\assets\n"
     ]
    },
    {
     "name": "stderr",
     "output_type": "stream",
     "text": [
      "INFO:tensorflow:Assets written to: model0\\assets\n"
     ]
    },
    {
     "name": "stdout",
     "output_type": "stream",
     "text": [
      "8/8 [==============================] - 3s 462ms/step - loss: 1.4181 - root_mean_squared_error: 1.1909 - val_loss: 1.6970 - val_root_mean_squared_error: 1.3027\n",
      "Epoch 54/2500\n",
      "1/8 [==>...........................] - ETA: 0s - loss: 1.4647 - root_mean_squared_error: 1.2102"
     ]
    },
    {
     "name": "stderr",
     "output_type": "stream",
     "text": [
      "WARNING:absl:Found untraced functions such as lstm_cell_layer_call_fn, lstm_cell_layer_call_and_return_conditional_losses while saving (showing 2 of 2). These functions will not be directly callable after loading.\n"
     ]
    },
    {
     "name": "stdout",
     "output_type": "stream",
     "text": [
      "INFO:tensorflow:Assets written to: model0\\assets\n"
     ]
    },
    {
     "name": "stderr",
     "output_type": "stream",
     "text": [
      "INFO:tensorflow:Assets written to: model0\\assets\n"
     ]
    },
    {
     "name": "stdout",
     "output_type": "stream",
     "text": [
      "8/8 [==============================] - 3s 431ms/step - loss: 1.3947 - root_mean_squared_error: 1.1810 - val_loss: 1.6836 - val_root_mean_squared_error: 1.2975\n",
      "Epoch 55/2500\n",
      "1/8 [==>...........................] - ETA: 0s - loss: 0.9965 - root_mean_squared_error: 0.9983"
     ]
    },
    {
     "name": "stderr",
     "output_type": "stream",
     "text": [
      "WARNING:absl:Found untraced functions such as lstm_cell_layer_call_fn, lstm_cell_layer_call_and_return_conditional_losses while saving (showing 2 of 2). These functions will not be directly callable after loading.\n"
     ]
    },
    {
     "name": "stdout",
     "output_type": "stream",
     "text": [
      "INFO:tensorflow:Assets written to: model0\\assets\n"
     ]
    },
    {
     "name": "stderr",
     "output_type": "stream",
     "text": [
      "INFO:tensorflow:Assets written to: model0\\assets\n"
     ]
    },
    {
     "name": "stdout",
     "output_type": "stream",
     "text": [
      "8/8 [==============================] - 4s 498ms/step - loss: 1.3727 - root_mean_squared_error: 1.1716 - val_loss: 1.6778 - val_root_mean_squared_error: 1.2953\n",
      "Epoch 56/2500\n",
      "1/8 [==>...........................] - ETA: 0s - loss: 1.3351 - root_mean_squared_error: 1.1555"
     ]
    },
    {
     "name": "stderr",
     "output_type": "stream",
     "text": [
      "WARNING:absl:Found untraced functions such as lstm_cell_layer_call_fn, lstm_cell_layer_call_and_return_conditional_losses while saving (showing 2 of 2). These functions will not be directly callable after loading.\n"
     ]
    },
    {
     "name": "stdout",
     "output_type": "stream",
     "text": [
      "INFO:tensorflow:Assets written to: model0\\assets\n"
     ]
    },
    {
     "name": "stderr",
     "output_type": "stream",
     "text": [
      "INFO:tensorflow:Assets written to: model0\\assets\n"
     ]
    },
    {
     "name": "stdout",
     "output_type": "stream",
     "text": [
      "8/8 [==============================] - 3s 469ms/step - loss: 1.3494 - root_mean_squared_error: 1.1617 - val_loss: 1.6174 - val_root_mean_squared_error: 1.2718\n",
      "Epoch 57/2500\n",
      "1/8 [==>...........................] - ETA: 0s - loss: 1.3743 - root_mean_squared_error: 1.1723"
     ]
    },
    {
     "name": "stderr",
     "output_type": "stream",
     "text": [
      "WARNING:absl:Found untraced functions such as lstm_cell_layer_call_fn, lstm_cell_layer_call_and_return_conditional_losses while saving (showing 2 of 2). These functions will not be directly callable after loading.\n"
     ]
    },
    {
     "name": "stdout",
     "output_type": "stream",
     "text": [
      "INFO:tensorflow:Assets written to: model0\\assets\n"
     ]
    },
    {
     "name": "stderr",
     "output_type": "stream",
     "text": [
      "INFO:tensorflow:Assets written to: model0\\assets\n"
     ]
    },
    {
     "name": "stdout",
     "output_type": "stream",
     "text": [
      "8/8 [==============================] - 3s 483ms/step - loss: 1.3252 - root_mean_squared_error: 1.1512 - val_loss: 1.5963 - val_root_mean_squared_error: 1.2634\n",
      "Epoch 58/2500\n",
      "1/8 [==>...........................] - ETA: 0s - loss: 1.3761 - root_mean_squared_error: 1.1731"
     ]
    },
    {
     "name": "stderr",
     "output_type": "stream",
     "text": [
      "WARNING:absl:Found untraced functions such as lstm_cell_layer_call_fn, lstm_cell_layer_call_and_return_conditional_losses while saving (showing 2 of 2). These functions will not be directly callable after loading.\n"
     ]
    },
    {
     "name": "stdout",
     "output_type": "stream",
     "text": [
      "INFO:tensorflow:Assets written to: model0\\assets\n"
     ]
    },
    {
     "name": "stderr",
     "output_type": "stream",
     "text": [
      "INFO:tensorflow:Assets written to: model0\\assets\n"
     ]
    },
    {
     "name": "stdout",
     "output_type": "stream",
     "text": [
      "8/8 [==============================] - 3s 464ms/step - loss: 1.3003 - root_mean_squared_error: 1.1403 - val_loss: 1.5847 - val_root_mean_squared_error: 1.2589\n",
      "Epoch 59/2500\n",
      "1/8 [==>...........................] - ETA: 0s - loss: 1.5379 - root_mean_squared_error: 1.2401"
     ]
    },
    {
     "name": "stderr",
     "output_type": "stream",
     "text": [
      "WARNING:absl:Found untraced functions such as lstm_cell_layer_call_fn, lstm_cell_layer_call_and_return_conditional_losses while saving (showing 2 of 2). These functions will not be directly callable after loading.\n"
     ]
    },
    {
     "name": "stdout",
     "output_type": "stream",
     "text": [
      "INFO:tensorflow:Assets written to: model0\\assets\n"
     ]
    },
    {
     "name": "stderr",
     "output_type": "stream",
     "text": [
      "INFO:tensorflow:Assets written to: model0\\assets\n"
     ]
    },
    {
     "name": "stdout",
     "output_type": "stream",
     "text": [
      "8/8 [==============================] - 3s 433ms/step - loss: 1.2782 - root_mean_squared_error: 1.1306 - val_loss: 1.5783 - val_root_mean_squared_error: 1.2563\n",
      "Epoch 60/2500\n",
      "1/8 [==>...........................] - ETA: 0s - loss: 1.0177 - root_mean_squared_error: 1.0088"
     ]
    },
    {
     "name": "stderr",
     "output_type": "stream",
     "text": [
      "WARNING:absl:Found untraced functions such as lstm_cell_layer_call_fn, lstm_cell_layer_call_and_return_conditional_losses while saving (showing 2 of 2). These functions will not be directly callable after loading.\n"
     ]
    },
    {
     "name": "stdout",
     "output_type": "stream",
     "text": [
      "INFO:tensorflow:Assets written to: model0\\assets\n"
     ]
    },
    {
     "name": "stderr",
     "output_type": "stream",
     "text": [
      "INFO:tensorflow:Assets written to: model0\\assets\n"
     ]
    },
    {
     "name": "stdout",
     "output_type": "stream",
     "text": [
      "8/8 [==============================] - 3s 479ms/step - loss: 1.2554 - root_mean_squared_error: 1.1204 - val_loss: 1.5174 - val_root_mean_squared_error: 1.2318\n",
      "Epoch 61/2500\n",
      "1/8 [==>...........................] - ETA: 0s - loss: 1.0970 - root_mean_squared_error: 1.0474"
     ]
    },
    {
     "name": "stderr",
     "output_type": "stream",
     "text": [
      "WARNING:absl:Found untraced functions such as lstm_cell_layer_call_fn, lstm_cell_layer_call_and_return_conditional_losses while saving (showing 2 of 2). These functions will not be directly callable after loading.\n"
     ]
    },
    {
     "name": "stdout",
     "output_type": "stream",
     "text": [
      "INFO:tensorflow:Assets written to: model0\\assets\n"
     ]
    },
    {
     "name": "stderr",
     "output_type": "stream",
     "text": [
      "INFO:tensorflow:Assets written to: model0\\assets\n"
     ]
    },
    {
     "name": "stdout",
     "output_type": "stream",
     "text": [
      "8/8 [==============================] - 3s 430ms/step - loss: 1.2304 - root_mean_squared_error: 1.1092 - val_loss: 1.4806 - val_root_mean_squared_error: 1.2168\n",
      "Epoch 62/2500\n",
      "1/8 [==>...........................] - ETA: 0s - loss: 1.1358 - root_mean_squared_error: 1.0657"
     ]
    },
    {
     "name": "stderr",
     "output_type": "stream",
     "text": [
      "WARNING:absl:Found untraced functions such as lstm_cell_layer_call_fn, lstm_cell_layer_call_and_return_conditional_losses while saving (showing 2 of 2). These functions will not be directly callable after loading.\n"
     ]
    },
    {
     "name": "stdout",
     "output_type": "stream",
     "text": [
      "INFO:tensorflow:Assets written to: model0\\assets\n"
     ]
    },
    {
     "name": "stderr",
     "output_type": "stream",
     "text": [
      "INFO:tensorflow:Assets written to: model0\\assets\n"
     ]
    },
    {
     "name": "stdout",
     "output_type": "stream",
     "text": [
      "8/8 [==============================] - 3s 451ms/step - loss: 1.2087 - root_mean_squared_error: 1.0994 - val_loss: 1.4582 - val_root_mean_squared_error: 1.2076\n",
      "Epoch 63/2500\n",
      "1/8 [==>...........................] - ETA: 0s - loss: 1.3863 - root_mean_squared_error: 1.1774"
     ]
    },
    {
     "name": "stderr",
     "output_type": "stream",
     "text": [
      "WARNING:absl:Found untraced functions such as lstm_cell_layer_call_fn, lstm_cell_layer_call_and_return_conditional_losses while saving (showing 2 of 2). These functions will not be directly callable after loading.\n"
     ]
    },
    {
     "name": "stdout",
     "output_type": "stream",
     "text": [
      "INFO:tensorflow:Assets written to: model0\\assets\n"
     ]
    },
    {
     "name": "stderr",
     "output_type": "stream",
     "text": [
      "INFO:tensorflow:Assets written to: model0\\assets\n"
     ]
    },
    {
     "name": "stdout",
     "output_type": "stream",
     "text": [
      "8/8 [==============================] - 4s 503ms/step - loss: 1.1885 - root_mean_squared_error: 1.0902 - val_loss: 1.4401 - val_root_mean_squared_error: 1.2001\n",
      "Epoch 64/2500\n",
      "1/8 [==>...........................] - ETA: 0s - loss: 0.6435 - root_mean_squared_error: 0.8022"
     ]
    },
    {
     "name": "stderr",
     "output_type": "stream",
     "text": [
      "WARNING:absl:Found untraced functions such as lstm_cell_layer_call_fn, lstm_cell_layer_call_and_return_conditional_losses while saving (showing 2 of 2). These functions will not be directly callable after loading.\n"
     ]
    },
    {
     "name": "stdout",
     "output_type": "stream",
     "text": [
      "INFO:tensorflow:Assets written to: model0\\assets\n"
     ]
    },
    {
     "name": "stderr",
     "output_type": "stream",
     "text": [
      "INFO:tensorflow:Assets written to: model0\\assets\n"
     ]
    },
    {
     "name": "stdout",
     "output_type": "stream",
     "text": [
      "8/8 [==============================] - 3s 471ms/step - loss: 1.1705 - root_mean_squared_error: 1.0819 - val_loss: 1.4244 - val_root_mean_squared_error: 1.1935\n",
      "Epoch 65/2500\n",
      "1/8 [==>...........................] - ETA: 0s - loss: 0.4832 - root_mean_squared_error: 0.6951"
     ]
    },
    {
     "name": "stderr",
     "output_type": "stream",
     "text": [
      "WARNING:absl:Found untraced functions such as lstm_cell_layer_call_fn, lstm_cell_layer_call_and_return_conditional_losses while saving (showing 2 of 2). These functions will not be directly callable after loading.\n"
     ]
    },
    {
     "name": "stdout",
     "output_type": "stream",
     "text": [
      "INFO:tensorflow:Assets written to: model0\\assets\n"
     ]
    },
    {
     "name": "stderr",
     "output_type": "stream",
     "text": [
      "INFO:tensorflow:Assets written to: model0\\assets\n"
     ]
    },
    {
     "name": "stdout",
     "output_type": "stream",
     "text": [
      "8/8 [==============================] - 3s 455ms/step - loss: 1.1524 - root_mean_squared_error: 1.0735 - val_loss: 1.4178 - val_root_mean_squared_error: 1.1907\n",
      "Epoch 66/2500\n",
      "1/8 [==>...........................] - ETA: 0s - loss: 0.8363 - root_mean_squared_error: 0.9145"
     ]
    },
    {
     "name": "stderr",
     "output_type": "stream",
     "text": [
      "WARNING:absl:Found untraced functions such as lstm_cell_layer_call_fn, lstm_cell_layer_call_and_return_conditional_losses while saving (showing 2 of 2). These functions will not be directly callable after loading.\n"
     ]
    },
    {
     "name": "stdout",
     "output_type": "stream",
     "text": [
      "INFO:tensorflow:Assets written to: model0\\assets\n"
     ]
    },
    {
     "name": "stderr",
     "output_type": "stream",
     "text": [
      "INFO:tensorflow:Assets written to: model0\\assets\n"
     ]
    },
    {
     "name": "stdout",
     "output_type": "stream",
     "text": [
      "8/8 [==============================] - 3s 486ms/step - loss: 1.1335 - root_mean_squared_error: 1.0647 - val_loss: 1.4144 - val_root_mean_squared_error: 1.1893\n",
      "Epoch 67/2500\n",
      "1/8 [==>...........................] - ETA: 0s - loss: 1.0260 - root_mean_squared_error: 1.0129"
     ]
    },
    {
     "name": "stderr",
     "output_type": "stream",
     "text": [
      "WARNING:absl:Found untraced functions such as lstm_cell_layer_call_fn, lstm_cell_layer_call_and_return_conditional_losses while saving (showing 2 of 2). These functions will not be directly callable after loading.\n"
     ]
    },
    {
     "name": "stdout",
     "output_type": "stream",
     "text": [
      "INFO:tensorflow:Assets written to: model0\\assets\n"
     ]
    },
    {
     "name": "stderr",
     "output_type": "stream",
     "text": [
      "INFO:tensorflow:Assets written to: model0\\assets\n"
     ]
    },
    {
     "name": "stdout",
     "output_type": "stream",
     "text": [
      "8/8 [==============================] - 3s 448ms/step - loss: 1.1108 - root_mean_squared_error: 1.0540 - val_loss: 1.4110 - val_root_mean_squared_error: 1.1878\n",
      "Epoch 68/2500\n",
      "1/8 [==>...........................] - ETA: 0s - loss: 1.0261 - root_mean_squared_error: 1.0129"
     ]
    },
    {
     "name": "stderr",
     "output_type": "stream",
     "text": [
      "WARNING:absl:Found untraced functions such as lstm_cell_layer_call_fn, lstm_cell_layer_call_and_return_conditional_losses while saving (showing 2 of 2). These functions will not be directly callable after loading.\n"
     ]
    },
    {
     "name": "stdout",
     "output_type": "stream",
     "text": [
      "INFO:tensorflow:Assets written to: model0\\assets\n"
     ]
    },
    {
     "name": "stderr",
     "output_type": "stream",
     "text": [
      "INFO:tensorflow:Assets written to: model0\\assets\n"
     ]
    },
    {
     "name": "stdout",
     "output_type": "stream",
     "text": [
      "8/8 [==============================] - 3s 432ms/step - loss: 1.0900 - root_mean_squared_error: 1.0440 - val_loss: 1.3973 - val_root_mean_squared_error: 1.1821\n",
      "Epoch 69/2500\n",
      "1/8 [==>...........................] - ETA: 0s - loss: 1.4902 - root_mean_squared_error: 1.2207"
     ]
    },
    {
     "name": "stderr",
     "output_type": "stream",
     "text": [
      "WARNING:absl:Found untraced functions such as lstm_cell_layer_call_fn, lstm_cell_layer_call_and_return_conditional_losses while saving (showing 2 of 2). These functions will not be directly callable after loading.\n"
     ]
    },
    {
     "name": "stdout",
     "output_type": "stream",
     "text": [
      "INFO:tensorflow:Assets written to: model0\\assets\n"
     ]
    },
    {
     "name": "stderr",
     "output_type": "stream",
     "text": [
      "INFO:tensorflow:Assets written to: model0\\assets\n"
     ]
    },
    {
     "name": "stdout",
     "output_type": "stream",
     "text": [
      "8/8 [==============================] - 3s 478ms/step - loss: 1.0702 - root_mean_squared_error: 1.0345 - val_loss: 1.3873 - val_root_mean_squared_error: 1.1779\n",
      "Epoch 70/2500\n",
      "1/8 [==>...........................] - ETA: 0s - loss: 1.3978 - root_mean_squared_error: 1.1823"
     ]
    },
    {
     "name": "stderr",
     "output_type": "stream",
     "text": [
      "WARNING:absl:Found untraced functions such as lstm_cell_layer_call_fn, lstm_cell_layer_call_and_return_conditional_losses while saving (showing 2 of 2). These functions will not be directly callable after loading.\n"
     ]
    },
    {
     "name": "stdout",
     "output_type": "stream",
     "text": [
      "INFO:tensorflow:Assets written to: model0\\assets\n"
     ]
    },
    {
     "name": "stderr",
     "output_type": "stream",
     "text": [
      "INFO:tensorflow:Assets written to: model0\\assets\n"
     ]
    },
    {
     "name": "stdout",
     "output_type": "stream",
     "text": [
      "8/8 [==============================] - 3s 452ms/step - loss: 1.0508 - root_mean_squared_error: 1.0251 - val_loss: 1.3735 - val_root_mean_squared_error: 1.1720\n",
      "Epoch 71/2500\n",
      "1/8 [==>...........................] - ETA: 0s - loss: 0.8878 - root_mean_squared_error: 0.9422"
     ]
    },
    {
     "name": "stderr",
     "output_type": "stream",
     "text": [
      "WARNING:absl:Found untraced functions such as lstm_cell_layer_call_fn, lstm_cell_layer_call_and_return_conditional_losses while saving (showing 2 of 2). These functions will not be directly callable after loading.\n"
     ]
    },
    {
     "name": "stdout",
     "output_type": "stream",
     "text": [
      "INFO:tensorflow:Assets written to: model0\\assets\n"
     ]
    },
    {
     "name": "stderr",
     "output_type": "stream",
     "text": [
      "INFO:tensorflow:Assets written to: model0\\assets\n"
     ]
    },
    {
     "name": "stdout",
     "output_type": "stream",
     "text": [
      "8/8 [==============================] - 3s 448ms/step - loss: 1.0327 - root_mean_squared_error: 1.0162 - val_loss: 1.3684 - val_root_mean_squared_error: 1.1698\n",
      "Epoch 72/2500\n",
      "1/8 [==>...........................] - ETA: 0s - loss: 0.9185 - root_mean_squared_error: 0.9584"
     ]
    },
    {
     "name": "stderr",
     "output_type": "stream",
     "text": [
      "WARNING:absl:Found untraced functions such as lstm_cell_layer_call_fn, lstm_cell_layer_call_and_return_conditional_losses while saving (showing 2 of 2). These functions will not be directly callable after loading.\n"
     ]
    },
    {
     "name": "stdout",
     "output_type": "stream",
     "text": [
      "INFO:tensorflow:Assets written to: model0\\assets\n"
     ]
    },
    {
     "name": "stderr",
     "output_type": "stream",
     "text": [
      "INFO:tensorflow:Assets written to: model0\\assets\n"
     ]
    },
    {
     "name": "stdout",
     "output_type": "stream",
     "text": [
      "8/8 [==============================] - 4s 526ms/step - loss: 1.0154 - root_mean_squared_error: 1.0077 - val_loss: 1.3504 - val_root_mean_squared_error: 1.1621\n",
      "Epoch 73/2500\n",
      "1/8 [==>...........................] - ETA: 0s - loss: 1.0111 - root_mean_squared_error: 1.0055"
     ]
    },
    {
     "name": "stderr",
     "output_type": "stream",
     "text": [
      "WARNING:absl:Found untraced functions such as lstm_cell_layer_call_fn, lstm_cell_layer_call_and_return_conditional_losses while saving (showing 2 of 2). These functions will not be directly callable after loading.\n"
     ]
    },
    {
     "name": "stdout",
     "output_type": "stream",
     "text": [
      "INFO:tensorflow:Assets written to: model0\\assets\n"
     ]
    },
    {
     "name": "stderr",
     "output_type": "stream",
     "text": [
      "INFO:tensorflow:Assets written to: model0\\assets\n"
     ]
    },
    {
     "name": "stdout",
     "output_type": "stream",
     "text": [
      "8/8 [==============================] - 3s 464ms/step - loss: 0.9993 - root_mean_squared_error: 0.9997 - val_loss: 1.3290 - val_root_mean_squared_error: 1.1528\n",
      "Epoch 74/2500\n",
      "1/8 [==>...........................] - ETA: 0s - loss: 0.7068 - root_mean_squared_error: 0.8407"
     ]
    },
    {
     "name": "stderr",
     "output_type": "stream",
     "text": [
      "WARNING:absl:Found untraced functions such as lstm_cell_layer_call_fn, lstm_cell_layer_call_and_return_conditional_losses while saving (showing 2 of 2). These functions will not be directly callable after loading.\n"
     ]
    },
    {
     "name": "stdout",
     "output_type": "stream",
     "text": [
      "INFO:tensorflow:Assets written to: model0\\assets\n"
     ]
    },
    {
     "name": "stderr",
     "output_type": "stream",
     "text": [
      "INFO:tensorflow:Assets written to: model0\\assets\n"
     ]
    },
    {
     "name": "stdout",
     "output_type": "stream",
     "text": [
      "8/8 [==============================] - 3s 498ms/step - loss: 0.9841 - root_mean_squared_error: 0.9920 - val_loss: 1.3077 - val_root_mean_squared_error: 1.1435\n",
      "Epoch 75/2500\n",
      "1/8 [==>...........................] - ETA: 0s - loss: 0.6846 - root_mean_squared_error: 0.8274"
     ]
    },
    {
     "name": "stderr",
     "output_type": "stream",
     "text": [
      "WARNING:absl:Found untraced functions such as lstm_cell_layer_call_fn, lstm_cell_layer_call_and_return_conditional_losses while saving (showing 2 of 2). These functions will not be directly callable after loading.\n"
     ]
    },
    {
     "name": "stdout",
     "output_type": "stream",
     "text": [
      "INFO:tensorflow:Assets written to: model0\\assets\n"
     ]
    },
    {
     "name": "stderr",
     "output_type": "stream",
     "text": [
      "INFO:tensorflow:Assets written to: model0\\assets\n"
     ]
    },
    {
     "name": "stdout",
     "output_type": "stream",
     "text": [
      "8/8 [==============================] - 3s 434ms/step - loss: 0.9686 - root_mean_squared_error: 0.9842 - val_loss: 1.2838 - val_root_mean_squared_error: 1.1331\n",
      "Epoch 76/2500\n",
      "1/8 [==>...........................] - ETA: 0s - loss: 1.0333 - root_mean_squared_error: 1.0165"
     ]
    },
    {
     "name": "stderr",
     "output_type": "stream",
     "text": [
      "WARNING:absl:Found untraced functions such as lstm_cell_layer_call_fn, lstm_cell_layer_call_and_return_conditional_losses while saving (showing 2 of 2). These functions will not be directly callable after loading.\n"
     ]
    },
    {
     "name": "stdout",
     "output_type": "stream",
     "text": [
      "INFO:tensorflow:Assets written to: model0\\assets\n"
     ]
    },
    {
     "name": "stderr",
     "output_type": "stream",
     "text": [
      "INFO:tensorflow:Assets written to: model0\\assets\n"
     ]
    },
    {
     "name": "stdout",
     "output_type": "stream",
     "text": [
      "8/8 [==============================] - 3s 428ms/step - loss: 0.9530 - root_mean_squared_error: 0.9762 - val_loss: 1.2640 - val_root_mean_squared_error: 1.1243\n",
      "Epoch 77/2500\n",
      "1/8 [==>...........................] - ETA: 0s - loss: 1.2035 - root_mean_squared_error: 1.0971"
     ]
    },
    {
     "name": "stderr",
     "output_type": "stream",
     "text": [
      "WARNING:absl:Found untraced functions such as lstm_cell_layer_call_fn, lstm_cell_layer_call_and_return_conditional_losses while saving (showing 2 of 2). These functions will not be directly callable after loading.\n"
     ]
    },
    {
     "name": "stdout",
     "output_type": "stream",
     "text": [
      "INFO:tensorflow:Assets written to: model0\\assets\n"
     ]
    },
    {
     "name": "stderr",
     "output_type": "stream",
     "text": [
      "INFO:tensorflow:Assets written to: model0\\assets\n"
     ]
    },
    {
     "name": "stdout",
     "output_type": "stream",
     "text": [
      "8/8 [==============================] - 4s 505ms/step - loss: 0.9371 - root_mean_squared_error: 0.9680 - val_loss: 1.2477 - val_root_mean_squared_error: 1.1170\n",
      "Epoch 78/2500\n",
      "1/8 [==>...........................] - ETA: 0s - loss: 0.9024 - root_mean_squared_error: 0.9499"
     ]
    },
    {
     "name": "stderr",
     "output_type": "stream",
     "text": [
      "WARNING:absl:Found untraced functions such as lstm_cell_layer_call_fn, lstm_cell_layer_call_and_return_conditional_losses while saving (showing 2 of 2). These functions will not be directly callable after loading.\n"
     ]
    },
    {
     "name": "stdout",
     "output_type": "stream",
     "text": [
      "INFO:tensorflow:Assets written to: model0\\assets\n"
     ]
    },
    {
     "name": "stderr",
     "output_type": "stream",
     "text": [
      "INFO:tensorflow:Assets written to: model0\\assets\n"
     ]
    },
    {
     "name": "stdout",
     "output_type": "stream",
     "text": [
      "8/8 [==============================] - 3s 452ms/step - loss: 0.9220 - root_mean_squared_error: 0.9602 - val_loss: 1.2276 - val_root_mean_squared_error: 1.1080\n",
      "Epoch 79/2500\n",
      "1/8 [==>...........................] - ETA: 0s - loss: 0.9003 - root_mean_squared_error: 0.9489"
     ]
    },
    {
     "name": "stderr",
     "output_type": "stream",
     "text": [
      "WARNING:absl:Found untraced functions such as lstm_cell_layer_call_fn, lstm_cell_layer_call_and_return_conditional_losses while saving (showing 2 of 2). These functions will not be directly callable after loading.\n"
     ]
    },
    {
     "name": "stdout",
     "output_type": "stream",
     "text": [
      "INFO:tensorflow:Assets written to: model0\\assets\n"
     ]
    },
    {
     "name": "stderr",
     "output_type": "stream",
     "text": [
      "INFO:tensorflow:Assets written to: model0\\assets\n"
     ]
    },
    {
     "name": "stdout",
     "output_type": "stream",
     "text": [
      "8/8 [==============================] - 3s 457ms/step - loss: 0.9062 - root_mean_squared_error: 0.9519 - val_loss: 1.2112 - val_root_mean_squared_error: 1.1006\n",
      "Epoch 80/2500\n",
      "1/8 [==>...........................] - ETA: 0s - loss: 0.7994 - root_mean_squared_error: 0.8941"
     ]
    },
    {
     "name": "stderr",
     "output_type": "stream",
     "text": [
      "WARNING:absl:Found untraced functions such as lstm_cell_layer_call_fn, lstm_cell_layer_call_and_return_conditional_losses while saving (showing 2 of 2). These functions will not be directly callable after loading.\n"
     ]
    },
    {
     "name": "stdout",
     "output_type": "stream",
     "text": [
      "INFO:tensorflow:Assets written to: model0\\assets\n"
     ]
    },
    {
     "name": "stderr",
     "output_type": "stream",
     "text": [
      "INFO:tensorflow:Assets written to: model0\\assets\n"
     ]
    },
    {
     "name": "stdout",
     "output_type": "stream",
     "text": [
      "8/8 [==============================] - 4s 519ms/step - loss: 0.8915 - root_mean_squared_error: 0.9442 - val_loss: 1.1924 - val_root_mean_squared_error: 1.0920\n",
      "Epoch 81/2500\n",
      "1/8 [==>...........................] - ETA: 0s - loss: 1.0765 - root_mean_squared_error: 1.0376"
     ]
    },
    {
     "name": "stderr",
     "output_type": "stream",
     "text": [
      "WARNING:absl:Found untraced functions such as lstm_cell_layer_call_fn, lstm_cell_layer_call_and_return_conditional_losses while saving (showing 2 of 2). These functions will not be directly callable after loading.\n"
     ]
    },
    {
     "name": "stdout",
     "output_type": "stream",
     "text": [
      "INFO:tensorflow:Assets written to: model0\\assets\n"
     ]
    },
    {
     "name": "stderr",
     "output_type": "stream",
     "text": [
      "INFO:tensorflow:Assets written to: model0\\assets\n"
     ]
    },
    {
     "name": "stdout",
     "output_type": "stream",
     "text": [
      "8/8 [==============================] - 3s 464ms/step - loss: 0.8764 - root_mean_squared_error: 0.9361 - val_loss: 1.1726 - val_root_mean_squared_error: 1.0829\n",
      "Epoch 82/2500\n",
      "1/8 [==>...........................] - ETA: 0s - loss: 0.6294 - root_mean_squared_error: 0.7933"
     ]
    },
    {
     "name": "stderr",
     "output_type": "stream",
     "text": [
      "WARNING:absl:Found untraced functions such as lstm_cell_layer_call_fn, lstm_cell_layer_call_and_return_conditional_losses while saving (showing 2 of 2). These functions will not be directly callable after loading.\n"
     ]
    },
    {
     "name": "stdout",
     "output_type": "stream",
     "text": [
      "INFO:tensorflow:Assets written to: model0\\assets\n"
     ]
    },
    {
     "name": "stderr",
     "output_type": "stream",
     "text": [
      "INFO:tensorflow:Assets written to: model0\\assets\n"
     ]
    },
    {
     "name": "stdout",
     "output_type": "stream",
     "text": [
      "8/8 [==============================] - 3s 460ms/step - loss: 0.8604 - root_mean_squared_error: 0.9276 - val_loss: 1.1628 - val_root_mean_squared_error: 1.0783\n",
      "Epoch 83/2500\n",
      "1/8 [==>...........................] - ETA: 0s - loss: 0.7611 - root_mean_squared_error: 0.8724"
     ]
    },
    {
     "name": "stderr",
     "output_type": "stream",
     "text": [
      "WARNING:absl:Found untraced functions such as lstm_cell_layer_call_fn, lstm_cell_layer_call_and_return_conditional_losses while saving (showing 2 of 2). These functions will not be directly callable after loading.\n"
     ]
    },
    {
     "name": "stdout",
     "output_type": "stream",
     "text": [
      "INFO:tensorflow:Assets written to: model0\\assets\n"
     ]
    },
    {
     "name": "stderr",
     "output_type": "stream",
     "text": [
      "INFO:tensorflow:Assets written to: model0\\assets\n"
     ]
    },
    {
     "name": "stdout",
     "output_type": "stream",
     "text": [
      "8/8 [==============================] - 3s 495ms/step - loss: 0.8427 - root_mean_squared_error: 0.9180 - val_loss: 1.1558 - val_root_mean_squared_error: 1.0751\n",
      "Epoch 84/2500\n",
      "1/8 [==>...........................] - ETA: 0s - loss: 0.7275 - root_mean_squared_error: 0.8529"
     ]
    },
    {
     "name": "stderr",
     "output_type": "stream",
     "text": [
      "WARNING:absl:Found untraced functions such as lstm_cell_layer_call_fn, lstm_cell_layer_call_and_return_conditional_losses while saving (showing 2 of 2). These functions will not be directly callable after loading.\n"
     ]
    },
    {
     "name": "stdout",
     "output_type": "stream",
     "text": [
      "INFO:tensorflow:Assets written to: model0\\assets\n"
     ]
    },
    {
     "name": "stderr",
     "output_type": "stream",
     "text": [
      "INFO:tensorflow:Assets written to: model0\\assets\n"
     ]
    },
    {
     "name": "stdout",
     "output_type": "stream",
     "text": [
      "8/8 [==============================] - 3s 466ms/step - loss: 0.8271 - root_mean_squared_error: 0.9095 - val_loss: 1.1404 - val_root_mean_squared_error: 1.0679\n",
      "Epoch 85/2500\n",
      "1/8 [==>...........................] - ETA: 0s - loss: 0.7668 - root_mean_squared_error: 0.8757"
     ]
    },
    {
     "name": "stderr",
     "output_type": "stream",
     "text": [
      "WARNING:absl:Found untraced functions such as lstm_cell_layer_call_fn, lstm_cell_layer_call_and_return_conditional_losses while saving (showing 2 of 2). These functions will not be directly callable after loading.\n"
     ]
    },
    {
     "name": "stdout",
     "output_type": "stream",
     "text": [
      "INFO:tensorflow:Assets written to: model0\\assets\n"
     ]
    },
    {
     "name": "stderr",
     "output_type": "stream",
     "text": [
      "INFO:tensorflow:Assets written to: model0\\assets\n"
     ]
    },
    {
     "name": "stdout",
     "output_type": "stream",
     "text": [
      "8/8 [==============================] - 3s 477ms/step - loss: 0.8096 - root_mean_squared_error: 0.8998 - val_loss: 1.1213 - val_root_mean_squared_error: 1.0589\n",
      "Epoch 86/2500\n",
      "1/8 [==>...........................] - ETA: 0s - loss: 0.6338 - root_mean_squared_error: 0.7961"
     ]
    },
    {
     "name": "stderr",
     "output_type": "stream",
     "text": [
      "WARNING:absl:Found untraced functions such as lstm_cell_layer_call_fn, lstm_cell_layer_call_and_return_conditional_losses while saving (showing 2 of 2). These functions will not be directly callable after loading.\n"
     ]
    },
    {
     "name": "stdout",
     "output_type": "stream",
     "text": [
      "INFO:tensorflow:Assets written to: model0\\assets\n"
     ]
    },
    {
     "name": "stderr",
     "output_type": "stream",
     "text": [
      "INFO:tensorflow:Assets written to: model0\\assets\n"
     ]
    },
    {
     "name": "stdout",
     "output_type": "stream",
     "text": [
      "8/8 [==============================] - 3s 469ms/step - loss: 0.7942 - root_mean_squared_error: 0.8912 - val_loss: 1.0942 - val_root_mean_squared_error: 1.0460\n",
      "Epoch 87/2500\n",
      "1/8 [==>...........................] - ETA: 0s - loss: 0.6586 - root_mean_squared_error: 0.8115"
     ]
    },
    {
     "name": "stderr",
     "output_type": "stream",
     "text": [
      "WARNING:absl:Found untraced functions such as lstm_cell_layer_call_fn, lstm_cell_layer_call_and_return_conditional_losses while saving (showing 2 of 2). These functions will not be directly callable after loading.\n"
     ]
    },
    {
     "name": "stdout",
     "output_type": "stream",
     "text": [
      "INFO:tensorflow:Assets written to: model0\\assets\n"
     ]
    },
    {
     "name": "stderr",
     "output_type": "stream",
     "text": [
      "INFO:tensorflow:Assets written to: model0\\assets\n"
     ]
    },
    {
     "name": "stdout",
     "output_type": "stream",
     "text": [
      "8/8 [==============================] - 3s 429ms/step - loss: 0.7783 - root_mean_squared_error: 0.8822 - val_loss: 1.0419 - val_root_mean_squared_error: 1.0207\n",
      "Epoch 88/2500\n",
      "1/8 [==>...........................] - ETA: 0s - loss: 0.9741 - root_mean_squared_error: 0.9870"
     ]
    },
    {
     "name": "stderr",
     "output_type": "stream",
     "text": [
      "WARNING:absl:Found untraced functions such as lstm_cell_layer_call_fn, lstm_cell_layer_call_and_return_conditional_losses while saving (showing 2 of 2). These functions will not be directly callable after loading.\n"
     ]
    },
    {
     "name": "stdout",
     "output_type": "stream",
     "text": [
      "INFO:tensorflow:Assets written to: model0\\assets\n"
     ]
    },
    {
     "name": "stderr",
     "output_type": "stream",
     "text": [
      "INFO:tensorflow:Assets written to: model0\\assets\n"
     ]
    },
    {
     "name": "stdout",
     "output_type": "stream",
     "text": [
      "8/8 [==============================] - 3s 476ms/step - loss: 0.7619 - root_mean_squared_error: 0.8729 - val_loss: 1.0118 - val_root_mean_squared_error: 1.0059\n",
      "Epoch 89/2500\n",
      "1/8 [==>...........................] - ETA: 0s - loss: 0.6565 - root_mean_squared_error: 0.8102"
     ]
    },
    {
     "name": "stderr",
     "output_type": "stream",
     "text": [
      "WARNING:absl:Found untraced functions such as lstm_cell_layer_call_fn, lstm_cell_layer_call_and_return_conditional_losses while saving (showing 2 of 2). These functions will not be directly callable after loading.\n"
     ]
    },
    {
     "name": "stdout",
     "output_type": "stream",
     "text": [
      "INFO:tensorflow:Assets written to: model0\\assets\n"
     ]
    },
    {
     "name": "stderr",
     "output_type": "stream",
     "text": [
      "INFO:tensorflow:Assets written to: model0\\assets\n"
     ]
    },
    {
     "name": "stdout",
     "output_type": "stream",
     "text": [
      "8/8 [==============================] - 3s 448ms/step - loss: 0.7477 - root_mean_squared_error: 0.8647 - val_loss: 0.9921 - val_root_mean_squared_error: 0.9961\n",
      "Epoch 90/2500\n",
      "1/8 [==>...........................] - ETA: 0s - loss: 0.5861 - root_mean_squared_error: 0.7656"
     ]
    },
    {
     "name": "stderr",
     "output_type": "stream",
     "text": [
      "WARNING:absl:Found untraced functions such as lstm_cell_layer_call_fn, lstm_cell_layer_call_and_return_conditional_losses while saving (showing 2 of 2). These functions will not be directly callable after loading.\n"
     ]
    },
    {
     "name": "stdout",
     "output_type": "stream",
     "text": [
      "INFO:tensorflow:Assets written to: model0\\assets\n"
     ]
    },
    {
     "name": "stderr",
     "output_type": "stream",
     "text": [
      "INFO:tensorflow:Assets written to: model0\\assets\n"
     ]
    },
    {
     "name": "stdout",
     "output_type": "stream",
     "text": [
      "8/8 [==============================] - 3s 462ms/step - loss: 0.7323 - root_mean_squared_error: 0.8558 - val_loss: 0.9764 - val_root_mean_squared_error: 0.9881\n",
      "Epoch 91/2500\n",
      "1/8 [==>...........................] - ETA: 0s - loss: 0.7169 - root_mean_squared_error: 0.8467"
     ]
    },
    {
     "name": "stderr",
     "output_type": "stream",
     "text": [
      "WARNING:absl:Found untraced functions such as lstm_cell_layer_call_fn, lstm_cell_layer_call_and_return_conditional_losses while saving (showing 2 of 2). These functions will not be directly callable after loading.\n"
     ]
    },
    {
     "name": "stdout",
     "output_type": "stream",
     "text": [
      "INFO:tensorflow:Assets written to: model0\\assets\n"
     ]
    },
    {
     "name": "stderr",
     "output_type": "stream",
     "text": [
      "INFO:tensorflow:Assets written to: model0\\assets\n"
     ]
    },
    {
     "name": "stdout",
     "output_type": "stream",
     "text": [
      "8/8 [==============================] - 3s 474ms/step - loss: 0.7194 - root_mean_squared_error: 0.8482 - val_loss: 0.9503 - val_root_mean_squared_error: 0.9748\n",
      "Epoch 92/2500\n",
      "1/8 [==>...........................] - ETA: 0s - loss: 0.8497 - root_mean_squared_error: 0.9218"
     ]
    },
    {
     "name": "stderr",
     "output_type": "stream",
     "text": [
      "WARNING:absl:Found untraced functions such as lstm_cell_layer_call_fn, lstm_cell_layer_call_and_return_conditional_losses while saving (showing 2 of 2). These functions will not be directly callable after loading.\n"
     ]
    },
    {
     "name": "stdout",
     "output_type": "stream",
     "text": [
      "INFO:tensorflow:Assets written to: model0\\assets\n"
     ]
    },
    {
     "name": "stderr",
     "output_type": "stream",
     "text": [
      "INFO:tensorflow:Assets written to: model0\\assets\n"
     ]
    },
    {
     "name": "stdout",
     "output_type": "stream",
     "text": [
      "8/8 [==============================] - 3s 448ms/step - loss: 0.7035 - root_mean_squared_error: 0.8387 - val_loss: 0.8911 - val_root_mean_squared_error: 0.9440\n",
      "Epoch 93/2500\n",
      "1/8 [==>...........................] - ETA: 0s - loss: 0.3575 - root_mean_squared_error: 0.5979"
     ]
    },
    {
     "name": "stderr",
     "output_type": "stream",
     "text": [
      "WARNING:absl:Found untraced functions such as lstm_cell_layer_call_fn, lstm_cell_layer_call_and_return_conditional_losses while saving (showing 2 of 2). These functions will not be directly callable after loading.\n"
     ]
    },
    {
     "name": "stdout",
     "output_type": "stream",
     "text": [
      "INFO:tensorflow:Assets written to: model0\\assets\n"
     ]
    },
    {
     "name": "stderr",
     "output_type": "stream",
     "text": [
      "INFO:tensorflow:Assets written to: model0\\assets\n"
     ]
    },
    {
     "name": "stdout",
     "output_type": "stream",
     "text": [
      "8/8 [==============================] - 3s 462ms/step - loss: 0.6847 - root_mean_squared_error: 0.8275 - val_loss: 0.8644 - val_root_mean_squared_error: 0.9298\n",
      "Epoch 94/2500\n",
      "1/8 [==>...........................] - ETA: 0s - loss: 1.0597 - root_mean_squared_error: 1.0294"
     ]
    },
    {
     "name": "stderr",
     "output_type": "stream",
     "text": [
      "WARNING:absl:Found untraced functions such as lstm_cell_layer_call_fn, lstm_cell_layer_call_and_return_conditional_losses while saving (showing 2 of 2). These functions will not be directly callable after loading.\n"
     ]
    },
    {
     "name": "stdout",
     "output_type": "stream",
     "text": [
      "INFO:tensorflow:Assets written to: model0\\assets\n"
     ]
    },
    {
     "name": "stderr",
     "output_type": "stream",
     "text": [
      "INFO:tensorflow:Assets written to: model0\\assets\n"
     ]
    },
    {
     "name": "stdout",
     "output_type": "stream",
     "text": [
      "8/8 [==============================] - 3s 495ms/step - loss: 0.6692 - root_mean_squared_error: 0.8181 - val_loss: 0.8438 - val_root_mean_squared_error: 0.9186\n",
      "Epoch 95/2500\n",
      "1/8 [==>...........................] - ETA: 0s - loss: 0.9089 - root_mean_squared_error: 0.9534"
     ]
    },
    {
     "name": "stderr",
     "output_type": "stream",
     "text": [
      "WARNING:absl:Found untraced functions such as lstm_cell_layer_call_fn, lstm_cell_layer_call_and_return_conditional_losses while saving (showing 2 of 2). These functions will not be directly callable after loading.\n"
     ]
    },
    {
     "name": "stdout",
     "output_type": "stream",
     "text": [
      "INFO:tensorflow:Assets written to: model0\\assets\n"
     ]
    },
    {
     "name": "stderr",
     "output_type": "stream",
     "text": [
      "INFO:tensorflow:Assets written to: model0\\assets\n"
     ]
    },
    {
     "name": "stdout",
     "output_type": "stream",
     "text": [
      "8/8 [==============================] - 3s 450ms/step - loss: 0.6551 - root_mean_squared_error: 0.8094 - val_loss: 0.8215 - val_root_mean_squared_error: 0.9063\n",
      "Epoch 96/2500\n",
      "1/8 [==>...........................] - ETA: 0s - loss: 1.1757 - root_mean_squared_error: 1.0843"
     ]
    },
    {
     "name": "stderr",
     "output_type": "stream",
     "text": [
      "WARNING:absl:Found untraced functions such as lstm_cell_layer_call_fn, lstm_cell_layer_call_and_return_conditional_losses while saving (showing 2 of 2). These functions will not be directly callable after loading.\n"
     ]
    },
    {
     "name": "stdout",
     "output_type": "stream",
     "text": [
      "INFO:tensorflow:Assets written to: model0\\assets\n"
     ]
    },
    {
     "name": "stderr",
     "output_type": "stream",
     "text": [
      "INFO:tensorflow:Assets written to: model0\\assets\n"
     ]
    },
    {
     "name": "stdout",
     "output_type": "stream",
     "text": [
      "8/8 [==============================] - 3s 438ms/step - loss: 0.6402 - root_mean_squared_error: 0.8001 - val_loss: 0.8050 - val_root_mean_squared_error: 0.8972\n",
      "Epoch 97/2500\n",
      "1/8 [==>...........................] - ETA: 0s - loss: 0.9247 - root_mean_squared_error: 0.9616"
     ]
    },
    {
     "name": "stderr",
     "output_type": "stream",
     "text": [
      "WARNING:absl:Found untraced functions such as lstm_cell_layer_call_fn, lstm_cell_layer_call_and_return_conditional_losses while saving (showing 2 of 2). These functions will not be directly callable after loading.\n"
     ]
    },
    {
     "name": "stdout",
     "output_type": "stream",
     "text": [
      "INFO:tensorflow:Assets written to: model0\\assets\n"
     ]
    },
    {
     "name": "stderr",
     "output_type": "stream",
     "text": [
      "INFO:tensorflow:Assets written to: model0\\assets\n"
     ]
    },
    {
     "name": "stdout",
     "output_type": "stream",
     "text": [
      "8/8 [==============================] - 3s 488ms/step - loss: 0.6275 - root_mean_squared_error: 0.7921 - val_loss: 0.7960 - val_root_mean_squared_error: 0.8922\n",
      "Epoch 98/2500\n",
      "8/8 [==============================] - 0s 10ms/step - loss: 0.6140 - root_mean_squared_error: 0.7836 - val_loss: 0.8010 - val_root_mean_squared_error: 0.8950\n",
      "Epoch 99/2500\n",
      "1/8 [==>...........................] - ETA: 0s - loss: 0.4621 - root_mean_squared_error: 0.6798"
     ]
    },
    {
     "name": "stderr",
     "output_type": "stream",
     "text": [
      "WARNING:absl:Found untraced functions such as lstm_cell_layer_call_fn, lstm_cell_layer_call_and_return_conditional_losses while saving (showing 2 of 2). These functions will not be directly callable after loading.\n"
     ]
    },
    {
     "name": "stdout",
     "output_type": "stream",
     "text": [
      "INFO:tensorflow:Assets written to: model0\\assets\n"
     ]
    },
    {
     "name": "stderr",
     "output_type": "stream",
     "text": [
      "INFO:tensorflow:Assets written to: model0\\assets\n"
     ]
    },
    {
     "name": "stdout",
     "output_type": "stream",
     "text": [
      "8/8 [==============================] - 3s 464ms/step - loss: 0.6017 - root_mean_squared_error: 0.7757 - val_loss: 0.7910 - val_root_mean_squared_error: 0.8894\n",
      "Epoch 100/2500\n",
      "1/8 [==>...........................] - ETA: 0s - loss: 0.5242 - root_mean_squared_error: 0.7240"
     ]
    },
    {
     "name": "stderr",
     "output_type": "stream",
     "text": [
      "WARNING:absl:Found untraced functions such as lstm_cell_layer_call_fn, lstm_cell_layer_call_and_return_conditional_losses while saving (showing 2 of 2). These functions will not be directly callable after loading.\n"
     ]
    },
    {
     "name": "stdout",
     "output_type": "stream",
     "text": [
      "INFO:tensorflow:Assets written to: model0\\assets\n"
     ]
    },
    {
     "name": "stderr",
     "output_type": "stream",
     "text": [
      "INFO:tensorflow:Assets written to: model0\\assets\n"
     ]
    },
    {
     "name": "stdout",
     "output_type": "stream",
     "text": [
      "8/8 [==============================] - 4s 512ms/step - loss: 0.5897 - root_mean_squared_error: 0.7679 - val_loss: 0.7829 - val_root_mean_squared_error: 0.8848\n",
      "Epoch 101/2500\n",
      "1/8 [==>...........................] - ETA: 0s - loss: 0.5583 - root_mean_squared_error: 0.7472"
     ]
    },
    {
     "name": "stderr",
     "output_type": "stream",
     "text": [
      "WARNING:absl:Found untraced functions such as lstm_cell_layer_call_fn, lstm_cell_layer_call_and_return_conditional_losses while saving (showing 2 of 2). These functions will not be directly callable after loading.\n"
     ]
    },
    {
     "name": "stdout",
     "output_type": "stream",
     "text": [
      "INFO:tensorflow:Assets written to: model0\\assets\n"
     ]
    },
    {
     "name": "stderr",
     "output_type": "stream",
     "text": [
      "INFO:tensorflow:Assets written to: model0\\assets\n"
     ]
    },
    {
     "name": "stdout",
     "output_type": "stream",
     "text": [
      "8/8 [==============================] - 3s 445ms/step - loss: 0.5783 - root_mean_squared_error: 0.7605 - val_loss: 0.7651 - val_root_mean_squared_error: 0.8747\n",
      "Epoch 102/2500\n",
      "1/8 [==>...........................] - ETA: 0s - loss: 0.3072 - root_mean_squared_error: 0.5543"
     ]
    },
    {
     "name": "stderr",
     "output_type": "stream",
     "text": [
      "WARNING:absl:Found untraced functions such as lstm_cell_layer_call_fn, lstm_cell_layer_call_and_return_conditional_losses while saving (showing 2 of 2). These functions will not be directly callable after loading.\n"
     ]
    },
    {
     "name": "stdout",
     "output_type": "stream",
     "text": [
      "INFO:tensorflow:Assets written to: model0\\assets\n"
     ]
    },
    {
     "name": "stderr",
     "output_type": "stream",
     "text": [
      "INFO:tensorflow:Assets written to: model0\\assets\n"
     ]
    },
    {
     "name": "stdout",
     "output_type": "stream",
     "text": [
      "8/8 [==============================] - 3s 464ms/step - loss: 0.5659 - root_mean_squared_error: 0.7522 - val_loss: 0.7476 - val_root_mean_squared_error: 0.8646\n",
      "Epoch 103/2500\n",
      "1/8 [==>...........................] - ETA: 0s - loss: 0.5891 - root_mean_squared_error: 0.7675"
     ]
    },
    {
     "name": "stderr",
     "output_type": "stream",
     "text": [
      "WARNING:absl:Found untraced functions such as lstm_cell_layer_call_fn, lstm_cell_layer_call_and_return_conditional_losses while saving (showing 2 of 2). These functions will not be directly callable after loading.\n"
     ]
    },
    {
     "name": "stdout",
     "output_type": "stream",
     "text": [
      "INFO:tensorflow:Assets written to: model0\\assets\n"
     ]
    },
    {
     "name": "stderr",
     "output_type": "stream",
     "text": [
      "INFO:tensorflow:Assets written to: model0\\assets\n"
     ]
    },
    {
     "name": "stdout",
     "output_type": "stream",
     "text": [
      "8/8 [==============================] - 4s 502ms/step - loss: 0.5540 - root_mean_squared_error: 0.7443 - val_loss: 0.7272 - val_root_mean_squared_error: 0.8528\n",
      "Epoch 104/2500\n",
      "1/8 [==>...........................] - ETA: 0s - loss: 0.8648 - root_mean_squared_error: 0.9299"
     ]
    },
    {
     "name": "stderr",
     "output_type": "stream",
     "text": [
      "WARNING:absl:Found untraced functions such as lstm_cell_layer_call_fn, lstm_cell_layer_call_and_return_conditional_losses while saving (showing 2 of 2). These functions will not be directly callable after loading.\n"
     ]
    },
    {
     "name": "stdout",
     "output_type": "stream",
     "text": [
      "INFO:tensorflow:Assets written to: model0\\assets\n"
     ]
    },
    {
     "name": "stderr",
     "output_type": "stream",
     "text": [
      "INFO:tensorflow:Assets written to: model0\\assets\n"
     ]
    },
    {
     "name": "stdout",
     "output_type": "stream",
     "text": [
      "8/8 [==============================] - 3s 448ms/step - loss: 0.5417 - root_mean_squared_error: 0.7360 - val_loss: 0.7040 - val_root_mean_squared_error: 0.8390\n",
      "Epoch 105/2500\n",
      "1/8 [==>...........................] - ETA: 0s - loss: 0.5250 - root_mean_squared_error: 0.7246"
     ]
    },
    {
     "name": "stderr",
     "output_type": "stream",
     "text": [
      "WARNING:absl:Found untraced functions such as lstm_cell_layer_call_fn, lstm_cell_layer_call_and_return_conditional_losses while saving (showing 2 of 2). These functions will not be directly callable after loading.\n"
     ]
    },
    {
     "name": "stdout",
     "output_type": "stream",
     "text": [
      "INFO:tensorflow:Assets written to: model0\\assets\n"
     ]
    },
    {
     "name": "stderr",
     "output_type": "stream",
     "text": [
      "INFO:tensorflow:Assets written to: model0\\assets\n"
     ]
    },
    {
     "name": "stdout",
     "output_type": "stream",
     "text": [
      "8/8 [==============================] - 3s 429ms/step - loss: 0.5273 - root_mean_squared_error: 0.7261 - val_loss: 0.6841 - val_root_mean_squared_error: 0.8271\n",
      "Epoch 106/2500\n",
      "1/8 [==>...........................] - ETA: 0s - loss: 0.5688 - root_mean_squared_error: 0.7542"
     ]
    },
    {
     "name": "stderr",
     "output_type": "stream",
     "text": [
      "WARNING:absl:Found untraced functions such as lstm_cell_layer_call_fn, lstm_cell_layer_call_and_return_conditional_losses while saving (showing 2 of 2). These functions will not be directly callable after loading.\n"
     ]
    },
    {
     "name": "stdout",
     "output_type": "stream",
     "text": [
      "INFO:tensorflow:Assets written to: model0\\assets\n"
     ]
    },
    {
     "name": "stderr",
     "output_type": "stream",
     "text": [
      "INFO:tensorflow:Assets written to: model0\\assets\n"
     ]
    },
    {
     "name": "stdout",
     "output_type": "stream",
     "text": [
      "8/8 [==============================] - 3s 479ms/step - loss: 0.5123 - root_mean_squared_error: 0.7157 - val_loss: 0.6716 - val_root_mean_squared_error: 0.8195\n",
      "Epoch 107/2500\n",
      "1/8 [==>...........................] - ETA: 0s - loss: 0.4116 - root_mean_squared_error: 0.6415"
     ]
    },
    {
     "name": "stderr",
     "output_type": "stream",
     "text": [
      "WARNING:absl:Found untraced functions such as lstm_cell_layer_call_fn, lstm_cell_layer_call_and_return_conditional_losses while saving (showing 2 of 2). These functions will not be directly callable after loading.\n"
     ]
    },
    {
     "name": "stdout",
     "output_type": "stream",
     "text": [
      "INFO:tensorflow:Assets written to: model0\\assets\n"
     ]
    },
    {
     "name": "stderr",
     "output_type": "stream",
     "text": [
      "INFO:tensorflow:Assets written to: model0\\assets\n"
     ]
    },
    {
     "name": "stdout",
     "output_type": "stream",
     "text": [
      "8/8 [==============================] - 3s 455ms/step - loss: 0.4972 - root_mean_squared_error: 0.7051 - val_loss: 0.6549 - val_root_mean_squared_error: 0.8093\n",
      "Epoch 108/2500\n",
      "1/8 [==>...........................] - ETA: 0s - loss: 0.5627 - root_mean_squared_error: 0.7501"
     ]
    },
    {
     "name": "stderr",
     "output_type": "stream",
     "text": [
      "WARNING:absl:Found untraced functions such as lstm_cell_layer_call_fn, lstm_cell_layer_call_and_return_conditional_losses while saving (showing 2 of 2). These functions will not be directly callable after loading.\n"
     ]
    },
    {
     "name": "stdout",
     "output_type": "stream",
     "text": [
      "INFO:tensorflow:Assets written to: model0\\assets\n"
     ]
    },
    {
     "name": "stderr",
     "output_type": "stream",
     "text": [
      "INFO:tensorflow:Assets written to: model0\\assets\n"
     ]
    },
    {
     "name": "stdout",
     "output_type": "stream",
     "text": [
      "8/8 [==============================] - 3s 481ms/step - loss: 0.4848 - root_mean_squared_error: 0.6963 - val_loss: 0.6415 - val_root_mean_squared_error: 0.8009\n",
      "Epoch 109/2500\n",
      "1/8 [==>...........................] - ETA: 0s - loss: 0.4854 - root_mean_squared_error: 0.6967"
     ]
    },
    {
     "name": "stderr",
     "output_type": "stream",
     "text": [
      "WARNING:absl:Found untraced functions such as lstm_cell_layer_call_fn, lstm_cell_layer_call_and_return_conditional_losses while saving (showing 2 of 2). These functions will not be directly callable after loading.\n"
     ]
    },
    {
     "name": "stdout",
     "output_type": "stream",
     "text": [
      "INFO:tensorflow:Assets written to: model0\\assets\n"
     ]
    },
    {
     "name": "stderr",
     "output_type": "stream",
     "text": [
      "INFO:tensorflow:Assets written to: model0\\assets\n"
     ]
    },
    {
     "name": "stdout",
     "output_type": "stream",
     "text": [
      "8/8 [==============================] - 4s 507ms/step - loss: 0.4736 - root_mean_squared_error: 0.6882 - val_loss: 0.6211 - val_root_mean_squared_error: 0.7881\n",
      "Epoch 110/2500\n",
      "1/8 [==>...........................] - ETA: 0s - loss: 0.3299 - root_mean_squared_error: 0.5744"
     ]
    },
    {
     "name": "stderr",
     "output_type": "stream",
     "text": [
      "WARNING:absl:Found untraced functions such as lstm_cell_layer_call_fn, lstm_cell_layer_call_and_return_conditional_losses while saving (showing 2 of 2). These functions will not be directly callable after loading.\n"
     ]
    },
    {
     "name": "stdout",
     "output_type": "stream",
     "text": [
      "INFO:tensorflow:Assets written to: model0\\assets\n"
     ]
    },
    {
     "name": "stderr",
     "output_type": "stream",
     "text": [
      "INFO:tensorflow:Assets written to: model0\\assets\n"
     ]
    },
    {
     "name": "stdout",
     "output_type": "stream",
     "text": [
      "8/8 [==============================] - 3s 460ms/step - loss: 0.4555 - root_mean_squared_error: 0.6749 - val_loss: 0.6005 - val_root_mean_squared_error: 0.7749\n",
      "Epoch 111/2500\n",
      "1/8 [==>...........................] - ETA: 0s - loss: 0.3145 - root_mean_squared_error: 0.5608"
     ]
    },
    {
     "name": "stderr",
     "output_type": "stream",
     "text": [
      "WARNING:absl:Found untraced functions such as lstm_cell_layer_call_fn, lstm_cell_layer_call_and_return_conditional_losses while saving (showing 2 of 2). These functions will not be directly callable after loading.\n"
     ]
    },
    {
     "name": "stdout",
     "output_type": "stream",
     "text": [
      "INFO:tensorflow:Assets written to: model0\\assets\n"
     ]
    },
    {
     "name": "stderr",
     "output_type": "stream",
     "text": [
      "INFO:tensorflow:Assets written to: model0\\assets\n"
     ]
    },
    {
     "name": "stdout",
     "output_type": "stream",
     "text": [
      "8/8 [==============================] - 3s 438ms/step - loss: 0.4398 - root_mean_squared_error: 0.6632 - val_loss: 0.5813 - val_root_mean_squared_error: 0.7624\n",
      "Epoch 112/2500\n",
      "1/8 [==>...........................] - ETA: 0s - loss: 0.2433 - root_mean_squared_error: 0.4933"
     ]
    },
    {
     "name": "stderr",
     "output_type": "stream",
     "text": [
      "WARNING:absl:Found untraced functions such as lstm_cell_layer_call_fn, lstm_cell_layer_call_and_return_conditional_losses while saving (showing 2 of 2). These functions will not be directly callable after loading.\n"
     ]
    },
    {
     "name": "stdout",
     "output_type": "stream",
     "text": [
      "INFO:tensorflow:Assets written to: model0\\assets\n"
     ]
    },
    {
     "name": "stderr",
     "output_type": "stream",
     "text": [
      "INFO:tensorflow:Assets written to: model0\\assets\n"
     ]
    },
    {
     "name": "stdout",
     "output_type": "stream",
     "text": [
      "8/8 [==============================] - 4s 524ms/step - loss: 0.4262 - root_mean_squared_error: 0.6529 - val_loss: 0.5689 - val_root_mean_squared_error: 0.7542\n",
      "Epoch 113/2500\n",
      "1/8 [==>...........................] - ETA: 0s - loss: 0.8161 - root_mean_squared_error: 0.9034"
     ]
    },
    {
     "name": "stderr",
     "output_type": "stream",
     "text": [
      "WARNING:absl:Found untraced functions such as lstm_cell_layer_call_fn, lstm_cell_layer_call_and_return_conditional_losses while saving (showing 2 of 2). These functions will not be directly callable after loading.\n"
     ]
    },
    {
     "name": "stdout",
     "output_type": "stream",
     "text": [
      "INFO:tensorflow:Assets written to: model0\\assets\n"
     ]
    },
    {
     "name": "stderr",
     "output_type": "stream",
     "text": [
      "INFO:tensorflow:Assets written to: model0\\assets\n"
     ]
    },
    {
     "name": "stdout",
     "output_type": "stream",
     "text": [
      "8/8 [==============================] - 3s 462ms/step - loss: 0.4133 - root_mean_squared_error: 0.6429 - val_loss: 0.5548 - val_root_mean_squared_error: 0.7449\n",
      "Epoch 114/2500\n",
      "1/8 [==>...........................] - ETA: 0s - loss: 0.3373 - root_mean_squared_error: 0.5808"
     ]
    },
    {
     "name": "stderr",
     "output_type": "stream",
     "text": [
      "WARNING:absl:Found untraced functions such as lstm_cell_layer_call_fn, lstm_cell_layer_call_and_return_conditional_losses while saving (showing 2 of 2). These functions will not be directly callable after loading.\n"
     ]
    },
    {
     "name": "stdout",
     "output_type": "stream",
     "text": [
      "INFO:tensorflow:Assets written to: model0\\assets\n"
     ]
    },
    {
     "name": "stderr",
     "output_type": "stream",
     "text": [
      "INFO:tensorflow:Assets written to: model0\\assets\n"
     ]
    },
    {
     "name": "stdout",
     "output_type": "stream",
     "text": [
      "8/8 [==============================] - 3s 460ms/step - loss: 0.4003 - root_mean_squared_error: 0.6327 - val_loss: 0.5386 - val_root_mean_squared_error: 0.7339\n",
      "Epoch 115/2500\n",
      "1/8 [==>...........................] - ETA: 0s - loss: 0.4743 - root_mean_squared_error: 0.6887"
     ]
    },
    {
     "name": "stderr",
     "output_type": "stream",
     "text": [
      "WARNING:absl:Found untraced functions such as lstm_cell_layer_call_fn, lstm_cell_layer_call_and_return_conditional_losses while saving (showing 2 of 2). These functions will not be directly callable after loading.\n"
     ]
    },
    {
     "name": "stdout",
     "output_type": "stream",
     "text": [
      "INFO:tensorflow:Assets written to: model0\\assets\n"
     ]
    },
    {
     "name": "stderr",
     "output_type": "stream",
     "text": [
      "INFO:tensorflow:Assets written to: model0\\assets\n"
     ]
    },
    {
     "name": "stdout",
     "output_type": "stream",
     "text": [
      "8/8 [==============================] - 3s 498ms/step - loss: 0.3888 - root_mean_squared_error: 0.6235 - val_loss: 0.5172 - val_root_mean_squared_error: 0.7192\n",
      "Epoch 116/2500\n",
      "1/8 [==>...........................] - ETA: 0s - loss: 0.4664 - root_mean_squared_error: 0.6829"
     ]
    },
    {
     "name": "stderr",
     "output_type": "stream",
     "text": [
      "WARNING:absl:Found untraced functions such as lstm_cell_layer_call_fn, lstm_cell_layer_call_and_return_conditional_losses while saving (showing 2 of 2). These functions will not be directly callable after loading.\n"
     ]
    },
    {
     "name": "stdout",
     "output_type": "stream",
     "text": [
      "INFO:tensorflow:Assets written to: model0\\assets\n"
     ]
    },
    {
     "name": "stderr",
     "output_type": "stream",
     "text": [
      "INFO:tensorflow:Assets written to: model0\\assets\n"
     ]
    },
    {
     "name": "stdout",
     "output_type": "stream",
     "text": [
      "8/8 [==============================] - 3s 465ms/step - loss: 0.3751 - root_mean_squared_error: 0.6125 - val_loss: 0.4702 - val_root_mean_squared_error: 0.6857\n",
      "Epoch 117/2500\n",
      "1/8 [==>...........................] - ETA: 0s - loss: 0.4419 - root_mean_squared_error: 0.6648"
     ]
    },
    {
     "name": "stderr",
     "output_type": "stream",
     "text": [
      "WARNING:absl:Found untraced functions such as lstm_cell_layer_call_fn, lstm_cell_layer_call_and_return_conditional_losses while saving (showing 2 of 2). These functions will not be directly callable after loading.\n"
     ]
    },
    {
     "name": "stdout",
     "output_type": "stream",
     "text": [
      "INFO:tensorflow:Assets written to: model0\\assets\n"
     ]
    },
    {
     "name": "stderr",
     "output_type": "stream",
     "text": [
      "INFO:tensorflow:Assets written to: model0\\assets\n"
     ]
    },
    {
     "name": "stdout",
     "output_type": "stream",
     "text": [
      "8/8 [==============================] - 4s 577ms/step - loss: 0.3555 - root_mean_squared_error: 0.5963 - val_loss: 0.4389 - val_root_mean_squared_error: 0.6625\n",
      "Epoch 118/2500\n",
      "1/8 [==>...........................] - ETA: 0s - loss: 0.4103 - root_mean_squared_error: 0.6405"
     ]
    },
    {
     "name": "stderr",
     "output_type": "stream",
     "text": [
      "WARNING:absl:Found untraced functions such as lstm_cell_layer_call_fn, lstm_cell_layer_call_and_return_conditional_losses while saving (showing 2 of 2). These functions will not be directly callable after loading.\n"
     ]
    },
    {
     "name": "stdout",
     "output_type": "stream",
     "text": [
      "INFO:tensorflow:Assets written to: model0\\assets\n"
     ]
    },
    {
     "name": "stderr",
     "output_type": "stream",
     "text": [
      "INFO:tensorflow:Assets written to: model0\\assets\n"
     ]
    },
    {
     "name": "stdout",
     "output_type": "stream",
     "text": [
      "8/8 [==============================] - 4s 574ms/step - loss: 0.3374 - root_mean_squared_error: 0.5808 - val_loss: 0.3986 - val_root_mean_squared_error: 0.6314\n",
      "Epoch 119/2500\n",
      "1/8 [==>...........................] - ETA: 0s - loss: 0.1233 - root_mean_squared_error: 0.3511"
     ]
    },
    {
     "name": "stderr",
     "output_type": "stream",
     "text": [
      "WARNING:absl:Found untraced functions such as lstm_cell_layer_call_fn, lstm_cell_layer_call_and_return_conditional_losses while saving (showing 2 of 2). These functions will not be directly callable after loading.\n"
     ]
    },
    {
     "name": "stdout",
     "output_type": "stream",
     "text": [
      "INFO:tensorflow:Assets written to: model0\\assets\n"
     ]
    },
    {
     "name": "stderr",
     "output_type": "stream",
     "text": [
      "INFO:tensorflow:Assets written to: model0\\assets\n"
     ]
    },
    {
     "name": "stdout",
     "output_type": "stream",
     "text": [
      "8/8 [==============================] - 3s 498ms/step - loss: 0.3166 - root_mean_squared_error: 0.5627 - val_loss: 0.3724 - val_root_mean_squared_error: 0.6102\n",
      "Epoch 120/2500\n",
      "1/8 [==>...........................] - ETA: 0s - loss: 0.2722 - root_mean_squared_error: 0.5217"
     ]
    },
    {
     "name": "stderr",
     "output_type": "stream",
     "text": [
      "WARNING:absl:Found untraced functions such as lstm_cell_layer_call_fn, lstm_cell_layer_call_and_return_conditional_losses while saving (showing 2 of 2). These functions will not be directly callable after loading.\n"
     ]
    },
    {
     "name": "stdout",
     "output_type": "stream",
     "text": [
      "INFO:tensorflow:Assets written to: model0\\assets\n"
     ]
    },
    {
     "name": "stderr",
     "output_type": "stream",
     "text": [
      "INFO:tensorflow:Assets written to: model0\\assets\n"
     ]
    },
    {
     "name": "stdout",
     "output_type": "stream",
     "text": [
      "8/8 [==============================] - 4s 502ms/step - loss: 0.3030 - root_mean_squared_error: 0.5505 - val_loss: 0.3536 - val_root_mean_squared_error: 0.5947\n",
      "Epoch 121/2500\n",
      "1/8 [==>...........................] - ETA: 0s - loss: 0.2439 - root_mean_squared_error: 0.4939"
     ]
    },
    {
     "name": "stderr",
     "output_type": "stream",
     "text": [
      "WARNING:absl:Found untraced functions such as lstm_cell_layer_call_fn, lstm_cell_layer_call_and_return_conditional_losses while saving (showing 2 of 2). These functions will not be directly callable after loading.\n"
     ]
    },
    {
     "name": "stdout",
     "output_type": "stream",
     "text": [
      "INFO:tensorflow:Assets written to: model0\\assets\n"
     ]
    },
    {
     "name": "stderr",
     "output_type": "stream",
     "text": [
      "INFO:tensorflow:Assets written to: model0\\assets\n"
     ]
    },
    {
     "name": "stdout",
     "output_type": "stream",
     "text": [
      "8/8 [==============================] - 3s 453ms/step - loss: 0.2903 - root_mean_squared_error: 0.5388 - val_loss: 0.3389 - val_root_mean_squared_error: 0.5821\n",
      "Epoch 122/2500\n",
      "1/8 [==>...........................] - ETA: 0s - loss: 0.3026 - root_mean_squared_error: 0.5501"
     ]
    },
    {
     "name": "stderr",
     "output_type": "stream",
     "text": [
      "WARNING:absl:Found untraced functions such as lstm_cell_layer_call_fn, lstm_cell_layer_call_and_return_conditional_losses while saving (showing 2 of 2). These functions will not be directly callable after loading.\n"
     ]
    },
    {
     "name": "stdout",
     "output_type": "stream",
     "text": [
      "INFO:tensorflow:Assets written to: model0\\assets\n"
     ]
    },
    {
     "name": "stderr",
     "output_type": "stream",
     "text": [
      "INFO:tensorflow:Assets written to: model0\\assets\n"
     ]
    },
    {
     "name": "stdout",
     "output_type": "stream",
     "text": [
      "8/8 [==============================] - 3s 479ms/step - loss: 0.2792 - root_mean_squared_error: 0.5284 - val_loss: 0.3255 - val_root_mean_squared_error: 0.5705\n",
      "Epoch 123/2500\n",
      "1/8 [==>...........................] - ETA: 0s - loss: 0.4638 - root_mean_squared_error: 0.6810"
     ]
    },
    {
     "name": "stderr",
     "output_type": "stream",
     "text": [
      "WARNING:absl:Found untraced functions such as lstm_cell_layer_call_fn, lstm_cell_layer_call_and_return_conditional_losses while saving (showing 2 of 2). These functions will not be directly callable after loading.\n"
     ]
    },
    {
     "name": "stdout",
     "output_type": "stream",
     "text": [
      "INFO:tensorflow:Assets written to: model0\\assets\n"
     ]
    },
    {
     "name": "stderr",
     "output_type": "stream",
     "text": [
      "INFO:tensorflow:Assets written to: model0\\assets\n"
     ]
    },
    {
     "name": "stdout",
     "output_type": "stream",
     "text": [
      "8/8 [==============================] - 4s 505ms/step - loss: 0.2706 - root_mean_squared_error: 0.5202 - val_loss: 0.3113 - val_root_mean_squared_error: 0.5579\n",
      "Epoch 124/2500\n",
      "8/8 [==============================] - ETA: 0s - loss: 0.2603 - root_mean_squared_error: 0.5102"
     ]
    },
    {
     "name": "stderr",
     "output_type": "stream",
     "text": [
      "WARNING:absl:Found untraced functions such as lstm_cell_layer_call_fn, lstm_cell_layer_call_and_return_conditional_losses while saving (showing 2 of 2). These functions will not be directly callable after loading.\n"
     ]
    },
    {
     "name": "stdout",
     "output_type": "stream",
     "text": [
      "INFO:tensorflow:Assets written to: model0\\assets\n"
     ]
    },
    {
     "name": "stderr",
     "output_type": "stream",
     "text": [
      "INFO:tensorflow:Assets written to: model0\\assets\n"
     ]
    },
    {
     "name": "stdout",
     "output_type": "stream",
     "text": [
      "8/8 [==============================] - 3s 469ms/step - loss: 0.2603 - root_mean_squared_error: 0.5102 - val_loss: 0.2986 - val_root_mean_squared_error: 0.5465\n",
      "Epoch 125/2500\n",
      "1/8 [==>...........................] - ETA: 0s - loss: 0.1837 - root_mean_squared_error: 0.4286"
     ]
    },
    {
     "name": "stderr",
     "output_type": "stream",
     "text": [
      "WARNING:absl:Found untraced functions such as lstm_cell_layer_call_fn, lstm_cell_layer_call_and_return_conditional_losses while saving (showing 2 of 2). These functions will not be directly callable after loading.\n"
     ]
    },
    {
     "name": "stdout",
     "output_type": "stream",
     "text": [
      "INFO:tensorflow:Assets written to: model0\\assets\n"
     ]
    },
    {
     "name": "stderr",
     "output_type": "stream",
     "text": [
      "INFO:tensorflow:Assets written to: model0\\assets\n"
     ]
    },
    {
     "name": "stdout",
     "output_type": "stream",
     "text": [
      "8/8 [==============================] - 4s 529ms/step - loss: 0.2504 - root_mean_squared_error: 0.5004 - val_loss: 0.2871 - val_root_mean_squared_error: 0.5358\n",
      "Epoch 126/2500\n",
      "1/8 [==>...........................] - ETA: 0s - loss: 0.2960 - root_mean_squared_error: 0.5441"
     ]
    },
    {
     "name": "stderr",
     "output_type": "stream",
     "text": [
      "WARNING:absl:Found untraced functions such as lstm_cell_layer_call_fn, lstm_cell_layer_call_and_return_conditional_losses while saving (showing 2 of 2). These functions will not be directly callable after loading.\n"
     ]
    },
    {
     "name": "stdout",
     "output_type": "stream",
     "text": [
      "INFO:tensorflow:Assets written to: model0\\assets\n"
     ]
    },
    {
     "name": "stderr",
     "output_type": "stream",
     "text": [
      "INFO:tensorflow:Assets written to: model0\\assets\n"
     ]
    },
    {
     "name": "stdout",
     "output_type": "stream",
     "text": [
      "8/8 [==============================] - 3s 498ms/step - loss: 0.2412 - root_mean_squared_error: 0.4912 - val_loss: 0.2746 - val_root_mean_squared_error: 0.5241\n",
      "Epoch 127/2500\n",
      "1/8 [==>...........................] - ETA: 0s - loss: 0.3655 - root_mean_squared_error: 0.6046"
     ]
    },
    {
     "name": "stderr",
     "output_type": "stream",
     "text": [
      "WARNING:absl:Found untraced functions such as lstm_cell_layer_call_fn, lstm_cell_layer_call_and_return_conditional_losses while saving (showing 2 of 2). These functions will not be directly callable after loading.\n"
     ]
    },
    {
     "name": "stdout",
     "output_type": "stream",
     "text": [
      "INFO:tensorflow:Assets written to: model0\\assets\n"
     ]
    },
    {
     "name": "stderr",
     "output_type": "stream",
     "text": [
      "INFO:tensorflow:Assets written to: model0\\assets\n"
     ]
    },
    {
     "name": "stdout",
     "output_type": "stream",
     "text": [
      "8/8 [==============================] - 3s 474ms/step - loss: 0.2298 - root_mean_squared_error: 0.4793 - val_loss: 0.2565 - val_root_mean_squared_error: 0.5064\n",
      "Epoch 128/2500\n",
      "1/8 [==>...........................] - ETA: 0s - loss: 0.0462 - root_mean_squared_error: 0.2150"
     ]
    },
    {
     "name": "stderr",
     "output_type": "stream",
     "text": [
      "WARNING:absl:Found untraced functions such as lstm_cell_layer_call_fn, lstm_cell_layer_call_and_return_conditional_losses while saving (showing 2 of 2). These functions will not be directly callable after loading.\n"
     ]
    },
    {
     "name": "stdout",
     "output_type": "stream",
     "text": [
      "INFO:tensorflow:Assets written to: model0\\assets\n"
     ]
    },
    {
     "name": "stderr",
     "output_type": "stream",
     "text": [
      "INFO:tensorflow:Assets written to: model0\\assets\n"
     ]
    },
    {
     "name": "stdout",
     "output_type": "stream",
     "text": [
      "8/8 [==============================] - 3s 495ms/step - loss: 0.2150 - root_mean_squared_error: 0.4636 - val_loss: 0.2486 - val_root_mean_squared_error: 0.4986\n",
      "Epoch 129/2500\n",
      "1/8 [==>...........................] - ETA: 0s - loss: 0.2867 - root_mean_squared_error: 0.5354"
     ]
    },
    {
     "name": "stderr",
     "output_type": "stream",
     "text": [
      "WARNING:absl:Found untraced functions such as lstm_cell_layer_call_fn, lstm_cell_layer_call_and_return_conditional_losses while saving (showing 2 of 2). These functions will not be directly callable after loading.\n"
     ]
    },
    {
     "name": "stdout",
     "output_type": "stream",
     "text": [
      "INFO:tensorflow:Assets written to: model0\\assets\n"
     ]
    },
    {
     "name": "stderr",
     "output_type": "stream",
     "text": [
      "INFO:tensorflow:Assets written to: model0\\assets\n"
     ]
    },
    {
     "name": "stdout",
     "output_type": "stream",
     "text": [
      "8/8 [==============================] - 3s 486ms/step - loss: 0.2063 - root_mean_squared_error: 0.4542 - val_loss: 0.2371 - val_root_mean_squared_error: 0.4870\n",
      "Epoch 130/2500\n",
      "1/8 [==>...........................] - ETA: 0s - loss: 0.2366 - root_mean_squared_error: 0.4864"
     ]
    },
    {
     "name": "stderr",
     "output_type": "stream",
     "text": [
      "WARNING:absl:Found untraced functions such as lstm_cell_layer_call_fn, lstm_cell_layer_call_and_return_conditional_losses while saving (showing 2 of 2). These functions will not be directly callable after loading.\n"
     ]
    },
    {
     "name": "stdout",
     "output_type": "stream",
     "text": [
      "INFO:tensorflow:Assets written to: model0\\assets\n"
     ]
    },
    {
     "name": "stderr",
     "output_type": "stream",
     "text": [
      "INFO:tensorflow:Assets written to: model0\\assets\n"
     ]
    },
    {
     "name": "stdout",
     "output_type": "stream",
     "text": [
      "8/8 [==============================] - 3s 475ms/step - loss: 0.1972 - root_mean_squared_error: 0.4441 - val_loss: 0.2253 - val_root_mean_squared_error: 0.4747\n",
      "Epoch 131/2500\n",
      "1/8 [==>...........................] - ETA: 0s - loss: 0.1249 - root_mean_squared_error: 0.3533"
     ]
    },
    {
     "name": "stderr",
     "output_type": "stream",
     "text": [
      "WARNING:absl:Found untraced functions such as lstm_cell_layer_call_fn, lstm_cell_layer_call_and_return_conditional_losses while saving (showing 2 of 2). These functions will not be directly callable after loading.\n"
     ]
    },
    {
     "name": "stdout",
     "output_type": "stream",
     "text": [
      "INFO:tensorflow:Assets written to: model0\\assets\n"
     ]
    },
    {
     "name": "stderr",
     "output_type": "stream",
     "text": [
      "INFO:tensorflow:Assets written to: model0\\assets\n"
     ]
    },
    {
     "name": "stdout",
     "output_type": "stream",
     "text": [
      "8/8 [==============================] - 4s 543ms/step - loss: 0.1871 - root_mean_squared_error: 0.4325 - val_loss: 0.2145 - val_root_mean_squared_error: 0.4631\n",
      "Epoch 132/2500\n",
      "1/8 [==>...........................] - ETA: 0s - loss: 0.1490 - root_mean_squared_error: 0.3860"
     ]
    },
    {
     "name": "stderr",
     "output_type": "stream",
     "text": [
      "WARNING:absl:Found untraced functions such as lstm_cell_layer_call_fn, lstm_cell_layer_call_and_return_conditional_losses while saving (showing 2 of 2). These functions will not be directly callable after loading.\n"
     ]
    },
    {
     "name": "stdout",
     "output_type": "stream",
     "text": [
      "INFO:tensorflow:Assets written to: model0\\assets\n"
     ]
    },
    {
     "name": "stderr",
     "output_type": "stream",
     "text": [
      "INFO:tensorflow:Assets written to: model0\\assets\n"
     ]
    },
    {
     "name": "stdout",
     "output_type": "stream",
     "text": [
      "8/8 [==============================] - 3s 490ms/step - loss: 0.1786 - root_mean_squared_error: 0.4226 - val_loss: 0.2038 - val_root_mean_squared_error: 0.4514\n",
      "Epoch 133/2500\n",
      "1/8 [==>...........................] - ETA: 0s - loss: 0.1359 - root_mean_squared_error: 0.3686"
     ]
    },
    {
     "name": "stderr",
     "output_type": "stream",
     "text": [
      "WARNING:absl:Found untraced functions such as lstm_cell_layer_call_fn, lstm_cell_layer_call_and_return_conditional_losses while saving (showing 2 of 2). These functions will not be directly callable after loading.\n"
     ]
    },
    {
     "name": "stdout",
     "output_type": "stream",
     "text": [
      "INFO:tensorflow:Assets written to: model0\\assets\n"
     ]
    },
    {
     "name": "stderr",
     "output_type": "stream",
     "text": [
      "INFO:tensorflow:Assets written to: model0\\assets\n"
     ]
    },
    {
     "name": "stdout",
     "output_type": "stream",
     "text": [
      "8/8 [==============================] - 3s 493ms/step - loss: 0.1707 - root_mean_squared_error: 0.4131 - val_loss: 0.1951 - val_root_mean_squared_error: 0.4417\n",
      "Epoch 134/2500\n",
      "1/8 [==>...........................] - ETA: 0s - loss: 0.1859 - root_mean_squared_error: 0.4312"
     ]
    },
    {
     "name": "stderr",
     "output_type": "stream",
     "text": [
      "WARNING:absl:Found untraced functions such as lstm_cell_layer_call_fn, lstm_cell_layer_call_and_return_conditional_losses while saving (showing 2 of 2). These functions will not be directly callable after loading.\n"
     ]
    },
    {
     "name": "stdout",
     "output_type": "stream",
     "text": [
      "INFO:tensorflow:Assets written to: model0\\assets\n"
     ]
    },
    {
     "name": "stderr",
     "output_type": "stream",
     "text": [
      "INFO:tensorflow:Assets written to: model0\\assets\n"
     ]
    },
    {
     "name": "stdout",
     "output_type": "stream",
     "text": [
      "8/8 [==============================] - 4s 512ms/step - loss: 0.1634 - root_mean_squared_error: 0.4043 - val_loss: 0.1881 - val_root_mean_squared_error: 0.4337\n",
      "Epoch 135/2500\n",
      "1/8 [==>...........................] - ETA: 0s - loss: 0.1541 - root_mean_squared_error: 0.3926"
     ]
    },
    {
     "name": "stderr",
     "output_type": "stream",
     "text": [
      "WARNING:absl:Found untraced functions such as lstm_cell_layer_call_fn, lstm_cell_layer_call_and_return_conditional_losses while saving (showing 2 of 2). These functions will not be directly callable after loading.\n"
     ]
    },
    {
     "name": "stdout",
     "output_type": "stream",
     "text": [
      "INFO:tensorflow:Assets written to: model0\\assets\n"
     ]
    },
    {
     "name": "stderr",
     "output_type": "stream",
     "text": [
      "INFO:tensorflow:Assets written to: model0\\assets\n"
     ]
    },
    {
     "name": "stdout",
     "output_type": "stream",
     "text": [
      "8/8 [==============================] - 4s 516ms/step - loss: 0.1564 - root_mean_squared_error: 0.3954 - val_loss: 0.1839 - val_root_mean_squared_error: 0.4288\n",
      "Epoch 136/2500\n",
      "1/8 [==>...........................] - ETA: 0s - loss: 0.2584 - root_mean_squared_error: 0.5083"
     ]
    },
    {
     "name": "stderr",
     "output_type": "stream",
     "text": [
      "WARNING:absl:Found untraced functions such as lstm_cell_layer_call_fn, lstm_cell_layer_call_and_return_conditional_losses while saving (showing 2 of 2). These functions will not be directly callable after loading.\n"
     ]
    },
    {
     "name": "stdout",
     "output_type": "stream",
     "text": [
      "INFO:tensorflow:Assets written to: model0\\assets\n"
     ]
    },
    {
     "name": "stderr",
     "output_type": "stream",
     "text": [
      "INFO:tensorflow:Assets written to: model0\\assets\n"
     ]
    },
    {
     "name": "stdout",
     "output_type": "stream",
     "text": [
      "8/8 [==============================] - 3s 467ms/step - loss: 0.1500 - root_mean_squared_error: 0.3873 - val_loss: 0.1774 - val_root_mean_squared_error: 0.4212\n",
      "Epoch 137/2500\n",
      "1/8 [==>...........................] - ETA: 0s - loss: 0.1923 - root_mean_squared_error: 0.4385"
     ]
    },
    {
     "name": "stderr",
     "output_type": "stream",
     "text": [
      "WARNING:absl:Found untraced functions such as lstm_cell_layer_call_fn, lstm_cell_layer_call_and_return_conditional_losses while saving (showing 2 of 2). These functions will not be directly callable after loading.\n"
     ]
    },
    {
     "name": "stdout",
     "output_type": "stream",
     "text": [
      "INFO:tensorflow:Assets written to: model0\\assets\n"
     ]
    },
    {
     "name": "stderr",
     "output_type": "stream",
     "text": [
      "INFO:tensorflow:Assets written to: model0\\assets\n"
     ]
    },
    {
     "name": "stdout",
     "output_type": "stream",
     "text": [
      "8/8 [==============================] - 4s 542ms/step - loss: 0.1433 - root_mean_squared_error: 0.3786 - val_loss: 0.1681 - val_root_mean_squared_error: 0.4100\n",
      "Epoch 138/2500\n",
      "1/8 [==>...........................] - ETA: 0s - loss: 0.1220 - root_mean_squared_error: 0.3493"
     ]
    },
    {
     "name": "stderr",
     "output_type": "stream",
     "text": [
      "WARNING:absl:Found untraced functions such as lstm_cell_layer_call_fn, lstm_cell_layer_call_and_return_conditional_losses while saving (showing 2 of 2). These functions will not be directly callable after loading.\n"
     ]
    },
    {
     "name": "stdout",
     "output_type": "stream",
     "text": [
      "INFO:tensorflow:Assets written to: model0\\assets\n"
     ]
    },
    {
     "name": "stderr",
     "output_type": "stream",
     "text": [
      "INFO:tensorflow:Assets written to: model0\\assets\n"
     ]
    },
    {
     "name": "stdout",
     "output_type": "stream",
     "text": [
      "8/8 [==============================] - 3s 473ms/step - loss: 0.1371 - root_mean_squared_error: 0.3702 - val_loss: 0.1584 - val_root_mean_squared_error: 0.3979\n",
      "Epoch 139/2500\n",
      "1/8 [==>...........................] - ETA: 0s - loss: 0.1407 - root_mean_squared_error: 0.3751"
     ]
    },
    {
     "name": "stderr",
     "output_type": "stream",
     "text": [
      "WARNING:absl:Found untraced functions such as lstm_cell_layer_call_fn, lstm_cell_layer_call_and_return_conditional_losses while saving (showing 2 of 2). These functions will not be directly callable after loading.\n"
     ]
    },
    {
     "name": "stdout",
     "output_type": "stream",
     "text": [
      "INFO:tensorflow:Assets written to: model0\\assets\n"
     ]
    },
    {
     "name": "stderr",
     "output_type": "stream",
     "text": [
      "INFO:tensorflow:Assets written to: model0\\assets\n"
     ]
    },
    {
     "name": "stdout",
     "output_type": "stream",
     "text": [
      "8/8 [==============================] - 3s 472ms/step - loss: 0.1319 - root_mean_squared_error: 0.3631 - val_loss: 0.1511 - val_root_mean_squared_error: 0.3888\n",
      "Epoch 140/2500\n",
      "1/8 [==>...........................] - ETA: 0s - loss: 0.1081 - root_mean_squared_error: 0.3287"
     ]
    },
    {
     "name": "stderr",
     "output_type": "stream",
     "text": [
      "WARNING:absl:Found untraced functions such as lstm_cell_layer_call_fn, lstm_cell_layer_call_and_return_conditional_losses while saving (showing 2 of 2). These functions will not be directly callable after loading.\n"
     ]
    },
    {
     "name": "stdout",
     "output_type": "stream",
     "text": [
      "INFO:tensorflow:Assets written to: model0\\assets\n"
     ]
    },
    {
     "name": "stderr",
     "output_type": "stream",
     "text": [
      "INFO:tensorflow:Assets written to: model0\\assets\n"
     ]
    },
    {
     "name": "stdout",
     "output_type": "stream",
     "text": [
      "8/8 [==============================] - 3s 493ms/step - loss: 0.1275 - root_mean_squared_error: 0.3571 - val_loss: 0.1446 - val_root_mean_squared_error: 0.3803\n",
      "Epoch 141/2500\n",
      "1/8 [==>...........................] - ETA: 0s - loss: 0.2042 - root_mean_squared_error: 0.4519"
     ]
    },
    {
     "name": "stderr",
     "output_type": "stream",
     "text": [
      "WARNING:absl:Found untraced functions such as lstm_cell_layer_call_fn, lstm_cell_layer_call_and_return_conditional_losses while saving (showing 2 of 2). These functions will not be directly callable after loading.\n"
     ]
    },
    {
     "name": "stdout",
     "output_type": "stream",
     "text": [
      "INFO:tensorflow:Assets written to: model0\\assets\n"
     ]
    },
    {
     "name": "stderr",
     "output_type": "stream",
     "text": [
      "INFO:tensorflow:Assets written to: model0\\assets\n"
     ]
    },
    {
     "name": "stdout",
     "output_type": "stream",
     "text": [
      "8/8 [==============================] - 3s 461ms/step - loss: 0.1233 - root_mean_squared_error: 0.3511 - val_loss: 0.1420 - val_root_mean_squared_error: 0.3768\n",
      "Epoch 142/2500\n",
      "1/8 [==>...........................] - ETA: 0s - loss: 0.0710 - root_mean_squared_error: 0.2665"
     ]
    },
    {
     "name": "stderr",
     "output_type": "stream",
     "text": [
      "WARNING:absl:Found untraced functions such as lstm_cell_layer_call_fn, lstm_cell_layer_call_and_return_conditional_losses while saving (showing 2 of 2). These functions will not be directly callable after loading.\n"
     ]
    },
    {
     "name": "stdout",
     "output_type": "stream",
     "text": [
      "INFO:tensorflow:Assets written to: model0\\assets\n"
     ]
    },
    {
     "name": "stderr",
     "output_type": "stream",
     "text": [
      "INFO:tensorflow:Assets written to: model0\\assets\n"
     ]
    },
    {
     "name": "stdout",
     "output_type": "stream",
     "text": [
      "8/8 [==============================] - 3s 491ms/step - loss: 0.1183 - root_mean_squared_error: 0.3439 - val_loss: 0.1398 - val_root_mean_squared_error: 0.3739\n",
      "Epoch 143/2500\n",
      "1/8 [==>...........................] - ETA: 0s - loss: 0.1454 - root_mean_squared_error: 0.3813"
     ]
    },
    {
     "name": "stderr",
     "output_type": "stream",
     "text": [
      "WARNING:absl:Found untraced functions such as lstm_cell_layer_call_fn, lstm_cell_layer_call_and_return_conditional_losses while saving (showing 2 of 2). These functions will not be directly callable after loading.\n"
     ]
    },
    {
     "name": "stdout",
     "output_type": "stream",
     "text": [
      "INFO:tensorflow:Assets written to: model0\\assets\n"
     ]
    },
    {
     "name": "stderr",
     "output_type": "stream",
     "text": [
      "INFO:tensorflow:Assets written to: model0\\assets\n"
     ]
    },
    {
     "name": "stdout",
     "output_type": "stream",
     "text": [
      "8/8 [==============================] - 3s 497ms/step - loss: 0.1139 - root_mean_squared_error: 0.3375 - val_loss: 0.1381 - val_root_mean_squared_error: 0.3716\n",
      "Epoch 144/2500\n",
      "1/8 [==>...........................] - ETA: 0s - loss: 0.0891 - root_mean_squared_error: 0.2985"
     ]
    },
    {
     "name": "stderr",
     "output_type": "stream",
     "text": [
      "WARNING:absl:Found untraced functions such as lstm_cell_layer_call_fn, lstm_cell_layer_call_and_return_conditional_losses while saving (showing 2 of 2). These functions will not be directly callable after loading.\n"
     ]
    },
    {
     "name": "stdout",
     "output_type": "stream",
     "text": [
      "INFO:tensorflow:Assets written to: model0\\assets\n"
     ]
    },
    {
     "name": "stderr",
     "output_type": "stream",
     "text": [
      "INFO:tensorflow:Assets written to: model0\\assets\n"
     ]
    },
    {
     "name": "stdout",
     "output_type": "stream",
     "text": [
      "8/8 [==============================] - 4s 536ms/step - loss: 0.1100 - root_mean_squared_error: 0.3316 - val_loss: 0.1375 - val_root_mean_squared_error: 0.3709\n",
      "Epoch 145/2500\n",
      "8/8 [==============================] - 0s 9ms/step - loss: 0.1046 - root_mean_squared_error: 0.3234 - val_loss: 0.1386 - val_root_mean_squared_error: 0.3723\n",
      "Epoch 146/2500\n",
      "8/8 [==============================] - 0s 10ms/step - loss: 0.1005 - root_mean_squared_error: 0.3170 - val_loss: 0.1389 - val_root_mean_squared_error: 0.3727\n",
      "Epoch 147/2500\n",
      "1/8 [==>...........................] - ETA: 0s - loss: 0.1195 - root_mean_squared_error: 0.3457"
     ]
    },
    {
     "name": "stderr",
     "output_type": "stream",
     "text": [
      "WARNING:absl:Found untraced functions such as lstm_cell_layer_call_fn, lstm_cell_layer_call_and_return_conditional_losses while saving (showing 2 of 2). These functions will not be directly callable after loading.\n"
     ]
    },
    {
     "name": "stdout",
     "output_type": "stream",
     "text": [
      "INFO:tensorflow:Assets written to: model0\\assets\n"
     ]
    },
    {
     "name": "stderr",
     "output_type": "stream",
     "text": [
      "INFO:tensorflow:Assets written to: model0\\assets\n"
     ]
    },
    {
     "name": "stdout",
     "output_type": "stream",
     "text": [
      "8/8 [==============================] - 4s 509ms/step - loss: 0.0957 - root_mean_squared_error: 0.3094 - val_loss: 0.1374 - val_root_mean_squared_error: 0.3707\n",
      "Epoch 148/2500\n",
      "1/8 [==>...........................] - ETA: 0s - loss: 0.1694 - root_mean_squared_error: 0.4116"
     ]
    },
    {
     "name": "stderr",
     "output_type": "stream",
     "text": [
      "WARNING:absl:Found untraced functions such as lstm_cell_layer_call_fn, lstm_cell_layer_call_and_return_conditional_losses while saving (showing 2 of 2). These functions will not be directly callable after loading.\n"
     ]
    },
    {
     "name": "stdout",
     "output_type": "stream",
     "text": [
      "INFO:tensorflow:Assets written to: model0\\assets\n"
     ]
    },
    {
     "name": "stderr",
     "output_type": "stream",
     "text": [
      "INFO:tensorflow:Assets written to: model0\\assets\n"
     ]
    },
    {
     "name": "stdout",
     "output_type": "stream",
     "text": [
      "8/8 [==============================] - 4s 536ms/step - loss: 0.0912 - root_mean_squared_error: 0.3020 - val_loss: 0.1358 - val_root_mean_squared_error: 0.3685\n",
      "Epoch 149/2500\n",
      "1/8 [==>...........................] - ETA: 0s - loss: 0.0405 - root_mean_squared_error: 0.2011"
     ]
    },
    {
     "name": "stderr",
     "output_type": "stream",
     "text": [
      "WARNING:absl:Found untraced functions such as lstm_cell_layer_call_fn, lstm_cell_layer_call_and_return_conditional_losses while saving (showing 2 of 2). These functions will not be directly callable after loading.\n"
     ]
    },
    {
     "name": "stdout",
     "output_type": "stream",
     "text": [
      "INFO:tensorflow:Assets written to: model0\\assets\n"
     ]
    },
    {
     "name": "stderr",
     "output_type": "stream",
     "text": [
      "INFO:tensorflow:Assets written to: model0\\assets\n"
     ]
    },
    {
     "name": "stdout",
     "output_type": "stream",
     "text": [
      "8/8 [==============================] - 3s 491ms/step - loss: 0.0870 - root_mean_squared_error: 0.2950 - val_loss: 0.1286 - val_root_mean_squared_error: 0.3585\n",
      "Epoch 150/2500\n",
      "1/8 [==>...........................] - ETA: 0s - loss: 0.1156 - root_mean_squared_error: 0.3400"
     ]
    },
    {
     "name": "stderr",
     "output_type": "stream",
     "text": [
      "WARNING:absl:Found untraced functions such as lstm_cell_layer_call_fn, lstm_cell_layer_call_and_return_conditional_losses while saving (showing 2 of 2). These functions will not be directly callable after loading.\n"
     ]
    },
    {
     "name": "stdout",
     "output_type": "stream",
     "text": [
      "INFO:tensorflow:Assets written to: model0\\assets\n"
     ]
    },
    {
     "name": "stderr",
     "output_type": "stream",
     "text": [
      "INFO:tensorflow:Assets written to: model0\\assets\n"
     ]
    },
    {
     "name": "stdout",
     "output_type": "stream",
     "text": [
      "8/8 [==============================] - 4s 592ms/step - loss: 0.0846 - root_mean_squared_error: 0.2909 - val_loss: 0.1200 - val_root_mean_squared_error: 0.3465\n",
      "Epoch 151/2500\n",
      "8/8 [==============================] - ETA: 0s - loss: 0.0821 - root_mean_squared_error: 0.2866"
     ]
    },
    {
     "name": "stderr",
     "output_type": "stream",
     "text": [
      "WARNING:absl:Found untraced functions such as lstm_cell_layer_call_fn, lstm_cell_layer_call_and_return_conditional_losses while saving (showing 2 of 2). These functions will not be directly callable after loading.\n"
     ]
    },
    {
     "name": "stdout",
     "output_type": "stream",
     "text": [
      "INFO:tensorflow:Assets written to: model0\\assets\n"
     ]
    },
    {
     "name": "stderr",
     "output_type": "stream",
     "text": [
      "INFO:tensorflow:Assets written to: model0\\assets\n"
     ]
    },
    {
     "name": "stdout",
     "output_type": "stream",
     "text": [
      "8/8 [==============================] - 4s 557ms/step - loss: 0.0821 - root_mean_squared_error: 0.2866 - val_loss: 0.1106 - val_root_mean_squared_error: 0.3326\n",
      "Epoch 152/2500\n",
      "1/8 [==>...........................] - ETA: 0s - loss: 0.0609 - root_mean_squared_error: 0.2469"
     ]
    },
    {
     "name": "stderr",
     "output_type": "stream",
     "text": [
      "WARNING:absl:Found untraced functions such as lstm_cell_layer_call_fn, lstm_cell_layer_call_and_return_conditional_losses while saving (showing 2 of 2). These functions will not be directly callable after loading.\n"
     ]
    },
    {
     "name": "stdout",
     "output_type": "stream",
     "text": [
      "INFO:tensorflow:Assets written to: model0\\assets\n"
     ]
    },
    {
     "name": "stderr",
     "output_type": "stream",
     "text": [
      "INFO:tensorflow:Assets written to: model0\\assets\n"
     ]
    },
    {
     "name": "stdout",
     "output_type": "stream",
     "text": [
      "8/8 [==============================] - 4s 525ms/step - loss: 0.0806 - root_mean_squared_error: 0.2839 - val_loss: 0.1055 - val_root_mean_squared_error: 0.3247\n",
      "Epoch 153/2500\n",
      "1/8 [==>...........................] - ETA: 0s - loss: 0.1020 - root_mean_squared_error: 0.3194"
     ]
    },
    {
     "name": "stderr",
     "output_type": "stream",
     "text": [
      "WARNING:absl:Found untraced functions such as lstm_cell_layer_call_fn, lstm_cell_layer_call_and_return_conditional_losses while saving (showing 2 of 2). These functions will not be directly callable after loading.\n"
     ]
    },
    {
     "name": "stdout",
     "output_type": "stream",
     "text": [
      "INFO:tensorflow:Assets written to: model0\\assets\n"
     ]
    },
    {
     "name": "stderr",
     "output_type": "stream",
     "text": [
      "INFO:tensorflow:Assets written to: model0\\assets\n"
     ]
    },
    {
     "name": "stdout",
     "output_type": "stream",
     "text": [
      "8/8 [==============================] - 4s 589ms/step - loss: 0.0786 - root_mean_squared_error: 0.2804 - val_loss: 0.1043 - val_root_mean_squared_error: 0.3229\n",
      "Epoch 154/2500\n",
      "8/8 [==============================] - 0s 14ms/step - loss: 0.0774 - root_mean_squared_error: 0.2783 - val_loss: 0.1057 - val_root_mean_squared_error: 0.3252\n",
      "Epoch 155/2500\n",
      "8/8 [==============================] - 0s 9ms/step - loss: 0.0756 - root_mean_squared_error: 0.2750 - val_loss: 0.1054 - val_root_mean_squared_error: 0.3246\n",
      "Epoch 156/2500\n",
      "8/8 [==============================] - 0s 9ms/step - loss: 0.0745 - root_mean_squared_error: 0.2729 - val_loss: 0.1084 - val_root_mean_squared_error: 0.3293\n",
      "Epoch 157/2500\n",
      "8/8 [==============================] - 0s 9ms/step - loss: 0.0733 - root_mean_squared_error: 0.2708 - val_loss: 0.1063 - val_root_mean_squared_error: 0.3260\n",
      "Epoch 158/2500\n",
      "1/8 [==>...........................] - ETA: 0s - loss: 0.0347 - root_mean_squared_error: 0.1862"
     ]
    },
    {
     "name": "stderr",
     "output_type": "stream",
     "text": [
      "WARNING:absl:Found untraced functions such as lstm_cell_layer_call_fn, lstm_cell_layer_call_and_return_conditional_losses while saving (showing 2 of 2). These functions will not be directly callable after loading.\n"
     ]
    },
    {
     "name": "stdout",
     "output_type": "stream",
     "text": [
      "INFO:tensorflow:Assets written to: model0\\assets\n"
     ]
    },
    {
     "name": "stderr",
     "output_type": "stream",
     "text": [
      "INFO:tensorflow:Assets written to: model0\\assets\n"
     ]
    },
    {
     "name": "stdout",
     "output_type": "stream",
     "text": [
      "8/8 [==============================] - 3s 479ms/step - loss: 0.0727 - root_mean_squared_error: 0.2697 - val_loss: 0.1022 - val_root_mean_squared_error: 0.3197\n",
      "Epoch 159/2500\n",
      "1/8 [==>...........................] - ETA: 0s - loss: 0.0499 - root_mean_squared_error: 0.2234"
     ]
    },
    {
     "name": "stderr",
     "output_type": "stream",
     "text": [
      "WARNING:absl:Found untraced functions such as lstm_cell_layer_call_fn, lstm_cell_layer_call_and_return_conditional_losses while saving (showing 2 of 2). These functions will not be directly callable after loading.\n"
     ]
    },
    {
     "name": "stdout",
     "output_type": "stream",
     "text": [
      "INFO:tensorflow:Assets written to: model0\\assets\n"
     ]
    },
    {
     "name": "stderr",
     "output_type": "stream",
     "text": [
      "INFO:tensorflow:Assets written to: model0\\assets\n"
     ]
    },
    {
     "name": "stdout",
     "output_type": "stream",
     "text": [
      "8/8 [==============================] - 3s 487ms/step - loss: 0.0719 - root_mean_squared_error: 0.2681 - val_loss: 0.0959 - val_root_mean_squared_error: 0.3097\n",
      "Epoch 160/2500\n",
      "8/8 [==============================] - 0s 16ms/step - loss: 0.0708 - root_mean_squared_error: 0.2661 - val_loss: 0.1067 - val_root_mean_squared_error: 0.3267\n",
      "Epoch 161/2500\n",
      "8/8 [==============================] - 0s 11ms/step - loss: 0.0696 - root_mean_squared_error: 0.2639 - val_loss: 0.1060 - val_root_mean_squared_error: 0.3255\n",
      "Epoch 162/2500\n",
      "8/8 [==============================] - 0s 10ms/step - loss: 0.0688 - root_mean_squared_error: 0.2623 - val_loss: 0.1025 - val_root_mean_squared_error: 0.3201\n",
      "Epoch 163/2500\n",
      "8/8 [==============================] - 0s 15ms/step - loss: 0.0679 - root_mean_squared_error: 0.2606 - val_loss: 0.1000 - val_root_mean_squared_error: 0.3162\n",
      "Epoch 164/2500\n",
      "8/8 [==============================] - 0s 15ms/step - loss: 0.0670 - root_mean_squared_error: 0.2589 - val_loss: 0.0973 - val_root_mean_squared_error: 0.3119\n",
      "Epoch 165/2500\n",
      "8/8 [==============================] - 0s 10ms/step - loss: 0.0664 - root_mean_squared_error: 0.2576 - val_loss: 0.0971 - val_root_mean_squared_error: 0.3116\n",
      "Epoch 166/2500\n",
      "8/8 [==============================] - 0s 14ms/step - loss: 0.0657 - root_mean_squared_error: 0.2564 - val_loss: 0.0972 - val_root_mean_squared_error: 0.3117\n",
      "Epoch 167/2500\n",
      "5/8 [=================>............] - ETA: 0s - loss: 0.0692 - root_mean_squared_error: 0.2630"
     ]
    },
    {
     "name": "stderr",
     "output_type": "stream",
     "text": [
      "WARNING:absl:Found untraced functions such as lstm_cell_layer_call_fn, lstm_cell_layer_call_and_return_conditional_losses while saving (showing 2 of 2). These functions will not be directly callable after loading.\n"
     ]
    },
    {
     "name": "stdout",
     "output_type": "stream",
     "text": [
      "INFO:tensorflow:Assets written to: model0\\assets\n"
     ]
    },
    {
     "name": "stderr",
     "output_type": "stream",
     "text": [
      "INFO:tensorflow:Assets written to: model0\\assets\n"
     ]
    },
    {
     "name": "stdout",
     "output_type": "stream",
     "text": [
      "8/8 [==============================] - 5s 645ms/step - loss: 0.0650 - root_mean_squared_error: 0.2549 - val_loss: 0.0950 - val_root_mean_squared_error: 0.3082\n",
      "Epoch 168/2500\n",
      "1/8 [==>...........................] - ETA: 0s - loss: 0.0992 - root_mean_squared_error: 0.3150"
     ]
    },
    {
     "name": "stderr",
     "output_type": "stream",
     "text": [
      "WARNING:absl:Found untraced functions such as lstm_cell_layer_call_fn, lstm_cell_layer_call_and_return_conditional_losses while saving (showing 2 of 2). These functions will not be directly callable after loading.\n"
     ]
    },
    {
     "name": "stdout",
     "output_type": "stream",
     "text": [
      "INFO:tensorflow:Assets written to: model0\\assets\n"
     ]
    },
    {
     "name": "stderr",
     "output_type": "stream",
     "text": [
      "INFO:tensorflow:Assets written to: model0\\assets\n"
     ]
    },
    {
     "name": "stdout",
     "output_type": "stream",
     "text": [
      "8/8 [==============================] - 3s 497ms/step - loss: 0.0645 - root_mean_squared_error: 0.2540 - val_loss: 0.0919 - val_root_mean_squared_error: 0.3032\n",
      "Epoch 169/2500\n",
      "1/8 [==>...........................] - ETA: 0s - loss: 0.0567 - root_mean_squared_error: 0.2382"
     ]
    },
    {
     "name": "stderr",
     "output_type": "stream",
     "text": [
      "WARNING:absl:Found untraced functions such as lstm_cell_layer_call_fn, lstm_cell_layer_call_and_return_conditional_losses while saving (showing 2 of 2). These functions will not be directly callable after loading.\n"
     ]
    },
    {
     "name": "stdout",
     "output_type": "stream",
     "text": [
      "INFO:tensorflow:Assets written to: model0\\assets\n"
     ]
    },
    {
     "name": "stderr",
     "output_type": "stream",
     "text": [
      "INFO:tensorflow:Assets written to: model0\\assets\n"
     ]
    },
    {
     "name": "stdout",
     "output_type": "stream",
     "text": [
      "8/8 [==============================] - 3s 427ms/step - loss: 0.0639 - root_mean_squared_error: 0.2527 - val_loss: 0.0919 - val_root_mean_squared_error: 0.3031\n",
      "Epoch 170/2500\n",
      "1/8 [==>...........................] - ETA: 0s - loss: 0.0953 - root_mean_squared_error: 0.3087"
     ]
    },
    {
     "name": "stderr",
     "output_type": "stream",
     "text": [
      "WARNING:absl:Found untraced functions such as lstm_cell_layer_call_fn, lstm_cell_layer_call_and_return_conditional_losses while saving (showing 2 of 2). These functions will not be directly callable after loading.\n"
     ]
    },
    {
     "name": "stdout",
     "output_type": "stream",
     "text": [
      "INFO:tensorflow:Assets written to: model0\\assets\n"
     ]
    },
    {
     "name": "stderr",
     "output_type": "stream",
     "text": [
      "INFO:tensorflow:Assets written to: model0\\assets\n"
     ]
    },
    {
     "name": "stdout",
     "output_type": "stream",
     "text": [
      "8/8 [==============================] - 3s 475ms/step - loss: 0.0632 - root_mean_squared_error: 0.2514 - val_loss: 0.0879 - val_root_mean_squared_error: 0.2965\n",
      "Epoch 171/2500\n",
      "8/8 [==============================] - 0s 9ms/step - loss: 0.0625 - root_mean_squared_error: 0.2500 - val_loss: 0.0964 - val_root_mean_squared_error: 0.3105\n",
      "Epoch 172/2500\n",
      "8/8 [==============================] - 0s 9ms/step - loss: 0.0632 - root_mean_squared_error: 0.2513 - val_loss: 0.1231 - val_root_mean_squared_error: 0.3509\n",
      "Epoch 173/2500\n",
      "8/8 [==============================] - 0s 8ms/step - loss: 0.0647 - root_mean_squared_error: 0.2543 - val_loss: 0.1221 - val_root_mean_squared_error: 0.3494\n",
      "Epoch 174/2500\n",
      "8/8 [==============================] - 0s 10ms/step - loss: 0.0635 - root_mean_squared_error: 0.2519 - val_loss: 0.1083 - val_root_mean_squared_error: 0.3290\n",
      "Epoch 175/2500\n",
      "8/8 [==============================] - 0s 9ms/step - loss: 0.0614 - root_mean_squared_error: 0.2478 - val_loss: 0.0939 - val_root_mean_squared_error: 0.3064\n",
      "Epoch 176/2500\n",
      "1/8 [==>...........................] - ETA: 0s - loss: 0.0738 - root_mean_squared_error: 0.2717"
     ]
    },
    {
     "name": "stderr",
     "output_type": "stream",
     "text": [
      "WARNING:absl:Found untraced functions such as lstm_cell_layer_call_fn, lstm_cell_layer_call_and_return_conditional_losses while saving (showing 2 of 2). These functions will not be directly callable after loading.\n"
     ]
    },
    {
     "name": "stdout",
     "output_type": "stream",
     "text": [
      "INFO:tensorflow:Assets written to: model0\\assets\n"
     ]
    },
    {
     "name": "stderr",
     "output_type": "stream",
     "text": [
      "INFO:tensorflow:Assets written to: model0\\assets\n"
     ]
    },
    {
     "name": "stdout",
     "output_type": "stream",
     "text": [
      "8/8 [==============================] - 3s 424ms/step - loss: 0.0599 - root_mean_squared_error: 0.2448 - val_loss: 0.0808 - val_root_mean_squared_error: 0.2842\n",
      "Epoch 177/2500\n",
      "1/8 [==>...........................] - ETA: 0s - loss: 0.0621 - root_mean_squared_error: 0.2493"
     ]
    },
    {
     "name": "stderr",
     "output_type": "stream",
     "text": [
      "WARNING:absl:Found untraced functions such as lstm_cell_layer_call_fn, lstm_cell_layer_call_and_return_conditional_losses while saving (showing 2 of 2). These functions will not be directly callable after loading.\n"
     ]
    },
    {
     "name": "stdout",
     "output_type": "stream",
     "text": [
      "INFO:tensorflow:Assets written to: model0\\assets\n"
     ]
    },
    {
     "name": "stderr",
     "output_type": "stream",
     "text": [
      "INFO:tensorflow:Assets written to: model0\\assets\n"
     ]
    },
    {
     "name": "stdout",
     "output_type": "stream",
     "text": [
      "8/8 [==============================] - 3s 474ms/step - loss: 0.0607 - root_mean_squared_error: 0.2464 - val_loss: 0.0621 - val_root_mean_squared_error: 0.2491\n",
      "Epoch 178/2500\n",
      "1/8 [==>...........................] - ETA: 0s - loss: 0.0889 - root_mean_squared_error: 0.2982"
     ]
    },
    {
     "name": "stderr",
     "output_type": "stream",
     "text": [
      "WARNING:absl:Found untraced functions such as lstm_cell_layer_call_fn, lstm_cell_layer_call_and_return_conditional_losses while saving (showing 2 of 2). These functions will not be directly callable after loading.\n"
     ]
    },
    {
     "name": "stdout",
     "output_type": "stream",
     "text": [
      "INFO:tensorflow:Assets written to: model0\\assets\n"
     ]
    },
    {
     "name": "stderr",
     "output_type": "stream",
     "text": [
      "INFO:tensorflow:Assets written to: model0\\assets\n"
     ]
    },
    {
     "name": "stdout",
     "output_type": "stream",
     "text": [
      "8/8 [==============================] - 3s 491ms/step - loss: 0.0674 - root_mean_squared_error: 0.2597 - val_loss: 0.0592 - val_root_mean_squared_error: 0.2432\n",
      "Epoch 179/2500\n",
      "1/8 [==>...........................] - ETA: 0s - loss: 0.0521 - root_mean_squared_error: 0.2283"
     ]
    },
    {
     "name": "stderr",
     "output_type": "stream",
     "text": [
      "WARNING:absl:Found untraced functions such as lstm_cell_layer_call_fn, lstm_cell_layer_call_and_return_conditional_losses while saving (showing 2 of 2). These functions will not be directly callable after loading.\n"
     ]
    },
    {
     "name": "stdout",
     "output_type": "stream",
     "text": [
      "INFO:tensorflow:Assets written to: model0\\assets\n"
     ]
    },
    {
     "name": "stderr",
     "output_type": "stream",
     "text": [
      "INFO:tensorflow:Assets written to: model0\\assets\n"
     ]
    },
    {
     "name": "stdout",
     "output_type": "stream",
     "text": [
      "8/8 [==============================] - 4s 547ms/step - loss: 0.0695 - root_mean_squared_error: 0.2637 - val_loss: 0.0585 - val_root_mean_squared_error: 0.2420\n",
      "Epoch 180/2500\n",
      "8/8 [==============================] - 0s 14ms/step - loss: 0.0645 - root_mean_squared_error: 0.2540 - val_loss: 0.0634 - val_root_mean_squared_error: 0.2517\n",
      "Epoch 181/2500\n",
      "8/8 [==============================] - 0s 9ms/step - loss: 0.0584 - root_mean_squared_error: 0.2417 - val_loss: 0.0775 - val_root_mean_squared_error: 0.2784\n",
      "Epoch 182/2500\n",
      "8/8 [==============================] - 0s 10ms/step - loss: 0.0573 - root_mean_squared_error: 0.2393 - val_loss: 0.0891 - val_root_mean_squared_error: 0.2985\n",
      "Epoch 183/2500\n",
      "8/8 [==============================] - 0s 10ms/step - loss: 0.0572 - root_mean_squared_error: 0.2391 - val_loss: 0.0913 - val_root_mean_squared_error: 0.3022\n",
      "Epoch 184/2500\n",
      "8/8 [==============================] - 0s 9ms/step - loss: 0.0564 - root_mean_squared_error: 0.2376 - val_loss: 0.0875 - val_root_mean_squared_error: 0.2958\n",
      "Epoch 185/2500\n",
      "8/8 [==============================] - 0s 9ms/step - loss: 0.0557 - root_mean_squared_error: 0.2360 - val_loss: 0.0830 - val_root_mean_squared_error: 0.2882\n",
      "Epoch 186/2500\n",
      "8/8 [==============================] - 0s 10ms/step - loss: 0.0550 - root_mean_squared_error: 0.2345 - val_loss: 0.0803 - val_root_mean_squared_error: 0.2834\n",
      "Epoch 187/2500\n",
      "8/8 [==============================] - 0s 10ms/step - loss: 0.0546 - root_mean_squared_error: 0.2336 - val_loss: 0.0783 - val_root_mean_squared_error: 0.2798\n",
      "Epoch 188/2500\n",
      "8/8 [==============================] - 0s 10ms/step - loss: 0.0544 - root_mean_squared_error: 0.2333 - val_loss: 0.0767 - val_root_mean_squared_error: 0.2769\n",
      "Epoch 189/2500\n",
      "8/8 [==============================] - 0s 9ms/step - loss: 0.0539 - root_mean_squared_error: 0.2321 - val_loss: 0.0761 - val_root_mean_squared_error: 0.2759\n",
      "Epoch 190/2500\n",
      "8/8 [==============================] - 0s 7ms/step - loss: 0.0536 - root_mean_squared_error: 0.2315 - val_loss: 0.0743 - val_root_mean_squared_error: 0.2727\n",
      "Epoch 191/2500\n",
      "8/8 [==============================] - 0s 10ms/step - loss: 0.0533 - root_mean_squared_error: 0.2308 - val_loss: 0.0756 - val_root_mean_squared_error: 0.2750\n",
      "Epoch 192/2500\n",
      "8/8 [==============================] - 0s 9ms/step - loss: 0.0528 - root_mean_squared_error: 0.2299 - val_loss: 0.0780 - val_root_mean_squared_error: 0.2792\n",
      "Epoch 193/2500\n",
      "8/8 [==============================] - 0s 14ms/step - loss: 0.0524 - root_mean_squared_error: 0.2290 - val_loss: 0.0787 - val_root_mean_squared_error: 0.2806\n",
      "Epoch 194/2500\n",
      "8/8 [==============================] - 0s 10ms/step - loss: 0.0522 - root_mean_squared_error: 0.2285 - val_loss: 0.0787 - val_root_mean_squared_error: 0.2805\n",
      "Epoch 195/2500\n",
      "8/8 [==============================] - 0s 10ms/step - loss: 0.0520 - root_mean_squared_error: 0.2280 - val_loss: 0.0779 - val_root_mean_squared_error: 0.2791\n",
      "Epoch 196/2500\n",
      "8/8 [==============================] - 0s 9ms/step - loss: 0.0516 - root_mean_squared_error: 0.2272 - val_loss: 0.0760 - val_root_mean_squared_error: 0.2757\n",
      "Epoch 197/2500\n",
      "8/8 [==============================] - 0s 9ms/step - loss: 0.0512 - root_mean_squared_error: 0.2264 - val_loss: 0.0753 - val_root_mean_squared_error: 0.2744\n",
      "Epoch 198/2500\n",
      "8/8 [==============================] - 0s 8ms/step - loss: 0.0508 - root_mean_squared_error: 0.2255 - val_loss: 0.0743 - val_root_mean_squared_error: 0.2726\n",
      "Epoch 199/2500\n",
      "8/8 [==============================] - 0s 9ms/step - loss: 0.0504 - root_mean_squared_error: 0.2246 - val_loss: 0.0736 - val_root_mean_squared_error: 0.2713\n",
      "Epoch 200/2500\n",
      "8/8 [==============================] - 0s 10ms/step - loss: 0.0506 - root_mean_squared_error: 0.2250 - val_loss: 0.0739 - val_root_mean_squared_error: 0.2718\n",
      "Epoch 201/2500\n",
      "8/8 [==============================] - 0s 10ms/step - loss: 0.0506 - root_mean_squared_error: 0.2249 - val_loss: 0.0738 - val_root_mean_squared_error: 0.2716\n",
      "Epoch 202/2500\n",
      "8/8 [==============================] - 0s 10ms/step - loss: 0.0501 - root_mean_squared_error: 0.2238 - val_loss: 0.0727 - val_root_mean_squared_error: 0.2697\n",
      "Epoch 203/2500\n",
      "8/8 [==============================] - 0s 11ms/step - loss: 0.0496 - root_mean_squared_error: 0.2228 - val_loss: 0.0728 - val_root_mean_squared_error: 0.2699\n",
      "Epoch 204/2500\n",
      "8/8 [==============================] - 0s 10ms/step - loss: 0.0491 - root_mean_squared_error: 0.2216 - val_loss: 0.0752 - val_root_mean_squared_error: 0.2742\n",
      "Epoch 205/2500\n",
      "8/8 [==============================] - 0s 10ms/step - loss: 0.0487 - root_mean_squared_error: 0.2208 - val_loss: 0.0760 - val_root_mean_squared_error: 0.2757\n",
      "Epoch 206/2500\n",
      "8/8 [==============================] - 0s 10ms/step - loss: 0.0481 - root_mean_squared_error: 0.2193 - val_loss: 0.0683 - val_root_mean_squared_error: 0.2614\n",
      "Epoch 207/2500\n",
      "8/8 [==============================] - 0s 11ms/step - loss: 0.0481 - root_mean_squared_error: 0.2193 - val_loss: 0.0690 - val_root_mean_squared_error: 0.2627\n",
      "Epoch 208/2500\n",
      "8/8 [==============================] - 0s 10ms/step - loss: 0.0479 - root_mean_squared_error: 0.2189 - val_loss: 0.0721 - val_root_mean_squared_error: 0.2685\n",
      "Epoch 209/2500\n",
      "8/8 [==============================] - 0s 10ms/step - loss: 0.0475 - root_mean_squared_error: 0.2179 - val_loss: 0.0728 - val_root_mean_squared_error: 0.2698\n",
      "Epoch 210/2500\n",
      "8/8 [==============================] - 0s 11ms/step - loss: 0.0471 - root_mean_squared_error: 0.2171 - val_loss: 0.0717 - val_root_mean_squared_error: 0.2677\n",
      "Epoch 211/2500\n",
      "8/8 [==============================] - 0s 12ms/step - loss: 0.0470 - root_mean_squared_error: 0.2169 - val_loss: 0.0702 - val_root_mean_squared_error: 0.2650\n",
      "Epoch 212/2500\n",
      "8/8 [==============================] - 0s 10ms/step - loss: 0.0472 - root_mean_squared_error: 0.2172 - val_loss: 0.0676 - val_root_mean_squared_error: 0.2601\n",
      "Epoch 213/2500\n",
      "8/8 [==============================] - 0s 10ms/step - loss: 0.0462 - root_mean_squared_error: 0.2149 - val_loss: 0.0673 - val_root_mean_squared_error: 0.2595\n",
      "Epoch 214/2500\n",
      "8/8 [==============================] - 0s 13ms/step - loss: 0.0463 - root_mean_squared_error: 0.2152 - val_loss: 0.0722 - val_root_mean_squared_error: 0.2687\n",
      "Epoch 215/2500\n",
      "8/8 [==============================] - 0s 10ms/step - loss: 0.0465 - root_mean_squared_error: 0.2155 - val_loss: 0.0783 - val_root_mean_squared_error: 0.2798\n",
      "Epoch 216/2500\n",
      "8/8 [==============================] - 0s 10ms/step - loss: 0.0463 - root_mean_squared_error: 0.2152 - val_loss: 0.0759 - val_root_mean_squared_error: 0.2754\n",
      "Epoch 217/2500\n",
      "8/8 [==============================] - 0s 10ms/step - loss: 0.0458 - root_mean_squared_error: 0.2141 - val_loss: 0.0772 - val_root_mean_squared_error: 0.2778\n",
      "Epoch 218/2500\n",
      "8/8 [==============================] - 0s 7ms/step - loss: 0.0454 - root_mean_squared_error: 0.2130 - val_loss: 0.0741 - val_root_mean_squared_error: 0.2722\n",
      "Epoch 219/2500\n",
      "8/8 [==============================] - 0s 9ms/step - loss: 0.0448 - root_mean_squared_error: 0.2116 - val_loss: 0.0671 - val_root_mean_squared_error: 0.2591\n",
      "Epoch 220/2500\n",
      "1/8 [==>...........................] - ETA: 0s - loss: 0.0451 - root_mean_squared_error: 0.2123"
     ]
    },
    {
     "name": "stderr",
     "output_type": "stream",
     "text": [
      "WARNING:absl:Found untraced functions such as lstm_cell_layer_call_fn, lstm_cell_layer_call_and_return_conditional_losses while saving (showing 2 of 2). These functions will not be directly callable after loading.\n"
     ]
    },
    {
     "name": "stdout",
     "output_type": "stream",
     "text": [
      "INFO:tensorflow:Assets written to: model0\\assets\n"
     ]
    },
    {
     "name": "stderr",
     "output_type": "stream",
     "text": [
      "INFO:tensorflow:Assets written to: model0\\assets\n"
     ]
    },
    {
     "name": "stdout",
     "output_type": "stream",
     "text": [
      "8/8 [==============================] - 4s 523ms/step - loss: 0.0444 - root_mean_squared_error: 0.2108 - val_loss: 0.0567 - val_root_mean_squared_error: 0.2381\n",
      "Epoch 221/2500\n",
      "1/8 [==>...........................] - ETA: 0s - loss: 0.0477 - root_mean_squared_error: 0.2183"
     ]
    },
    {
     "name": "stderr",
     "output_type": "stream",
     "text": [
      "WARNING:absl:Found untraced functions such as lstm_cell_layer_call_fn, lstm_cell_layer_call_and_return_conditional_losses while saving (showing 2 of 2). These functions will not be directly callable after loading.\n"
     ]
    },
    {
     "name": "stdout",
     "output_type": "stream",
     "text": [
      "INFO:tensorflow:Assets written to: model0\\assets\n"
     ]
    },
    {
     "name": "stderr",
     "output_type": "stream",
     "text": [
      "INFO:tensorflow:Assets written to: model0\\assets\n"
     ]
    },
    {
     "name": "stdout",
     "output_type": "stream",
     "text": [
      "8/8 [==============================] - 3s 479ms/step - loss: 0.0448 - root_mean_squared_error: 0.2116 - val_loss: 0.0555 - val_root_mean_squared_error: 0.2356\n",
      "Epoch 222/2500\n",
      "8/8 [==============================] - 0s 9ms/step - loss: 0.0448 - root_mean_squared_error: 0.2116 - val_loss: 0.0578 - val_root_mean_squared_error: 0.2404\n",
      "Epoch 223/2500\n",
      "8/8 [==============================] - 0s 9ms/step - loss: 0.0438 - root_mean_squared_error: 0.2094 - val_loss: 0.0615 - val_root_mean_squared_error: 0.2481\n",
      "Epoch 224/2500\n",
      "8/8 [==============================] - 0s 9ms/step - loss: 0.0434 - root_mean_squared_error: 0.2083 - val_loss: 0.0648 - val_root_mean_squared_error: 0.2545\n",
      "Epoch 225/2500\n",
      "8/8 [==============================] - 0s 9ms/step - loss: 0.0432 - root_mean_squared_error: 0.2078 - val_loss: 0.0672 - val_root_mean_squared_error: 0.2591\n",
      "Epoch 226/2500\n",
      "8/8 [==============================] - 0s 9ms/step - loss: 0.0431 - root_mean_squared_error: 0.2077 - val_loss: 0.0666 - val_root_mean_squared_error: 0.2580\n",
      "Epoch 227/2500\n",
      "8/8 [==============================] - 0s 9ms/step - loss: 0.0428 - root_mean_squared_error: 0.2069 - val_loss: 0.0657 - val_root_mean_squared_error: 0.2563\n",
      "Epoch 228/2500\n",
      "8/8 [==============================] - 0s 9ms/step - loss: 0.0426 - root_mean_squared_error: 0.2063 - val_loss: 0.0649 - val_root_mean_squared_error: 0.2547\n",
      "Epoch 229/2500\n",
      "8/8 [==============================] - 0s 9ms/step - loss: 0.0423 - root_mean_squared_error: 0.2056 - val_loss: 0.0644 - val_root_mean_squared_error: 0.2538\n",
      "Epoch 230/2500\n",
      "8/8 [==============================] - 0s 9ms/step - loss: 0.0420 - root_mean_squared_error: 0.2049 - val_loss: 0.0640 - val_root_mean_squared_error: 0.2529\n",
      "Epoch 231/2500\n",
      "8/8 [==============================] - 0s 10ms/step - loss: 0.0418 - root_mean_squared_error: 0.2044 - val_loss: 0.0613 - val_root_mean_squared_error: 0.2476\n",
      "Epoch 232/2500\n",
      "8/8 [==============================] - 0s 11ms/step - loss: 0.0414 - root_mean_squared_error: 0.2034 - val_loss: 0.0606 - val_root_mean_squared_error: 0.2462\n",
      "Epoch 233/2500\n",
      "8/8 [==============================] - 0s 9ms/step - loss: 0.0413 - root_mean_squared_error: 0.2033 - val_loss: 0.0590 - val_root_mean_squared_error: 0.2428\n",
      "Epoch 234/2500\n",
      "8/8 [==============================] - 0s 9ms/step - loss: 0.0414 - root_mean_squared_error: 0.2034 - val_loss: 0.0690 - val_root_mean_squared_error: 0.2627\n",
      "Epoch 235/2500\n",
      "8/8 [==============================] - 0s 9ms/step - loss: 0.0411 - root_mean_squared_error: 0.2028 - val_loss: 0.0685 - val_root_mean_squared_error: 0.2617\n",
      "Epoch 236/2500\n",
      "8/8 [==============================] - 0s 9ms/step - loss: 0.0407 - root_mean_squared_error: 0.2017 - val_loss: 0.0599 - val_root_mean_squared_error: 0.2447\n",
      "Epoch 237/2500\n",
      "8/8 [==============================] - 0s 9ms/step - loss: 0.0404 - root_mean_squared_error: 0.2010 - val_loss: 0.0579 - val_root_mean_squared_error: 0.2406\n",
      "Epoch 238/2500\n",
      "8/8 [==============================] - 0s 9ms/step - loss: 0.0401 - root_mean_squared_error: 0.2002 - val_loss: 0.0653 - val_root_mean_squared_error: 0.2554\n",
      "Epoch 239/2500\n",
      "8/8 [==============================] - 0s 9ms/step - loss: 0.0403 - root_mean_squared_error: 0.2007 - val_loss: 0.0671 - val_root_mean_squared_error: 0.2590\n",
      "Epoch 240/2500\n",
      "8/8 [==============================] - 0s 9ms/step - loss: 0.0402 - root_mean_squared_error: 0.2005 - val_loss: 0.0644 - val_root_mean_squared_error: 0.2538\n",
      "Epoch 241/2500\n",
      "8/8 [==============================] - 0s 9ms/step - loss: 0.0397 - root_mean_squared_error: 0.1993 - val_loss: 0.0607 - val_root_mean_squared_error: 0.2463\n",
      "Epoch 242/2500\n",
      "8/8 [==============================] - 0s 8ms/step - loss: 0.0392 - root_mean_squared_error: 0.1979 - val_loss: 0.0592 - val_root_mean_squared_error: 0.2432\n",
      "Epoch 243/2500\n",
      "8/8 [==============================] - 0s 11ms/step - loss: 0.0391 - root_mean_squared_error: 0.1977 - val_loss: 0.0629 - val_root_mean_squared_error: 0.2508\n",
      "Epoch 244/2500\n",
      "8/8 [==============================] - 0s 9ms/step - loss: 0.0389 - root_mean_squared_error: 0.1972 - val_loss: 0.0626 - val_root_mean_squared_error: 0.2503\n",
      "Epoch 245/2500\n",
      "8/8 [==============================] - 0s 7ms/step - loss: 0.0389 - root_mean_squared_error: 0.1973 - val_loss: 0.0597 - val_root_mean_squared_error: 0.2444\n",
      "Epoch 246/2500\n",
      "8/8 [==============================] - 0s 7ms/step - loss: 0.0392 - root_mean_squared_error: 0.1981 - val_loss: 0.0594 - val_root_mean_squared_error: 0.2438\n",
      "Epoch 247/2500\n",
      "8/8 [==============================] - 0s 9ms/step - loss: 0.0389 - root_mean_squared_error: 0.1973 - val_loss: 0.0570 - val_root_mean_squared_error: 0.2387\n",
      "Epoch 248/2500\n",
      "1/8 [==>...........................] - ETA: 0s - loss: 0.0312 - root_mean_squared_error: 0.1767"
     ]
    },
    {
     "name": "stderr",
     "output_type": "stream",
     "text": [
      "WARNING:absl:Found untraced functions such as lstm_cell_layer_call_fn, lstm_cell_layer_call_and_return_conditional_losses while saving (showing 2 of 2). These functions will not be directly callable after loading.\n"
     ]
    },
    {
     "name": "stdout",
     "output_type": "stream",
     "text": [
      "INFO:tensorflow:Assets written to: model0\\assets\n"
     ]
    },
    {
     "name": "stderr",
     "output_type": "stream",
     "text": [
      "INFO:tensorflow:Assets written to: model0\\assets\n"
     ]
    },
    {
     "name": "stdout",
     "output_type": "stream",
     "text": [
      "8/8 [==============================] - 3s 456ms/step - loss: 0.0385 - root_mean_squared_error: 0.1962 - val_loss: 0.0551 - val_root_mean_squared_error: 0.2348\n",
      "Epoch 249/2500\n",
      "1/8 [==>...........................] - ETA: 0s - loss: 0.0461 - root_mean_squared_error: 0.2146"
     ]
    },
    {
     "name": "stderr",
     "output_type": "stream",
     "text": [
      "WARNING:absl:Found untraced functions such as lstm_cell_layer_call_fn, lstm_cell_layer_call_and_return_conditional_losses while saving (showing 2 of 2). These functions will not be directly callable after loading.\n"
     ]
    },
    {
     "name": "stdout",
     "output_type": "stream",
     "text": [
      "INFO:tensorflow:Assets written to: model0\\assets\n"
     ]
    },
    {
     "name": "stderr",
     "output_type": "stream",
     "text": [
      "INFO:tensorflow:Assets written to: model0\\assets\n"
     ]
    },
    {
     "name": "stdout",
     "output_type": "stream",
     "text": [
      "8/8 [==============================] - 4s 506ms/step - loss: 0.0380 - root_mean_squared_error: 0.1950 - val_loss: 0.0539 - val_root_mean_squared_error: 0.2321\n",
      "Epoch 250/2500\n",
      "1/8 [==>...........................] - ETA: 0s - loss: 0.0365 - root_mean_squared_error: 0.1910"
     ]
    },
    {
     "name": "stderr",
     "output_type": "stream",
     "text": [
      "WARNING:absl:Found untraced functions such as lstm_cell_layer_call_fn, lstm_cell_layer_call_and_return_conditional_losses while saving (showing 2 of 2). These functions will not be directly callable after loading.\n"
     ]
    },
    {
     "name": "stdout",
     "output_type": "stream",
     "text": [
      "INFO:tensorflow:Assets written to: model0\\assets\n"
     ]
    },
    {
     "name": "stderr",
     "output_type": "stream",
     "text": [
      "INFO:tensorflow:Assets written to: model0\\assets\n"
     ]
    },
    {
     "name": "stdout",
     "output_type": "stream",
     "text": [
      "8/8 [==============================] - 3s 443ms/step - loss: 0.0376 - root_mean_squared_error: 0.1939 - val_loss: 0.0528 - val_root_mean_squared_error: 0.2299\n",
      "Epoch 251/2500\n",
      "8/8 [==============================] - 0s 9ms/step - loss: 0.0375 - root_mean_squared_error: 0.1936 - val_loss: 0.0532 - val_root_mean_squared_error: 0.2306\n",
      "Epoch 252/2500\n",
      "1/8 [==>...........................] - ETA: 0s - loss: 0.0387 - root_mean_squared_error: 0.1966"
     ]
    },
    {
     "name": "stderr",
     "output_type": "stream",
     "text": [
      "WARNING:absl:Found untraced functions such as lstm_cell_layer_call_fn, lstm_cell_layer_call_and_return_conditional_losses while saving (showing 2 of 2). These functions will not be directly callable after loading.\n"
     ]
    },
    {
     "name": "stdout",
     "output_type": "stream",
     "text": [
      "INFO:tensorflow:Assets written to: model0\\assets\n"
     ]
    },
    {
     "name": "stderr",
     "output_type": "stream",
     "text": [
      "INFO:tensorflow:Assets written to: model0\\assets\n"
     ]
    },
    {
     "name": "stdout",
     "output_type": "stream",
     "text": [
      "8/8 [==============================] - 3s 461ms/step - loss: 0.0371 - root_mean_squared_error: 0.1927 - val_loss: 0.0526 - val_root_mean_squared_error: 0.2294\n",
      "Epoch 253/2500\n",
      "8/8 [==============================] - 0s 10ms/step - loss: 0.0369 - root_mean_squared_error: 0.1922 - val_loss: 0.0546 - val_root_mean_squared_error: 0.2338\n",
      "Epoch 254/2500\n",
      "8/8 [==============================] - 0s 9ms/step - loss: 0.0367 - root_mean_squared_error: 0.1916 - val_loss: 0.0599 - val_root_mean_squared_error: 0.2447\n",
      "Epoch 255/2500\n",
      "8/8 [==============================] - 0s 12ms/step - loss: 0.0367 - root_mean_squared_error: 0.1915 - val_loss: 0.0591 - val_root_mean_squared_error: 0.2432\n",
      "Epoch 256/2500\n",
      "8/8 [==============================] - 0s 10ms/step - loss: 0.0365 - root_mean_squared_error: 0.1910 - val_loss: 0.0571 - val_root_mean_squared_error: 0.2390\n",
      "Epoch 257/2500\n",
      "1/8 [==>...........................] - ETA: 0s - loss: 0.0746 - root_mean_squared_error: 0.2732"
     ]
    },
    {
     "name": "stderr",
     "output_type": "stream",
     "text": [
      "WARNING:absl:Found untraced functions such as lstm_cell_layer_call_fn, lstm_cell_layer_call_and_return_conditional_losses while saving (showing 2 of 2). These functions will not be directly callable after loading.\n"
     ]
    },
    {
     "name": "stdout",
     "output_type": "stream",
     "text": [
      "INFO:tensorflow:Assets written to: model0\\assets\n"
     ]
    },
    {
     "name": "stderr",
     "output_type": "stream",
     "text": [
      "INFO:tensorflow:Assets written to: model0\\assets\n"
     ]
    },
    {
     "name": "stdout",
     "output_type": "stream",
     "text": [
      "8/8 [==============================] - 4s 502ms/step - loss: 0.0362 - root_mean_squared_error: 0.1903 - val_loss: 0.0519 - val_root_mean_squared_error: 0.2278\n",
      "Epoch 258/2500\n",
      "1/8 [==>...........................] - ETA: 0s - loss: 0.0431 - root_mean_squared_error: 0.2076"
     ]
    },
    {
     "name": "stderr",
     "output_type": "stream",
     "text": [
      "WARNING:absl:Found untraced functions such as lstm_cell_layer_call_fn, lstm_cell_layer_call_and_return_conditional_losses while saving (showing 2 of 2). These functions will not be directly callable after loading.\n"
     ]
    },
    {
     "name": "stdout",
     "output_type": "stream",
     "text": [
      "INFO:tensorflow:Assets written to: model0\\assets\n"
     ]
    },
    {
     "name": "stderr",
     "output_type": "stream",
     "text": [
      "INFO:tensorflow:Assets written to: model0\\assets\n"
     ]
    },
    {
     "name": "stdout",
     "output_type": "stream",
     "text": [
      "8/8 [==============================] - 3s 452ms/step - loss: 0.0359 - root_mean_squared_error: 0.1895 - val_loss: 0.0509 - val_root_mean_squared_error: 0.2256\n",
      "Epoch 259/2500\n",
      "8/8 [==============================] - 0s 10ms/step - loss: 0.0357 - root_mean_squared_error: 0.1889 - val_loss: 0.0520 - val_root_mean_squared_error: 0.2280\n",
      "Epoch 260/2500\n",
      "1/8 [==>...........................] - ETA: 0s - loss: 0.0499 - root_mean_squared_error: 0.2234"
     ]
    },
    {
     "name": "stderr",
     "output_type": "stream",
     "text": [
      "WARNING:absl:Found untraced functions such as lstm_cell_layer_call_fn, lstm_cell_layer_call_and_return_conditional_losses while saving (showing 2 of 2). These functions will not be directly callable after loading.\n"
     ]
    },
    {
     "name": "stdout",
     "output_type": "stream",
     "text": [
      "INFO:tensorflow:Assets written to: model0\\assets\n"
     ]
    },
    {
     "name": "stderr",
     "output_type": "stream",
     "text": [
      "INFO:tensorflow:Assets written to: model0\\assets\n"
     ]
    },
    {
     "name": "stdout",
     "output_type": "stream",
     "text": [
      "8/8 [==============================] - 3s 493ms/step - loss: 0.0356 - root_mean_squared_error: 0.1887 - val_loss: 0.0504 - val_root_mean_squared_error: 0.2244\n",
      "Epoch 261/2500\n",
      "1/8 [==>...........................] - ETA: 0s - loss: 0.0189 - root_mean_squared_error: 0.1375"
     ]
    },
    {
     "name": "stderr",
     "output_type": "stream",
     "text": [
      "WARNING:absl:Found untraced functions such as lstm_cell_layer_call_fn, lstm_cell_layer_call_and_return_conditional_losses while saving (showing 2 of 2). These functions will not be directly callable after loading.\n"
     ]
    },
    {
     "name": "stdout",
     "output_type": "stream",
     "text": [
      "INFO:tensorflow:Assets written to: model0\\assets\n"
     ]
    },
    {
     "name": "stderr",
     "output_type": "stream",
     "text": [
      "INFO:tensorflow:Assets written to: model0\\assets\n"
     ]
    },
    {
     "name": "stdout",
     "output_type": "stream",
     "text": [
      "8/8 [==============================] - 3s 443ms/step - loss: 0.0366 - root_mean_squared_error: 0.1912 - val_loss: 0.0384 - val_root_mean_squared_error: 0.1961\n",
      "Epoch 262/2500\n",
      "8/8 [==============================] - 0s 9ms/step - loss: 0.0369 - root_mean_squared_error: 0.1921 - val_loss: 0.0407 - val_root_mean_squared_error: 0.2018\n",
      "Epoch 263/2500\n",
      "8/8 [==============================] - 0s 7ms/step - loss: 0.0349 - root_mean_squared_error: 0.1869 - val_loss: 0.0497 - val_root_mean_squared_error: 0.2230\n",
      "Epoch 264/2500\n",
      "8/8 [==============================] - 0s 7ms/step - loss: 0.0347 - root_mean_squared_error: 0.1863 - val_loss: 0.0532 - val_root_mean_squared_error: 0.2307\n",
      "Epoch 265/2500\n",
      "8/8 [==============================] - 0s 9ms/step - loss: 0.0348 - root_mean_squared_error: 0.1866 - val_loss: 0.0467 - val_root_mean_squared_error: 0.2160\n",
      "Epoch 266/2500\n",
      "8/8 [==============================] - 0s 11ms/step - loss: 0.0343 - root_mean_squared_error: 0.1851 - val_loss: 0.0521 - val_root_mean_squared_error: 0.2282\n",
      "Epoch 267/2500\n",
      "8/8 [==============================] - 0s 8ms/step - loss: 0.0345 - root_mean_squared_error: 0.1857 - val_loss: 0.0546 - val_root_mean_squared_error: 0.2336\n",
      "Epoch 268/2500\n",
      "8/8 [==============================] - 0s 10ms/step - loss: 0.0343 - root_mean_squared_error: 0.1852 - val_loss: 0.0520 - val_root_mean_squared_error: 0.2280\n",
      "Epoch 269/2500\n",
      "8/8 [==============================] - 0s 10ms/step - loss: 0.0340 - root_mean_squared_error: 0.1844 - val_loss: 0.0459 - val_root_mean_squared_error: 0.2141\n",
      "Epoch 270/2500\n",
      "8/8 [==============================] - 0s 10ms/step - loss: 0.0340 - root_mean_squared_error: 0.1845 - val_loss: 0.0394 - val_root_mean_squared_error: 0.1984\n",
      "Epoch 271/2500\n",
      "8/8 [==============================] - 0s 9ms/step - loss: 0.0344 - root_mean_squared_error: 0.1854 - val_loss: 0.0401 - val_root_mean_squared_error: 0.2004\n",
      "Epoch 272/2500\n",
      "8/8 [==============================] - 0s 9ms/step - loss: 0.0338 - root_mean_squared_error: 0.1838 - val_loss: 0.0462 - val_root_mean_squared_error: 0.2150\n",
      "Epoch 273/2500\n",
      "8/8 [==============================] - 0s 9ms/step - loss: 0.0337 - root_mean_squared_error: 0.1835 - val_loss: 0.0592 - val_root_mean_squared_error: 0.2434\n",
      "Epoch 274/2500\n",
      "8/8 [==============================] - 0s 11ms/step - loss: 0.0343 - root_mean_squared_error: 0.1851 - val_loss: 0.0603 - val_root_mean_squared_error: 0.2456\n",
      "Epoch 275/2500\n",
      "8/8 [==============================] - 0s 10ms/step - loss: 0.0342 - root_mean_squared_error: 0.1848 - val_loss: 0.0561 - val_root_mean_squared_error: 0.2369\n",
      "Epoch 276/2500\n",
      "8/8 [==============================] - 0s 10ms/step - loss: 0.0330 - root_mean_squared_error: 0.1818 - val_loss: 0.0433 - val_root_mean_squared_error: 0.2081\n",
      "Epoch 277/2500\n",
      "8/8 [==============================] - 0s 11ms/step - loss: 0.0330 - root_mean_squared_error: 0.1817 - val_loss: 0.0399 - val_root_mean_squared_error: 0.1997\n",
      "Epoch 278/2500\n",
      "8/8 [==============================] - 0s 6ms/step - loss: 0.0329 - root_mean_squared_error: 0.1814 - val_loss: 0.0404 - val_root_mean_squared_error: 0.2010\n",
      "Epoch 279/2500\n",
      "8/8 [==============================] - 0s 9ms/step - loss: 0.0326 - root_mean_squared_error: 0.1806 - val_loss: 0.0426 - val_root_mean_squared_error: 0.2065\n",
      "Epoch 280/2500\n",
      "8/8 [==============================] - 0s 9ms/step - loss: 0.0322 - root_mean_squared_error: 0.1796 - val_loss: 0.0428 - val_root_mean_squared_error: 0.2068\n",
      "Epoch 281/2500\n",
      "8/8 [==============================] - 0s 10ms/step - loss: 0.0322 - root_mean_squared_error: 0.1794 - val_loss: 0.0404 - val_root_mean_squared_error: 0.2010\n",
      "Epoch 282/2500\n",
      "1/8 [==>...........................] - ETA: 0s - loss: 0.0295 - root_mean_squared_error: 0.1718"
     ]
    },
    {
     "name": "stderr",
     "output_type": "stream",
     "text": [
      "WARNING:absl:Found untraced functions such as lstm_cell_layer_call_fn, lstm_cell_layer_call_and_return_conditional_losses while saving (showing 2 of 2). These functions will not be directly callable after loading.\n"
     ]
    },
    {
     "name": "stdout",
     "output_type": "stream",
     "text": [
      "INFO:tensorflow:Assets written to: model0\\assets\n"
     ]
    },
    {
     "name": "stderr",
     "output_type": "stream",
     "text": [
      "INFO:tensorflow:Assets written to: model0\\assets\n"
     ]
    },
    {
     "name": "stdout",
     "output_type": "stream",
     "text": [
      "8/8 [==============================] - 3s 449ms/step - loss: 0.0326 - root_mean_squared_error: 0.1805 - val_loss: 0.0349 - val_root_mean_squared_error: 0.1869\n",
      "Epoch 283/2500\n",
      "8/8 [==============================] - 0s 9ms/step - loss: 0.0331 - root_mean_squared_error: 0.1820 - val_loss: 0.0356 - val_root_mean_squared_error: 0.1886\n",
      "Epoch 284/2500\n",
      "8/8 [==============================] - 0s 11ms/step - loss: 0.0326 - root_mean_squared_error: 0.1805 - val_loss: 0.0389 - val_root_mean_squared_error: 0.1973\n",
      "Epoch 285/2500\n",
      "8/8 [==============================] - 0s 7ms/step - loss: 0.0314 - root_mean_squared_error: 0.1771 - val_loss: 0.0449 - val_root_mean_squared_error: 0.2120\n",
      "Epoch 286/2500\n",
      "8/8 [==============================] - 0s 7ms/step - loss: 0.0315 - root_mean_squared_error: 0.1773 - val_loss: 0.0466 - val_root_mean_squared_error: 0.2159\n",
      "Epoch 287/2500\n",
      "8/8 [==============================] - 0s 9ms/step - loss: 0.0310 - root_mean_squared_error: 0.1761 - val_loss: 0.0403 - val_root_mean_squared_error: 0.2007\n",
      "Epoch 288/2500\n",
      "8/8 [==============================] - 0s 11ms/step - loss: 0.0312 - root_mean_squared_error: 0.1765 - val_loss: 0.0389 - val_root_mean_squared_error: 0.1972\n",
      "Epoch 289/2500\n",
      "8/8 [==============================] - 0s 9ms/step - loss: 0.0311 - root_mean_squared_error: 0.1763 - val_loss: 0.0413 - val_root_mean_squared_error: 0.2033\n",
      "Epoch 290/2500\n",
      "8/8 [==============================] - 0s 10ms/step - loss: 0.0314 - root_mean_squared_error: 0.1773 - val_loss: 0.0440 - val_root_mean_squared_error: 0.2098\n",
      "Epoch 291/2500\n",
      "8/8 [==============================] - 0s 8ms/step - loss: 0.0310 - root_mean_squared_error: 0.1759 - val_loss: 0.0463 - val_root_mean_squared_error: 0.2151\n",
      "Epoch 292/2500\n",
      "8/8 [==============================] - 0s 9ms/step - loss: 0.0308 - root_mean_squared_error: 0.1756 - val_loss: 0.0489 - val_root_mean_squared_error: 0.2212\n",
      "Epoch 293/2500\n",
      "8/8 [==============================] - 0s 8ms/step - loss: 0.0307 - root_mean_squared_error: 0.1752 - val_loss: 0.0468 - val_root_mean_squared_error: 0.2163\n",
      "Epoch 294/2500\n",
      "8/8 [==============================] - 0s 11ms/step - loss: 0.0304 - root_mean_squared_error: 0.1745 - val_loss: 0.0440 - val_root_mean_squared_error: 0.2097\n",
      "Epoch 295/2500\n",
      "8/8 [==============================] - 0s 9ms/step - loss: 0.0302 - root_mean_squared_error: 0.1736 - val_loss: 0.0430 - val_root_mean_squared_error: 0.2073\n",
      "Epoch 296/2500\n",
      "8/8 [==============================] - 0s 8ms/step - loss: 0.0299 - root_mean_squared_error: 0.1730 - val_loss: 0.0411 - val_root_mean_squared_error: 0.2027\n",
      "Epoch 297/2500\n",
      "8/8 [==============================] - 0s 14ms/step - loss: 0.0298 - root_mean_squared_error: 0.1725 - val_loss: 0.0392 - val_root_mean_squared_error: 0.1981\n",
      "Epoch 298/2500\n",
      "8/8 [==============================] - 0s 11ms/step - loss: 0.0298 - root_mean_squared_error: 0.1725 - val_loss: 0.0392 - val_root_mean_squared_error: 0.1979\n",
      "Epoch 299/2500\n",
      "8/8 [==============================] - 0s 8ms/step - loss: 0.0297 - root_mean_squared_error: 0.1724 - val_loss: 0.0398 - val_root_mean_squared_error: 0.1995\n",
      "Epoch 300/2500\n",
      "8/8 [==============================] - 0s 7ms/step - loss: 0.0293 - root_mean_squared_error: 0.1712 - val_loss: 0.0419 - val_root_mean_squared_error: 0.2047\n",
      "Epoch 301/2500\n",
      "8/8 [==============================] - 0s 7ms/step - loss: 0.0292 - root_mean_squared_error: 0.1710 - val_loss: 0.0411 - val_root_mean_squared_error: 0.2028\n",
      "Epoch 302/2500\n",
      "8/8 [==============================] - 0s 10ms/step - loss: 0.0290 - root_mean_squared_error: 0.1702 - val_loss: 0.0403 - val_root_mean_squared_error: 0.2007\n",
      "Epoch 303/2500\n",
      "8/8 [==============================] - 0s 8ms/step - loss: 0.0288 - root_mean_squared_error: 0.1698 - val_loss: 0.0392 - val_root_mean_squared_error: 0.1980\n",
      "Epoch 304/2500\n",
      "8/8 [==============================] - 0s 10ms/step - loss: 0.0288 - root_mean_squared_error: 0.1698 - val_loss: 0.0377 - val_root_mean_squared_error: 0.1940\n",
      "Epoch 305/2500\n",
      "8/8 [==============================] - 0s 11ms/step - loss: 0.0286 - root_mean_squared_error: 0.1692 - val_loss: 0.0371 - val_root_mean_squared_error: 0.1927\n",
      "Epoch 306/2500\n",
      "8/8 [==============================] - 0s 6ms/step - loss: 0.0285 - root_mean_squared_error: 0.1687 - val_loss: 0.0362 - val_root_mean_squared_error: 0.1902\n",
      "Epoch 307/2500\n",
      "8/8 [==============================] - 0s 10ms/step - loss: 0.0285 - root_mean_squared_error: 0.1687 - val_loss: 0.0361 - val_root_mean_squared_error: 0.1901\n",
      "Epoch 308/2500\n",
      "8/8 [==============================] - 0s 10ms/step - loss: 0.0284 - root_mean_squared_error: 0.1685 - val_loss: 0.0361 - val_root_mean_squared_error: 0.1901\n",
      "Epoch 309/2500\n",
      "8/8 [==============================] - 0s 8ms/step - loss: 0.0288 - root_mean_squared_error: 0.1698 - val_loss: 0.0363 - val_root_mean_squared_error: 0.1906\n",
      "Epoch 310/2500\n",
      "8/8 [==============================] - 0s 10ms/step - loss: 0.0287 - root_mean_squared_error: 0.1693 - val_loss: 0.0425 - val_root_mean_squared_error: 0.2061\n",
      "Epoch 311/2500\n",
      "8/8 [==============================] - 0s 10ms/step - loss: 0.0287 - root_mean_squared_error: 0.1695 - val_loss: 0.0485 - val_root_mean_squared_error: 0.2203\n",
      "Epoch 312/2500\n",
      "8/8 [==============================] - 0s 8ms/step - loss: 0.0297 - root_mean_squared_error: 0.1722 - val_loss: 0.0564 - val_root_mean_squared_error: 0.2376\n",
      "Epoch 313/2500\n",
      "8/8 [==============================] - 0s 9ms/step - loss: 0.0298 - root_mean_squared_error: 0.1725 - val_loss: 0.0490 - val_root_mean_squared_error: 0.2214\n",
      "Epoch 314/2500\n",
      "8/8 [==============================] - 0s 10ms/step - loss: 0.0284 - root_mean_squared_error: 0.1684 - val_loss: 0.0403 - val_root_mean_squared_error: 0.2009\n",
      "Epoch 315/2500\n",
      "1/8 [==>...........................] - ETA: 0s - loss: 0.0176 - root_mean_squared_error: 0.1326"
     ]
    },
    {
     "name": "stderr",
     "output_type": "stream",
     "text": [
      "WARNING:absl:Found untraced functions such as lstm_cell_layer_call_fn, lstm_cell_layer_call_and_return_conditional_losses while saving (showing 2 of 2). These functions will not be directly callable after loading.\n"
     ]
    },
    {
     "name": "stdout",
     "output_type": "stream",
     "text": [
      "INFO:tensorflow:Assets written to: model0\\assets\n"
     ]
    },
    {
     "name": "stderr",
     "output_type": "stream",
     "text": [
      "INFO:tensorflow:Assets written to: model0\\assets\n"
     ]
    },
    {
     "name": "stdout",
     "output_type": "stream",
     "text": [
      "8/8 [==============================] - 4s 502ms/step - loss: 0.0280 - root_mean_squared_error: 0.1673 - val_loss: 0.0348 - val_root_mean_squared_error: 0.1867\n",
      "Epoch 316/2500\n",
      "1/8 [==>...........................] - ETA: 0s - loss: 0.0239 - root_mean_squared_error: 0.1547"
     ]
    },
    {
     "name": "stderr",
     "output_type": "stream",
     "text": [
      "WARNING:absl:Found untraced functions such as lstm_cell_layer_call_fn, lstm_cell_layer_call_and_return_conditional_losses while saving (showing 2 of 2). These functions will not be directly callable after loading.\n"
     ]
    },
    {
     "name": "stdout",
     "output_type": "stream",
     "text": [
      "INFO:tensorflow:Assets written to: model0\\assets\n"
     ]
    },
    {
     "name": "stderr",
     "output_type": "stream",
     "text": [
      "INFO:tensorflow:Assets written to: model0\\assets\n"
     ]
    },
    {
     "name": "stdout",
     "output_type": "stream",
     "text": [
      "8/8 [==============================] - 3s 461ms/step - loss: 0.0283 - root_mean_squared_error: 0.1681 - val_loss: 0.0346 - val_root_mean_squared_error: 0.1860\n",
      "Epoch 317/2500\n",
      "1/8 [==>...........................] - ETA: 0s - loss: 0.0257 - root_mean_squared_error: 0.1603"
     ]
    },
    {
     "name": "stderr",
     "output_type": "stream",
     "text": [
      "WARNING:absl:Found untraced functions such as lstm_cell_layer_call_fn, lstm_cell_layer_call_and_return_conditional_losses while saving (showing 2 of 2). These functions will not be directly callable after loading.\n"
     ]
    },
    {
     "name": "stdout",
     "output_type": "stream",
     "text": [
      "INFO:tensorflow:Assets written to: model0\\assets\n"
     ]
    },
    {
     "name": "stderr",
     "output_type": "stream",
     "text": [
      "INFO:tensorflow:Assets written to: model0\\assets\n"
     ]
    },
    {
     "name": "stdout",
     "output_type": "stream",
     "text": [
      "8/8 [==============================] - 3s 456ms/step - loss: 0.0273 - root_mean_squared_error: 0.1651 - val_loss: 0.0346 - val_root_mean_squared_error: 0.1859\n",
      "Epoch 318/2500\n",
      "1/8 [==>...........................] - ETA: 0s - loss: 0.0238 - root_mean_squared_error: 0.1543"
     ]
    },
    {
     "name": "stderr",
     "output_type": "stream",
     "text": [
      "WARNING:absl:Found untraced functions such as lstm_cell_layer_call_fn, lstm_cell_layer_call_and_return_conditional_losses while saving (showing 2 of 2). These functions will not be directly callable after loading.\n"
     ]
    },
    {
     "name": "stdout",
     "output_type": "stream",
     "text": [
      "INFO:tensorflow:Assets written to: model0\\assets\n"
     ]
    },
    {
     "name": "stderr",
     "output_type": "stream",
     "text": [
      "INFO:tensorflow:Assets written to: model0\\assets\n"
     ]
    },
    {
     "name": "stdout",
     "output_type": "stream",
     "text": [
      "8/8 [==============================] - 4s 588ms/step - loss: 0.0270 - root_mean_squared_error: 0.1644 - val_loss: 0.0340 - val_root_mean_squared_error: 0.1843\n",
      "Epoch 319/2500\n",
      "1/8 [==>...........................] - ETA: 0s - loss: 0.0320 - root_mean_squared_error: 0.1788"
     ]
    },
    {
     "name": "stderr",
     "output_type": "stream",
     "text": [
      "WARNING:absl:Found untraced functions such as lstm_cell_layer_call_fn, lstm_cell_layer_call_and_return_conditional_losses while saving (showing 2 of 2). These functions will not be directly callable after loading.\n"
     ]
    },
    {
     "name": "stdout",
     "output_type": "stream",
     "text": [
      "INFO:tensorflow:Assets written to: model0\\assets\n"
     ]
    },
    {
     "name": "stderr",
     "output_type": "stream",
     "text": [
      "INFO:tensorflow:Assets written to: model0\\assets\n"
     ]
    },
    {
     "name": "stdout",
     "output_type": "stream",
     "text": [
      "8/8 [==============================] - 3s 474ms/step - loss: 0.0271 - root_mean_squared_error: 0.1646 - val_loss: 0.0330 - val_root_mean_squared_error: 0.1817\n",
      "Epoch 320/2500\n",
      "1/8 [==>...........................] - ETA: 0s - loss: 0.0426 - root_mean_squared_error: 0.2065"
     ]
    },
    {
     "name": "stderr",
     "output_type": "stream",
     "text": [
      "WARNING:absl:Found untraced functions such as lstm_cell_layer_call_fn, lstm_cell_layer_call_and_return_conditional_losses while saving (showing 2 of 2). These functions will not be directly callable after loading.\n"
     ]
    },
    {
     "name": "stdout",
     "output_type": "stream",
     "text": [
      "INFO:tensorflow:Assets written to: model0\\assets\n"
     ]
    },
    {
     "name": "stderr",
     "output_type": "stream",
     "text": [
      "INFO:tensorflow:Assets written to: model0\\assets\n"
     ]
    },
    {
     "name": "stdout",
     "output_type": "stream",
     "text": [
      "8/8 [==============================] - 4s 519ms/step - loss: 0.0273 - root_mean_squared_error: 0.1652 - val_loss: 0.0319 - val_root_mean_squared_error: 0.1785\n",
      "Epoch 321/2500\n",
      "8/8 [==============================] - 0s 7ms/step - loss: 0.0270 - root_mean_squared_error: 0.1644 - val_loss: 0.0331 - val_root_mean_squared_error: 0.1819\n",
      "Epoch 322/2500\n",
      "8/8 [==============================] - 0s 10ms/step - loss: 0.0268 - root_mean_squared_error: 0.1636 - val_loss: 0.0343 - val_root_mean_squared_error: 0.1852\n",
      "Epoch 323/2500\n",
      "8/8 [==============================] - 0s 9ms/step - loss: 0.0264 - root_mean_squared_error: 0.1625 - val_loss: 0.0341 - val_root_mean_squared_error: 0.1846\n",
      "Epoch 324/2500\n",
      "8/8 [==============================] - 0s 9ms/step - loss: 0.0263 - root_mean_squared_error: 0.1622 - val_loss: 0.0325 - val_root_mean_squared_error: 0.1804\n",
      "Epoch 325/2500\n",
      "8/8 [==============================] - 0s 9ms/step - loss: 0.0262 - root_mean_squared_error: 0.1619 - val_loss: 0.0321 - val_root_mean_squared_error: 0.1792\n",
      "Epoch 326/2500\n",
      "8/8 [==============================] - 0s 9ms/step - loss: 0.0261 - root_mean_squared_error: 0.1616 - val_loss: 0.0323 - val_root_mean_squared_error: 0.1796\n",
      "Epoch 327/2500\n",
      "7/8 [=========================>....] - ETA: 0s - loss: 0.0261 - root_mean_squared_error: 0.1616"
     ]
    },
    {
     "name": "stderr",
     "output_type": "stream",
     "text": [
      "WARNING:absl:Found untraced functions such as lstm_cell_layer_call_fn, lstm_cell_layer_call_and_return_conditional_losses while saving (showing 2 of 2). These functions will not be directly callable after loading.\n"
     ]
    },
    {
     "name": "stdout",
     "output_type": "stream",
     "text": [
      "INFO:tensorflow:Assets written to: model0\\assets\n"
     ]
    },
    {
     "name": "stderr",
     "output_type": "stream",
     "text": [
      "INFO:tensorflow:Assets written to: model0\\assets\n"
     ]
    },
    {
     "name": "stdout",
     "output_type": "stream",
     "text": [
      "8/8 [==============================] - 4s 525ms/step - loss: 0.0260 - root_mean_squared_error: 0.1613 - val_loss: 0.0318 - val_root_mean_squared_error: 0.1783\n",
      "Epoch 328/2500\n",
      "8/8 [==============================] - 0s 7ms/step - loss: 0.0260 - root_mean_squared_error: 0.1611 - val_loss: 0.0324 - val_root_mean_squared_error: 0.1799\n",
      "Epoch 329/2500\n",
      "8/8 [==============================] - 0s 9ms/step - loss: 0.0258 - root_mean_squared_error: 0.1607 - val_loss: 0.0331 - val_root_mean_squared_error: 0.1819\n",
      "Epoch 330/2500\n",
      "8/8 [==============================] - 0s 10ms/step - loss: 0.0259 - root_mean_squared_error: 0.1608 - val_loss: 0.0367 - val_root_mean_squared_error: 0.1917\n",
      "Epoch 331/2500\n",
      "8/8 [==============================] - 0s 9ms/step - loss: 0.0260 - root_mean_squared_error: 0.1614 - val_loss: 0.0356 - val_root_mean_squared_error: 0.1886\n",
      "Epoch 332/2500\n",
      "8/8 [==============================] - 0s 9ms/step - loss: 0.0256 - root_mean_squared_error: 0.1601 - val_loss: 0.0326 - val_root_mean_squared_error: 0.1806\n",
      "Epoch 333/2500\n",
      "1/8 [==>...........................] - ETA: 0s - loss: 0.0340 - root_mean_squared_error: 0.1844"
     ]
    },
    {
     "name": "stderr",
     "output_type": "stream",
     "text": [
      "WARNING:absl:Found untraced functions such as lstm_cell_layer_call_fn, lstm_cell_layer_call_and_return_conditional_losses while saving (showing 2 of 2). These functions will not be directly callable after loading.\n"
     ]
    },
    {
     "name": "stdout",
     "output_type": "stream",
     "text": [
      "INFO:tensorflow:Assets written to: model0\\assets\n"
     ]
    },
    {
     "name": "stderr",
     "output_type": "stream",
     "text": [
      "INFO:tensorflow:Assets written to: model0\\assets\n"
     ]
    },
    {
     "name": "stdout",
     "output_type": "stream",
     "text": [
      "8/8 [==============================] - 3s 468ms/step - loss: 0.0254 - root_mean_squared_error: 0.1593 - val_loss: 0.0309 - val_root_mean_squared_error: 0.1757\n",
      "Epoch 334/2500\n",
      "8/8 [==============================] - ETA: 0s - loss: 0.0253 - root_mean_squared_error: 0.1590"
     ]
    },
    {
     "name": "stderr",
     "output_type": "stream",
     "text": [
      "WARNING:absl:Found untraced functions such as lstm_cell_layer_call_fn, lstm_cell_layer_call_and_return_conditional_losses while saving (showing 2 of 2). These functions will not be directly callable after loading.\n"
     ]
    },
    {
     "name": "stdout",
     "output_type": "stream",
     "text": [
      "INFO:tensorflow:Assets written to: model0\\assets\n"
     ]
    },
    {
     "name": "stderr",
     "output_type": "stream",
     "text": [
      "INFO:tensorflow:Assets written to: model0\\assets\n"
     ]
    },
    {
     "name": "stdout",
     "output_type": "stream",
     "text": [
      "8/8 [==============================] - 3s 493ms/step - loss: 0.0253 - root_mean_squared_error: 0.1590 - val_loss: 0.0297 - val_root_mean_squared_error: 0.1723\n",
      "Epoch 335/2500\n",
      "1/8 [==>...........................] - ETA: 0s - loss: 0.0276 - root_mean_squared_error: 0.1663"
     ]
    },
    {
     "name": "stderr",
     "output_type": "stream",
     "text": [
      "WARNING:absl:Found untraced functions such as lstm_cell_layer_call_fn, lstm_cell_layer_call_and_return_conditional_losses while saving (showing 2 of 2). These functions will not be directly callable after loading.\n"
     ]
    },
    {
     "name": "stdout",
     "output_type": "stream",
     "text": [
      "INFO:tensorflow:Assets written to: model0\\assets\n"
     ]
    },
    {
     "name": "stderr",
     "output_type": "stream",
     "text": [
      "INFO:tensorflow:Assets written to: model0\\assets\n"
     ]
    },
    {
     "name": "stdout",
     "output_type": "stream",
     "text": [
      "8/8 [==============================] - 3s 486ms/step - loss: 0.0252 - root_mean_squared_error: 0.1586 - val_loss: 0.0293 - val_root_mean_squared_error: 0.1712\n",
      "Epoch 336/2500\n",
      "1/8 [==>...........................] - ETA: 0s - loss: 0.0284 - root_mean_squared_error: 0.1685"
     ]
    },
    {
     "name": "stderr",
     "output_type": "stream",
     "text": [
      "WARNING:absl:Found untraced functions such as lstm_cell_layer_call_fn, lstm_cell_layer_call_and_return_conditional_losses while saving (showing 2 of 2). These functions will not be directly callable after loading.\n"
     ]
    },
    {
     "name": "stdout",
     "output_type": "stream",
     "text": [
      "INFO:tensorflow:Assets written to: model0\\assets\n"
     ]
    },
    {
     "name": "stderr",
     "output_type": "stream",
     "text": [
      "INFO:tensorflow:Assets written to: model0\\assets\n"
     ]
    },
    {
     "name": "stdout",
     "output_type": "stream",
     "text": [
      "8/8 [==============================] - 4s 521ms/step - loss: 0.0254 - root_mean_squared_error: 0.1595 - val_loss: 0.0261 - val_root_mean_squared_error: 0.1615\n",
      "Epoch 337/2500\n",
      "8/8 [==============================] - 0s 12ms/step - loss: 0.0253 - root_mean_squared_error: 0.1590 - val_loss: 0.0266 - val_root_mean_squared_error: 0.1631\n",
      "Epoch 338/2500\n",
      "8/8 [==============================] - 0s 10ms/step - loss: 0.0251 - root_mean_squared_error: 0.1583 - val_loss: 0.0292 - val_root_mean_squared_error: 0.1709\n",
      "Epoch 339/2500\n",
      "8/8 [==============================] - 0s 10ms/step - loss: 0.0246 - root_mean_squared_error: 0.1569 - val_loss: 0.0329 - val_root_mean_squared_error: 0.1815\n",
      "Epoch 340/2500\n",
      "8/8 [==============================] - 0s 10ms/step - loss: 0.0247 - root_mean_squared_error: 0.1573 - val_loss: 0.0335 - val_root_mean_squared_error: 0.1830\n",
      "Epoch 341/2500\n",
      "8/8 [==============================] - 0s 10ms/step - loss: 0.0251 - root_mean_squared_error: 0.1583 - val_loss: 0.0331 - val_root_mean_squared_error: 0.1820\n",
      "Epoch 342/2500\n",
      "8/8 [==============================] - 0s 7ms/step - loss: 0.0251 - root_mean_squared_error: 0.1584 - val_loss: 0.0311 - val_root_mean_squared_error: 0.1765\n",
      "Epoch 343/2500\n",
      "8/8 [==============================] - 0s 10ms/step - loss: 0.0250 - root_mean_squared_error: 0.1581 - val_loss: 0.0337 - val_root_mean_squared_error: 0.1836\n",
      "Epoch 344/2500\n",
      "8/8 [==============================] - 0s 12ms/step - loss: 0.0244 - root_mean_squared_error: 0.1563 - val_loss: 0.0310 - val_root_mean_squared_error: 0.1762\n",
      "Epoch 345/2500\n",
      "8/8 [==============================] - 0s 10ms/step - loss: 0.0242 - root_mean_squared_error: 0.1554 - val_loss: 0.0292 - val_root_mean_squared_error: 0.1708\n",
      "Epoch 346/2500\n",
      "8/8 [==============================] - 0s 7ms/step - loss: 0.0243 - root_mean_squared_error: 0.1557 - val_loss: 0.0280 - val_root_mean_squared_error: 0.1675\n",
      "Epoch 347/2500\n",
      "8/8 [==============================] - 0s 10ms/step - loss: 0.0241 - root_mean_squared_error: 0.1553 - val_loss: 0.0302 - val_root_mean_squared_error: 0.1737\n",
      "Epoch 348/2500\n",
      "8/8 [==============================] - 0s 10ms/step - loss: 0.0240 - root_mean_squared_error: 0.1549 - val_loss: 0.0320 - val_root_mean_squared_error: 0.1790\n",
      "Epoch 349/2500\n",
      "8/8 [==============================] - 0s 10ms/step - loss: 0.0241 - root_mean_squared_error: 0.1554 - val_loss: 0.0342 - val_root_mean_squared_error: 0.1848\n",
      "Epoch 350/2500\n",
      "8/8 [==============================] - 0s 11ms/step - loss: 0.0240 - root_mean_squared_error: 0.1550 - val_loss: 0.0318 - val_root_mean_squared_error: 0.1784\n",
      "Epoch 351/2500\n",
      "8/8 [==============================] - 0s 9ms/step - loss: 0.0240 - root_mean_squared_error: 0.1550 - val_loss: 0.0274 - val_root_mean_squared_error: 0.1657\n",
      "Epoch 352/2500\n",
      "1/8 [==>...........................] - ETA: 0s - loss: 0.0272 - root_mean_squared_error: 0.1648"
     ]
    },
    {
     "name": "stderr",
     "output_type": "stream",
     "text": [
      "WARNING:absl:Found untraced functions such as lstm_cell_layer_call_fn, lstm_cell_layer_call_and_return_conditional_losses while saving (showing 2 of 2). These functions will not be directly callable after loading.\n"
     ]
    },
    {
     "name": "stdout",
     "output_type": "stream",
     "text": [
      "INFO:tensorflow:Assets written to: model0\\assets\n"
     ]
    },
    {
     "name": "stderr",
     "output_type": "stream",
     "text": [
      "INFO:tensorflow:Assets written to: model0\\assets\n"
     ]
    },
    {
     "name": "stdout",
     "output_type": "stream",
     "text": [
      "8/8 [==============================] - 3s 473ms/step - loss: 0.0247 - root_mean_squared_error: 0.1571 - val_loss: 0.0226 - val_root_mean_squared_error: 0.1503\n",
      "Epoch 353/2500\n",
      "8/8 [==============================] - 0s 9ms/step - loss: 0.0243 - root_mean_squared_error: 0.1560 - val_loss: 0.0258 - val_root_mean_squared_error: 0.1608\n",
      "Epoch 354/2500\n",
      "8/8 [==============================] - 0s 10ms/step - loss: 0.0234 - root_mean_squared_error: 0.1529 - val_loss: 0.0330 - val_root_mean_squared_error: 0.1816\n",
      "Epoch 355/2500\n",
      "8/8 [==============================] - 0s 9ms/step - loss: 0.0239 - root_mean_squared_error: 0.1545 - val_loss: 0.0344 - val_root_mean_squared_error: 0.1854\n",
      "Epoch 356/2500\n",
      "8/8 [==============================] - 0s 10ms/step - loss: 0.0236 - root_mean_squared_error: 0.1537 - val_loss: 0.0305 - val_root_mean_squared_error: 0.1746\n",
      "Epoch 357/2500\n",
      "8/8 [==============================] - 0s 9ms/step - loss: 0.0231 - root_mean_squared_error: 0.1520 - val_loss: 0.0269 - val_root_mean_squared_error: 0.1641\n",
      "Epoch 358/2500\n",
      "8/8 [==============================] - 0s 9ms/step - loss: 0.0228 - root_mean_squared_error: 0.1510 - val_loss: 0.0253 - val_root_mean_squared_error: 0.1591\n",
      "Epoch 359/2500\n",
      "8/8 [==============================] - 0s 9ms/step - loss: 0.0228 - root_mean_squared_error: 0.1510 - val_loss: 0.0250 - val_root_mean_squared_error: 0.1581\n",
      "Epoch 360/2500\n",
      "8/8 [==============================] - 0s 9ms/step - loss: 0.0238 - root_mean_squared_error: 0.1542 - val_loss: 0.0243 - val_root_mean_squared_error: 0.1559\n",
      "Epoch 361/2500\n",
      "8/8 [==============================] - 0s 10ms/step - loss: 0.0258 - root_mean_squared_error: 0.1605 - val_loss: 0.0244 - val_root_mean_squared_error: 0.1562\n",
      "Epoch 362/2500\n",
      "8/8 [==============================] - 0s 8ms/step - loss: 0.0239 - root_mean_squared_error: 0.1546 - val_loss: 0.0256 - val_root_mean_squared_error: 0.1600\n",
      "Epoch 363/2500\n",
      "8/8 [==============================] - 0s 7ms/step - loss: 0.0226 - root_mean_squared_error: 0.1503 - val_loss: 0.0258 - val_root_mean_squared_error: 0.1605\n",
      "Epoch 364/2500\n",
      "8/8 [==============================] - 0s 7ms/step - loss: 0.0224 - root_mean_squared_error: 0.1496 - val_loss: 0.0259 - val_root_mean_squared_error: 0.1610\n",
      "Epoch 365/2500\n",
      "8/8 [==============================] - 0s 11ms/step - loss: 0.0223 - root_mean_squared_error: 0.1493 - val_loss: 0.0250 - val_root_mean_squared_error: 0.1582\n",
      "Epoch 366/2500\n",
      "8/8 [==============================] - 0s 11ms/step - loss: 0.0223 - root_mean_squared_error: 0.1493 - val_loss: 0.0243 - val_root_mean_squared_error: 0.1558\n",
      "Epoch 367/2500\n",
      "8/8 [==============================] - 0s 12ms/step - loss: 0.0222 - root_mean_squared_error: 0.1488 - val_loss: 0.0247 - val_root_mean_squared_error: 0.1572\n",
      "Epoch 368/2500\n",
      "8/8 [==============================] - 0s 9ms/step - loss: 0.0220 - root_mean_squared_error: 0.1484 - val_loss: 0.0244 - val_root_mean_squared_error: 0.1563\n",
      "Epoch 369/2500\n",
      "8/8 [==============================] - 0s 9ms/step - loss: 0.0220 - root_mean_squared_error: 0.1482 - val_loss: 0.0239 - val_root_mean_squared_error: 0.1547\n",
      "Epoch 370/2500\n",
      "8/8 [==============================] - 0s 7ms/step - loss: 0.0219 - root_mean_squared_error: 0.1480 - val_loss: 0.0241 - val_root_mean_squared_error: 0.1553\n",
      "Epoch 371/2500\n",
      "8/8 [==============================] - 0s 10ms/step - loss: 0.0219 - root_mean_squared_error: 0.1481 - val_loss: 0.0255 - val_root_mean_squared_error: 0.1596\n",
      "Epoch 372/2500\n",
      "8/8 [==============================] - 0s 9ms/step - loss: 0.0222 - root_mean_squared_error: 0.1489 - val_loss: 0.0332 - val_root_mean_squared_error: 0.1821\n",
      "Epoch 373/2500\n",
      "8/8 [==============================] - 0s 9ms/step - loss: 0.0223 - root_mean_squared_error: 0.1494 - val_loss: 0.0244 - val_root_mean_squared_error: 0.1564\n",
      "Epoch 374/2500\n",
      "1/8 [==>...........................] - ETA: 0s - loss: 0.0173 - root_mean_squared_error: 0.1317"
     ]
    },
    {
     "name": "stderr",
     "output_type": "stream",
     "text": [
      "WARNING:absl:Found untraced functions such as lstm_cell_layer_call_fn, lstm_cell_layer_call_and_return_conditional_losses while saving (showing 2 of 2). These functions will not be directly callable after loading.\n"
     ]
    },
    {
     "name": "stdout",
     "output_type": "stream",
     "text": [
      "INFO:tensorflow:Assets written to: model0\\assets\n"
     ]
    },
    {
     "name": "stderr",
     "output_type": "stream",
     "text": [
      "INFO:tensorflow:Assets written to: model0\\assets\n"
     ]
    },
    {
     "name": "stdout",
     "output_type": "stream",
     "text": [
      "8/8 [==============================] - 4s 519ms/step - loss: 0.0215 - root_mean_squared_error: 0.1465 - val_loss: 0.0226 - val_root_mean_squared_error: 0.1503\n",
      "Epoch 375/2500\n",
      "8/8 [==============================] - 0s 7ms/step - loss: 0.0216 - root_mean_squared_error: 0.1468 - val_loss: 0.0257 - val_root_mean_squared_error: 0.1602\n",
      "Epoch 376/2500\n",
      "8/8 [==============================] - 0s 10ms/step - loss: 0.0217 - root_mean_squared_error: 0.1473 - val_loss: 0.0246 - val_root_mean_squared_error: 0.1568\n",
      "Epoch 377/2500\n",
      "1/8 [==>...........................] - ETA: 0s - loss: 0.0188 - root_mean_squared_error: 0.1369"
     ]
    },
    {
     "name": "stderr",
     "output_type": "stream",
     "text": [
      "WARNING:absl:Found untraced functions such as lstm_cell_layer_call_fn, lstm_cell_layer_call_and_return_conditional_losses while saving (showing 2 of 2). These functions will not be directly callable after loading.\n"
     ]
    },
    {
     "name": "stdout",
     "output_type": "stream",
     "text": [
      "INFO:tensorflow:Assets written to: model0\\assets\n"
     ]
    },
    {
     "name": "stderr",
     "output_type": "stream",
     "text": [
      "INFO:tensorflow:Assets written to: model0\\assets\n"
     ]
    },
    {
     "name": "stdout",
     "output_type": "stream",
     "text": [
      "8/8 [==============================] - 4s 591ms/step - loss: 0.0216 - root_mean_squared_error: 0.1468 - val_loss: 0.0224 - val_root_mean_squared_error: 0.1498\n",
      "Epoch 378/2500\n",
      "1/8 [==>...........................] - ETA: 0s - loss: 0.0243 - root_mean_squared_error: 0.1560"
     ]
    },
    {
     "name": "stderr",
     "output_type": "stream",
     "text": [
      "WARNING:absl:Found untraced functions such as lstm_cell_layer_call_fn, lstm_cell_layer_call_and_return_conditional_losses while saving (showing 2 of 2). These functions will not be directly callable after loading.\n"
     ]
    },
    {
     "name": "stdout",
     "output_type": "stream",
     "text": [
      "INFO:tensorflow:Assets written to: model0\\assets\n"
     ]
    },
    {
     "name": "stderr",
     "output_type": "stream",
     "text": [
      "INFO:tensorflow:Assets written to: model0\\assets\n"
     ]
    },
    {
     "name": "stdout",
     "output_type": "stream",
     "text": [
      "8/8 [==============================] - 4s 554ms/step - loss: 0.0213 - root_mean_squared_error: 0.1461 - val_loss: 0.0213 - val_root_mean_squared_error: 0.1458\n",
      "Epoch 379/2500\n",
      "8/8 [==============================] - ETA: 0s - loss: 0.0212 - root_mean_squared_error: 0.1457"
     ]
    },
    {
     "name": "stderr",
     "output_type": "stream",
     "text": [
      "WARNING:absl:Found untraced functions such as lstm_cell_layer_call_fn, lstm_cell_layer_call_and_return_conditional_losses while saving (showing 2 of 2). These functions will not be directly callable after loading.\n"
     ]
    },
    {
     "name": "stdout",
     "output_type": "stream",
     "text": [
      "INFO:tensorflow:Assets written to: model0\\assets\n"
     ]
    },
    {
     "name": "stderr",
     "output_type": "stream",
     "text": [
      "INFO:tensorflow:Assets written to: model0\\assets\n"
     ]
    },
    {
     "name": "stdout",
     "output_type": "stream",
     "text": [
      "8/8 [==============================] - 4s 631ms/step - loss: 0.0212 - root_mean_squared_error: 0.1457 - val_loss: 0.0207 - val_root_mean_squared_error: 0.1440\n",
      "Epoch 380/2500\n",
      "8/8 [==============================] - 0s 11ms/step - loss: 0.0211 - root_mean_squared_error: 0.1454 - val_loss: 0.0210 - val_root_mean_squared_error: 0.1449\n",
      "Epoch 381/2500\n",
      "8/8 [==============================] - 0s 11ms/step - loss: 0.0210 - root_mean_squared_error: 0.1450 - val_loss: 0.0208 - val_root_mean_squared_error: 0.1441\n",
      "Epoch 382/2500\n",
      "8/8 [==============================] - 0s 11ms/step - loss: 0.0209 - root_mean_squared_error: 0.1447 - val_loss: 0.0211 - val_root_mean_squared_error: 0.1453\n",
      "Epoch 383/2500\n",
      "8/8 [==============================] - 0s 10ms/step - loss: 0.0209 - root_mean_squared_error: 0.1444 - val_loss: 0.0210 - val_root_mean_squared_error: 0.1450\n",
      "Epoch 384/2500\n",
      "8/8 [==============================] - 0s 10ms/step - loss: 0.0208 - root_mean_squared_error: 0.1443 - val_loss: 0.0217 - val_root_mean_squared_error: 0.1474\n",
      "Epoch 385/2500\n",
      "8/8 [==============================] - ETA: 0s - loss: 0.0207 - root_mean_squared_error: 0.1439"
     ]
    },
    {
     "name": "stderr",
     "output_type": "stream",
     "text": [
      "WARNING:absl:Found untraced functions such as lstm_cell_layer_call_fn, lstm_cell_layer_call_and_return_conditional_losses while saving (showing 2 of 2). These functions will not be directly callable after loading.\n"
     ]
    },
    {
     "name": "stdout",
     "output_type": "stream",
     "text": [
      "INFO:tensorflow:Assets written to: model0\\assets\n"
     ]
    },
    {
     "name": "stderr",
     "output_type": "stream",
     "text": [
      "INFO:tensorflow:Assets written to: model0\\assets\n"
     ]
    },
    {
     "name": "stdout",
     "output_type": "stream",
     "text": [
      "8/8 [==============================] - 6s 827ms/step - loss: 0.0207 - root_mean_squared_error: 0.1439 - val_loss: 0.0199 - val_root_mean_squared_error: 0.1410\n",
      "Epoch 386/2500\n",
      "1/8 [==>...........................] - ETA: 0s - loss: 0.0222 - root_mean_squared_error: 0.1491"
     ]
    },
    {
     "name": "stderr",
     "output_type": "stream",
     "text": [
      "WARNING:absl:Found untraced functions such as lstm_cell_layer_call_fn, lstm_cell_layer_call_and_return_conditional_losses while saving (showing 2 of 2). These functions will not be directly callable after loading.\n"
     ]
    },
    {
     "name": "stdout",
     "output_type": "stream",
     "text": [
      "INFO:tensorflow:Assets written to: model0\\assets\n"
     ]
    },
    {
     "name": "stderr",
     "output_type": "stream",
     "text": [
      "INFO:tensorflow:Assets written to: model0\\assets\n"
     ]
    },
    {
     "name": "stdout",
     "output_type": "stream",
     "text": [
      "8/8 [==============================] - 4s 538ms/step - loss: 0.0212 - root_mean_squared_error: 0.1456 - val_loss: 0.0172 - val_root_mean_squared_error: 0.1313\n",
      "Epoch 387/2500\n",
      "8/8 [==============================] - 0s 9ms/step - loss: 0.0210 - root_mean_squared_error: 0.1448 - val_loss: 0.0191 - val_root_mean_squared_error: 0.1384\n",
      "Epoch 388/2500\n",
      "8/8 [==============================] - 0s 9ms/step - loss: 0.0209 - root_mean_squared_error: 0.1446 - val_loss: 0.0227 - val_root_mean_squared_error: 0.1505\n",
      "Epoch 389/2500\n",
      "8/8 [==============================] - 0s 9ms/step - loss: 0.0205 - root_mean_squared_error: 0.1431 - val_loss: 0.0224 - val_root_mean_squared_error: 0.1498\n",
      "Epoch 390/2500\n",
      "8/8 [==============================] - 0s 10ms/step - loss: 0.0204 - root_mean_squared_error: 0.1429 - val_loss: 0.0212 - val_root_mean_squared_error: 0.1455\n",
      "Epoch 391/2500\n",
      "8/8 [==============================] - 0s 12ms/step - loss: 0.0203 - root_mean_squared_error: 0.1426 - val_loss: 0.0210 - val_root_mean_squared_error: 0.1450\n",
      "Epoch 392/2500\n",
      "8/8 [==============================] - 0s 9ms/step - loss: 0.0204 - root_mean_squared_error: 0.1428 - val_loss: 0.0225 - val_root_mean_squared_error: 0.1499\n",
      "Epoch 393/2500\n",
      "8/8 [==============================] - 0s 9ms/step - loss: 0.0203 - root_mean_squared_error: 0.1425 - val_loss: 0.0221 - val_root_mean_squared_error: 0.1487\n",
      "Epoch 394/2500\n",
      "8/8 [==============================] - 0s 9ms/step - loss: 0.0201 - root_mean_squared_error: 0.1418 - val_loss: 0.0208 - val_root_mean_squared_error: 0.1442\n",
      "Epoch 395/2500\n",
      "8/8 [==============================] - 0s 9ms/step - loss: 0.0200 - root_mean_squared_error: 0.1413 - val_loss: 0.0195 - val_root_mean_squared_error: 0.1398\n",
      "Epoch 396/2500\n",
      "8/8 [==============================] - 0s 9ms/step - loss: 0.0200 - root_mean_squared_error: 0.1415 - val_loss: 0.0194 - val_root_mean_squared_error: 0.1392\n",
      "Epoch 397/2500\n",
      "8/8 [==============================] - 0s 9ms/step - loss: 0.0200 - root_mean_squared_error: 0.1413 - val_loss: 0.0203 - val_root_mean_squared_error: 0.1423\n",
      "Epoch 398/2500\n",
      "8/8 [==============================] - 0s 9ms/step - loss: 0.0199 - root_mean_squared_error: 0.1411 - val_loss: 0.0203 - val_root_mean_squared_error: 0.1424\n",
      "Epoch 399/2500\n",
      "8/8 [==============================] - 0s 8ms/step - loss: 0.0199 - root_mean_squared_error: 0.1409 - val_loss: 0.0209 - val_root_mean_squared_error: 0.1445\n",
      "Epoch 400/2500\n",
      "8/8 [==============================] - 0s 8ms/step - loss: 0.0198 - root_mean_squared_error: 0.1407 - val_loss: 0.0211 - val_root_mean_squared_error: 0.1452\n",
      "Epoch 401/2500\n",
      "8/8 [==============================] - 0s 7ms/step - loss: 0.0199 - root_mean_squared_error: 0.1412 - val_loss: 0.0220 - val_root_mean_squared_error: 0.1485\n",
      "Epoch 402/2500\n",
      "8/8 [==============================] - 0s 9ms/step - loss: 0.0196 - root_mean_squared_error: 0.1401 - val_loss: 0.0174 - val_root_mean_squared_error: 0.1318\n",
      "Epoch 403/2500\n",
      "1/8 [==>...........................] - ETA: 0s - loss: 0.0241 - root_mean_squared_error: 0.1554"
     ]
    },
    {
     "name": "stderr",
     "output_type": "stream",
     "text": [
      "WARNING:absl:Found untraced functions such as lstm_cell_layer_call_fn, lstm_cell_layer_call_and_return_conditional_losses while saving (showing 2 of 2). These functions will not be directly callable after loading.\n"
     ]
    },
    {
     "name": "stdout",
     "output_type": "stream",
     "text": [
      "INFO:tensorflow:Assets written to: model0\\assets\n"
     ]
    },
    {
     "name": "stderr",
     "output_type": "stream",
     "text": [
      "INFO:tensorflow:Assets written to: model0\\assets\n"
     ]
    },
    {
     "name": "stdout",
     "output_type": "stream",
     "text": [
      "8/8 [==============================] - 4s 511ms/step - loss: 0.0198 - root_mean_squared_error: 0.1409 - val_loss: 0.0163 - val_root_mean_squared_error: 0.1279\n",
      "Epoch 404/2500\n",
      "8/8 [==============================] - 0s 9ms/step - loss: 0.0197 - root_mean_squared_error: 0.1402 - val_loss: 0.0173 - val_root_mean_squared_error: 0.1315\n",
      "Epoch 405/2500\n",
      "8/8 [==============================] - 0s 8ms/step - loss: 0.0195 - root_mean_squared_error: 0.1396 - val_loss: 0.0182 - val_root_mean_squared_error: 0.1349\n",
      "Epoch 406/2500\n",
      "8/8 [==============================] - 0s 9ms/step - loss: 0.0197 - root_mean_squared_error: 0.1403 - val_loss: 0.0193 - val_root_mean_squared_error: 0.1388\n",
      "Epoch 407/2500\n",
      "8/8 [==============================] - 0s 8ms/step - loss: 0.0194 - root_mean_squared_error: 0.1392 - val_loss: 0.0188 - val_root_mean_squared_error: 0.1370\n",
      "Epoch 408/2500\n",
      "8/8 [==============================] - 0s 10ms/step - loss: 0.0193 - root_mean_squared_error: 0.1389 - val_loss: 0.0182 - val_root_mean_squared_error: 0.1350\n",
      "Epoch 409/2500\n",
      "8/8 [==============================] - 0s 7ms/step - loss: 0.0194 - root_mean_squared_error: 0.1394 - val_loss: 0.0181 - val_root_mean_squared_error: 0.1345\n",
      "Epoch 410/2500\n",
      "8/8 [==============================] - 0s 8ms/step - loss: 0.0192 - root_mean_squared_error: 0.1384 - val_loss: 0.0181 - val_root_mean_squared_error: 0.1347\n",
      "Epoch 411/2500\n",
      "8/8 [==============================] - 0s 7ms/step - loss: 0.0190 - root_mean_squared_error: 0.1380 - val_loss: 0.0184 - val_root_mean_squared_error: 0.1355\n",
      "Epoch 412/2500\n",
      "8/8 [==============================] - 0s 9ms/step - loss: 0.0191 - root_mean_squared_error: 0.1384 - val_loss: 0.0177 - val_root_mean_squared_error: 0.1332\n",
      "Epoch 413/2500\n",
      "8/8 [==============================] - 0s 9ms/step - loss: 0.0192 - root_mean_squared_error: 0.1385 - val_loss: 0.0166 - val_root_mean_squared_error: 0.1290\n",
      "Epoch 414/2500\n",
      "1/8 [==>...........................] - ETA: 0s - loss: 0.0173 - root_mean_squared_error: 0.1313"
     ]
    },
    {
     "name": "stderr",
     "output_type": "stream",
     "text": [
      "WARNING:absl:Found untraced functions such as lstm_cell_layer_call_fn, lstm_cell_layer_call_and_return_conditional_losses while saving (showing 2 of 2). These functions will not be directly callable after loading.\n"
     ]
    },
    {
     "name": "stdout",
     "output_type": "stream",
     "text": [
      "INFO:tensorflow:Assets written to: model0\\assets\n"
     ]
    },
    {
     "name": "stderr",
     "output_type": "stream",
     "text": [
      "INFO:tensorflow:Assets written to: model0\\assets\n"
     ]
    },
    {
     "name": "stdout",
     "output_type": "stream",
     "text": [
      "8/8 [==============================] - 3s 477ms/step - loss: 0.0191 - root_mean_squared_error: 0.1383 - val_loss: 0.0161 - val_root_mean_squared_error: 0.1270\n",
      "Epoch 415/2500\n",
      "8/8 [==============================] - 0s 10ms/step - loss: 0.0190 - root_mean_squared_error: 0.1377 - val_loss: 0.0169 - val_root_mean_squared_error: 0.1302\n",
      "Epoch 416/2500\n",
      "8/8 [==============================] - 0s 11ms/step - loss: 0.0189 - root_mean_squared_error: 0.1374 - val_loss: 0.0179 - val_root_mean_squared_error: 0.1339\n",
      "Epoch 417/2500\n",
      "8/8 [==============================] - 0s 10ms/step - loss: 0.0189 - root_mean_squared_error: 0.1374 - val_loss: 0.0191 - val_root_mean_squared_error: 0.1384\n",
      "Epoch 418/2500\n",
      "8/8 [==============================] - 0s 10ms/step - loss: 0.0190 - root_mean_squared_error: 0.1380 - val_loss: 0.0187 - val_root_mean_squared_error: 0.1369\n",
      "Epoch 419/2500\n",
      "8/8 [==============================] - 0s 9ms/step - loss: 0.0189 - root_mean_squared_error: 0.1375 - val_loss: 0.0182 - val_root_mean_squared_error: 0.1350\n",
      "Epoch 420/2500\n",
      "8/8 [==============================] - 0s 10ms/step - loss: 0.0188 - root_mean_squared_error: 0.1370 - val_loss: 0.0174 - val_root_mean_squared_error: 0.1319\n",
      "Epoch 421/2500\n",
      "8/8 [==============================] - 0s 10ms/step - loss: 0.0186 - root_mean_squared_error: 0.1365 - val_loss: 0.0167 - val_root_mean_squared_error: 0.1294\n",
      "Epoch 422/2500\n",
      "8/8 [==============================] - 0s 10ms/step - loss: 0.0186 - root_mean_squared_error: 0.1365 - val_loss: 0.0169 - val_root_mean_squared_error: 0.1302\n",
      "Epoch 423/2500\n",
      "8/8 [==============================] - 0s 11ms/step - loss: 0.0185 - root_mean_squared_error: 0.1361 - val_loss: 0.0169 - val_root_mean_squared_error: 0.1301\n",
      "Epoch 424/2500\n",
      "8/8 [==============================] - 0s 12ms/step - loss: 0.0187 - root_mean_squared_error: 0.1366 - val_loss: 0.0170 - val_root_mean_squared_error: 0.1304\n",
      "Epoch 425/2500\n",
      "8/8 [==============================] - 0s 7ms/step - loss: 0.0184 - root_mean_squared_error: 0.1357 - val_loss: 0.0167 - val_root_mean_squared_error: 0.1293\n",
      "Epoch 426/2500\n",
      "8/8 [==============================] - 0s 9ms/step - loss: 0.0188 - root_mean_squared_error: 0.1369 - val_loss: 0.0166 - val_root_mean_squared_error: 0.1289\n",
      "Epoch 427/2500\n",
      "8/8 [==============================] - 0s 9ms/step - loss: 0.0183 - root_mean_squared_error: 0.1354 - val_loss: 0.0165 - val_root_mean_squared_error: 0.1284\n",
      "Epoch 428/2500\n",
      "8/8 [==============================] - ETA: 0s - loss: 0.0199 - root_mean_squared_error: 0.1411"
     ]
    },
    {
     "name": "stderr",
     "output_type": "stream",
     "text": [
      "WARNING:absl:Found untraced functions such as lstm_cell_layer_call_fn, lstm_cell_layer_call_and_return_conditional_losses while saving (showing 2 of 2). These functions will not be directly callable after loading.\n"
     ]
    },
    {
     "name": "stdout",
     "output_type": "stream",
     "text": [
      "INFO:tensorflow:Assets written to: model0\\assets\n"
     ]
    },
    {
     "name": "stderr",
     "output_type": "stream",
     "text": [
      "INFO:tensorflow:Assets written to: model0\\assets\n"
     ]
    },
    {
     "name": "stdout",
     "output_type": "stream",
     "text": [
      "8/8 [==============================] - 4s 517ms/step - loss: 0.0199 - root_mean_squared_error: 0.1411 - val_loss: 0.0160 - val_root_mean_squared_error: 0.1265\n",
      "Epoch 429/2500\n",
      "8/8 [==============================] - 0s 8ms/step - loss: 0.0220 - root_mean_squared_error: 0.1483 - val_loss: 0.0169 - val_root_mean_squared_error: 0.1298\n",
      "Epoch 430/2500\n",
      "8/8 [==============================] - 0s 7ms/step - loss: 0.0191 - root_mean_squared_error: 0.1383 - val_loss: 0.0187 - val_root_mean_squared_error: 0.1367\n",
      "Epoch 431/2500\n",
      "8/8 [==============================] - 0s 7ms/step - loss: 0.0184 - root_mean_squared_error: 0.1356 - val_loss: 0.0183 - val_root_mean_squared_error: 0.1351\n",
      "Epoch 432/2500\n",
      "8/8 [==============================] - 0s 7ms/step - loss: 0.0186 - root_mean_squared_error: 0.1362 - val_loss: 0.0165 - val_root_mean_squared_error: 0.1283\n",
      "Epoch 433/2500\n",
      "1/8 [==>...........................] - ETA: 0s - loss: 0.0238 - root_mean_squared_error: 0.1544"
     ]
    },
    {
     "name": "stderr",
     "output_type": "stream",
     "text": [
      "WARNING:absl:Found untraced functions such as lstm_cell_layer_call_fn, lstm_cell_layer_call_and_return_conditional_losses while saving (showing 2 of 2). These functions will not be directly callable after loading.\n"
     ]
    },
    {
     "name": "stdout",
     "output_type": "stream",
     "text": [
      "INFO:tensorflow:Assets written to: model0\\assets\n"
     ]
    },
    {
     "name": "stderr",
     "output_type": "stream",
     "text": [
      "INFO:tensorflow:Assets written to: model0\\assets\n"
     ]
    },
    {
     "name": "stdout",
     "output_type": "stream",
     "text": [
      "8/8 [==============================] - 3s 469ms/step - loss: 0.0184 - root_mean_squared_error: 0.1355 - val_loss: 0.0150 - val_root_mean_squared_error: 0.1224\n",
      "Epoch 434/2500\n",
      "8/8 [==============================] - 0s 10ms/step - loss: 0.0182 - root_mean_squared_error: 0.1348 - val_loss: 0.0151 - val_root_mean_squared_error: 0.1227\n",
      "Epoch 435/2500\n",
      "8/8 [==============================] - 0s 8ms/step - loss: 0.0179 - root_mean_squared_error: 0.1339 - val_loss: 0.0158 - val_root_mean_squared_error: 0.1256\n",
      "Epoch 436/2500\n",
      "8/8 [==============================] - 0s 9ms/step - loss: 0.0179 - root_mean_squared_error: 0.1338 - val_loss: 0.0178 - val_root_mean_squared_error: 0.1335\n",
      "Epoch 437/2500\n",
      "8/8 [==============================] - 0s 8ms/step - loss: 0.0184 - root_mean_squared_error: 0.1355 - val_loss: 0.0241 - val_root_mean_squared_error: 0.1553\n",
      "Epoch 438/2500\n",
      "8/8 [==============================] - 0s 8ms/step - loss: 0.0191 - root_mean_squared_error: 0.1384 - val_loss: 0.0198 - val_root_mean_squared_error: 0.1408\n",
      "Epoch 439/2500\n",
      "1/8 [==>...........................] - ETA: 0s - loss: 0.0184 - root_mean_squared_error: 0.1358"
     ]
    },
    {
     "name": "stderr",
     "output_type": "stream",
     "text": [
      "WARNING:absl:Found untraced functions such as lstm_cell_layer_call_fn, lstm_cell_layer_call_and_return_conditional_losses while saving (showing 2 of 2). These functions will not be directly callable after loading.\n"
     ]
    },
    {
     "name": "stdout",
     "output_type": "stream",
     "text": [
      "INFO:tensorflow:Assets written to: model0\\assets\n"
     ]
    },
    {
     "name": "stderr",
     "output_type": "stream",
     "text": [
      "INFO:tensorflow:Assets written to: model0\\assets\n"
     ]
    },
    {
     "name": "stdout",
     "output_type": "stream",
     "text": [
      "8/8 [==============================] - 5s 677ms/step - loss: 0.0182 - root_mean_squared_error: 0.1347 - val_loss: 0.0147 - val_root_mean_squared_error: 0.1212\n",
      "Epoch 440/2500\n",
      "1/8 [==>...........................] - ETA: 0s - loss: 0.0142 - root_mean_squared_error: 0.1193"
     ]
    },
    {
     "name": "stderr",
     "output_type": "stream",
     "text": [
      "WARNING:absl:Found untraced functions such as lstm_cell_layer_call_fn, lstm_cell_layer_call_and_return_conditional_losses while saving (showing 2 of 2). These functions will not be directly callable after loading.\n"
     ]
    },
    {
     "name": "stdout",
     "output_type": "stream",
     "text": [
      "INFO:tensorflow:Assets written to: model0\\assets\n"
     ]
    },
    {
     "name": "stderr",
     "output_type": "stream",
     "text": [
      "INFO:tensorflow:Assets written to: model0\\assets\n"
     ]
    },
    {
     "name": "stdout",
     "output_type": "stream",
     "text": [
      "8/8 [==============================] - 4s 534ms/step - loss: 0.0181 - root_mean_squared_error: 0.1345 - val_loss: 0.0140 - val_root_mean_squared_error: 0.1184\n",
      "Epoch 441/2500\n",
      "8/8 [==============================] - 0s 10ms/step - loss: 0.0178 - root_mean_squared_error: 0.1333 - val_loss: 0.0149 - val_root_mean_squared_error: 0.1222\n",
      "Epoch 442/2500\n",
      "8/8 [==============================] - 0s 10ms/step - loss: 0.0177 - root_mean_squared_error: 0.1329 - val_loss: 0.0169 - val_root_mean_squared_error: 0.1300\n",
      "Epoch 443/2500\n",
      "8/8 [==============================] - 0s 10ms/step - loss: 0.0178 - root_mean_squared_error: 0.1335 - val_loss: 0.0206 - val_root_mean_squared_error: 0.1436\n",
      "Epoch 444/2500\n",
      "8/8 [==============================] - 0s 9ms/step - loss: 0.0185 - root_mean_squared_error: 0.1360 - val_loss: 0.0213 - val_root_mean_squared_error: 0.1459\n",
      "Epoch 445/2500\n",
      "8/8 [==============================] - 0s 13ms/step - loss: 0.0181 - root_mean_squared_error: 0.1344 - val_loss: 0.0175 - val_root_mean_squared_error: 0.1322\n",
      "Epoch 446/2500\n",
      "8/8 [==============================] - 0s 8ms/step - loss: 0.0174 - root_mean_squared_error: 0.1319 - val_loss: 0.0152 - val_root_mean_squared_error: 0.1231\n",
      "Epoch 447/2500\n",
      "1/8 [==>...........................] - ETA: 0s - loss: 0.0242 - root_mean_squared_error: 0.1557"
     ]
    },
    {
     "name": "stderr",
     "output_type": "stream",
     "text": [
      "WARNING:absl:Found untraced functions such as lstm_cell_layer_call_fn, lstm_cell_layer_call_and_return_conditional_losses while saving (showing 2 of 2). These functions will not be directly callable after loading.\n"
     ]
    },
    {
     "name": "stdout",
     "output_type": "stream",
     "text": [
      "INFO:tensorflow:Assets written to: model0\\assets\n"
     ]
    },
    {
     "name": "stderr",
     "output_type": "stream",
     "text": [
      "INFO:tensorflow:Assets written to: model0\\assets\n"
     ]
    },
    {
     "name": "stdout",
     "output_type": "stream",
     "text": [
      "8/8 [==============================] - 3s 497ms/step - loss: 0.0174 - root_mean_squared_error: 0.1319 - val_loss: 0.0140 - val_root_mean_squared_error: 0.1182\n",
      "Epoch 448/2500\n",
      "1/8 [==>...........................] - ETA: 0s - loss: 0.0154 - root_mean_squared_error: 0.1241"
     ]
    },
    {
     "name": "stderr",
     "output_type": "stream",
     "text": [
      "WARNING:absl:Found untraced functions such as lstm_cell_layer_call_fn, lstm_cell_layer_call_and_return_conditional_losses while saving (showing 2 of 2). These functions will not be directly callable after loading.\n"
     ]
    },
    {
     "name": "stdout",
     "output_type": "stream",
     "text": [
      "INFO:tensorflow:Assets written to: model0\\assets\n"
     ]
    },
    {
     "name": "stderr",
     "output_type": "stream",
     "text": [
      "INFO:tensorflow:Assets written to: model0\\assets\n"
     ]
    },
    {
     "name": "stdout",
     "output_type": "stream",
     "text": [
      "8/8 [==============================] - 4s 548ms/step - loss: 0.0182 - root_mean_squared_error: 0.1348 - val_loss: 0.0140 - val_root_mean_squared_error: 0.1182\n",
      "Epoch 449/2500\n",
      "1/8 [==>...........................] - ETA: 0s - loss: 0.0167 - root_mean_squared_error: 0.1293"
     ]
    },
    {
     "name": "stderr",
     "output_type": "stream",
     "text": [
      "WARNING:absl:Found untraced functions such as lstm_cell_layer_call_fn, lstm_cell_layer_call_and_return_conditional_losses while saving (showing 2 of 2). These functions will not be directly callable after loading.\n"
     ]
    },
    {
     "name": "stdout",
     "output_type": "stream",
     "text": [
      "INFO:tensorflow:Assets written to: model0\\assets\n"
     ]
    },
    {
     "name": "stderr",
     "output_type": "stream",
     "text": [
      "INFO:tensorflow:Assets written to: model0\\assets\n"
     ]
    },
    {
     "name": "stdout",
     "output_type": "stream",
     "text": [
      "8/8 [==============================] - 3s 460ms/step - loss: 0.0186 - root_mean_squared_error: 0.1363 - val_loss: 0.0134 - val_root_mean_squared_error: 0.1159\n",
      "Epoch 450/2500\n",
      "8/8 [==============================] - 0s 8ms/step - loss: 0.0174 - root_mean_squared_error: 0.1319 - val_loss: 0.0158 - val_root_mean_squared_error: 0.1256\n",
      "Epoch 451/2500\n",
      "8/8 [==============================] - 0s 8ms/step - loss: 0.0173 - root_mean_squared_error: 0.1315 - val_loss: 0.0172 - val_root_mean_squared_error: 0.1313\n",
      "Epoch 452/2500\n",
      "8/8 [==============================] - 0s 7ms/step - loss: 0.0176 - root_mean_squared_error: 0.1325 - val_loss: 0.0164 - val_root_mean_squared_error: 0.1282\n",
      "Epoch 453/2500\n",
      "8/8 [==============================] - 0s 7ms/step - loss: 0.0177 - root_mean_squared_error: 0.1331 - val_loss: 0.0147 - val_root_mean_squared_error: 0.1211\n",
      "Epoch 454/2500\n",
      "8/8 [==============================] - 0s 8ms/step - loss: 0.0174 - root_mean_squared_error: 0.1320 - val_loss: 0.0140 - val_root_mean_squared_error: 0.1182\n",
      "Epoch 455/2500\n",
      "8/8 [==============================] - 0s 8ms/step - loss: 0.0171 - root_mean_squared_error: 0.1307 - val_loss: 0.0140 - val_root_mean_squared_error: 0.1185\n",
      "Epoch 456/2500\n",
      "8/8 [==============================] - 0s 11ms/step - loss: 0.0173 - root_mean_squared_error: 0.1317 - val_loss: 0.0154 - val_root_mean_squared_error: 0.1241\n",
      "Epoch 457/2500\n",
      "8/8 [==============================] - 0s 9ms/step - loss: 0.0190 - root_mean_squared_error: 0.1377 - val_loss: 0.0239 - val_root_mean_squared_error: 0.1545\n",
      "Epoch 458/2500\n",
      "8/8 [==============================] - 0s 9ms/step - loss: 0.0179 - root_mean_squared_error: 0.1340 - val_loss: 0.0136 - val_root_mean_squared_error: 0.1167\n",
      "Epoch 459/2500\n",
      "1/8 [==>...........................] - ETA: 0s - loss: 0.0157 - root_mean_squared_error: 0.1253"
     ]
    },
    {
     "name": "stderr",
     "output_type": "stream",
     "text": [
      "WARNING:absl:Found untraced functions such as lstm_cell_layer_call_fn, lstm_cell_layer_call_and_return_conditional_losses while saving (showing 2 of 2). These functions will not be directly callable after loading.\n"
     ]
    },
    {
     "name": "stdout",
     "output_type": "stream",
     "text": [
      "INFO:tensorflow:Assets written to: model0\\assets\n"
     ]
    },
    {
     "name": "stderr",
     "output_type": "stream",
     "text": [
      "INFO:tensorflow:Assets written to: model0\\assets\n"
     ]
    },
    {
     "name": "stdout",
     "output_type": "stream",
     "text": [
      "8/8 [==============================] - 3s 485ms/step - loss: 0.0172 - root_mean_squared_error: 0.1311 - val_loss: 0.0131 - val_root_mean_squared_error: 0.1145\n",
      "Epoch 460/2500\n",
      "8/8 [==============================] - 0s 9ms/step - loss: 0.0180 - root_mean_squared_error: 0.1342 - val_loss: 0.0137 - val_root_mean_squared_error: 0.1171\n",
      "Epoch 461/2500\n",
      "8/8 [==============================] - 0s 9ms/step - loss: 0.0185 - root_mean_squared_error: 0.1360 - val_loss: 0.0132 - val_root_mean_squared_error: 0.1148\n",
      "Epoch 462/2500\n",
      "1/8 [==>...........................] - ETA: 0s - loss: 0.0100 - root_mean_squared_error: 0.0999"
     ]
    },
    {
     "name": "stderr",
     "output_type": "stream",
     "text": [
      "WARNING:absl:Found untraced functions such as lstm_cell_layer_call_fn, lstm_cell_layer_call_and_return_conditional_losses while saving (showing 2 of 2). These functions will not be directly callable after loading.\n"
     ]
    },
    {
     "name": "stdout",
     "output_type": "stream",
     "text": [
      "INFO:tensorflow:Assets written to: model0\\assets\n"
     ]
    },
    {
     "name": "stderr",
     "output_type": "stream",
     "text": [
      "INFO:tensorflow:Assets written to: model0\\assets\n"
     ]
    },
    {
     "name": "stdout",
     "output_type": "stream",
     "text": [
      "8/8 [==============================] - 4s 542ms/step - loss: 0.0176 - root_mean_squared_error: 0.1326 - val_loss: 0.0129 - val_root_mean_squared_error: 0.1135\n",
      "Epoch 463/2500\n",
      "1/8 [==>...........................] - ETA: 0s - loss: 0.0221 - root_mean_squared_error: 0.1487"
     ]
    },
    {
     "name": "stderr",
     "output_type": "stream",
     "text": [
      "WARNING:absl:Found untraced functions such as lstm_cell_layer_call_fn, lstm_cell_layer_call_and_return_conditional_losses while saving (showing 2 of 2). These functions will not be directly callable after loading.\n"
     ]
    },
    {
     "name": "stdout",
     "output_type": "stream",
     "text": [
      "INFO:tensorflow:Assets written to: model0\\assets\n"
     ]
    },
    {
     "name": "stderr",
     "output_type": "stream",
     "text": [
      "INFO:tensorflow:Assets written to: model0\\assets\n"
     ]
    },
    {
     "name": "stdout",
     "output_type": "stream",
     "text": [
      "8/8 [==============================] - 4s 501ms/step - loss: 0.0173 - root_mean_squared_error: 0.1314 - val_loss: 0.0126 - val_root_mean_squared_error: 0.1125\n",
      "Epoch 464/2500\n",
      "8/8 [==============================] - 0s 11ms/step - loss: 0.0171 - root_mean_squared_error: 0.1307 - val_loss: 0.0132 - val_root_mean_squared_error: 0.1150\n",
      "Epoch 465/2500\n",
      "8/8 [==============================] - 0s 11ms/step - loss: 0.0170 - root_mean_squared_error: 0.1304 - val_loss: 0.0144 - val_root_mean_squared_error: 0.1200\n",
      "Epoch 466/2500\n",
      "8/8 [==============================] - 0s 10ms/step - loss: 0.0169 - root_mean_squared_error: 0.1299 - val_loss: 0.0145 - val_root_mean_squared_error: 0.1205\n",
      "Epoch 467/2500\n",
      "8/8 [==============================] - 0s 9ms/step - loss: 0.0168 - root_mean_squared_error: 0.1294 - val_loss: 0.0138 - val_root_mean_squared_error: 0.1173\n",
      "Epoch 468/2500\n",
      "8/8 [==============================] - 0s 9ms/step - loss: 0.0168 - root_mean_squared_error: 0.1295 - val_loss: 0.0136 - val_root_mean_squared_error: 0.1166\n",
      "Epoch 469/2500\n",
      "8/8 [==============================] - 0s 9ms/step - loss: 0.0166 - root_mean_squared_error: 0.1288 - val_loss: 0.0135 - val_root_mean_squared_error: 0.1161\n",
      "Epoch 470/2500\n",
      "8/8 [==============================] - 0s 9ms/step - loss: 0.0169 - root_mean_squared_error: 0.1299 - val_loss: 0.0128 - val_root_mean_squared_error: 0.1132\n",
      "Epoch 471/2500\n",
      "8/8 [==============================] - 0s 9ms/step - loss: 0.0174 - root_mean_squared_error: 0.1320 - val_loss: 0.0127 - val_root_mean_squared_error: 0.1125\n",
      "Epoch 472/2500\n",
      "8/8 [==============================] - 0s 8ms/step - loss: 0.0171 - root_mean_squared_error: 0.1309 - val_loss: 0.0134 - val_root_mean_squared_error: 0.1156\n",
      "Epoch 473/2500\n",
      "8/8 [==============================] - 0s 9ms/step - loss: 0.0165 - root_mean_squared_error: 0.1286 - val_loss: 0.0136 - val_root_mean_squared_error: 0.1166\n",
      "Epoch 474/2500\n",
      "8/8 [==============================] - 0s 7ms/step - loss: 0.0168 - root_mean_squared_error: 0.1296 - val_loss: 0.0136 - val_root_mean_squared_error: 0.1168\n",
      "Epoch 475/2500\n",
      "8/8 [==============================] - 0s 7ms/step - loss: 0.0167 - root_mean_squared_error: 0.1292 - val_loss: 0.0138 - val_root_mean_squared_error: 0.1173\n",
      "Epoch 476/2500\n",
      "8/8 [==============================] - 0s 9ms/step - loss: 0.0165 - root_mean_squared_error: 0.1283 - val_loss: 0.0131 - val_root_mean_squared_error: 0.1146\n",
      "Epoch 477/2500\n",
      "1/8 [==>...........................] - ETA: 0s - loss: 0.0153 - root_mean_squared_error: 0.1238"
     ]
    },
    {
     "name": "stderr",
     "output_type": "stream",
     "text": [
      "WARNING:absl:Found untraced functions such as lstm_cell_layer_call_fn, lstm_cell_layer_call_and_return_conditional_losses while saving (showing 2 of 2). These functions will not be directly callable after loading.\n"
     ]
    },
    {
     "name": "stdout",
     "output_type": "stream",
     "text": [
      "INFO:tensorflow:Assets written to: model0\\assets\n"
     ]
    },
    {
     "name": "stderr",
     "output_type": "stream",
     "text": [
      "INFO:tensorflow:Assets written to: model0\\assets\n"
     ]
    },
    {
     "name": "stdout",
     "output_type": "stream",
     "text": [
      "8/8 [==============================] - 3s 467ms/step - loss: 0.0167 - root_mean_squared_error: 0.1293 - val_loss: 0.0123 - val_root_mean_squared_error: 0.1111\n",
      "Epoch 478/2500\n",
      "8/8 [==============================] - 0s 12ms/step - loss: 0.0178 - root_mean_squared_error: 0.1333 - val_loss: 0.0138 - val_root_mean_squared_error: 0.1173\n",
      "Epoch 479/2500\n",
      "8/8 [==============================] - 0s 10ms/step - loss: 0.0183 - root_mean_squared_error: 0.1354 - val_loss: 0.0126 - val_root_mean_squared_error: 0.1121\n",
      "Epoch 480/2500\n",
      "8/8 [==============================] - 0s 10ms/step - loss: 0.0170 - root_mean_squared_error: 0.1302 - val_loss: 0.0128 - val_root_mean_squared_error: 0.1130\n",
      "Epoch 481/2500\n",
      "8/8 [==============================] - 0s 10ms/step - loss: 0.0164 - root_mean_squared_error: 0.1282 - val_loss: 0.0142 - val_root_mean_squared_error: 0.1190\n",
      "Epoch 482/2500\n",
      "8/8 [==============================] - 0s 10ms/step - loss: 0.0164 - root_mean_squared_error: 0.1281 - val_loss: 0.0136 - val_root_mean_squared_error: 0.1164\n",
      "Epoch 483/2500\n",
      "8/8 [==============================] - 0s 10ms/step - loss: 0.0165 - root_mean_squared_error: 0.1285 - val_loss: 0.0130 - val_root_mean_squared_error: 0.1142\n",
      "Epoch 484/2500\n",
      "8/8 [==============================] - 0s 9ms/step - loss: 0.0161 - root_mean_squared_error: 0.1268 - val_loss: 0.0130 - val_root_mean_squared_error: 0.1141\n",
      "Epoch 485/2500\n",
      "8/8 [==============================] - 0s 8ms/step - loss: 0.0168 - root_mean_squared_error: 0.1298 - val_loss: 0.0129 - val_root_mean_squared_error: 0.1135\n",
      "Epoch 486/2500\n",
      "8/8 [==============================] - 0s 7ms/step - loss: 0.0170 - root_mean_squared_error: 0.1302 - val_loss: 0.0136 - val_root_mean_squared_error: 0.1166\n",
      "Epoch 487/2500\n",
      "8/8 [==============================] - 0s 9ms/step - loss: 0.0165 - root_mean_squared_error: 0.1283 - val_loss: 0.0162 - val_root_mean_squared_error: 0.1273\n",
      "Epoch 488/2500\n",
      "8/8 [==============================] - 0s 10ms/step - loss: 0.0168 - root_mean_squared_error: 0.1296 - val_loss: 0.0146 - val_root_mean_squared_error: 0.1207\n",
      "Epoch 489/2500\n",
      "8/8 [==============================] - 0s 11ms/step - loss: 0.0167 - root_mean_squared_error: 0.1294 - val_loss: 0.0128 - val_root_mean_squared_error: 0.1129\n",
      "Epoch 490/2500\n",
      "8/8 [==============================] - 0s 11ms/step - loss: 0.0166 - root_mean_squared_error: 0.1287 - val_loss: 0.0126 - val_root_mean_squared_error: 0.1124\n",
      "Epoch 491/2500\n",
      "8/8 [==============================] - 0s 14ms/step - loss: 0.0167 - root_mean_squared_error: 0.1293 - val_loss: 0.0126 - val_root_mean_squared_error: 0.1123\n",
      "Epoch 492/2500\n",
      "8/8 [==============================] - 0s 8ms/step - loss: 0.0166 - root_mean_squared_error: 0.1288 - val_loss: 0.0129 - val_root_mean_squared_error: 0.1137\n",
      "Epoch 493/2500\n",
      "8/8 [==============================] - 0s 10ms/step - loss: 0.0165 - root_mean_squared_error: 0.1284 - val_loss: 0.0137 - val_root_mean_squared_error: 0.1170\n",
      "Epoch 494/2500\n",
      "8/8 [==============================] - 0s 10ms/step - loss: 0.0162 - root_mean_squared_error: 0.1271 - val_loss: 0.0142 - val_root_mean_squared_error: 0.1193\n",
      "Epoch 495/2500\n",
      "8/8 [==============================] - 0s 9ms/step - loss: 0.0162 - root_mean_squared_error: 0.1271 - val_loss: 0.0133 - val_root_mean_squared_error: 0.1152\n",
      "Epoch 496/2500\n",
      "8/8 [==============================] - 0s 10ms/step - loss: 0.0160 - root_mean_squared_error: 0.1264 - val_loss: 0.0127 - val_root_mean_squared_error: 0.1127\n",
      "Epoch 497/2500\n",
      "8/8 [==============================] - 0s 8ms/step - loss: 0.0158 - root_mean_squared_error: 0.1256 - val_loss: 0.0126 - val_root_mean_squared_error: 0.1121\n",
      "Epoch 498/2500\n",
      "8/8 [==============================] - 0s 9ms/step - loss: 0.0160 - root_mean_squared_error: 0.1266 - val_loss: 0.0124 - val_root_mean_squared_error: 0.1114\n",
      "Epoch 499/2500\n",
      "8/8 [==============================] - 0s 8ms/step - loss: 0.0161 - root_mean_squared_error: 0.1267 - val_loss: 0.0128 - val_root_mean_squared_error: 0.1133\n",
      "Epoch 500/2500\n",
      "8/8 [==============================] - 0s 10ms/step - loss: 0.0161 - root_mean_squared_error: 0.1267 - val_loss: 0.0151 - val_root_mean_squared_error: 0.1230\n",
      "Epoch 501/2500\n",
      "8/8 [==============================] - 0s 10ms/step - loss: 0.0163 - root_mean_squared_error: 0.1276 - val_loss: 0.0142 - val_root_mean_squared_error: 0.1193\n",
      "Epoch 502/2500\n",
      "8/8 [==============================] - 0s 9ms/step - loss: 0.0160 - root_mean_squared_error: 0.1266 - val_loss: 0.0132 - val_root_mean_squared_error: 0.1150\n",
      "Epoch 503/2500\n",
      "8/8 [==============================] - 0s 8ms/step - loss: 0.0159 - root_mean_squared_error: 0.1262 - val_loss: 0.0135 - val_root_mean_squared_error: 0.1161\n",
      "Epoch 504/2500\n",
      "8/8 [==============================] - 0s 10ms/step - loss: 0.0160 - root_mean_squared_error: 0.1264 - val_loss: 0.0131 - val_root_mean_squared_error: 0.1144\n",
      "Epoch 505/2500\n",
      "8/8 [==============================] - 0s 10ms/step - loss: 0.0161 - root_mean_squared_error: 0.1269 - val_loss: 0.0125 - val_root_mean_squared_error: 0.1117\n",
      "Epoch 506/2500\n",
      "8/8 [==============================] - 0s 8ms/step - loss: 0.0160 - root_mean_squared_error: 0.1265 - val_loss: 0.0125 - val_root_mean_squared_error: 0.1117\n",
      "Epoch 507/2500\n",
      "1/8 [==>...........................] - ETA: 0s - loss: 0.0187 - root_mean_squared_error: 0.1367"
     ]
    },
    {
     "name": "stderr",
     "output_type": "stream",
     "text": [
      "WARNING:absl:Found untraced functions such as lstm_cell_layer_call_fn, lstm_cell_layer_call_and_return_conditional_losses while saving (showing 2 of 2). These functions will not be directly callable after loading.\n"
     ]
    },
    {
     "name": "stdout",
     "output_type": "stream",
     "text": [
      "INFO:tensorflow:Assets written to: model0\\assets\n"
     ]
    },
    {
     "name": "stderr",
     "output_type": "stream",
     "text": [
      "INFO:tensorflow:Assets written to: model0\\assets\n"
     ]
    },
    {
     "name": "stdout",
     "output_type": "stream",
     "text": [
      "8/8 [==============================] - 5s 647ms/step - loss: 0.0158 - root_mean_squared_error: 0.1257 - val_loss: 0.0122 - val_root_mean_squared_error: 0.1102\n",
      "Epoch 508/2500\n",
      "1/8 [==>...........................] - ETA: 0s - loss: 0.0160 - root_mean_squared_error: 0.1264"
     ]
    },
    {
     "name": "stderr",
     "output_type": "stream",
     "text": [
      "WARNING:absl:Found untraced functions such as lstm_cell_layer_call_fn, lstm_cell_layer_call_and_return_conditional_losses while saving (showing 2 of 2). These functions will not be directly callable after loading.\n"
     ]
    },
    {
     "name": "stdout",
     "output_type": "stream",
     "text": [
      "INFO:tensorflow:Assets written to: model0\\assets\n"
     ]
    },
    {
     "name": "stderr",
     "output_type": "stream",
     "text": [
      "INFO:tensorflow:Assets written to: model0\\assets\n"
     ]
    },
    {
     "name": "stdout",
     "output_type": "stream",
     "text": [
      "8/8 [==============================] - 3s 493ms/step - loss: 0.0158 - root_mean_squared_error: 0.1258 - val_loss: 0.0120 - val_root_mean_squared_error: 0.1095\n",
      "Epoch 509/2500\n",
      "1/8 [==>...........................] - ETA: 0s - loss: 0.0149 - root_mean_squared_error: 0.1221"
     ]
    },
    {
     "name": "stderr",
     "output_type": "stream",
     "text": [
      "WARNING:absl:Found untraced functions such as lstm_cell_layer_call_fn, lstm_cell_layer_call_and_return_conditional_losses while saving (showing 2 of 2). These functions will not be directly callable after loading.\n"
     ]
    },
    {
     "name": "stdout",
     "output_type": "stream",
     "text": [
      "INFO:tensorflow:Assets written to: model0\\assets\n"
     ]
    },
    {
     "name": "stderr",
     "output_type": "stream",
     "text": [
      "INFO:tensorflow:Assets written to: model0\\assets\n"
     ]
    },
    {
     "name": "stdout",
     "output_type": "stream",
     "text": [
      "8/8 [==============================] - 4s 531ms/step - loss: 0.0163 - root_mean_squared_error: 0.1277 - val_loss: 0.0119 - val_root_mean_squared_error: 0.1089\n",
      "Epoch 510/2500\n",
      "8/8 [==============================] - 0s 9ms/step - loss: 0.0168 - root_mean_squared_error: 0.1296 - val_loss: 0.0125 - val_root_mean_squared_error: 0.1119\n",
      "Epoch 511/2500\n",
      "8/8 [==============================] - 0s 10ms/step - loss: 0.0164 - root_mean_squared_error: 0.1282 - val_loss: 0.0177 - val_root_mean_squared_error: 0.1331\n",
      "Epoch 512/2500\n",
      "8/8 [==============================] - 0s 9ms/step - loss: 0.0170 - root_mean_squared_error: 0.1305 - val_loss: 0.0153 - val_root_mean_squared_error: 0.1237\n",
      "Epoch 513/2500\n",
      "8/8 [==============================] - 0s 10ms/step - loss: 0.0162 - root_mean_squared_error: 0.1272 - val_loss: 0.0122 - val_root_mean_squared_error: 0.1106\n",
      "Epoch 514/2500\n",
      "8/8 [==============================] - 0s 12ms/step - loss: 0.0157 - root_mean_squared_error: 0.1251 - val_loss: 0.0119 - val_root_mean_squared_error: 0.1093\n",
      "Epoch 515/2500\n",
      "8/8 [==============================] - 0s 13ms/step - loss: 0.0157 - root_mean_squared_error: 0.1253 - val_loss: 0.0120 - val_root_mean_squared_error: 0.1093\n",
      "Epoch 516/2500\n",
      "8/8 [==============================] - 0s 8ms/step - loss: 0.0156 - root_mean_squared_error: 0.1250 - val_loss: 0.0119 - val_root_mean_squared_error: 0.1091\n",
      "Epoch 517/2500\n",
      "8/8 [==============================] - 0s 9ms/step - loss: 0.0158 - root_mean_squared_error: 0.1255 - val_loss: 0.0119 - val_root_mean_squared_error: 0.1091\n",
      "Epoch 518/2500\n",
      "1/8 [==>...........................] - ETA: 0s - loss: 0.0231 - root_mean_squared_error: 0.1521"
     ]
    },
    {
     "name": "stderr",
     "output_type": "stream",
     "text": [
      "WARNING:absl:Found untraced functions such as lstm_cell_layer_call_fn, lstm_cell_layer_call_and_return_conditional_losses while saving (showing 2 of 2). These functions will not be directly callable after loading.\n"
     ]
    },
    {
     "name": "stdout",
     "output_type": "stream",
     "text": [
      "INFO:tensorflow:Assets written to: model0\\assets\n"
     ]
    },
    {
     "name": "stderr",
     "output_type": "stream",
     "text": [
      "INFO:tensorflow:Assets written to: model0\\assets\n"
     ]
    },
    {
     "name": "stdout",
     "output_type": "stream",
     "text": [
      "8/8 [==============================] - 4s 523ms/step - loss: 0.0159 - root_mean_squared_error: 0.1261 - val_loss: 0.0117 - val_root_mean_squared_error: 0.1080\n",
      "Epoch 519/2500\n",
      "8/8 [==============================] - 0s 8ms/step - loss: 0.0157 - root_mean_squared_error: 0.1253 - val_loss: 0.0118 - val_root_mean_squared_error: 0.1086\n",
      "Epoch 520/2500\n",
      "8/8 [==============================] - 0s 8ms/step - loss: 0.0156 - root_mean_squared_error: 0.1249 - val_loss: 0.0124 - val_root_mean_squared_error: 0.1113\n",
      "Epoch 521/2500\n",
      "8/8 [==============================] - 0s 9ms/step - loss: 0.0156 - root_mean_squared_error: 0.1250 - val_loss: 0.0125 - val_root_mean_squared_error: 0.1117\n",
      "Epoch 522/2500\n",
      "8/8 [==============================] - 0s 7ms/step - loss: 0.0155 - root_mean_squared_error: 0.1244 - val_loss: 0.0117 - val_root_mean_squared_error: 0.1084\n",
      "Epoch 523/2500\n",
      "1/8 [==>...........................] - ETA: 0s - loss: 0.0111 - root_mean_squared_error: 0.1054"
     ]
    },
    {
     "name": "stderr",
     "output_type": "stream",
     "text": [
      "WARNING:absl:Found untraced functions such as lstm_cell_layer_call_fn, lstm_cell_layer_call_and_return_conditional_losses while saving (showing 2 of 2). These functions will not be directly callable after loading.\n"
     ]
    },
    {
     "name": "stdout",
     "output_type": "stream",
     "text": [
      "INFO:tensorflow:Assets written to: model0\\assets\n"
     ]
    },
    {
     "name": "stderr",
     "output_type": "stream",
     "text": [
      "INFO:tensorflow:Assets written to: model0\\assets\n"
     ]
    },
    {
     "name": "stdout",
     "output_type": "stream",
     "text": [
      "8/8 [==============================] - 4s 550ms/step - loss: 0.0155 - root_mean_squared_error: 0.1245 - val_loss: 0.0116 - val_root_mean_squared_error: 0.1077\n",
      "Epoch 524/2500\n",
      "1/8 [==>...........................] - ETA: 0s - loss: 0.0127 - root_mean_squared_error: 0.1127"
     ]
    },
    {
     "name": "stderr",
     "output_type": "stream",
     "text": [
      "WARNING:absl:Found untraced functions such as lstm_cell_layer_call_fn, lstm_cell_layer_call_and_return_conditional_losses while saving (showing 2 of 2). These functions will not be directly callable after loading.\n"
     ]
    },
    {
     "name": "stdout",
     "output_type": "stream",
     "text": [
      "INFO:tensorflow:Assets written to: model0\\assets\n"
     ]
    },
    {
     "name": "stderr",
     "output_type": "stream",
     "text": [
      "INFO:tensorflow:Assets written to: model0\\assets\n"
     ]
    },
    {
     "name": "stdout",
     "output_type": "stream",
     "text": [
      "8/8 [==============================] - 3s 467ms/step - loss: 0.0155 - root_mean_squared_error: 0.1247 - val_loss: 0.0115 - val_root_mean_squared_error: 0.1074\n",
      "Epoch 525/2500\n",
      "1/8 [==>...........................] - ETA: 0s - loss: 0.0129 - root_mean_squared_error: 0.1136"
     ]
    },
    {
     "name": "stderr",
     "output_type": "stream",
     "text": [
      "WARNING:absl:Found untraced functions such as lstm_cell_layer_call_fn, lstm_cell_layer_call_and_return_conditional_losses while saving (showing 2 of 2). These functions will not be directly callable after loading.\n"
     ]
    },
    {
     "name": "stdout",
     "output_type": "stream",
     "text": [
      "INFO:tensorflow:Assets written to: model0\\assets\n"
     ]
    },
    {
     "name": "stderr",
     "output_type": "stream",
     "text": [
      "INFO:tensorflow:Assets written to: model0\\assets\n"
     ]
    },
    {
     "name": "stdout",
     "output_type": "stream",
     "text": [
      "8/8 [==============================] - 4s 502ms/step - loss: 0.0156 - root_mean_squared_error: 0.1247 - val_loss: 0.0114 - val_root_mean_squared_error: 0.1069\n",
      "Epoch 526/2500\n",
      "8/8 [==============================] - 0s 9ms/step - loss: 0.0161 - root_mean_squared_error: 0.1269 - val_loss: 0.0122 - val_root_mean_squared_error: 0.1106\n",
      "Epoch 527/2500\n",
      "1/8 [==>...........................] - ETA: 0s - loss: 0.0123 - root_mean_squared_error: 0.1111"
     ]
    },
    {
     "name": "stderr",
     "output_type": "stream",
     "text": [
      "WARNING:absl:Found untraced functions such as lstm_cell_layer_call_fn, lstm_cell_layer_call_and_return_conditional_losses while saving (showing 2 of 2). These functions will not be directly callable after loading.\n"
     ]
    },
    {
     "name": "stdout",
     "output_type": "stream",
     "text": [
      "INFO:tensorflow:Assets written to: model0\\assets\n"
     ]
    },
    {
     "name": "stderr",
     "output_type": "stream",
     "text": [
      "INFO:tensorflow:Assets written to: model0\\assets\n"
     ]
    },
    {
     "name": "stdout",
     "output_type": "stream",
     "text": [
      "8/8 [==============================] - 3s 444ms/step - loss: 0.0162 - root_mean_squared_error: 0.1271 - val_loss: 0.0112 - val_root_mean_squared_error: 0.1059\n",
      "Epoch 528/2500\n",
      "8/8 [==============================] - 0s 10ms/step - loss: 0.0154 - root_mean_squared_error: 0.1242 - val_loss: 0.0133 - val_root_mean_squared_error: 0.1153\n",
      "Epoch 529/2500\n",
      "8/8 [==============================] - 0s 9ms/step - loss: 0.0158 - root_mean_squared_error: 0.1255 - val_loss: 0.0129 - val_root_mean_squared_error: 0.1134\n",
      "Epoch 530/2500\n",
      "8/8 [==============================] - 0s 7ms/step - loss: 0.0151 - root_mean_squared_error: 0.1230 - val_loss: 0.0114 - val_root_mean_squared_error: 0.1068\n",
      "Epoch 531/2500\n",
      "8/8 [==============================] - 0s 7ms/step - loss: 0.0156 - root_mean_squared_error: 0.1250 - val_loss: 0.0115 - val_root_mean_squared_error: 0.1072\n",
      "Epoch 532/2500\n",
      "8/8 [==============================] - 0s 7ms/step - loss: 0.0155 - root_mean_squared_error: 0.1245 - val_loss: 0.0135 - val_root_mean_squared_error: 0.1164\n",
      "Epoch 533/2500\n",
      "8/8 [==============================] - 0s 9ms/step - loss: 0.0158 - root_mean_squared_error: 0.1256 - val_loss: 0.0139 - val_root_mean_squared_error: 0.1178\n",
      "Epoch 534/2500\n",
      "8/8 [==============================] - 0s 8ms/step - loss: 0.0158 - root_mean_squared_error: 0.1259 - val_loss: 0.0130 - val_root_mean_squared_error: 0.1142\n",
      "Epoch 535/2500\n",
      "8/8 [==============================] - 0s 8ms/step - loss: 0.0156 - root_mean_squared_error: 0.1250 - val_loss: 0.0122 - val_root_mean_squared_error: 0.1105\n",
      "Epoch 536/2500\n",
      "8/8 [==============================] - 0s 8ms/step - loss: 0.0155 - root_mean_squared_error: 0.1244 - val_loss: 0.0115 - val_root_mean_squared_error: 0.1073\n",
      "Epoch 537/2500\n",
      "8/8 [==============================] - 0s 9ms/step - loss: 0.0153 - root_mean_squared_error: 0.1237 - val_loss: 0.0116 - val_root_mean_squared_error: 0.1076\n",
      "Epoch 538/2500\n",
      "8/8 [==============================] - 0s 9ms/step - loss: 0.0153 - root_mean_squared_error: 0.1236 - val_loss: 0.0133 - val_root_mean_squared_error: 0.1154\n",
      "Epoch 539/2500\n",
      "8/8 [==============================] - 0s 8ms/step - loss: 0.0155 - root_mean_squared_error: 0.1247 - val_loss: 0.0131 - val_root_mean_squared_error: 0.1143\n",
      "Epoch 540/2500\n",
      "8/8 [==============================] - 0s 8ms/step - loss: 0.0154 - root_mean_squared_error: 0.1241 - val_loss: 0.0123 - val_root_mean_squared_error: 0.1110\n",
      "Epoch 541/2500\n",
      "8/8 [==============================] - 0s 10ms/step - loss: 0.0152 - root_mean_squared_error: 0.1234 - val_loss: 0.0116 - val_root_mean_squared_error: 0.1079\n",
      "Epoch 542/2500\n",
      "8/8 [==============================] - 0s 8ms/step - loss: 0.0152 - root_mean_squared_error: 0.1233 - val_loss: 0.0115 - val_root_mean_squared_error: 0.1071\n",
      "Epoch 543/2500\n",
      "8/8 [==============================] - 0s 9ms/step - loss: 0.0153 - root_mean_squared_error: 0.1238 - val_loss: 0.0114 - val_root_mean_squared_error: 0.1069\n",
      "Epoch 544/2500\n",
      "8/8 [==============================] - 0s 11ms/step - loss: 0.0153 - root_mean_squared_error: 0.1237 - val_loss: 0.0114 - val_root_mean_squared_error: 0.1069\n",
      "Epoch 545/2500\n",
      "8/8 [==============================] - 0s 9ms/step - loss: 0.0152 - root_mean_squared_error: 0.1232 - val_loss: 0.0114 - val_root_mean_squared_error: 0.1067\n",
      "Epoch 546/2500\n",
      "8/8 [==============================] - 0s 8ms/step - loss: 0.0151 - root_mean_squared_error: 0.1231 - val_loss: 0.0116 - val_root_mean_squared_error: 0.1076\n",
      "Epoch 547/2500\n",
      "8/8 [==============================] - 0s 10ms/step - loss: 0.0153 - root_mean_squared_error: 0.1237 - val_loss: 0.0114 - val_root_mean_squared_error: 0.1066\n",
      "Epoch 548/2500\n",
      "8/8 [==============================] - 0s 8ms/step - loss: 0.0153 - root_mean_squared_error: 0.1238 - val_loss: 0.0112 - val_root_mean_squared_error: 0.1060\n",
      "Epoch 549/2500\n",
      "8/8 [==============================] - 0s 9ms/step - loss: 0.0152 - root_mean_squared_error: 0.1235 - val_loss: 0.0112 - val_root_mean_squared_error: 0.1059\n",
      "Epoch 550/2500\n",
      "8/8 [==============================] - 0s 8ms/step - loss: 0.0158 - root_mean_squared_error: 0.1256 - val_loss: 0.0114 - val_root_mean_squared_error: 0.1069\n",
      "Epoch 551/2500\n",
      "8/8 [==============================] - 0s 6ms/step - loss: 0.0156 - root_mean_squared_error: 0.1249 - val_loss: 0.0114 - val_root_mean_squared_error: 0.1067\n",
      "Epoch 552/2500\n",
      "8/8 [==============================] - 0s 9ms/step - loss: 0.0152 - root_mean_squared_error: 0.1232 - val_loss: 0.0116 - val_root_mean_squared_error: 0.1075\n",
      "Epoch 553/2500\n",
      "8/8 [==============================] - 0s 8ms/step - loss: 0.0152 - root_mean_squared_error: 0.1234 - val_loss: 0.0128 - val_root_mean_squared_error: 0.1130\n",
      "Epoch 554/2500\n",
      "8/8 [==============================] - 0s 8ms/step - loss: 0.0154 - root_mean_squared_error: 0.1242 - val_loss: 0.0115 - val_root_mean_squared_error: 0.1073\n",
      "Epoch 555/2500\n",
      "8/8 [==============================] - 0s 8ms/step - loss: 0.0157 - root_mean_squared_error: 0.1255 - val_loss: 0.0117 - val_root_mean_squared_error: 0.1079\n",
      "Epoch 556/2500\n",
      "8/8 [==============================] - 0s 9ms/step - loss: 0.0152 - root_mean_squared_error: 0.1232 - val_loss: 0.0114 - val_root_mean_squared_error: 0.1069\n",
      "Epoch 557/2500\n",
      "8/8 [==============================] - 0s 8ms/step - loss: 0.0152 - root_mean_squared_error: 0.1234 - val_loss: 0.0117 - val_root_mean_squared_error: 0.1082\n",
      "Epoch 558/2500\n",
      "8/8 [==============================] - 0s 11ms/step - loss: 0.0152 - root_mean_squared_error: 0.1233 - val_loss: 0.0115 - val_root_mean_squared_error: 0.1073\n",
      "Epoch 559/2500\n",
      "8/8 [==============================] - 0s 9ms/step - loss: 0.0150 - root_mean_squared_error: 0.1224 - val_loss: 0.0117 - val_root_mean_squared_error: 0.1079\n",
      "Epoch 560/2500\n",
      "8/8 [==============================] - 0s 8ms/step - loss: 0.0165 - root_mean_squared_error: 0.1286 - val_loss: 0.0117 - val_root_mean_squared_error: 0.1083\n",
      "Epoch 561/2500\n",
      "8/8 [==============================] - 0s 9ms/step - loss: 0.0169 - root_mean_squared_error: 0.1301 - val_loss: 0.0114 - val_root_mean_squared_error: 0.1065\n",
      "Epoch 562/2500\n",
      "8/8 [==============================] - ETA: 0s - loss: 0.0153 - root_mean_squared_error: 0.1236"
     ]
    },
    {
     "name": "stderr",
     "output_type": "stream",
     "text": [
      "WARNING:absl:Found untraced functions such as lstm_cell_layer_call_fn, lstm_cell_layer_call_and_return_conditional_losses while saving (showing 2 of 2). These functions will not be directly callable after loading.\n"
     ]
    },
    {
     "name": "stdout",
     "output_type": "stream",
     "text": [
      "INFO:tensorflow:Assets written to: model0\\assets\n"
     ]
    },
    {
     "name": "stderr",
     "output_type": "stream",
     "text": [
      "INFO:tensorflow:Assets written to: model0\\assets\n"
     ]
    },
    {
     "name": "stdout",
     "output_type": "stream",
     "text": [
      "8/8 [==============================] - 3s 492ms/step - loss: 0.0153 - root_mean_squared_error: 0.1236 - val_loss: 0.0112 - val_root_mean_squared_error: 0.1059\n",
      "Epoch 563/2500\n",
      "8/8 [==============================] - 0s 10ms/step - loss: 0.0159 - root_mean_squared_error: 0.1262 - val_loss: 0.0127 - val_root_mean_squared_error: 0.1126\n",
      "Epoch 564/2500\n",
      "1/8 [==>...........................] - ETA: 0s - loss: 0.0086 - root_mean_squared_error: 0.0929"
     ]
    },
    {
     "name": "stderr",
     "output_type": "stream",
     "text": [
      "WARNING:absl:Found untraced functions such as lstm_cell_layer_call_fn, lstm_cell_layer_call_and_return_conditional_losses while saving (showing 2 of 2). These functions will not be directly callable after loading.\n"
     ]
    },
    {
     "name": "stdout",
     "output_type": "stream",
     "text": [
      "INFO:tensorflow:Assets written to: model0\\assets\n"
     ]
    },
    {
     "name": "stderr",
     "output_type": "stream",
     "text": [
      "INFO:tensorflow:Assets written to: model0\\assets\n"
     ]
    },
    {
     "name": "stdout",
     "output_type": "stream",
     "text": [
      "8/8 [==============================] - 3s 443ms/step - loss: 0.0163 - root_mean_squared_error: 0.1276 - val_loss: 0.0111 - val_root_mean_squared_error: 0.1055\n",
      "Epoch 565/2500\n",
      "8/8 [==============================] - 0s 9ms/step - loss: 0.0154 - root_mean_squared_error: 0.1240 - val_loss: 0.0113 - val_root_mean_squared_error: 0.1062\n",
      "Epoch 566/2500\n",
      "1/8 [==>...........................] - ETA: 0s - loss: 0.0157 - root_mean_squared_error: 0.1254"
     ]
    },
    {
     "name": "stderr",
     "output_type": "stream",
     "text": [
      "WARNING:absl:Found untraced functions such as lstm_cell_layer_call_fn, lstm_cell_layer_call_and_return_conditional_losses while saving (showing 2 of 2). These functions will not be directly callable after loading.\n"
     ]
    },
    {
     "name": "stdout",
     "output_type": "stream",
     "text": [
      "INFO:tensorflow:Assets written to: model0\\assets\n"
     ]
    },
    {
     "name": "stderr",
     "output_type": "stream",
     "text": [
      "INFO:tensorflow:Assets written to: model0\\assets\n"
     ]
    },
    {
     "name": "stdout",
     "output_type": "stream",
     "text": [
      "8/8 [==============================] - 3s 448ms/step - loss: 0.0151 - root_mean_squared_error: 0.1230 - val_loss: 0.0111 - val_root_mean_squared_error: 0.1053\n",
      "Epoch 567/2500\n",
      "1/8 [==>...........................] - ETA: 0s - loss: 0.0118 - root_mean_squared_error: 0.1085"
     ]
    },
    {
     "name": "stderr",
     "output_type": "stream",
     "text": [
      "WARNING:absl:Found untraced functions such as lstm_cell_layer_call_fn, lstm_cell_layer_call_and_return_conditional_losses while saving (showing 2 of 2). These functions will not be directly callable after loading.\n"
     ]
    },
    {
     "name": "stdout",
     "output_type": "stream",
     "text": [
      "INFO:tensorflow:Assets written to: model0\\assets\n"
     ]
    },
    {
     "name": "stderr",
     "output_type": "stream",
     "text": [
      "INFO:tensorflow:Assets written to: model0\\assets\n"
     ]
    },
    {
     "name": "stdout",
     "output_type": "stream",
     "text": [
      "8/8 [==============================] - 4s 500ms/step - loss: 0.0151 - root_mean_squared_error: 0.1229 - val_loss: 0.0110 - val_root_mean_squared_error: 0.1048\n",
      "Epoch 568/2500\n",
      "8/8 [==============================] - 0s 9ms/step - loss: 0.0152 - root_mean_squared_error: 0.1231 - val_loss: 0.0112 - val_root_mean_squared_error: 0.1060\n",
      "Epoch 569/2500\n",
      "8/8 [==============================] - 0s 8ms/step - loss: 0.0155 - root_mean_squared_error: 0.1245 - val_loss: 0.0165 - val_root_mean_squared_error: 0.1286\n",
      "Epoch 570/2500\n",
      "8/8 [==============================] - 0s 12ms/step - loss: 0.0171 - root_mean_squared_error: 0.1308 - val_loss: 0.0164 - val_root_mean_squared_error: 0.1280\n",
      "Epoch 571/2500\n",
      "8/8 [==============================] - 0s 8ms/step - loss: 0.0155 - root_mean_squared_error: 0.1246 - val_loss: 0.0111 - val_root_mean_squared_error: 0.1053\n",
      "Epoch 572/2500\n",
      "8/8 [==============================] - 0s 8ms/step - loss: 0.0147 - root_mean_squared_error: 0.1213 - val_loss: 0.0113 - val_root_mean_squared_error: 0.1064\n",
      "Epoch 573/2500\n",
      "8/8 [==============================] - 0s 9ms/step - loss: 0.0151 - root_mean_squared_error: 0.1229 - val_loss: 0.0112 - val_root_mean_squared_error: 0.1060\n",
      "Epoch 574/2500\n",
      "8/8 [==============================] - 0s 9ms/step - loss: 0.0150 - root_mean_squared_error: 0.1224 - val_loss: 0.0111 - val_root_mean_squared_error: 0.1055\n",
      "Epoch 575/2500\n",
      "8/8 [==============================] - 0s 9ms/step - loss: 0.0147 - root_mean_squared_error: 0.1214 - val_loss: 0.0114 - val_root_mean_squared_error: 0.1068\n",
      "Epoch 576/2500\n",
      "8/8 [==============================] - 0s 7ms/step - loss: 0.0148 - root_mean_squared_error: 0.1215 - val_loss: 0.0114 - val_root_mean_squared_error: 0.1068\n",
      "Epoch 577/2500\n",
      "8/8 [==============================] - 0s 8ms/step - loss: 0.0149 - root_mean_squared_error: 0.1221 - val_loss: 0.0113 - val_root_mean_squared_error: 0.1061\n",
      "Epoch 578/2500\n",
      "8/8 [==============================] - 0s 9ms/step - loss: 0.0155 - root_mean_squared_error: 0.1243 - val_loss: 0.0114 - val_root_mean_squared_error: 0.1068\n",
      "Epoch 579/2500\n",
      "8/8 [==============================] - 0s 8ms/step - loss: 0.0156 - root_mean_squared_error: 0.1251 - val_loss: 0.0137 - val_root_mean_squared_error: 0.1171\n",
      "Epoch 580/2500\n",
      "8/8 [==============================] - 0s 9ms/step - loss: 0.0152 - root_mean_squared_error: 0.1234 - val_loss: 0.0122 - val_root_mean_squared_error: 0.1106\n",
      "Epoch 581/2500\n",
      "8/8 [==============================] - 0s 9ms/step - loss: 0.0150 - root_mean_squared_error: 0.1224 - val_loss: 0.0116 - val_root_mean_squared_error: 0.1075\n",
      "Epoch 582/2500\n",
      "8/8 [==============================] - 0s 7ms/step - loss: 0.0147 - root_mean_squared_error: 0.1214 - val_loss: 0.0112 - val_root_mean_squared_error: 0.1056\n",
      "Epoch 583/2500\n",
      "8/8 [==============================] - 0s 7ms/step - loss: 0.0146 - root_mean_squared_error: 0.1209 - val_loss: 0.0111 - val_root_mean_squared_error: 0.1054\n",
      "Epoch 584/2500\n",
      "8/8 [==============================] - 0s 9ms/step - loss: 0.0147 - root_mean_squared_error: 0.1213 - val_loss: 0.0110 - val_root_mean_squared_error: 0.1050\n",
      "Epoch 585/2500\n",
      "8/8 [==============================] - 0s 8ms/step - loss: 0.0145 - root_mean_squared_error: 0.1206 - val_loss: 0.0110 - val_root_mean_squared_error: 0.1048\n",
      "Epoch 586/2500\n",
      "8/8 [==============================] - 0s 8ms/step - loss: 0.0149 - root_mean_squared_error: 0.1220 - val_loss: 0.0113 - val_root_mean_squared_error: 0.1065\n",
      "Epoch 587/2500\n",
      "8/8 [==============================] - 0s 8ms/step - loss: 0.0152 - root_mean_squared_error: 0.1232 - val_loss: 0.0119 - val_root_mean_squared_error: 0.1091\n",
      "Epoch 588/2500\n",
      "8/8 [==============================] - 0s 7ms/step - loss: 0.0150 - root_mean_squared_error: 0.1224 - val_loss: 0.0119 - val_root_mean_squared_error: 0.1092\n",
      "Epoch 589/2500\n",
      "8/8 [==============================] - 0s 9ms/step - loss: 0.0153 - root_mean_squared_error: 0.1236 - val_loss: 0.0117 - val_root_mean_squared_error: 0.1080\n",
      "Epoch 590/2500\n",
      "8/8 [==============================] - 0s 9ms/step - loss: 0.0152 - root_mean_squared_error: 0.1234 - val_loss: 0.0115 - val_root_mean_squared_error: 0.1073\n",
      "Epoch 591/2500\n",
      "8/8 [==============================] - 0s 8ms/step - loss: 0.0146 - root_mean_squared_error: 0.1208 - val_loss: 0.0116 - val_root_mean_squared_error: 0.1075\n",
      "Epoch 592/2500\n",
      "8/8 [==============================] - 0s 7ms/step - loss: 0.0147 - root_mean_squared_error: 0.1213 - val_loss: 0.0114 - val_root_mean_squared_error: 0.1068\n",
      "Epoch 593/2500\n",
      "8/8 [==============================] - 0s 9ms/step - loss: 0.0147 - root_mean_squared_error: 0.1212 - val_loss: 0.0115 - val_root_mean_squared_error: 0.1073\n",
      "Epoch 594/2500\n",
      "8/8 [==============================] - 0s 9ms/step - loss: 0.0150 - root_mean_squared_error: 0.1226 - val_loss: 0.0111 - val_root_mean_squared_error: 0.1052\n",
      "Epoch 595/2500\n",
      "8/8 [==============================] - 0s 8ms/step - loss: 0.0147 - root_mean_squared_error: 0.1211 - val_loss: 0.0112 - val_root_mean_squared_error: 0.1057\n",
      "Epoch 596/2500\n",
      "8/8 [==============================] - 0s 10ms/step - loss: 0.0146 - root_mean_squared_error: 0.1208 - val_loss: 0.0123 - val_root_mean_squared_error: 0.1107\n",
      "Epoch 597/2500\n",
      "8/8 [==============================] - 0s 8ms/step - loss: 0.0148 - root_mean_squared_error: 0.1217 - val_loss: 0.0112 - val_root_mean_squared_error: 0.1057\n",
      "Epoch 598/2500\n",
      "8/8 [==============================] - 0s 8ms/step - loss: 0.0144 - root_mean_squared_error: 0.1198 - val_loss: 0.0112 - val_root_mean_squared_error: 0.1059\n",
      "Epoch 599/2500\n",
      "8/8 [==============================] - 0s 9ms/step - loss: 0.0149 - root_mean_squared_error: 0.1222 - val_loss: 0.0114 - val_root_mean_squared_error: 0.1068\n",
      "Epoch 600/2500\n",
      "1/8 [==>...........................] - ETA: 0s - loss: 0.0204 - root_mean_squared_error: 0.1427"
     ]
    },
    {
     "name": "stderr",
     "output_type": "stream",
     "text": [
      "WARNING:absl:Found untraced functions such as lstm_cell_layer_call_fn, lstm_cell_layer_call_and_return_conditional_losses while saving (showing 2 of 2). These functions will not be directly callable after loading.\n"
     ]
    },
    {
     "name": "stdout",
     "output_type": "stream",
     "text": [
      "INFO:tensorflow:Assets written to: model0\\assets\n"
     ]
    },
    {
     "name": "stderr",
     "output_type": "stream",
     "text": [
      "INFO:tensorflow:Assets written to: model0\\assets\n"
     ]
    },
    {
     "name": "stdout",
     "output_type": "stream",
     "text": [
      "8/8 [==============================] - 3s 442ms/step - loss: 0.0146 - root_mean_squared_error: 0.1209 - val_loss: 0.0106 - val_root_mean_squared_error: 0.1028\n",
      "Epoch 601/2500\n",
      "8/8 [==============================] - 0s 11ms/step - loss: 0.0144 - root_mean_squared_error: 0.1201 - val_loss: 0.0107 - val_root_mean_squared_error: 0.1036\n",
      "Epoch 602/2500\n",
      "8/8 [==============================] - 0s 7ms/step - loss: 0.0143 - root_mean_squared_error: 0.1198 - val_loss: 0.0107 - val_root_mean_squared_error: 0.1032\n",
      "Epoch 603/2500\n",
      "8/8 [==============================] - 0s 9ms/step - loss: 0.0149 - root_mean_squared_error: 0.1221 - val_loss: 0.0107 - val_root_mean_squared_error: 0.1033\n",
      "Epoch 604/2500\n",
      "8/8 [==============================] - 0s 8ms/step - loss: 0.0147 - root_mean_squared_error: 0.1211 - val_loss: 0.0108 - val_root_mean_squared_error: 0.1038\n",
      "Epoch 605/2500\n",
      "8/8 [==============================] - 0s 8ms/step - loss: 0.0145 - root_mean_squared_error: 0.1205 - val_loss: 0.0107 - val_root_mean_squared_error: 0.1035\n",
      "Epoch 606/2500\n",
      "8/8 [==============================] - 0s 7ms/step - loss: 0.0144 - root_mean_squared_error: 0.1201 - val_loss: 0.0107 - val_root_mean_squared_error: 0.1034\n",
      "Epoch 607/2500\n",
      "8/8 [==============================] - 0s 7ms/step - loss: 0.0142 - root_mean_squared_error: 0.1194 - val_loss: 0.0107 - val_root_mean_squared_error: 0.1035\n",
      "Epoch 608/2500\n",
      "8/8 [==============================] - 0s 7ms/step - loss: 0.0142 - root_mean_squared_error: 0.1193 - val_loss: 0.0108 - val_root_mean_squared_error: 0.1039\n",
      "Epoch 609/2500\n",
      "8/8 [==============================] - 0s 9ms/step - loss: 0.0149 - root_mean_squared_error: 0.1221 - val_loss: 0.0110 - val_root_mean_squared_error: 0.1047\n",
      "Epoch 610/2500\n",
      "8/8 [==============================] - 0s 8ms/step - loss: 0.0149 - root_mean_squared_error: 0.1219 - val_loss: 0.0109 - val_root_mean_squared_error: 0.1044\n",
      "Epoch 611/2500\n",
      "8/8 [==============================] - 0s 8ms/step - loss: 0.0145 - root_mean_squared_error: 0.1203 - val_loss: 0.0109 - val_root_mean_squared_error: 0.1044\n",
      "Epoch 612/2500\n",
      "8/8 [==============================] - 0s 9ms/step - loss: 0.0148 - root_mean_squared_error: 0.1218 - val_loss: 0.0114 - val_root_mean_squared_error: 0.1067\n",
      "Epoch 613/2500\n",
      "8/8 [==============================] - 0s 10ms/step - loss: 0.0144 - root_mean_squared_error: 0.1198 - val_loss: 0.0127 - val_root_mean_squared_error: 0.1128\n",
      "Epoch 614/2500\n",
      "8/8 [==============================] - 0s 8ms/step - loss: 0.0150 - root_mean_squared_error: 0.1226 - val_loss: 0.0123 - val_root_mean_squared_error: 0.1108\n",
      "Epoch 615/2500\n",
      "8/8 [==============================] - 0s 12ms/step - loss: 0.0146 - root_mean_squared_error: 0.1207 - val_loss: 0.0112 - val_root_mean_squared_error: 0.1059\n",
      "Epoch 616/2500\n",
      "8/8 [==============================] - 0s 9ms/step - loss: 0.0148 - root_mean_squared_error: 0.1218 - val_loss: 0.0112 - val_root_mean_squared_error: 0.1060\n",
      "Epoch 617/2500\n",
      "8/8 [==============================] - 0s 7ms/step - loss: 0.0144 - root_mean_squared_error: 0.1202 - val_loss: 0.0109 - val_root_mean_squared_error: 0.1043\n",
      "Epoch 618/2500\n",
      "8/8 [==============================] - 0s 9ms/step - loss: 0.0144 - root_mean_squared_error: 0.1200 - val_loss: 0.0115 - val_root_mean_squared_error: 0.1072\n",
      "Epoch 619/2500\n",
      "8/8 [==============================] - 0s 9ms/step - loss: 0.0145 - root_mean_squared_error: 0.1206 - val_loss: 0.0110 - val_root_mean_squared_error: 0.1049\n",
      "Epoch 620/2500\n",
      "8/8 [==============================] - 0s 9ms/step - loss: 0.0144 - root_mean_squared_error: 0.1199 - val_loss: 0.0109 - val_root_mean_squared_error: 0.1046\n",
      "Epoch 621/2500\n",
      "8/8 [==============================] - 0s 9ms/step - loss: 0.0151 - root_mean_squared_error: 0.1231 - val_loss: 0.0107 - val_root_mean_squared_error: 0.1035\n",
      "Epoch 622/2500\n",
      "8/8 [==============================] - 0s 8ms/step - loss: 0.0150 - root_mean_squared_error: 0.1223 - val_loss: 0.0132 - val_root_mean_squared_error: 0.1150\n",
      "Epoch 623/2500\n",
      "8/8 [==============================] - 0s 9ms/step - loss: 0.0153 - root_mean_squared_error: 0.1239 - val_loss: 0.0114 - val_root_mean_squared_error: 0.1067\n",
      "Epoch 624/2500\n",
      "8/8 [==============================] - 0s 9ms/step - loss: 0.0144 - root_mean_squared_error: 0.1201 - val_loss: 0.0108 - val_root_mean_squared_error: 0.1041\n",
      "Epoch 625/2500\n",
      "8/8 [==============================] - 0s 9ms/step - loss: 0.0143 - root_mean_squared_error: 0.1194 - val_loss: 0.0109 - val_root_mean_squared_error: 0.1043\n",
      "Epoch 626/2500\n",
      "8/8 [==============================] - 0s 8ms/step - loss: 0.0142 - root_mean_squared_error: 0.1190 - val_loss: 0.0108 - val_root_mean_squared_error: 0.1038\n",
      "Epoch 627/2500\n",
      "8/8 [==============================] - 0s 8ms/step - loss: 0.0143 - root_mean_squared_error: 0.1195 - val_loss: 0.0108 - val_root_mean_squared_error: 0.1039\n",
      "Epoch 628/2500\n",
      "8/8 [==============================] - 0s 7ms/step - loss: 0.0146 - root_mean_squared_error: 0.1207 - val_loss: 0.0113 - val_root_mean_squared_error: 0.1062\n",
      "Epoch 629/2500\n",
      "8/8 [==============================] - 0s 9ms/step - loss: 0.0172 - root_mean_squared_error: 0.1311 - val_loss: 0.0193 - val_root_mean_squared_error: 0.1388\n",
      "Epoch 630/2500\n",
      "8/8 [==============================] - 0s 8ms/step - loss: 0.0157 - root_mean_squared_error: 0.1254 - val_loss: 0.0121 - val_root_mean_squared_error: 0.1102\n",
      "Epoch 631/2500\n",
      "8/8 [==============================] - 0s 10ms/step - loss: 0.0151 - root_mean_squared_error: 0.1229 - val_loss: 0.0138 - val_root_mean_squared_error: 0.1174\n",
      "Epoch 632/2500\n",
      "8/8 [==============================] - 0s 7ms/step - loss: 0.0149 - root_mean_squared_error: 0.1222 - val_loss: 0.0115 - val_root_mean_squared_error: 0.1071\n",
      "Epoch 633/2500\n",
      "8/8 [==============================] - 0s 9ms/step - loss: 0.0143 - root_mean_squared_error: 0.1194 - val_loss: 0.0111 - val_root_mean_squared_error: 0.1055\n",
      "Epoch 634/2500\n",
      "8/8 [==============================] - 0s 10ms/step - loss: 0.0142 - root_mean_squared_error: 0.1191 - val_loss: 0.0110 - val_root_mean_squared_error: 0.1050\n",
      "Epoch 635/2500\n",
      "8/8 [==============================] - 0s 9ms/step - loss: 0.0142 - root_mean_squared_error: 0.1191 - val_loss: 0.0109 - val_root_mean_squared_error: 0.1046\n",
      "Epoch 636/2500\n",
      "8/8 [==============================] - 0s 9ms/step - loss: 0.0143 - root_mean_squared_error: 0.1198 - val_loss: 0.0119 - val_root_mean_squared_error: 0.1090\n",
      "Epoch 637/2500\n",
      "8/8 [==============================] - 0s 8ms/step - loss: 0.0149 - root_mean_squared_error: 0.1221 - val_loss: 0.0122 - val_root_mean_squared_error: 0.1105\n",
      "Epoch 638/2500\n",
      "8/8 [==============================] - 0s 8ms/step - loss: 0.0144 - root_mean_squared_error: 0.1200 - val_loss: 0.0110 - val_root_mean_squared_error: 0.1047\n",
      "Epoch 639/2500\n",
      "8/8 [==============================] - 0s 9ms/step - loss: 0.0140 - root_mean_squared_error: 0.1182 - val_loss: 0.0110 - val_root_mean_squared_error: 0.1051\n",
      "Epoch 640/2500\n",
      "8/8 [==============================] - 0s 9ms/step - loss: 0.0141 - root_mean_squared_error: 0.1187 - val_loss: 0.0109 - val_root_mean_squared_error: 0.1046\n",
      "Epoch 641/2500\n",
      "8/8 [==============================] - 0s 8ms/step - loss: 0.0141 - root_mean_squared_error: 0.1186 - val_loss: 0.0108 - val_root_mean_squared_error: 0.1041\n",
      "Epoch 642/2500\n",
      "8/8 [==============================] - 0s 9ms/step - loss: 0.0144 - root_mean_squared_error: 0.1202 - val_loss: 0.0109 - val_root_mean_squared_error: 0.1043\n",
      "Epoch 643/2500\n",
      "8/8 [==============================] - 0s 8ms/step - loss: 0.0147 - root_mean_squared_error: 0.1212 - val_loss: 0.0108 - val_root_mean_squared_error: 0.1038\n",
      "Epoch 644/2500\n",
      "8/8 [==============================] - 0s 9ms/step - loss: 0.0147 - root_mean_squared_error: 0.1211 - val_loss: 0.0107 - val_root_mean_squared_error: 0.1035\n",
      "Epoch 645/2500\n",
      "1/8 [==>...........................] - ETA: 0s - loss: 0.0160 - root_mean_squared_error: 0.1266"
     ]
    },
    {
     "name": "stderr",
     "output_type": "stream",
     "text": [
      "WARNING:absl:Found untraced functions such as lstm_cell_layer_call_fn, lstm_cell_layer_call_and_return_conditional_losses while saving (showing 2 of 2). These functions will not be directly callable after loading.\n"
     ]
    },
    {
     "name": "stdout",
     "output_type": "stream",
     "text": [
      "INFO:tensorflow:Assets written to: model0\\assets\n"
     ]
    },
    {
     "name": "stderr",
     "output_type": "stream",
     "text": [
      "INFO:tensorflow:Assets written to: model0\\assets\n"
     ]
    },
    {
     "name": "stdout",
     "output_type": "stream",
     "text": [
      "8/8 [==============================] - 3s 457ms/step - loss: 0.0148 - root_mean_squared_error: 0.1215 - val_loss: 0.0106 - val_root_mean_squared_error: 0.1028\n",
      "Epoch 646/2500\n",
      "8/8 [==============================] - 0s 8ms/step - loss: 0.0141 - root_mean_squared_error: 0.1189 - val_loss: 0.0107 - val_root_mean_squared_error: 0.1036\n",
      "Epoch 647/2500\n",
      "1/8 [==>...........................] - ETA: 0s - loss: 0.0122 - root_mean_squared_error: 0.1105"
     ]
    },
    {
     "name": "stderr",
     "output_type": "stream",
     "text": [
      "WARNING:absl:Found untraced functions such as lstm_cell_layer_call_fn, lstm_cell_layer_call_and_return_conditional_losses while saving (showing 2 of 2). These functions will not be directly callable after loading.\n"
     ]
    },
    {
     "name": "stdout",
     "output_type": "stream",
     "text": [
      "INFO:tensorflow:Assets written to: model0\\assets\n"
     ]
    },
    {
     "name": "stderr",
     "output_type": "stream",
     "text": [
      "INFO:tensorflow:Assets written to: model0\\assets\n"
     ]
    },
    {
     "name": "stdout",
     "output_type": "stream",
     "text": [
      "8/8 [==============================] - 4s 537ms/step - loss: 0.0140 - root_mean_squared_error: 0.1185 - val_loss: 0.0104 - val_root_mean_squared_error: 0.1019\n",
      "Epoch 648/2500\n",
      "8/8 [==============================] - 0s 9ms/step - loss: 0.0141 - root_mean_squared_error: 0.1190 - val_loss: 0.0104 - val_root_mean_squared_error: 0.1021\n",
      "Epoch 649/2500\n",
      "8/8 [==============================] - 0s 8ms/step - loss: 0.0140 - root_mean_squared_error: 0.1184 - val_loss: 0.0104 - val_root_mean_squared_error: 0.1022\n",
      "Epoch 650/2500\n",
      "8/8 [==============================] - 0s 8ms/step - loss: 0.0139 - root_mean_squared_error: 0.1180 - val_loss: 0.0105 - val_root_mean_squared_error: 0.1024\n",
      "Epoch 651/2500\n",
      "8/8 [==============================] - 0s 11ms/step - loss: 0.0144 - root_mean_squared_error: 0.1200 - val_loss: 0.0106 - val_root_mean_squared_error: 0.1030\n",
      "Epoch 652/2500\n",
      "8/8 [==============================] - 0s 8ms/step - loss: 0.0145 - root_mean_squared_error: 0.1204 - val_loss: 0.0127 - val_root_mean_squared_error: 0.1125\n",
      "Epoch 653/2500\n",
      "8/8 [==============================] - 0s 9ms/step - loss: 0.0145 - root_mean_squared_error: 0.1203 - val_loss: 0.0113 - val_root_mean_squared_error: 0.1065\n",
      "Epoch 654/2500\n",
      "8/8 [==============================] - 0s 7ms/step - loss: 0.0141 - root_mean_squared_error: 0.1187 - val_loss: 0.0109 - val_root_mean_squared_error: 0.1042\n",
      "Epoch 655/2500\n",
      "8/8 [==============================] - 0s 9ms/step - loss: 0.0139 - root_mean_squared_error: 0.1179 - val_loss: 0.0107 - val_root_mean_squared_error: 0.1036\n",
      "Epoch 656/2500\n",
      "8/8 [==============================] - 0s 8ms/step - loss: 0.0139 - root_mean_squared_error: 0.1177 - val_loss: 0.0107 - val_root_mean_squared_error: 0.1036\n",
      "Epoch 657/2500\n",
      "8/8 [==============================] - 0s 8ms/step - loss: 0.0145 - root_mean_squared_error: 0.1205 - val_loss: 0.0110 - val_root_mean_squared_error: 0.1047\n",
      "Epoch 658/2500\n",
      "8/8 [==============================] - 0s 7ms/step - loss: 0.0150 - root_mean_squared_error: 0.1225 - val_loss: 0.0128 - val_root_mean_squared_error: 0.1132\n",
      "Epoch 659/2500\n",
      "8/8 [==============================] - 0s 7ms/step - loss: 0.0143 - root_mean_squared_error: 0.1195 - val_loss: 0.0112 - val_root_mean_squared_error: 0.1058\n",
      "Epoch 660/2500\n",
      "8/8 [==============================] - 0s 9ms/step - loss: 0.0140 - root_mean_squared_error: 0.1184 - val_loss: 0.0107 - val_root_mean_squared_error: 0.1036\n",
      "Epoch 661/2500\n",
      "8/8 [==============================] - 0s 8ms/step - loss: 0.0140 - root_mean_squared_error: 0.1183 - val_loss: 0.0107 - val_root_mean_squared_error: 0.1035\n",
      "Epoch 662/2500\n",
      "8/8 [==============================] - 0s 8ms/step - loss: 0.0139 - root_mean_squared_error: 0.1178 - val_loss: 0.0125 - val_root_mean_squared_error: 0.1118\n",
      "Epoch 663/2500\n",
      "8/8 [==============================] - 0s 8ms/step - loss: 0.0151 - root_mean_squared_error: 0.1231 - val_loss: 0.0154 - val_root_mean_squared_error: 0.1242\n",
      "Epoch 664/2500\n",
      "8/8 [==============================] - 0s 7ms/step - loss: 0.0149 - root_mean_squared_error: 0.1219 - val_loss: 0.0118 - val_root_mean_squared_error: 0.1087\n",
      "Epoch 665/2500\n",
      "8/8 [==============================] - 0s 9ms/step - loss: 0.0141 - root_mean_squared_error: 0.1189 - val_loss: 0.0125 - val_root_mean_squared_error: 0.1118\n",
      "Epoch 666/2500\n",
      "8/8 [==============================] - 0s 8ms/step - loss: 0.0151 - root_mean_squared_error: 0.1230 - val_loss: 0.0120 - val_root_mean_squared_error: 0.1093\n",
      "Epoch 667/2500\n",
      "8/8 [==============================] - 0s 9ms/step - loss: 0.0153 - root_mean_squared_error: 0.1237 - val_loss: 0.0115 - val_root_mean_squared_error: 0.1072\n",
      "Epoch 668/2500\n",
      "8/8 [==============================] - 0s 7ms/step - loss: 0.0144 - root_mean_squared_error: 0.1198 - val_loss: 0.0114 - val_root_mean_squared_error: 0.1066\n",
      "Epoch 669/2500\n",
      "8/8 [==============================] - 0s 10ms/step - loss: 0.0140 - root_mean_squared_error: 0.1182 - val_loss: 0.0112 - val_root_mean_squared_error: 0.1057\n",
      "Epoch 670/2500\n",
      "8/8 [==============================] - 0s 7ms/step - loss: 0.0140 - root_mean_squared_error: 0.1182 - val_loss: 0.0111 - val_root_mean_squared_error: 0.1052\n",
      "Epoch 671/2500\n",
      "8/8 [==============================] - 0s 9ms/step - loss: 0.0142 - root_mean_squared_error: 0.1191 - val_loss: 0.0110 - val_root_mean_squared_error: 0.1047\n",
      "Epoch 672/2500\n",
      "8/8 [==============================] - 0s 9ms/step - loss: 0.0139 - root_mean_squared_error: 0.1181 - val_loss: 0.0109 - val_root_mean_squared_error: 0.1042\n",
      "Epoch 673/2500\n",
      "8/8 [==============================] - 0s 10ms/step - loss: 0.0139 - root_mean_squared_error: 0.1180 - val_loss: 0.0108 - val_root_mean_squared_error: 0.1040\n",
      "Epoch 674/2500\n",
      "8/8 [==============================] - 0s 10ms/step - loss: 0.0138 - root_mean_squared_error: 0.1174 - val_loss: 0.0109 - val_root_mean_squared_error: 0.1042\n",
      "Epoch 675/2500\n",
      "8/8 [==============================] - 0s 8ms/step - loss: 0.0140 - root_mean_squared_error: 0.1183 - val_loss: 0.0108 - val_root_mean_squared_error: 0.1040\n",
      "Epoch 676/2500\n",
      "8/8 [==============================] - 0s 9ms/step - loss: 0.0139 - root_mean_squared_error: 0.1179 - val_loss: 0.0110 - val_root_mean_squared_error: 0.1050\n",
      "Epoch 677/2500\n",
      "8/8 [==============================] - 0s 8ms/step - loss: 0.0139 - root_mean_squared_error: 0.1178 - val_loss: 0.0110 - val_root_mean_squared_error: 0.1047\n",
      "Epoch 678/2500\n",
      "8/8 [==============================] - 0s 9ms/step - loss: 0.0140 - root_mean_squared_error: 0.1184 - val_loss: 0.0112 - val_root_mean_squared_error: 0.1056\n",
      "Epoch 679/2500\n",
      "8/8 [==============================] - 0s 7ms/step - loss: 0.0139 - root_mean_squared_error: 0.1181 - val_loss: 0.0118 - val_root_mean_squared_error: 0.1087\n",
      "Epoch 680/2500\n",
      "8/8 [==============================] - 0s 6ms/step - loss: 0.0142 - root_mean_squared_error: 0.1193 - val_loss: 0.0116 - val_root_mean_squared_error: 0.1078\n",
      "Epoch 681/2500\n",
      "8/8 [==============================] - 0s 14ms/step - loss: 0.0144 - root_mean_squared_error: 0.1198 - val_loss: 0.0132 - val_root_mean_squared_error: 0.1149\n",
      "Epoch 682/2500\n",
      "8/8 [==============================] - 0s 15ms/step - loss: 0.0142 - root_mean_squared_error: 0.1193 - val_loss: 0.0113 - val_root_mean_squared_error: 0.1064\n",
      "Epoch 683/2500\n",
      "8/8 [==============================] - 0s 11ms/step - loss: 0.0138 - root_mean_squared_error: 0.1176 - val_loss: 0.0111 - val_root_mean_squared_error: 0.1051\n",
      "Epoch 684/2500\n",
      "8/8 [==============================] - 0s 13ms/step - loss: 0.0151 - root_mean_squared_error: 0.1227 - val_loss: 0.0128 - val_root_mean_squared_error: 0.1133\n",
      "Epoch 685/2500\n",
      "8/8 [==============================] - 0s 10ms/step - loss: 0.0148 - root_mean_squared_error: 0.1218 - val_loss: 0.0105 - val_root_mean_squared_error: 0.1023\n",
      "Epoch 686/2500\n",
      "8/8 [==============================] - 0s 12ms/step - loss: 0.0144 - root_mean_squared_error: 0.1202 - val_loss: 0.0108 - val_root_mean_squared_error: 0.1041\n",
      "Epoch 687/2500\n",
      "8/8 [==============================] - ETA: 0s - loss: 0.0142 - root_mean_squared_error: 0.1192"
     ]
    },
    {
     "name": "stderr",
     "output_type": "stream",
     "text": [
      "WARNING:absl:Found untraced functions such as lstm_cell_layer_call_fn, lstm_cell_layer_call_and_return_conditional_losses while saving (showing 2 of 2). These functions will not be directly callable after loading.\n"
     ]
    },
    {
     "name": "stdout",
     "output_type": "stream",
     "text": [
      "INFO:tensorflow:Assets written to: model0\\assets\n"
     ]
    },
    {
     "name": "stderr",
     "output_type": "stream",
     "text": [
      "INFO:tensorflow:Assets written to: model0\\assets\n"
     ]
    },
    {
     "name": "stdout",
     "output_type": "stream",
     "text": [
      "8/8 [==============================] - 3s 469ms/step - loss: 0.0142 - root_mean_squared_error: 0.1192 - val_loss: 0.0103 - val_root_mean_squared_error: 0.1015\n",
      "Epoch 688/2500\n",
      "8/8 [==============================] - 0s 9ms/step - loss: 0.0142 - root_mean_squared_error: 0.1191 - val_loss: 0.0123 - val_root_mean_squared_error: 0.1107\n",
      "Epoch 689/2500\n",
      "8/8 [==============================] - 0s 8ms/step - loss: 0.0147 - root_mean_squared_error: 0.1211 - val_loss: 0.0113 - val_root_mean_squared_error: 0.1062\n",
      "Epoch 690/2500\n",
      "8/8 [==============================] - 0s 7ms/step - loss: 0.0137 - root_mean_squared_error: 0.1172 - val_loss: 0.0109 - val_root_mean_squared_error: 0.1044\n",
      "Epoch 691/2500\n",
      "8/8 [==============================] - 0s 9ms/step - loss: 0.0142 - root_mean_squared_error: 0.1191 - val_loss: 0.0111 - val_root_mean_squared_error: 0.1056\n",
      "Epoch 692/2500\n",
      "8/8 [==============================] - 0s 12ms/step - loss: 0.0142 - root_mean_squared_error: 0.1190 - val_loss: 0.0108 - val_root_mean_squared_error: 0.1037\n",
      "Epoch 693/2500\n",
      "8/8 [==============================] - 0s 10ms/step - loss: 0.0136 - root_mean_squared_error: 0.1166 - val_loss: 0.0106 - val_root_mean_squared_error: 0.1030\n",
      "Epoch 694/2500\n",
      "8/8 [==============================] - 0s 9ms/step - loss: 0.0139 - root_mean_squared_error: 0.1179 - val_loss: 0.0106 - val_root_mean_squared_error: 0.1030\n",
      "Epoch 695/2500\n",
      "8/8 [==============================] - 0s 15ms/step - loss: 0.0137 - root_mean_squared_error: 0.1169 - val_loss: 0.0107 - val_root_mean_squared_error: 0.1034\n",
      "Epoch 696/2500\n",
      "8/8 [==============================] - 0s 13ms/step - loss: 0.0149 - root_mean_squared_error: 0.1220 - val_loss: 0.0143 - val_root_mean_squared_error: 0.1194\n",
      "Epoch 697/2500\n",
      "8/8 [==============================] - 0s 9ms/step - loss: 0.0147 - root_mean_squared_error: 0.1214 - val_loss: 0.0112 - val_root_mean_squared_error: 0.1060\n",
      "Epoch 698/2500\n",
      "8/8 [==============================] - 0s 10ms/step - loss: 0.0141 - root_mean_squared_error: 0.1187 - val_loss: 0.0109 - val_root_mean_squared_error: 0.1042\n",
      "Epoch 699/2500\n",
      "8/8 [==============================] - 0s 11ms/step - loss: 0.0152 - root_mean_squared_error: 0.1234 - val_loss: 0.0122 - val_root_mean_squared_error: 0.1106\n",
      "Epoch 700/2500\n",
      "8/8 [==============================] - 0s 12ms/step - loss: 0.0144 - root_mean_squared_error: 0.1202 - val_loss: 0.0124 - val_root_mean_squared_error: 0.1113\n",
      "Epoch 701/2500\n",
      "8/8 [==============================] - 0s 17ms/step - loss: 0.0148 - root_mean_squared_error: 0.1217 - val_loss: 0.0131 - val_root_mean_squared_error: 0.1144\n",
      "Epoch 702/2500\n",
      "8/8 [==============================] - 0s 11ms/step - loss: 0.0142 - root_mean_squared_error: 0.1190 - val_loss: 0.0107 - val_root_mean_squared_error: 0.1034\n",
      "Epoch 703/2500\n",
      "8/8 [==============================] - 0s 10ms/step - loss: 0.0138 - root_mean_squared_error: 0.1175 - val_loss: 0.0106 - val_root_mean_squared_error: 0.1029\n",
      "Epoch 704/2500\n",
      "8/8 [==============================] - 0s 11ms/step - loss: 0.0143 - root_mean_squared_error: 0.1196 - val_loss: 0.0105 - val_root_mean_squared_error: 0.1025\n",
      "Epoch 705/2500\n",
      "8/8 [==============================] - 0s 14ms/step - loss: 0.0140 - root_mean_squared_error: 0.1182 - val_loss: 0.0106 - val_root_mean_squared_error: 0.1030\n",
      "Epoch 706/2500\n",
      "8/8 [==============================] - 0s 12ms/step - loss: 0.0137 - root_mean_squared_error: 0.1171 - val_loss: 0.0108 - val_root_mean_squared_error: 0.1037\n",
      "Epoch 707/2500\n",
      "8/8 [==============================] - 0s 12ms/step - loss: 0.0150 - root_mean_squared_error: 0.1224 - val_loss: 0.0152 - val_root_mean_squared_error: 0.1232\n",
      "Epoch 708/2500\n",
      "8/8 [==============================] - 0s 9ms/step - loss: 0.0152 - root_mean_squared_error: 0.1234 - val_loss: 0.0109 - val_root_mean_squared_error: 0.1045\n",
      "Epoch 709/2500\n",
      "8/8 [==============================] - 0s 9ms/step - loss: 0.0145 - root_mean_squared_error: 0.1205 - val_loss: 0.0159 - val_root_mean_squared_error: 0.1261\n",
      "Epoch 710/2500\n",
      "8/8 [==============================] - 0s 10ms/step - loss: 0.0147 - root_mean_squared_error: 0.1211 - val_loss: 0.0119 - val_root_mean_squared_error: 0.1093\n",
      "Epoch 711/2500\n",
      "8/8 [==============================] - 0s 10ms/step - loss: 0.0141 - root_mean_squared_error: 0.1187 - val_loss: 0.0108 - val_root_mean_squared_error: 0.1040\n",
      "Epoch 712/2500\n",
      "8/8 [==============================] - 0s 11ms/step - loss: 0.0140 - root_mean_squared_error: 0.1183 - val_loss: 0.0107 - val_root_mean_squared_error: 0.1034\n",
      "Epoch 713/2500\n",
      "8/8 [==============================] - 0s 10ms/step - loss: 0.0137 - root_mean_squared_error: 0.1172 - val_loss: 0.0121 - val_root_mean_squared_error: 0.1099\n",
      "Epoch 714/2500\n",
      "8/8 [==============================] - 0s 9ms/step - loss: 0.0138 - root_mean_squared_error: 0.1176 - val_loss: 0.0108 - val_root_mean_squared_error: 0.1038\n",
      "Epoch 715/2500\n",
      "8/8 [==============================] - 0s 10ms/step - loss: 0.0138 - root_mean_squared_error: 0.1174 - val_loss: 0.0106 - val_root_mean_squared_error: 0.1031\n",
      "Epoch 716/2500\n",
      "8/8 [==============================] - 0s 9ms/step - loss: 0.0138 - root_mean_squared_error: 0.1176 - val_loss: 0.0108 - val_root_mean_squared_error: 0.1038\n",
      "Epoch 717/2500\n",
      "8/8 [==============================] - 0s 10ms/step - loss: 0.0136 - root_mean_squared_error: 0.1166 - val_loss: 0.0107 - val_root_mean_squared_error: 0.1036\n",
      "Epoch 718/2500\n",
      "8/8 [==============================] - 0s 9ms/step - loss: 0.0136 - root_mean_squared_error: 0.1166 - val_loss: 0.0108 - val_root_mean_squared_error: 0.1039\n",
      "Epoch 719/2500\n",
      "8/8 [==============================] - 0s 11ms/step - loss: 0.0142 - root_mean_squared_error: 0.1193 - val_loss: 0.0107 - val_root_mean_squared_error: 0.1034\n",
      "Epoch 720/2500\n",
      "8/8 [==============================] - 0s 9ms/step - loss: 0.0142 - root_mean_squared_error: 0.1193 - val_loss: 0.0110 - val_root_mean_squared_error: 0.1049\n",
      "Epoch 721/2500\n",
      "8/8 [==============================] - 0s 10ms/step - loss: 0.0136 - root_mean_squared_error: 0.1166 - val_loss: 0.0108 - val_root_mean_squared_error: 0.1037\n",
      "Epoch 722/2500\n",
      "8/8 [==============================] - 0s 11ms/step - loss: 0.0136 - root_mean_squared_error: 0.1168 - val_loss: 0.0105 - val_root_mean_squared_error: 0.1026\n",
      "Epoch 723/2500\n",
      "8/8 [==============================] - 0s 9ms/step - loss: 0.0136 - root_mean_squared_error: 0.1167 - val_loss: 0.0106 - val_root_mean_squared_error: 0.1031\n",
      "Epoch 724/2500\n",
      "8/8 [==============================] - 0s 11ms/step - loss: 0.0136 - root_mean_squared_error: 0.1166 - val_loss: 0.0108 - val_root_mean_squared_error: 0.1039\n",
      "Epoch 725/2500\n",
      "8/8 [==============================] - 0s 11ms/step - loss: 0.0139 - root_mean_squared_error: 0.1180 - val_loss: 0.0107 - val_root_mean_squared_error: 0.1036\n",
      "Epoch 726/2500\n",
      "8/8 [==============================] - 0s 11ms/step - loss: 0.0136 - root_mean_squared_error: 0.1167 - val_loss: 0.0106 - val_root_mean_squared_error: 0.1028\n",
      "Epoch 727/2500\n",
      "8/8 [==============================] - 0s 9ms/step - loss: 0.0139 - root_mean_squared_error: 0.1178 - val_loss: 0.0107 - val_root_mean_squared_error: 0.1036\n",
      "Epoch 728/2500\n",
      "8/8 [==============================] - 0s 9ms/step - loss: 0.0155 - root_mean_squared_error: 0.1246 - val_loss: 0.0155 - val_root_mean_squared_error: 0.1244\n",
      "Epoch 729/2500\n",
      "8/8 [==============================] - 0s 10ms/step - loss: 0.0150 - root_mean_squared_error: 0.1224 - val_loss: 0.0111 - val_root_mean_squared_error: 0.1053\n",
      "Epoch 730/2500\n",
      "8/8 [==============================] - 0s 10ms/step - loss: 0.0148 - root_mean_squared_error: 0.1218 - val_loss: 0.0121 - val_root_mean_squared_error: 0.1101\n",
      "Epoch 731/2500\n",
      "8/8 [==============================] - 0s 11ms/step - loss: 0.0141 - root_mean_squared_error: 0.1187 - val_loss: 0.0117 - val_root_mean_squared_error: 0.1079\n",
      "Epoch 732/2500\n",
      "8/8 [==============================] - 0s 9ms/step - loss: 0.0137 - root_mean_squared_error: 0.1172 - val_loss: 0.0109 - val_root_mean_squared_error: 0.1043\n",
      "Epoch 733/2500\n",
      "8/8 [==============================] - 0s 11ms/step - loss: 0.0138 - root_mean_squared_error: 0.1175 - val_loss: 0.0107 - val_root_mean_squared_error: 0.1035\n",
      "Epoch 734/2500\n",
      "8/8 [==============================] - 0s 10ms/step - loss: 0.0140 - root_mean_squared_error: 0.1184 - val_loss: 0.0107 - val_root_mean_squared_error: 0.1033\n",
      "Epoch 735/2500\n",
      "8/8 [==============================] - 0s 9ms/step - loss: 0.0145 - root_mean_squared_error: 0.1204 - val_loss: 0.0107 - val_root_mean_squared_error: 0.1033\n",
      "Epoch 736/2500\n",
      "8/8 [==============================] - 0s 12ms/step - loss: 0.0136 - root_mean_squared_error: 0.1167 - val_loss: 0.0106 - val_root_mean_squared_error: 0.1031\n",
      "Epoch 737/2500\n",
      "8/8 [==============================] - 0s 12ms/step - loss: 0.0135 - root_mean_squared_error: 0.1162 - val_loss: 0.0106 - val_root_mean_squared_error: 0.1029\n",
      "Epoch 738/2500\n",
      "8/8 [==============================] - 0s 9ms/step - loss: 0.0136 - root_mean_squared_error: 0.1165 - val_loss: 0.0105 - val_root_mean_squared_error: 0.1026\n",
      "Epoch 739/2500\n",
      "8/8 [==============================] - 0s 9ms/step - loss: 0.0136 - root_mean_squared_error: 0.1166 - val_loss: 0.0105 - val_root_mean_squared_error: 0.1025\n",
      "Epoch 740/2500\n",
      "8/8 [==============================] - 0s 9ms/step - loss: 0.0135 - root_mean_squared_error: 0.1163 - val_loss: 0.0105 - val_root_mean_squared_error: 0.1023\n",
      "Epoch 741/2500\n",
      "8/8 [==============================] - 0s 9ms/step - loss: 0.0137 - root_mean_squared_error: 0.1169 - val_loss: 0.0110 - val_root_mean_squared_error: 0.1047\n",
      "Epoch 742/2500\n",
      "8/8 [==============================] - 0s 9ms/step - loss: 0.0137 - root_mean_squared_error: 0.1172 - val_loss: 0.0104 - val_root_mean_squared_error: 0.1020\n",
      "Epoch 743/2500\n",
      "8/8 [==============================] - 0s 9ms/step - loss: 0.0138 - root_mean_squared_error: 0.1176 - val_loss: 0.0104 - val_root_mean_squared_error: 0.1018\n",
      "Epoch 744/2500\n",
      "8/8 [==============================] - 0s 9ms/step - loss: 0.0137 - root_mean_squared_error: 0.1172 - val_loss: 0.0105 - val_root_mean_squared_error: 0.1025\n",
      "Epoch 745/2500\n",
      "8/8 [==============================] - 0s 9ms/step - loss: 0.0135 - root_mean_squared_error: 0.1163 - val_loss: 0.0110 - val_root_mean_squared_error: 0.1047\n",
      "Epoch 746/2500\n",
      "8/8 [==============================] - 0s 9ms/step - loss: 0.0138 - root_mean_squared_error: 0.1175 - val_loss: 0.0106 - val_root_mean_squared_error: 0.1028\n",
      "Epoch 747/2500\n",
      "8/8 [==============================] - 0s 9ms/step - loss: 0.0133 - root_mean_squared_error: 0.1154 - val_loss: 0.0105 - val_root_mean_squared_error: 0.1025\n",
      "Epoch 748/2500\n",
      "8/8 [==============================] - 0s 10ms/step - loss: 0.0135 - root_mean_squared_error: 0.1160 - val_loss: 0.0107 - val_root_mean_squared_error: 0.1033\n",
      "Epoch 749/2500\n",
      "8/8 [==============================] - 0s 11ms/step - loss: 0.0135 - root_mean_squared_error: 0.1163 - val_loss: 0.0123 - val_root_mean_squared_error: 0.1111\n",
      "Epoch 750/2500\n",
      "8/8 [==============================] - 0s 9ms/step - loss: 0.0136 - root_mean_squared_error: 0.1168 - val_loss: 0.0111 - val_root_mean_squared_error: 0.1053\n",
      "Epoch 751/2500\n",
      "8/8 [==============================] - 0s 8ms/step - loss: 0.0135 - root_mean_squared_error: 0.1163 - val_loss: 0.0106 - val_root_mean_squared_error: 0.1028\n",
      "Epoch 752/2500\n",
      "8/8 [==============================] - 0s 8ms/step - loss: 0.0136 - root_mean_squared_error: 0.1166 - val_loss: 0.0133 - val_root_mean_squared_error: 0.1153\n",
      "Epoch 753/2500\n",
      "8/8 [==============================] - 0s 9ms/step - loss: 0.0159 - root_mean_squared_error: 0.1262 - val_loss: 0.0187 - val_root_mean_squared_error: 0.1367\n",
      "Epoch 754/2500\n",
      "8/8 [==============================] - 0s 8ms/step - loss: 0.0143 - root_mean_squared_error: 0.1196 - val_loss: 0.0109 - val_root_mean_squared_error: 0.1044\n",
      "Epoch 755/2500\n",
      "8/8 [==============================] - 0s 9ms/step - loss: 0.0138 - root_mean_squared_error: 0.1175 - val_loss: 0.0115 - val_root_mean_squared_error: 0.1071\n",
      "Epoch 756/2500\n",
      "8/8 [==============================] - 0s 9ms/step - loss: 0.0140 - root_mean_squared_error: 0.1184 - val_loss: 0.0108 - val_root_mean_squared_error: 0.1041\n",
      "Epoch 757/2500\n",
      "8/8 [==============================] - 0s 9ms/step - loss: 0.0138 - root_mean_squared_error: 0.1175 - val_loss: 0.0115 - val_root_mean_squared_error: 0.1072\n",
      "Epoch 758/2500\n",
      "8/8 [==============================] - 0s 9ms/step - loss: 0.0138 - root_mean_squared_error: 0.1175 - val_loss: 0.0109 - val_root_mean_squared_error: 0.1044\n",
      "Epoch 759/2500\n",
      "8/8 [==============================] - 0s 9ms/step - loss: 0.0138 - root_mean_squared_error: 0.1175 - val_loss: 0.0114 - val_root_mean_squared_error: 0.1067\n",
      "Epoch 760/2500\n",
      "8/8 [==============================] - 0s 10ms/step - loss: 0.0136 - root_mean_squared_error: 0.1165 - val_loss: 0.0112 - val_root_mean_squared_error: 0.1058\n",
      "Epoch 761/2500\n",
      "8/8 [==============================] - 0s 10ms/step - loss: 0.0140 - root_mean_squared_error: 0.1185 - val_loss: 0.0105 - val_root_mean_squared_error: 0.1025\n",
      "Epoch 762/2500\n",
      "8/8 [==============================] - 0s 9ms/step - loss: 0.0133 - root_mean_squared_error: 0.1153 - val_loss: 0.0113 - val_root_mean_squared_error: 0.1064\n",
      "Epoch 763/2500\n",
      "8/8 [==============================] - 0s 9ms/step - loss: 0.0136 - root_mean_squared_error: 0.1167 - val_loss: 0.0111 - val_root_mean_squared_error: 0.1055\n",
      "Epoch 764/2500\n",
      "1/8 [==>...........................] - ETA: 0s - loss: 0.0121 - root_mean_squared_error: 0.1098"
     ]
    },
    {
     "name": "stderr",
     "output_type": "stream",
     "text": [
      "WARNING:absl:Found untraced functions such as lstm_cell_layer_call_fn, lstm_cell_layer_call_and_return_conditional_losses while saving (showing 2 of 2). These functions will not be directly callable after loading.\n"
     ]
    },
    {
     "name": "stdout",
     "output_type": "stream",
     "text": [
      "INFO:tensorflow:Assets written to: model0\\assets\n"
     ]
    },
    {
     "name": "stderr",
     "output_type": "stream",
     "text": [
      "INFO:tensorflow:Assets written to: model0\\assets\n"
     ]
    },
    {
     "name": "stdout",
     "output_type": "stream",
     "text": [
      "8/8 [==============================] - 3s 497ms/step - loss: 0.0135 - root_mean_squared_error: 0.1160 - val_loss: 0.0103 - val_root_mean_squared_error: 0.1015\n",
      "Epoch 765/2500\n",
      "8/8 [==============================] - 0s 9ms/step - loss: 0.0135 - root_mean_squared_error: 0.1161 - val_loss: 0.0103 - val_root_mean_squared_error: 0.1016\n",
      "Epoch 766/2500\n",
      "8/8 [==============================] - 0s 8ms/step - loss: 0.0135 - root_mean_squared_error: 0.1163 - val_loss: 0.0106 - val_root_mean_squared_error: 0.1028\n",
      "Epoch 767/2500\n",
      "8/8 [==============================] - 0s 8ms/step - loss: 0.0141 - root_mean_squared_error: 0.1189 - val_loss: 0.0122 - val_root_mean_squared_error: 0.1106\n",
      "Epoch 768/2500\n",
      "8/8 [==============================] - 0s 10ms/step - loss: 0.0135 - root_mean_squared_error: 0.1164 - val_loss: 0.0104 - val_root_mean_squared_error: 0.1021\n",
      "Epoch 769/2500\n",
      "8/8 [==============================] - 0s 9ms/step - loss: 0.0133 - root_mean_squared_error: 0.1151 - val_loss: 0.0105 - val_root_mean_squared_error: 0.1026\n",
      "Epoch 770/2500\n",
      "8/8 [==============================] - 0s 10ms/step - loss: 0.0138 - root_mean_squared_error: 0.1175 - val_loss: 0.0105 - val_root_mean_squared_error: 0.1025\n",
      "Epoch 771/2500\n",
      "8/8 [==============================] - 0s 9ms/step - loss: 0.0133 - root_mean_squared_error: 0.1152 - val_loss: 0.0106 - val_root_mean_squared_error: 0.1030\n",
      "Epoch 772/2500\n",
      "8/8 [==============================] - 0s 10ms/step - loss: 0.0134 - root_mean_squared_error: 0.1159 - val_loss: 0.0108 - val_root_mean_squared_error: 0.1040\n",
      "Epoch 773/2500\n",
      "8/8 [==============================] - 0s 9ms/step - loss: 0.0133 - root_mean_squared_error: 0.1151 - val_loss: 0.0108 - val_root_mean_squared_error: 0.1041\n",
      "Epoch 774/2500\n",
      "8/8 [==============================] - 0s 9ms/step - loss: 0.0134 - root_mean_squared_error: 0.1157 - val_loss: 0.0107 - val_root_mean_squared_error: 0.1033\n",
      "Epoch 775/2500\n",
      "8/8 [==============================] - 0s 10ms/step - loss: 0.0135 - root_mean_squared_error: 0.1161 - val_loss: 0.0106 - val_root_mean_squared_error: 0.1029\n",
      "Epoch 776/2500\n",
      "8/8 [==============================] - 0s 10ms/step - loss: 0.0133 - root_mean_squared_error: 0.1152 - val_loss: 0.0110 - val_root_mean_squared_error: 0.1050\n",
      "Epoch 777/2500\n",
      "8/8 [==============================] - 0s 9ms/step - loss: 0.0136 - root_mean_squared_error: 0.1165 - val_loss: 0.0132 - val_root_mean_squared_error: 0.1151\n",
      "Epoch 778/2500\n",
      "8/8 [==============================] - 0s 13ms/step - loss: 0.0137 - root_mean_squared_error: 0.1168 - val_loss: 0.0112 - val_root_mean_squared_error: 0.1058\n",
      "Epoch 779/2500\n",
      "8/8 [==============================] - 0s 10ms/step - loss: 0.0133 - root_mean_squared_error: 0.1152 - val_loss: 0.0105 - val_root_mean_squared_error: 0.1027\n",
      "Epoch 780/2500\n",
      "8/8 [==============================] - 0s 9ms/step - loss: 0.0136 - root_mean_squared_error: 0.1167 - val_loss: 0.0109 - val_root_mean_squared_error: 0.1044\n",
      "Epoch 781/2500\n",
      "8/8 [==============================] - 0s 9ms/step - loss: 0.0136 - root_mean_squared_error: 0.1165 - val_loss: 0.0123 - val_root_mean_squared_error: 0.1107\n",
      "Epoch 782/2500\n",
      "8/8 [==============================] - 0s 9ms/step - loss: 0.0134 - root_mean_squared_error: 0.1158 - val_loss: 0.0110 - val_root_mean_squared_error: 0.1051\n",
      "Epoch 783/2500\n",
      "8/8 [==============================] - 0s 8ms/step - loss: 0.0133 - root_mean_squared_error: 0.1155 - val_loss: 0.0106 - val_root_mean_squared_error: 0.1031\n",
      "Epoch 784/2500\n",
      "8/8 [==============================] - 0s 9ms/step - loss: 0.0134 - root_mean_squared_error: 0.1156 - val_loss: 0.0106 - val_root_mean_squared_error: 0.1031\n",
      "Epoch 785/2500\n",
      "8/8 [==============================] - 0s 9ms/step - loss: 0.0134 - root_mean_squared_error: 0.1157 - val_loss: 0.0107 - val_root_mean_squared_error: 0.1033\n",
      "Epoch 786/2500\n",
      "8/8 [==============================] - 0s 9ms/step - loss: 0.0135 - root_mean_squared_error: 0.1161 - val_loss: 0.0111 - val_root_mean_squared_error: 0.1055\n",
      "Epoch 787/2500\n",
      "8/8 [==============================] - 0s 9ms/step - loss: 0.0135 - root_mean_squared_error: 0.1163 - val_loss: 0.0138 - val_root_mean_squared_error: 0.1174\n",
      "Epoch 788/2500\n",
      "8/8 [==============================] - 0s 9ms/step - loss: 0.0138 - root_mean_squared_error: 0.1176 - val_loss: 0.0114 - val_root_mean_squared_error: 0.1069\n",
      "Epoch 789/2500\n",
      "8/8 [==============================] - 0s 10ms/step - loss: 0.0132 - root_mean_squared_error: 0.1150 - val_loss: 0.0108 - val_root_mean_squared_error: 0.1037\n",
      "Epoch 790/2500\n",
      "8/8 [==============================] - 0s 10ms/step - loss: 0.0131 - root_mean_squared_error: 0.1146 - val_loss: 0.0110 - val_root_mean_squared_error: 0.1049\n",
      "Epoch 791/2500\n",
      "8/8 [==============================] - 0s 10ms/step - loss: 0.0131 - root_mean_squared_error: 0.1147 - val_loss: 0.0111 - val_root_mean_squared_error: 0.1053\n",
      "Epoch 792/2500\n",
      "8/8 [==============================] - 0s 10ms/step - loss: 0.0131 - root_mean_squared_error: 0.1146 - val_loss: 0.0107 - val_root_mean_squared_error: 0.1036\n",
      "Epoch 793/2500\n",
      "8/8 [==============================] - 0s 8ms/step - loss: 0.0134 - root_mean_squared_error: 0.1159 - val_loss: 0.0108 - val_root_mean_squared_error: 0.1037\n",
      "Epoch 794/2500\n",
      "8/8 [==============================] - 0s 10ms/step - loss: 0.0136 - root_mean_squared_error: 0.1166 - val_loss: 0.0108 - val_root_mean_squared_error: 0.1040\n",
      "Epoch 795/2500\n",
      "8/8 [==============================] - 0s 8ms/step - loss: 0.0131 - root_mean_squared_error: 0.1145 - val_loss: 0.0111 - val_root_mean_squared_error: 0.1053\n",
      "Epoch 796/2500\n",
      "8/8 [==============================] - 0s 9ms/step - loss: 0.0131 - root_mean_squared_error: 0.1145 - val_loss: 0.0111 - val_root_mean_squared_error: 0.1052\n",
      "Epoch 797/2500\n",
      "8/8 [==============================] - 0s 8ms/step - loss: 0.0131 - root_mean_squared_error: 0.1147 - val_loss: 0.0111 - val_root_mean_squared_error: 0.1052\n",
      "Epoch 798/2500\n",
      "8/8 [==============================] - 0s 9ms/step - loss: 0.0132 - root_mean_squared_error: 0.1149 - val_loss: 0.0107 - val_root_mean_squared_error: 0.1035\n",
      "Epoch 799/2500\n",
      "8/8 [==============================] - 0s 8ms/step - loss: 0.0152 - root_mean_squared_error: 0.1233 - val_loss: 0.0189 - val_root_mean_squared_error: 0.1373\n",
      "Epoch 800/2500\n",
      "8/8 [==============================] - 0s 7ms/step - loss: 0.0164 - root_mean_squared_error: 0.1282 - val_loss: 0.0119 - val_root_mean_squared_error: 0.1092\n",
      "Epoch 801/2500\n",
      "8/8 [==============================] - 0s 10ms/step - loss: 0.0133 - root_mean_squared_error: 0.1151 - val_loss: 0.0126 - val_root_mean_squared_error: 0.1124\n",
      "Epoch 802/2500\n",
      "8/8 [==============================] - 0s 9ms/step - loss: 0.0137 - root_mean_squared_error: 0.1172 - val_loss: 0.0137 - val_root_mean_squared_error: 0.1170\n",
      "Epoch 803/2500\n",
      "8/8 [==============================] - 0s 10ms/step - loss: 0.0134 - root_mean_squared_error: 0.1156 - val_loss: 0.0112 - val_root_mean_squared_error: 0.1060\n",
      "Epoch 804/2500\n",
      "8/8 [==============================] - 0s 8ms/step - loss: 0.0134 - root_mean_squared_error: 0.1157 - val_loss: 0.0109 - val_root_mean_squared_error: 0.1045\n",
      "Epoch 805/2500\n",
      "8/8 [==============================] - 0s 9ms/step - loss: 0.0135 - root_mean_squared_error: 0.1163 - val_loss: 0.0109 - val_root_mean_squared_error: 0.1045\n",
      "Epoch 806/2500\n",
      "8/8 [==============================] - 0s 10ms/step - loss: 0.0133 - root_mean_squared_error: 0.1154 - val_loss: 0.0116 - val_root_mean_squared_error: 0.1076\n",
      "Epoch 807/2500\n",
      "8/8 [==============================] - 0s 10ms/step - loss: 0.0138 - root_mean_squared_error: 0.1175 - val_loss: 0.0121 - val_root_mean_squared_error: 0.1098\n",
      "Epoch 808/2500\n",
      "8/8 [==============================] - 0s 8ms/step - loss: 0.0133 - root_mean_squared_error: 0.1154 - val_loss: 0.0114 - val_root_mean_squared_error: 0.1068\n",
      "Epoch 809/2500\n",
      "8/8 [==============================] - 0s 10ms/step - loss: 0.0133 - root_mean_squared_error: 0.1154 - val_loss: 0.0112 - val_root_mean_squared_error: 0.1059\n",
      "Epoch 810/2500\n",
      "8/8 [==============================] - 0s 8ms/step - loss: 0.0132 - root_mean_squared_error: 0.1151 - val_loss: 0.0117 - val_root_mean_squared_error: 0.1080\n",
      "Epoch 811/2500\n",
      "8/8 [==============================] - 0s 10ms/step - loss: 0.0136 - root_mean_squared_error: 0.1165 - val_loss: 0.0126 - val_root_mean_squared_error: 0.1125\n",
      "Epoch 812/2500\n",
      "8/8 [==============================] - 0s 10ms/step - loss: 0.0133 - root_mean_squared_error: 0.1153 - val_loss: 0.0120 - val_root_mean_squared_error: 0.1094\n",
      "Epoch 813/2500\n",
      "8/8 [==============================] - 0s 10ms/step - loss: 0.0134 - root_mean_squared_error: 0.1157 - val_loss: 0.0109 - val_root_mean_squared_error: 0.1046\n",
      "Epoch 814/2500\n",
      "8/8 [==============================] - 0s 9ms/step - loss: 0.0135 - root_mean_squared_error: 0.1161 - val_loss: 0.0110 - val_root_mean_squared_error: 0.1047\n",
      "Epoch 815/2500\n",
      "8/8 [==============================] - 0s 7ms/step - loss: 0.0140 - root_mean_squared_error: 0.1182 - val_loss: 0.0132 - val_root_mean_squared_error: 0.1149\n",
      "Epoch 816/2500\n",
      "8/8 [==============================] - 0s 9ms/step - loss: 0.0132 - root_mean_squared_error: 0.1147 - val_loss: 0.0127 - val_root_mean_squared_error: 0.1128\n",
      "Epoch 817/2500\n",
      "8/8 [==============================] - 0s 10ms/step - loss: 0.0153 - root_mean_squared_error: 0.1237 - val_loss: 0.0134 - val_root_mean_squared_error: 0.1159\n",
      "Epoch 818/2500\n",
      "8/8 [==============================] - 0s 10ms/step - loss: 0.0140 - root_mean_squared_error: 0.1181 - val_loss: 0.0112 - val_root_mean_squared_error: 0.1058\n",
      "Epoch 819/2500\n",
      "8/8 [==============================] - 0s 9ms/step - loss: 0.0130 - root_mean_squared_error: 0.1140 - val_loss: 0.0125 - val_root_mean_squared_error: 0.1117\n",
      "Epoch 820/2500\n",
      "8/8 [==============================] - 0s 10ms/step - loss: 0.0133 - root_mean_squared_error: 0.1155 - val_loss: 0.0117 - val_root_mean_squared_error: 0.1080\n",
      "Epoch 821/2500\n",
      "8/8 [==============================] - 0s 8ms/step - loss: 0.0133 - root_mean_squared_error: 0.1153 - val_loss: 0.0109 - val_root_mean_squared_error: 0.1044\n",
      "Epoch 822/2500\n",
      "8/8 [==============================] - 0s 10ms/step - loss: 0.0133 - root_mean_squared_error: 0.1153 - val_loss: 0.0108 - val_root_mean_squared_error: 0.1041\n",
      "Epoch 823/2500\n",
      "8/8 [==============================] - 0s 8ms/step - loss: 0.0131 - root_mean_squared_error: 0.1143 - val_loss: 0.0110 - val_root_mean_squared_error: 0.1046\n",
      "Epoch 824/2500\n",
      "8/8 [==============================] - 0s 9ms/step - loss: 0.0131 - root_mean_squared_error: 0.1143 - val_loss: 0.0112 - val_root_mean_squared_error: 0.1059\n",
      "Epoch 825/2500\n",
      "8/8 [==============================] - 0s 12ms/step - loss: 0.0138 - root_mean_squared_error: 0.1174 - val_loss: 0.0157 - val_root_mean_squared_error: 0.1252\n",
      "Epoch 826/2500\n",
      "8/8 [==============================] - 0s 8ms/step - loss: 0.0141 - root_mean_squared_error: 0.1189 - val_loss: 0.0119 - val_root_mean_squared_error: 0.1092\n",
      "Epoch 827/2500\n",
      "8/8 [==============================] - 0s 9ms/step - loss: 0.0130 - root_mean_squared_error: 0.1141 - val_loss: 0.0106 - val_root_mean_squared_error: 0.1029\n",
      "Epoch 828/2500\n",
      "8/8 [==============================] - 0s 11ms/step - loss: 0.0135 - root_mean_squared_error: 0.1162 - val_loss: 0.0107 - val_root_mean_squared_error: 0.1032\n",
      "Epoch 829/2500\n",
      "8/8 [==============================] - 0s 9ms/step - loss: 0.0131 - root_mean_squared_error: 0.1142 - val_loss: 0.0109 - val_root_mean_squared_error: 0.1043\n",
      "Epoch 830/2500\n",
      "8/8 [==============================] - 0s 9ms/step - loss: 0.0131 - root_mean_squared_error: 0.1143 - val_loss: 0.0114 - val_root_mean_squared_error: 0.1067\n",
      "Epoch 831/2500\n",
      "8/8 [==============================] - 0s 9ms/step - loss: 0.0133 - root_mean_squared_error: 0.1154 - val_loss: 0.0111 - val_root_mean_squared_error: 0.1052\n",
      "Epoch 832/2500\n",
      "8/8 [==============================] - 0s 10ms/step - loss: 0.0133 - root_mean_squared_error: 0.1152 - val_loss: 0.0110 - val_root_mean_squared_error: 0.1048\n",
      "Epoch 833/2500\n",
      "8/8 [==============================] - 0s 9ms/step - loss: 0.0131 - root_mean_squared_error: 0.1146 - val_loss: 0.0117 - val_root_mean_squared_error: 0.1084\n",
      "Epoch 834/2500\n",
      "8/8 [==============================] - 0s 8ms/step - loss: 0.0132 - root_mean_squared_error: 0.1148 - val_loss: 0.0117 - val_root_mean_squared_error: 0.1079\n",
      "Epoch 835/2500\n",
      "8/8 [==============================] - 0s 10ms/step - loss: 0.0134 - root_mean_squared_error: 0.1157 - val_loss: 0.0136 - val_root_mean_squared_error: 0.1166\n",
      "Epoch 836/2500\n",
      "8/8 [==============================] - 0s 9ms/step - loss: 0.0134 - root_mean_squared_error: 0.1157 - val_loss: 0.0113 - val_root_mean_squared_error: 0.1061\n",
      "Epoch 837/2500\n",
      "8/8 [==============================] - 0s 8ms/step - loss: 0.0130 - root_mean_squared_error: 0.1142 - val_loss: 0.0106 - val_root_mean_squared_error: 0.1031\n",
      "Epoch 838/2500\n",
      "8/8 [==============================] - 0s 10ms/step - loss: 0.0134 - root_mean_squared_error: 0.1156 - val_loss: 0.0108 - val_root_mean_squared_error: 0.1041\n",
      "Epoch 839/2500\n",
      "8/8 [==============================] - 0s 7ms/step - loss: 0.0136 - root_mean_squared_error: 0.1165 - val_loss: 0.0148 - val_root_mean_squared_error: 0.1217\n",
      "Epoch 840/2500\n",
      "8/8 [==============================] - 0s 10ms/step - loss: 0.0138 - root_mean_squared_error: 0.1175 - val_loss: 0.0121 - val_root_mean_squared_error: 0.1099\n",
      "Epoch 841/2500\n",
      "8/8 [==============================] - 0s 9ms/step - loss: 0.0135 - root_mean_squared_error: 0.1162 - val_loss: 0.0120 - val_root_mean_squared_error: 0.1093\n",
      "Epoch 842/2500\n",
      "8/8 [==============================] - 0s 9ms/step - loss: 0.0130 - root_mean_squared_error: 0.1142 - val_loss: 0.0106 - val_root_mean_squared_error: 0.1031\n",
      "Epoch 843/2500\n",
      "8/8 [==============================] - 0s 10ms/step - loss: 0.0142 - root_mean_squared_error: 0.1191 - val_loss: 0.0148 - val_root_mean_squared_error: 0.1218\n",
      "Epoch 844/2500\n",
      "8/8 [==============================] - 0s 10ms/step - loss: 0.0151 - root_mean_squared_error: 0.1230 - val_loss: 0.0117 - val_root_mean_squared_error: 0.1080\n",
      "Epoch 845/2500\n",
      "8/8 [==============================] - 0s 10ms/step - loss: 0.0129 - root_mean_squared_error: 0.1134 - val_loss: 0.0142 - val_root_mean_squared_error: 0.1190\n",
      "Epoch 846/2500\n",
      "8/8 [==============================] - 0s 9ms/step - loss: 0.0143 - root_mean_squared_error: 0.1196 - val_loss: 0.0176 - val_root_mean_squared_error: 0.1328\n",
      "Epoch 847/2500\n",
      "8/8 [==============================] - 0s 9ms/step - loss: 0.0171 - root_mean_squared_error: 0.1307 - val_loss: 0.0119 - val_root_mean_squared_error: 0.1089\n",
      "Epoch 848/2500\n",
      "8/8 [==============================] - 0s 10ms/step - loss: 0.0160 - root_mean_squared_error: 0.1266 - val_loss: 0.0111 - val_root_mean_squared_error: 0.1053\n",
      "Epoch 849/2500\n",
      "8/8 [==============================] - 0s 9ms/step - loss: 0.0136 - root_mean_squared_error: 0.1167 - val_loss: 0.0109 - val_root_mean_squared_error: 0.1045\n",
      "Epoch 850/2500\n",
      "8/8 [==============================] - 0s 8ms/step - loss: 0.0133 - root_mean_squared_error: 0.1152 - val_loss: 0.0109 - val_root_mean_squared_error: 0.1042\n",
      "Epoch 851/2500\n",
      "8/8 [==============================] - 0s 9ms/step - loss: 0.0139 - root_mean_squared_error: 0.1180 - val_loss: 0.0143 - val_root_mean_squared_error: 0.1197\n",
      "Epoch 852/2500\n",
      "8/8 [==============================] - 0s 10ms/step - loss: 0.0152 - root_mean_squared_error: 0.1233 - val_loss: 0.0112 - val_root_mean_squared_error: 0.1057\n",
      "Epoch 853/2500\n",
      "8/8 [==============================] - 0s 10ms/step - loss: 0.0131 - root_mean_squared_error: 0.1143 - val_loss: 0.0115 - val_root_mean_squared_error: 0.1071\n",
      "Epoch 854/2500\n",
      "8/8 [==============================] - 0s 9ms/step - loss: 0.0132 - root_mean_squared_error: 0.1147 - val_loss: 0.0134 - val_root_mean_squared_error: 0.1159\n",
      "Epoch 855/2500\n",
      "8/8 [==============================] - 0s 10ms/step - loss: 0.0141 - root_mean_squared_error: 0.1186 - val_loss: 0.0171 - val_root_mean_squared_error: 0.1307\n",
      "Epoch 856/2500\n",
      "8/8 [==============================] - 0s 8ms/step - loss: 0.0138 - root_mean_squared_error: 0.1173 - val_loss: 0.0128 - val_root_mean_squared_error: 0.1130\n",
      "Epoch 857/2500\n",
      "8/8 [==============================] - 0s 10ms/step - loss: 0.0131 - root_mean_squared_error: 0.1146 - val_loss: 0.0116 - val_root_mean_squared_error: 0.1079\n",
      "Epoch 858/2500\n"
     ]
    },
    {
     "name": "stdout",
     "output_type": "stream",
     "text": [
      "8/8 [==============================] - 0s 11ms/step - loss: 0.0137 - root_mean_squared_error: 0.1169 - val_loss: 0.0116 - val_root_mean_squared_error: 0.1076\n",
      "Epoch 859/2500\n",
      "8/8 [==============================] - 0s 10ms/step - loss: 0.0132 - root_mean_squared_error: 0.1151 - val_loss: 0.0125 - val_root_mean_squared_error: 0.1118\n",
      "Epoch 860/2500\n",
      "8/8 [==============================] - 0s 8ms/step - loss: 0.0134 - root_mean_squared_error: 0.1159 - val_loss: 0.0152 - val_root_mean_squared_error: 0.1234\n",
      "Epoch 861/2500\n",
      "8/8 [==============================] - 0s 10ms/step - loss: 0.0137 - root_mean_squared_error: 0.1171 - val_loss: 0.0151 - val_root_mean_squared_error: 0.1227\n",
      "Epoch 862/2500\n",
      "8/8 [==============================] - 0s 10ms/step - loss: 0.0131 - root_mean_squared_error: 0.1146 - val_loss: 0.0126 - val_root_mean_squared_error: 0.1121\n",
      "Epoch 863/2500\n",
      "8/8 [==============================] - 0s 8ms/step - loss: 0.0134 - root_mean_squared_error: 0.1159 - val_loss: 0.0150 - val_root_mean_squared_error: 0.1226\n",
      "Epoch 864/2500\n",
      "8/8 [==============================] - 0s 10ms/step - loss: 0.0133 - root_mean_squared_error: 0.1153 - val_loss: 0.0124 - val_root_mean_squared_error: 0.1115\n",
      "Epoch 865/2500\n",
      "8/8 [==============================] - 0s 10ms/step - loss: 0.0130 - root_mean_squared_error: 0.1139 - val_loss: 0.0116 - val_root_mean_squared_error: 0.1075\n",
      "Epoch 866/2500\n",
      "8/8 [==============================] - 0s 10ms/step - loss: 0.0130 - root_mean_squared_error: 0.1140 - val_loss: 0.0115 - val_root_mean_squared_error: 0.1072\n",
      "Epoch 867/2500\n",
      "8/8 [==============================] - 0s 9ms/step - loss: 0.0128 - root_mean_squared_error: 0.1133 - val_loss: 0.0118 - val_root_mean_squared_error: 0.1087\n",
      "Epoch 868/2500\n",
      "8/8 [==============================] - 0s 8ms/step - loss: 0.0129 - root_mean_squared_error: 0.1134 - val_loss: 0.0121 - val_root_mean_squared_error: 0.1100\n",
      "Epoch 869/2500\n",
      "8/8 [==============================] - 0s 11ms/step - loss: 0.0130 - root_mean_squared_error: 0.1142 - val_loss: 0.0115 - val_root_mean_squared_error: 0.1070\n",
      "Epoch 870/2500\n",
      "8/8 [==============================] - 0s 10ms/step - loss: 0.0140 - root_mean_squared_error: 0.1184 - val_loss: 0.0116 - val_root_mean_squared_error: 0.1079\n",
      "Epoch 871/2500\n",
      "8/8 [==============================] - 0s 9ms/step - loss: 0.0135 - root_mean_squared_error: 0.1164 - val_loss: 0.0113 - val_root_mean_squared_error: 0.1062\n",
      "Epoch 872/2500\n",
      "8/8 [==============================] - 0s 9ms/step - loss: 0.0132 - root_mean_squared_error: 0.1151 - val_loss: 0.0129 - val_root_mean_squared_error: 0.1135\n",
      "Epoch 873/2500\n",
      "8/8 [==============================] - 0s 10ms/step - loss: 0.0130 - root_mean_squared_error: 0.1139 - val_loss: 0.0118 - val_root_mean_squared_error: 0.1088\n",
      "Epoch 874/2500\n",
      "8/8 [==============================] - 0s 10ms/step - loss: 0.0130 - root_mean_squared_error: 0.1138 - val_loss: 0.0112 - val_root_mean_squared_error: 0.1057\n",
      "Epoch 875/2500\n",
      "8/8 [==============================] - 0s 7ms/step - loss: 0.0129 - root_mean_squared_error: 0.1136 - val_loss: 0.0114 - val_root_mean_squared_error: 0.1070\n",
      "Epoch 876/2500\n",
      "8/8 [==============================] - 0s 10ms/step - loss: 0.0130 - root_mean_squared_error: 0.1140 - val_loss: 0.0111 - val_root_mean_squared_error: 0.1054\n",
      "Epoch 877/2500\n",
      "8/8 [==============================] - 0s 9ms/step - loss: 0.0131 - root_mean_squared_error: 0.1144 - val_loss: 0.0114 - val_root_mean_squared_error: 0.1069\n",
      "Epoch 878/2500\n",
      "8/8 [==============================] - 0s 8ms/step - loss: 0.0132 - root_mean_squared_error: 0.1147 - val_loss: 0.0114 - val_root_mean_squared_error: 0.1068\n",
      "Epoch 879/2500\n",
      "8/8 [==============================] - 0s 9ms/step - loss: 0.0131 - root_mean_squared_error: 0.1145 - val_loss: 0.0126 - val_root_mean_squared_error: 0.1125\n",
      "Epoch 880/2500\n",
      "8/8 [==============================] - 0s 8ms/step - loss: 0.0133 - root_mean_squared_error: 0.1152 - val_loss: 0.0112 - val_root_mean_squared_error: 0.1059\n",
      "Epoch 881/2500\n",
      "8/8 [==============================] - 0s 9ms/step - loss: 0.0138 - root_mean_squared_error: 0.1177 - val_loss: 0.0116 - val_root_mean_squared_error: 0.1075\n",
      "Epoch 882/2500\n",
      "8/8 [==============================] - 0s 8ms/step - loss: 0.0133 - root_mean_squared_error: 0.1152 - val_loss: 0.0110 - val_root_mean_squared_error: 0.1048\n",
      "Epoch 883/2500\n",
      "8/8 [==============================] - 0s 9ms/step - loss: 0.0135 - root_mean_squared_error: 0.1163 - val_loss: 0.0115 - val_root_mean_squared_error: 0.1070\n",
      "Epoch 884/2500\n",
      "8/8 [==============================] - 0s 10ms/step - loss: 0.0132 - root_mean_squared_error: 0.1147 - val_loss: 0.0122 - val_root_mean_squared_error: 0.1106\n",
      "Epoch 885/2500\n",
      "8/8 [==============================] - 0s 9ms/step - loss: 0.0164 - root_mean_squared_error: 0.1282 - val_loss: 0.0109 - val_root_mean_squared_error: 0.1046\n",
      "Epoch 886/2500\n",
      "8/8 [==============================] - 0s 8ms/step - loss: 0.0145 - root_mean_squared_error: 0.1205 - val_loss: 0.0117 - val_root_mean_squared_error: 0.1082\n",
      "Epoch 887/2500\n",
      "8/8 [==============================] - 0s 8ms/step - loss: 0.0135 - root_mean_squared_error: 0.1161 - val_loss: 0.0123 - val_root_mean_squared_error: 0.1111\n",
      "Epoch 888/2500\n",
      "8/8 [==============================] - 0s 9ms/step - loss: 0.0134 - root_mean_squared_error: 0.1156 - val_loss: 0.0117 - val_root_mean_squared_error: 0.1080\n",
      "Epoch 889/2500\n",
      "8/8 [==============================] - 0s 8ms/step - loss: 0.0132 - root_mean_squared_error: 0.1150 - val_loss: 0.0123 - val_root_mean_squared_error: 0.1108\n",
      "Epoch 890/2500\n",
      "8/8 [==============================] - 0s 10ms/step - loss: 0.0129 - root_mean_squared_error: 0.1138 - val_loss: 0.0115 - val_root_mean_squared_error: 0.1071\n",
      "Epoch 891/2500\n",
      "8/8 [==============================] - 0s 10ms/step - loss: 0.0129 - root_mean_squared_error: 0.1135 - val_loss: 0.0108 - val_root_mean_squared_error: 0.1041\n",
      "Epoch 892/2500\n",
      "8/8 [==============================] - 0s 10ms/step - loss: 0.0130 - root_mean_squared_error: 0.1139 - val_loss: 0.0106 - val_root_mean_squared_error: 0.1031\n",
      "Epoch 893/2500\n",
      "8/8 [==============================] - 0s 10ms/step - loss: 0.0129 - root_mean_squared_error: 0.1135 - val_loss: 0.0106 - val_root_mean_squared_error: 0.1031\n",
      "Epoch 894/2500\n",
      "8/8 [==============================] - 0s 10ms/step - loss: 0.0129 - root_mean_squared_error: 0.1137 - val_loss: 0.0108 - val_root_mean_squared_error: 0.1037\n",
      "Epoch 895/2500\n",
      "8/8 [==============================] - 0s 10ms/step - loss: 0.0132 - root_mean_squared_error: 0.1147 - val_loss: 0.0109 - val_root_mean_squared_error: 0.1044\n",
      "Epoch 896/2500\n",
      "8/8 [==============================] - 0s 9ms/step - loss: 0.0129 - root_mean_squared_error: 0.1134 - val_loss: 0.0116 - val_root_mean_squared_error: 0.1079\n",
      "Epoch 897/2500\n",
      "8/8 [==============================] - 0s 10ms/step - loss: 0.0131 - root_mean_squared_error: 0.1145 - val_loss: 0.0130 - val_root_mean_squared_error: 0.1138\n",
      "Epoch 898/2500\n",
      "8/8 [==============================] - 0s 10ms/step - loss: 0.0134 - root_mean_squared_error: 0.1159 - val_loss: 0.0120 - val_root_mean_squared_error: 0.1096\n",
      "Epoch 899/2500\n",
      "8/8 [==============================] - 0s 10ms/step - loss: 0.0130 - root_mean_squared_error: 0.1139 - val_loss: 0.0115 - val_root_mean_squared_error: 0.1071\n",
      "Epoch 900/2500\n",
      "8/8 [==============================] - 0s 11ms/step - loss: 0.0128 - root_mean_squared_error: 0.1131 - val_loss: 0.0122 - val_root_mean_squared_error: 0.1104\n",
      "Epoch 901/2500\n",
      "8/8 [==============================] - 0s 12ms/step - loss: 0.0128 - root_mean_squared_error: 0.1133 - val_loss: 0.0119 - val_root_mean_squared_error: 0.1093\n",
      "Epoch 902/2500\n",
      "8/8 [==============================] - 0s 10ms/step - loss: 0.0130 - root_mean_squared_error: 0.1138 - val_loss: 0.0112 - val_root_mean_squared_error: 0.1058\n",
      "Epoch 903/2500\n",
      "8/8 [==============================] - 0s 9ms/step - loss: 0.0129 - root_mean_squared_error: 0.1135 - val_loss: 0.0110 - val_root_mean_squared_error: 0.1048\n",
      "Epoch 904/2500\n",
      "8/8 [==============================] - 0s 9ms/step - loss: 0.0131 - root_mean_squared_error: 0.1146 - val_loss: 0.0113 - val_root_mean_squared_error: 0.1064\n",
      "Epoch 905/2500\n",
      "8/8 [==============================] - 0s 13ms/step - loss: 0.0156 - root_mean_squared_error: 0.1247 - val_loss: 0.0121 - val_root_mean_squared_error: 0.1098\n",
      "Epoch 906/2500\n",
      "8/8 [==============================] - 0s 9ms/step - loss: 0.0170 - root_mean_squared_error: 0.1304 - val_loss: 0.0115 - val_root_mean_squared_error: 0.1070\n",
      "Epoch 907/2500\n",
      "8/8 [==============================] - 0s 10ms/step - loss: 0.0132 - root_mean_squared_error: 0.1151 - val_loss: 0.0126 - val_root_mean_squared_error: 0.1121\n",
      "Epoch 908/2500\n",
      "8/8 [==============================] - 0s 8ms/step - loss: 0.0137 - root_mean_squared_error: 0.1169 - val_loss: 0.0138 - val_root_mean_squared_error: 0.1177\n",
      "Epoch 909/2500\n",
      "8/8 [==============================] - 0s 7ms/step - loss: 0.0131 - root_mean_squared_error: 0.1144 - val_loss: 0.0113 - val_root_mean_squared_error: 0.1064\n",
      "Epoch 910/2500\n",
      "8/8 [==============================] - 0s 8ms/step - loss: 0.0128 - root_mean_squared_error: 0.1132 - val_loss: 0.0108 - val_root_mean_squared_error: 0.1041\n",
      "Epoch 911/2500\n",
      "8/8 [==============================] - 0s 10ms/step - loss: 0.0128 - root_mean_squared_error: 0.1129 - val_loss: 0.0112 - val_root_mean_squared_error: 0.1059\n",
      "Epoch 912/2500\n",
      "8/8 [==============================] - 0s 8ms/step - loss: 0.0137 - root_mean_squared_error: 0.1171 - val_loss: 0.0121 - val_root_mean_squared_error: 0.1099\n",
      "Epoch 913/2500\n",
      "8/8 [==============================] - 0s 9ms/step - loss: 0.0131 - root_mean_squared_error: 0.1144 - val_loss: 0.0111 - val_root_mean_squared_error: 0.1055\n",
      "Epoch 914/2500\n",
      "8/8 [==============================] - 0s 9ms/step - loss: 0.0133 - root_mean_squared_error: 0.1154 - val_loss: 0.0116 - val_root_mean_squared_error: 0.1076\n",
      "Epoch 915/2500\n",
      "8/8 [==============================] - 0s 8ms/step - loss: 0.0140 - root_mean_squared_error: 0.1181 - val_loss: 0.0114 - val_root_mean_squared_error: 0.1066\n",
      "Epoch 916/2500\n",
      "8/8 [==============================] - 0s 8ms/step - loss: 0.0132 - root_mean_squared_error: 0.1150 - val_loss: 0.0177 - val_root_mean_squared_error: 0.1332\n",
      "Epoch 917/2500\n",
      "8/8 [==============================] - 0s 9ms/step - loss: 0.0139 - root_mean_squared_error: 0.1181 - val_loss: 0.0136 - val_root_mean_squared_error: 0.1166\n",
      "Epoch 918/2500\n",
      "8/8 [==============================] - 0s 8ms/step - loss: 0.0141 - root_mean_squared_error: 0.1188 - val_loss: 0.0112 - val_root_mean_squared_error: 0.1057\n",
      "Epoch 919/2500\n",
      "8/8 [==============================] - 0s 10ms/step - loss: 0.0154 - root_mean_squared_error: 0.1243 - val_loss: 0.0117 - val_root_mean_squared_error: 0.1082\n",
      "Epoch 920/2500\n",
      "8/8 [==============================] - 0s 10ms/step - loss: 0.0134 - root_mean_squared_error: 0.1157 - val_loss: 0.0117 - val_root_mean_squared_error: 0.1082\n",
      "Epoch 921/2500\n",
      "8/8 [==============================] - 0s 10ms/step - loss: 0.0147 - root_mean_squared_error: 0.1214 - val_loss: 0.0121 - val_root_mean_squared_error: 0.1099\n",
      "Epoch 922/2500\n",
      "8/8 [==============================] - 0s 9ms/step - loss: 0.0136 - root_mean_squared_error: 0.1165 - val_loss: 0.0117 - val_root_mean_squared_error: 0.1082\n",
      "Epoch 923/2500\n",
      "8/8 [==============================] - 0s 9ms/step - loss: 0.0129 - root_mean_squared_error: 0.1137 - val_loss: 0.0129 - val_root_mean_squared_error: 0.1137\n",
      "Epoch 924/2500\n",
      "8/8 [==============================] - 0s 9ms/step - loss: 0.0129 - root_mean_squared_error: 0.1135 - val_loss: 0.0118 - val_root_mean_squared_error: 0.1087\n",
      "Epoch 925/2500\n",
      "8/8 [==============================] - 0s 12ms/step - loss: 0.0131 - root_mean_squared_error: 0.1146 - val_loss: 0.0114 - val_root_mean_squared_error: 0.1068\n",
      "Epoch 926/2500\n",
      "8/8 [==============================] - 0s 11ms/step - loss: 0.0129 - root_mean_squared_error: 0.1137 - val_loss: 0.0111 - val_root_mean_squared_error: 0.1055\n",
      "Epoch 927/2500\n",
      "8/8 [==============================] - 0s 10ms/step - loss: 0.0128 - root_mean_squared_error: 0.1130 - val_loss: 0.0111 - val_root_mean_squared_error: 0.1055\n",
      "Epoch 928/2500\n",
      "8/8 [==============================] - 0s 10ms/step - loss: 0.0135 - root_mean_squared_error: 0.1162 - val_loss: 0.0114 - val_root_mean_squared_error: 0.1065\n",
      "Epoch 929/2500\n",
      "8/8 [==============================] - 0s 8ms/step - loss: 0.0129 - root_mean_squared_error: 0.1137 - val_loss: 0.0116 - val_root_mean_squared_error: 0.1079\n",
      "Epoch 930/2500\n",
      "8/8 [==============================] - 0s 9ms/step - loss: 0.0128 - root_mean_squared_error: 0.1132 - val_loss: 0.0120 - val_root_mean_squared_error: 0.1096\n",
      "Epoch 931/2500\n",
      "8/8 [==============================] - 0s 10ms/step - loss: 0.0125 - root_mean_squared_error: 0.1120 - val_loss: 0.0108 - val_root_mean_squared_error: 0.1039\n",
      "Epoch 932/2500\n",
      "8/8 [==============================] - 0s 11ms/step - loss: 0.0126 - root_mean_squared_error: 0.1124 - val_loss: 0.0113 - val_root_mean_squared_error: 0.1061\n",
      "Epoch 933/2500\n",
      "8/8 [==============================] - 0s 9ms/step - loss: 0.0126 - root_mean_squared_error: 0.1123 - val_loss: 0.0117 - val_root_mean_squared_error: 0.1084\n",
      "Epoch 934/2500\n",
      "8/8 [==============================] - 0s 10ms/step - loss: 0.0128 - root_mean_squared_error: 0.1132 - val_loss: 0.0115 - val_root_mean_squared_error: 0.1070\n",
      "Epoch 935/2500\n",
      "8/8 [==============================] - 0s 10ms/step - loss: 0.0127 - root_mean_squared_error: 0.1127 - val_loss: 0.0109 - val_root_mean_squared_error: 0.1045\n",
      "Epoch 936/2500\n",
      "8/8 [==============================] - 0s 9ms/step - loss: 0.0127 - root_mean_squared_error: 0.1127 - val_loss: 0.0110 - val_root_mean_squared_error: 0.1047\n",
      "Epoch 937/2500\n",
      "8/8 [==============================] - 0s 10ms/step - loss: 0.0126 - root_mean_squared_error: 0.1124 - val_loss: 0.0115 - val_root_mean_squared_error: 0.1071\n",
      "Epoch 938/2500\n",
      "8/8 [==============================] - 0s 10ms/step - loss: 0.0127 - root_mean_squared_error: 0.1128 - val_loss: 0.0115 - val_root_mean_squared_error: 0.1073\n",
      "Epoch 939/2500\n",
      "8/8 [==============================] - 0s 10ms/step - loss: 0.0125 - root_mean_squared_error: 0.1119 - val_loss: 0.0110 - val_root_mean_squared_error: 0.1051\n",
      "Epoch 940/2500\n",
      "8/8 [==============================] - 0s 9ms/step - loss: 0.0136 - root_mean_squared_error: 0.1168 - val_loss: 0.0111 - val_root_mean_squared_error: 0.1055\n",
      "Epoch 941/2500\n",
      "8/8 [==============================] - 0s 7ms/step - loss: 0.0132 - root_mean_squared_error: 0.1149 - val_loss: 0.0117 - val_root_mean_squared_error: 0.1080\n",
      "Epoch 942/2500\n",
      "8/8 [==============================] - 0s 9ms/step - loss: 0.0127 - root_mean_squared_error: 0.1128 - val_loss: 0.0125 - val_root_mean_squared_error: 0.1120\n",
      "Epoch 943/2500\n",
      "8/8 [==============================] - 0s 9ms/step - loss: 0.0139 - root_mean_squared_error: 0.1179 - val_loss: 0.0174 - val_root_mean_squared_error: 0.1320\n",
      "Epoch 944/2500\n",
      "8/8 [==============================] - 0s 11ms/step - loss: 0.0134 - root_mean_squared_error: 0.1158 - val_loss: 0.0128 - val_root_mean_squared_error: 0.1130\n",
      "Epoch 945/2500\n",
      "8/8 [==============================] - 0s 10ms/step - loss: 0.0132 - root_mean_squared_error: 0.1148 - val_loss: 0.0121 - val_root_mean_squared_error: 0.1101\n",
      "Epoch 946/2500\n",
      "8/8 [==============================] - 0s 10ms/step - loss: 0.0131 - root_mean_squared_error: 0.1146 - val_loss: 0.0121 - val_root_mean_squared_error: 0.1101\n",
      "Epoch 947/2500\n",
      "8/8 [==============================] - 0s 7ms/step - loss: 0.0133 - root_mean_squared_error: 0.1151 - val_loss: 0.0129 - val_root_mean_squared_error: 0.1136\n",
      "Epoch 948/2500\n",
      "8/8 [==============================] - 0s 8ms/step - loss: 0.0129 - root_mean_squared_error: 0.1137 - val_loss: 0.0126 - val_root_mean_squared_error: 0.1121\n",
      "Epoch 949/2500\n",
      "8/8 [==============================] - 0s 8ms/step - loss: 0.0131 - root_mean_squared_error: 0.1146 - val_loss: 0.0119 - val_root_mean_squared_error: 0.1092\n",
      "Epoch 950/2500\n",
      "8/8 [==============================] - 0s 8ms/step - loss: 0.0128 - root_mean_squared_error: 0.1133 - val_loss: 0.0116 - val_root_mean_squared_error: 0.1075\n",
      "Epoch 951/2500\n",
      "8/8 [==============================] - 0s 10ms/step - loss: 0.0132 - root_mean_squared_error: 0.1149 - val_loss: 0.0115 - val_root_mean_squared_error: 0.1072\n",
      "Epoch 952/2500\n"
     ]
    },
    {
     "name": "stdout",
     "output_type": "stream",
     "text": [
      "8/8 [==============================] - 0s 7ms/step - loss: 0.0134 - root_mean_squared_error: 0.1157 - val_loss: 0.0122 - val_root_mean_squared_error: 0.1105\n",
      "Epoch 953/2500\n",
      "8/8 [==============================] - 0s 8ms/step - loss: 0.0141 - root_mean_squared_error: 0.1186 - val_loss: 0.0121 - val_root_mean_squared_error: 0.1102\n",
      "Epoch 954/2500\n",
      "8/8 [==============================] - 0s 10ms/step - loss: 0.0123 - root_mean_squared_error: 0.1110 - val_loss: 0.0118 - val_root_mean_squared_error: 0.1088\n",
      "Epoch 955/2500\n",
      "8/8 [==============================] - 0s 9ms/step - loss: 0.0132 - root_mean_squared_error: 0.1151 - val_loss: 0.0115 - val_root_mean_squared_error: 0.1074\n",
      "Epoch 956/2500\n",
      "8/8 [==============================] - 0s 9ms/step - loss: 0.0129 - root_mean_squared_error: 0.1137 - val_loss: 0.0113 - val_root_mean_squared_error: 0.1063\n",
      "Epoch 957/2500\n",
      "8/8 [==============================] - 0s 7ms/step - loss: 0.0128 - root_mean_squared_error: 0.1130 - val_loss: 0.0114 - val_root_mean_squared_error: 0.1069\n",
      "Epoch 958/2500\n",
      "8/8 [==============================] - 0s 8ms/step - loss: 0.0130 - root_mean_squared_error: 0.1141 - val_loss: 0.0118 - val_root_mean_squared_error: 0.1088\n",
      "Epoch 959/2500\n",
      "8/8 [==============================] - 0s 7ms/step - loss: 0.0131 - root_mean_squared_error: 0.1144 - val_loss: 0.0114 - val_root_mean_squared_error: 0.1068\n",
      "Epoch 960/2500\n",
      "8/8 [==============================] - 0s 8ms/step - loss: 0.0128 - root_mean_squared_error: 0.1133 - val_loss: 0.0114 - val_root_mean_squared_error: 0.1066\n",
      "Epoch 961/2500\n",
      "8/8 [==============================] - 0s 8ms/step - loss: 0.0125 - root_mean_squared_error: 0.1118 - val_loss: 0.0119 - val_root_mean_squared_error: 0.1093\n",
      "Epoch 962/2500\n",
      "8/8 [==============================] - 0s 9ms/step - loss: 0.0125 - root_mean_squared_error: 0.1119 - val_loss: 0.0122 - val_root_mean_squared_error: 0.1106\n",
      "Epoch 963/2500\n",
      "8/8 [==============================] - 0s 10ms/step - loss: 0.0126 - root_mean_squared_error: 0.1122 - val_loss: 0.0118 - val_root_mean_squared_error: 0.1088\n",
      "Epoch 964/2500\n",
      "8/8 [==============================] - 0s 9ms/step - loss: 0.0125 - root_mean_squared_error: 0.1119 - val_loss: 0.0114 - val_root_mean_squared_error: 0.1066\n",
      "Epoch 965/2500\n",
      "8/8 [==============================] - 0s 8ms/step - loss: 0.0125 - root_mean_squared_error: 0.1117 - val_loss: 0.0117 - val_root_mean_squared_error: 0.1080\n",
      "Epoch 966/2500\n",
      "8/8 [==============================] - 0s 9ms/step - loss: 0.0125 - root_mean_squared_error: 0.1120 - val_loss: 0.0117 - val_root_mean_squared_error: 0.1080\n",
      "Epoch 967/2500\n",
      "8/8 [==============================] - 0s 8ms/step - loss: 0.0125 - root_mean_squared_error: 0.1119 - val_loss: 0.0118 - val_root_mean_squared_error: 0.1085\n",
      "Epoch 968/2500\n",
      "8/8 [==============================] - 0s 9ms/step - loss: 0.0130 - root_mean_squared_error: 0.1141 - val_loss: 0.0120 - val_root_mean_squared_error: 0.1097\n",
      "Epoch 969/2500\n",
      "8/8 [==============================] - 0s 8ms/step - loss: 0.0128 - root_mean_squared_error: 0.1132 - val_loss: 0.0109 - val_root_mean_squared_error: 0.1043\n",
      "Epoch 970/2500\n",
      "8/8 [==============================] - 0s 9ms/step - loss: 0.0129 - root_mean_squared_error: 0.1135 - val_loss: 0.0110 - val_root_mean_squared_error: 0.1050\n",
      "Epoch 971/2500\n",
      "8/8 [==============================] - 0s 8ms/step - loss: 0.0126 - root_mean_squared_error: 0.1125 - val_loss: 0.0117 - val_root_mean_squared_error: 0.1080\n",
      "Epoch 972/2500\n",
      "8/8 [==============================] - 0s 9ms/step - loss: 0.0128 - root_mean_squared_error: 0.1132 - val_loss: 0.0116 - val_root_mean_squared_error: 0.1079\n",
      "Epoch 973/2500\n",
      "8/8 [==============================] - 0s 9ms/step - loss: 0.0124 - root_mean_squared_error: 0.1115 - val_loss: 0.0113 - val_root_mean_squared_error: 0.1062\n",
      "Epoch 974/2500\n",
      "8/8 [==============================] - 0s 9ms/step - loss: 0.0129 - root_mean_squared_error: 0.1138 - val_loss: 0.0117 - val_root_mean_squared_error: 0.1080\n",
      "Epoch 975/2500\n",
      "8/8 [==============================] - 0s 9ms/step - loss: 0.0124 - root_mean_squared_error: 0.1115 - val_loss: 0.0117 - val_root_mean_squared_error: 0.1080\n",
      "Epoch 976/2500\n",
      "8/8 [==============================] - 0s 10ms/step - loss: 0.0130 - root_mean_squared_error: 0.1139 - val_loss: 0.0119 - val_root_mean_squared_error: 0.1093\n",
      "Epoch 977/2500\n",
      "8/8 [==============================] - 0s 8ms/step - loss: 0.0131 - root_mean_squared_error: 0.1143 - val_loss: 0.0119 - val_root_mean_squared_error: 0.1090\n",
      "Epoch 978/2500\n",
      "8/8 [==============================] - 0s 9ms/step - loss: 0.0126 - root_mean_squared_error: 0.1122 - val_loss: 0.0120 - val_root_mean_squared_error: 0.1097\n",
      "Epoch 979/2500\n",
      "8/8 [==============================] - 0s 8ms/step - loss: 0.0128 - root_mean_squared_error: 0.1131 - val_loss: 0.0118 - val_root_mean_squared_error: 0.1085\n",
      "Epoch 980/2500\n",
      "8/8 [==============================] - 0s 9ms/step - loss: 0.0129 - root_mean_squared_error: 0.1135 - val_loss: 0.0157 - val_root_mean_squared_error: 0.1253\n",
      "Epoch 981/2500\n",
      "8/8 [==============================] - 0s 10ms/step - loss: 0.0163 - root_mean_squared_error: 0.1277 - val_loss: 0.0275 - val_root_mean_squared_error: 0.1657\n",
      "Epoch 982/2500\n",
      "8/8 [==============================] - 0s 9ms/step - loss: 0.0152 - root_mean_squared_error: 0.1234 - val_loss: 0.0132 - val_root_mean_squared_error: 0.1149\n",
      "Epoch 983/2500\n",
      "8/8 [==============================] - 0s 10ms/step - loss: 0.0126 - root_mean_squared_error: 0.1123 - val_loss: 0.0115 - val_root_mean_squared_error: 0.1073\n",
      "Epoch 984/2500\n",
      "8/8 [==============================] - 0s 10ms/step - loss: 0.0135 - root_mean_squared_error: 0.1161 - val_loss: 0.0112 - val_root_mean_squared_error: 0.1061\n",
      "Epoch 985/2500\n",
      "8/8 [==============================] - 0s 10ms/step - loss: 0.0126 - root_mean_squared_error: 0.1124 - val_loss: 0.0125 - val_root_mean_squared_error: 0.1119\n",
      "Epoch 986/2500\n",
      "8/8 [==============================] - 0s 10ms/step - loss: 0.0132 - root_mean_squared_error: 0.1149 - val_loss: 0.0127 - val_root_mean_squared_error: 0.1128\n",
      "Epoch 987/2500\n",
      "8/8 [==============================] - 0s 9ms/step - loss: 0.0129 - root_mean_squared_error: 0.1136 - val_loss: 0.0116 - val_root_mean_squared_error: 0.1077\n",
      "Epoch 988/2500\n",
      "8/8 [==============================] - 0s 9ms/step - loss: 0.0124 - root_mean_squared_error: 0.1114 - val_loss: 0.0112 - val_root_mean_squared_error: 0.1057\n",
      "Epoch 989/2500\n",
      "8/8 [==============================] - 0s 10ms/step - loss: 0.0126 - root_mean_squared_error: 0.1124 - val_loss: 0.0116 - val_root_mean_squared_error: 0.1077\n",
      "Epoch 990/2500\n",
      "8/8 [==============================] - 0s 10ms/step - loss: 0.0136 - root_mean_squared_error: 0.1167 - val_loss: 0.0116 - val_root_mean_squared_error: 0.1075\n",
      "Epoch 991/2500\n",
      "8/8 [==============================] - 0s 11ms/step - loss: 0.0127 - root_mean_squared_error: 0.1126 - val_loss: 0.0110 - val_root_mean_squared_error: 0.1050\n",
      "Epoch 992/2500\n",
      "8/8 [==============================] - 0s 10ms/step - loss: 0.0125 - root_mean_squared_error: 0.1119 - val_loss: 0.0128 - val_root_mean_squared_error: 0.1130\n",
      "Epoch 993/2500\n",
      "8/8 [==============================] - 0s 10ms/step - loss: 0.0130 - root_mean_squared_error: 0.1140 - val_loss: 0.0137 - val_root_mean_squared_error: 0.1170\n",
      "Epoch 994/2500\n",
      "8/8 [==============================] - 0s 10ms/step - loss: 0.0126 - root_mean_squared_error: 0.1124 - val_loss: 0.0116 - val_root_mean_squared_error: 0.1078\n",
      "Epoch 995/2500\n",
      "8/8 [==============================] - 0s 10ms/step - loss: 0.0126 - root_mean_squared_error: 0.1124 - val_loss: 0.0114 - val_root_mean_squared_error: 0.1067\n",
      "Epoch 996/2500\n",
      "8/8 [==============================] - 0s 10ms/step - loss: 0.0129 - root_mean_squared_error: 0.1137 - val_loss: 0.0113 - val_root_mean_squared_error: 0.1062\n",
      "Epoch 997/2500\n",
      "8/8 [==============================] - 0s 10ms/step - loss: 0.0143 - root_mean_squared_error: 0.1194 - val_loss: 0.0129 - val_root_mean_squared_error: 0.1136\n",
      "Epoch 998/2500\n",
      "8/8 [==============================] - 0s 10ms/step - loss: 0.0157 - root_mean_squared_error: 0.1255 - val_loss: 0.0127 - val_root_mean_squared_error: 0.1128\n",
      "Epoch 999/2500\n",
      "8/8 [==============================] - 0s 10ms/step - loss: 0.0129 - root_mean_squared_error: 0.1136 - val_loss: 0.0118 - val_root_mean_squared_error: 0.1088\n",
      "Epoch 1000/2500\n",
      "8/8 [==============================] - 0s 10ms/step - loss: 0.0128 - root_mean_squared_error: 0.1133 - val_loss: 0.0110 - val_root_mean_squared_error: 0.1049\n",
      "Epoch 1001/2500\n",
      "8/8 [==============================] - 0s 10ms/step - loss: 0.0126 - root_mean_squared_error: 0.1121 - val_loss: 0.0110 - val_root_mean_squared_error: 0.1047\n",
      "Epoch 1002/2500\n",
      "8/8 [==============================] - 0s 11ms/step - loss: 0.0128 - root_mean_squared_error: 0.1129 - val_loss: 0.0115 - val_root_mean_squared_error: 0.1073\n",
      "Epoch 1003/2500\n",
      "8/8 [==============================] - 0s 11ms/step - loss: 0.0125 - root_mean_squared_error: 0.1118 - val_loss: 0.0111 - val_root_mean_squared_error: 0.1056\n",
      "Epoch 1004/2500\n",
      "8/8 [==============================] - 0s 10ms/step - loss: 0.0128 - root_mean_squared_error: 0.1131 - val_loss: 0.0115 - val_root_mean_squared_error: 0.1073\n",
      "Epoch 1005/2500\n",
      "8/8 [==============================] - 0s 10ms/step - loss: 0.0130 - root_mean_squared_error: 0.1138 - val_loss: 0.0148 - val_root_mean_squared_error: 0.1215\n",
      "Epoch 1006/2500\n",
      "8/8 [==============================] - 0s 11ms/step - loss: 0.0130 - root_mean_squared_error: 0.1140 - val_loss: 0.0113 - val_root_mean_squared_error: 0.1061\n",
      "Epoch 1007/2500\n",
      "8/8 [==============================] - 0s 10ms/step - loss: 0.0127 - root_mean_squared_error: 0.1127 - val_loss: 0.0117 - val_root_mean_squared_error: 0.1082\n",
      "Epoch 1008/2500\n",
      "8/8 [==============================] - 0s 10ms/step - loss: 0.0131 - root_mean_squared_error: 0.1145 - val_loss: 0.0109 - val_root_mean_squared_error: 0.1043\n",
      "Epoch 1009/2500\n",
      "8/8 [==============================] - 0s 10ms/step - loss: 0.0126 - root_mean_squared_error: 0.1123 - val_loss: 0.0109 - val_root_mean_squared_error: 0.1044\n",
      "Epoch 1010/2500\n",
      "8/8 [==============================] - 0s 10ms/step - loss: 0.0125 - root_mean_squared_error: 0.1119 - val_loss: 0.0110 - val_root_mean_squared_error: 0.1047\n",
      "Epoch 1011/2500\n",
      "8/8 [==============================] - 0s 9ms/step - loss: 0.0125 - root_mean_squared_error: 0.1117 - val_loss: 0.0115 - val_root_mean_squared_error: 0.1072\n",
      "Epoch 1012/2500\n",
      "8/8 [==============================] - 0s 8ms/step - loss: 0.0130 - root_mean_squared_error: 0.1138 - val_loss: 0.0111 - val_root_mean_squared_error: 0.1055\n",
      "Epoch 1013/2500\n",
      "8/8 [==============================] - 0s 9ms/step - loss: 0.0125 - root_mean_squared_error: 0.1117 - val_loss: 0.0117 - val_root_mean_squared_error: 0.1084\n",
      "Epoch 1014/2500\n",
      "8/8 [==============================] - 0s 8ms/step - loss: 0.0124 - root_mean_squared_error: 0.1113 - val_loss: 0.0124 - val_root_mean_squared_error: 0.1114\n",
      "Epoch 1015/2500\n",
      "8/8 [==============================] - 0s 9ms/step - loss: 0.0127 - root_mean_squared_error: 0.1125 - val_loss: 0.0128 - val_root_mean_squared_error: 0.1133\n",
      "Epoch 1016/2500\n",
      "8/8 [==============================] - 0s 10ms/step - loss: 0.0130 - root_mean_squared_error: 0.1140 - val_loss: 0.0113 - val_root_mean_squared_error: 0.1065\n",
      "Epoch 1017/2500\n",
      "8/8 [==============================] - 0s 10ms/step - loss: 0.0141 - root_mean_squared_error: 0.1189 - val_loss: 0.0110 - val_root_mean_squared_error: 0.1048\n",
      "Epoch 1018/2500\n",
      "8/8 [==============================] - 0s 10ms/step - loss: 0.0125 - root_mean_squared_error: 0.1119 - val_loss: 0.0112 - val_root_mean_squared_error: 0.1058\n",
      "Epoch 1019/2500\n",
      "8/8 [==============================] - 0s 10ms/step - loss: 0.0129 - root_mean_squared_error: 0.1136 - val_loss: 0.0123 - val_root_mean_squared_error: 0.1108\n",
      "Epoch 1020/2500\n",
      "8/8 [==============================] - 0s 8ms/step - loss: 0.0129 - root_mean_squared_error: 0.1137 - val_loss: 0.0136 - val_root_mean_squared_error: 0.1166\n",
      "Epoch 1021/2500\n",
      "8/8 [==============================] - 0s 7ms/step - loss: 0.0126 - root_mean_squared_error: 0.1122 - val_loss: 0.0111 - val_root_mean_squared_error: 0.1052\n",
      "Epoch 1022/2500\n",
      "8/8 [==============================] - 0s 9ms/step - loss: 0.0123 - root_mean_squared_error: 0.1111 - val_loss: 0.0107 - val_root_mean_squared_error: 0.1037\n",
      "Epoch 1023/2500\n",
      "8/8 [==============================] - 0s 10ms/step - loss: 0.0125 - root_mean_squared_error: 0.1118 - val_loss: 0.0109 - val_root_mean_squared_error: 0.1043\n",
      "Epoch 1024/2500\n",
      "8/8 [==============================] - 0s 10ms/step - loss: 0.0123 - root_mean_squared_error: 0.1110 - val_loss: 0.0120 - val_root_mean_squared_error: 0.1094\n",
      "Epoch 1025/2500\n",
      "8/8 [==============================] - 0s 10ms/step - loss: 0.0128 - root_mean_squared_error: 0.1132 - val_loss: 0.0145 - val_root_mean_squared_error: 0.1206\n",
      "Epoch 1026/2500\n",
      "8/8 [==============================] - 0s 10ms/step - loss: 0.0129 - root_mean_squared_error: 0.1138 - val_loss: 0.0120 - val_root_mean_squared_error: 0.1095\n",
      "Epoch 1027/2500\n",
      "8/8 [==============================] - 0s 10ms/step - loss: 0.0125 - root_mean_squared_error: 0.1119 - val_loss: 0.0118 - val_root_mean_squared_error: 0.1087\n",
      "Epoch 1028/2500\n",
      "8/8 [==============================] - 0s 10ms/step - loss: 0.0124 - root_mean_squared_error: 0.1114 - val_loss: 0.0111 - val_root_mean_squared_error: 0.1052\n",
      "Epoch 1029/2500\n",
      "8/8 [==============================] - 0s 11ms/step - loss: 0.0124 - root_mean_squared_error: 0.1113 - val_loss: 0.0109 - val_root_mean_squared_error: 0.1043\n",
      "Epoch 1030/2500\n",
      "8/8 [==============================] - 0s 10ms/step - loss: 0.0133 - root_mean_squared_error: 0.1154 - val_loss: 0.0112 - val_root_mean_squared_error: 0.1058\n",
      "Epoch 1031/2500\n",
      "8/8 [==============================] - 0s 8ms/step - loss: 0.0130 - root_mean_squared_error: 0.1142 - val_loss: 0.0119 - val_root_mean_squared_error: 0.1090\n",
      "Epoch 1032/2500\n",
      "8/8 [==============================] - 0s 10ms/step - loss: 0.0125 - root_mean_squared_error: 0.1118 - val_loss: 0.0114 - val_root_mean_squared_error: 0.1069\n",
      "Epoch 1033/2500\n",
      "8/8 [==============================] - 0s 10ms/step - loss: 0.0124 - root_mean_squared_error: 0.1114 - val_loss: 0.0110 - val_root_mean_squared_error: 0.1051\n",
      "Epoch 1034/2500\n",
      "8/8 [==============================] - 0s 10ms/step - loss: 0.0124 - root_mean_squared_error: 0.1113 - val_loss: 0.0115 - val_root_mean_squared_error: 0.1070\n",
      "Epoch 1035/2500\n",
      "8/8 [==============================] - 0s 10ms/step - loss: 0.0124 - root_mean_squared_error: 0.1112 - val_loss: 0.0112 - val_root_mean_squared_error: 0.1060\n",
      "Epoch 1036/2500\n",
      "8/8 [==============================] - 0s 10ms/step - loss: 0.0124 - root_mean_squared_error: 0.1112 - val_loss: 0.0109 - val_root_mean_squared_error: 0.1046\n",
      "Epoch 1037/2500\n",
      "8/8 [==============================] - 0s 10ms/step - loss: 0.0126 - root_mean_squared_error: 0.1121 - val_loss: 0.0114 - val_root_mean_squared_error: 0.1067\n",
      "Epoch 1038/2500\n",
      "8/8 [==============================] - 0s 11ms/step - loss: 0.0127 - root_mean_squared_error: 0.1128 - val_loss: 0.0120 - val_root_mean_squared_error: 0.1096\n",
      "Epoch 1039/2500\n",
      "8/8 [==============================] - 0s 8ms/step - loss: 0.0127 - root_mean_squared_error: 0.1126 - val_loss: 0.0113 - val_root_mean_squared_error: 0.1063\n",
      "Epoch 1040/2500\n",
      "8/8 [==============================] - 0s 9ms/step - loss: 0.0125 - root_mean_squared_error: 0.1118 - val_loss: 0.0110 - val_root_mean_squared_error: 0.1050\n",
      "Epoch 1041/2500\n",
      "8/8 [==============================] - 0s 8ms/step - loss: 0.0124 - root_mean_squared_error: 0.1113 - val_loss: 0.0112 - val_root_mean_squared_error: 0.1058\n",
      "Epoch 1042/2500\n",
      "8/8 [==============================] - 0s 10ms/step - loss: 0.0125 - root_mean_squared_error: 0.1116 - val_loss: 0.0119 - val_root_mean_squared_error: 0.1092\n",
      "Epoch 1043/2500\n",
      "8/8 [==============================] - 0s 9ms/step - loss: 0.0125 - root_mean_squared_error: 0.1118 - val_loss: 0.0124 - val_root_mean_squared_error: 0.1112\n",
      "Epoch 1044/2500\n",
      "8/8 [==============================] - 0s 7ms/step - loss: 0.0124 - root_mean_squared_error: 0.1112 - val_loss: 0.0118 - val_root_mean_squared_error: 0.1088\n",
      "Epoch 1045/2500\n",
      "8/8 [==============================] - 0s 9ms/step - loss: 0.0126 - root_mean_squared_error: 0.1122 - val_loss: 0.0113 - val_root_mean_squared_error: 0.1061\n",
      "Epoch 1046/2500\n"
     ]
    },
    {
     "name": "stdout",
     "output_type": "stream",
     "text": [
      "8/8 [==============================] - 0s 8ms/step - loss: 0.0133 - root_mean_squared_error: 0.1155 - val_loss: 0.0123 - val_root_mean_squared_error: 0.1107\n",
      "Epoch 1047/2500\n",
      "8/8 [==============================] - 0s 9ms/step - loss: 0.0129 - root_mean_squared_error: 0.1137 - val_loss: 0.0112 - val_root_mean_squared_error: 0.1059\n",
      "Epoch 1048/2500\n",
      "8/8 [==============================] - 0s 9ms/step - loss: 0.0126 - root_mean_squared_error: 0.1121 - val_loss: 0.0130 - val_root_mean_squared_error: 0.1139\n",
      "Epoch 1049/2500\n",
      "8/8 [==============================] - 0s 10ms/step - loss: 0.0124 - root_mean_squared_error: 0.1113 - val_loss: 0.0120 - val_root_mean_squared_error: 0.1094\n",
      "Epoch 1050/2500\n",
      "8/8 [==============================] - 0s 9ms/step - loss: 0.0122 - root_mean_squared_error: 0.1104 - val_loss: 0.0111 - val_root_mean_squared_error: 0.1053\n",
      "Epoch 1051/2500\n",
      "8/8 [==============================] - 0s 8ms/step - loss: 0.0131 - root_mean_squared_error: 0.1146 - val_loss: 0.0111 - val_root_mean_squared_error: 0.1053\n",
      "Epoch 1052/2500\n",
      "8/8 [==============================] - 0s 10ms/step - loss: 0.0129 - root_mean_squared_error: 0.1136 - val_loss: 0.0211 - val_root_mean_squared_error: 0.1451\n",
      "Epoch 1053/2500\n",
      "8/8 [==============================] - 0s 10ms/step - loss: 0.0148 - root_mean_squared_error: 0.1217 - val_loss: 0.0148 - val_root_mean_squared_error: 0.1215\n",
      "Epoch 1054/2500\n",
      "8/8 [==============================] - 0s 8ms/step - loss: 0.0129 - root_mean_squared_error: 0.1134 - val_loss: 0.0107 - val_root_mean_squared_error: 0.1033\n",
      "Epoch 1055/2500\n",
      "8/8 [==============================] - 0s 9ms/step - loss: 0.0123 - root_mean_squared_error: 0.1109 - val_loss: 0.0113 - val_root_mean_squared_error: 0.1062\n",
      "Epoch 1056/2500\n",
      "8/8 [==============================] - 0s 7ms/step - loss: 0.0151 - root_mean_squared_error: 0.1230 - val_loss: 0.0189 - val_root_mean_squared_error: 0.1376\n",
      "Epoch 1057/2500\n",
      "8/8 [==============================] - 0s 10ms/step - loss: 0.0152 - root_mean_squared_error: 0.1233 - val_loss: 0.0117 - val_root_mean_squared_error: 0.1083\n",
      "Epoch 1058/2500\n",
      "8/8 [==============================] - 0s 9ms/step - loss: 0.0130 - root_mean_squared_error: 0.1138 - val_loss: 0.0110 - val_root_mean_squared_error: 0.1047\n",
      "Epoch 1059/2500\n",
      "8/8 [==============================] - 0s 8ms/step - loss: 0.0123 - root_mean_squared_error: 0.1109 - val_loss: 0.0116 - val_root_mean_squared_error: 0.1078\n",
      "Epoch 1060/2500\n",
      "8/8 [==============================] - 0s 10ms/step - loss: 0.0123 - root_mean_squared_error: 0.1110 - val_loss: 0.0112 - val_root_mean_squared_error: 0.1059\n",
      "Epoch 1061/2500\n",
      "8/8 [==============================] - 0s 9ms/step - loss: 0.0123 - root_mean_squared_error: 0.1108 - val_loss: 0.0109 - val_root_mean_squared_error: 0.1042\n",
      "Epoch 1062/2500\n",
      "8/8 [==============================] - 0s 8ms/step - loss: 0.0129 - root_mean_squared_error: 0.1135 - val_loss: 0.0110 - val_root_mean_squared_error: 0.1048\n",
      "Epoch 1063/2500\n",
      "8/8 [==============================] - 0s 8ms/step - loss: 0.0129 - root_mean_squared_error: 0.1136 - val_loss: 0.0116 - val_root_mean_squared_error: 0.1078\n",
      "Epoch 1064/2500\n",
      "8/8 [==============================] - 0s 9ms/step - loss: 0.0124 - root_mean_squared_error: 0.1112 - val_loss: 0.0117 - val_root_mean_squared_error: 0.1082\n",
      "Epoch 1065/2500\n",
      "8/8 [==============================] - 0s 10ms/step - loss: 0.0129 - root_mean_squared_error: 0.1135 - val_loss: 0.0112 - val_root_mean_squared_error: 0.1060\n",
      "Epoch 1066/2500\n",
      "8/8 [==============================] - 0s 10ms/step - loss: 0.0125 - root_mean_squared_error: 0.1120 - val_loss: 0.0111 - val_root_mean_squared_error: 0.1056\n",
      "Epoch 1067/2500\n",
      "8/8 [==============================] - 0s 10ms/step - loss: 0.0123 - root_mean_squared_error: 0.1110 - val_loss: 0.0113 - val_root_mean_squared_error: 0.1063\n",
      "Epoch 1068/2500\n",
      "8/8 [==============================] - 0s 10ms/step - loss: 0.0124 - root_mean_squared_error: 0.1113 - val_loss: 0.0121 - val_root_mean_squared_error: 0.1098\n",
      "Epoch 1069/2500\n",
      "8/8 [==============================] - 0s 10ms/step - loss: 0.0128 - root_mean_squared_error: 0.1130 - val_loss: 0.0117 - val_root_mean_squared_error: 0.1081\n",
      "Epoch 1070/2500\n",
      "8/8 [==============================] - 0s 10ms/step - loss: 0.0124 - root_mean_squared_error: 0.1113 - val_loss: 0.0117 - val_root_mean_squared_error: 0.1082\n",
      "Epoch 1071/2500\n",
      "8/8 [==============================] - 0s 7ms/step - loss: 0.0126 - root_mean_squared_error: 0.1124 - val_loss: 0.0172 - val_root_mean_squared_error: 0.1313\n",
      "Epoch 1072/2500\n",
      "8/8 [==============================] - 0s 9ms/step - loss: 0.0134 - root_mean_squared_error: 0.1156 - val_loss: 0.0130 - val_root_mean_squared_error: 0.1140\n",
      "Epoch 1073/2500\n",
      "8/8 [==============================] - 0s 7ms/step - loss: 0.0129 - root_mean_squared_error: 0.1138 - val_loss: 0.0110 - val_root_mean_squared_error: 0.1049\n",
      "Epoch 1074/2500\n",
      "8/8 [==============================] - 0s 9ms/step - loss: 0.0126 - root_mean_squared_error: 0.1122 - val_loss: 0.0112 - val_root_mean_squared_error: 0.1057\n",
      "Epoch 1075/2500\n",
      "8/8 [==============================] - 0s 8ms/step - loss: 0.0127 - root_mean_squared_error: 0.1128 - val_loss: 0.0142 - val_root_mean_squared_error: 0.1191\n",
      "Epoch 1076/2500\n",
      "8/8 [==============================] - 0s 9ms/step - loss: 0.0126 - root_mean_squared_error: 0.1124 - val_loss: 0.0125 - val_root_mean_squared_error: 0.1118\n",
      "Epoch 1077/2500\n",
      "8/8 [==============================] - 0s 9ms/step - loss: 0.0124 - root_mean_squared_error: 0.1116 - val_loss: 0.0117 - val_root_mean_squared_error: 0.1081\n",
      "Epoch 1078/2500\n",
      "8/8 [==============================] - 0s 8ms/step - loss: 0.0128 - root_mean_squared_error: 0.1130 - val_loss: 0.0115 - val_root_mean_squared_error: 0.1074\n",
      "Epoch 1079/2500\n",
      "8/8 [==============================] - 0s 9ms/step - loss: 0.0130 - root_mean_squared_error: 0.1142 - val_loss: 0.0185 - val_root_mean_squared_error: 0.1359\n",
      "Epoch 1080/2500\n",
      "8/8 [==============================] - 0s 8ms/step - loss: 0.0136 - root_mean_squared_error: 0.1167 - val_loss: 0.0131 - val_root_mean_squared_error: 0.1144\n",
      "Epoch 1081/2500\n",
      "8/8 [==============================] - 0s 9ms/step - loss: 0.0122 - root_mean_squared_error: 0.1105 - val_loss: 0.0109 - val_root_mean_squared_error: 0.1046\n",
      "Epoch 1082/2500\n",
      "8/8 [==============================] - 0s 8ms/step - loss: 0.0134 - root_mean_squared_error: 0.1156 - val_loss: 0.0109 - val_root_mean_squared_error: 0.1046\n",
      "Epoch 1083/2500\n",
      "8/8 [==============================] - 0s 10ms/step - loss: 0.0134 - root_mean_squared_error: 0.1156 - val_loss: 0.0143 - val_root_mean_squared_error: 0.1197\n",
      "Epoch 1084/2500\n",
      "8/8 [==============================] - 0s 8ms/step - loss: 0.0124 - root_mean_squared_error: 0.1114 - val_loss: 0.0120 - val_root_mean_squared_error: 0.1095\n",
      "Epoch 1085/2500\n",
      "8/8 [==============================] - 0s 10ms/step - loss: 0.0137 - root_mean_squared_error: 0.1169 - val_loss: 0.0112 - val_root_mean_squared_error: 0.1056\n",
      "Epoch 1086/2500\n",
      "8/8 [==============================] - 0s 10ms/step - loss: 0.0140 - root_mean_squared_error: 0.1183 - val_loss: 0.0111 - val_root_mean_squared_error: 0.1055\n",
      "Epoch 1087/2500\n",
      "8/8 [==============================] - 0s 10ms/step - loss: 0.0124 - root_mean_squared_error: 0.1114 - val_loss: 0.0116 - val_root_mean_squared_error: 0.1078\n",
      "Epoch 1088/2500\n",
      "8/8 [==============================] - 0s 9ms/step - loss: 0.0123 - root_mean_squared_error: 0.1109 - val_loss: 0.0122 - val_root_mean_squared_error: 0.1105\n",
      "Epoch 1089/2500\n",
      "8/8 [==============================] - 0s 8ms/step - loss: 0.0127 - root_mean_squared_error: 0.1125 - val_loss: 0.0117 - val_root_mean_squared_error: 0.1084\n",
      "Epoch 1090/2500\n",
      "8/8 [==============================] - 0s 9ms/step - loss: 0.0126 - root_mean_squared_error: 0.1124 - val_loss: 0.0116 - val_root_mean_squared_error: 0.1077\n",
      "Epoch 1091/2500\n",
      "8/8 [==============================] - 0s 10ms/step - loss: 0.0121 - root_mean_squared_error: 0.1102 - val_loss: 0.0112 - val_root_mean_squared_error: 0.1057\n",
      "Epoch 1092/2500\n",
      "8/8 [==============================] - 0s 10ms/step - loss: 0.0134 - root_mean_squared_error: 0.1157 - val_loss: 0.0126 - val_root_mean_squared_error: 0.1121\n",
      "Epoch 1093/2500\n",
      "8/8 [==============================] - 0s 10ms/step - loss: 0.0132 - root_mean_squared_error: 0.1150 - val_loss: 0.0113 - val_root_mean_squared_error: 0.1064\n",
      "Epoch 1094/2500\n",
      "8/8 [==============================] - 0s 9ms/step - loss: 0.0122 - root_mean_squared_error: 0.1103 - val_loss: 0.0140 - val_root_mean_squared_error: 0.1181\n",
      "Epoch 1095/2500\n",
      "8/8 [==============================] - 0s 7ms/step - loss: 0.0126 - root_mean_squared_error: 0.1121 - val_loss: 0.0128 - val_root_mean_squared_error: 0.1133\n",
      "Epoch 1096/2500\n",
      "8/8 [==============================] - 0s 9ms/step - loss: 0.0121 - root_mean_squared_error: 0.1098 - val_loss: 0.0111 - val_root_mean_squared_error: 0.1051\n",
      "Epoch 1097/2500\n",
      "8/8 [==============================] - 0s 8ms/step - loss: 0.0123 - root_mean_squared_error: 0.1108 - val_loss: 0.0111 - val_root_mean_squared_error: 0.1052\n",
      "Epoch 1098/2500\n",
      "8/8 [==============================] - 0s 8ms/step - loss: 0.0121 - root_mean_squared_error: 0.1100 - val_loss: 0.0118 - val_root_mean_squared_error: 0.1084\n",
      "Epoch 1099/2500\n",
      "8/8 [==============================] - 0s 8ms/step - loss: 0.0126 - root_mean_squared_error: 0.1123 - val_loss: 0.0148 - val_root_mean_squared_error: 0.1218\n",
      "Epoch 1100/2500\n",
      "8/8 [==============================] - 0s 9ms/step - loss: 0.0126 - root_mean_squared_error: 0.1121 - val_loss: 0.0121 - val_root_mean_squared_error: 0.1101\n",
      "Epoch 1101/2500\n",
      "8/8 [==============================] - 0s 9ms/step - loss: 0.0123 - root_mean_squared_error: 0.1111 - val_loss: 0.0116 - val_root_mean_squared_error: 0.1075\n",
      "Epoch 1102/2500\n",
      "8/8 [==============================] - 0s 10ms/step - loss: 0.0122 - root_mean_squared_error: 0.1105 - val_loss: 0.0147 - val_root_mean_squared_error: 0.1212\n",
      "Epoch 1103/2500\n",
      "8/8 [==============================] - 0s 10ms/step - loss: 0.0127 - root_mean_squared_error: 0.1126 - val_loss: 0.0128 - val_root_mean_squared_error: 0.1133\n",
      "Epoch 1104/2500\n",
      "8/8 [==============================] - 0s 10ms/step - loss: 0.0122 - root_mean_squared_error: 0.1102 - val_loss: 0.0114 - val_root_mean_squared_error: 0.1070\n",
      "Epoch 1105/2500\n",
      "8/8 [==============================] - 0s 10ms/step - loss: 0.0121 - root_mean_squared_error: 0.1101 - val_loss: 0.0114 - val_root_mean_squared_error: 0.1066\n",
      "Epoch 1106/2500\n",
      "8/8 [==============================] - 0s 9ms/step - loss: 0.0121 - root_mean_squared_error: 0.1102 - val_loss: 0.0115 - val_root_mean_squared_error: 0.1074\n",
      "Epoch 1107/2500\n",
      "8/8 [==============================] - 0s 10ms/step - loss: 0.0122 - root_mean_squared_error: 0.1103 - val_loss: 0.0122 - val_root_mean_squared_error: 0.1104\n",
      "Epoch 1108/2500\n",
      "8/8 [==============================] - 0s 9ms/step - loss: 0.0122 - root_mean_squared_error: 0.1103 - val_loss: 0.0121 - val_root_mean_squared_error: 0.1101\n",
      "Epoch 1109/2500\n",
      "8/8 [==============================] - 0s 9ms/step - loss: 0.0122 - root_mean_squared_error: 0.1102 - val_loss: 0.0116 - val_root_mean_squared_error: 0.1076\n",
      "Epoch 1110/2500\n",
      "8/8 [==============================] - 0s 9ms/step - loss: 0.0122 - root_mean_squared_error: 0.1103 - val_loss: 0.0111 - val_root_mean_squared_error: 0.1054\n",
      "Epoch 1111/2500\n",
      "8/8 [==============================] - 0s 8ms/step - loss: 0.0126 - root_mean_squared_error: 0.1120 - val_loss: 0.0108 - val_root_mean_squared_error: 0.1039\n",
      "Epoch 1112/2500\n",
      "8/8 [==============================] - 0s 10ms/step - loss: 0.0126 - root_mean_squared_error: 0.1121 - val_loss: 0.0111 - val_root_mean_squared_error: 0.1052\n",
      "Epoch 1113/2500\n",
      "8/8 [==============================] - 0s 10ms/step - loss: 0.0125 - root_mean_squared_error: 0.1119 - val_loss: 0.0120 - val_root_mean_squared_error: 0.1094\n",
      "Epoch 1114/2500\n",
      "8/8 [==============================] - 0s 10ms/step - loss: 0.0122 - root_mean_squared_error: 0.1106 - val_loss: 0.0110 - val_root_mean_squared_error: 0.1047\n",
      "Epoch 1115/2500\n",
      "8/8 [==============================] - 0s 9ms/step - loss: 0.0122 - root_mean_squared_error: 0.1106 - val_loss: 0.0112 - val_root_mean_squared_error: 0.1057\n",
      "Epoch 1116/2500\n",
      "8/8 [==============================] - 0s 8ms/step - loss: 0.0148 - root_mean_squared_error: 0.1215 - val_loss: 0.0115 - val_root_mean_squared_error: 0.1072\n",
      "Epoch 1117/2500\n",
      "8/8 [==============================] - 0s 10ms/step - loss: 0.0140 - root_mean_squared_error: 0.1182 - val_loss: 0.0116 - val_root_mean_squared_error: 0.1076\n",
      "Epoch 1118/2500\n",
      "8/8 [==============================] - 0s 10ms/step - loss: 0.0126 - root_mean_squared_error: 0.1120 - val_loss: 0.0122 - val_root_mean_squared_error: 0.1105\n",
      "Epoch 1119/2500\n",
      "8/8 [==============================] - 0s 10ms/step - loss: 0.0129 - root_mean_squared_error: 0.1137 - val_loss: 0.0135 - val_root_mean_squared_error: 0.1161\n",
      "Epoch 1120/2500\n",
      "8/8 [==============================] - 0s 10ms/step - loss: 0.0124 - root_mean_squared_error: 0.1116 - val_loss: 0.0114 - val_root_mean_squared_error: 0.1069\n",
      "Epoch 1121/2500\n",
      "8/8 [==============================] - 0s 8ms/step - loss: 0.0123 - root_mean_squared_error: 0.1107 - val_loss: 0.0136 - val_root_mean_squared_error: 0.1164\n",
      "Epoch 1122/2500\n",
      "8/8 [==============================] - 0s 9ms/step - loss: 0.0128 - root_mean_squared_error: 0.1133 - val_loss: 0.0177 - val_root_mean_squared_error: 0.1330\n",
      "Epoch 1123/2500\n",
      "8/8 [==============================] - 0s 10ms/step - loss: 0.0129 - root_mean_squared_error: 0.1135 - val_loss: 0.0127 - val_root_mean_squared_error: 0.1128\n",
      "Epoch 1124/2500\n",
      "8/8 [==============================] - 0s 9ms/step - loss: 0.0121 - root_mean_squared_error: 0.1100 - val_loss: 0.0122 - val_root_mean_squared_error: 0.1106\n",
      "Epoch 1125/2500\n",
      "8/8 [==============================] - 0s 9ms/step - loss: 0.0121 - root_mean_squared_error: 0.1099 - val_loss: 0.0143 - val_root_mean_squared_error: 0.1194\n",
      "Epoch 1126/2500\n",
      "8/8 [==============================] - 0s 8ms/step - loss: 0.0127 - root_mean_squared_error: 0.1125 - val_loss: 0.0155 - val_root_mean_squared_error: 0.1244\n",
      "Epoch 1127/2500\n",
      "8/8 [==============================] - 0s 10ms/step - loss: 0.0126 - root_mean_squared_error: 0.1125 - val_loss: 0.0120 - val_root_mean_squared_error: 0.1095\n",
      "Epoch 1128/2500\n",
      "8/8 [==============================] - 0s 10ms/step - loss: 0.0122 - root_mean_squared_error: 0.1104 - val_loss: 0.0114 - val_root_mean_squared_error: 0.1070\n",
      "Epoch 1129/2500\n",
      "8/8 [==============================] - 0s 9ms/step - loss: 0.0121 - root_mean_squared_error: 0.1100 - val_loss: 0.0120 - val_root_mean_squared_error: 0.1095\n",
      "Epoch 1130/2500\n",
      "8/8 [==============================] - 0s 10ms/step - loss: 0.0125 - root_mean_squared_error: 0.1118 - val_loss: 0.0161 - val_root_mean_squared_error: 0.1268\n",
      "Epoch 1131/2500\n",
      "8/8 [==============================] - 0s 9ms/step - loss: 0.0126 - root_mean_squared_error: 0.1121 - val_loss: 0.0137 - val_root_mean_squared_error: 0.1171\n",
      "Epoch 1132/2500\n",
      "8/8 [==============================] - 0s 10ms/step - loss: 0.0123 - root_mean_squared_error: 0.1107 - val_loss: 0.0138 - val_root_mean_squared_error: 0.1174\n",
      "Epoch 1133/2500\n",
      "8/8 [==============================] - 0s 9ms/step - loss: 0.0122 - root_mean_squared_error: 0.1106 - val_loss: 0.0130 - val_root_mean_squared_error: 0.1141\n",
      "Epoch 1134/2500\n",
      "8/8 [==============================] - 0s 8ms/step - loss: 0.0123 - root_mean_squared_error: 0.1107 - val_loss: 0.0124 - val_root_mean_squared_error: 0.1114\n",
      "Epoch 1135/2500\n",
      "8/8 [==============================] - 0s 9ms/step - loss: 0.0122 - root_mean_squared_error: 0.1103 - val_loss: 0.0130 - val_root_mean_squared_error: 0.1140\n",
      "Epoch 1136/2500\n",
      "8/8 [==============================] - 0s 10ms/step - loss: 0.0126 - root_mean_squared_error: 0.1124 - val_loss: 0.0173 - val_root_mean_squared_error: 0.1313\n",
      "Epoch 1137/2500\n",
      "8/8 [==============================] - 0s 8ms/step - loss: 0.0125 - root_mean_squared_error: 0.1120 - val_loss: 0.0126 - val_root_mean_squared_error: 0.1121\n",
      "Epoch 1138/2500\n",
      "8/8 [==============================] - 0s 9ms/step - loss: 0.0121 - root_mean_squared_error: 0.1099 - val_loss: 0.0116 - val_root_mean_squared_error: 0.1079\n",
      "Epoch 1139/2500\n",
      "8/8 [==============================] - 0s 10ms/step - loss: 0.0122 - root_mean_squared_error: 0.1105 - val_loss: 0.0136 - val_root_mean_squared_error: 0.1165\n",
      "Epoch 1140/2500\n"
     ]
    },
    {
     "name": "stdout",
     "output_type": "stream",
     "text": [
      "8/8 [==============================] - 0s 9ms/step - loss: 0.0137 - root_mean_squared_error: 0.1171 - val_loss: 0.0246 - val_root_mean_squared_error: 0.1568\n",
      "Epoch 1141/2500\n",
      "8/8 [==============================] - 0s 8ms/step - loss: 0.0143 - root_mean_squared_error: 0.1198 - val_loss: 0.0134 - val_root_mean_squared_error: 0.1156\n",
      "Epoch 1142/2500\n",
      "8/8 [==============================] - 0s 9ms/step - loss: 0.0127 - root_mean_squared_error: 0.1127 - val_loss: 0.0112 - val_root_mean_squared_error: 0.1060\n",
      "Epoch 1143/2500\n",
      "8/8 [==============================] - 0s 10ms/step - loss: 0.0128 - root_mean_squared_error: 0.1132 - val_loss: 0.0121 - val_root_mean_squared_error: 0.1099\n",
      "Epoch 1144/2500\n",
      "8/8 [==============================] - 0s 8ms/step - loss: 0.0122 - root_mean_squared_error: 0.1106 - val_loss: 0.0124 - val_root_mean_squared_error: 0.1116\n",
      "Epoch 1145/2500\n",
      "8/8 [==============================] - 0s 10ms/step - loss: 0.0125 - root_mean_squared_error: 0.1120 - val_loss: 0.0122 - val_root_mean_squared_error: 0.1104\n",
      "Epoch 1146/2500\n",
      "8/8 [==============================] - 0s 11ms/step - loss: 0.0120 - root_mean_squared_error: 0.1097 - val_loss: 0.0117 - val_root_mean_squared_error: 0.1083\n",
      "Epoch 1147/2500\n",
      "8/8 [==============================] - 0s 7ms/step - loss: 0.0124 - root_mean_squared_error: 0.1113 - val_loss: 0.0115 - val_root_mean_squared_error: 0.1071\n",
      "Epoch 1148/2500\n",
      "8/8 [==============================] - 0s 10ms/step - loss: 0.0122 - root_mean_squared_error: 0.1103 - val_loss: 0.0119 - val_root_mean_squared_error: 0.1089\n",
      "Epoch 1149/2500\n",
      "8/8 [==============================] - 0s 8ms/step - loss: 0.0122 - root_mean_squared_error: 0.1103 - val_loss: 0.0125 - val_root_mean_squared_error: 0.1118\n",
      "Epoch 1150/2500\n",
      "8/8 [==============================] - 0s 12ms/step - loss: 0.0122 - root_mean_squared_error: 0.1103 - val_loss: 0.0120 - val_root_mean_squared_error: 0.1097\n",
      "Epoch 1151/2500\n",
      "8/8 [==============================] - 0s 10ms/step - loss: 0.0121 - root_mean_squared_error: 0.1100 - val_loss: 0.0116 - val_root_mean_squared_error: 0.1076\n",
      "Epoch 1152/2500\n",
      "8/8 [==============================] - 0s 8ms/step - loss: 0.0122 - root_mean_squared_error: 0.1103 - val_loss: 0.0114 - val_root_mean_squared_error: 0.1066\n",
      "Epoch 1153/2500\n",
      "8/8 [==============================] - 0s 10ms/step - loss: 0.0122 - root_mean_squared_error: 0.1105 - val_loss: 0.0131 - val_root_mean_squared_error: 0.1143\n",
      "Epoch 1154/2500\n",
      "8/8 [==============================] - 0s 10ms/step - loss: 0.0142 - root_mean_squared_error: 0.1192 - val_loss: 0.0281 - val_root_mean_squared_error: 0.1678\n",
      "Epoch 1155/2500\n",
      "8/8 [==============================] - 0s 10ms/step - loss: 0.0155 - root_mean_squared_error: 0.1244 - val_loss: 0.0166 - val_root_mean_squared_error: 0.1288\n",
      "Epoch 1156/2500\n",
      "8/8 [==============================] - 0s 10ms/step - loss: 0.0123 - root_mean_squared_error: 0.1110 - val_loss: 0.0112 - val_root_mean_squared_error: 0.1059\n",
      "Epoch 1157/2500\n",
      "8/8 [==============================] - 0s 10ms/step - loss: 0.0125 - root_mean_squared_error: 0.1116 - val_loss: 0.0112 - val_root_mean_squared_error: 0.1058\n",
      "Epoch 1158/2500\n",
      "8/8 [==============================] - 0s 10ms/step - loss: 0.0121 - root_mean_squared_error: 0.1098 - val_loss: 0.0124 - val_root_mean_squared_error: 0.1114\n",
      "Epoch 1159/2500\n",
      "8/8 [==============================] - 0s 8ms/step - loss: 0.0120 - root_mean_squared_error: 0.1094 - val_loss: 0.0125 - val_root_mean_squared_error: 0.1116\n",
      "Epoch 1160/2500\n",
      "8/8 [==============================] - 0s 9ms/step - loss: 0.0120 - root_mean_squared_error: 0.1094 - val_loss: 0.0123 - val_root_mean_squared_error: 0.1108\n",
      "Epoch 1161/2500\n",
      "8/8 [==============================] - 0s 9ms/step - loss: 0.0120 - root_mean_squared_error: 0.1095 - val_loss: 0.0137 - val_root_mean_squared_error: 0.1170\n",
      "Epoch 1162/2500\n",
      "8/8 [==============================] - 0s 9ms/step - loss: 0.0125 - root_mean_squared_error: 0.1120 - val_loss: 0.0172 - val_root_mean_squared_error: 0.1312\n",
      "Epoch 1163/2500\n",
      "8/8 [==============================] - 0s 8ms/step - loss: 0.0126 - root_mean_squared_error: 0.1122 - val_loss: 0.0115 - val_root_mean_squared_error: 0.1072\n",
      "Epoch 1164/2500\n",
      "8/8 [==============================] - 0s 9ms/step - loss: 0.0140 - root_mean_squared_error: 0.1181 - val_loss: 0.0150 - val_root_mean_squared_error: 0.1225\n",
      "Epoch 1165/2500\n",
      "8/8 [==============================] - 0s 8ms/step - loss: 0.0140 - root_mean_squared_error: 0.1182 - val_loss: 0.0117 - val_root_mean_squared_error: 0.1083\n",
      "Epoch 1166/2500\n",
      "8/8 [==============================] - 0s 9ms/step - loss: 0.0123 - root_mean_squared_error: 0.1110 - val_loss: 0.0149 - val_root_mean_squared_error: 0.1223\n",
      "Epoch 1167/2500\n",
      "8/8 [==============================] - 0s 8ms/step - loss: 0.0124 - root_mean_squared_error: 0.1116 - val_loss: 0.0141 - val_root_mean_squared_error: 0.1189\n",
      "Epoch 1168/2500\n",
      "8/8 [==============================] - 0s 9ms/step - loss: 0.0123 - root_mean_squared_error: 0.1107 - val_loss: 0.0118 - val_root_mean_squared_error: 0.1088\n",
      "Epoch 1169/2500\n",
      "8/8 [==============================] - 0s 8ms/step - loss: 0.0120 - root_mean_squared_error: 0.1098 - val_loss: 0.0118 - val_root_mean_squared_error: 0.1084\n",
      "Epoch 1170/2500\n",
      "8/8 [==============================] - 0s 9ms/step - loss: 0.0120 - root_mean_squared_error: 0.1097 - val_loss: 0.0119 - val_root_mean_squared_error: 0.1093\n",
      "Epoch 1171/2500\n",
      "8/8 [==============================] - 0s 12ms/step - loss: 0.0120 - root_mean_squared_error: 0.1093 - val_loss: 0.0124 - val_root_mean_squared_error: 0.1114\n",
      "Epoch 1172/2500\n",
      "8/8 [==============================] - 0s 9ms/step - loss: 0.0119 - root_mean_squared_error: 0.1092 - val_loss: 0.0121 - val_root_mean_squared_error: 0.1100\n",
      "Epoch 1173/2500\n",
      "8/8 [==============================] - 0s 10ms/step - loss: 0.0120 - root_mean_squared_error: 0.1096 - val_loss: 0.0116 - val_root_mean_squared_error: 0.1076\n",
      "Epoch 1174/2500\n",
      "8/8 [==============================] - 0s 10ms/step - loss: 0.0120 - root_mean_squared_error: 0.1094 - val_loss: 0.0121 - val_root_mean_squared_error: 0.1101\n",
      "Epoch 1175/2500\n",
      "8/8 [==============================] - 0s 9ms/step - loss: 0.0121 - root_mean_squared_error: 0.1102 - val_loss: 0.0128 - val_root_mean_squared_error: 0.1133\n",
      "Epoch 1176/2500\n",
      "8/8 [==============================] - 0s 8ms/step - loss: 0.0120 - root_mean_squared_error: 0.1094 - val_loss: 0.0129 - val_root_mean_squared_error: 0.1134\n",
      "Epoch 1177/2500\n",
      "8/8 [==============================] - 0s 8ms/step - loss: 0.0129 - root_mean_squared_error: 0.1137 - val_loss: 0.0120 - val_root_mean_squared_error: 0.1095\n",
      "Epoch 1178/2500\n",
      "8/8 [==============================] - 0s 9ms/step - loss: 0.0131 - root_mean_squared_error: 0.1147 - val_loss: 0.0117 - val_root_mean_squared_error: 0.1083\n",
      "Epoch 1179/2500\n",
      "8/8 [==============================] - 0s 8ms/step - loss: 0.0138 - root_mean_squared_error: 0.1173 - val_loss: 0.0120 - val_root_mean_squared_error: 0.1097\n",
      "Epoch 1180/2500\n",
      "8/8 [==============================] - 0s 9ms/step - loss: 0.0131 - root_mean_squared_error: 0.1145 - val_loss: 0.0114 - val_root_mean_squared_error: 0.1068\n",
      "Epoch 1181/2500\n",
      "8/8 [==============================] - 0s 8ms/step - loss: 0.0122 - root_mean_squared_error: 0.1104 - val_loss: 0.0132 - val_root_mean_squared_error: 0.1147\n",
      "Epoch 1182/2500\n",
      "8/8 [==============================] - 0s 9ms/step - loss: 0.0120 - root_mean_squared_error: 0.1098 - val_loss: 0.0124 - val_root_mean_squared_error: 0.1113\n",
      "Epoch 1183/2500\n",
      "8/8 [==============================] - 0s 7ms/step - loss: 0.0123 - root_mean_squared_error: 0.1109 - val_loss: 0.0118 - val_root_mean_squared_error: 0.1087\n",
      "Epoch 1184/2500\n",
      "8/8 [==============================] - 0s 8ms/step - loss: 0.0131 - root_mean_squared_error: 0.1144 - val_loss: 0.0118 - val_root_mean_squared_error: 0.1086\n",
      "Epoch 1185/2500\n",
      "8/8 [==============================] - 0s 10ms/step - loss: 0.0124 - root_mean_squared_error: 0.1115 - val_loss: 0.0127 - val_root_mean_squared_error: 0.1126\n",
      "Epoch 1186/2500\n",
      "8/8 [==============================] - 0s 10ms/step - loss: 0.0121 - root_mean_squared_error: 0.1099 - val_loss: 0.0120 - val_root_mean_squared_error: 0.1097\n",
      "Epoch 1187/2500\n",
      "8/8 [==============================] - 0s 10ms/step - loss: 0.0126 - root_mean_squared_error: 0.1124 - val_loss: 0.0129 - val_root_mean_squared_error: 0.1135\n",
      "Epoch 1188/2500\n",
      "8/8 [==============================] - 0s 10ms/step - loss: 0.0136 - root_mean_squared_error: 0.1167 - val_loss: 0.0111 - val_root_mean_squared_error: 0.1055\n",
      "Epoch 1189/2500\n",
      "8/8 [==============================] - 0s 10ms/step - loss: 0.0130 - root_mean_squared_error: 0.1139 - val_loss: 0.0117 - val_root_mean_squared_error: 0.1082\n",
      "Epoch 1190/2500\n",
      "8/8 [==============================] - 0s 8ms/step - loss: 0.0129 - root_mean_squared_error: 0.1137 - val_loss: 0.0114 - val_root_mean_squared_error: 0.1066\n",
      "Epoch 1191/2500\n",
      "8/8 [==============================] - 0s 9ms/step - loss: 0.0120 - root_mean_squared_error: 0.1097 - val_loss: 0.0120 - val_root_mean_squared_error: 0.1096\n",
      "Epoch 1192/2500\n",
      "8/8 [==============================] - 0s 11ms/step - loss: 0.0123 - root_mean_squared_error: 0.1110 - val_loss: 0.0130 - val_root_mean_squared_error: 0.1140\n",
      "Epoch 1193/2500\n",
      "8/8 [==============================] - 0s 9ms/step - loss: 0.0134 - root_mean_squared_error: 0.1159 - val_loss: 0.0119 - val_root_mean_squared_error: 0.1091\n",
      "Epoch 1194/2500\n",
      "8/8 [==============================] - 0s 10ms/step - loss: 0.0127 - root_mean_squared_error: 0.1128 - val_loss: 0.0114 - val_root_mean_squared_error: 0.1066\n",
      "Epoch 1195/2500\n",
      "8/8 [==============================] - 0s 9ms/step - loss: 0.0122 - root_mean_squared_error: 0.1104 - val_loss: 0.0117 - val_root_mean_squared_error: 0.1080\n",
      "Epoch 1196/2500\n",
      "8/8 [==============================] - 0s 10ms/step - loss: 0.0120 - root_mean_squared_error: 0.1097 - val_loss: 0.0150 - val_root_mean_squared_error: 0.1227\n",
      "Epoch 1197/2500\n",
      "8/8 [==============================] - 0s 10ms/step - loss: 0.0121 - root_mean_squared_error: 0.1099 - val_loss: 0.0124 - val_root_mean_squared_error: 0.1115\n",
      "Epoch 1198/2500\n",
      "8/8 [==============================] - 0s 10ms/step - loss: 0.0120 - root_mean_squared_error: 0.1094 - val_loss: 0.0120 - val_root_mean_squared_error: 0.1096\n",
      "Epoch 1199/2500\n",
      "8/8 [==============================] - 0s 8ms/step - loss: 0.0119 - root_mean_squared_error: 0.1092 - val_loss: 0.0118 - val_root_mean_squared_error: 0.1088\n",
      "Epoch 1200/2500\n",
      "8/8 [==============================] - 0s 9ms/step - loss: 0.0121 - root_mean_squared_error: 0.1100 - val_loss: 0.0116 - val_root_mean_squared_error: 0.1079\n",
      "Epoch 1201/2500\n",
      "8/8 [==============================] - 0s 10ms/step - loss: 0.0121 - root_mean_squared_error: 0.1101 - val_loss: 0.0129 - val_root_mean_squared_error: 0.1136\n",
      "Epoch 1202/2500\n",
      "8/8 [==============================] - 0s 10ms/step - loss: 0.0121 - root_mean_squared_error: 0.1099 - val_loss: 0.0149 - val_root_mean_squared_error: 0.1220\n",
      "Epoch 1203/2500\n",
      "8/8 [==============================] - 0s 9ms/step - loss: 0.0128 - root_mean_squared_error: 0.1130 - val_loss: 0.0161 - val_root_mean_squared_error: 0.1270\n",
      "Epoch 1204/2500\n",
      "8/8 [==============================] - 0s 8ms/step - loss: 0.0124 - root_mean_squared_error: 0.1112 - val_loss: 0.0127 - val_root_mean_squared_error: 0.1128\n",
      "Epoch 1205/2500\n",
      "8/8 [==============================] - 0s 9ms/step - loss: 0.0131 - root_mean_squared_error: 0.1144 - val_loss: 0.0125 - val_root_mean_squared_error: 0.1116\n",
      "Epoch 1206/2500\n",
      "8/8 [==============================] - 0s 10ms/step - loss: 0.0132 - root_mean_squared_error: 0.1150 - val_loss: 0.0198 - val_root_mean_squared_error: 0.1409\n",
      "Epoch 1207/2500\n",
      "8/8 [==============================] - 0s 10ms/step - loss: 0.0131 - root_mean_squared_error: 0.1145 - val_loss: 0.0153 - val_root_mean_squared_error: 0.1236\n",
      "Epoch 1208/2500\n",
      "8/8 [==============================] - 0s 10ms/step - loss: 0.0122 - root_mean_squared_error: 0.1105 - val_loss: 0.0129 - val_root_mean_squared_error: 0.1136\n",
      "Epoch 1209/2500\n",
      "8/8 [==============================] - 0s 10ms/step - loss: 0.0120 - root_mean_squared_error: 0.1096 - val_loss: 0.0120 - val_root_mean_squared_error: 0.1098\n",
      "Epoch 1210/2500\n",
      "8/8 [==============================] - 0s 10ms/step - loss: 0.0120 - root_mean_squared_error: 0.1094 - val_loss: 0.0120 - val_root_mean_squared_error: 0.1095\n",
      "Epoch 1211/2500\n",
      "8/8 [==============================] - 0s 10ms/step - loss: 0.0120 - root_mean_squared_error: 0.1094 - val_loss: 0.0126 - val_root_mean_squared_error: 0.1124\n",
      "Epoch 1212/2500\n",
      "8/8 [==============================] - 0s 10ms/step - loss: 0.0119 - root_mean_squared_error: 0.1091 - val_loss: 0.0138 - val_root_mean_squared_error: 0.1175\n",
      "Epoch 1213/2500\n",
      "8/8 [==============================] - 0s 10ms/step - loss: 0.0119 - root_mean_squared_error: 0.1092 - val_loss: 0.0119 - val_root_mean_squared_error: 0.1090\n",
      "Epoch 1214/2500\n",
      "8/8 [==============================] - 0s 10ms/step - loss: 0.0119 - root_mean_squared_error: 0.1093 - val_loss: 0.0120 - val_root_mean_squared_error: 0.1094\n",
      "Epoch 1215/2500\n",
      "8/8 [==============================] - 0s 10ms/step - loss: 0.0119 - root_mean_squared_error: 0.1090 - val_loss: 0.0122 - val_root_mean_squared_error: 0.1103\n",
      "Epoch 1216/2500\n",
      "8/8 [==============================] - 0s 10ms/step - loss: 0.0118 - root_mean_squared_error: 0.1085 - val_loss: 0.0129 - val_root_mean_squared_error: 0.1138\n",
      "Epoch 1217/2500\n",
      "8/8 [==============================] - 0s 9ms/step - loss: 0.0119 - root_mean_squared_error: 0.1090 - val_loss: 0.0130 - val_root_mean_squared_error: 0.1139\n",
      "Epoch 1218/2500\n",
      "8/8 [==============================] - 0s 8ms/step - loss: 0.0119 - root_mean_squared_error: 0.1091 - val_loss: 0.0119 - val_root_mean_squared_error: 0.1089\n",
      "Epoch 1219/2500\n",
      "8/8 [==============================] - 0s 10ms/step - loss: 0.0120 - root_mean_squared_error: 0.1095 - val_loss: 0.0118 - val_root_mean_squared_error: 0.1088\n",
      "Epoch 1220/2500\n",
      "8/8 [==============================] - 0s 10ms/step - loss: 0.0120 - root_mean_squared_error: 0.1094 - val_loss: 0.0118 - val_root_mean_squared_error: 0.1088\n",
      "Epoch 1221/2500\n",
      "8/8 [==============================] - 0s 10ms/step - loss: 0.0148 - root_mean_squared_error: 0.1219 - val_loss: 0.0159 - val_root_mean_squared_error: 0.1260\n",
      "Epoch 1222/2500\n",
      "8/8 [==============================] - 0s 10ms/step - loss: 0.0138 - root_mean_squared_error: 0.1177 - val_loss: 0.0122 - val_root_mean_squared_error: 0.1105\n",
      "Epoch 1223/2500\n",
      "8/8 [==============================] - 0s 10ms/step - loss: 0.0123 - root_mean_squared_error: 0.1110 - val_loss: 0.0162 - val_root_mean_squared_error: 0.1272\n",
      "Epoch 1224/2500\n",
      "8/8 [==============================] - 0s 10ms/step - loss: 0.0127 - root_mean_squared_error: 0.1126 - val_loss: 0.0149 - val_root_mean_squared_error: 0.1223\n",
      "Epoch 1225/2500\n",
      "8/8 [==============================] - 0s 10ms/step - loss: 0.0119 - root_mean_squared_error: 0.1093 - val_loss: 0.0120 - val_root_mean_squared_error: 0.1096\n",
      "Epoch 1226/2500\n",
      "8/8 [==============================] - 0s 10ms/step - loss: 0.0121 - root_mean_squared_error: 0.1098 - val_loss: 0.0117 - val_root_mean_squared_error: 0.1081\n",
      "Epoch 1227/2500\n",
      "8/8 [==============================] - 0s 10ms/step - loss: 0.0127 - root_mean_squared_error: 0.1125 - val_loss: 0.0123 - val_root_mean_squared_error: 0.1109\n",
      "Epoch 1228/2500\n",
      "8/8 [==============================] - 0s 9ms/step - loss: 0.0132 - root_mean_squared_error: 0.1151 - val_loss: 0.0125 - val_root_mean_squared_error: 0.1117\n",
      "Epoch 1229/2500\n",
      "8/8 [==============================] - 0s 10ms/step - loss: 0.0124 - root_mean_squared_error: 0.1112 - val_loss: 0.0133 - val_root_mean_squared_error: 0.1153\n",
      "Epoch 1230/2500\n",
      "8/8 [==============================] - 0s 11ms/step - loss: 0.0156 - root_mean_squared_error: 0.1248 - val_loss: 0.0123 - val_root_mean_squared_error: 0.1108\n",
      "Epoch 1231/2500\n",
      "8/8 [==============================] - 0s 9ms/step - loss: 0.0121 - root_mean_squared_error: 0.1099 - val_loss: 0.0119 - val_root_mean_squared_error: 0.1089\n",
      "Epoch 1232/2500\n",
      "8/8 [==============================] - 0s 10ms/step - loss: 0.0121 - root_mean_squared_error: 0.1099 - val_loss: 0.0121 - val_root_mean_squared_error: 0.1100\n",
      "Epoch 1233/2500\n",
      "8/8 [==============================] - 0s 9ms/step - loss: 0.0119 - root_mean_squared_error: 0.1092 - val_loss: 0.0123 - val_root_mean_squared_error: 0.1108\n",
      "Epoch 1234/2500\n"
     ]
    },
    {
     "name": "stdout",
     "output_type": "stream",
     "text": [
      "8/8 [==============================] - 0s 11ms/step - loss: 0.0119 - root_mean_squared_error: 0.1092 - val_loss: 0.0123 - val_root_mean_squared_error: 0.1111\n",
      "Epoch 1235/2500\n",
      "8/8 [==============================] - 0s 11ms/step - loss: 0.0119 - root_mean_squared_error: 0.1089 - val_loss: 0.0115 - val_root_mean_squared_error: 0.1075\n",
      "Epoch 1236/2500\n",
      "8/8 [==============================] - 0s 9ms/step - loss: 0.0124 - root_mean_squared_error: 0.1114 - val_loss: 0.0116 - val_root_mean_squared_error: 0.1079\n",
      "Epoch 1237/2500\n",
      "8/8 [==============================] - 0s 8ms/step - loss: 0.0127 - root_mean_squared_error: 0.1128 - val_loss: 0.0122 - val_root_mean_squared_error: 0.1106\n",
      "Epoch 1238/2500\n",
      "8/8 [==============================] - 0s 8ms/step - loss: 0.0123 - root_mean_squared_error: 0.1111 - val_loss: 0.0128 - val_root_mean_squared_error: 0.1130\n",
      "Epoch 1239/2500\n",
      "8/8 [==============================] - 0s 10ms/step - loss: 0.0120 - root_mean_squared_error: 0.1096 - val_loss: 0.0120 - val_root_mean_squared_error: 0.1096\n",
      "Epoch 1240/2500\n",
      "8/8 [==============================] - 0s 10ms/step - loss: 0.0119 - root_mean_squared_error: 0.1093 - val_loss: 0.0124 - val_root_mean_squared_error: 0.1111\n",
      "Epoch 1241/2500\n",
      "8/8 [==============================] - 0s 11ms/step - loss: 0.0120 - root_mean_squared_error: 0.1093 - val_loss: 0.0126 - val_root_mean_squared_error: 0.1121\n",
      "Epoch 1242/2500\n",
      "8/8 [==============================] - 0s 11ms/step - loss: 0.0120 - root_mean_squared_error: 0.1095 - val_loss: 0.0134 - val_root_mean_squared_error: 0.1155\n",
      "Epoch 1243/2500\n",
      "8/8 [==============================] - 0s 8ms/step - loss: 0.0117 - root_mean_squared_error: 0.1084 - val_loss: 0.0117 - val_root_mean_squared_error: 0.1081\n",
      "Epoch 1244/2500\n",
      "8/8 [==============================] - 0s 9ms/step - loss: 0.0128 - root_mean_squared_error: 0.1132 - val_loss: 0.0118 - val_root_mean_squared_error: 0.1086\n",
      "Epoch 1245/2500\n",
      "8/8 [==============================] - 0s 9ms/step - loss: 0.0124 - root_mean_squared_error: 0.1113 - val_loss: 0.0123 - val_root_mean_squared_error: 0.1108\n",
      "Epoch 1246/2500\n",
      "8/8 [==============================] - 0s 9ms/step - loss: 0.0121 - root_mean_squared_error: 0.1099 - val_loss: 0.0146 - val_root_mean_squared_error: 0.1209\n",
      "Epoch 1247/2500\n",
      "8/8 [==============================] - 0s 8ms/step - loss: 0.0121 - root_mean_squared_error: 0.1100 - val_loss: 0.0127 - val_root_mean_squared_error: 0.1127\n",
      "Epoch 1248/2500\n",
      "8/8 [==============================] - 0s 10ms/step - loss: 0.0119 - root_mean_squared_error: 0.1093 - val_loss: 0.0117 - val_root_mean_squared_error: 0.1082\n",
      "Epoch 1249/2500\n",
      "8/8 [==============================] - 0s 10ms/step - loss: 0.0119 - root_mean_squared_error: 0.1092 - val_loss: 0.0119 - val_root_mean_squared_error: 0.1091\n",
      "Epoch 1250/2500\n",
      "8/8 [==============================] - 0s 9ms/step - loss: 0.0124 - root_mean_squared_error: 0.1112 - val_loss: 0.0123 - val_root_mean_squared_error: 0.1108\n",
      "Epoch 1251/2500\n",
      "8/8 [==============================] - 0s 8ms/step - loss: 0.0120 - root_mean_squared_error: 0.1094 - val_loss: 0.0142 - val_root_mean_squared_error: 0.1191\n",
      "Epoch 1252/2500\n",
      "8/8 [==============================] - 0s 9ms/step - loss: 0.0140 - root_mean_squared_error: 0.1183 - val_loss: 0.0131 - val_root_mean_squared_error: 0.1146\n",
      "Epoch 1253/2500\n",
      "8/8 [==============================] - 0s 9ms/step - loss: 0.0133 - root_mean_squared_error: 0.1153 - val_loss: 0.0127 - val_root_mean_squared_error: 0.1128\n",
      "Epoch 1254/2500\n",
      "8/8 [==============================] - 0s 9ms/step - loss: 0.0120 - root_mean_squared_error: 0.1097 - val_loss: 0.0120 - val_root_mean_squared_error: 0.1095\n",
      "Epoch 1255/2500\n",
      "8/8 [==============================] - 0s 10ms/step - loss: 0.0126 - root_mean_squared_error: 0.1122 - val_loss: 0.0118 - val_root_mean_squared_error: 0.1086\n",
      "Epoch 1256/2500\n",
      "8/8 [==============================] - 0s 10ms/step - loss: 0.0121 - root_mean_squared_error: 0.1100 - val_loss: 0.0133 - val_root_mean_squared_error: 0.1152\n",
      "Epoch 1257/2500\n",
      "8/8 [==============================] - 0s 10ms/step - loss: 0.0121 - root_mean_squared_error: 0.1099 - val_loss: 0.0136 - val_root_mean_squared_error: 0.1167\n",
      "Epoch 1258/2500\n",
      "8/8 [==============================] - 0s 10ms/step - loss: 0.0119 - root_mean_squared_error: 0.1089 - val_loss: 0.0127 - val_root_mean_squared_error: 0.1125\n",
      "Epoch 1259/2500\n",
      "8/8 [==============================] - 0s 10ms/step - loss: 0.0119 - root_mean_squared_error: 0.1089 - val_loss: 0.0137 - val_root_mean_squared_error: 0.1170\n",
      "Epoch 1260/2500\n",
      "8/8 [==============================] - 0s 10ms/step - loss: 0.0120 - root_mean_squared_error: 0.1095 - val_loss: 0.0130 - val_root_mean_squared_error: 0.1138\n",
      "Epoch 1261/2500\n",
      "8/8 [==============================] - 0s 12ms/step - loss: 0.0118 - root_mean_squared_error: 0.1086 - val_loss: 0.0121 - val_root_mean_squared_error: 0.1102\n",
      "Epoch 1262/2500\n",
      "8/8 [==============================] - 0s 9ms/step - loss: 0.0118 - root_mean_squared_error: 0.1088 - val_loss: 0.0121 - val_root_mean_squared_error: 0.1099\n",
      "Epoch 1263/2500\n",
      "8/8 [==============================] - 0s 8ms/step - loss: 0.0120 - root_mean_squared_error: 0.1094 - val_loss: 0.0125 - val_root_mean_squared_error: 0.1118\n",
      "Epoch 1264/2500\n",
      "8/8 [==============================] - 0s 10ms/step - loss: 0.0118 - root_mean_squared_error: 0.1084 - val_loss: 0.0121 - val_root_mean_squared_error: 0.1101\n",
      "Epoch 1265/2500\n",
      "8/8 [==============================] - 0s 10ms/step - loss: 0.0122 - root_mean_squared_error: 0.1106 - val_loss: 0.0119 - val_root_mean_squared_error: 0.1091\n",
      "Epoch 1266/2500\n",
      "8/8 [==============================] - 0s 9ms/step - loss: 0.0120 - root_mean_squared_error: 0.1097 - val_loss: 0.0136 - val_root_mean_squared_error: 0.1168\n",
      "Epoch 1267/2500\n",
      "8/8 [==============================] - 0s 9ms/step - loss: 0.0119 - root_mean_squared_error: 0.1091 - val_loss: 0.0139 - val_root_mean_squared_error: 0.1180\n",
      "Epoch 1268/2500\n",
      "8/8 [==============================] - 0s 9ms/step - loss: 0.0118 - root_mean_squared_error: 0.1085 - val_loss: 0.0121 - val_root_mean_squared_error: 0.1099\n",
      "Epoch 1269/2500\n",
      "8/8 [==============================] - 0s 10ms/step - loss: 0.0125 - root_mean_squared_error: 0.1119 - val_loss: 0.0120 - val_root_mean_squared_error: 0.1095\n",
      "Epoch 1270/2500\n",
      "8/8 [==============================] - 0s 9ms/step - loss: 0.0116 - root_mean_squared_error: 0.1078 - val_loss: 0.0138 - val_root_mean_squared_error: 0.1176\n",
      "Epoch 1271/2500\n",
      "8/8 [==============================] - 0s 11ms/step - loss: 0.0121 - root_mean_squared_error: 0.1099 - val_loss: 0.0144 - val_root_mean_squared_error: 0.1199\n",
      "Epoch 1272/2500\n",
      "8/8 [==============================] - 0s 10ms/step - loss: 0.0120 - root_mean_squared_error: 0.1097 - val_loss: 0.0124 - val_root_mean_squared_error: 0.1114\n",
      "Epoch 1273/2500\n",
      "8/8 [==============================] - 0s 8ms/step - loss: 0.0119 - root_mean_squared_error: 0.1089 - val_loss: 0.0123 - val_root_mean_squared_error: 0.1108\n",
      "Epoch 1274/2500\n",
      "8/8 [==============================] - 0s 8ms/step - loss: 0.0119 - root_mean_squared_error: 0.1092 - val_loss: 0.0155 - val_root_mean_squared_error: 0.1245\n",
      "Epoch 1275/2500\n",
      "8/8 [==============================] - 0s 10ms/step - loss: 0.0124 - root_mean_squared_error: 0.1114 - val_loss: 0.0142 - val_root_mean_squared_error: 0.1190\n",
      "Epoch 1276/2500\n",
      "8/8 [==============================] - 0s 10ms/step - loss: 0.0121 - root_mean_squared_error: 0.1100 - val_loss: 0.0128 - val_root_mean_squared_error: 0.1129\n",
      "Epoch 1277/2500\n",
      "8/8 [==============================] - 0s 8ms/step - loss: 0.0119 - root_mean_squared_error: 0.1092 - val_loss: 0.0133 - val_root_mean_squared_error: 0.1155\n",
      "Epoch 1278/2500\n",
      "8/8 [==============================] - 0s 9ms/step - loss: 0.0125 - root_mean_squared_error: 0.1118 - val_loss: 0.0131 - val_root_mean_squared_error: 0.1145\n",
      "Epoch 1279/2500\n",
      "8/8 [==============================] - 0s 8ms/step - loss: 0.0131 - root_mean_squared_error: 0.1144 - val_loss: 0.0122 - val_root_mean_squared_error: 0.1104\n",
      "Epoch 1280/2500\n",
      "8/8 [==============================] - 0s 10ms/step - loss: 0.0118 - root_mean_squared_error: 0.1085 - val_loss: 0.0117 - val_root_mean_squared_error: 0.1080\n",
      "Epoch 1281/2500\n",
      "8/8 [==============================] - 0s 10ms/step - loss: 0.0135 - root_mean_squared_error: 0.1160 - val_loss: 0.0119 - val_root_mean_squared_error: 0.1090\n",
      "Epoch 1282/2500\n",
      "8/8 [==============================] - 0s 8ms/step - loss: 0.0123 - root_mean_squared_error: 0.1110 - val_loss: 0.0135 - val_root_mean_squared_error: 0.1161\n",
      "Epoch 1283/2500\n",
      "8/8 [==============================] - 0s 10ms/step - loss: 0.0129 - root_mean_squared_error: 0.1137 - val_loss: 0.0168 - val_root_mean_squared_error: 0.1297\n",
      "Epoch 1284/2500\n",
      "8/8 [==============================] - 0s 9ms/step - loss: 0.0123 - root_mean_squared_error: 0.1110 - val_loss: 0.0114 - val_root_mean_squared_error: 0.1067\n",
      "Epoch 1285/2500\n",
      "8/8 [==============================] - 0s 10ms/step - loss: 0.0121 - root_mean_squared_error: 0.1100 - val_loss: 0.0112 - val_root_mean_squared_error: 0.1061\n",
      "Epoch 1286/2500\n",
      "8/8 [==============================] - 0s 10ms/step - loss: 0.0122 - root_mean_squared_error: 0.1104 - val_loss: 0.0116 - val_root_mean_squared_error: 0.1076\n",
      "Epoch 1287/2500\n",
      "8/8 [==============================] - 0s 10ms/step - loss: 0.0117 - root_mean_squared_error: 0.1083 - val_loss: 0.0121 - val_root_mean_squared_error: 0.1099\n",
      "Epoch 1288/2500\n",
      "8/8 [==============================] - 0s 8ms/step - loss: 0.0119 - root_mean_squared_error: 0.1090 - val_loss: 0.0121 - val_root_mean_squared_error: 0.1100\n",
      "Epoch 1289/2500\n",
      "8/8 [==============================] - 0s 8ms/step - loss: 0.0119 - root_mean_squared_error: 0.1090 - val_loss: 0.0119 - val_root_mean_squared_error: 0.1091\n",
      "Epoch 1290/2500\n",
      "8/8 [==============================] - 0s 8ms/step - loss: 0.0117 - root_mean_squared_error: 0.1083 - val_loss: 0.0120 - val_root_mean_squared_error: 0.1096\n",
      "Epoch 1291/2500\n",
      "8/8 [==============================] - 0s 10ms/step - loss: 0.0121 - root_mean_squared_error: 0.1098 - val_loss: 0.0122 - val_root_mean_squared_error: 0.1104\n",
      "Epoch 1292/2500\n",
      "8/8 [==============================] - 0s 9ms/step - loss: 0.0119 - root_mean_squared_error: 0.1089 - val_loss: 0.0120 - val_root_mean_squared_error: 0.1098\n",
      "Epoch 1293/2500\n",
      "8/8 [==============================] - 0s 8ms/step - loss: 0.0118 - root_mean_squared_error: 0.1088 - val_loss: 0.0120 - val_root_mean_squared_error: 0.1093\n",
      "Epoch 1294/2500\n",
      "8/8 [==============================] - 0s 9ms/step - loss: 0.0119 - root_mean_squared_error: 0.1091 - val_loss: 0.0116 - val_root_mean_squared_error: 0.1077\n",
      "Epoch 1295/2500\n",
      "8/8 [==============================] - 0s 8ms/step - loss: 0.0128 - root_mean_squared_error: 0.1133 - val_loss: 0.0123 - val_root_mean_squared_error: 0.1108\n",
      "Epoch 1296/2500\n",
      "8/8 [==============================] - 0s 9ms/step - loss: 0.0128 - root_mean_squared_error: 0.1133 - val_loss: 0.0117 - val_root_mean_squared_error: 0.1083\n",
      "Epoch 1297/2500\n",
      "8/8 [==============================] - 0s 9ms/step - loss: 0.0122 - root_mean_squared_error: 0.1104 - val_loss: 0.0121 - val_root_mean_squared_error: 0.1098\n",
      "Epoch 1298/2500\n",
      "8/8 [==============================] - 0s 10ms/step - loss: 0.0117 - root_mean_squared_error: 0.1082 - val_loss: 0.0125 - val_root_mean_squared_error: 0.1117\n",
      "Epoch 1299/2500\n",
      "8/8 [==============================] - 0s 8ms/step - loss: 0.0118 - root_mean_squared_error: 0.1085 - val_loss: 0.0123 - val_root_mean_squared_error: 0.1107\n",
      "Epoch 1300/2500\n",
      "8/8 [==============================] - 0s 9ms/step - loss: 0.0117 - root_mean_squared_error: 0.1084 - val_loss: 0.0129 - val_root_mean_squared_error: 0.1136\n",
      "Epoch 1301/2500\n",
      "8/8 [==============================] - 0s 10ms/step - loss: 0.0121 - root_mean_squared_error: 0.1099 - val_loss: 0.0156 - val_root_mean_squared_error: 0.1250\n",
      "Epoch 1302/2500\n",
      "8/8 [==============================] - 0s 9ms/step - loss: 0.0122 - root_mean_squared_error: 0.1104 - val_loss: 0.0124 - val_root_mean_squared_error: 0.1112\n",
      "Epoch 1303/2500\n",
      "8/8 [==============================] - 0s 10ms/step - loss: 0.0119 - root_mean_squared_error: 0.1093 - val_loss: 0.0120 - val_root_mean_squared_error: 0.1097\n",
      "Epoch 1304/2500\n",
      "8/8 [==============================] - 0s 10ms/step - loss: 0.0123 - root_mean_squared_error: 0.1109 - val_loss: 0.0190 - val_root_mean_squared_error: 0.1380\n",
      "Epoch 1305/2500\n",
      "8/8 [==============================] - 0s 9ms/step - loss: 0.0129 - root_mean_squared_error: 0.1138 - val_loss: 0.0140 - val_root_mean_squared_error: 0.1182\n",
      "Epoch 1306/2500\n",
      "8/8 [==============================] - 0s 10ms/step - loss: 0.0121 - root_mean_squared_error: 0.1100 - val_loss: 0.0119 - val_root_mean_squared_error: 0.1092\n",
      "Epoch 1307/2500\n",
      "8/8 [==============================] - 0s 8ms/step - loss: 0.0130 - root_mean_squared_error: 0.1141 - val_loss: 0.0138 - val_root_mean_squared_error: 0.1176\n",
      "Epoch 1308/2500\n",
      "8/8 [==============================] - 0s 9ms/step - loss: 0.0122 - root_mean_squared_error: 0.1104 - val_loss: 0.0139 - val_root_mean_squared_error: 0.1180\n",
      "Epoch 1309/2500\n",
      "8/8 [==============================] - 0s 8ms/step - loss: 0.0123 - root_mean_squared_error: 0.1110 - val_loss: 0.0160 - val_root_mean_squared_error: 0.1265\n",
      "Epoch 1310/2500\n",
      "8/8 [==============================] - 0s 9ms/step - loss: 0.0121 - root_mean_squared_error: 0.1098 - val_loss: 0.0123 - val_root_mean_squared_error: 0.1110\n",
      "Epoch 1311/2500\n",
      "8/8 [==============================] - 0s 8ms/step - loss: 0.0120 - root_mean_squared_error: 0.1096 - val_loss: 0.0114 - val_root_mean_squared_error: 0.1068\n",
      "Epoch 1312/2500\n",
      "8/8 [==============================] - 0s 9ms/step - loss: 0.0126 - root_mean_squared_error: 0.1123 - val_loss: 0.0115 - val_root_mean_squared_error: 0.1073\n",
      "Epoch 1313/2500\n",
      "8/8 [==============================] - 0s 8ms/step - loss: 0.0116 - root_mean_squared_error: 0.1078 - val_loss: 0.0126 - val_root_mean_squared_error: 0.1123\n",
      "Epoch 1314/2500\n",
      "8/8 [==============================] - 0s 9ms/step - loss: 0.0120 - root_mean_squared_error: 0.1095 - val_loss: 0.0129 - val_root_mean_squared_error: 0.1137\n",
      "Epoch 1315/2500\n",
      "8/8 [==============================] - 0s 10ms/step - loss: 0.0119 - root_mean_squared_error: 0.1089 - val_loss: 0.0126 - val_root_mean_squared_error: 0.1122\n",
      "Epoch 1316/2500\n",
      "8/8 [==============================] - 0s 8ms/step - loss: 0.0118 - root_mean_squared_error: 0.1086 - val_loss: 0.0118 - val_root_mean_squared_error: 0.1087\n",
      "Epoch 1317/2500\n",
      "8/8 [==============================] - 0s 10ms/step - loss: 0.0130 - root_mean_squared_error: 0.1142 - val_loss: 0.0127 - val_root_mean_squared_error: 0.1128\n",
      "Epoch 1318/2500\n",
      "8/8 [==============================] - 0s 9ms/step - loss: 0.0122 - root_mean_squared_error: 0.1105 - val_loss: 0.0164 - val_root_mean_squared_error: 0.1280\n",
      "Epoch 1319/2500\n",
      "8/8 [==============================] - 0s 9ms/step - loss: 0.0130 - root_mean_squared_error: 0.1140 - val_loss: 0.0159 - val_root_mean_squared_error: 0.1261\n",
      "Epoch 1320/2500\n",
      "8/8 [==============================] - 0s 7ms/step - loss: 0.0123 - root_mean_squared_error: 0.1110 - val_loss: 0.0117 - val_root_mean_squared_error: 0.1080\n",
      "Epoch 1321/2500\n",
      "8/8 [==============================] - 0s 8ms/step - loss: 0.0123 - root_mean_squared_error: 0.1108 - val_loss: 0.0114 - val_root_mean_squared_error: 0.1066\n",
      "Epoch 1322/2500\n",
      "8/8 [==============================] - 0s 7ms/step - loss: 0.0118 - root_mean_squared_error: 0.1084 - val_loss: 0.0117 - val_root_mean_squared_error: 0.1083\n",
      "Epoch 1323/2500\n",
      "8/8 [==============================] - 0s 8ms/step - loss: 0.0121 - root_mean_squared_error: 0.1099 - val_loss: 0.0125 - val_root_mean_squared_error: 0.1119\n",
      "Epoch 1324/2500\n",
      "8/8 [==============================] - 0s 9ms/step - loss: 0.0123 - root_mean_squared_error: 0.1108 - val_loss: 0.0126 - val_root_mean_squared_error: 0.1121\n",
      "Epoch 1325/2500\n",
      "8/8 [==============================] - 0s 8ms/step - loss: 0.0119 - root_mean_squared_error: 0.1091 - val_loss: 0.0131 - val_root_mean_squared_error: 0.1144\n",
      "Epoch 1326/2500\n",
      "8/8 [==============================] - 0s 9ms/step - loss: 0.0120 - root_mean_squared_error: 0.1094 - val_loss: 0.0119 - val_root_mean_squared_error: 0.1091\n",
      "Epoch 1327/2500\n",
      "8/8 [==============================] - 0s 8ms/step - loss: 0.0118 - root_mean_squared_error: 0.1087 - val_loss: 0.0116 - val_root_mean_squared_error: 0.1077\n",
      "Epoch 1328/2500\n"
     ]
    },
    {
     "name": "stdout",
     "output_type": "stream",
     "text": [
      "8/8 [==============================] - 0s 9ms/step - loss: 0.0117 - root_mean_squared_error: 0.1083 - val_loss: 0.0119 - val_root_mean_squared_error: 0.1091\n",
      "Epoch 1329/2500\n",
      "8/8 [==============================] - 0s 8ms/step - loss: 0.0118 - root_mean_squared_error: 0.1088 - val_loss: 0.0122 - val_root_mean_squared_error: 0.1107\n",
      "Epoch 1330/2500\n",
      "8/8 [==============================] - 0s 9ms/step - loss: 0.0115 - root_mean_squared_error: 0.1075 - val_loss: 0.0120 - val_root_mean_squared_error: 0.1093\n",
      "Epoch 1331/2500\n",
      "8/8 [==============================] - 0s 8ms/step - loss: 0.0124 - root_mean_squared_error: 0.1114 - val_loss: 0.0116 - val_root_mean_squared_error: 0.1076\n",
      "Epoch 1332/2500\n",
      "8/8 [==============================] - 0s 9ms/step - loss: 0.0129 - root_mean_squared_error: 0.1137 - val_loss: 0.0137 - val_root_mean_squared_error: 0.1171\n",
      "Epoch 1333/2500\n",
      "8/8 [==============================] - 0s 8ms/step - loss: 0.0149 - root_mean_squared_error: 0.1222 - val_loss: 0.0146 - val_root_mean_squared_error: 0.1208\n",
      "Epoch 1334/2500\n",
      "8/8 [==============================] - 0s 9ms/step - loss: 0.0126 - root_mean_squared_error: 0.1124 - val_loss: 0.0127 - val_root_mean_squared_error: 0.1125\n",
      "Epoch 1335/2500\n",
      "8/8 [==============================] - 0s 9ms/step - loss: 0.0121 - root_mean_squared_error: 0.1100 - val_loss: 0.0144 - val_root_mean_squared_error: 0.1200\n",
      "Epoch 1336/2500\n",
      "8/8 [==============================] - 0s 10ms/step - loss: 0.0122 - root_mean_squared_error: 0.1104 - val_loss: 0.0121 - val_root_mean_squared_error: 0.1099\n",
      "Epoch 1337/2500\n",
      "8/8 [==============================] - 0s 10ms/step - loss: 0.0126 - root_mean_squared_error: 0.1123 - val_loss: 0.0113 - val_root_mean_squared_error: 0.1062\n",
      "Epoch 1338/2500\n",
      "8/8 [==============================] - 0s 10ms/step - loss: 0.0126 - root_mean_squared_error: 0.1120 - val_loss: 0.0114 - val_root_mean_squared_error: 0.1069\n",
      "Epoch 1339/2500\n",
      "8/8 [==============================] - 0s 10ms/step - loss: 0.0121 - root_mean_squared_error: 0.1101 - val_loss: 0.0120 - val_root_mean_squared_error: 0.1095\n",
      "Epoch 1340/2500\n",
      "8/8 [==============================] - 0s 10ms/step - loss: 0.0119 - root_mean_squared_error: 0.1089 - val_loss: 0.0119 - val_root_mean_squared_error: 0.1092\n",
      "Epoch 1341/2500\n",
      "8/8 [==============================] - 0s 10ms/step - loss: 0.0121 - root_mean_squared_error: 0.1098 - val_loss: 0.0113 - val_root_mean_squared_error: 0.1065\n",
      "Epoch 1342/2500\n",
      "8/8 [==============================] - 0s 10ms/step - loss: 0.0122 - root_mean_squared_error: 0.1104 - val_loss: 0.0117 - val_root_mean_squared_error: 0.1082\n",
      "Epoch 1343/2500\n",
      "8/8 [==============================] - 0s 9ms/step - loss: 0.0121 - root_mean_squared_error: 0.1102 - val_loss: 0.0114 - val_root_mean_squared_error: 0.1069\n",
      "Epoch 1344/2500\n",
      "8/8 [==============================] - 0s 8ms/step - loss: 0.0120 - root_mean_squared_error: 0.1096 - val_loss: 0.0124 - val_root_mean_squared_error: 0.1113\n",
      "Epoch 1345/2500\n",
      "8/8 [==============================] - 0s 9ms/step - loss: 0.0119 - root_mean_squared_error: 0.1091 - val_loss: 0.0124 - val_root_mean_squared_error: 0.1115\n",
      "Epoch 1346/2500\n",
      "8/8 [==============================] - 0s 10ms/step - loss: 0.0123 - root_mean_squared_error: 0.1110 - val_loss: 0.0114 - val_root_mean_squared_error: 0.1069\n",
      "Epoch 1347/2500\n",
      "8/8 [==============================] - 0s 9ms/step - loss: 0.0128 - root_mean_squared_error: 0.1131 - val_loss: 0.0118 - val_root_mean_squared_error: 0.1088\n",
      "Epoch 1348/2500\n",
      "8/8 [==============================] - 0s 10ms/step - loss: 0.0119 - root_mean_squared_error: 0.1090 - val_loss: 0.0121 - val_root_mean_squared_error: 0.1100\n",
      "Epoch 1349/2500\n",
      "8/8 [==============================] - 0s 10ms/step - loss: 0.0122 - root_mean_squared_error: 0.1104 - val_loss: 0.0117 - val_root_mean_squared_error: 0.1082\n",
      "Epoch 1350/2500\n",
      "8/8 [==============================] - 0s 10ms/step - loss: 0.0117 - root_mean_squared_error: 0.1081 - val_loss: 0.0116 - val_root_mean_squared_error: 0.1078\n",
      "Epoch 1351/2500\n",
      "8/8 [==============================] - 0s 9ms/step - loss: 0.0127 - root_mean_squared_error: 0.1127 - val_loss: 0.0126 - val_root_mean_squared_error: 0.1123\n",
      "Epoch 1352/2500\n",
      "8/8 [==============================] - 0s 10ms/step - loss: 0.0125 - root_mean_squared_error: 0.1119 - val_loss: 0.0119 - val_root_mean_squared_error: 0.1093\n",
      "Epoch 1353/2500\n",
      "8/8 [==============================] - 0s 7ms/step - loss: 0.0118 - root_mean_squared_error: 0.1088 - val_loss: 0.0141 - val_root_mean_squared_error: 0.1188\n",
      "Epoch 1354/2500\n",
      "8/8 [==============================] - 0s 9ms/step - loss: 0.0123 - root_mean_squared_error: 0.1110 - val_loss: 0.0154 - val_root_mean_squared_error: 0.1239\n",
      "Epoch 1355/2500\n",
      "8/8 [==============================] - 0s 8ms/step - loss: 0.0120 - root_mean_squared_error: 0.1096 - val_loss: 0.0118 - val_root_mean_squared_error: 0.1087\n",
      "Epoch 1356/2500\n",
      "8/8 [==============================] - 0s 9ms/step - loss: 0.0125 - root_mean_squared_error: 0.1116 - val_loss: 0.0128 - val_root_mean_squared_error: 0.1132\n",
      "Epoch 1357/2500\n",
      "8/8 [==============================] - 0s 7ms/step - loss: 0.0127 - root_mean_squared_error: 0.1126 - val_loss: 0.0126 - val_root_mean_squared_error: 0.1122\n",
      "Epoch 1358/2500\n",
      "8/8 [==============================] - 0s 8ms/step - loss: 0.0135 - root_mean_squared_error: 0.1161 - val_loss: 0.0230 - val_root_mean_squared_error: 0.1515\n",
      "Epoch 1359/2500\n",
      "8/8 [==============================] - 0s 9ms/step - loss: 0.0133 - root_mean_squared_error: 0.1152 - val_loss: 0.0131 - val_root_mean_squared_error: 0.1146\n",
      "Epoch 1360/2500\n",
      "8/8 [==============================] - 0s 8ms/step - loss: 0.0125 - root_mean_squared_error: 0.1118 - val_loss: 0.0113 - val_root_mean_squared_error: 0.1064\n",
      "Epoch 1361/2500\n",
      "8/8 [==============================] - 0s 9ms/step - loss: 0.0124 - root_mean_squared_error: 0.1114 - val_loss: 0.0114 - val_root_mean_squared_error: 0.1066\n",
      "Epoch 1362/2500\n",
      "8/8 [==============================] - 0s 10ms/step - loss: 0.0117 - root_mean_squared_error: 0.1081 - val_loss: 0.0125 - val_root_mean_squared_error: 0.1117\n",
      "Epoch 1363/2500\n",
      "8/8 [==============================] - 0s 8ms/step - loss: 0.0117 - root_mean_squared_error: 0.1082 - val_loss: 0.0127 - val_root_mean_squared_error: 0.1125\n",
      "Epoch 1364/2500\n",
      "8/8 [==============================] - 0s 9ms/step - loss: 0.0118 - root_mean_squared_error: 0.1084 - val_loss: 0.0120 - val_root_mean_squared_error: 0.1094\n",
      "Epoch 1365/2500\n",
      "8/8 [==============================] - 0s 8ms/step - loss: 0.0119 - root_mean_squared_error: 0.1092 - val_loss: 0.0120 - val_root_mean_squared_error: 0.1093\n",
      "Epoch 1366/2500\n",
      "8/8 [==============================] - 0s 8ms/step - loss: 0.0117 - root_mean_squared_error: 0.1081 - val_loss: 0.0121 - val_root_mean_squared_error: 0.1100\n",
      "Epoch 1367/2500\n",
      "8/8 [==============================] - 0s 8ms/step - loss: 0.0117 - root_mean_squared_error: 0.1080 - val_loss: 0.0122 - val_root_mean_squared_error: 0.1104\n",
      "Epoch 1368/2500\n",
      "8/8 [==============================] - 0s 10ms/step - loss: 0.0118 - root_mean_squared_error: 0.1089 - val_loss: 0.0122 - val_root_mean_squared_error: 0.1104\n",
      "Epoch 1369/2500\n",
      "8/8 [==============================] - 0s 8ms/step - loss: 0.0121 - root_mean_squared_error: 0.1098 - val_loss: 0.0125 - val_root_mean_squared_error: 0.1118\n",
      "Epoch 1370/2500\n",
      "8/8 [==============================] - 0s 9ms/step - loss: 0.0120 - root_mean_squared_error: 0.1095 - val_loss: 0.0117 - val_root_mean_squared_error: 0.1082\n",
      "Epoch 1371/2500\n",
      "8/8 [==============================] - 0s 8ms/step - loss: 0.0119 - root_mean_squared_error: 0.1092 - val_loss: 0.0115 - val_root_mean_squared_error: 0.1072\n",
      "Epoch 1372/2500\n",
      "8/8 [==============================] - 0s 9ms/step - loss: 0.0121 - root_mean_squared_error: 0.1102 - val_loss: 0.0117 - val_root_mean_squared_error: 0.1081\n",
      "Epoch 1373/2500\n",
      "8/8 [==============================] - 0s 8ms/step - loss: 0.0124 - root_mean_squared_error: 0.1112 - val_loss: 0.0124 - val_root_mean_squared_error: 0.1113\n",
      "Epoch 1374/2500\n",
      "8/8 [==============================] - 0s 7ms/step - loss: 0.0121 - root_mean_squared_error: 0.1101 - val_loss: 0.0136 - val_root_mean_squared_error: 0.1167\n",
      "Epoch 1375/2500\n",
      "8/8 [==============================] - 0s 9ms/step - loss: 0.0125 - root_mean_squared_error: 0.1117 - val_loss: 0.0130 - val_root_mean_squared_error: 0.1141\n",
      "Epoch 1376/2500\n",
      "8/8 [==============================] - 0s 10ms/step - loss: 0.0119 - root_mean_squared_error: 0.1089 - val_loss: 0.0121 - val_root_mean_squared_error: 0.1101\n",
      "Epoch 1377/2500\n",
      "8/8 [==============================] - 0s 8ms/step - loss: 0.0129 - root_mean_squared_error: 0.1135 - val_loss: 0.0119 - val_root_mean_squared_error: 0.1090\n",
      "Epoch 1378/2500\n",
      "8/8 [==============================] - 0s 10ms/step - loss: 0.0140 - root_mean_squared_error: 0.1182 - val_loss: 0.0127 - val_root_mean_squared_error: 0.1127\n",
      "Epoch 1379/2500\n",
      "8/8 [==============================] - 0s 8ms/step - loss: 0.0144 - root_mean_squared_error: 0.1199 - val_loss: 0.0125 - val_root_mean_squared_error: 0.1120\n",
      "Epoch 1380/2500\n",
      "8/8 [==============================] - 0s 10ms/step - loss: 0.0138 - root_mean_squared_error: 0.1173 - val_loss: 0.0132 - val_root_mean_squared_error: 0.1149\n",
      "Epoch 1381/2500\n",
      "8/8 [==============================] - 0s 9ms/step - loss: 0.0124 - root_mean_squared_error: 0.1113 - val_loss: 0.0122 - val_root_mean_squared_error: 0.1107\n",
      "Epoch 1382/2500\n",
      "8/8 [==============================] - 0s 10ms/step - loss: 0.0124 - root_mean_squared_error: 0.1114 - val_loss: 0.0141 - val_root_mean_squared_error: 0.1188\n",
      "Epoch 1383/2500\n",
      "8/8 [==============================] - 0s 8ms/step - loss: 0.0119 - root_mean_squared_error: 0.1093 - val_loss: 0.0141 - val_root_mean_squared_error: 0.1185\n",
      "Epoch 1384/2500\n",
      "8/8 [==============================] - 0s 10ms/step - loss: 0.0117 - root_mean_squared_error: 0.1084 - val_loss: 0.0120 - val_root_mean_squared_error: 0.1096\n",
      "Epoch 1385/2500\n",
      "8/8 [==============================] - 0s 8ms/step - loss: 0.0117 - root_mean_squared_error: 0.1081 - val_loss: 0.0117 - val_root_mean_squared_error: 0.1080\n",
      "Epoch 1386/2500\n",
      "8/8 [==============================] - 0s 10ms/step - loss: 0.0122 - root_mean_squared_error: 0.1104 - val_loss: 0.0122 - val_root_mean_squared_error: 0.1106\n",
      "Epoch 1387/2500\n",
      "8/8 [==============================] - 0s 8ms/step - loss: 0.0124 - root_mean_squared_error: 0.1112 - val_loss: 0.0152 - val_root_mean_squared_error: 0.1234\n",
      "Epoch 1388/2500\n",
      "8/8 [==============================] - 0s 10ms/step - loss: 0.0120 - root_mean_squared_error: 0.1093 - val_loss: 0.0133 - val_root_mean_squared_error: 0.1152\n",
      "Epoch 1389/2500\n",
      "8/8 [==============================] - 0s 8ms/step - loss: 0.0119 - root_mean_squared_error: 0.1089 - val_loss: 0.0121 - val_root_mean_squared_error: 0.1100\n",
      "Epoch 1390/2500\n",
      "8/8 [==============================] - 0s 9ms/step - loss: 0.0119 - root_mean_squared_error: 0.1091 - val_loss: 0.0123 - val_root_mean_squared_error: 0.1108\n",
      "Epoch 1391/2500\n",
      "8/8 [==============================] - 0s 8ms/step - loss: 0.0120 - root_mean_squared_error: 0.1097 - val_loss: 0.0130 - val_root_mean_squared_error: 0.1140\n",
      "Epoch 1392/2500\n",
      "8/8 [==============================] - 0s 9ms/step - loss: 0.0119 - root_mean_squared_error: 0.1092 - val_loss: 0.0123 - val_root_mean_squared_error: 0.1110\n",
      "Epoch 1393/2500\n",
      "8/8 [==============================] - 0s 9ms/step - loss: 0.0120 - root_mean_squared_error: 0.1094 - val_loss: 0.0127 - val_root_mean_squared_error: 0.1125\n",
      "Epoch 1394/2500\n",
      "8/8 [==============================] - 0s 9ms/step - loss: 0.0121 - root_mean_squared_error: 0.1101 - val_loss: 0.0118 - val_root_mean_squared_error: 0.1088\n",
      "Epoch 1395/2500\n",
      "8/8 [==============================] - 0s 8ms/step - loss: 0.0118 - root_mean_squared_error: 0.1085 - val_loss: 0.0133 - val_root_mean_squared_error: 0.1153\n",
      "Epoch 1396/2500\n",
      "8/8 [==============================] - 0s 10ms/step - loss: 0.0117 - root_mean_squared_error: 0.1081 - val_loss: 0.0137 - val_root_mean_squared_error: 0.1170\n",
      "Epoch 1397/2500\n",
      "8/8 [==============================] - 0s 10ms/step - loss: 0.0116 - root_mean_squared_error: 0.1078 - val_loss: 0.0131 - val_root_mean_squared_error: 0.1146\n",
      "Epoch 1398/2500\n",
      "8/8 [==============================] - 0s 10ms/step - loss: 0.0120 - root_mean_squared_error: 0.1093 - val_loss: 0.0124 - val_root_mean_squared_error: 0.1113\n",
      "Epoch 1399/2500\n",
      "8/8 [==============================] - 0s 9ms/step - loss: 0.0120 - root_mean_squared_error: 0.1096 - val_loss: 0.0121 - val_root_mean_squared_error: 0.1102\n",
      "Epoch 1400/2500\n",
      "8/8 [==============================] - 0s 11ms/step - loss: 0.0115 - root_mean_squared_error: 0.1074 - val_loss: 0.0126 - val_root_mean_squared_error: 0.1123\n",
      "Epoch 1401/2500\n",
      "8/8 [==============================] - 0s 10ms/step - loss: 0.0120 - root_mean_squared_error: 0.1097 - val_loss: 0.0131 - val_root_mean_squared_error: 0.1143\n",
      "Epoch 1402/2500\n",
      "8/8 [==============================] - 0s 10ms/step - loss: 0.0114 - root_mean_squared_error: 0.1069 - val_loss: 0.0127 - val_root_mean_squared_error: 0.1125\n",
      "Epoch 1403/2500\n",
      "8/8 [==============================] - 0s 9ms/step - loss: 0.0124 - root_mean_squared_error: 0.1112 - val_loss: 0.0142 - val_root_mean_squared_error: 0.1190\n",
      "Epoch 1404/2500\n",
      "8/8 [==============================] - 0s 10ms/step - loss: 0.0134 - root_mean_squared_error: 0.1156 - val_loss: 0.0268 - val_root_mean_squared_error: 0.1637\n",
      "Epoch 1405/2500\n",
      "8/8 [==============================] - 0s 10ms/step - loss: 0.0141 - root_mean_squared_error: 0.1185 - val_loss: 0.0130 - val_root_mean_squared_error: 0.1141\n",
      "Epoch 1406/2500\n",
      "8/8 [==============================] - 0s 10ms/step - loss: 0.0128 - root_mean_squared_error: 0.1133 - val_loss: 0.0152 - val_root_mean_squared_error: 0.1234\n",
      "Epoch 1407/2500\n",
      "8/8 [==============================] - 0s 10ms/step - loss: 0.0141 - root_mean_squared_error: 0.1186 - val_loss: 0.0119 - val_root_mean_squared_error: 0.1089\n",
      "Epoch 1408/2500\n",
      "8/8 [==============================] - 0s 10ms/step - loss: 0.0115 - root_mean_squared_error: 0.1074 - val_loss: 0.0140 - val_root_mean_squared_error: 0.1185\n",
      "Epoch 1409/2500\n",
      "8/8 [==============================] - 0s 10ms/step - loss: 0.0119 - root_mean_squared_error: 0.1093 - val_loss: 0.0146 - val_root_mean_squared_error: 0.1206\n",
      "Epoch 1410/2500\n",
      "8/8 [==============================] - 0s 9ms/step - loss: 0.0117 - root_mean_squared_error: 0.1080 - val_loss: 0.0127 - val_root_mean_squared_error: 0.1126\n",
      "Epoch 1411/2500\n",
      "8/8 [==============================] - 0s 10ms/step - loss: 0.0118 - root_mean_squared_error: 0.1088 - val_loss: 0.0118 - val_root_mean_squared_error: 0.1085\n",
      "Epoch 1412/2500\n",
      "8/8 [==============================] - 0s 10ms/step - loss: 0.0116 - root_mean_squared_error: 0.1078 - val_loss: 0.0120 - val_root_mean_squared_error: 0.1094\n",
      "Epoch 1413/2500\n",
      "8/8 [==============================] - 0s 10ms/step - loss: 0.0115 - root_mean_squared_error: 0.1073 - val_loss: 0.0120 - val_root_mean_squared_error: 0.1097\n",
      "Epoch 1414/2500\n",
      "8/8 [==============================] - 0s 10ms/step - loss: 0.0120 - root_mean_squared_error: 0.1097 - val_loss: 0.0123 - val_root_mean_squared_error: 0.1109\n",
      "Epoch 1415/2500\n",
      "8/8 [==============================] - 0s 10ms/step - loss: 0.0120 - root_mean_squared_error: 0.1097 - val_loss: 0.0124 - val_root_mean_squared_error: 0.1115\n",
      "Epoch 1416/2500\n",
      "8/8 [==============================] - 0s 10ms/step - loss: 0.0119 - root_mean_squared_error: 0.1090 - val_loss: 0.0141 - val_root_mean_squared_error: 0.1185\n",
      "Epoch 1417/2500\n",
      "8/8 [==============================] - 0s 8ms/step - loss: 0.0133 - root_mean_squared_error: 0.1153 - val_loss: 0.0146 - val_root_mean_squared_error: 0.1208\n",
      "Epoch 1418/2500\n",
      "8/8 [==============================] - 0s 9ms/step - loss: 0.0116 - root_mean_squared_error: 0.1077 - val_loss: 0.0119 - val_root_mean_squared_error: 0.1089\n",
      "Epoch 1419/2500\n",
      "8/8 [==============================] - 0s 10ms/step - loss: 0.0120 - root_mean_squared_error: 0.1095 - val_loss: 0.0123 - val_root_mean_squared_error: 0.1111\n",
      "Epoch 1420/2500\n",
      "8/8 [==============================] - 0s 9ms/step - loss: 0.0118 - root_mean_squared_error: 0.1085 - val_loss: 0.0194 - val_root_mean_squared_error: 0.1393\n",
      "Epoch 1421/2500\n",
      "8/8 [==============================] - 0s 8ms/step - loss: 0.0126 - root_mean_squared_error: 0.1124 - val_loss: 0.0152 - val_root_mean_squared_error: 0.1233\n",
      "Epoch 1422/2500\n"
     ]
    },
    {
     "name": "stdout",
     "output_type": "stream",
     "text": [
      "8/8 [==============================] - 0s 10ms/step - loss: 0.0117 - root_mean_squared_error: 0.1080 - val_loss: 0.0118 - val_root_mean_squared_error: 0.1088\n",
      "Epoch 1423/2500\n",
      "8/8 [==============================] - 0s 10ms/step - loss: 0.0118 - root_mean_squared_error: 0.1085 - val_loss: 0.0132 - val_root_mean_squared_error: 0.1150\n",
      "Epoch 1424/2500\n",
      "8/8 [==============================] - 0s 8ms/step - loss: 0.0121 - root_mean_squared_error: 0.1100 - val_loss: 0.0174 - val_root_mean_squared_error: 0.1321\n",
      "Epoch 1425/2500\n",
      "8/8 [==============================] - 0s 7ms/step - loss: 0.0127 - root_mean_squared_error: 0.1127 - val_loss: 0.0143 - val_root_mean_squared_error: 0.1195\n",
      "Epoch 1426/2500\n",
      "8/8 [==============================] - 0s 8ms/step - loss: 0.0123 - root_mean_squared_error: 0.1109 - val_loss: 0.0125 - val_root_mean_squared_error: 0.1119\n",
      "Epoch 1427/2500\n",
      "8/8 [==============================] - 0s 7ms/step - loss: 0.0117 - root_mean_squared_error: 0.1082 - val_loss: 0.0137 - val_root_mean_squared_error: 0.1171\n",
      "Epoch 1428/2500\n",
      "8/8 [==============================] - 0s 8ms/step - loss: 0.0119 - root_mean_squared_error: 0.1091 - val_loss: 0.0112 - val_root_mean_squared_error: 0.1056\n",
      "Epoch 1429/2500\n",
      "8/8 [==============================] - 0s 10ms/step - loss: 0.0121 - root_mean_squared_error: 0.1101 - val_loss: 0.0114 - val_root_mean_squared_error: 0.1068\n",
      "Epoch 1430/2500\n",
      "8/8 [==============================] - 0s 8ms/step - loss: 0.0124 - root_mean_squared_error: 0.1113 - val_loss: 0.0120 - val_root_mean_squared_error: 0.1096\n",
      "Epoch 1431/2500\n",
      "8/8 [==============================] - 0s 9ms/step - loss: 0.0120 - root_mean_squared_error: 0.1095 - val_loss: 0.0111 - val_root_mean_squared_error: 0.1054\n",
      "Epoch 1432/2500\n",
      "8/8 [==============================] - 0s 8ms/step - loss: 0.0119 - root_mean_squared_error: 0.1090 - val_loss: 0.0113 - val_root_mean_squared_error: 0.1065\n",
      "Epoch 1433/2500\n",
      "8/8 [==============================] - 0s 9ms/step - loss: 0.0120 - root_mean_squared_error: 0.1096 - val_loss: 0.0126 - val_root_mean_squared_error: 0.1125\n",
      "Epoch 1434/2500\n",
      "8/8 [==============================] - 0s 9ms/step - loss: 0.0118 - root_mean_squared_error: 0.1085 - val_loss: 0.0168 - val_root_mean_squared_error: 0.1295\n",
      "Epoch 1435/2500\n",
      "8/8 [==============================] - 0s 9ms/step - loss: 0.0147 - root_mean_squared_error: 0.1212 - val_loss: 0.0224 - val_root_mean_squared_error: 0.1497\n",
      "Epoch 1436/2500\n",
      "8/8 [==============================] - 0s 7ms/step - loss: 0.0133 - root_mean_squared_error: 0.1154 - val_loss: 0.0116 - val_root_mean_squared_error: 0.1075\n",
      "Epoch 1437/2500\n",
      "8/8 [==============================] - 0s 9ms/step - loss: 0.0125 - root_mean_squared_error: 0.1119 - val_loss: 0.0127 - val_root_mean_squared_error: 0.1128\n",
      "Epoch 1438/2500\n",
      "8/8 [==============================] - 0s 7ms/step - loss: 0.0121 - root_mean_squared_error: 0.1099 - val_loss: 0.0131 - val_root_mean_squared_error: 0.1143\n",
      "Epoch 1439/2500\n",
      "8/8 [==============================] - 0s 9ms/step - loss: 0.0132 - root_mean_squared_error: 0.1150 - val_loss: 0.0194 - val_root_mean_squared_error: 0.1391\n",
      "Epoch 1440/2500\n",
      "8/8 [==============================] - 0s 10ms/step - loss: 0.0135 - root_mean_squared_error: 0.1162 - val_loss: 0.0124 - val_root_mean_squared_error: 0.1113\n",
      "Epoch 1441/2500\n",
      "8/8 [==============================] - 0s 8ms/step - loss: 0.0116 - root_mean_squared_error: 0.1078 - val_loss: 0.0112 - val_root_mean_squared_error: 0.1058\n",
      "Epoch 1442/2500\n",
      "8/8 [==============================] - 0s 9ms/step - loss: 0.0128 - root_mean_squared_error: 0.1129 - val_loss: 0.0112 - val_root_mean_squared_error: 0.1061\n",
      "Epoch 1443/2500\n",
      "8/8 [==============================] - 0s 8ms/step - loss: 0.0130 - root_mean_squared_error: 0.1140 - val_loss: 0.0116 - val_root_mean_squared_error: 0.1079\n",
      "Epoch 1444/2500\n",
      "8/8 [==============================] - 0s 9ms/step - loss: 0.0123 - root_mean_squared_error: 0.1111 - val_loss: 0.0114 - val_root_mean_squared_error: 0.1067\n",
      "Epoch 1445/2500\n",
      "8/8 [==============================] - 0s 10ms/step - loss: 0.0120 - root_mean_squared_error: 0.1094 - val_loss: 0.0127 - val_root_mean_squared_error: 0.1128\n",
      "Epoch 1446/2500\n",
      "8/8 [==============================] - 0s 9ms/step - loss: 0.0118 - root_mean_squared_error: 0.1087 - val_loss: 0.0123 - val_root_mean_squared_error: 0.1109\n",
      "Epoch 1447/2500\n",
      "8/8 [==============================] - 0s 9ms/step - loss: 0.0116 - root_mean_squared_error: 0.1076 - val_loss: 0.0116 - val_root_mean_squared_error: 0.1075\n",
      "Epoch 1448/2500\n",
      "8/8 [==============================] - 0s 9ms/step - loss: 0.0117 - root_mean_squared_error: 0.1081 - val_loss: 0.0115 - val_root_mean_squared_error: 0.1071\n",
      "Epoch 1449/2500\n",
      "8/8 [==============================] - 0s 10ms/step - loss: 0.0116 - root_mean_squared_error: 0.1078 - val_loss: 0.0122 - val_root_mean_squared_error: 0.1106\n",
      "Epoch 1450/2500\n",
      "8/8 [==============================] - 0s 10ms/step - loss: 0.0115 - root_mean_squared_error: 0.1074 - val_loss: 0.0143 - val_root_mean_squared_error: 0.1196\n",
      "Epoch 1451/2500\n",
      "8/8 [==============================] - 0s 9ms/step - loss: 0.0117 - root_mean_squared_error: 0.1080 - val_loss: 0.0124 - val_root_mean_squared_error: 0.1111\n",
      "Epoch 1452/2500\n",
      "8/8 [==============================] - 0s 9ms/step - loss: 0.0116 - root_mean_squared_error: 0.1075 - val_loss: 0.0117 - val_root_mean_squared_error: 0.1084\n",
      "Epoch 1453/2500\n",
      "8/8 [==============================] - 0s 11ms/step - loss: 0.0130 - root_mean_squared_error: 0.1142 - val_loss: 0.0118 - val_root_mean_squared_error: 0.1087\n",
      "Epoch 1454/2500\n",
      "8/8 [==============================] - 0s 10ms/step - loss: 0.0124 - root_mean_squared_error: 0.1113 - val_loss: 0.0127 - val_root_mean_squared_error: 0.1126\n",
      "Epoch 1455/2500\n",
      "8/8 [==============================] - 0s 8ms/step - loss: 0.0115 - root_mean_squared_error: 0.1074 - val_loss: 0.0129 - val_root_mean_squared_error: 0.1134\n",
      "Epoch 1456/2500\n",
      "8/8 [==============================] - 0s 7ms/step - loss: 0.0118 - root_mean_squared_error: 0.1084 - val_loss: 0.0121 - val_root_mean_squared_error: 0.1098\n",
      "Epoch 1457/2500\n",
      "8/8 [==============================] - 0s 10ms/step - loss: 0.0115 - root_mean_squared_error: 0.1072 - val_loss: 0.0117 - val_root_mean_squared_error: 0.1081\n",
      "Epoch 1458/2500\n",
      "8/8 [==============================] - 0s 9ms/step - loss: 0.0122 - root_mean_squared_error: 0.1105 - val_loss: 0.0121 - val_root_mean_squared_error: 0.1099\n",
      "Epoch 1459/2500\n",
      "8/8 [==============================] - 0s 9ms/step - loss: 0.0127 - root_mean_squared_error: 0.1129 - val_loss: 0.0114 - val_root_mean_squared_error: 0.1070\n",
      "Epoch 1460/2500\n",
      "8/8 [==============================] - 0s 9ms/step - loss: 0.0119 - root_mean_squared_error: 0.1090 - val_loss: 0.0127 - val_root_mean_squared_error: 0.1126\n",
      "Epoch 1461/2500\n",
      "8/8 [==============================] - 0s 10ms/step - loss: 0.0117 - root_mean_squared_error: 0.1084 - val_loss: 0.0126 - val_root_mean_squared_error: 0.1121\n",
      "Epoch 1462/2500\n",
      "8/8 [==============================] - 0s 9ms/step - loss: 0.0118 - root_mean_squared_error: 0.1086 - val_loss: 0.0141 - val_root_mean_squared_error: 0.1187\n",
      "Epoch 1463/2500\n",
      "8/8 [==============================] - 0s 8ms/step - loss: 0.0119 - root_mean_squared_error: 0.1089 - val_loss: 0.0128 - val_root_mean_squared_error: 0.1131\n",
      "Epoch 1464/2500\n",
      "8/8 [==============================] - 0s 10ms/step - loss: 0.0118 - root_mean_squared_error: 0.1087 - val_loss: 0.0115 - val_root_mean_squared_error: 0.1072\n",
      "Epoch 1465/2500\n",
      "8/8 [==============================] - 0s 10ms/step - loss: 0.0120 - root_mean_squared_error: 0.1098 - val_loss: 0.0114 - val_root_mean_squared_error: 0.1067\n",
      "Epoch 1466/2500\n",
      "8/8 [==============================] - 0s 8ms/step - loss: 0.0123 - root_mean_squared_error: 0.1110 - val_loss: 0.0118 - val_root_mean_squared_error: 0.1088\n",
      "Epoch 1467/2500\n",
      "8/8 [==============================] - 0s 9ms/step - loss: 0.0119 - root_mean_squared_error: 0.1089 - val_loss: 0.0131 - val_root_mean_squared_error: 0.1146\n",
      "Epoch 1468/2500\n",
      "8/8 [==============================] - 0s 10ms/step - loss: 0.0119 - root_mean_squared_error: 0.1090 - val_loss: 0.0127 - val_root_mean_squared_error: 0.1128\n",
      "Epoch 1469/2500\n",
      "8/8 [==============================] - 0s 8ms/step - loss: 0.0116 - root_mean_squared_error: 0.1078 - val_loss: 0.0120 - val_root_mean_squared_error: 0.1096\n",
      "Epoch 1470/2500\n",
      "8/8 [==============================] - 0s 9ms/step - loss: 0.0117 - root_mean_squared_error: 0.1083 - val_loss: 0.0117 - val_root_mean_squared_error: 0.1082\n",
      "Epoch 1471/2500\n",
      "8/8 [==============================] - 0s 10ms/step - loss: 0.0125 - root_mean_squared_error: 0.1118 - val_loss: 0.0121 - val_root_mean_squared_error: 0.1100\n",
      "Epoch 1472/2500\n",
      "8/8 [==============================] - 0s 10ms/step - loss: 0.0121 - root_mean_squared_error: 0.1098 - val_loss: 0.0155 - val_root_mean_squared_error: 0.1247\n",
      "Epoch 1473/2500\n",
      "8/8 [==============================] - 0s 10ms/step - loss: 0.0120 - root_mean_squared_error: 0.1096 - val_loss: 0.0142 - val_root_mean_squared_error: 0.1192\n",
      "Epoch 1474/2500\n",
      "8/8 [==============================] - 0s 9ms/step - loss: 0.0117 - root_mean_squared_error: 0.1080 - val_loss: 0.0121 - val_root_mean_squared_error: 0.1101\n",
      "Epoch 1475/2500\n",
      "8/8 [==============================] - 0s 11ms/step - loss: 0.0116 - root_mean_squared_error: 0.1077 - val_loss: 0.0119 - val_root_mean_squared_error: 0.1093\n",
      "Epoch 1476/2500\n",
      "8/8 [==============================] - 0s 10ms/step - loss: 0.0114 - root_mean_squared_error: 0.1066 - val_loss: 0.0139 - val_root_mean_squared_error: 0.1177\n",
      "Epoch 1477/2500\n",
      "8/8 [==============================] - 0s 8ms/step - loss: 0.0116 - root_mean_squared_error: 0.1078 - val_loss: 0.0116 - val_root_mean_squared_error: 0.1076\n",
      "Epoch 1478/2500\n",
      "8/8 [==============================] - 0s 9ms/step - loss: 0.0118 - root_mean_squared_error: 0.1088 - val_loss: 0.0115 - val_root_mean_squared_error: 0.1073\n",
      "Epoch 1479/2500\n",
      "8/8 [==============================] - 0s 8ms/step - loss: 0.0119 - root_mean_squared_error: 0.1089 - val_loss: 0.0120 - val_root_mean_squared_error: 0.1097\n",
      "Epoch 1480/2500\n",
      "8/8 [==============================] - 0s 10ms/step - loss: 0.0116 - root_mean_squared_error: 0.1076 - val_loss: 0.0118 - val_root_mean_squared_error: 0.1085\n",
      "Epoch 1481/2500\n",
      "8/8 [==============================] - 0s 9ms/step - loss: 0.0119 - root_mean_squared_error: 0.1091 - val_loss: 0.0119 - val_root_mean_squared_error: 0.1090\n",
      "Epoch 1482/2500\n",
      "8/8 [==============================] - 0s 8ms/step - loss: 0.0123 - root_mean_squared_error: 0.1107 - val_loss: 0.0118 - val_root_mean_squared_error: 0.1088\n",
      "Epoch 1483/2500\n",
      "8/8 [==============================] - 0s 9ms/step - loss: 0.0118 - root_mean_squared_error: 0.1087 - val_loss: 0.0126 - val_root_mean_squared_error: 0.1124\n",
      "Epoch 1484/2500\n",
      "8/8 [==============================] - 0s 8ms/step - loss: 0.0118 - root_mean_squared_error: 0.1089 - val_loss: 0.0139 - val_root_mean_squared_error: 0.1180\n",
      "Epoch 1485/2500\n",
      "8/8 [==============================] - 0s 9ms/step - loss: 0.0117 - root_mean_squared_error: 0.1079 - val_loss: 0.0127 - val_root_mean_squared_error: 0.1125\n",
      "Epoch 1486/2500\n",
      "8/8 [==============================] - 0s 12ms/step - loss: 0.0116 - root_mean_squared_error: 0.1079 - val_loss: 0.0120 - val_root_mean_squared_error: 0.1097\n",
      "Epoch 1487/2500\n",
      "8/8 [==============================] - 0s 9ms/step - loss: 0.0117 - root_mean_squared_error: 0.1082 - val_loss: 0.0123 - val_root_mean_squared_error: 0.1109\n",
      "Epoch 1488/2500\n",
      "8/8 [==============================] - 0s 9ms/step - loss: 0.0116 - root_mean_squared_error: 0.1075 - val_loss: 0.0126 - val_root_mean_squared_error: 0.1123\n",
      "Epoch 1489/2500\n",
      "8/8 [==============================] - 0s 7ms/step - loss: 0.0129 - root_mean_squared_error: 0.1136 - val_loss: 0.0123 - val_root_mean_squared_error: 0.1109\n",
      "Epoch 1490/2500\n",
      "8/8 [==============================] - 0s 8ms/step - loss: 0.0125 - root_mean_squared_error: 0.1117 - val_loss: 0.0131 - val_root_mean_squared_error: 0.1147\n",
      "Epoch 1491/2500\n",
      "8/8 [==============================] - 0s 8ms/step - loss: 0.0114 - root_mean_squared_error: 0.1069 - val_loss: 0.0130 - val_root_mean_squared_error: 0.1141\n",
      "Epoch 1492/2500\n",
      "8/8 [==============================] - 0s 9ms/step - loss: 0.0116 - root_mean_squared_error: 0.1078 - val_loss: 0.0125 - val_root_mean_squared_error: 0.1118\n",
      "Epoch 1493/2500\n",
      "8/8 [==============================] - 0s 8ms/step - loss: 0.0116 - root_mean_squared_error: 0.1075 - val_loss: 0.0125 - val_root_mean_squared_error: 0.1118\n",
      "Epoch 1494/2500\n",
      "8/8 [==============================] - 0s 9ms/step - loss: 0.0122 - root_mean_squared_error: 0.1104 - val_loss: 0.0124 - val_root_mean_squared_error: 0.1115\n",
      "Epoch 1495/2500\n",
      "8/8 [==============================] - 0s 8ms/step - loss: 0.0123 - root_mean_squared_error: 0.1107 - val_loss: 0.0125 - val_root_mean_squared_error: 0.1120\n",
      "Epoch 1496/2500\n",
      "8/8 [==============================] - 0s 8ms/step - loss: 0.0119 - root_mean_squared_error: 0.1089 - val_loss: 0.0126 - val_root_mean_squared_error: 0.1123\n",
      "Epoch 1497/2500\n",
      "8/8 [==============================] - 0s 9ms/step - loss: 0.0114 - root_mean_squared_error: 0.1069 - val_loss: 0.0123 - val_root_mean_squared_error: 0.1109\n",
      "Epoch 1498/2500\n",
      "8/8 [==============================] - 0s 8ms/step - loss: 0.0115 - root_mean_squared_error: 0.1072 - val_loss: 0.0126 - val_root_mean_squared_error: 0.1124\n",
      "Epoch 1499/2500\n",
      "8/8 [==============================] - 0s 9ms/step - loss: 0.0116 - root_mean_squared_error: 0.1078 - val_loss: 0.0128 - val_root_mean_squared_error: 0.1129\n",
      "Epoch 1500/2500\n",
      "8/8 [==============================] - 0s 8ms/step - loss: 0.0115 - root_mean_squared_error: 0.1073 - val_loss: 0.0131 - val_root_mean_squared_error: 0.1142\n",
      "Epoch 1501/2500\n",
      "8/8 [==============================] - 0s 10ms/step - loss: 0.0114 - root_mean_squared_error: 0.1068 - val_loss: 0.0123 - val_root_mean_squared_error: 0.1109\n",
      "Epoch 1502/2500\n",
      "8/8 [==============================] - 0s 10ms/step - loss: 0.0114 - root_mean_squared_error: 0.1070 - val_loss: 0.0118 - val_root_mean_squared_error: 0.1087\n",
      "Epoch 1503/2500\n",
      "8/8 [==============================] - 0s 9ms/step - loss: 0.0116 - root_mean_squared_error: 0.1075 - val_loss: 0.0121 - val_root_mean_squared_error: 0.1101\n",
      "Epoch 1504/2500\n",
      "8/8 [==============================] - 0s 8ms/step - loss: 0.0127 - root_mean_squared_error: 0.1129 - val_loss: 0.0132 - val_root_mean_squared_error: 0.1150\n",
      "Epoch 1505/2500\n",
      "8/8 [==============================] - 0s 9ms/step - loss: 0.0126 - root_mean_squared_error: 0.1123 - val_loss: 0.0124 - val_root_mean_squared_error: 0.1114\n",
      "Epoch 1506/2500\n",
      "8/8 [==============================] - 0s 8ms/step - loss: 0.0116 - root_mean_squared_error: 0.1075 - val_loss: 0.0122 - val_root_mean_squared_error: 0.1105\n",
      "Epoch 1507/2500\n",
      "8/8 [==============================] - 0s 9ms/step - loss: 0.0119 - root_mean_squared_error: 0.1089 - val_loss: 0.0127 - val_root_mean_squared_error: 0.1129\n",
      "Epoch 1508/2500\n",
      "8/8 [==============================] - 0s 8ms/step - loss: 0.0116 - root_mean_squared_error: 0.1078 - val_loss: 0.0131 - val_root_mean_squared_error: 0.1145\n",
      "Epoch 1509/2500\n",
      "8/8 [==============================] - 0s 9ms/step - loss: 0.0115 - root_mean_squared_error: 0.1074 - val_loss: 0.0123 - val_root_mean_squared_error: 0.1107\n",
      "Epoch 1510/2500\n",
      "8/8 [==============================] - 0s 8ms/step - loss: 0.0116 - root_mean_squared_error: 0.1077 - val_loss: 0.0140 - val_root_mean_squared_error: 0.1184\n",
      "Epoch 1511/2500\n",
      "8/8 [==============================] - 0s 10ms/step - loss: 0.0116 - root_mean_squared_error: 0.1078 - val_loss: 0.0123 - val_root_mean_squared_error: 0.1108\n",
      "Epoch 1512/2500\n",
      "8/8 [==============================] - 0s 10ms/step - loss: 0.0114 - root_mean_squared_error: 0.1067 - val_loss: 0.0119 - val_root_mean_squared_error: 0.1090\n",
      "Epoch 1513/2500\n",
      "8/8 [==============================] - 0s 10ms/step - loss: 0.0114 - root_mean_squared_error: 0.1068 - val_loss: 0.0117 - val_root_mean_squared_error: 0.1080\n",
      "Epoch 1514/2500\n",
      "8/8 [==============================] - 0s 11ms/step - loss: 0.0116 - root_mean_squared_error: 0.1076 - val_loss: 0.0118 - val_root_mean_squared_error: 0.1086\n",
      "Epoch 1515/2500\n",
      "8/8 [==============================] - 0s 11ms/step - loss: 0.0113 - root_mean_squared_error: 0.1063 - val_loss: 0.0155 - val_root_mean_squared_error: 0.1243\n",
      "Epoch 1516/2500\n"
     ]
    },
    {
     "name": "stdout",
     "output_type": "stream",
     "text": [
      "8/8 [==============================] - 0s 10ms/step - loss: 0.0122 - root_mean_squared_error: 0.1105 - val_loss: 0.0174 - val_root_mean_squared_error: 0.1317\n",
      "Epoch 1517/2500\n",
      "8/8 [==============================] - 0s 8ms/step - loss: 0.0121 - root_mean_squared_error: 0.1102 - val_loss: 0.0140 - val_root_mean_squared_error: 0.1184\n",
      "Epoch 1518/2500\n",
      "8/8 [==============================] - 0s 10ms/step - loss: 0.0116 - root_mean_squared_error: 0.1076 - val_loss: 0.0138 - val_root_mean_squared_error: 0.1174\n",
      "Epoch 1519/2500\n",
      "8/8 [==============================] - 0s 14ms/step - loss: 0.0115 - root_mean_squared_error: 0.1074 - val_loss: 0.0124 - val_root_mean_squared_error: 0.1113\n",
      "Epoch 1520/2500\n",
      "8/8 [==============================] - 0s 11ms/step - loss: 0.0117 - root_mean_squared_error: 0.1080 - val_loss: 0.0122 - val_root_mean_squared_error: 0.1102\n",
      "Epoch 1521/2500\n",
      "8/8 [==============================] - 0s 9ms/step - loss: 0.0115 - root_mean_squared_error: 0.1073 - val_loss: 0.0133 - val_root_mean_squared_error: 0.1155\n",
      "Epoch 1522/2500\n",
      "8/8 [==============================] - 0s 10ms/step - loss: 0.0117 - root_mean_squared_error: 0.1082 - val_loss: 0.0138 - val_root_mean_squared_error: 0.1177\n",
      "Epoch 1523/2500\n",
      "8/8 [==============================] - 0s 9ms/step - loss: 0.0122 - root_mean_squared_error: 0.1106 - val_loss: 0.0127 - val_root_mean_squared_error: 0.1128\n",
      "Epoch 1524/2500\n",
      "8/8 [==============================] - 0s 11ms/step - loss: 0.0123 - root_mean_squared_error: 0.1108 - val_loss: 0.0168 - val_root_mean_squared_error: 0.1297\n",
      "Epoch 1525/2500\n",
      "8/8 [==============================] - 0s 10ms/step - loss: 0.0118 - root_mean_squared_error: 0.1088 - val_loss: 0.0118 - val_root_mean_squared_error: 0.1086\n",
      "Epoch 1526/2500\n",
      "8/8 [==============================] - 0s 10ms/step - loss: 0.0123 - root_mean_squared_error: 0.1107 - val_loss: 0.0115 - val_root_mean_squared_error: 0.1073\n",
      "Epoch 1527/2500\n",
      "8/8 [==============================] - 0s 10ms/step - loss: 0.0121 - root_mean_squared_error: 0.1100 - val_loss: 0.0116 - val_root_mean_squared_error: 0.1076\n",
      "Epoch 1528/2500\n",
      "8/8 [==============================] - 0s 10ms/step - loss: 0.0118 - root_mean_squared_error: 0.1087 - val_loss: 0.0129 - val_root_mean_squared_error: 0.1134\n",
      "Epoch 1529/2500\n",
      "8/8 [==============================] - 0s 9ms/step - loss: 0.0119 - root_mean_squared_error: 0.1091 - val_loss: 0.0132 - val_root_mean_squared_error: 0.1150\n",
      "Epoch 1530/2500\n",
      "8/8 [==============================] - 0s 9ms/step - loss: 0.0115 - root_mean_squared_error: 0.1073 - val_loss: 0.0132 - val_root_mean_squared_error: 0.1148\n",
      "Epoch 1531/2500\n",
      "8/8 [==============================] - 0s 9ms/step - loss: 0.0118 - root_mean_squared_error: 0.1086 - val_loss: 0.0120 - val_root_mean_squared_error: 0.1095\n",
      "Epoch 1532/2500\n",
      "8/8 [==============================] - 0s 9ms/step - loss: 0.0117 - root_mean_squared_error: 0.1083 - val_loss: 0.0125 - val_root_mean_squared_error: 0.1117\n",
      "Epoch 1533/2500\n",
      "8/8 [==============================] - 0s 9ms/step - loss: 0.0113 - root_mean_squared_error: 0.1065 - val_loss: 0.0137 - val_root_mean_squared_error: 0.1172\n",
      "Epoch 1534/2500\n",
      "8/8 [==============================] - 0s 9ms/step - loss: 0.0116 - root_mean_squared_error: 0.1076 - val_loss: 0.0138 - val_root_mean_squared_error: 0.1175\n",
      "Epoch 1535/2500\n",
      "8/8 [==============================] - 0s 9ms/step - loss: 0.0123 - root_mean_squared_error: 0.1108 - val_loss: 0.0123 - val_root_mean_squared_error: 0.1111\n",
      "Epoch 1536/2500\n",
      "8/8 [==============================] - 0s 12ms/step - loss: 0.0118 - root_mean_squared_error: 0.1085 - val_loss: 0.0170 - val_root_mean_squared_error: 0.1304\n",
      "Epoch 1537/2500\n",
      "8/8 [==============================] - 0s 10ms/step - loss: 0.0123 - root_mean_squared_error: 0.1110 - val_loss: 0.0153 - val_root_mean_squared_error: 0.1237\n",
      "Epoch 1538/2500\n",
      "8/8 [==============================] - 0s 11ms/step - loss: 0.0117 - root_mean_squared_error: 0.1083 - val_loss: 0.0136 - val_root_mean_squared_error: 0.1165\n",
      "Epoch 1539/2500\n",
      "8/8 [==============================] - 0s 11ms/step - loss: 0.0117 - root_mean_squared_error: 0.1082 - val_loss: 0.0181 - val_root_mean_squared_error: 0.1345\n",
      "Epoch 1540/2500\n",
      "8/8 [==============================] - 0s 10ms/step - loss: 0.0130 - root_mean_squared_error: 0.1140 - val_loss: 0.0157 - val_root_mean_squared_error: 0.1251\n",
      "Epoch 1541/2500\n",
      "8/8 [==============================] - 0s 10ms/step - loss: 0.0121 - root_mean_squared_error: 0.1098 - val_loss: 0.0138 - val_root_mean_squared_error: 0.1173\n",
      "Epoch 1542/2500\n",
      "8/8 [==============================] - 0s 10ms/step - loss: 0.0122 - root_mean_squared_error: 0.1103 - val_loss: 0.0137 - val_root_mean_squared_error: 0.1171\n",
      "Epoch 1543/2500\n",
      "8/8 [==============================] - 0s 10ms/step - loss: 0.0119 - root_mean_squared_error: 0.1090 - val_loss: 0.0142 - val_root_mean_squared_error: 0.1191\n",
      "Epoch 1544/2500\n",
      "8/8 [==============================] - 0s 11ms/step - loss: 0.0116 - root_mean_squared_error: 0.1077 - val_loss: 0.0133 - val_root_mean_squared_error: 0.1151\n",
      "Epoch 1545/2500\n",
      "8/8 [==============================] - 0s 9ms/step - loss: 0.0119 - root_mean_squared_error: 0.1092 - val_loss: 0.0129 - val_root_mean_squared_error: 0.1134\n",
      "Epoch 1546/2500\n",
      "8/8 [==============================] - 0s 10ms/step - loss: 0.0121 - root_mean_squared_error: 0.1102 - val_loss: 0.0136 - val_root_mean_squared_error: 0.1165\n",
      "Epoch 1547/2500\n",
      "8/8 [==============================] - 0s 10ms/step - loss: 0.0116 - root_mean_squared_error: 0.1076 - val_loss: 0.0136 - val_root_mean_squared_error: 0.1166\n",
      "Epoch 1548/2500\n",
      "8/8 [==============================] - 0s 11ms/step - loss: 0.0119 - root_mean_squared_error: 0.1090 - val_loss: 0.0130 - val_root_mean_squared_error: 0.1141\n",
      "Epoch 1549/2500\n",
      "8/8 [==============================] - 0s 9ms/step - loss: 0.0136 - root_mean_squared_error: 0.1165 - val_loss: 0.0127 - val_root_mean_squared_error: 0.1127\n",
      "Epoch 1550/2500\n",
      "8/8 [==============================] - 0s 10ms/step - loss: 0.0127 - root_mean_squared_error: 0.1128 - val_loss: 0.0125 - val_root_mean_squared_error: 0.1120\n",
      "Epoch 1551/2500\n",
      "8/8 [==============================] - 0s 10ms/step - loss: 0.0118 - root_mean_squared_error: 0.1088 - val_loss: 0.0122 - val_root_mean_squared_error: 0.1103\n",
      "Epoch 1552/2500\n",
      "8/8 [==============================] - 0s 10ms/step - loss: 0.0117 - root_mean_squared_error: 0.1083 - val_loss: 0.0125 - val_root_mean_squared_error: 0.1117\n",
      "Epoch 1553/2500\n",
      "8/8 [==============================] - 0s 10ms/step - loss: 0.0117 - root_mean_squared_error: 0.1082 - val_loss: 0.0120 - val_root_mean_squared_error: 0.1095\n",
      "Epoch 1554/2500\n",
      "8/8 [==============================] - 0s 11ms/step - loss: 0.0117 - root_mean_squared_error: 0.1080 - val_loss: 0.0129 - val_root_mean_squared_error: 0.1135\n",
      "Epoch 1555/2500\n",
      "8/8 [==============================] - 0s 10ms/step - loss: 0.0116 - root_mean_squared_error: 0.1076 - val_loss: 0.0144 - val_root_mean_squared_error: 0.1201\n",
      "Epoch 1556/2500\n",
      "8/8 [==============================] - 0s 12ms/step - loss: 0.0116 - root_mean_squared_error: 0.1078 - val_loss: 0.0132 - val_root_mean_squared_error: 0.1151\n",
      "Epoch 1557/2500\n",
      "8/8 [==============================] - 0s 10ms/step - loss: 0.0122 - root_mean_squared_error: 0.1106 - val_loss: 0.0151 - val_root_mean_squared_error: 0.1228\n",
      "Epoch 1558/2500\n",
      "8/8 [==============================] - 0s 10ms/step - loss: 0.0143 - root_mean_squared_error: 0.1196 - val_loss: 0.0270 - val_root_mean_squared_error: 0.1642\n",
      "Epoch 1559/2500\n",
      "8/8 [==============================] - 0s 10ms/step - loss: 0.0134 - root_mean_squared_error: 0.1159 - val_loss: 0.0144 - val_root_mean_squared_error: 0.1201\n",
      "Epoch 1560/2500\n",
      "8/8 [==============================] - 0s 10ms/step - loss: 0.0122 - root_mean_squared_error: 0.1104 - val_loss: 0.0121 - val_root_mean_squared_error: 0.1099\n",
      "Epoch 1561/2500\n",
      "8/8 [==============================] - 0s 11ms/step - loss: 0.0123 - root_mean_squared_error: 0.1110 - val_loss: 0.0124 - val_root_mean_squared_error: 0.1113\n",
      "Epoch 1562/2500\n",
      "8/8 [==============================] - 0s 11ms/step - loss: 0.0127 - root_mean_squared_error: 0.1126 - val_loss: 0.0144 - val_root_mean_squared_error: 0.1199\n",
      "Epoch 1563/2500\n",
      "8/8 [==============================] - 0s 10ms/step - loss: 0.0119 - root_mean_squared_error: 0.1091 - val_loss: 0.0151 - val_root_mean_squared_error: 0.1229\n",
      "Epoch 1564/2500\n",
      "8/8 [==============================] - 0s 9ms/step - loss: 0.0119 - root_mean_squared_error: 0.1091 - val_loss: 0.0150 - val_root_mean_squared_error: 0.1224\n",
      "Epoch 1565/2500\n",
      "8/8 [==============================] - 0s 10ms/step - loss: 0.0117 - root_mean_squared_error: 0.1080 - val_loss: 0.0132 - val_root_mean_squared_error: 0.1150\n",
      "Epoch 1566/2500\n",
      "8/8 [==============================] - 0s 9ms/step - loss: 0.0113 - root_mean_squared_error: 0.1063 - val_loss: 0.0125 - val_root_mean_squared_error: 0.1117\n",
      "Epoch 1567/2500\n",
      "8/8 [==============================] - 0s 9ms/step - loss: 0.0120 - root_mean_squared_error: 0.1094 - val_loss: 0.0124 - val_root_mean_squared_error: 0.1112\n",
      "Epoch 1568/2500\n",
      "8/8 [==============================] - 0s 10ms/step - loss: 0.0119 - root_mean_squared_error: 0.1090 - val_loss: 0.0130 - val_root_mean_squared_error: 0.1141\n",
      "Epoch 1569/2500\n",
      "8/8 [==============================] - 0s 10ms/step - loss: 0.0114 - root_mean_squared_error: 0.1066 - val_loss: 0.0150 - val_root_mean_squared_error: 0.1226\n",
      "Epoch 1570/2500\n",
      "8/8 [==============================] - 0s 9ms/step - loss: 0.0118 - root_mean_squared_error: 0.1085 - val_loss: 0.0166 - val_root_mean_squared_error: 0.1287\n",
      "Epoch 1571/2500\n",
      "8/8 [==============================] - 0s 9ms/step - loss: 0.0117 - root_mean_squared_error: 0.1083 - val_loss: 0.0134 - val_root_mean_squared_error: 0.1159\n",
      "Epoch 1572/2500\n",
      "8/8 [==============================] - 0s 9ms/step - loss: 0.0116 - root_mean_squared_error: 0.1075 - val_loss: 0.0127 - val_root_mean_squared_error: 0.1127\n",
      "Epoch 1573/2500\n",
      "8/8 [==============================] - 0s 10ms/step - loss: 0.0118 - root_mean_squared_error: 0.1088 - val_loss: 0.0133 - val_root_mean_squared_error: 0.1151\n",
      "Epoch 1574/2500\n",
      "8/8 [==============================] - 0s 9ms/step - loss: 0.0119 - root_mean_squared_error: 0.1092 - val_loss: 0.0145 - val_root_mean_squared_error: 0.1203\n",
      "Epoch 1575/2500\n",
      "8/8 [==============================] - 0s 9ms/step - loss: 0.0113 - root_mean_squared_error: 0.1062 - val_loss: 0.0119 - val_root_mean_squared_error: 0.1090\n",
      "Epoch 1576/2500\n",
      "8/8 [==============================] - 0s 10ms/step - loss: 0.0119 - root_mean_squared_error: 0.1093 - val_loss: 0.0115 - val_root_mean_squared_error: 0.1071\n",
      "Epoch 1577/2500\n",
      "8/8 [==============================] - 0s 10ms/step - loss: 0.0116 - root_mean_squared_error: 0.1079 - val_loss: 0.0119 - val_root_mean_squared_error: 0.1090\n",
      "Epoch 1578/2500\n",
      "8/8 [==============================] - 0s 10ms/step - loss: 0.0115 - root_mean_squared_error: 0.1073 - val_loss: 0.0116 - val_root_mean_squared_error: 0.1079\n",
      "Epoch 1579/2500\n",
      "8/8 [==============================] - 0s 10ms/step - loss: 0.0117 - root_mean_squared_error: 0.1082 - val_loss: 0.0118 - val_root_mean_squared_error: 0.1087\n",
      "Epoch 1580/2500\n",
      "8/8 [==============================] - 0s 9ms/step - loss: 0.0114 - root_mean_squared_error: 0.1069 - val_loss: 0.0134 - val_root_mean_squared_error: 0.1157\n",
      "Epoch 1581/2500\n",
      "8/8 [==============================] - 0s 9ms/step - loss: 0.0117 - root_mean_squared_error: 0.1079 - val_loss: 0.0130 - val_root_mean_squared_error: 0.1139\n",
      "Epoch 1582/2500\n",
      "8/8 [==============================] - 0s 10ms/step - loss: 0.0115 - root_mean_squared_error: 0.1075 - val_loss: 0.0125 - val_root_mean_squared_error: 0.1120\n",
      "Epoch 1583/2500\n",
      "8/8 [==============================] - 0s 10ms/step - loss: 0.0115 - root_mean_squared_error: 0.1070 - val_loss: 0.0124 - val_root_mean_squared_error: 0.1112\n",
      "Epoch 1584/2500\n",
      "8/8 [==============================] - 0s 9ms/step - loss: 0.0114 - root_mean_squared_error: 0.1068 - val_loss: 0.0133 - val_root_mean_squared_error: 0.1154\n",
      "Epoch 1585/2500\n",
      "8/8 [==============================] - 0s 10ms/step - loss: 0.0115 - root_mean_squared_error: 0.1074 - val_loss: 0.0144 - val_root_mean_squared_error: 0.1201\n",
      "Epoch 1586/2500\n",
      "8/8 [==============================] - 0s 10ms/step - loss: 0.0116 - root_mean_squared_error: 0.1077 - val_loss: 0.0126 - val_root_mean_squared_error: 0.1122\n",
      "Epoch 1587/2500\n",
      "8/8 [==============================] - 0s 10ms/step - loss: 0.0113 - root_mean_squared_error: 0.1062 - val_loss: 0.0124 - val_root_mean_squared_error: 0.1115\n",
      "Epoch 1588/2500\n",
      "8/8 [==============================] - 0s 9ms/step - loss: 0.0115 - root_mean_squared_error: 0.1075 - val_loss: 0.0124 - val_root_mean_squared_error: 0.1113\n",
      "Epoch 1589/2500\n",
      "8/8 [==============================] - 0s 10ms/step - loss: 0.0114 - root_mean_squared_error: 0.1067 - val_loss: 0.0122 - val_root_mean_squared_error: 0.1104\n",
      "Epoch 1590/2500\n",
      "8/8 [==============================] - 0s 10ms/step - loss: 0.0115 - root_mean_squared_error: 0.1074 - val_loss: 0.0121 - val_root_mean_squared_error: 0.1100\n",
      "Epoch 1591/2500\n",
      "8/8 [==============================] - 0s 9ms/step - loss: 0.0115 - root_mean_squared_error: 0.1073 - val_loss: 0.0130 - val_root_mean_squared_error: 0.1138\n",
      "Epoch 1592/2500\n",
      "8/8 [==============================] - 0s 10ms/step - loss: 0.0114 - root_mean_squared_error: 0.1067 - val_loss: 0.0144 - val_root_mean_squared_error: 0.1202\n",
      "Epoch 1593/2500\n",
      "8/8 [==============================] - 0s 10ms/step - loss: 0.0116 - root_mean_squared_error: 0.1079 - val_loss: 0.0137 - val_root_mean_squared_error: 0.1169\n",
      "Epoch 1594/2500\n",
      "8/8 [==============================] - 0s 11ms/step - loss: 0.0114 - root_mean_squared_error: 0.1069 - val_loss: 0.0130 - val_root_mean_squared_error: 0.1138\n",
      "Epoch 1595/2500\n",
      "8/8 [==============================] - 0s 11ms/step - loss: 0.0115 - root_mean_squared_error: 0.1072 - val_loss: 0.0125 - val_root_mean_squared_error: 0.1117\n",
      "Epoch 1596/2500\n",
      "8/8 [==============================] - 0s 9ms/step - loss: 0.0113 - root_mean_squared_error: 0.1065 - val_loss: 0.0131 - val_root_mean_squared_error: 0.1143\n",
      "Epoch 1597/2500\n",
      "8/8 [==============================] - 0s 11ms/step - loss: 0.0115 - root_mean_squared_error: 0.1073 - val_loss: 0.0135 - val_root_mean_squared_error: 0.1163\n",
      "Epoch 1598/2500\n",
      "8/8 [==============================] - 0s 10ms/step - loss: 0.0117 - root_mean_squared_error: 0.1083 - val_loss: 0.0123 - val_root_mean_squared_error: 0.1107\n",
      "Epoch 1599/2500\n",
      "8/8 [==============================] - 0s 10ms/step - loss: 0.0129 - root_mean_squared_error: 0.1134 - val_loss: 0.0139 - val_root_mean_squared_error: 0.1180\n",
      "Epoch 1600/2500\n",
      "8/8 [==============================] - 0s 10ms/step - loss: 0.0126 - root_mean_squared_error: 0.1124 - val_loss: 0.0128 - val_root_mean_squared_error: 0.1129\n",
      "Epoch 1601/2500\n",
      "8/8 [==============================] - 0s 10ms/step - loss: 0.0116 - root_mean_squared_error: 0.1078 - val_loss: 0.0181 - val_root_mean_squared_error: 0.1344\n",
      "Epoch 1602/2500\n",
      "8/8 [==============================] - 0s 10ms/step - loss: 0.0121 - root_mean_squared_error: 0.1099 - val_loss: 0.0149 - val_root_mean_squared_error: 0.1220\n",
      "Epoch 1603/2500\n",
      "8/8 [==============================] - 0s 9ms/step - loss: 0.0115 - root_mean_squared_error: 0.1072 - val_loss: 0.0125 - val_root_mean_squared_error: 0.1117\n",
      "Epoch 1604/2500\n",
      "8/8 [==============================] - 0s 10ms/step - loss: 0.0114 - root_mean_squared_error: 0.1068 - val_loss: 0.0146 - val_root_mean_squared_error: 0.1210\n",
      "Epoch 1605/2500\n",
      "8/8 [==============================] - 0s 9ms/step - loss: 0.0115 - root_mean_squared_error: 0.1072 - val_loss: 0.0136 - val_root_mean_squared_error: 0.1165\n",
      "Epoch 1606/2500\n",
      "8/8 [==============================] - 0s 9ms/step - loss: 0.0113 - root_mean_squared_error: 0.1062 - val_loss: 0.0129 - val_root_mean_squared_error: 0.1136\n",
      "Epoch 1607/2500\n",
      "8/8 [==============================] - 0s 10ms/step - loss: 0.0113 - root_mean_squared_error: 0.1064 - val_loss: 0.0129 - val_root_mean_squared_error: 0.1135\n",
      "Epoch 1608/2500\n",
      "8/8 [==============================] - 0s 10ms/step - loss: 0.0115 - root_mean_squared_error: 0.1074 - val_loss: 0.0130 - val_root_mean_squared_error: 0.1142\n",
      "Epoch 1609/2500\n",
      "8/8 [==============================] - 0s 10ms/step - loss: 0.0112 - root_mean_squared_error: 0.1059 - val_loss: 0.0129 - val_root_mean_squared_error: 0.1136\n",
      "Epoch 1610/2500\n"
     ]
    },
    {
     "name": "stdout",
     "output_type": "stream",
     "text": [
      "8/8 [==============================] - 0s 9ms/step - loss: 0.0119 - root_mean_squared_error: 0.1091 - val_loss: 0.0132 - val_root_mean_squared_error: 0.1149\n",
      "Epoch 1611/2500\n",
      "8/8 [==============================] - 0s 10ms/step - loss: 0.0118 - root_mean_squared_error: 0.1084 - val_loss: 0.0151 - val_root_mean_squared_error: 0.1227\n",
      "Epoch 1612/2500\n",
      "8/8 [==============================] - 0s 11ms/step - loss: 0.0122 - root_mean_squared_error: 0.1104 - val_loss: 0.0127 - val_root_mean_squared_error: 0.1128\n",
      "Epoch 1613/2500\n",
      "8/8 [==============================] - 0s 11ms/step - loss: 0.0118 - root_mean_squared_error: 0.1087 - val_loss: 0.0119 - val_root_mean_squared_error: 0.1090\n",
      "Epoch 1614/2500\n",
      "8/8 [==============================] - 0s 10ms/step - loss: 0.0118 - root_mean_squared_error: 0.1085 - val_loss: 0.0121 - val_root_mean_squared_error: 0.1101\n",
      "Epoch 1615/2500\n",
      "8/8 [==============================] - 0s 10ms/step - loss: 0.0116 - root_mean_squared_error: 0.1077 - val_loss: 0.0140 - val_root_mean_squared_error: 0.1183\n",
      "Epoch 1616/2500\n",
      "8/8 [==============================] - 0s 9ms/step - loss: 0.0114 - root_mean_squared_error: 0.1070 - val_loss: 0.0136 - val_root_mean_squared_error: 0.1168\n",
      "Epoch 1617/2500\n",
      "8/8 [==============================] - 0s 11ms/step - loss: 0.0114 - root_mean_squared_error: 0.1069 - val_loss: 0.0126 - val_root_mean_squared_error: 0.1121\n",
      "Epoch 1618/2500\n",
      "8/8 [==============================] - 0s 9ms/step - loss: 0.0114 - root_mean_squared_error: 0.1066 - val_loss: 0.0154 - val_root_mean_squared_error: 0.1242\n",
      "Epoch 1619/2500\n",
      "8/8 [==============================] - 0s 9ms/step - loss: 0.0130 - root_mean_squared_error: 0.1141 - val_loss: 0.0137 - val_root_mean_squared_error: 0.1171\n",
      "Epoch 1620/2500\n",
      "8/8 [==============================] - 0s 10ms/step - loss: 0.0129 - root_mean_squared_error: 0.1136 - val_loss: 0.0124 - val_root_mean_squared_error: 0.1112\n",
      "Epoch 1621/2500\n",
      "8/8 [==============================] - 0s 10ms/step - loss: 0.0117 - root_mean_squared_error: 0.1081 - val_loss: 0.0129 - val_root_mean_squared_error: 0.1137\n",
      "Epoch 1622/2500\n",
      "8/8 [==============================] - 0s 10ms/step - loss: 0.0117 - root_mean_squared_error: 0.1083 - val_loss: 0.0142 - val_root_mean_squared_error: 0.1191\n",
      "Epoch 1623/2500\n",
      "8/8 [==============================] - 0s 9ms/step - loss: 0.0113 - root_mean_squared_error: 0.1065 - val_loss: 0.0117 - val_root_mean_squared_error: 0.1082\n",
      "Epoch 1624/2500\n",
      "8/8 [==============================] - 0s 9ms/step - loss: 0.0117 - root_mean_squared_error: 0.1082 - val_loss: 0.0123 - val_root_mean_squared_error: 0.1110\n",
      "Epoch 1625/2500\n",
      "8/8 [==============================] - 0s 10ms/step - loss: 0.0116 - root_mean_squared_error: 0.1077 - val_loss: 0.0118 - val_root_mean_squared_error: 0.1085\n",
      "Epoch 1626/2500\n",
      "8/8 [==============================] - 0s 10ms/step - loss: 0.0116 - root_mean_squared_error: 0.1077 - val_loss: 0.0121 - val_root_mean_squared_error: 0.1099\n",
      "Epoch 1627/2500\n",
      "8/8 [==============================] - 0s 10ms/step - loss: 0.0113 - root_mean_squared_error: 0.1062 - val_loss: 0.0127 - val_root_mean_squared_error: 0.1127\n",
      "Epoch 1628/2500\n",
      "8/8 [==============================] - 0s 10ms/step - loss: 0.0115 - root_mean_squared_error: 0.1072 - val_loss: 0.0128 - val_root_mean_squared_error: 0.1131\n",
      "Epoch 1629/2500\n",
      "8/8 [==============================] - 0s 11ms/step - loss: 0.0114 - root_mean_squared_error: 0.1067 - val_loss: 0.0122 - val_root_mean_squared_error: 0.1106\n",
      "Epoch 1630/2500\n",
      "8/8 [==============================] - 0s 10ms/step - loss: 0.0113 - root_mean_squared_error: 0.1064 - val_loss: 0.0127 - val_root_mean_squared_error: 0.1128\n",
      "Epoch 1631/2500\n",
      "8/8 [==============================] - 0s 11ms/step - loss: 0.0114 - root_mean_squared_error: 0.1066 - val_loss: 0.0146 - val_root_mean_squared_error: 0.1210\n",
      "Epoch 1632/2500\n",
      "8/8 [==============================] - 0s 10ms/step - loss: 0.0118 - root_mean_squared_error: 0.1084 - val_loss: 0.0132 - val_root_mean_squared_error: 0.1151\n",
      "Epoch 1633/2500\n",
      "8/8 [==============================] - 0s 11ms/step - loss: 0.0122 - root_mean_squared_error: 0.1103 - val_loss: 0.0128 - val_root_mean_squared_error: 0.1131\n",
      "Epoch 1634/2500\n",
      "8/8 [==============================] - 0s 10ms/step - loss: 0.0122 - root_mean_squared_error: 0.1103 - val_loss: 0.0127 - val_root_mean_squared_error: 0.1127\n",
      "Epoch 1635/2500\n",
      "8/8 [==============================] - 0s 10ms/step - loss: 0.0116 - root_mean_squared_error: 0.1077 - val_loss: 0.0124 - val_root_mean_squared_error: 0.1115\n",
      "Epoch 1636/2500\n",
      "8/8 [==============================] - 0s 11ms/step - loss: 0.0112 - root_mean_squared_error: 0.1059 - val_loss: 0.0152 - val_root_mean_squared_error: 0.1232\n",
      "Epoch 1637/2500\n",
      "8/8 [==============================] - 0s 10ms/step - loss: 0.0115 - root_mean_squared_error: 0.1070 - val_loss: 0.0134 - val_root_mean_squared_error: 0.1158\n",
      "Epoch 1638/2500\n",
      "8/8 [==============================] - 0s 10ms/step - loss: 0.0112 - root_mean_squared_error: 0.1060 - val_loss: 0.0125 - val_root_mean_squared_error: 0.1118\n",
      "Epoch 1639/2500\n",
      "8/8 [==============================] - 0s 10ms/step - loss: 0.0113 - root_mean_squared_error: 0.1062 - val_loss: 0.0125 - val_root_mean_squared_error: 0.1120\n",
      "Epoch 1640/2500\n",
      "8/8 [==============================] - 0s 12ms/step - loss: 0.0113 - root_mean_squared_error: 0.1063 - val_loss: 0.0130 - val_root_mean_squared_error: 0.1138\n",
      "Epoch 1641/2500\n",
      "8/8 [==============================] - 0s 11ms/step - loss: 0.0114 - root_mean_squared_error: 0.1069 - val_loss: 0.0126 - val_root_mean_squared_error: 0.1123\n",
      "Epoch 1642/2500\n",
      "8/8 [==============================] - 0s 10ms/step - loss: 0.0113 - root_mean_squared_error: 0.1062 - val_loss: 0.0127 - val_root_mean_squared_error: 0.1126\n",
      "Epoch 1643/2500\n",
      "8/8 [==============================] - 0s 10ms/step - loss: 0.0112 - root_mean_squared_error: 0.1058 - val_loss: 0.0125 - val_root_mean_squared_error: 0.1119\n",
      "Epoch 1644/2500\n",
      "8/8 [==============================] - 0s 9ms/step - loss: 0.0112 - root_mean_squared_error: 0.1060 - val_loss: 0.0127 - val_root_mean_squared_error: 0.1126\n",
      "Epoch 1645/2500\n",
      "8/8 [==============================] - 0s 11ms/step - loss: 0.0115 - root_mean_squared_error: 0.1071 - val_loss: 0.0129 - val_root_mean_squared_error: 0.1136\n",
      "Epoch 1646/2500\n",
      "8/8 [==============================] - 0s 9ms/step - loss: 0.0115 - root_mean_squared_error: 0.1071 - val_loss: 0.0127 - val_root_mean_squared_error: 0.1126\n",
      "Epoch 1647/2500\n",
      "8/8 [==============================] - 0s 11ms/step - loss: 0.0113 - root_mean_squared_error: 0.1064 - val_loss: 0.0140 - val_root_mean_squared_error: 0.1184\n",
      "Epoch 1648/2500\n",
      "8/8 [==============================] - 0s 10ms/step - loss: 0.0127 - root_mean_squared_error: 0.1127 - val_loss: 0.0232 - val_root_mean_squared_error: 0.1523\n",
      "Epoch 1649/2500\n",
      "8/8 [==============================] - 0s 14ms/step - loss: 0.0134 - root_mean_squared_error: 0.1156 - val_loss: 0.0136 - val_root_mean_squared_error: 0.1168\n",
      "Epoch 1650/2500\n",
      "8/8 [==============================] - 0s 10ms/step - loss: 0.0115 - root_mean_squared_error: 0.1074 - val_loss: 0.0115 - val_root_mean_squared_error: 0.1071\n",
      "Epoch 1651/2500\n",
      "8/8 [==============================] - 0s 12ms/step - loss: 0.0120 - root_mean_squared_error: 0.1094 - val_loss: 0.0115 - val_root_mean_squared_error: 0.1073\n",
      "Epoch 1652/2500\n",
      "8/8 [==============================] - 0s 14ms/step - loss: 0.0113 - root_mean_squared_error: 0.1064 - val_loss: 0.0126 - val_root_mean_squared_error: 0.1121\n",
      "Epoch 1653/2500\n",
      "8/8 [==============================] - 0s 10ms/step - loss: 0.0115 - root_mean_squared_error: 0.1072 - val_loss: 0.0128 - val_root_mean_squared_error: 0.1131\n",
      "Epoch 1654/2500\n",
      "8/8 [==============================] - 0s 10ms/step - loss: 0.0114 - root_mean_squared_error: 0.1069 - val_loss: 0.0122 - val_root_mean_squared_error: 0.1104\n",
      "Epoch 1655/2500\n",
      "8/8 [==============================] - 0s 10ms/step - loss: 0.0116 - root_mean_squared_error: 0.1076 - val_loss: 0.0120 - val_root_mean_squared_error: 0.1096\n",
      "Epoch 1656/2500\n",
      "8/8 [==============================] - 0s 11ms/step - loss: 0.0117 - root_mean_squared_error: 0.1081 - val_loss: 0.0117 - val_root_mean_squared_error: 0.1080\n",
      "Epoch 1657/2500\n",
      "8/8 [==============================] - 0s 9ms/step - loss: 0.0122 - root_mean_squared_error: 0.1103 - val_loss: 0.0129 - val_root_mean_squared_error: 0.1136\n",
      "Epoch 1658/2500\n",
      "8/8 [==============================] - 0s 11ms/step - loss: 0.0124 - root_mean_squared_error: 0.1113 - val_loss: 0.0124 - val_root_mean_squared_error: 0.1115\n",
      "Epoch 1659/2500\n",
      "8/8 [==============================] - 0s 13ms/step - loss: 0.0120 - root_mean_squared_error: 0.1095 - val_loss: 0.0144 - val_root_mean_squared_error: 0.1198\n",
      "Epoch 1660/2500\n",
      "8/8 [==============================] - 0s 11ms/step - loss: 0.0115 - root_mean_squared_error: 0.1072 - val_loss: 0.0133 - val_root_mean_squared_error: 0.1153\n",
      "Epoch 1661/2500\n",
      "8/8 [==============================] - 0s 11ms/step - loss: 0.0116 - root_mean_squared_error: 0.1079 - val_loss: 0.0125 - val_root_mean_squared_error: 0.1119\n",
      "Epoch 1662/2500\n",
      "8/8 [==============================] - 0s 12ms/step - loss: 0.0114 - root_mean_squared_error: 0.1068 - val_loss: 0.0124 - val_root_mean_squared_error: 0.1112\n",
      "Epoch 1663/2500\n",
      "8/8 [==============================] - 0s 11ms/step - loss: 0.0114 - root_mean_squared_error: 0.1066 - val_loss: 0.0135 - val_root_mean_squared_error: 0.1160\n",
      "Epoch 1664/2500\n",
      "8/8 [==============================] - 0s 12ms/step - loss: 0.0114 - root_mean_squared_error: 0.1068 - val_loss: 0.0137 - val_root_mean_squared_error: 0.1169\n",
      "Epoch 1665/2500\n",
      "8/8 [==============================] - 0s 10ms/step - loss: 0.0115 - root_mean_squared_error: 0.1070 - val_loss: 0.0136 - val_root_mean_squared_error: 0.1168\n",
      "Epoch 1666/2500\n",
      "8/8 [==============================] - 0s 12ms/step - loss: 0.0112 - root_mean_squared_error: 0.1058 - val_loss: 0.0121 - val_root_mean_squared_error: 0.1102\n",
      "Epoch 1667/2500\n",
      "8/8 [==============================] - 0s 10ms/step - loss: 0.0112 - root_mean_squared_error: 0.1058 - val_loss: 0.0123 - val_root_mean_squared_error: 0.1107\n",
      "Epoch 1668/2500\n",
      "8/8 [==============================] - 0s 10ms/step - loss: 0.0126 - root_mean_squared_error: 0.1123 - val_loss: 0.0131 - val_root_mean_squared_error: 0.1144\n",
      "Epoch 1669/2500\n",
      "8/8 [==============================] - 0s 9ms/step - loss: 0.0128 - root_mean_squared_error: 0.1133 - val_loss: 0.0150 - val_root_mean_squared_error: 0.1225\n",
      "Epoch 1670/2500\n",
      "8/8 [==============================] - 0s 9ms/step - loss: 0.0124 - root_mean_squared_error: 0.1114 - val_loss: 0.0124 - val_root_mean_squared_error: 0.1113\n",
      "Epoch 1671/2500\n",
      "8/8 [==============================] - 0s 9ms/step - loss: 0.0118 - root_mean_squared_error: 0.1087 - val_loss: 0.0118 - val_root_mean_squared_error: 0.1087\n",
      "Epoch 1672/2500\n",
      "8/8 [==============================] - 0s 9ms/step - loss: 0.0117 - root_mean_squared_error: 0.1081 - val_loss: 0.0121 - val_root_mean_squared_error: 0.1098\n",
      "Epoch 1673/2500\n",
      "8/8 [==============================] - 0s 10ms/step - loss: 0.0119 - root_mean_squared_error: 0.1090 - val_loss: 0.0134 - val_root_mean_squared_error: 0.1155\n",
      "Epoch 1674/2500\n",
      "8/8 [==============================] - 0s 11ms/step - loss: 0.0115 - root_mean_squared_error: 0.1074 - val_loss: 0.0134 - val_root_mean_squared_error: 0.1156\n",
      "Epoch 1675/2500\n",
      "8/8 [==============================] - 0s 11ms/step - loss: 0.0114 - root_mean_squared_error: 0.1068 - val_loss: 0.0125 - val_root_mean_squared_error: 0.1117\n",
      "Epoch 1676/2500\n",
      "8/8 [==============================] - 0s 10ms/step - loss: 0.0115 - root_mean_squared_error: 0.1074 - val_loss: 0.0122 - val_root_mean_squared_error: 0.1102\n",
      "Epoch 1677/2500\n",
      "8/8 [==============================] - 0s 12ms/step - loss: 0.0115 - root_mean_squared_error: 0.1074 - val_loss: 0.0125 - val_root_mean_squared_error: 0.1120\n",
      "Epoch 1678/2500\n",
      "8/8 [==============================] - 0s 12ms/step - loss: 0.0113 - root_mean_squared_error: 0.1065 - val_loss: 0.0144 - val_root_mean_squared_error: 0.1200\n",
      "Epoch 1679/2500\n",
      "8/8 [==============================] - 0s 12ms/step - loss: 0.0119 - root_mean_squared_error: 0.1091 - val_loss: 0.0152 - val_root_mean_squared_error: 0.1231\n",
      "Epoch 1680/2500\n",
      "8/8 [==============================] - 0s 11ms/step - loss: 0.0115 - root_mean_squared_error: 0.1075 - val_loss: 0.0121 - val_root_mean_squared_error: 0.1099\n",
      "Epoch 1681/2500\n",
      "8/8 [==============================] - 0s 14ms/step - loss: 0.0113 - root_mean_squared_error: 0.1064 - val_loss: 0.0120 - val_root_mean_squared_error: 0.1096\n",
      "Epoch 1682/2500\n",
      "8/8 [==============================] - 0s 11ms/step - loss: 0.0145 - root_mean_squared_error: 0.1206 - val_loss: 0.0173 - val_root_mean_squared_error: 0.1314\n",
      "Epoch 1683/2500\n",
      "8/8 [==============================] - 0s 14ms/step - loss: 0.0131 - root_mean_squared_error: 0.1144 - val_loss: 0.0128 - val_root_mean_squared_error: 0.1133\n",
      "Epoch 1684/2500\n",
      "8/8 [==============================] - 0s 11ms/step - loss: 0.0118 - root_mean_squared_error: 0.1085 - val_loss: 0.0176 - val_root_mean_squared_error: 0.1326\n",
      "Epoch 1685/2500\n",
      "8/8 [==============================] - 0s 9ms/step - loss: 0.0121 - root_mean_squared_error: 0.1100 - val_loss: 0.0143 - val_root_mean_squared_error: 0.1197\n",
      "Epoch 1686/2500\n",
      "8/8 [==============================] - 0s 9ms/step - loss: 0.0112 - root_mean_squared_error: 0.1060 - val_loss: 0.0123 - val_root_mean_squared_error: 0.1109\n",
      "Epoch 1687/2500\n",
      "8/8 [==============================] - 0s 10ms/step - loss: 0.0114 - root_mean_squared_error: 0.1070 - val_loss: 0.0121 - val_root_mean_squared_error: 0.1100\n",
      "Epoch 1688/2500\n",
      "8/8 [==============================] - 0s 10ms/step - loss: 0.0112 - root_mean_squared_error: 0.1060 - val_loss: 0.0128 - val_root_mean_squared_error: 0.1131\n",
      "Epoch 1689/2500\n",
      "8/8 [==============================] - 0s 9ms/step - loss: 0.0126 - root_mean_squared_error: 0.1122 - val_loss: 0.0136 - val_root_mean_squared_error: 0.1168\n",
      "Epoch 1690/2500\n",
      "8/8 [==============================] - 0s 10ms/step - loss: 0.0125 - root_mean_squared_error: 0.1117 - val_loss: 0.0126 - val_root_mean_squared_error: 0.1122\n",
      "Epoch 1691/2500\n",
      "8/8 [==============================] - 0s 9ms/step - loss: 0.0111 - root_mean_squared_error: 0.1052 - val_loss: 0.0119 - val_root_mean_squared_error: 0.1091\n",
      "Epoch 1692/2500\n",
      "8/8 [==============================] - 0s 9ms/step - loss: 0.0116 - root_mean_squared_error: 0.1076 - val_loss: 0.0119 - val_root_mean_squared_error: 0.1090\n",
      "Epoch 1693/2500\n",
      "8/8 [==============================] - 0s 9ms/step - loss: 0.0114 - root_mean_squared_error: 0.1068 - val_loss: 0.0129 - val_root_mean_squared_error: 0.1135\n",
      "Epoch 1694/2500\n",
      "8/8 [==============================] - 0s 9ms/step - loss: 0.0113 - root_mean_squared_error: 0.1065 - val_loss: 0.0132 - val_root_mean_squared_error: 0.1147\n",
      "Epoch 1695/2500\n",
      "8/8 [==============================] - 0s 10ms/step - loss: 0.0116 - root_mean_squared_error: 0.1078 - val_loss: 0.0124 - val_root_mean_squared_error: 0.1115\n",
      "Epoch 1696/2500\n",
      "8/8 [==============================] - 0s 10ms/step - loss: 0.0114 - root_mean_squared_error: 0.1067 - val_loss: 0.0129 - val_root_mean_squared_error: 0.1137\n",
      "Epoch 1697/2500\n",
      "8/8 [==============================] - 0s 10ms/step - loss: 0.0122 - root_mean_squared_error: 0.1103 - val_loss: 0.0200 - val_root_mean_squared_error: 0.1415\n",
      "Epoch 1698/2500\n",
      "8/8 [==============================] - 0s 10ms/step - loss: 0.0129 - root_mean_squared_error: 0.1134 - val_loss: 0.0127 - val_root_mean_squared_error: 0.1126\n",
      "Epoch 1699/2500\n",
      "8/8 [==============================] - 0s 10ms/step - loss: 0.0116 - root_mean_squared_error: 0.1075 - val_loss: 0.0116 - val_root_mean_squared_error: 0.1076\n",
      "Epoch 1700/2500\n",
      "8/8 [==============================] - 0s 10ms/step - loss: 0.0115 - root_mean_squared_error: 0.1071 - val_loss: 0.0119 - val_root_mean_squared_error: 0.1091\n",
      "Epoch 1701/2500\n",
      "8/8 [==============================] - 0s 10ms/step - loss: 0.0115 - root_mean_squared_error: 0.1073 - val_loss: 0.0163 - val_root_mean_squared_error: 0.1275\n",
      "Epoch 1702/2500\n",
      "8/8 [==============================] - 0s 10ms/step - loss: 0.0121 - root_mean_squared_error: 0.1102 - val_loss: 0.0137 - val_root_mean_squared_error: 0.1169\n",
      "Epoch 1703/2500\n",
      "8/8 [==============================] - 0s 10ms/step - loss: 0.0115 - root_mean_squared_error: 0.1071 - val_loss: 0.0121 - val_root_mean_squared_error: 0.1098\n",
      "Epoch 1704/2500\n"
     ]
    },
    {
     "name": "stdout",
     "output_type": "stream",
     "text": [
      "8/8 [==============================] - 0s 9ms/step - loss: 0.0113 - root_mean_squared_error: 0.1064 - val_loss: 0.0120 - val_root_mean_squared_error: 0.1094\n",
      "Epoch 1705/2500\n",
      "8/8 [==============================] - 0s 9ms/step - loss: 0.0112 - root_mean_squared_error: 0.1060 - val_loss: 0.0123 - val_root_mean_squared_error: 0.1108\n",
      "Epoch 1706/2500\n",
      "8/8 [==============================] - 0s 10ms/step - loss: 0.0114 - root_mean_squared_error: 0.1067 - val_loss: 0.0113 - val_root_mean_squared_error: 0.1064\n",
      "Epoch 1707/2500\n",
      "8/8 [==============================] - 0s 10ms/step - loss: 0.0115 - root_mean_squared_error: 0.1071 - val_loss: 0.0118 - val_root_mean_squared_error: 0.1086\n",
      "Epoch 1708/2500\n",
      "8/8 [==============================] - 0s 10ms/step - loss: 0.0122 - root_mean_squared_error: 0.1105 - val_loss: 0.0123 - val_root_mean_squared_error: 0.1108\n",
      "Epoch 1709/2500\n",
      "8/8 [==============================] - 0s 10ms/step - loss: 0.0123 - root_mean_squared_error: 0.1107 - val_loss: 0.0126 - val_root_mean_squared_error: 0.1123\n",
      "Epoch 1710/2500\n",
      "8/8 [==============================] - 0s 10ms/step - loss: 0.0115 - root_mean_squared_error: 0.1073 - val_loss: 0.0166 - val_root_mean_squared_error: 0.1289\n",
      "Epoch 1711/2500\n",
      "8/8 [==============================] - 0s 10ms/step - loss: 0.0119 - root_mean_squared_error: 0.1091 - val_loss: 0.0131 - val_root_mean_squared_error: 0.1145\n",
      "Epoch 1712/2500\n",
      "8/8 [==============================] - 0s 10ms/step - loss: 0.0113 - root_mean_squared_error: 0.1063 - val_loss: 0.0121 - val_root_mean_squared_error: 0.1102\n",
      "Epoch 1713/2500\n",
      "8/8 [==============================] - 0s 11ms/step - loss: 0.0113 - root_mean_squared_error: 0.1064 - val_loss: 0.0130 - val_root_mean_squared_error: 0.1141\n",
      "Epoch 1714/2500\n",
      "8/8 [==============================] - 0s 11ms/step - loss: 0.0120 - root_mean_squared_error: 0.1093 - val_loss: 0.0125 - val_root_mean_squared_error: 0.1118\n",
      "Epoch 1715/2500\n",
      "8/8 [==============================] - 0s 11ms/step - loss: 0.0116 - root_mean_squared_error: 0.1077 - val_loss: 0.0117 - val_root_mean_squared_error: 0.1082\n",
      "Epoch 1716/2500\n",
      "8/8 [==============================] - 0s 9ms/step - loss: 0.0114 - root_mean_squared_error: 0.1067 - val_loss: 0.0118 - val_root_mean_squared_error: 0.1086\n",
      "Epoch 1717/2500\n",
      "8/8 [==============================] - 0s 9ms/step - loss: 0.0114 - root_mean_squared_error: 0.1068 - val_loss: 0.0117 - val_root_mean_squared_error: 0.1083\n",
      "Epoch 1718/2500\n",
      "8/8 [==============================] - 0s 10ms/step - loss: 0.0117 - root_mean_squared_error: 0.1083 - val_loss: 0.0120 - val_root_mean_squared_error: 0.1098\n",
      "Epoch 1719/2500\n",
      "8/8 [==============================] - 0s 10ms/step - loss: 0.0118 - root_mean_squared_error: 0.1088 - val_loss: 0.0118 - val_root_mean_squared_error: 0.1084\n",
      "Epoch 1720/2500\n",
      "8/8 [==============================] - 0s 10ms/step - loss: 0.0116 - root_mean_squared_error: 0.1075 - val_loss: 0.0122 - val_root_mean_squared_error: 0.1104\n",
      "Epoch 1721/2500\n",
      "8/8 [==============================] - 0s 10ms/step - loss: 0.0117 - root_mean_squared_error: 0.1080 - val_loss: 0.0128 - val_root_mean_squared_error: 0.1130\n",
      "Epoch 1722/2500\n",
      "8/8 [==============================] - 0s 10ms/step - loss: 0.0112 - root_mean_squared_error: 0.1059 - val_loss: 0.0118 - val_root_mean_squared_error: 0.1087\n",
      "Epoch 1723/2500\n",
      "8/8 [==============================] - 0s 10ms/step - loss: 0.0112 - root_mean_squared_error: 0.1058 - val_loss: 0.0116 - val_root_mean_squared_error: 0.1078\n",
      "Epoch 1724/2500\n",
      "8/8 [==============================] - 0s 11ms/step - loss: 0.0115 - root_mean_squared_error: 0.1071 - val_loss: 0.0120 - val_root_mean_squared_error: 0.1094\n",
      "Epoch 1725/2500\n",
      "8/8 [==============================] - 0s 9ms/step - loss: 0.0113 - root_mean_squared_error: 0.1062 - val_loss: 0.0128 - val_root_mean_squared_error: 0.1130\n",
      "Epoch 1726/2500\n",
      "8/8 [==============================] - 0s 10ms/step - loss: 0.0116 - root_mean_squared_error: 0.1078 - val_loss: 0.0136 - val_root_mean_squared_error: 0.1164\n",
      "Epoch 1727/2500\n",
      "8/8 [==============================] - 0s 9ms/step - loss: 0.0115 - root_mean_squared_error: 0.1074 - val_loss: 0.0124 - val_root_mean_squared_error: 0.1112\n",
      "Epoch 1728/2500\n",
      "8/8 [==============================] - 0s 10ms/step - loss: 0.0113 - root_mean_squared_error: 0.1062 - val_loss: 0.0121 - val_root_mean_squared_error: 0.1099\n",
      "Epoch 1729/2500\n",
      "8/8 [==============================] - 0s 10ms/step - loss: 0.0119 - root_mean_squared_error: 0.1091 - val_loss: 0.0134 - val_root_mean_squared_error: 0.1158\n",
      "Epoch 1730/2500\n",
      "8/8 [==============================] - 0s 10ms/step - loss: 0.0132 - root_mean_squared_error: 0.1151 - val_loss: 0.0163 - val_root_mean_squared_error: 0.1278\n",
      "Epoch 1731/2500\n",
      "8/8 [==============================] - 0s 10ms/step - loss: 0.0120 - root_mean_squared_error: 0.1094 - val_loss: 0.0127 - val_root_mean_squared_error: 0.1126\n",
      "Epoch 1732/2500\n",
      "8/8 [==============================] - 0s 11ms/step - loss: 0.0115 - root_mean_squared_error: 0.1070 - val_loss: 0.0121 - val_root_mean_squared_error: 0.1102\n",
      "Epoch 1733/2500\n",
      "8/8 [==============================] - 0s 13ms/step - loss: 0.0120 - root_mean_squared_error: 0.1094 - val_loss: 0.0125 - val_root_mean_squared_error: 0.1116\n",
      "Epoch 1734/2500\n",
      "8/8 [==============================] - 0s 9ms/step - loss: 0.0113 - root_mean_squared_error: 0.1062 - val_loss: 0.0133 - val_root_mean_squared_error: 0.1153\n",
      "Epoch 1735/2500\n",
      "8/8 [==============================] - 0s 10ms/step - loss: 0.0115 - root_mean_squared_error: 0.1073 - val_loss: 0.0130 - val_root_mean_squared_error: 0.1141\n",
      "Epoch 1736/2500\n",
      "8/8 [==============================] - 0s 10ms/step - loss: 0.0113 - root_mean_squared_error: 0.1064 - val_loss: 0.0127 - val_root_mean_squared_error: 0.1125\n",
      "Epoch 1737/2500\n",
      "8/8 [==============================] - 0s 11ms/step - loss: 0.0116 - root_mean_squared_error: 0.1076 - val_loss: 0.0123 - val_root_mean_squared_error: 0.1111\n",
      "Epoch 1738/2500\n",
      "8/8 [==============================] - 0s 11ms/step - loss: 0.0112 - root_mean_squared_error: 0.1059 - val_loss: 0.0128 - val_root_mean_squared_error: 0.1132\n",
      "Epoch 1739/2500\n",
      "8/8 [==============================] - 0s 10ms/step - loss: 0.0113 - root_mean_squared_error: 0.1063 - val_loss: 0.0149 - val_root_mean_squared_error: 0.1219\n",
      "Epoch 1740/2500\n",
      "8/8 [==============================] - 0s 10ms/step - loss: 0.0116 - root_mean_squared_error: 0.1078 - val_loss: 0.0143 - val_root_mean_squared_error: 0.1196\n",
      "Epoch 1741/2500\n",
      "8/8 [==============================] - 0s 10ms/step - loss: 0.0123 - root_mean_squared_error: 0.1107 - val_loss: 0.0122 - val_root_mean_squared_error: 0.1103\n",
      "Epoch 1742/2500\n",
      "8/8 [==============================] - 0s 14ms/step - loss: 0.0131 - root_mean_squared_error: 0.1146 - val_loss: 0.0127 - val_root_mean_squared_error: 0.1126\n",
      "Epoch 1743/2500\n",
      "8/8 [==============================] - 0s 14ms/step - loss: 0.0115 - root_mean_squared_error: 0.1074 - val_loss: 0.0120 - val_root_mean_squared_error: 0.1097\n",
      "Epoch 1744/2500\n",
      "8/8 [==============================] - 0s 13ms/step - loss: 0.0116 - root_mean_squared_error: 0.1075 - val_loss: 0.0122 - val_root_mean_squared_error: 0.1106\n",
      "Epoch 1745/2500\n",
      "8/8 [==============================] - 0s 11ms/step - loss: 0.0112 - root_mean_squared_error: 0.1060 - val_loss: 0.0131 - val_root_mean_squared_error: 0.1145\n",
      "Epoch 1746/2500\n",
      "8/8 [==============================] - 0s 10ms/step - loss: 0.0112 - root_mean_squared_error: 0.1057 - val_loss: 0.0129 - val_root_mean_squared_error: 0.1134\n",
      "Epoch 1747/2500\n",
      "8/8 [==============================] - 0s 13ms/step - loss: 0.0112 - root_mean_squared_error: 0.1057 - val_loss: 0.0129 - val_root_mean_squared_error: 0.1134\n",
      "Epoch 1748/2500\n",
      "8/8 [==============================] - 0s 11ms/step - loss: 0.0111 - root_mean_squared_error: 0.1055 - val_loss: 0.0125 - val_root_mean_squared_error: 0.1119\n",
      "Epoch 1749/2500\n",
      "8/8 [==============================] - 0s 12ms/step - loss: 0.0118 - root_mean_squared_error: 0.1085 - val_loss: 0.0121 - val_root_mean_squared_error: 0.1100\n",
      "Epoch 1750/2500\n",
      "8/8 [==============================] - 0s 10ms/step - loss: 0.0116 - root_mean_squared_error: 0.1078 - val_loss: 0.0125 - val_root_mean_squared_error: 0.1117\n",
      "Epoch 1751/2500\n",
      "8/8 [==============================] - 0s 10ms/step - loss: 0.0120 - root_mean_squared_error: 0.1097 - val_loss: 0.0126 - val_root_mean_squared_error: 0.1122\n",
      "Epoch 1752/2500\n",
      "8/8 [==============================] - 0s 12ms/step - loss: 0.0118 - root_mean_squared_error: 0.1086 - val_loss: 0.0127 - val_root_mean_squared_error: 0.1125\n",
      "Epoch 1753/2500\n",
      "8/8 [==============================] - 0s 13ms/step - loss: 0.0134 - root_mean_squared_error: 0.1156 - val_loss: 0.0123 - val_root_mean_squared_error: 0.1110\n",
      "Epoch 1754/2500\n",
      "8/8 [==============================] - 0s 11ms/step - loss: 0.0114 - root_mean_squared_error: 0.1067 - val_loss: 0.0117 - val_root_mean_squared_error: 0.1084\n",
      "Epoch 1755/2500\n",
      "8/8 [==============================] - 0s 12ms/step - loss: 0.0116 - root_mean_squared_error: 0.1075 - val_loss: 0.0118 - val_root_mean_squared_error: 0.1088\n",
      "Epoch 1756/2500\n",
      "8/8 [==============================] - 0s 12ms/step - loss: 0.0117 - root_mean_squared_error: 0.1082 - val_loss: 0.0127 - val_root_mean_squared_error: 0.1128\n",
      "Epoch 1757/2500\n",
      "8/8 [==============================] - 0s 13ms/step - loss: 0.0112 - root_mean_squared_error: 0.1056 - val_loss: 0.0135 - val_root_mean_squared_error: 0.1162\n",
      "Epoch 1758/2500\n",
      "8/8 [==============================] - 0s 16ms/step - loss: 0.0116 - root_mean_squared_error: 0.1077 - val_loss: 0.0126 - val_root_mean_squared_error: 0.1124\n",
      "Epoch 1759/2500\n",
      "8/8 [==============================] - 0s 13ms/step - loss: 0.0116 - root_mean_squared_error: 0.1077 - val_loss: 0.0126 - val_root_mean_squared_error: 0.1124\n",
      "Epoch 1760/2500\n",
      "8/8 [==============================] - 0s 10ms/step - loss: 0.0114 - root_mean_squared_error: 0.1068 - val_loss: 0.0130 - val_root_mean_squared_error: 0.1139\n",
      "Epoch 1761/2500\n",
      "8/8 [==============================] - 0s 8ms/step - loss: 0.0118 - root_mean_squared_error: 0.1087 - val_loss: 0.0130 - val_root_mean_squared_error: 0.1139\n",
      "Epoch 1762/2500\n",
      "8/8 [==============================] - 0s 7ms/step - loss: 0.0117 - root_mean_squared_error: 0.1080 - val_loss: 0.0124 - val_root_mean_squared_error: 0.1113\n",
      "Epoch 1763/2500\n",
      "8/8 [==============================] - 0s 9ms/step - loss: 0.0113 - root_mean_squared_error: 0.1065 - val_loss: 0.0114 - val_root_mean_squared_error: 0.1068\n",
      "Epoch 1764/2500\n",
      "8/8 [==============================] - 0s 10ms/step - loss: 0.0117 - root_mean_squared_error: 0.1082 - val_loss: 0.0116 - val_root_mean_squared_error: 0.1078\n",
      "Epoch 1765/2500\n",
      "8/8 [==============================] - 0s 9ms/step - loss: 0.0115 - root_mean_squared_error: 0.1075 - val_loss: 0.0125 - val_root_mean_squared_error: 0.1117\n",
      "Epoch 1766/2500\n",
      "8/8 [==============================] - 0s 9ms/step - loss: 0.0113 - root_mean_squared_error: 0.1064 - val_loss: 0.0124 - val_root_mean_squared_error: 0.1112\n",
      "Epoch 1767/2500\n",
      "8/8 [==============================] - 0s 9ms/step - loss: 0.0114 - root_mean_squared_error: 0.1068 - val_loss: 0.0119 - val_root_mean_squared_error: 0.1093\n",
      "Epoch 1768/2500\n",
      "8/8 [==============================] - 0s 9ms/step - loss: 0.0115 - root_mean_squared_error: 0.1070 - val_loss: 0.0124 - val_root_mean_squared_error: 0.1115\n",
      "Epoch 1769/2500\n",
      "8/8 [==============================] - 0s 9ms/step - loss: 0.0120 - root_mean_squared_error: 0.1094 - val_loss: 0.0139 - val_root_mean_squared_error: 0.1181\n",
      "Epoch 1770/2500\n",
      "8/8 [==============================] - 0s 10ms/step - loss: 0.0120 - root_mean_squared_error: 0.1093 - val_loss: 0.0137 - val_root_mean_squared_error: 0.1170\n",
      "Epoch 1771/2500\n",
      "8/8 [==============================] - 0s 11ms/step - loss: 0.0116 - root_mean_squared_error: 0.1075 - val_loss: 0.0141 - val_root_mean_squared_error: 0.1188\n",
      "Epoch 1772/2500\n",
      "8/8 [==============================] - 0s 9ms/step - loss: 0.0122 - root_mean_squared_error: 0.1106 - val_loss: 0.0139 - val_root_mean_squared_error: 0.1179\n",
      "Epoch 1773/2500\n",
      "8/8 [==============================] - 0s 9ms/step - loss: 0.0123 - root_mean_squared_error: 0.1111 - val_loss: 0.0134 - val_root_mean_squared_error: 0.1158\n",
      "Epoch 1774/2500\n",
      "8/8 [==============================] - 0s 9ms/step - loss: 0.0122 - root_mean_squared_error: 0.1107 - val_loss: 0.0148 - val_root_mean_squared_error: 0.1216\n",
      "Epoch 1775/2500\n",
      "8/8 [==============================] - 0s 10ms/step - loss: 0.0124 - root_mean_squared_error: 0.1112 - val_loss: 0.0121 - val_root_mean_squared_error: 0.1100\n",
      "Epoch 1776/2500\n",
      "8/8 [==============================] - 0s 9ms/step - loss: 0.0113 - root_mean_squared_error: 0.1061 - val_loss: 0.0118 - val_root_mean_squared_error: 0.1087\n",
      "Epoch 1777/2500\n",
      "8/8 [==============================] - 0s 11ms/step - loss: 0.0113 - root_mean_squared_error: 0.1061 - val_loss: 0.0127 - val_root_mean_squared_error: 0.1125\n",
      "Epoch 1778/2500\n",
      "8/8 [==============================] - 0s 11ms/step - loss: 0.0113 - root_mean_squared_error: 0.1065 - val_loss: 0.0156 - val_root_mean_squared_error: 0.1248\n",
      "Epoch 1779/2500\n",
      "8/8 [==============================] - 0s 10ms/step - loss: 0.0139 - root_mean_squared_error: 0.1180 - val_loss: 0.0208 - val_root_mean_squared_error: 0.1442\n",
      "Epoch 1780/2500\n",
      "8/8 [==============================] - 0s 10ms/step - loss: 0.0114 - root_mean_squared_error: 0.1069 - val_loss: 0.0123 - val_root_mean_squared_error: 0.1107\n",
      "Epoch 1781/2500\n",
      "8/8 [==============================] - 0s 10ms/step - loss: 0.0117 - root_mean_squared_error: 0.1083 - val_loss: 0.0119 - val_root_mean_squared_error: 0.1093\n",
      "Epoch 1782/2500\n",
      "8/8 [==============================] - 0s 9ms/step - loss: 0.0110 - root_mean_squared_error: 0.1050 - val_loss: 0.0151 - val_root_mean_squared_error: 0.1229\n",
      "Epoch 1783/2500\n",
      "8/8 [==============================] - 0s 9ms/step - loss: 0.0116 - root_mean_squared_error: 0.1076 - val_loss: 0.0141 - val_root_mean_squared_error: 0.1187\n",
      "Epoch 1784/2500\n",
      "8/8 [==============================] - 0s 10ms/step - loss: 0.0112 - root_mean_squared_error: 0.1060 - val_loss: 0.0126 - val_root_mean_squared_error: 0.1121\n",
      "Epoch 1785/2500\n",
      "8/8 [==============================] - 0s 10ms/step - loss: 0.0111 - root_mean_squared_error: 0.1051 - val_loss: 0.0122 - val_root_mean_squared_error: 0.1106\n",
      "Epoch 1786/2500\n",
      "8/8 [==============================] - 0s 10ms/step - loss: 0.0115 - root_mean_squared_error: 0.1074 - val_loss: 0.0127 - val_root_mean_squared_error: 0.1128\n",
      "Epoch 1787/2500\n",
      "8/8 [==============================] - 0s 10ms/step - loss: 0.0115 - root_mean_squared_error: 0.1071 - val_loss: 0.0125 - val_root_mean_squared_error: 0.1120\n",
      "Epoch 1788/2500\n",
      "8/8 [==============================] - 0s 9ms/step - loss: 0.0116 - root_mean_squared_error: 0.1078 - val_loss: 0.0122 - val_root_mean_squared_error: 0.1105\n",
      "Epoch 1789/2500\n",
      "8/8 [==============================] - 0s 10ms/step - loss: 0.0120 - root_mean_squared_error: 0.1093 - val_loss: 0.0127 - val_root_mean_squared_error: 0.1129\n",
      "Epoch 1790/2500\n",
      "8/8 [==============================] - 0s 9ms/step - loss: 0.0115 - root_mean_squared_error: 0.1074 - val_loss: 0.0131 - val_root_mean_squared_error: 0.1144\n",
      "Epoch 1791/2500\n",
      "8/8 [==============================] - 0s 10ms/step - loss: 0.0116 - root_mean_squared_error: 0.1077 - val_loss: 0.0121 - val_root_mean_squared_error: 0.1098\n",
      "Epoch 1792/2500\n",
      "8/8 [==============================] - 0s 10ms/step - loss: 0.0118 - root_mean_squared_error: 0.1085 - val_loss: 0.0132 - val_root_mean_squared_error: 0.1148\n",
      "Epoch 1793/2500\n",
      "8/8 [==============================] - 0s 10ms/step - loss: 0.0119 - root_mean_squared_error: 0.1090 - val_loss: 0.0122 - val_root_mean_squared_error: 0.1103\n",
      "Epoch 1794/2500\n",
      "8/8 [==============================] - 0s 10ms/step - loss: 0.0117 - root_mean_squared_error: 0.1081 - val_loss: 0.0125 - val_root_mean_squared_error: 0.1116\n",
      "Epoch 1795/2500\n",
      "8/8 [==============================] - 0s 9ms/step - loss: 0.0113 - root_mean_squared_error: 0.1062 - val_loss: 0.0127 - val_root_mean_squared_error: 0.1129\n",
      "Epoch 1796/2500\n",
      "8/8 [==============================] - 0s 9ms/step - loss: 0.0110 - root_mean_squared_error: 0.1049 - val_loss: 0.0155 - val_root_mean_squared_error: 0.1243\n",
      "Epoch 1797/2500\n",
      "8/8 [==============================] - 0s 9ms/step - loss: 0.0140 - root_mean_squared_error: 0.1182 - val_loss: 0.0302 - val_root_mean_squared_error: 0.1738\n",
      "Epoch 1798/2500\n"
     ]
    },
    {
     "name": "stdout",
     "output_type": "stream",
     "text": [
      "8/8 [==============================] - 0s 9ms/step - loss: 0.0137 - root_mean_squared_error: 0.1172 - val_loss: 0.0144 - val_root_mean_squared_error: 0.1201\n",
      "Epoch 1799/2500\n",
      "8/8 [==============================] - 0s 9ms/step - loss: 0.0112 - root_mean_squared_error: 0.1058 - val_loss: 0.0119 - val_root_mean_squared_error: 0.1092\n",
      "Epoch 1800/2500\n",
      "8/8 [==============================] - 0s 7ms/step - loss: 0.0117 - root_mean_squared_error: 0.1079 - val_loss: 0.0119 - val_root_mean_squared_error: 0.1090\n",
      "Epoch 1801/2500\n",
      "8/8 [==============================] - 0s 8ms/step - loss: 0.0110 - root_mean_squared_error: 0.1051 - val_loss: 0.0128 - val_root_mean_squared_error: 0.1131\n",
      "Epoch 1802/2500\n",
      "8/8 [==============================] - 0s 9ms/step - loss: 0.0111 - root_mean_squared_error: 0.1055 - val_loss: 0.0143 - val_root_mean_squared_error: 0.1194\n",
      "Epoch 1803/2500\n",
      "8/8 [==============================] - 0s 8ms/step - loss: 0.0113 - root_mean_squared_error: 0.1063 - val_loss: 0.0139 - val_root_mean_squared_error: 0.1179\n",
      "Epoch 1804/2500\n",
      "8/8 [==============================] - 0s 7ms/step - loss: 0.0113 - root_mean_squared_error: 0.1061 - val_loss: 0.0129 - val_root_mean_squared_error: 0.1137\n",
      "Epoch 1805/2500\n",
      "8/8 [==============================] - 0s 9ms/step - loss: 0.0114 - root_mean_squared_error: 0.1066 - val_loss: 0.0127 - val_root_mean_squared_error: 0.1126\n",
      "Epoch 1806/2500\n",
      "8/8 [==============================] - 0s 9ms/step - loss: 0.0113 - root_mean_squared_error: 0.1064 - val_loss: 0.0125 - val_root_mean_squared_error: 0.1117\n",
      "Epoch 1807/2500\n",
      "8/8 [==============================] - 0s 8ms/step - loss: 0.0110 - root_mean_squared_error: 0.1049 - val_loss: 0.0125 - val_root_mean_squared_error: 0.1117\n",
      "Epoch 1808/2500\n",
      "8/8 [==============================] - 0s 10ms/step - loss: 0.0113 - root_mean_squared_error: 0.1064 - val_loss: 0.0123 - val_root_mean_squared_error: 0.1107\n",
      "Epoch 1809/2500\n",
      "8/8 [==============================] - 0s 10ms/step - loss: 0.0112 - root_mean_squared_error: 0.1058 - val_loss: 0.0157 - val_root_mean_squared_error: 0.1253\n",
      "Epoch 1810/2500\n",
      "8/8 [==============================] - 0s 10ms/step - loss: 0.0128 - root_mean_squared_error: 0.1132 - val_loss: 0.0145 - val_root_mean_squared_error: 0.1203\n",
      "Epoch 1811/2500\n",
      "8/8 [==============================] - 0s 10ms/step - loss: 0.0122 - root_mean_squared_error: 0.1105 - val_loss: 0.0125 - val_root_mean_squared_error: 0.1117\n",
      "Epoch 1812/2500\n",
      "8/8 [==============================] - 0s 10ms/step - loss: 0.0115 - root_mean_squared_error: 0.1073 - val_loss: 0.0134 - val_root_mean_squared_error: 0.1158\n",
      "Epoch 1813/2500\n",
      "8/8 [==============================] - 0s 11ms/step - loss: 0.0120 - root_mean_squared_error: 0.1095 - val_loss: 0.0193 - val_root_mean_squared_error: 0.1390\n",
      "Epoch 1814/2500\n",
      "8/8 [==============================] - 0s 11ms/step - loss: 0.0118 - root_mean_squared_error: 0.1087 - val_loss: 0.0149 - val_root_mean_squared_error: 0.1219\n",
      "Epoch 1815/2500\n",
      "8/8 [==============================] - 0s 11ms/step - loss: 0.0111 - root_mean_squared_error: 0.1055 - val_loss: 0.0127 - val_root_mean_squared_error: 0.1126\n",
      "Epoch 1816/2500\n",
      "8/8 [==============================] - 0s 10ms/step - loss: 0.0112 - root_mean_squared_error: 0.1059 - val_loss: 0.0125 - val_root_mean_squared_error: 0.1120\n",
      "Epoch 1817/2500\n",
      "8/8 [==============================] - 0s 10ms/step - loss: 0.0110 - root_mean_squared_error: 0.1049 - val_loss: 0.0140 - val_root_mean_squared_error: 0.1185\n",
      "Epoch 1818/2500\n",
      "8/8 [==============================] - 0s 12ms/step - loss: 0.0111 - root_mean_squared_error: 0.1054 - val_loss: 0.0142 - val_root_mean_squared_error: 0.1191\n",
      "Epoch 1819/2500\n",
      "8/8 [==============================] - 0s 11ms/step - loss: 0.0111 - root_mean_squared_error: 0.1051 - val_loss: 0.0133 - val_root_mean_squared_error: 0.1152\n",
      "Epoch 1820/2500\n",
      "8/8 [==============================] - 0s 10ms/step - loss: 0.0112 - root_mean_squared_error: 0.1058 - val_loss: 0.0147 - val_root_mean_squared_error: 0.1214\n",
      "Epoch 1821/2500\n",
      "8/8 [==============================] - 0s 13ms/step - loss: 0.0112 - root_mean_squared_error: 0.1060 - val_loss: 0.0134 - val_root_mean_squared_error: 0.1160\n",
      "Epoch 1822/2500\n",
      "8/8 [==============================] - 0s 11ms/step - loss: 0.0117 - root_mean_squared_error: 0.1079 - val_loss: 0.0168 - val_root_mean_squared_error: 0.1296\n",
      "Epoch 1823/2500\n",
      "8/8 [==============================] - 0s 10ms/step - loss: 0.0115 - root_mean_squared_error: 0.1071 - val_loss: 0.0132 - val_root_mean_squared_error: 0.1151\n",
      "Epoch 1824/2500\n",
      "8/8 [==============================] - 0s 11ms/step - loss: 0.0111 - root_mean_squared_error: 0.1054 - val_loss: 0.0123 - val_root_mean_squared_error: 0.1109\n",
      "Epoch 1825/2500\n",
      "8/8 [==============================] - 0s 13ms/step - loss: 0.0112 - root_mean_squared_error: 0.1056 - val_loss: 0.0131 - val_root_mean_squared_error: 0.1144\n",
      "Epoch 1826/2500\n",
      "8/8 [==============================] - 0s 12ms/step - loss: 0.0112 - root_mean_squared_error: 0.1056 - val_loss: 0.0135 - val_root_mean_squared_error: 0.1162\n",
      "Epoch 1827/2500\n",
      "8/8 [==============================] - 0s 11ms/step - loss: 0.0112 - root_mean_squared_error: 0.1056 - val_loss: 0.0128 - val_root_mean_squared_error: 0.1131\n",
      "Epoch 1828/2500\n",
      "8/8 [==============================] - 0s 10ms/step - loss: 0.0110 - root_mean_squared_error: 0.1050 - val_loss: 0.0125 - val_root_mean_squared_error: 0.1116\n",
      "Epoch 1829/2500\n",
      "8/8 [==============================] - 0s 11ms/step - loss: 0.0111 - root_mean_squared_error: 0.1056 - val_loss: 0.0147 - val_root_mean_squared_error: 0.1211\n",
      "Epoch 1830/2500\n",
      "8/8 [==============================] - 0s 10ms/step - loss: 0.0113 - root_mean_squared_error: 0.1062 - val_loss: 0.0135 - val_root_mean_squared_error: 0.1161\n",
      "Epoch 1831/2500\n",
      "8/8 [==============================] - 0s 11ms/step - loss: 0.0113 - root_mean_squared_error: 0.1062 - val_loss: 0.0122 - val_root_mean_squared_error: 0.1105\n",
      "Epoch 1832/2500\n",
      "8/8 [==============================] - 0s 11ms/step - loss: 0.0119 - root_mean_squared_error: 0.1092 - val_loss: 0.0123 - val_root_mean_squared_error: 0.1111\n",
      "Epoch 1833/2500\n",
      "8/8 [==============================] - 0s 12ms/step - loss: 0.0114 - root_mean_squared_error: 0.1070 - val_loss: 0.0130 - val_root_mean_squared_error: 0.1142\n",
      "Epoch 1834/2500\n",
      "8/8 [==============================] - 0s 11ms/step - loss: 0.0112 - root_mean_squared_error: 0.1059 - val_loss: 0.0129 - val_root_mean_squared_error: 0.1135\n",
      "Epoch 1835/2500\n",
      "8/8 [==============================] - 0s 10ms/step - loss: 0.0114 - root_mean_squared_error: 0.1068 - val_loss: 0.0126 - val_root_mean_squared_error: 0.1123\n",
      "Epoch 1836/2500\n",
      "8/8 [==============================] - 0s 13ms/step - loss: 0.0119 - root_mean_squared_error: 0.1093 - val_loss: 0.0128 - val_root_mean_squared_error: 0.1133\n",
      "Epoch 1837/2500\n",
      "8/8 [==============================] - 0s 11ms/step - loss: 0.0117 - root_mean_squared_error: 0.1083 - val_loss: 0.0131 - val_root_mean_squared_error: 0.1145\n",
      "Epoch 1838/2500\n",
      "8/8 [==============================] - 0s 10ms/step - loss: 0.0111 - root_mean_squared_error: 0.1055 - val_loss: 0.0128 - val_root_mean_squared_error: 0.1131\n",
      "Epoch 1839/2500\n",
      "8/8 [==============================] - 0s 10ms/step - loss: 0.0111 - root_mean_squared_error: 0.1053 - val_loss: 0.0128 - val_root_mean_squared_error: 0.1133\n",
      "Epoch 1840/2500\n",
      "8/8 [==============================] - 0s 11ms/step - loss: 0.0110 - root_mean_squared_error: 0.1050 - val_loss: 0.0128 - val_root_mean_squared_error: 0.1131\n",
      "Epoch 1841/2500\n",
      "8/8 [==============================] - 0s 11ms/step - loss: 0.0110 - root_mean_squared_error: 0.1050 - val_loss: 0.0123 - val_root_mean_squared_error: 0.1108\n",
      "Epoch 1842/2500\n",
      "8/8 [==============================] - 0s 10ms/step - loss: 0.0114 - root_mean_squared_error: 0.1068 - val_loss: 0.0120 - val_root_mean_squared_error: 0.1097\n",
      "Epoch 1843/2500\n",
      "8/8 [==============================] - 0s 10ms/step - loss: 0.0112 - root_mean_squared_error: 0.1057 - val_loss: 0.0122 - val_root_mean_squared_error: 0.1104\n",
      "Epoch 1844/2500\n",
      "8/8 [==============================] - 0s 11ms/step - loss: 0.0117 - root_mean_squared_error: 0.1081 - val_loss: 0.0123 - val_root_mean_squared_error: 0.1109\n",
      "Epoch 1845/2500\n",
      "8/8 [==============================] - 0s 9ms/step - loss: 0.0120 - root_mean_squared_error: 0.1096 - val_loss: 0.0124 - val_root_mean_squared_error: 0.1112\n",
      "Epoch 1846/2500\n",
      "8/8 [==============================] - 0s 11ms/step - loss: 0.0113 - root_mean_squared_error: 0.1064 - val_loss: 0.0145 - val_root_mean_squared_error: 0.1203\n",
      "Epoch 1847/2500\n",
      "8/8 [==============================] - 0s 10ms/step - loss: 0.0114 - root_mean_squared_error: 0.1067 - val_loss: 0.0141 - val_root_mean_squared_error: 0.1188\n",
      "Epoch 1848/2500\n",
      "8/8 [==============================] - 0s 11ms/step - loss: 0.0112 - root_mean_squared_error: 0.1057 - val_loss: 0.0122 - val_root_mean_squared_error: 0.1104\n",
      "Epoch 1849/2500\n",
      "8/8 [==============================] - 0s 10ms/step - loss: 0.0111 - root_mean_squared_error: 0.1054 - val_loss: 0.0118 - val_root_mean_squared_error: 0.1084\n",
      "Epoch 1850/2500\n",
      "8/8 [==============================] - 0s 9ms/step - loss: 0.0118 - root_mean_squared_error: 0.1086 - val_loss: 0.0123 - val_root_mean_squared_error: 0.1108\n",
      "Epoch 1851/2500\n",
      "8/8 [==============================] - 0s 10ms/step - loss: 0.0117 - root_mean_squared_error: 0.1083 - val_loss: 0.0122 - val_root_mean_squared_error: 0.1106\n",
      "Epoch 1852/2500\n",
      "8/8 [==============================] - 0s 10ms/step - loss: 0.0115 - root_mean_squared_error: 0.1072 - val_loss: 0.0141 - val_root_mean_squared_error: 0.1186\n",
      "Epoch 1853/2500\n",
      "8/8 [==============================] - 0s 10ms/step - loss: 0.0113 - root_mean_squared_error: 0.1064 - val_loss: 0.0127 - val_root_mean_squared_error: 0.1129\n",
      "Epoch 1854/2500\n",
      "8/8 [==============================] - 0s 9ms/step - loss: 0.0111 - root_mean_squared_error: 0.1054 - val_loss: 0.0123 - val_root_mean_squared_error: 0.1107\n",
      "Epoch 1855/2500\n",
      "8/8 [==============================] - 0s 10ms/step - loss: 0.0111 - root_mean_squared_error: 0.1056 - val_loss: 0.0130 - val_root_mean_squared_error: 0.1142\n",
      "Epoch 1856/2500\n",
      "8/8 [==============================] - 0s 10ms/step - loss: 0.0113 - root_mean_squared_error: 0.1065 - val_loss: 0.0171 - val_root_mean_squared_error: 0.1307\n",
      "Epoch 1857/2500\n",
      "8/8 [==============================] - 0s 10ms/step - loss: 0.0115 - root_mean_squared_error: 0.1073 - val_loss: 0.0144 - val_root_mean_squared_error: 0.1199\n",
      "Epoch 1858/2500\n",
      "8/8 [==============================] - 0s 11ms/step - loss: 0.0113 - root_mean_squared_error: 0.1061 - val_loss: 0.0146 - val_root_mean_squared_error: 0.1209\n",
      "Epoch 1859/2500\n",
      "8/8 [==============================] - 0s 10ms/step - loss: 0.0116 - root_mean_squared_error: 0.1078 - val_loss: 0.0133 - val_root_mean_squared_error: 0.1153\n",
      "Epoch 1860/2500\n",
      "8/8 [==============================] - 0s 9ms/step - loss: 0.0113 - root_mean_squared_error: 0.1062 - val_loss: 0.0132 - val_root_mean_squared_error: 0.1149\n",
      "Epoch 1861/2500\n",
      "8/8 [==============================] - 0s 10ms/step - loss: 0.0111 - root_mean_squared_error: 0.1054 - val_loss: 0.0135 - val_root_mean_squared_error: 0.1163\n",
      "Epoch 1862/2500\n",
      "8/8 [==============================] - 0s 10ms/step - loss: 0.0111 - root_mean_squared_error: 0.1053 - val_loss: 0.0130 - val_root_mean_squared_error: 0.1141\n",
      "Epoch 1863/2500\n",
      "8/8 [==============================] - 0s 9ms/step - loss: 0.0110 - root_mean_squared_error: 0.1049 - val_loss: 0.0126 - val_root_mean_squared_error: 0.1121\n",
      "Epoch 1864/2500\n",
      "8/8 [==============================] - 0s 8ms/step - loss: 0.0112 - root_mean_squared_error: 0.1058 - val_loss: 0.0122 - val_root_mean_squared_error: 0.1103\n",
      "Epoch 1865/2500\n",
      "8/8 [==============================] - 0s 10ms/step - loss: 0.0111 - root_mean_squared_error: 0.1055 - val_loss: 0.0127 - val_root_mean_squared_error: 0.1128\n",
      "Epoch 1866/2500\n",
      "8/8 [==============================] - 0s 10ms/step - loss: 0.0112 - root_mean_squared_error: 0.1059 - val_loss: 0.0128 - val_root_mean_squared_error: 0.1131\n",
      "Epoch 1867/2500\n",
      "8/8 [==============================] - 0s 9ms/step - loss: 0.0112 - root_mean_squared_error: 0.1057 - val_loss: 0.0125 - val_root_mean_squared_error: 0.1116\n",
      "Epoch 1868/2500\n",
      "8/8 [==============================] - 0s 9ms/step - loss: 0.0113 - root_mean_squared_error: 0.1065 - val_loss: 0.0127 - val_root_mean_squared_error: 0.1127\n",
      "Epoch 1869/2500\n",
      "8/8 [==============================] - 0s 10ms/step - loss: 0.0116 - root_mean_squared_error: 0.1076 - val_loss: 0.0142 - val_root_mean_squared_error: 0.1190\n",
      "Epoch 1870/2500\n",
      "8/8 [==============================] - 0s 10ms/step - loss: 0.0115 - root_mean_squared_error: 0.1072 - val_loss: 0.0125 - val_root_mean_squared_error: 0.1120\n",
      "Epoch 1871/2500\n",
      "8/8 [==============================] - 0s 10ms/step - loss: 0.0115 - root_mean_squared_error: 0.1073 - val_loss: 0.0124 - val_root_mean_squared_error: 0.1115\n",
      "Epoch 1872/2500\n",
      "8/8 [==============================] - 0s 10ms/step - loss: 0.0125 - root_mean_squared_error: 0.1119 - val_loss: 0.0129 - val_root_mean_squared_error: 0.1135\n",
      "Epoch 1873/2500\n",
      "8/8 [==============================] - 0s 10ms/step - loss: 0.0117 - root_mean_squared_error: 0.1081 - val_loss: 0.0132 - val_root_mean_squared_error: 0.1149\n",
      "Epoch 1874/2500\n",
      "8/8 [==============================] - 0s 10ms/step - loss: 0.0122 - root_mean_squared_error: 0.1104 - val_loss: 0.0133 - val_root_mean_squared_error: 0.1151\n",
      "Epoch 1875/2500\n",
      "8/8 [==============================] - 0s 10ms/step - loss: 0.0124 - root_mean_squared_error: 0.1111 - val_loss: 0.0158 - val_root_mean_squared_error: 0.1259\n",
      "Epoch 1876/2500\n",
      "8/8 [==============================] - 0s 10ms/step - loss: 0.0126 - root_mean_squared_error: 0.1121 - val_loss: 0.0135 - val_root_mean_squared_error: 0.1162\n",
      "Epoch 1877/2500\n",
      "8/8 [==============================] - 0s 10ms/step - loss: 0.0127 - root_mean_squared_error: 0.1128 - val_loss: 0.0129 - val_root_mean_squared_error: 0.1134\n",
      "Epoch 1878/2500\n",
      "8/8 [==============================] - 0s 11ms/step - loss: 0.0111 - root_mean_squared_error: 0.1055 - val_loss: 0.0121 - val_root_mean_squared_error: 0.1102\n",
      "Epoch 1879/2500\n",
      "8/8 [==============================] - 0s 10ms/step - loss: 0.0113 - root_mean_squared_error: 0.1062 - val_loss: 0.0123 - val_root_mean_squared_error: 0.1109\n",
      "Epoch 1880/2500\n",
      "8/8 [==============================] - 0s 12ms/step - loss: 0.0110 - root_mean_squared_error: 0.1051 - val_loss: 0.0123 - val_root_mean_squared_error: 0.1111\n",
      "Epoch 1881/2500\n",
      "8/8 [==============================] - 0s 11ms/step - loss: 0.0114 - root_mean_squared_error: 0.1068 - val_loss: 0.0129 - val_root_mean_squared_error: 0.1134\n",
      "Epoch 1882/2500\n",
      "8/8 [==============================] - 0s 10ms/step - loss: 0.0115 - root_mean_squared_error: 0.1072 - val_loss: 0.0124 - val_root_mean_squared_error: 0.1115\n",
      "Epoch 1883/2500\n",
      "8/8 [==============================] - 0s 11ms/step - loss: 0.0110 - root_mean_squared_error: 0.1049 - val_loss: 0.0146 - val_root_mean_squared_error: 0.1207\n",
      "Epoch 1884/2500\n",
      "8/8 [==============================] - 0s 10ms/step - loss: 0.0127 - root_mean_squared_error: 0.1128 - val_loss: 0.0230 - val_root_mean_squared_error: 0.1517\n",
      "Epoch 1885/2500\n",
      "8/8 [==============================] - 0s 10ms/step - loss: 0.0130 - root_mean_squared_error: 0.1141 - val_loss: 0.0127 - val_root_mean_squared_error: 0.1128\n",
      "Epoch 1886/2500\n",
      "8/8 [==============================] - 0s 10ms/step - loss: 0.0112 - root_mean_squared_error: 0.1060 - val_loss: 0.0115 - val_root_mean_squared_error: 0.1072\n",
      "Epoch 1887/2500\n",
      "8/8 [==============================] - 0s 10ms/step - loss: 0.0114 - root_mean_squared_error: 0.1068 - val_loss: 0.0116 - val_root_mean_squared_error: 0.1079\n",
      "Epoch 1888/2500\n",
      "8/8 [==============================] - 0s 10ms/step - loss: 0.0112 - root_mean_squared_error: 0.1056 - val_loss: 0.0123 - val_root_mean_squared_error: 0.1110\n",
      "Epoch 1889/2500\n",
      "8/8 [==============================] - 0s 11ms/step - loss: 0.0112 - root_mean_squared_error: 0.1060 - val_loss: 0.0126 - val_root_mean_squared_error: 0.1124\n",
      "Epoch 1890/2500\n",
      "8/8 [==============================] - 0s 10ms/step - loss: 0.0115 - root_mean_squared_error: 0.1070 - val_loss: 0.0126 - val_root_mean_squared_error: 0.1121\n",
      "Epoch 1891/2500\n",
      "8/8 [==============================] - 0s 9ms/step - loss: 0.0109 - root_mean_squared_error: 0.1044 - val_loss: 0.0123 - val_root_mean_squared_error: 0.1109\n",
      "Epoch 1892/2500\n"
     ]
    },
    {
     "name": "stdout",
     "output_type": "stream",
     "text": [
      "8/8 [==============================] - 0s 10ms/step - loss: 0.0111 - root_mean_squared_error: 0.1053 - val_loss: 0.0125 - val_root_mean_squared_error: 0.1116\n",
      "Epoch 1893/2500\n",
      "8/8 [==============================] - 0s 10ms/step - loss: 0.0109 - root_mean_squared_error: 0.1043 - val_loss: 0.0126 - val_root_mean_squared_error: 0.1121\n",
      "Epoch 1894/2500\n",
      "8/8 [==============================] - 0s 10ms/step - loss: 0.0109 - root_mean_squared_error: 0.1043 - val_loss: 0.0128 - val_root_mean_squared_error: 0.1131\n",
      "Epoch 1895/2500\n",
      "8/8 [==============================] - 0s 10ms/step - loss: 0.0110 - root_mean_squared_error: 0.1048 - val_loss: 0.0124 - val_root_mean_squared_error: 0.1114\n",
      "Epoch 1896/2500\n",
      "8/8 [==============================] - 0s 10ms/step - loss: 0.0110 - root_mean_squared_error: 0.1050 - val_loss: 0.0127 - val_root_mean_squared_error: 0.1127\n",
      "Epoch 1897/2500\n",
      "8/8 [==============================] - 0s 10ms/step - loss: 0.0109 - root_mean_squared_error: 0.1045 - val_loss: 0.0127 - val_root_mean_squared_error: 0.1126\n",
      "Epoch 1898/2500\n",
      "8/8 [==============================] - 0s 11ms/step - loss: 0.0111 - root_mean_squared_error: 0.1053 - val_loss: 0.0139 - val_root_mean_squared_error: 0.1179\n",
      "Epoch 1899/2500\n",
      "8/8 [==============================] - 0s 11ms/step - loss: 0.0114 - root_mean_squared_error: 0.1068 - val_loss: 0.0133 - val_root_mean_squared_error: 0.1153\n",
      "Epoch 1900/2500\n",
      "8/8 [==============================] - 0s 10ms/step - loss: 0.0113 - root_mean_squared_error: 0.1064 - val_loss: 0.0130 - val_root_mean_squared_error: 0.1140\n",
      "Epoch 1901/2500\n",
      "8/8 [==============================] - 0s 10ms/step - loss: 0.0111 - root_mean_squared_error: 0.1052 - val_loss: 0.0123 - val_root_mean_squared_error: 0.1108\n",
      "Epoch 1902/2500\n",
      "8/8 [==============================] - 0s 11ms/step - loss: 0.0114 - root_mean_squared_error: 0.1067 - val_loss: 0.0123 - val_root_mean_squared_error: 0.1108\n",
      "Epoch 1903/2500\n",
      "8/8 [==============================] - 0s 10ms/step - loss: 0.0112 - root_mean_squared_error: 0.1059 - val_loss: 0.0132 - val_root_mean_squared_error: 0.1147\n",
      "Epoch 1904/2500\n",
      "8/8 [==============================] - 0s 9ms/step - loss: 0.0110 - root_mean_squared_error: 0.1048 - val_loss: 0.0162 - val_root_mean_squared_error: 0.1273\n",
      "Epoch 1905/2500\n",
      "8/8 [==============================] - 0s 10ms/step - loss: 0.0134 - root_mean_squared_error: 0.1158 - val_loss: 0.0264 - val_root_mean_squared_error: 0.1626\n",
      "Epoch 1906/2500\n",
      "8/8 [==============================] - 0s 11ms/step - loss: 0.0130 - root_mean_squared_error: 0.1140 - val_loss: 0.0133 - val_root_mean_squared_error: 0.1152\n",
      "Epoch 1907/2500\n",
      "8/8 [==============================] - 0s 11ms/step - loss: 0.0116 - root_mean_squared_error: 0.1077 - val_loss: 0.0121 - val_root_mean_squared_error: 0.1102\n",
      "Epoch 1908/2500\n",
      "8/8 [==============================] - 0s 11ms/step - loss: 0.0112 - root_mean_squared_error: 0.1060 - val_loss: 0.0124 - val_root_mean_squared_error: 0.1116\n",
      "Epoch 1909/2500\n",
      "8/8 [==============================] - 0s 10ms/step - loss: 0.0111 - root_mean_squared_error: 0.1055 - val_loss: 0.0139 - val_root_mean_squared_error: 0.1179\n",
      "Epoch 1910/2500\n",
      "8/8 [==============================] - 0s 10ms/step - loss: 0.0126 - root_mean_squared_error: 0.1124 - val_loss: 0.0135 - val_root_mean_squared_error: 0.1160\n",
      "Epoch 1911/2500\n",
      "8/8 [==============================] - 0s 10ms/step - loss: 0.0117 - root_mean_squared_error: 0.1083 - val_loss: 0.0128 - val_root_mean_squared_error: 0.1130\n",
      "Epoch 1912/2500\n",
      "8/8 [==============================] - 0s 10ms/step - loss: 0.0110 - root_mean_squared_error: 0.1050 - val_loss: 0.0125 - val_root_mean_squared_error: 0.1119\n",
      "Epoch 1913/2500\n",
      "8/8 [==============================] - 0s 10ms/step - loss: 0.0109 - root_mean_squared_error: 0.1045 - val_loss: 0.0129 - val_root_mean_squared_error: 0.1134\n",
      "Epoch 1914/2500\n",
      "8/8 [==============================] - 0s 9ms/step - loss: 0.0109 - root_mean_squared_error: 0.1044 - val_loss: 0.0138 - val_root_mean_squared_error: 0.1177\n",
      "Epoch 1915/2500\n",
      "8/8 [==============================] - 0s 10ms/step - loss: 0.0111 - root_mean_squared_error: 0.1054 - val_loss: 0.0137 - val_root_mean_squared_error: 0.1170\n",
      "Epoch 1916/2500\n",
      "8/8 [==============================] - 0s 9ms/step - loss: 0.0112 - root_mean_squared_error: 0.1057 - val_loss: 0.0126 - val_root_mean_squared_error: 0.1123\n",
      "Epoch 1917/2500\n",
      "8/8 [==============================] - 0s 10ms/step - loss: 0.0111 - root_mean_squared_error: 0.1052 - val_loss: 0.0126 - val_root_mean_squared_error: 0.1123\n",
      "Epoch 1918/2500\n",
      "8/8 [==============================] - 0s 10ms/step - loss: 0.0111 - root_mean_squared_error: 0.1053 - val_loss: 0.0131 - val_root_mean_squared_error: 0.1145\n",
      "Epoch 1919/2500\n",
      "8/8 [==============================] - 0s 10ms/step - loss: 0.0111 - root_mean_squared_error: 0.1054 - val_loss: 0.0149 - val_root_mean_squared_error: 0.1220\n",
      "Epoch 1920/2500\n",
      "8/8 [==============================] - 0s 10ms/step - loss: 0.0110 - root_mean_squared_error: 0.1050 - val_loss: 0.0130 - val_root_mean_squared_error: 0.1142\n",
      "Epoch 1921/2500\n",
      "8/8 [==============================] - 0s 10ms/step - loss: 0.0109 - root_mean_squared_error: 0.1046 - val_loss: 0.0136 - val_root_mean_squared_error: 0.1165\n",
      "Epoch 1922/2500\n",
      "8/8 [==============================] - 0s 9ms/step - loss: 0.0111 - root_mean_squared_error: 0.1052 - val_loss: 0.0144 - val_root_mean_squared_error: 0.1199\n",
      "Epoch 1923/2500\n",
      "8/8 [==============================] - 0s 10ms/step - loss: 0.0110 - root_mean_squared_error: 0.1046 - val_loss: 0.0130 - val_root_mean_squared_error: 0.1141\n",
      "Epoch 1924/2500\n",
      "8/8 [==============================] - 0s 10ms/step - loss: 0.0120 - root_mean_squared_error: 0.1096 - val_loss: 0.0124 - val_root_mean_squared_error: 0.1113\n",
      "Epoch 1925/2500\n",
      "8/8 [==============================] - 0s 9ms/step - loss: 0.0114 - root_mean_squared_error: 0.1067 - val_loss: 0.0129 - val_root_mean_squared_error: 0.1137\n",
      "Epoch 1926/2500\n",
      "8/8 [==============================] - 0s 8ms/step - loss: 0.0109 - root_mean_squared_error: 0.1045 - val_loss: 0.0133 - val_root_mean_squared_error: 0.1153\n",
      "Epoch 1927/2500\n",
      "8/8 [==============================] - 0s 9ms/step - loss: 0.0111 - root_mean_squared_error: 0.1051 - val_loss: 0.0127 - val_root_mean_squared_error: 0.1128\n",
      "Epoch 1928/2500\n",
      "8/8 [==============================] - 0s 10ms/step - loss: 0.0109 - root_mean_squared_error: 0.1046 - val_loss: 0.0126 - val_root_mean_squared_error: 0.1121\n",
      "Epoch 1929/2500\n",
      "8/8 [==============================] - 0s 9ms/step - loss: 0.0110 - root_mean_squared_error: 0.1047 - val_loss: 0.0129 - val_root_mean_squared_error: 0.1134\n",
      "Epoch 1930/2500\n",
      "8/8 [==============================] - 0s 10ms/step - loss: 0.0111 - root_mean_squared_error: 0.1052 - val_loss: 0.0126 - val_root_mean_squared_error: 0.1122\n",
      "Epoch 1931/2500\n",
      "8/8 [==============================] - 0s 13ms/step - loss: 0.0112 - root_mean_squared_error: 0.1059 - val_loss: 0.0180 - val_root_mean_squared_error: 0.1341\n",
      "Epoch 1932/2500\n",
      "8/8 [==============================] - 0s 11ms/step - loss: 0.0116 - root_mean_squared_error: 0.1078 - val_loss: 0.0144 - val_root_mean_squared_error: 0.1199\n",
      "Epoch 1933/2500\n",
      "8/8 [==============================] - 0s 9ms/step - loss: 0.0115 - root_mean_squared_error: 0.1073 - val_loss: 0.0151 - val_root_mean_squared_error: 0.1230\n",
      "Epoch 1934/2500\n",
      "8/8 [==============================] - 0s 10ms/step - loss: 0.0112 - root_mean_squared_error: 0.1059 - val_loss: 0.0129 - val_root_mean_squared_error: 0.1137\n",
      "Epoch 1935/2500\n",
      "8/8 [==============================] - 0s 10ms/step - loss: 0.0118 - root_mean_squared_error: 0.1087 - val_loss: 0.0134 - val_root_mean_squared_error: 0.1158\n",
      "Epoch 1936/2500\n",
      "8/8 [==============================] - 0s 9ms/step - loss: 0.0115 - root_mean_squared_error: 0.1074 - val_loss: 0.0170 - val_root_mean_squared_error: 0.1302\n",
      "Epoch 1937/2500\n",
      "8/8 [==============================] - 0s 10ms/step - loss: 0.0113 - root_mean_squared_error: 0.1065 - val_loss: 0.0148 - val_root_mean_squared_error: 0.1218\n",
      "Epoch 1938/2500\n",
      "8/8 [==============================] - 0s 10ms/step - loss: 0.0111 - root_mean_squared_error: 0.1053 - val_loss: 0.0134 - val_root_mean_squared_error: 0.1156\n",
      "Epoch 1939/2500\n",
      "8/8 [==============================] - 0s 10ms/step - loss: 0.0110 - root_mean_squared_error: 0.1050 - val_loss: 0.0123 - val_root_mean_squared_error: 0.1107\n",
      "Epoch 1940/2500\n",
      "8/8 [==============================] - 0s 10ms/step - loss: 0.0111 - root_mean_squared_error: 0.1056 - val_loss: 0.0125 - val_root_mean_squared_error: 0.1118\n",
      "Epoch 1941/2500\n",
      "8/8 [==============================] - 0s 10ms/step - loss: 0.0110 - root_mean_squared_error: 0.1047 - val_loss: 0.0139 - val_root_mean_squared_error: 0.1178\n",
      "Epoch 1942/2500\n",
      "8/8 [==============================] - 0s 9ms/step - loss: 0.0111 - root_mean_squared_error: 0.1053 - val_loss: 0.0135 - val_root_mean_squared_error: 0.1163\n",
      "Epoch 1943/2500\n",
      "8/8 [==============================] - 0s 10ms/step - loss: 0.0109 - root_mean_squared_error: 0.1046 - val_loss: 0.0128 - val_root_mean_squared_error: 0.1130\n",
      "Epoch 1944/2500\n",
      "8/8 [==============================] - 0s 10ms/step - loss: 0.0140 - root_mean_squared_error: 0.1184 - val_loss: 0.0186 - val_root_mean_squared_error: 0.1362\n",
      "Epoch 1945/2500\n",
      "8/8 [==============================] - 0s 10ms/step - loss: 0.0131 - root_mean_squared_error: 0.1143 - val_loss: 0.0141 - val_root_mean_squared_error: 0.1187\n",
      "Epoch 1946/2500\n",
      "8/8 [==============================] - 0s 7ms/step - loss: 0.0121 - root_mean_squared_error: 0.1098 - val_loss: 0.0247 - val_root_mean_squared_error: 0.1573\n",
      "Epoch 1947/2500\n",
      "8/8 [==============================] - 0s 10ms/step - loss: 0.0127 - root_mean_squared_error: 0.1125 - val_loss: 0.0163 - val_root_mean_squared_error: 0.1277\n",
      "Epoch 1948/2500\n",
      "8/8 [==============================] - 0s 7ms/step - loss: 0.0107 - root_mean_squared_error: 0.1036 - val_loss: 0.0126 - val_root_mean_squared_error: 0.1122\n",
      "Epoch 1949/2500\n",
      "8/8 [==============================] - 0s 10ms/step - loss: 0.0113 - root_mean_squared_error: 0.1063 - val_loss: 0.0124 - val_root_mean_squared_error: 0.1113\n",
      "Epoch 1950/2500\n",
      "8/8 [==============================] - 0s 10ms/step - loss: 0.0109 - root_mean_squared_error: 0.1042 - val_loss: 0.0132 - val_root_mean_squared_error: 0.1148\n",
      "Epoch 1951/2500\n",
      "8/8 [==============================] - 0s 10ms/step - loss: 0.0113 - root_mean_squared_error: 0.1063 - val_loss: 0.0138 - val_root_mean_squared_error: 0.1173\n",
      "Epoch 1952/2500\n",
      "8/8 [==============================] - 0s 9ms/step - loss: 0.0110 - root_mean_squared_error: 0.1048 - val_loss: 0.0135 - val_root_mean_squared_error: 0.1160\n",
      "Epoch 1953/2500\n",
      "8/8 [==============================] - 0s 12ms/step - loss: 0.0109 - root_mean_squared_error: 0.1042 - val_loss: 0.0124 - val_root_mean_squared_error: 0.1115\n",
      "Epoch 1954/2500\n",
      "8/8 [==============================] - 0s 8ms/step - loss: 0.0116 - root_mean_squared_error: 0.1076 - val_loss: 0.0121 - val_root_mean_squared_error: 0.1098\n",
      "Epoch 1955/2500\n",
      "8/8 [==============================] - 0s 10ms/step - loss: 0.0115 - root_mean_squared_error: 0.1073 - val_loss: 0.0145 - val_root_mean_squared_error: 0.1204\n",
      "Epoch 1956/2500\n",
      "8/8 [==============================] - 0s 9ms/step - loss: 0.0116 - root_mean_squared_error: 0.1079 - val_loss: 0.0131 - val_root_mean_squared_error: 0.1143\n",
      "Epoch 1957/2500\n",
      "8/8 [==============================] - 0s 9ms/step - loss: 0.0114 - root_mean_squared_error: 0.1069 - val_loss: 0.0132 - val_root_mean_squared_error: 0.1149\n",
      "Epoch 1958/2500\n",
      "8/8 [==============================] - 0s 10ms/step - loss: 0.0111 - root_mean_squared_error: 0.1052 - val_loss: 0.0152 - val_root_mean_squared_error: 0.1232\n",
      "Epoch 1959/2500\n",
      "8/8 [==============================] - 0s 10ms/step - loss: 0.0114 - root_mean_squared_error: 0.1069 - val_loss: 0.0145 - val_root_mean_squared_error: 0.1203\n",
      "Epoch 1960/2500\n",
      "8/8 [==============================] - 0s 10ms/step - loss: 0.0112 - root_mean_squared_error: 0.1057 - val_loss: 0.0129 - val_root_mean_squared_error: 0.1137\n",
      "Epoch 1961/2500\n",
      "8/8 [==============================] - 0s 10ms/step - loss: 0.0110 - root_mean_squared_error: 0.1049 - val_loss: 0.0118 - val_root_mean_squared_error: 0.1087\n",
      "Epoch 1962/2500\n",
      "8/8 [==============================] - 0s 10ms/step - loss: 0.0118 - root_mean_squared_error: 0.1088 - val_loss: 0.0132 - val_root_mean_squared_error: 0.1148\n",
      "Epoch 1963/2500\n",
      "8/8 [==============================] - 0s 10ms/step - loss: 0.0114 - root_mean_squared_error: 0.1066 - val_loss: 0.0150 - val_root_mean_squared_error: 0.1225\n",
      "Epoch 1964/2500\n",
      "8/8 [==============================] - 0s 10ms/step - loss: 0.0118 - root_mean_squared_error: 0.1086 - val_loss: 0.0202 - val_root_mean_squared_error: 0.1423\n",
      "Epoch 1965/2500\n",
      "8/8 [==============================] - 0s 10ms/step - loss: 0.0119 - root_mean_squared_error: 0.1089 - val_loss: 0.0146 - val_root_mean_squared_error: 0.1210\n",
      "Epoch 1966/2500\n",
      "8/8 [==============================] - 0s 9ms/step - loss: 0.0112 - root_mean_squared_error: 0.1059 - val_loss: 0.0130 - val_root_mean_squared_error: 0.1139\n",
      "Epoch 1967/2500\n",
      "8/8 [==============================] - 0s 10ms/step - loss: 0.0110 - root_mean_squared_error: 0.1051 - val_loss: 0.0136 - val_root_mean_squared_error: 0.1166\n",
      "Epoch 1968/2500\n",
      "8/8 [==============================] - 0s 10ms/step - loss: 0.0111 - root_mean_squared_error: 0.1053 - val_loss: 0.0121 - val_root_mean_squared_error: 0.1101\n",
      "Epoch 1969/2500\n",
      "8/8 [==============================] - 0s 10ms/step - loss: 0.0111 - root_mean_squared_error: 0.1052 - val_loss: 0.0139 - val_root_mean_squared_error: 0.1180\n",
      "Epoch 1970/2500\n",
      "8/8 [==============================] - 0s 10ms/step - loss: 0.0109 - root_mean_squared_error: 0.1044 - val_loss: 0.0126 - val_root_mean_squared_error: 0.1124\n",
      "Epoch 1971/2500\n",
      "8/8 [==============================] - 0s 10ms/step - loss: 0.0109 - root_mean_squared_error: 0.1043 - val_loss: 0.0125 - val_root_mean_squared_error: 0.1116\n",
      "Epoch 1972/2500\n",
      "8/8 [==============================] - 0s 10ms/step - loss: 0.0110 - root_mean_squared_error: 0.1048 - val_loss: 0.0129 - val_root_mean_squared_error: 0.1134\n",
      "Epoch 1973/2500\n",
      "8/8 [==============================] - 0s 9ms/step - loss: 0.0120 - root_mean_squared_error: 0.1093 - val_loss: 0.0135 - val_root_mean_squared_error: 0.1161\n",
      "Epoch 1974/2500\n",
      "8/8 [==============================] - 0s 9ms/step - loss: 0.0110 - root_mean_squared_error: 0.1051 - val_loss: 0.0134 - val_root_mean_squared_error: 0.1157\n",
      "Epoch 1975/2500\n",
      "8/8 [==============================] - 0s 10ms/step - loss: 0.0111 - root_mean_squared_error: 0.1052 - val_loss: 0.0126 - val_root_mean_squared_error: 0.1123\n",
      "Epoch 1976/2500\n",
      "8/8 [==============================] - 0s 11ms/step - loss: 0.0114 - root_mean_squared_error: 0.1067 - val_loss: 0.0125 - val_root_mean_squared_error: 0.1119\n",
      "Epoch 1977/2500\n",
      "8/8 [==============================] - 0s 10ms/step - loss: 0.0113 - root_mean_squared_error: 0.1062 - val_loss: 0.0132 - val_root_mean_squared_error: 0.1151\n",
      "Epoch 1978/2500\n",
      "8/8 [==============================] - 0s 10ms/step - loss: 0.0116 - root_mean_squared_error: 0.1075 - val_loss: 0.0152 - val_root_mean_squared_error: 0.1234\n",
      "Epoch 1979/2500\n",
      "8/8 [==============================] - 0s 9ms/step - loss: 0.0112 - root_mean_squared_error: 0.1058 - val_loss: 0.0154 - val_root_mean_squared_error: 0.1239\n",
      "Epoch 1980/2500\n",
      "8/8 [==============================] - 0s 9ms/step - loss: 0.0112 - root_mean_squared_error: 0.1056 - val_loss: 0.0130 - val_root_mean_squared_error: 0.1138\n",
      "Epoch 1981/2500\n",
      "8/8 [==============================] - 0s 11ms/step - loss: 0.0109 - root_mean_squared_error: 0.1043 - val_loss: 0.0127 - val_root_mean_squared_error: 0.1128\n",
      "Epoch 1982/2500\n",
      "8/8 [==============================] - 0s 10ms/step - loss: 0.0116 - root_mean_squared_error: 0.1079 - val_loss: 0.0132 - val_root_mean_squared_error: 0.1150\n",
      "Epoch 1983/2500\n",
      "8/8 [==============================] - 0s 10ms/step - loss: 0.0110 - root_mean_squared_error: 0.1050 - val_loss: 0.0130 - val_root_mean_squared_error: 0.1142\n",
      "Epoch 1984/2500\n",
      "8/8 [==============================] - 0s 9ms/step - loss: 0.0113 - root_mean_squared_error: 0.1062 - val_loss: 0.0126 - val_root_mean_squared_error: 0.1122\n",
      "Epoch 1985/2500\n",
      "8/8 [==============================] - 0s 10ms/step - loss: 0.0114 - root_mean_squared_error: 0.1068 - val_loss: 0.0130 - val_root_mean_squared_error: 0.1142\n",
      "Epoch 1986/2500\n"
     ]
    },
    {
     "name": "stdout",
     "output_type": "stream",
     "text": [
      "8/8 [==============================] - 0s 10ms/step - loss: 0.0107 - root_mean_squared_error: 0.1037 - val_loss: 0.0167 - val_root_mean_squared_error: 0.1290\n",
      "Epoch 1987/2500\n",
      "8/8 [==============================] - 0s 10ms/step - loss: 0.0116 - root_mean_squared_error: 0.1076 - val_loss: 0.0152 - val_root_mean_squared_error: 0.1231\n",
      "Epoch 1988/2500\n",
      "8/8 [==============================] - 0s 9ms/step - loss: 0.0112 - root_mean_squared_error: 0.1059 - val_loss: 0.0134 - val_root_mean_squared_error: 0.1157\n",
      "Epoch 1989/2500\n",
      "8/8 [==============================] - 0s 10ms/step - loss: 0.0113 - root_mean_squared_error: 0.1061 - val_loss: 0.0123 - val_root_mean_squared_error: 0.1111\n",
      "Epoch 1990/2500\n",
      "8/8 [==============================] - 0s 9ms/step - loss: 0.0123 - root_mean_squared_error: 0.1111 - val_loss: 0.0126 - val_root_mean_squared_error: 0.1120\n",
      "Epoch 1991/2500\n",
      "8/8 [==============================] - 0s 9ms/step - loss: 0.0129 - root_mean_squared_error: 0.1134 - val_loss: 0.0129 - val_root_mean_squared_error: 0.1136\n",
      "Epoch 1992/2500\n",
      "8/8 [==============================] - 0s 8ms/step - loss: 0.0115 - root_mean_squared_error: 0.1072 - val_loss: 0.0132 - val_root_mean_squared_error: 0.1150\n",
      "Epoch 1993/2500\n",
      "8/8 [==============================] - 0s 9ms/step - loss: 0.0112 - root_mean_squared_error: 0.1056 - val_loss: 0.0133 - val_root_mean_squared_error: 0.1154\n",
      "Epoch 1994/2500\n",
      "8/8 [==============================] - 0s 8ms/step - loss: 0.0109 - root_mean_squared_error: 0.1046 - val_loss: 0.0135 - val_root_mean_squared_error: 0.1161\n",
      "Epoch 1995/2500\n",
      "8/8 [==============================] - 0s 11ms/step - loss: 0.0110 - root_mean_squared_error: 0.1049 - val_loss: 0.0139 - val_root_mean_squared_error: 0.1180\n",
      "Epoch 1996/2500\n",
      "8/8 [==============================] - 0s 8ms/step - loss: 0.0110 - root_mean_squared_error: 0.1047 - val_loss: 0.0133 - val_root_mean_squared_error: 0.1154\n",
      "Epoch 1997/2500\n",
      "8/8 [==============================] - 0s 9ms/step - loss: 0.0112 - root_mean_squared_error: 0.1060 - val_loss: 0.0137 - val_root_mean_squared_error: 0.1169\n",
      "Epoch 1998/2500\n",
      "8/8 [==============================] - 0s 10ms/step - loss: 0.0117 - root_mean_squared_error: 0.1081 - val_loss: 0.0133 - val_root_mean_squared_error: 0.1151\n",
      "Epoch 1999/2500\n",
      "8/8 [==============================] - 0s 10ms/step - loss: 0.0111 - root_mean_squared_error: 0.1054 - val_loss: 0.0143 - val_root_mean_squared_error: 0.1194\n",
      "Epoch 2000/2500\n",
      "8/8 [==============================] - 0s 10ms/step - loss: 0.0116 - root_mean_squared_error: 0.1076 - val_loss: 0.0127 - val_root_mean_squared_error: 0.1127\n",
      "Epoch 2001/2500\n",
      "8/8 [==============================] - 0s 8ms/step - loss: 0.0111 - root_mean_squared_error: 0.1056 - val_loss: 0.0132 - val_root_mean_squared_error: 0.1148\n",
      "Epoch 2002/2500\n",
      "8/8 [==============================] - 0s 10ms/step - loss: 0.0110 - root_mean_squared_error: 0.1051 - val_loss: 0.0131 - val_root_mean_squared_error: 0.1147\n",
      "Epoch 2003/2500\n",
      "8/8 [==============================] - 0s 10ms/step - loss: 0.0113 - root_mean_squared_error: 0.1065 - val_loss: 0.0121 - val_root_mean_squared_error: 0.1099\n",
      "Epoch 2004/2500\n",
      "8/8 [==============================] - 0s 10ms/step - loss: 0.0113 - root_mean_squared_error: 0.1061 - val_loss: 0.0120 - val_root_mean_squared_error: 0.1094\n",
      "Epoch 2005/2500\n",
      "8/8 [==============================] - 0s 10ms/step - loss: 0.0109 - root_mean_squared_error: 0.1045 - val_loss: 0.0131 - val_root_mean_squared_error: 0.1143\n",
      "Epoch 2006/2500\n",
      "8/8 [==============================] - 0s 10ms/step - loss: 0.0112 - root_mean_squared_error: 0.1060 - val_loss: 0.0131 - val_root_mean_squared_error: 0.1145\n",
      "Epoch 2007/2500\n",
      "8/8 [==============================] - 0s 9ms/step - loss: 0.0114 - root_mean_squared_error: 0.1066 - val_loss: 0.0124 - val_root_mean_squared_error: 0.1113\n",
      "Epoch 2008/2500\n",
      "8/8 [==============================] - 0s 9ms/step - loss: 0.0121 - root_mean_squared_error: 0.1102 - val_loss: 0.0126 - val_root_mean_squared_error: 0.1120\n",
      "Epoch 2009/2500\n",
      "8/8 [==============================] - 0s 9ms/step - loss: 0.0109 - root_mean_squared_error: 0.1046 - val_loss: 0.0128 - val_root_mean_squared_error: 0.1130\n",
      "Epoch 2010/2500\n",
      "8/8 [==============================] - 0s 9ms/step - loss: 0.0109 - root_mean_squared_error: 0.1045 - val_loss: 0.0129 - val_root_mean_squared_error: 0.1138\n",
      "Epoch 2011/2500\n",
      "8/8 [==============================] - 0s 10ms/step - loss: 0.0108 - root_mean_squared_error: 0.1039 - val_loss: 0.0134 - val_root_mean_squared_error: 0.1158\n",
      "Epoch 2012/2500\n",
      "8/8 [==============================] - 0s 8ms/step - loss: 0.0111 - root_mean_squared_error: 0.1055 - val_loss: 0.0130 - val_root_mean_squared_error: 0.1141\n",
      "Epoch 2013/2500\n",
      "8/8 [==============================] - 0s 9ms/step - loss: 0.0112 - root_mean_squared_error: 0.1057 - val_loss: 0.0126 - val_root_mean_squared_error: 0.1121\n",
      "Epoch 2014/2500\n",
      "8/8 [==============================] - 0s 9ms/step - loss: 0.0109 - root_mean_squared_error: 0.1045 - val_loss: 0.0128 - val_root_mean_squared_error: 0.1132\n",
      "Epoch 2015/2500\n",
      "8/8 [==============================] - 0s 9ms/step - loss: 0.0116 - root_mean_squared_error: 0.1076 - val_loss: 0.0125 - val_root_mean_squared_error: 0.1120\n",
      "Epoch 2016/2500\n",
      "8/8 [==============================] - 0s 9ms/step - loss: 0.0117 - root_mean_squared_error: 0.1081 - val_loss: 0.0127 - val_root_mean_squared_error: 0.1129\n",
      "Epoch 2017/2500\n",
      "8/8 [==============================] - 0s 9ms/step - loss: 0.0108 - root_mean_squared_error: 0.1041 - val_loss: 0.0124 - val_root_mean_squared_error: 0.1112\n",
      "Epoch 2018/2500\n",
      "8/8 [==============================] - 0s 9ms/step - loss: 0.0114 - root_mean_squared_error: 0.1068 - val_loss: 0.0123 - val_root_mean_squared_error: 0.1107\n",
      "Epoch 2019/2500\n",
      "8/8 [==============================] - 0s 10ms/step - loss: 0.0112 - root_mean_squared_error: 0.1057 - val_loss: 0.0134 - val_root_mean_squared_error: 0.1155\n",
      "Epoch 2020/2500\n",
      "8/8 [==============================] - 0s 9ms/step - loss: 0.0110 - root_mean_squared_error: 0.1050 - val_loss: 0.0135 - val_root_mean_squared_error: 0.1163\n",
      "Epoch 2021/2500\n",
      "8/8 [==============================] - 0s 10ms/step - loss: 0.0114 - root_mean_squared_error: 0.1067 - val_loss: 0.0186 - val_root_mean_squared_error: 0.1364\n",
      "Epoch 2022/2500\n",
      "8/8 [==============================] - 0s 10ms/step - loss: 0.0114 - root_mean_squared_error: 0.1069 - val_loss: 0.0138 - val_root_mean_squared_error: 0.1177\n",
      "Epoch 2023/2500\n",
      "8/8 [==============================] - 0s 10ms/step - loss: 0.0110 - root_mean_squared_error: 0.1049 - val_loss: 0.0122 - val_root_mean_squared_error: 0.1107\n",
      "Epoch 2024/2500\n",
      "8/8 [==============================] - 0s 10ms/step - loss: 0.0111 - root_mean_squared_error: 0.1056 - val_loss: 0.0124 - val_root_mean_squared_error: 0.1114\n",
      "Epoch 2025/2500\n",
      "8/8 [==============================] - 0s 10ms/step - loss: 0.0113 - root_mean_squared_error: 0.1061 - val_loss: 0.0128 - val_root_mean_squared_error: 0.1130\n",
      "Epoch 2026/2500\n",
      "8/8 [==============================] - 0s 9ms/step - loss: 0.0120 - root_mean_squared_error: 0.1096 - val_loss: 0.0134 - val_root_mean_squared_error: 0.1157\n",
      "Epoch 2027/2500\n",
      "8/8 [==============================] - 0s 9ms/step - loss: 0.0116 - root_mean_squared_error: 0.1076 - val_loss: 0.0133 - val_root_mean_squared_error: 0.1153\n",
      "Epoch 2028/2500\n",
      "8/8 [==============================] - 0s 10ms/step - loss: 0.0110 - root_mean_squared_error: 0.1048 - val_loss: 0.0158 - val_root_mean_squared_error: 0.1256\n",
      "Epoch 2029/2500\n",
      "8/8 [==============================] - 0s 8ms/step - loss: 0.0111 - root_mean_squared_error: 0.1054 - val_loss: 0.0145 - val_root_mean_squared_error: 0.1205\n",
      "Epoch 2030/2500\n",
      "8/8 [==============================] - 0s 9ms/step - loss: 0.0108 - root_mean_squared_error: 0.1038 - val_loss: 0.0128 - val_root_mean_squared_error: 0.1132\n",
      "Epoch 2031/2500\n",
      "8/8 [==============================] - 0s 10ms/step - loss: 0.0108 - root_mean_squared_error: 0.1040 - val_loss: 0.0123 - val_root_mean_squared_error: 0.1110\n",
      "Epoch 2032/2500\n",
      "8/8 [==============================] - 0s 10ms/step - loss: 0.0108 - root_mean_squared_error: 0.1038 - val_loss: 0.0128 - val_root_mean_squared_error: 0.1130\n",
      "Epoch 2033/2500\n",
      "8/8 [==============================] - 0s 11ms/step - loss: 0.0108 - root_mean_squared_error: 0.1038 - val_loss: 0.0130 - val_root_mean_squared_error: 0.1142\n",
      "Epoch 2034/2500\n",
      "8/8 [==============================] - 0s 9ms/step - loss: 0.0108 - root_mean_squared_error: 0.1041 - val_loss: 0.0124 - val_root_mean_squared_error: 0.1114\n",
      "Epoch 2035/2500\n",
      "8/8 [==============================] - 0s 9ms/step - loss: 0.0109 - root_mean_squared_error: 0.1045 - val_loss: 0.0132 - val_root_mean_squared_error: 0.1149\n",
      "Epoch 2036/2500\n",
      "8/8 [==============================] - 0s 9ms/step - loss: 0.0109 - root_mean_squared_error: 0.1042 - val_loss: 0.0137 - val_root_mean_squared_error: 0.1170\n",
      "Epoch 2037/2500\n",
      "8/8 [==============================] - 0s 10ms/step - loss: 0.0109 - root_mean_squared_error: 0.1042 - val_loss: 0.0133 - val_root_mean_squared_error: 0.1153\n",
      "Epoch 2038/2500\n",
      "8/8 [==============================] - 0s 10ms/step - loss: 0.0108 - root_mean_squared_error: 0.1038 - val_loss: 0.0127 - val_root_mean_squared_error: 0.1126\n",
      "Epoch 2039/2500\n",
      "8/8 [==============================] - 0s 8ms/step - loss: 0.0109 - root_mean_squared_error: 0.1044 - val_loss: 0.0124 - val_root_mean_squared_error: 0.1113\n",
      "Epoch 2040/2500\n",
      "8/8 [==============================] - 0s 7ms/step - loss: 0.0109 - root_mean_squared_error: 0.1046 - val_loss: 0.0140 - val_root_mean_squared_error: 0.1184\n",
      "Epoch 2041/2500\n",
      "8/8 [==============================] - 0s 9ms/step - loss: 0.0110 - root_mean_squared_error: 0.1049 - val_loss: 0.0128 - val_root_mean_squared_error: 0.1133\n",
      "Epoch 2042/2500\n",
      "8/8 [==============================] - 0s 10ms/step - loss: 0.0107 - root_mean_squared_error: 0.1036 - val_loss: 0.0135 - val_root_mean_squared_error: 0.1160\n",
      "Epoch 2043/2500\n",
      "8/8 [==============================] - 0s 8ms/step - loss: 0.0108 - root_mean_squared_error: 0.1037 - val_loss: 0.0133 - val_root_mean_squared_error: 0.1155\n",
      "Epoch 2044/2500\n",
      "8/8 [==============================] - 0s 7ms/step - loss: 0.0111 - root_mean_squared_error: 0.1055 - val_loss: 0.0125 - val_root_mean_squared_error: 0.1118\n",
      "Epoch 2045/2500\n",
      "8/8 [==============================] - 0s 9ms/step - loss: 0.0112 - root_mean_squared_error: 0.1056 - val_loss: 0.0121 - val_root_mean_squared_error: 0.1101\n",
      "Epoch 2046/2500\n",
      "8/8 [==============================] - 0s 8ms/step - loss: 0.0109 - root_mean_squared_error: 0.1043 - val_loss: 0.0124 - val_root_mean_squared_error: 0.1113\n",
      "Epoch 2047/2500\n",
      "8/8 [==============================] - 0s 9ms/step - loss: 0.0107 - root_mean_squared_error: 0.1036 - val_loss: 0.0123 - val_root_mean_squared_error: 0.1108\n",
      "Epoch 2048/2500\n",
      "8/8 [==============================] - 0s 10ms/step - loss: 0.0109 - root_mean_squared_error: 0.1045 - val_loss: 0.0121 - val_root_mean_squared_error: 0.1100\n",
      "Epoch 2049/2500\n",
      "8/8 [==============================] - 0s 10ms/step - loss: 0.0110 - root_mean_squared_error: 0.1049 - val_loss: 0.0131 - val_root_mean_squared_error: 0.1143\n",
      "Epoch 2050/2500\n",
      "8/8 [==============================] - 0s 10ms/step - loss: 0.0110 - root_mean_squared_error: 0.1051 - val_loss: 0.0134 - val_root_mean_squared_error: 0.1157\n",
      "Epoch 2051/2500\n",
      "8/8 [==============================] - 0s 9ms/step - loss: 0.0109 - root_mean_squared_error: 0.1046 - val_loss: 0.0120 - val_root_mean_squared_error: 0.1096\n",
      "Epoch 2052/2500\n",
      "8/8 [==============================] - 0s 9ms/step - loss: 0.0113 - root_mean_squared_error: 0.1061 - val_loss: 0.0125 - val_root_mean_squared_error: 0.1119\n",
      "Epoch 2053/2500\n",
      "8/8 [==============================] - 0s 9ms/step - loss: 0.0110 - root_mean_squared_error: 0.1051 - val_loss: 0.0130 - val_root_mean_squared_error: 0.1141\n",
      "Epoch 2054/2500\n",
      "8/8 [==============================] - 0s 10ms/step - loss: 0.0108 - root_mean_squared_error: 0.1041 - val_loss: 0.0124 - val_root_mean_squared_error: 0.1111\n",
      "Epoch 2055/2500\n",
      "8/8 [==============================] - 0s 11ms/step - loss: 0.0107 - root_mean_squared_error: 0.1035 - val_loss: 0.0124 - val_root_mean_squared_error: 0.1114\n",
      "Epoch 2056/2500\n",
      "8/8 [==============================] - 0s 9ms/step - loss: 0.0107 - root_mean_squared_error: 0.1036 - val_loss: 0.0124 - val_root_mean_squared_error: 0.1116\n",
      "Epoch 2057/2500\n",
      "8/8 [==============================] - 0s 9ms/step - loss: 0.0125 - root_mean_squared_error: 0.1120 - val_loss: 0.0133 - val_root_mean_squared_error: 0.1152\n",
      "Epoch 2058/2500\n",
      "8/8 [==============================] - 0s 8ms/step - loss: 0.0122 - root_mean_squared_error: 0.1104 - val_loss: 0.0142 - val_root_mean_squared_error: 0.1194\n",
      "Epoch 2059/2500\n",
      "8/8 [==============================] - 0s 10ms/step - loss: 0.0110 - root_mean_squared_error: 0.1051 - val_loss: 0.0131 - val_root_mean_squared_error: 0.1143\n",
      "Epoch 2060/2500\n",
      "8/8 [==============================] - 0s 10ms/step - loss: 0.0109 - root_mean_squared_error: 0.1042 - val_loss: 0.0128 - val_root_mean_squared_error: 0.1133\n",
      "Epoch 2061/2500\n",
      "8/8 [==============================] - 0s 10ms/step - loss: 0.0112 - root_mean_squared_error: 0.1058 - val_loss: 0.0155 - val_root_mean_squared_error: 0.1246\n",
      "Epoch 2062/2500\n",
      "8/8 [==============================] - 0s 10ms/step - loss: 0.0113 - root_mean_squared_error: 0.1062 - val_loss: 0.0123 - val_root_mean_squared_error: 0.1110\n",
      "Epoch 2063/2500\n",
      "8/8 [==============================] - 0s 10ms/step - loss: 0.0115 - root_mean_squared_error: 0.1071 - val_loss: 0.0143 - val_root_mean_squared_error: 0.1197\n",
      "Epoch 2064/2500\n",
      "8/8 [==============================] - 0s 10ms/step - loss: 0.0123 - root_mean_squared_error: 0.1107 - val_loss: 0.0125 - val_root_mean_squared_error: 0.1117\n",
      "Epoch 2065/2500\n",
      "8/8 [==============================] - 0s 10ms/step - loss: 0.0109 - root_mean_squared_error: 0.1046 - val_loss: 0.0149 - val_root_mean_squared_error: 0.1222\n",
      "Epoch 2066/2500\n",
      "8/8 [==============================] - 0s 10ms/step - loss: 0.0111 - root_mean_squared_error: 0.1054 - val_loss: 0.0131 - val_root_mean_squared_error: 0.1145\n",
      "Epoch 2067/2500\n",
      "8/8 [==============================] - 0s 9ms/step - loss: 0.0108 - root_mean_squared_error: 0.1038 - val_loss: 0.0124 - val_root_mean_squared_error: 0.1116\n",
      "Epoch 2068/2500\n",
      "8/8 [==============================] - 0s 10ms/step - loss: 0.0109 - root_mean_squared_error: 0.1043 - val_loss: 0.0142 - val_root_mean_squared_error: 0.1190\n",
      "Epoch 2069/2500\n",
      "8/8 [==============================] - 0s 10ms/step - loss: 0.0108 - root_mean_squared_error: 0.1039 - val_loss: 0.0131 - val_root_mean_squared_error: 0.1143\n",
      "Epoch 2070/2500\n",
      "8/8 [==============================] - 0s 10ms/step - loss: 0.0107 - root_mean_squared_error: 0.1033 - val_loss: 0.0124 - val_root_mean_squared_error: 0.1115\n",
      "Epoch 2071/2500\n",
      "8/8 [==============================] - 0s 10ms/step - loss: 0.0108 - root_mean_squared_error: 0.1041 - val_loss: 0.0129 - val_root_mean_squared_error: 0.1134\n",
      "Epoch 2072/2500\n",
      "8/8 [==============================] - 0s 9ms/step - loss: 0.0107 - root_mean_squared_error: 0.1035 - val_loss: 0.0129 - val_root_mean_squared_error: 0.1136\n",
      "Epoch 2073/2500\n",
      "8/8 [==============================] - 0s 10ms/step - loss: 0.0108 - root_mean_squared_error: 0.1038 - val_loss: 0.0125 - val_root_mean_squared_error: 0.1116\n",
      "Epoch 2074/2500\n",
      "8/8 [==============================] - 0s 9ms/step - loss: 0.0107 - root_mean_squared_error: 0.1037 - val_loss: 0.0130 - val_root_mean_squared_error: 0.1140\n",
      "Epoch 2075/2500\n",
      "8/8 [==============================] - 0s 9ms/step - loss: 0.0107 - root_mean_squared_error: 0.1035 - val_loss: 0.0123 - val_root_mean_squared_error: 0.1109\n",
      "Epoch 2076/2500\n",
      "8/8 [==============================] - 0s 9ms/step - loss: 0.0110 - root_mean_squared_error: 0.1048 - val_loss: 0.0126 - val_root_mean_squared_error: 0.1121\n",
      "Epoch 2077/2500\n",
      "8/8 [==============================] - 0s 10ms/step - loss: 0.0108 - root_mean_squared_error: 0.1039 - val_loss: 0.0132 - val_root_mean_squared_error: 0.1149\n",
      "Epoch 2078/2500\n",
      "8/8 [==============================] - 0s 10ms/step - loss: 0.0111 - root_mean_squared_error: 0.1054 - val_loss: 0.0151 - val_root_mean_squared_error: 0.1227\n",
      "Epoch 2079/2500\n",
      "8/8 [==============================] - 0s 10ms/step - loss: 0.0110 - root_mean_squared_error: 0.1049 - val_loss: 0.0134 - val_root_mean_squared_error: 0.1158\n",
      "Epoch 2080/2500\n"
     ]
    },
    {
     "name": "stdout",
     "output_type": "stream",
     "text": [
      "8/8 [==============================] - 0s 10ms/step - loss: 0.0109 - root_mean_squared_error: 0.1046 - val_loss: 0.0146 - val_root_mean_squared_error: 0.1209\n",
      "Epoch 2081/2500\n",
      "8/8 [==============================] - 0s 10ms/step - loss: 0.0110 - root_mean_squared_error: 0.1046 - val_loss: 0.0133 - val_root_mean_squared_error: 0.1153\n",
      "Epoch 2082/2500\n",
      "8/8 [==============================] - 0s 10ms/step - loss: 0.0113 - root_mean_squared_error: 0.1062 - val_loss: 0.0125 - val_root_mean_squared_error: 0.1120\n",
      "Epoch 2083/2500\n",
      "8/8 [==============================] - 0s 7ms/step - loss: 0.0115 - root_mean_squared_error: 0.1072 - val_loss: 0.0119 - val_root_mean_squared_error: 0.1089\n",
      "Epoch 2084/2500\n",
      "8/8 [==============================] - 0s 10ms/step - loss: 0.0114 - root_mean_squared_error: 0.1070 - val_loss: 0.0120 - val_root_mean_squared_error: 0.1093\n",
      "Epoch 2085/2500\n",
      "8/8 [==============================] - 0s 10ms/step - loss: 0.0109 - root_mean_squared_error: 0.1043 - val_loss: 0.0126 - val_root_mean_squared_error: 0.1125\n",
      "Epoch 2086/2500\n",
      "8/8 [==============================] - 0s 8ms/step - loss: 0.0111 - root_mean_squared_error: 0.1052 - val_loss: 0.0125 - val_root_mean_squared_error: 0.1119\n",
      "Epoch 2087/2500\n",
      "8/8 [==============================] - 0s 10ms/step - loss: 0.0108 - root_mean_squared_error: 0.1041 - val_loss: 0.0130 - val_root_mean_squared_error: 0.1141\n",
      "Epoch 2088/2500\n",
      "8/8 [==============================] - 0s 10ms/step - loss: 0.0107 - root_mean_squared_error: 0.1037 - val_loss: 0.0120 - val_root_mean_squared_error: 0.1096\n",
      "Epoch 2089/2500\n",
      "8/8 [==============================] - 0s 10ms/step - loss: 0.0109 - root_mean_squared_error: 0.1043 - val_loss: 0.0120 - val_root_mean_squared_error: 0.1096\n",
      "Epoch 2090/2500\n",
      "8/8 [==============================] - 0s 10ms/step - loss: 0.0114 - root_mean_squared_error: 0.1068 - val_loss: 0.0124 - val_root_mean_squared_error: 0.1114\n",
      "Epoch 2091/2500\n",
      "8/8 [==============================] - 0s 10ms/step - loss: 0.0109 - root_mean_squared_error: 0.1044 - val_loss: 0.0157 - val_root_mean_squared_error: 0.1251\n",
      "Epoch 2092/2500\n",
      "8/8 [==============================] - 0s 10ms/step - loss: 0.0110 - root_mean_squared_error: 0.1047 - val_loss: 0.0131 - val_root_mean_squared_error: 0.1147\n",
      "Epoch 2093/2500\n",
      "8/8 [==============================] - 0s 10ms/step - loss: 0.0107 - root_mean_squared_error: 0.1033 - val_loss: 0.0123 - val_root_mean_squared_error: 0.1108\n",
      "Epoch 2094/2500\n",
      "8/8 [==============================] - 0s 10ms/step - loss: 0.0131 - root_mean_squared_error: 0.1143 - val_loss: 0.0170 - val_root_mean_squared_error: 0.1302\n",
      "Epoch 2095/2500\n",
      "8/8 [==============================] - 0s 9ms/step - loss: 0.0120 - root_mean_squared_error: 0.1097 - val_loss: 0.0153 - val_root_mean_squared_error: 0.1239\n",
      "Epoch 2096/2500\n",
      "8/8 [==============================] - 0s 8ms/step - loss: 0.0114 - root_mean_squared_error: 0.1067 - val_loss: 0.0187 - val_root_mean_squared_error: 0.1366\n",
      "Epoch 2097/2500\n",
      "8/8 [==============================] - 0s 8ms/step - loss: 0.0111 - root_mean_squared_error: 0.1054 - val_loss: 0.0134 - val_root_mean_squared_error: 0.1155\n",
      "Epoch 2098/2500\n",
      "8/8 [==============================] - 0s 10ms/step - loss: 0.0114 - root_mean_squared_error: 0.1068 - val_loss: 0.0126 - val_root_mean_squared_error: 0.1121\n",
      "Epoch 2099/2500\n",
      "8/8 [==============================] - 0s 10ms/step - loss: 0.0110 - root_mean_squared_error: 0.1049 - val_loss: 0.0126 - val_root_mean_squared_error: 0.1124\n",
      "Epoch 2100/2500\n",
      "8/8 [==============================] - 0s 10ms/step - loss: 0.0119 - root_mean_squared_error: 0.1092 - val_loss: 0.0152 - val_root_mean_squared_error: 0.1235\n",
      "Epoch 2101/2500\n",
      "8/8 [==============================] - 0s 10ms/step - loss: 0.0122 - root_mean_squared_error: 0.1104 - val_loss: 0.0136 - val_root_mean_squared_error: 0.1167\n",
      "Epoch 2102/2500\n",
      "8/8 [==============================] - 0s 10ms/step - loss: 0.0112 - root_mean_squared_error: 0.1059 - val_loss: 0.0217 - val_root_mean_squared_error: 0.1474\n",
      "Epoch 2103/2500\n",
      "8/8 [==============================] - 0s 10ms/step - loss: 0.0113 - root_mean_squared_error: 0.1064 - val_loss: 0.0135 - val_root_mean_squared_error: 0.1161\n",
      "Epoch 2104/2500\n",
      "8/8 [==============================] - 0s 10ms/step - loss: 0.0107 - root_mean_squared_error: 0.1033 - val_loss: 0.0132 - val_root_mean_squared_error: 0.1147\n",
      "Epoch 2105/2500\n",
      "8/8 [==============================] - 0s 10ms/step - loss: 0.0127 - root_mean_squared_error: 0.1126 - val_loss: 0.0134 - val_root_mean_squared_error: 0.1156\n",
      "Epoch 2106/2500\n",
      "8/8 [==============================] - 0s 9ms/step - loss: 0.0118 - root_mean_squared_error: 0.1089 - val_loss: 0.0138 - val_root_mean_squared_error: 0.1174\n",
      "Epoch 2107/2500\n",
      "8/8 [==============================] - 0s 10ms/step - loss: 0.0110 - root_mean_squared_error: 0.1048 - val_loss: 0.0128 - val_root_mean_squared_error: 0.1133\n",
      "Epoch 2108/2500\n",
      "8/8 [==============================] - 0s 10ms/step - loss: 0.0110 - root_mean_squared_error: 0.1049 - val_loss: 0.0126 - val_root_mean_squared_error: 0.1121\n",
      "Epoch 2109/2500\n",
      "8/8 [==============================] - 0s 11ms/step - loss: 0.0107 - root_mean_squared_error: 0.1036 - val_loss: 0.0163 - val_root_mean_squared_error: 0.1276\n",
      "Epoch 2110/2500\n",
      "8/8 [==============================] - 0s 10ms/step - loss: 0.0112 - root_mean_squared_error: 0.1057 - val_loss: 0.0152 - val_root_mean_squared_error: 0.1234\n",
      "Epoch 2111/2500\n",
      "8/8 [==============================] - 0s 10ms/step - loss: 0.0112 - root_mean_squared_error: 0.1058 - val_loss: 0.0129 - val_root_mean_squared_error: 0.1137\n",
      "Epoch 2112/2500\n",
      "8/8 [==============================] - 0s 10ms/step - loss: 0.0109 - root_mean_squared_error: 0.1042 - val_loss: 0.0130 - val_root_mean_squared_error: 0.1141\n",
      "Epoch 2113/2500\n",
      "8/8 [==============================] - 0s 7ms/step - loss: 0.0107 - root_mean_squared_error: 0.1032 - val_loss: 0.0130 - val_root_mean_squared_error: 0.1139\n",
      "Epoch 2114/2500\n",
      "8/8 [==============================] - 0s 9ms/step - loss: 0.0108 - root_mean_squared_error: 0.1039 - val_loss: 0.0136 - val_root_mean_squared_error: 0.1165\n",
      "Epoch 2115/2500\n",
      "8/8 [==============================] - 0s 8ms/step - loss: 0.0112 - root_mean_squared_error: 0.1059 - val_loss: 0.0162 - val_root_mean_squared_error: 0.1275\n",
      "Epoch 2116/2500\n",
      "8/8 [==============================] - 0s 9ms/step - loss: 0.0114 - root_mean_squared_error: 0.1066 - val_loss: 0.0135 - val_root_mean_squared_error: 0.1160\n",
      "Epoch 2117/2500\n",
      "8/8 [==============================] - 0s 10ms/step - loss: 0.0113 - root_mean_squared_error: 0.1063 - val_loss: 0.0122 - val_root_mean_squared_error: 0.1106\n",
      "Epoch 2118/2500\n",
      "8/8 [==============================] - 0s 10ms/step - loss: 0.0110 - root_mean_squared_error: 0.1050 - val_loss: 0.0124 - val_root_mean_squared_error: 0.1112\n",
      "Epoch 2119/2500\n",
      "8/8 [==============================] - 0s 10ms/step - loss: 0.0108 - root_mean_squared_error: 0.1038 - val_loss: 0.0135 - val_root_mean_squared_error: 0.1164\n",
      "Epoch 2120/2500\n",
      "8/8 [==============================] - 0s 9ms/step - loss: 0.0110 - root_mean_squared_error: 0.1047 - val_loss: 0.0138 - val_root_mean_squared_error: 0.1174\n",
      "Epoch 2121/2500\n",
      "8/8 [==============================] - 0s 9ms/step - loss: 0.0111 - root_mean_squared_error: 0.1051 - val_loss: 0.0126 - val_root_mean_squared_error: 0.1122\n",
      "Epoch 2122/2500\n",
      "8/8 [==============================] - 0s 10ms/step - loss: 0.0112 - root_mean_squared_error: 0.1056 - val_loss: 0.0126 - val_root_mean_squared_error: 0.1121\n",
      "Epoch 2123/2500\n",
      "8/8 [==============================] - 0s 9ms/step - loss: 0.0116 - root_mean_squared_error: 0.1075 - val_loss: 0.0125 - val_root_mean_squared_error: 0.1120\n",
      "Epoch 2124/2500\n",
      "8/8 [==============================] - 0s 10ms/step - loss: 0.0108 - root_mean_squared_error: 0.1041 - val_loss: 0.0130 - val_root_mean_squared_error: 0.1139\n",
      "Epoch 2125/2500\n",
      "8/8 [==============================] - 0s 10ms/step - loss: 0.0109 - root_mean_squared_error: 0.1044 - val_loss: 0.0129 - val_root_mean_squared_error: 0.1137\n",
      "Epoch 2126/2500\n",
      "8/8 [==============================] - 0s 11ms/step - loss: 0.0108 - root_mean_squared_error: 0.1037 - val_loss: 0.0125 - val_root_mean_squared_error: 0.1118\n",
      "Epoch 2127/2500\n",
      "8/8 [==============================] - 0s 8ms/step - loss: 0.0107 - root_mean_squared_error: 0.1037 - val_loss: 0.0130 - val_root_mean_squared_error: 0.1142\n",
      "Epoch 2128/2500\n",
      "8/8 [==============================] - 0s 11ms/step - loss: 0.0107 - root_mean_squared_error: 0.1033 - val_loss: 0.0130 - val_root_mean_squared_error: 0.1139\n",
      "Epoch 2129/2500\n",
      "8/8 [==============================] - 0s 10ms/step - loss: 0.0107 - root_mean_squared_error: 0.1033 - val_loss: 0.0129 - val_root_mean_squared_error: 0.1135\n",
      "Epoch 2130/2500\n",
      "8/8 [==============================] - 0s 9ms/step - loss: 0.0110 - root_mean_squared_error: 0.1047 - val_loss: 0.0116 - val_root_mean_squared_error: 0.1078\n",
      "Epoch 2131/2500\n",
      "8/8 [==============================] - 0s 8ms/step - loss: 0.0110 - root_mean_squared_error: 0.1051 - val_loss: 0.0145 - val_root_mean_squared_error: 0.1204\n",
      "Epoch 2132/2500\n",
      "8/8 [==============================] - 0s 7ms/step - loss: 0.0112 - root_mean_squared_error: 0.1057 - val_loss: 0.0132 - val_root_mean_squared_error: 0.1151\n",
      "Epoch 2133/2500\n",
      "8/8 [==============================] - 0s 9ms/step - loss: 0.0109 - root_mean_squared_error: 0.1042 - val_loss: 0.0122 - val_root_mean_squared_error: 0.1106\n",
      "Epoch 2134/2500\n",
      "8/8 [==============================] - 0s 8ms/step - loss: 0.0107 - root_mean_squared_error: 0.1035 - val_loss: 0.0124 - val_root_mean_squared_error: 0.1112\n",
      "Epoch 2135/2500\n",
      "8/8 [==============================] - 0s 8ms/step - loss: 0.0125 - root_mean_squared_error: 0.1118 - val_loss: 0.0128 - val_root_mean_squared_error: 0.1132\n",
      "Epoch 2136/2500\n",
      "8/8 [==============================] - 0s 9ms/step - loss: 0.0121 - root_mean_squared_error: 0.1099 - val_loss: 0.0129 - val_root_mean_squared_error: 0.1136\n",
      "Epoch 2137/2500\n",
      "8/8 [==============================] - 0s 7ms/step - loss: 0.0131 - root_mean_squared_error: 0.1145 - val_loss: 0.0129 - val_root_mean_squared_error: 0.1135\n",
      "Epoch 2138/2500\n",
      "8/8 [==============================] - 0s 9ms/step - loss: 0.0130 - root_mean_squared_error: 0.1140 - val_loss: 0.0133 - val_root_mean_squared_error: 0.1154\n",
      "Epoch 2139/2500\n",
      "8/8 [==============================] - 0s 10ms/step - loss: 0.0111 - root_mean_squared_error: 0.1056 - val_loss: 0.0132 - val_root_mean_squared_error: 0.1147\n",
      "Epoch 2140/2500\n",
      "8/8 [==============================] - 0s 8ms/step - loss: 0.0114 - root_mean_squared_error: 0.1066 - val_loss: 0.0137 - val_root_mean_squared_error: 0.1171\n",
      "Epoch 2141/2500\n",
      "8/8 [==============================] - 0s 9ms/step - loss: 0.0108 - root_mean_squared_error: 0.1040 - val_loss: 0.0136 - val_root_mean_squared_error: 0.1168\n",
      "Epoch 2142/2500\n",
      "8/8 [==============================] - 0s 8ms/step - loss: 0.0109 - root_mean_squared_error: 0.1044 - val_loss: 0.0130 - val_root_mean_squared_error: 0.1142\n",
      "Epoch 2143/2500\n",
      "8/8 [==============================] - 0s 7ms/step - loss: 0.0108 - root_mean_squared_error: 0.1040 - val_loss: 0.0154 - val_root_mean_squared_error: 0.1239\n",
      "Epoch 2144/2500\n",
      "8/8 [==============================] - 0s 8ms/step - loss: 0.0110 - root_mean_squared_error: 0.1047 - val_loss: 0.0132 - val_root_mean_squared_error: 0.1147\n",
      "Epoch 2145/2500\n",
      "8/8 [==============================] - 0s 9ms/step - loss: 0.0109 - root_mean_squared_error: 0.1042 - val_loss: 0.0117 - val_root_mean_squared_error: 0.1083\n",
      "Epoch 2146/2500\n",
      "8/8 [==============================] - 0s 10ms/step - loss: 0.0114 - root_mean_squared_error: 0.1068 - val_loss: 0.0118 - val_root_mean_squared_error: 0.1084\n",
      "Epoch 2147/2500\n",
      "8/8 [==============================] - 0s 10ms/step - loss: 0.0108 - root_mean_squared_error: 0.1038 - val_loss: 0.0126 - val_root_mean_squared_error: 0.1123\n",
      "Epoch 2148/2500\n",
      "8/8 [==============================] - 0s 10ms/step - loss: 0.0109 - root_mean_squared_error: 0.1042 - val_loss: 0.0127 - val_root_mean_squared_error: 0.1126\n",
      "Epoch 2149/2500\n",
      "8/8 [==============================] - 0s 10ms/step - loss: 0.0106 - root_mean_squared_error: 0.1031 - val_loss: 0.0129 - val_root_mean_squared_error: 0.1137\n",
      "Epoch 2150/2500\n",
      "8/8 [==============================] - 0s 10ms/step - loss: 0.0106 - root_mean_squared_error: 0.1030 - val_loss: 0.0130 - val_root_mean_squared_error: 0.1142\n",
      "Epoch 2151/2500\n",
      "8/8 [==============================] - 0s 9ms/step - loss: 0.0106 - root_mean_squared_error: 0.1029 - val_loss: 0.0131 - val_root_mean_squared_error: 0.1144\n",
      "Epoch 2152/2500\n",
      "8/8 [==============================] - 0s 10ms/step - loss: 0.0106 - root_mean_squared_error: 0.1029 - val_loss: 0.0137 - val_root_mean_squared_error: 0.1170\n",
      "Epoch 2153/2500\n",
      "8/8 [==============================] - 0s 10ms/step - loss: 0.0108 - root_mean_squared_error: 0.1039 - val_loss: 0.0134 - val_root_mean_squared_error: 0.1157\n",
      "Epoch 2154/2500\n",
      "8/8 [==============================] - 0s 10ms/step - loss: 0.0107 - root_mean_squared_error: 0.1034 - val_loss: 0.0128 - val_root_mean_squared_error: 0.1133\n",
      "Epoch 2155/2500\n",
      "8/8 [==============================] - 0s 10ms/step - loss: 0.0108 - root_mean_squared_error: 0.1040 - val_loss: 0.0130 - val_root_mean_squared_error: 0.1139\n",
      "Epoch 2156/2500\n",
      "8/8 [==============================] - 0s 10ms/step - loss: 0.0107 - root_mean_squared_error: 0.1034 - val_loss: 0.0127 - val_root_mean_squared_error: 0.1128\n",
      "Epoch 2157/2500\n",
      "8/8 [==============================] - 0s 10ms/step - loss: 0.0110 - root_mean_squared_error: 0.1047 - val_loss: 0.0126 - val_root_mean_squared_error: 0.1123\n",
      "Epoch 2158/2500\n",
      "8/8 [==============================] - 0s 9ms/step - loss: 0.0108 - root_mean_squared_error: 0.1039 - val_loss: 0.0132 - val_root_mean_squared_error: 0.1149\n",
      "Epoch 2159/2500\n",
      "8/8 [==============================] - 0s 11ms/step - loss: 0.0109 - root_mean_squared_error: 0.1045 - val_loss: 0.0136 - val_root_mean_squared_error: 0.1167\n",
      "Epoch 2160/2500\n",
      "8/8 [==============================] - 0s 10ms/step - loss: 0.0110 - root_mean_squared_error: 0.1048 - val_loss: 0.0124 - val_root_mean_squared_error: 0.1115\n",
      "Epoch 2161/2500\n",
      "8/8 [==============================] - 0s 10ms/step - loss: 0.0107 - root_mean_squared_error: 0.1035 - val_loss: 0.0123 - val_root_mean_squared_error: 0.1109\n",
      "Epoch 2162/2500\n",
      "8/8 [==============================] - 0s 10ms/step - loss: 0.0114 - root_mean_squared_error: 0.1067 - val_loss: 0.0160 - val_root_mean_squared_error: 0.1265\n",
      "Epoch 2163/2500\n",
      "8/8 [==============================] - 0s 10ms/step - loss: 0.0109 - root_mean_squared_error: 0.1045 - val_loss: 0.0132 - val_root_mean_squared_error: 0.1148\n",
      "Epoch 2164/2500\n",
      "8/8 [==============================] - 0s 9ms/step - loss: 0.0108 - root_mean_squared_error: 0.1039 - val_loss: 0.0123 - val_root_mean_squared_error: 0.1110\n",
      "Epoch 2165/2500\n",
      "8/8 [==============================] - 0s 9ms/step - loss: 0.0110 - root_mean_squared_error: 0.1047 - val_loss: 0.0124 - val_root_mean_squared_error: 0.1114\n",
      "Epoch 2166/2500\n",
      "8/8 [==============================] - 0s 10ms/step - loss: 0.0116 - root_mean_squared_error: 0.1077 - val_loss: 0.0137 - val_root_mean_squared_error: 0.1171\n",
      "Epoch 2167/2500\n",
      "8/8 [==============================] - 0s 9ms/step - loss: 0.0114 - root_mean_squared_error: 0.1069 - val_loss: 0.0135 - val_root_mean_squared_error: 0.1163\n",
      "Epoch 2168/2500\n",
      "8/8 [==============================] - 0s 9ms/step - loss: 0.0108 - root_mean_squared_error: 0.1037 - val_loss: 0.0158 - val_root_mean_squared_error: 0.1256\n",
      "Epoch 2169/2500\n",
      "8/8 [==============================] - 0s 8ms/step - loss: 0.0110 - root_mean_squared_error: 0.1047 - val_loss: 0.0140 - val_root_mean_squared_error: 0.1182\n",
      "Epoch 2170/2500\n",
      "8/8 [==============================] - 0s 9ms/step - loss: 0.0109 - root_mean_squared_error: 0.1046 - val_loss: 0.0124 - val_root_mean_squared_error: 0.1115\n",
      "Epoch 2171/2500\n",
      "8/8 [==============================] - 0s 10ms/step - loss: 0.0107 - root_mean_squared_error: 0.1037 - val_loss: 0.0127 - val_root_mean_squared_error: 0.1126\n",
      "Epoch 2172/2500\n",
      "8/8 [==============================] - 0s 10ms/step - loss: 0.0108 - root_mean_squared_error: 0.1041 - val_loss: 0.0142 - val_root_mean_squared_error: 0.1192\n",
      "Epoch 2173/2500\n",
      "8/8 [==============================] - 0s 9ms/step - loss: 0.0106 - root_mean_squared_error: 0.1028 - val_loss: 0.0131 - val_root_mean_squared_error: 0.1146\n",
      "Epoch 2174/2500\n"
     ]
    },
    {
     "name": "stdout",
     "output_type": "stream",
     "text": [
      "8/8 [==============================] - 0s 8ms/step - loss: 0.0120 - root_mean_squared_error: 0.1097 - val_loss: 0.0128 - val_root_mean_squared_error: 0.1132\n",
      "Epoch 2175/2500\n",
      "8/8 [==============================] - 0s 7ms/step - loss: 0.0112 - root_mean_squared_error: 0.1059 - val_loss: 0.0149 - val_root_mean_squared_error: 0.1219\n",
      "Epoch 2176/2500\n",
      "8/8 [==============================] - 0s 8ms/step - loss: 0.0131 - root_mean_squared_error: 0.1144 - val_loss: 0.0129 - val_root_mean_squared_error: 0.1137\n",
      "Epoch 2177/2500\n",
      "8/8 [==============================] - 0s 9ms/step - loss: 0.0123 - root_mean_squared_error: 0.1111 - val_loss: 0.0120 - val_root_mean_squared_error: 0.1093\n",
      "Epoch 2178/2500\n",
      "8/8 [==============================] - 0s 9ms/step - loss: 0.0110 - root_mean_squared_error: 0.1047 - val_loss: 0.0121 - val_root_mean_squared_error: 0.1101\n",
      "Epoch 2179/2500\n",
      "8/8 [==============================] - 0s 10ms/step - loss: 0.0108 - root_mean_squared_error: 0.1037 - val_loss: 0.0123 - val_root_mean_squared_error: 0.1110\n",
      "Epoch 2180/2500\n",
      "8/8 [==============================] - 0s 10ms/step - loss: 0.0130 - root_mean_squared_error: 0.1139 - val_loss: 0.0163 - val_root_mean_squared_error: 0.1276\n",
      "Epoch 2181/2500\n",
      "8/8 [==============================] - 0s 10ms/step - loss: 0.0125 - root_mean_squared_error: 0.1116 - val_loss: 0.0133 - val_root_mean_squared_error: 0.1153\n",
      "Epoch 2182/2500\n",
      "8/8 [==============================] - 0s 10ms/step - loss: 0.0108 - root_mean_squared_error: 0.1039 - val_loss: 0.0167 - val_root_mean_squared_error: 0.1293\n",
      "Epoch 2183/2500\n",
      "8/8 [==============================] - 0s 9ms/step - loss: 0.0113 - root_mean_squared_error: 0.1061 - val_loss: 0.0147 - val_root_mean_squared_error: 0.1213\n",
      "Epoch 2184/2500\n",
      "8/8 [==============================] - 0s 9ms/step - loss: 0.0107 - root_mean_squared_error: 0.1032 - val_loss: 0.0124 - val_root_mean_squared_error: 0.1113\n",
      "Epoch 2185/2500\n",
      "8/8 [==============================] - 0s 9ms/step - loss: 0.0112 - root_mean_squared_error: 0.1060 - val_loss: 0.0123 - val_root_mean_squared_error: 0.1108\n",
      "Epoch 2186/2500\n",
      "8/8 [==============================] - 0s 10ms/step - loss: 0.0109 - root_mean_squared_error: 0.1045 - val_loss: 0.0129 - val_root_mean_squared_error: 0.1138\n",
      "Epoch 2187/2500\n",
      "8/8 [==============================] - 0s 9ms/step - loss: 0.0108 - root_mean_squared_error: 0.1038 - val_loss: 0.0142 - val_root_mean_squared_error: 0.1192\n",
      "Epoch 2188/2500\n",
      "8/8 [==============================] - 0s 10ms/step - loss: 0.0108 - root_mean_squared_error: 0.1039 - val_loss: 0.0134 - val_root_mean_squared_error: 0.1156\n",
      "Epoch 2189/2500\n",
      "8/8 [==============================] - 0s 10ms/step - loss: 0.0106 - root_mean_squared_error: 0.1030 - val_loss: 0.0128 - val_root_mean_squared_error: 0.1132\n",
      "Epoch 2190/2500\n",
      "8/8 [==============================] - 0s 9ms/step - loss: 0.0107 - root_mean_squared_error: 0.1033 - val_loss: 0.0124 - val_root_mean_squared_error: 0.1115\n",
      "Epoch 2191/2500\n",
      "8/8 [==============================] - 0s 10ms/step - loss: 0.0107 - root_mean_squared_error: 0.1034 - val_loss: 0.0131 - val_root_mean_squared_error: 0.1143\n",
      "Epoch 2192/2500\n",
      "8/8 [==============================] - 0s 10ms/step - loss: 0.0113 - root_mean_squared_error: 0.1064 - val_loss: 0.0165 - val_root_mean_squared_error: 0.1283\n",
      "Epoch 2193/2500\n",
      "8/8 [==============================] - 0s 9ms/step - loss: 0.0110 - root_mean_squared_error: 0.1050 - val_loss: 0.0124 - val_root_mean_squared_error: 0.1112\n",
      "Epoch 2194/2500\n",
      "8/8 [==============================] - 0s 9ms/step - loss: 0.0115 - root_mean_squared_error: 0.1072 - val_loss: 0.0118 - val_root_mean_squared_error: 0.1088\n",
      "Epoch 2195/2500\n",
      "8/8 [==============================] - 0s 10ms/step - loss: 0.0112 - root_mean_squared_error: 0.1059 - val_loss: 0.0120 - val_root_mean_squared_error: 0.1096\n",
      "Epoch 2196/2500\n",
      "8/8 [==============================] - 0s 11ms/step - loss: 0.0113 - root_mean_squared_error: 0.1064 - val_loss: 0.0132 - val_root_mean_squared_error: 0.1149\n",
      "Epoch 2197/2500\n",
      "8/8 [==============================] - 0s 9ms/step - loss: 0.0112 - root_mean_squared_error: 0.1057 - val_loss: 0.0156 - val_root_mean_squared_error: 0.1248\n",
      "Epoch 2198/2500\n",
      "8/8 [==============================] - 0s 10ms/step - loss: 0.0115 - root_mean_squared_error: 0.1072 - val_loss: 0.0164 - val_root_mean_squared_error: 0.1279\n",
      "Epoch 2199/2500\n",
      "8/8 [==============================] - 0s 9ms/step - loss: 0.0111 - root_mean_squared_error: 0.1056 - val_loss: 0.0134 - val_root_mean_squared_error: 0.1157\n",
      "Epoch 2200/2500\n",
      "8/8 [==============================] - 0s 10ms/step - loss: 0.0110 - root_mean_squared_error: 0.1051 - val_loss: 0.0130 - val_root_mean_squared_error: 0.1141\n",
      "Epoch 2201/2500\n",
      "8/8 [==============================] - 0s 11ms/step - loss: 0.0110 - root_mean_squared_error: 0.1048 - val_loss: 0.0151 - val_root_mean_squared_error: 0.1229\n",
      "Epoch 2202/2500\n",
      "8/8 [==============================] - 0s 9ms/step - loss: 0.0112 - root_mean_squared_error: 0.1056 - val_loss: 0.0141 - val_root_mean_squared_error: 0.1189\n",
      "Epoch 2203/2500\n",
      "8/8 [==============================] - 0s 10ms/step - loss: 0.0106 - root_mean_squared_error: 0.1031 - val_loss: 0.0121 - val_root_mean_squared_error: 0.1099\n",
      "Epoch 2204/2500\n",
      "8/8 [==============================] - 0s 9ms/step - loss: 0.0111 - root_mean_squared_error: 0.1052 - val_loss: 0.0124 - val_root_mean_squared_error: 0.1114\n",
      "Epoch 2205/2500\n",
      "8/8 [==============================] - 0s 9ms/step - loss: 0.0107 - root_mean_squared_error: 0.1035 - val_loss: 0.0135 - val_root_mean_squared_error: 0.1162\n",
      "Epoch 2206/2500\n",
      "8/8 [==============================] - 0s 9ms/step - loss: 0.0106 - root_mean_squared_error: 0.1030 - val_loss: 0.0145 - val_root_mean_squared_error: 0.1204\n",
      "Epoch 2207/2500\n",
      "8/8 [==============================] - 0s 9ms/step - loss: 0.0107 - root_mean_squared_error: 0.1034 - val_loss: 0.0135 - val_root_mean_squared_error: 0.1161\n",
      "Epoch 2208/2500\n",
      "8/8 [==============================] - 0s 9ms/step - loss: 0.0105 - root_mean_squared_error: 0.1027 - val_loss: 0.0131 - val_root_mean_squared_error: 0.1144\n",
      "Epoch 2209/2500\n",
      "8/8 [==============================] - 0s 9ms/step - loss: 0.0107 - root_mean_squared_error: 0.1034 - val_loss: 0.0128 - val_root_mean_squared_error: 0.1133\n",
      "Epoch 2210/2500\n",
      "8/8 [==============================] - 0s 9ms/step - loss: 0.0106 - root_mean_squared_error: 0.1028 - val_loss: 0.0145 - val_root_mean_squared_error: 0.1204\n",
      "Epoch 2211/2500\n",
      "8/8 [==============================] - 0s 9ms/step - loss: 0.0106 - root_mean_squared_error: 0.1032 - val_loss: 0.0136 - val_root_mean_squared_error: 0.1165\n",
      "Epoch 2212/2500\n",
      "8/8 [==============================] - 0s 10ms/step - loss: 0.0107 - root_mean_squared_error: 0.1036 - val_loss: 0.0128 - val_root_mean_squared_error: 0.1130\n",
      "Epoch 2213/2500\n",
      "8/8 [==============================] - 0s 10ms/step - loss: 0.0109 - root_mean_squared_error: 0.1045 - val_loss: 0.0126 - val_root_mean_squared_error: 0.1124\n",
      "Epoch 2214/2500\n",
      "8/8 [==============================] - 0s 10ms/step - loss: 0.0106 - root_mean_squared_error: 0.1032 - val_loss: 0.0118 - val_root_mean_squared_error: 0.1086\n",
      "Epoch 2215/2500\n",
      "8/8 [==============================] - 0s 9ms/step - loss: 0.0107 - root_mean_squared_error: 0.1032 - val_loss: 0.0123 - val_root_mean_squared_error: 0.1109\n",
      "Epoch 2216/2500\n",
      "8/8 [==============================] - 0s 8ms/step - loss: 0.0108 - root_mean_squared_error: 0.1037 - val_loss: 0.0131 - val_root_mean_squared_error: 0.1144\n",
      "Epoch 2217/2500\n",
      "8/8 [==============================] - 0s 9ms/step - loss: 0.0112 - root_mean_squared_error: 0.1057 - val_loss: 0.0156 - val_root_mean_squared_error: 0.1247\n",
      "Epoch 2218/2500\n",
      "8/8 [==============================] - 0s 8ms/step - loss: 0.0111 - root_mean_squared_error: 0.1052 - val_loss: 0.0132 - val_root_mean_squared_error: 0.1150\n",
      "Epoch 2219/2500\n",
      "8/8 [==============================] - 0s 9ms/step - loss: 0.0107 - root_mean_squared_error: 0.1033 - val_loss: 0.0122 - val_root_mean_squared_error: 0.1104\n",
      "Epoch 2220/2500\n",
      "8/8 [==============================] - 0s 8ms/step - loss: 0.0106 - root_mean_squared_error: 0.1030 - val_loss: 0.0124 - val_root_mean_squared_error: 0.1114\n",
      "Epoch 2221/2500\n",
      "8/8 [==============================] - 0s 9ms/step - loss: 0.0105 - root_mean_squared_error: 0.1027 - val_loss: 0.0129 - val_root_mean_squared_error: 0.1136\n",
      "Epoch 2222/2500\n",
      "8/8 [==============================] - 0s 8ms/step - loss: 0.0109 - root_mean_squared_error: 0.1044 - val_loss: 0.0135 - val_root_mean_squared_error: 0.1164\n",
      "Epoch 2223/2500\n",
      "8/8 [==============================] - 0s 9ms/step - loss: 0.0108 - root_mean_squared_error: 0.1040 - val_loss: 0.0133 - val_root_mean_squared_error: 0.1152\n",
      "Epoch 2224/2500\n",
      "8/8 [==============================] - 0s 10ms/step - loss: 0.0109 - root_mean_squared_error: 0.1045 - val_loss: 0.0127 - val_root_mean_squared_error: 0.1125\n",
      "Epoch 2225/2500\n",
      "8/8 [==============================] - 0s 9ms/step - loss: 0.0106 - root_mean_squared_error: 0.1031 - val_loss: 0.0126 - val_root_mean_squared_error: 0.1124\n",
      "Epoch 2226/2500\n",
      "8/8 [==============================] - 0s 7ms/step - loss: 0.0106 - root_mean_squared_error: 0.1027 - val_loss: 0.0129 - val_root_mean_squared_error: 0.1137\n",
      "Epoch 2227/2500\n",
      "8/8 [==============================] - 0s 8ms/step - loss: 0.0106 - root_mean_squared_error: 0.1031 - val_loss: 0.0134 - val_root_mean_squared_error: 0.1159\n",
      "Epoch 2228/2500\n",
      "8/8 [==============================] - 0s 7ms/step - loss: 0.0107 - root_mean_squared_error: 0.1033 - val_loss: 0.0129 - val_root_mean_squared_error: 0.1138\n",
      "Epoch 2229/2500\n",
      "8/8 [==============================] - 0s 10ms/step - loss: 0.0108 - root_mean_squared_error: 0.1039 - val_loss: 0.0123 - val_root_mean_squared_error: 0.1108\n",
      "Epoch 2230/2500\n",
      "8/8 [==============================] - 0s 7ms/step - loss: 0.0110 - root_mean_squared_error: 0.1049 - val_loss: 0.0129 - val_root_mean_squared_error: 0.1136\n",
      "Epoch 2231/2500\n",
      "8/8 [==============================] - 0s 10ms/step - loss: 0.0105 - root_mean_squared_error: 0.1027 - val_loss: 0.0142 - val_root_mean_squared_error: 0.1190\n",
      "Epoch 2232/2500\n",
      "8/8 [==============================] - 0s 9ms/step - loss: 0.0108 - root_mean_squared_error: 0.1041 - val_loss: 0.0152 - val_root_mean_squared_error: 0.1233\n",
      "Epoch 2233/2500\n",
      "8/8 [==============================] - 0s 10ms/step - loss: 0.0107 - root_mean_squared_error: 0.1034 - val_loss: 0.0133 - val_root_mean_squared_error: 0.1154\n",
      "Epoch 2234/2500\n",
      "8/8 [==============================] - 0s 10ms/step - loss: 0.0106 - root_mean_squared_error: 0.1030 - val_loss: 0.0150 - val_root_mean_squared_error: 0.1227\n",
      "Epoch 2235/2500\n",
      "8/8 [==============================] - 0s 10ms/step - loss: 0.0112 - root_mean_squared_error: 0.1060 - val_loss: 0.0168 - val_root_mean_squared_error: 0.1296\n",
      "Epoch 2236/2500\n",
      "8/8 [==============================] - 0s 10ms/step - loss: 0.0111 - root_mean_squared_error: 0.1053 - val_loss: 0.0125 - val_root_mean_squared_error: 0.1118\n",
      "Epoch 2237/2500\n",
      "8/8 [==============================] - 0s 10ms/step - loss: 0.0106 - root_mean_squared_error: 0.1032 - val_loss: 0.0120 - val_root_mean_squared_error: 0.1098\n",
      "Epoch 2238/2500\n",
      "8/8 [==============================] - 0s 11ms/step - loss: 0.0124 - root_mean_squared_error: 0.1114 - val_loss: 0.0126 - val_root_mean_squared_error: 0.1122\n",
      "Epoch 2239/2500\n",
      "8/8 [==============================] - 0s 9ms/step - loss: 0.0119 - root_mean_squared_error: 0.1092 - val_loss: 0.0151 - val_root_mean_squared_error: 0.1227\n",
      "Epoch 2240/2500\n",
      "8/8 [==============================] - 0s 8ms/step - loss: 0.0113 - root_mean_squared_error: 0.1063 - val_loss: 0.0141 - val_root_mean_squared_error: 0.1189\n",
      "Epoch 2241/2500\n",
      "8/8 [==============================] - 0s 9ms/step - loss: 0.0109 - root_mean_squared_error: 0.1045 - val_loss: 0.0122 - val_root_mean_squared_error: 0.1103\n",
      "Epoch 2242/2500\n",
      "8/8 [==============================] - 0s 10ms/step - loss: 0.0106 - root_mean_squared_error: 0.1030 - val_loss: 0.0137 - val_root_mean_squared_error: 0.1172\n",
      "Epoch 2243/2500\n",
      "8/8 [==============================] - 0s 10ms/step - loss: 0.0123 - root_mean_squared_error: 0.1108 - val_loss: 0.0219 - val_root_mean_squared_error: 0.1481\n",
      "Epoch 2244/2500\n",
      "8/8 [==============================] - 0s 9ms/step - loss: 0.0117 - root_mean_squared_error: 0.1083 - val_loss: 0.0133 - val_root_mean_squared_error: 0.1154\n",
      "Epoch 2245/2500\n",
      "8/8 [==============================] - 0s 10ms/step - loss: 0.0137 - root_mean_squared_error: 0.1172 - val_loss: 0.0134 - val_root_mean_squared_error: 0.1157\n",
      "Epoch 2246/2500\n",
      "8/8 [==============================] - 0s 9ms/step - loss: 0.0119 - root_mean_squared_error: 0.1093 - val_loss: 0.0123 - val_root_mean_squared_error: 0.1111\n",
      "Epoch 2247/2500\n",
      "8/8 [==============================] - 0s 9ms/step - loss: 0.0111 - root_mean_squared_error: 0.1055 - val_loss: 0.0131 - val_root_mean_squared_error: 0.1143\n",
      "Epoch 2248/2500\n",
      "8/8 [==============================] - 0s 9ms/step - loss: 0.0109 - root_mean_squared_error: 0.1043 - val_loss: 0.0119 - val_root_mean_squared_error: 0.1089\n",
      "Epoch 2249/2500\n",
      "8/8 [==============================] - 0s 9ms/step - loss: 0.0131 - root_mean_squared_error: 0.1146 - val_loss: 0.0201 - val_root_mean_squared_error: 0.1417\n",
      "Epoch 2250/2500\n",
      "8/8 [==============================] - 0s 9ms/step - loss: 0.0136 - root_mean_squared_error: 0.1168 - val_loss: 0.0122 - val_root_mean_squared_error: 0.1103\n",
      "Epoch 2251/2500\n",
      "8/8 [==============================] - 0s 8ms/step - loss: 0.0114 - root_mean_squared_error: 0.1070 - val_loss: 0.0160 - val_root_mean_squared_error: 0.1266\n",
      "Epoch 2252/2500\n",
      "8/8 [==============================] - 0s 10ms/step - loss: 0.0116 - root_mean_squared_error: 0.1076 - val_loss: 0.0142 - val_root_mean_squared_error: 0.1190\n",
      "Epoch 2253/2500\n",
      "8/8 [==============================] - 0s 10ms/step - loss: 0.0108 - root_mean_squared_error: 0.1038 - val_loss: 0.0122 - val_root_mean_squared_error: 0.1106\n",
      "Epoch 2254/2500\n",
      "8/8 [==============================] - 0s 9ms/step - loss: 0.0107 - root_mean_squared_error: 0.1033 - val_loss: 0.0120 - val_root_mean_squared_error: 0.1095\n",
      "Epoch 2255/2500\n",
      "8/8 [==============================] - 0s 10ms/step - loss: 0.0108 - root_mean_squared_error: 0.1041 - val_loss: 0.0121 - val_root_mean_squared_error: 0.1100\n",
      "Epoch 2256/2500\n",
      "8/8 [==============================] - 0s 9ms/step - loss: 0.0109 - root_mean_squared_error: 0.1043 - val_loss: 0.0123 - val_root_mean_squared_error: 0.1109\n",
      "Epoch 2257/2500\n",
      "8/8 [==============================] - 0s 9ms/step - loss: 0.0106 - root_mean_squared_error: 0.1029 - val_loss: 0.0126 - val_root_mean_squared_error: 0.1124\n",
      "Epoch 2258/2500\n",
      "8/8 [==============================] - 0s 9ms/step - loss: 0.0107 - root_mean_squared_error: 0.1034 - val_loss: 0.0132 - val_root_mean_squared_error: 0.1151\n",
      "Epoch 2259/2500\n",
      "8/8 [==============================] - 0s 10ms/step - loss: 0.0107 - root_mean_squared_error: 0.1034 - val_loss: 0.0124 - val_root_mean_squared_error: 0.1116\n",
      "Epoch 2260/2500\n",
      "8/8 [==============================] - 0s 11ms/step - loss: 0.0105 - root_mean_squared_error: 0.1023 - val_loss: 0.0122 - val_root_mean_squared_error: 0.1103\n",
      "Epoch 2261/2500\n",
      "8/8 [==============================] - 0s 10ms/step - loss: 0.0113 - root_mean_squared_error: 0.1062 - val_loss: 0.0121 - val_root_mean_squared_error: 0.1099\n",
      "Epoch 2262/2500\n",
      "8/8 [==============================] - 0s 10ms/step - loss: 0.0122 - root_mean_squared_error: 0.1102 - val_loss: 0.0132 - val_root_mean_squared_error: 0.1150\n",
      "Epoch 2263/2500\n",
      "8/8 [==============================] - 0s 9ms/step - loss: 0.0129 - root_mean_squared_error: 0.1135 - val_loss: 0.0195 - val_root_mean_squared_error: 0.1396\n",
      "Epoch 2264/2500\n",
      "8/8 [==============================] - 0s 9ms/step - loss: 0.0110 - root_mean_squared_error: 0.1051 - val_loss: 0.0126 - val_root_mean_squared_error: 0.1122\n",
      "Epoch 2265/2500\n",
      "8/8 [==============================] - 0s 10ms/step - loss: 0.0122 - root_mean_squared_error: 0.1106 - val_loss: 0.0138 - val_root_mean_squared_error: 0.1177\n",
      "Epoch 2266/2500\n",
      "8/8 [==============================] - 0s 10ms/step - loss: 0.0113 - root_mean_squared_error: 0.1062 - val_loss: 0.0126 - val_root_mean_squared_error: 0.1123\n",
      "Epoch 2267/2500\n",
      "8/8 [==============================] - 0s 9ms/step - loss: 0.0115 - root_mean_squared_error: 0.1075 - val_loss: 0.0189 - val_root_mean_squared_error: 0.1373\n",
      "Epoch 2268/2500\n"
     ]
    },
    {
     "name": "stdout",
     "output_type": "stream",
     "text": [
      "8/8 [==============================] - 0s 9ms/step - loss: 0.0117 - root_mean_squared_error: 0.1083 - val_loss: 0.0147 - val_root_mean_squared_error: 0.1212\n",
      "Epoch 2269/2500\n",
      "8/8 [==============================] - 0s 9ms/step - loss: 0.0108 - root_mean_squared_error: 0.1038 - val_loss: 0.0127 - val_root_mean_squared_error: 0.1128\n",
      "Epoch 2270/2500\n",
      "8/8 [==============================] - 0s 8ms/step - loss: 0.0111 - root_mean_squared_error: 0.1053 - val_loss: 0.0123 - val_root_mean_squared_error: 0.1110\n",
      "Epoch 2271/2500\n",
      "8/8 [==============================] - 0s 9ms/step - loss: 0.0108 - root_mean_squared_error: 0.1038 - val_loss: 0.0125 - val_root_mean_squared_error: 0.1119\n",
      "Epoch 2272/2500\n",
      "8/8 [==============================] - 0s 8ms/step - loss: 0.0127 - root_mean_squared_error: 0.1129 - val_loss: 0.0127 - val_root_mean_squared_error: 0.1125\n",
      "Epoch 2273/2500\n",
      "8/8 [==============================] - 0s 8ms/step - loss: 0.0114 - root_mean_squared_error: 0.1065 - val_loss: 0.0116 - val_root_mean_squared_error: 0.1076\n",
      "Epoch 2274/2500\n",
      "8/8 [==============================] - 0s 7ms/step - loss: 0.0111 - root_mean_squared_error: 0.1054 - val_loss: 0.0116 - val_root_mean_squared_error: 0.1077\n",
      "Epoch 2275/2500\n",
      "8/8 [==============================] - 0s 8ms/step - loss: 0.0108 - root_mean_squared_error: 0.1042 - val_loss: 0.0125 - val_root_mean_squared_error: 0.1118\n",
      "Epoch 2276/2500\n",
      "8/8 [==============================] - 0s 7ms/step - loss: 0.0108 - root_mean_squared_error: 0.1040 - val_loss: 0.0133 - val_root_mean_squared_error: 0.1153\n",
      "Epoch 2277/2500\n",
      "8/8 [==============================] - 0s 8ms/step - loss: 0.0109 - root_mean_squared_error: 0.1042 - val_loss: 0.0126 - val_root_mean_squared_error: 0.1123\n",
      "Epoch 2278/2500\n",
      "8/8 [==============================] - 0s 7ms/step - loss: 0.0107 - root_mean_squared_error: 0.1033 - val_loss: 0.0121 - val_root_mean_squared_error: 0.1099\n",
      "Epoch 2279/2500\n",
      "8/8 [==============================] - 0s 8ms/step - loss: 0.0126 - root_mean_squared_error: 0.1123 - val_loss: 0.0175 - val_root_mean_squared_error: 0.1323\n",
      "Epoch 2280/2500\n",
      "8/8 [==============================] - 0s 8ms/step - loss: 0.0128 - root_mean_squared_error: 0.1133 - val_loss: 0.0133 - val_root_mean_squared_error: 0.1155\n",
      "Epoch 2281/2500\n",
      "8/8 [==============================] - 0s 8ms/step - loss: 0.0109 - root_mean_squared_error: 0.1045 - val_loss: 0.0191 - val_root_mean_squared_error: 0.1381\n",
      "Epoch 2282/2500\n",
      "8/8 [==============================] - 0s 7ms/step - loss: 0.0138 - root_mean_squared_error: 0.1176 - val_loss: 0.0300 - val_root_mean_squared_error: 0.1732\n",
      "Epoch 2283/2500\n",
      "8/8 [==============================] - 0s 9ms/step - loss: 0.0125 - root_mean_squared_error: 0.1119 - val_loss: 0.0145 - val_root_mean_squared_error: 0.1203\n",
      "Epoch 2284/2500\n",
      "8/8 [==============================] - 0s 8ms/step - loss: 0.0107 - root_mean_squared_error: 0.1035 - val_loss: 0.0124 - val_root_mean_squared_error: 0.1113\n",
      "Epoch 2285/2500\n",
      "8/8 [==============================] - 0s 8ms/step - loss: 0.0107 - root_mean_squared_error: 0.1034 - val_loss: 0.0165 - val_root_mean_squared_error: 0.1283\n",
      "Epoch 2286/2500\n",
      "8/8 [==============================] - 0s 10ms/step - loss: 0.0112 - root_mean_squared_error: 0.1058 - val_loss: 0.0153 - val_root_mean_squared_error: 0.1238\n",
      "Epoch 2287/2500\n",
      "8/8 [==============================] - 0s 8ms/step - loss: 0.0107 - root_mean_squared_error: 0.1034 - val_loss: 0.0134 - val_root_mean_squared_error: 0.1157\n",
      "Epoch 2288/2500\n",
      "8/8 [==============================] - 0s 7ms/step - loss: 0.0112 - root_mean_squared_error: 0.1060 - val_loss: 0.0132 - val_root_mean_squared_error: 0.1149\n",
      "Epoch 2289/2500\n",
      "8/8 [==============================] - 0s 9ms/step - loss: 0.0115 - root_mean_squared_error: 0.1072 - val_loss: 0.0134 - val_root_mean_squared_error: 0.1159\n",
      "Epoch 2290/2500\n",
      "8/8 [==============================] - 0s 10ms/step - loss: 0.0110 - root_mean_squared_error: 0.1048 - val_loss: 0.0136 - val_root_mean_squared_error: 0.1168\n",
      "Epoch 2291/2500\n",
      "8/8 [==============================] - 0s 10ms/step - loss: 0.0107 - root_mean_squared_error: 0.1032 - val_loss: 0.0134 - val_root_mean_squared_error: 0.1157\n",
      "Epoch 2292/2500\n",
      "8/8 [==============================] - 0s 10ms/step - loss: 0.0107 - root_mean_squared_error: 0.1036 - val_loss: 0.0132 - val_root_mean_squared_error: 0.1151\n",
      "Epoch 2293/2500\n",
      "8/8 [==============================] - 0s 9ms/step - loss: 0.0110 - root_mean_squared_error: 0.1048 - val_loss: 0.0128 - val_root_mean_squared_error: 0.1129\n",
      "Epoch 2294/2500\n",
      "8/8 [==============================] - 0s 11ms/step - loss: 0.0114 - root_mean_squared_error: 0.1070 - val_loss: 0.0124 - val_root_mean_squared_error: 0.1115\n",
      "Epoch 2295/2500\n",
      "8/8 [==============================] - 0s 9ms/step - loss: 0.0109 - root_mean_squared_error: 0.1046 - val_loss: 0.0131 - val_root_mean_squared_error: 0.1143\n",
      "Epoch 2296/2500\n",
      "8/8 [==============================] - 0s 10ms/step - loss: 0.0108 - root_mean_squared_error: 0.1041 - val_loss: 0.0166 - val_root_mean_squared_error: 0.1289\n",
      "Epoch 2297/2500\n",
      "8/8 [==============================] - 0s 10ms/step - loss: 0.0123 - root_mean_squared_error: 0.1109 - val_loss: 0.0138 - val_root_mean_squared_error: 0.1176\n",
      "Epoch 2298/2500\n",
      "8/8 [==============================] - 0s 10ms/step - loss: 0.0117 - root_mean_squared_error: 0.1081 - val_loss: 0.0126 - val_root_mean_squared_error: 0.1123\n",
      "Epoch 2299/2500\n",
      "8/8 [==============================] - 0s 9ms/step - loss: 0.0112 - root_mean_squared_error: 0.1059 - val_loss: 0.0130 - val_root_mean_squared_error: 0.1141\n",
      "Epoch 2300/2500\n",
      "8/8 [==============================] - 0s 8ms/step - loss: 0.0109 - root_mean_squared_error: 0.1046 - val_loss: 0.0157 - val_root_mean_squared_error: 0.1252\n",
      "Epoch 2301/2500\n",
      "8/8 [==============================] - 0s 10ms/step - loss: 0.0108 - root_mean_squared_error: 0.1039 - val_loss: 0.0143 - val_root_mean_squared_error: 0.1197\n",
      "Epoch 2302/2500\n",
      "8/8 [==============================] - 0s 10ms/step - loss: 0.0105 - root_mean_squared_error: 0.1025 - val_loss: 0.0131 - val_root_mean_squared_error: 0.1143\n",
      "Epoch 2303/2500\n",
      "8/8 [==============================] - 0s 10ms/step - loss: 0.0105 - root_mean_squared_error: 0.1027 - val_loss: 0.0130 - val_root_mean_squared_error: 0.1140\n",
      "Epoch 2304/2500\n",
      "8/8 [==============================] - 0s 10ms/step - loss: 0.0105 - root_mean_squared_error: 0.1027 - val_loss: 0.0140 - val_root_mean_squared_error: 0.1183\n",
      "Epoch 2305/2500\n",
      "8/8 [==============================] - 0s 10ms/step - loss: 0.0106 - root_mean_squared_error: 0.1028 - val_loss: 0.0143 - val_root_mean_squared_error: 0.1194\n",
      "Epoch 2306/2500\n",
      "8/8 [==============================] - 0s 10ms/step - loss: 0.0113 - root_mean_squared_error: 0.1063 - val_loss: 0.0130 - val_root_mean_squared_error: 0.1139\n",
      "Epoch 2307/2500\n",
      "8/8 [==============================] - 0s 9ms/step - loss: 0.0110 - root_mean_squared_error: 0.1049 - val_loss: 0.0129 - val_root_mean_squared_error: 0.1135\n",
      "Epoch 2308/2500\n",
      "8/8 [==============================] - 0s 9ms/step - loss: 0.0106 - root_mean_squared_error: 0.1032 - val_loss: 0.0130 - val_root_mean_squared_error: 0.1140\n",
      "Epoch 2309/2500\n",
      "8/8 [==============================] - 0s 9ms/step - loss: 0.0107 - root_mean_squared_error: 0.1032 - val_loss: 0.0147 - val_root_mean_squared_error: 0.1213\n",
      "Epoch 2310/2500\n",
      "8/8 [==============================] - 0s 9ms/step - loss: 0.0107 - root_mean_squared_error: 0.1033 - val_loss: 0.0134 - val_root_mean_squared_error: 0.1158\n",
      "Epoch 2311/2500\n",
      "8/8 [==============================] - 0s 9ms/step - loss: 0.0105 - root_mean_squared_error: 0.1024 - val_loss: 0.0133 - val_root_mean_squared_error: 0.1155\n",
      "Epoch 2312/2500\n",
      "8/8 [==============================] - 0s 11ms/step - loss: 0.0105 - root_mean_squared_error: 0.1026 - val_loss: 0.0167 - val_root_mean_squared_error: 0.1291\n",
      "Epoch 2313/2500\n",
      "8/8 [==============================] - 0s 9ms/step - loss: 0.0109 - root_mean_squared_error: 0.1043 - val_loss: 0.0150 - val_root_mean_squared_error: 0.1223\n",
      "Epoch 2314/2500\n",
      "8/8 [==============================] - 0s 10ms/step - loss: 0.0106 - root_mean_squared_error: 0.1032 - val_loss: 0.0134 - val_root_mean_squared_error: 0.1159\n",
      "Epoch 2315/2500\n",
      "8/8 [==============================] - 0s 9ms/step - loss: 0.0110 - root_mean_squared_error: 0.1050 - val_loss: 0.0131 - val_root_mean_squared_error: 0.1144\n",
      "Epoch 2316/2500\n",
      "8/8 [==============================] - 0s 9ms/step - loss: 0.0107 - root_mean_squared_error: 0.1032 - val_loss: 0.0129 - val_root_mean_squared_error: 0.1136\n",
      "Epoch 2317/2500\n",
      "8/8 [==============================] - 0s 9ms/step - loss: 0.0122 - root_mean_squared_error: 0.1104 - val_loss: 0.0131 - val_root_mean_squared_error: 0.1142\n",
      "Epoch 2318/2500\n",
      "8/8 [==============================] - 0s 9ms/step - loss: 0.0115 - root_mean_squared_error: 0.1074 - val_loss: 0.0137 - val_root_mean_squared_error: 0.1168\n",
      "Epoch 2319/2500\n",
      "8/8 [==============================] - 0s 9ms/step - loss: 0.0106 - root_mean_squared_error: 0.1028 - val_loss: 0.0130 - val_root_mean_squared_error: 0.1139\n",
      "Epoch 2320/2500\n",
      "8/8 [==============================] - 0s 8ms/step - loss: 0.0106 - root_mean_squared_error: 0.1031 - val_loss: 0.0128 - val_root_mean_squared_error: 0.1133\n",
      "Epoch 2321/2500\n",
      "8/8 [==============================] - 0s 9ms/step - loss: 0.0105 - root_mean_squared_error: 0.1025 - val_loss: 0.0129 - val_root_mean_squared_error: 0.1135\n",
      "Epoch 2322/2500\n",
      "8/8 [==============================] - 0s 10ms/step - loss: 0.0105 - root_mean_squared_error: 0.1024 - val_loss: 0.0133 - val_root_mean_squared_error: 0.1153\n",
      "Epoch 2323/2500\n",
      "8/8 [==============================] - 0s 9ms/step - loss: 0.0104 - root_mean_squared_error: 0.1022 - val_loss: 0.0132 - val_root_mean_squared_error: 0.1149\n",
      "Epoch 2324/2500\n",
      "8/8 [==============================] - 0s 10ms/step - loss: 0.0104 - root_mean_squared_error: 0.1021 - val_loss: 0.0125 - val_root_mean_squared_error: 0.1117\n",
      "Epoch 2325/2500\n",
      "8/8 [==============================] - 0s 9ms/step - loss: 0.0106 - root_mean_squared_error: 0.1031 - val_loss: 0.0124 - val_root_mean_squared_error: 0.1112\n",
      "Epoch 2326/2500\n",
      "8/8 [==============================] - 0s 10ms/step - loss: 0.0120 - root_mean_squared_error: 0.1094 - val_loss: 0.0133 - val_root_mean_squared_error: 0.1153\n",
      "Epoch 2327/2500\n",
      "8/8 [==============================] - 0s 10ms/step - loss: 0.0114 - root_mean_squared_error: 0.1068 - val_loss: 0.0137 - val_root_mean_squared_error: 0.1170\n",
      "Epoch 2328/2500\n",
      "8/8 [==============================] - 0s 10ms/step - loss: 0.0111 - root_mean_squared_error: 0.1055 - val_loss: 0.0150 - val_root_mean_squared_error: 0.1224\n",
      "Epoch 2329/2500\n",
      "8/8 [==============================] - 0s 10ms/step - loss: 0.0110 - root_mean_squared_error: 0.1047 - val_loss: 0.0136 - val_root_mean_squared_error: 0.1164\n",
      "Epoch 2330/2500\n",
      "8/8 [==============================] - 0s 8ms/step - loss: 0.0104 - root_mean_squared_error: 0.1022 - val_loss: 0.0128 - val_root_mean_squared_error: 0.1133\n",
      "Epoch 2331/2500\n",
      "8/8 [==============================] - 0s 10ms/step - loss: 0.0105 - root_mean_squared_error: 0.1026 - val_loss: 0.0129 - val_root_mean_squared_error: 0.1138\n",
      "Epoch 2332/2500\n",
      "8/8 [==============================] - 0s 10ms/step - loss: 0.0115 - root_mean_squared_error: 0.1070 - val_loss: 0.0132 - val_root_mean_squared_error: 0.1149\n",
      "Epoch 2333/2500\n",
      "8/8 [==============================] - 0s 9ms/step - loss: 0.0110 - root_mean_squared_error: 0.1047 - val_loss: 0.0137 - val_root_mean_squared_error: 0.1171\n",
      "Epoch 2334/2500\n",
      "8/8 [==============================] - 0s 10ms/step - loss: 0.0108 - root_mean_squared_error: 0.1039 - val_loss: 0.0132 - val_root_mean_squared_error: 0.1149\n",
      "Epoch 2335/2500\n",
      "8/8 [==============================] - 0s 9ms/step - loss: 0.0113 - root_mean_squared_error: 0.1061 - val_loss: 0.0124 - val_root_mean_squared_error: 0.1116\n",
      "Epoch 2336/2500\n",
      "8/8 [==============================] - 0s 9ms/step - loss: 0.0122 - root_mean_squared_error: 0.1105 - val_loss: 0.0171 - val_root_mean_squared_error: 0.1309\n",
      "Epoch 2337/2500\n",
      "8/8 [==============================] - 0s 8ms/step - loss: 0.0125 - root_mean_squared_error: 0.1118 - val_loss: 0.0129 - val_root_mean_squared_error: 0.1137\n",
      "Epoch 2338/2500\n",
      "8/8 [==============================] - 0s 7ms/step - loss: 0.0127 - root_mean_squared_error: 0.1127 - val_loss: 0.0169 - val_root_mean_squared_error: 0.1299\n",
      "Epoch 2339/2500\n",
      "8/8 [==============================] - 0s 8ms/step - loss: 0.0114 - root_mean_squared_error: 0.1068 - val_loss: 0.0143 - val_root_mean_squared_error: 0.1194\n",
      "Epoch 2340/2500\n",
      "8/8 [==============================] - 0s 9ms/step - loss: 0.0115 - root_mean_squared_error: 0.1074 - val_loss: 0.0127 - val_root_mean_squared_error: 0.1129\n",
      "Epoch 2341/2500\n",
      "8/8 [==============================] - 0s 8ms/step - loss: 0.0109 - root_mean_squared_error: 0.1044 - val_loss: 0.0127 - val_root_mean_squared_error: 0.1128\n",
      "Epoch 2342/2500\n",
      "8/8 [==============================] - 0s 7ms/step - loss: 0.0105 - root_mean_squared_error: 0.1026 - val_loss: 0.0129 - val_root_mean_squared_error: 0.1134\n",
      "Epoch 2343/2500\n",
      "8/8 [==============================] - 0s 9ms/step - loss: 0.0108 - root_mean_squared_error: 0.1038 - val_loss: 0.0131 - val_root_mean_squared_error: 0.1144\n",
      "Epoch 2344/2500\n",
      "8/8 [==============================] - 0s 8ms/step - loss: 0.0109 - root_mean_squared_error: 0.1043 - val_loss: 0.0140 - val_root_mean_squared_error: 0.1184\n",
      "Epoch 2345/2500\n",
      "8/8 [==============================] - 0s 9ms/step - loss: 0.0110 - root_mean_squared_error: 0.1050 - val_loss: 0.0136 - val_root_mean_squared_error: 0.1166\n",
      "Epoch 2346/2500\n",
      "8/8 [==============================] - 0s 7ms/step - loss: 0.0119 - root_mean_squared_error: 0.1089 - val_loss: 0.0127 - val_root_mean_squared_error: 0.1126\n",
      "Epoch 2347/2500\n",
      "8/8 [==============================] - 0s 8ms/step - loss: 0.0109 - root_mean_squared_error: 0.1044 - val_loss: 0.0139 - val_root_mean_squared_error: 0.1180\n",
      "Epoch 2348/2500\n",
      "8/8 [==============================] - 0s 8ms/step - loss: 0.0106 - root_mean_squared_error: 0.1031 - val_loss: 0.0135 - val_root_mean_squared_error: 0.1163\n",
      "Epoch 2349/2500\n",
      "8/8 [==============================] - 0s 8ms/step - loss: 0.0107 - root_mean_squared_error: 0.1034 - val_loss: 0.0128 - val_root_mean_squared_error: 0.1132\n",
      "Epoch 2350/2500\n",
      "8/8 [==============================] - 0s 7ms/step - loss: 0.0105 - root_mean_squared_error: 0.1022 - val_loss: 0.0124 - val_root_mean_squared_error: 0.1114\n",
      "Epoch 2351/2500\n",
      "8/8 [==============================] - 0s 9ms/step - loss: 0.0107 - root_mean_squared_error: 0.1035 - val_loss: 0.0123 - val_root_mean_squared_error: 0.1111\n",
      "Epoch 2352/2500\n",
      "8/8 [==============================] - 0s 8ms/step - loss: 0.0105 - root_mean_squared_error: 0.1027 - val_loss: 0.0128 - val_root_mean_squared_error: 0.1129\n",
      "Epoch 2353/2500\n",
      "8/8 [==============================] - 0s 9ms/step - loss: 0.0104 - root_mean_squared_error: 0.1019 - val_loss: 0.0129 - val_root_mean_squared_error: 0.1135\n",
      "Epoch 2354/2500\n",
      "8/8 [==============================] - 0s 8ms/step - loss: 0.0104 - root_mean_squared_error: 0.1020 - val_loss: 0.0128 - val_root_mean_squared_error: 0.1130\n",
      "Epoch 2355/2500\n",
      "8/8 [==============================] - 0s 10ms/step - loss: 0.0105 - root_mean_squared_error: 0.1026 - val_loss: 0.0124 - val_root_mean_squared_error: 0.1113\n",
      "Epoch 2356/2500\n",
      "8/8 [==============================] - 0s 8ms/step - loss: 0.0104 - root_mean_squared_error: 0.1021 - val_loss: 0.0127 - val_root_mean_squared_error: 0.1126\n",
      "Epoch 2357/2500\n",
      "8/8 [==============================] - 0s 9ms/step - loss: 0.0105 - root_mean_squared_error: 0.1022 - val_loss: 0.0131 - val_root_mean_squared_error: 0.1145\n",
      "Epoch 2358/2500\n",
      "8/8 [==============================] - 0s 10ms/step - loss: 0.0104 - root_mean_squared_error: 0.1021 - val_loss: 0.0129 - val_root_mean_squared_error: 0.1136\n",
      "Epoch 2359/2500\n",
      "8/8 [==============================] - 0s 9ms/step - loss: 0.0105 - root_mean_squared_error: 0.1024 - val_loss: 0.0132 - val_root_mean_squared_error: 0.1147\n",
      "Epoch 2360/2500\n",
      "8/8 [==============================] - 0s 10ms/step - loss: 0.0104 - root_mean_squared_error: 0.1021 - val_loss: 0.0132 - val_root_mean_squared_error: 0.1151\n",
      "Epoch 2361/2500\n",
      "8/8 [==============================] - 0s 10ms/step - loss: 0.0104 - root_mean_squared_error: 0.1019 - val_loss: 0.0136 - val_root_mean_squared_error: 0.1166\n",
      "Epoch 2362/2500\n"
     ]
    },
    {
     "name": "stdout",
     "output_type": "stream",
     "text": [
      "8/8 [==============================] - 0s 10ms/step - loss: 0.0104 - root_mean_squared_error: 0.1019 - val_loss: 0.0130 - val_root_mean_squared_error: 0.1141\n",
      "Epoch 2363/2500\n",
      "8/8 [==============================] - 0s 9ms/step - loss: 0.0108 - root_mean_squared_error: 0.1040 - val_loss: 0.0134 - val_root_mean_squared_error: 0.1156\n",
      "Epoch 2364/2500\n",
      "8/8 [==============================] - 0s 10ms/step - loss: 0.0113 - root_mean_squared_error: 0.1063 - val_loss: 0.0130 - val_root_mean_squared_error: 0.1139\n",
      "Epoch 2365/2500\n",
      "8/8 [==============================] - 0s 9ms/step - loss: 0.0107 - root_mean_squared_error: 0.1037 - val_loss: 0.0144 - val_root_mean_squared_error: 0.1201\n",
      "Epoch 2366/2500\n",
      "8/8 [==============================] - 0s 9ms/step - loss: 0.0108 - root_mean_squared_error: 0.1040 - val_loss: 0.0145 - val_root_mean_squared_error: 0.1206\n",
      "Epoch 2367/2500\n",
      "8/8 [==============================] - 0s 9ms/step - loss: 0.0106 - root_mean_squared_error: 0.1029 - val_loss: 0.0129 - val_root_mean_squared_error: 0.1135\n",
      "Epoch 2368/2500\n",
      "8/8 [==============================] - 0s 9ms/step - loss: 0.0104 - root_mean_squared_error: 0.1020 - val_loss: 0.0130 - val_root_mean_squared_error: 0.1141\n",
      "Epoch 2369/2500\n",
      "8/8 [==============================] - 0s 11ms/step - loss: 0.0104 - root_mean_squared_error: 0.1020 - val_loss: 0.0141 - val_root_mean_squared_error: 0.1186\n",
      "Epoch 2370/2500\n",
      "8/8 [==============================] - 0s 10ms/step - loss: 0.0105 - root_mean_squared_error: 0.1023 - val_loss: 0.0137 - val_root_mean_squared_error: 0.1170\n",
      "Epoch 2371/2500\n",
      "8/8 [==============================] - 0s 10ms/step - loss: 0.0105 - root_mean_squared_error: 0.1024 - val_loss: 0.0139 - val_root_mean_squared_error: 0.1181\n",
      "Epoch 2372/2500\n",
      "8/8 [==============================] - 0s 10ms/step - loss: 0.0104 - root_mean_squared_error: 0.1019 - val_loss: 0.0137 - val_root_mean_squared_error: 0.1170\n",
      "Epoch 2373/2500\n",
      "8/8 [==============================] - 0s 10ms/step - loss: 0.0104 - root_mean_squared_error: 0.1021 - val_loss: 0.0130 - val_root_mean_squared_error: 0.1142\n",
      "Epoch 2374/2500\n",
      "8/8 [==============================] - 0s 8ms/step - loss: 0.0104 - root_mean_squared_error: 0.1020 - val_loss: 0.0132 - val_root_mean_squared_error: 0.1149\n",
      "Epoch 2375/2500\n",
      "8/8 [==============================] - 0s 9ms/step - loss: 0.0107 - root_mean_squared_error: 0.1033 - val_loss: 0.0133 - val_root_mean_squared_error: 0.1154\n",
      "Epoch 2376/2500\n",
      "8/8 [==============================] - 0s 8ms/step - loss: 0.0109 - root_mean_squared_error: 0.1042 - val_loss: 0.0132 - val_root_mean_squared_error: 0.1147\n",
      "Epoch 2377/2500\n",
      "8/8 [==============================] - 0s 10ms/step - loss: 0.0104 - root_mean_squared_error: 0.1019 - val_loss: 0.0146 - val_root_mean_squared_error: 0.1208\n",
      "Epoch 2378/2500\n",
      "8/8 [==============================] - 0s 9ms/step - loss: 0.0106 - root_mean_squared_error: 0.1029 - val_loss: 0.0128 - val_root_mean_squared_error: 0.1130\n",
      "Epoch 2379/2500\n",
      "8/8 [==============================] - 0s 10ms/step - loss: 0.0104 - root_mean_squared_error: 0.1020 - val_loss: 0.0127 - val_root_mean_squared_error: 0.1128\n",
      "Epoch 2380/2500\n",
      "8/8 [==============================] - 0s 10ms/step - loss: 0.0105 - root_mean_squared_error: 0.1024 - val_loss: 0.0128 - val_root_mean_squared_error: 0.1130\n",
      "Epoch 2381/2500\n",
      "8/8 [==============================] - 0s 10ms/step - loss: 0.0105 - root_mean_squared_error: 0.1023 - val_loss: 0.0126 - val_root_mean_squared_error: 0.1122\n",
      "Epoch 2382/2500\n",
      "8/8 [==============================] - 0s 10ms/step - loss: 0.0109 - root_mean_squared_error: 0.1045 - val_loss: 0.0144 - val_root_mean_squared_error: 0.1198\n",
      "Epoch 2383/2500\n",
      "8/8 [==============================] - 0s 10ms/step - loss: 0.0116 - root_mean_squared_error: 0.1076 - val_loss: 0.0134 - val_root_mean_squared_error: 0.1158\n",
      "Epoch 2384/2500\n",
      "8/8 [==============================] - 0s 9ms/step - loss: 0.0106 - root_mean_squared_error: 0.1032 - val_loss: 0.0150 - val_root_mean_squared_error: 0.1226\n",
      "Epoch 2385/2500\n",
      "8/8 [==============================] - 0s 10ms/step - loss: 0.0105 - root_mean_squared_error: 0.1023 - val_loss: 0.0144 - val_root_mean_squared_error: 0.1199\n",
      "Epoch 2386/2500\n",
      "8/8 [==============================] - 0s 10ms/step - loss: 0.0107 - root_mean_squared_error: 0.1035 - val_loss: 0.0133 - val_root_mean_squared_error: 0.1153\n",
      "Epoch 2387/2500\n",
      "8/8 [==============================] - 0s 10ms/step - loss: 0.0106 - root_mean_squared_error: 0.1031 - val_loss: 0.0138 - val_root_mean_squared_error: 0.1173\n",
      "Epoch 2388/2500\n",
      "8/8 [==============================] - 0s 9ms/step - loss: 0.0105 - root_mean_squared_error: 0.1026 - val_loss: 0.0135 - val_root_mean_squared_error: 0.1161\n",
      "Epoch 2389/2500\n",
      "8/8 [==============================] - 0s 9ms/step - loss: 0.0105 - root_mean_squared_error: 0.1025 - val_loss: 0.0128 - val_root_mean_squared_error: 0.1133\n",
      "Epoch 2390/2500\n",
      "8/8 [==============================] - 0s 10ms/step - loss: 0.0107 - root_mean_squared_error: 0.1035 - val_loss: 0.0131 - val_root_mean_squared_error: 0.1143\n",
      "Epoch 2391/2500\n",
      "8/8 [==============================] - 0s 10ms/step - loss: 0.0111 - root_mean_squared_error: 0.1055 - val_loss: 0.0124 - val_root_mean_squared_error: 0.1115\n",
      "Epoch 2392/2500\n",
      "8/8 [==============================] - 0s 10ms/step - loss: 0.0105 - root_mean_squared_error: 0.1024 - val_loss: 0.0136 - val_root_mean_squared_error: 0.1168\n",
      "Epoch 2393/2500\n",
      "8/8 [==============================] - 0s 10ms/step - loss: 0.0106 - root_mean_squared_error: 0.1031 - val_loss: 0.0146 - val_root_mean_squared_error: 0.1209\n",
      "Epoch 2394/2500\n",
      "8/8 [==============================] - 0s 9ms/step - loss: 0.0110 - root_mean_squared_error: 0.1049 - val_loss: 0.0157 - val_root_mean_squared_error: 0.1253\n",
      "Epoch 2395/2500\n",
      "8/8 [==============================] - 0s 9ms/step - loss: 0.0105 - root_mean_squared_error: 0.1027 - val_loss: 0.0123 - val_root_mean_squared_error: 0.1109\n",
      "Epoch 2396/2500\n",
      "8/8 [==============================] - 0s 10ms/step - loss: 0.0110 - root_mean_squared_error: 0.1048 - val_loss: 0.0145 - val_root_mean_squared_error: 0.1205\n",
      "Epoch 2397/2500\n",
      "8/8 [==============================] - 0s 10ms/step - loss: 0.0125 - root_mean_squared_error: 0.1118 - val_loss: 0.0123 - val_root_mean_squared_error: 0.1109\n",
      "Epoch 2398/2500\n",
      "8/8 [==============================] - 0s 9ms/step - loss: 0.0111 - root_mean_squared_error: 0.1056 - val_loss: 0.0158 - val_root_mean_squared_error: 0.1255\n",
      "Epoch 2399/2500\n",
      "8/8 [==============================] - 0s 9ms/step - loss: 0.0113 - root_mean_squared_error: 0.1063 - val_loss: 0.0138 - val_root_mean_squared_error: 0.1175\n",
      "Epoch 2400/2500\n",
      "8/8 [==============================] - 0s 10ms/step - loss: 0.0109 - root_mean_squared_error: 0.1045 - val_loss: 0.0123 - val_root_mean_squared_error: 0.1111\n",
      "Epoch 2401/2500\n",
      "8/8 [==============================] - 0s 10ms/step - loss: 0.0107 - root_mean_squared_error: 0.1036 - val_loss: 0.0123 - val_root_mean_squared_error: 0.1110\n",
      "Epoch 2402/2500\n",
      "8/8 [==============================] - 0s 10ms/step - loss: 0.0106 - root_mean_squared_error: 0.1032 - val_loss: 0.0137 - val_root_mean_squared_error: 0.1170\n",
      "Epoch 2403/2500\n",
      "8/8 [==============================] - 0s 10ms/step - loss: 0.0109 - root_mean_squared_error: 0.1046 - val_loss: 0.0152 - val_root_mean_squared_error: 0.1233\n",
      "Epoch 2404/2500\n",
      "8/8 [==============================] - 0s 10ms/step - loss: 0.0105 - root_mean_squared_error: 0.1026 - val_loss: 0.0120 - val_root_mean_squared_error: 0.1094\n",
      "Epoch 2405/2500\n",
      "8/8 [==============================] - 0s 10ms/step - loss: 0.0108 - root_mean_squared_error: 0.1039 - val_loss: 0.0121 - val_root_mean_squared_error: 0.1101\n",
      "Epoch 2406/2500\n",
      "8/8 [==============================] - 0s 10ms/step - loss: 0.0105 - root_mean_squared_error: 0.1025 - val_loss: 0.0132 - val_root_mean_squared_error: 0.1147\n",
      "Epoch 2407/2500\n",
      "8/8 [==============================] - 0s 10ms/step - loss: 0.0103 - root_mean_squared_error: 0.1017 - val_loss: 0.0132 - val_root_mean_squared_error: 0.1149\n",
      "Epoch 2408/2500\n",
      "8/8 [==============================] - 0s 10ms/step - loss: 0.0104 - root_mean_squared_error: 0.1018 - val_loss: 0.0134 - val_root_mean_squared_error: 0.1159\n",
      "Epoch 2409/2500\n",
      "8/8 [==============================] - 0s 8ms/step - loss: 0.0106 - root_mean_squared_error: 0.1030 - val_loss: 0.0127 - val_root_mean_squared_error: 0.1127\n",
      "Epoch 2410/2500\n",
      "8/8 [==============================] - 0s 7ms/step - loss: 0.0106 - root_mean_squared_error: 0.1027 - val_loss: 0.0128 - val_root_mean_squared_error: 0.1133\n",
      "Epoch 2411/2500\n",
      "8/8 [==============================] - 0s 9ms/step - loss: 0.0106 - root_mean_squared_error: 0.1030 - val_loss: 0.0126 - val_root_mean_squared_error: 0.1124\n",
      "Epoch 2412/2500\n",
      "8/8 [==============================] - 0s 7ms/step - loss: 0.0105 - root_mean_squared_error: 0.1023 - val_loss: 0.0128 - val_root_mean_squared_error: 0.1132\n",
      "Epoch 2413/2500\n",
      "8/8 [==============================] - 0s 8ms/step - loss: 0.0104 - root_mean_squared_error: 0.1022 - val_loss: 0.0133 - val_root_mean_squared_error: 0.1152\n",
      "Epoch 2414/2500\n",
      "8/8 [==============================] - 0s 8ms/step - loss: 0.0105 - root_mean_squared_error: 0.1026 - val_loss: 0.0130 - val_root_mean_squared_error: 0.1138\n",
      "Epoch 2415/2500\n",
      "8/8 [==============================] - 0s 8ms/step - loss: 0.0106 - root_mean_squared_error: 0.1029 - val_loss: 0.0136 - val_root_mean_squared_error: 0.1165\n",
      "Epoch 2416/2500\n",
      "8/8 [==============================] - 0s 8ms/step - loss: 0.0105 - root_mean_squared_error: 0.1025 - val_loss: 0.0125 - val_root_mean_squared_error: 0.1116\n",
      "Epoch 2417/2500\n",
      "8/8 [==============================] - 0s 10ms/step - loss: 0.0115 - root_mean_squared_error: 0.1070 - val_loss: 0.0130 - val_root_mean_squared_error: 0.1139\n",
      "Epoch 2418/2500\n",
      "8/8 [==============================] - 0s 10ms/step - loss: 0.0108 - root_mean_squared_error: 0.1041 - val_loss: 0.0126 - val_root_mean_squared_error: 0.1124\n",
      "Epoch 2419/2500\n",
      "8/8 [==============================] - 0s 10ms/step - loss: 0.0109 - root_mean_squared_error: 0.1042 - val_loss: 0.0122 - val_root_mean_squared_error: 0.1103\n",
      "Epoch 2420/2500\n",
      "8/8 [==============================] - 0s 10ms/step - loss: 0.0107 - root_mean_squared_error: 0.1036 - val_loss: 0.0137 - val_root_mean_squared_error: 0.1169\n",
      "Epoch 2421/2500\n",
      "8/8 [==============================] - 0s 10ms/step - loss: 0.0111 - root_mean_squared_error: 0.1052 - val_loss: 0.0140 - val_root_mean_squared_error: 0.1182\n",
      "Epoch 2422/2500\n",
      "8/8 [==============================] - 0s 10ms/step - loss: 0.0107 - root_mean_squared_error: 0.1035 - val_loss: 0.0131 - val_root_mean_squared_error: 0.1143\n",
      "Epoch 2423/2500\n",
      "8/8 [==============================] - 0s 10ms/step - loss: 0.0104 - root_mean_squared_error: 0.1019 - val_loss: 0.0130 - val_root_mean_squared_error: 0.1138\n",
      "Epoch 2424/2500\n",
      "8/8 [==============================] - 0s 10ms/step - loss: 0.0106 - root_mean_squared_error: 0.1028 - val_loss: 0.0126 - val_root_mean_squared_error: 0.1122\n",
      "Epoch 2425/2500\n",
      "8/8 [==============================] - 0s 10ms/step - loss: 0.0105 - root_mean_squared_error: 0.1026 - val_loss: 0.0138 - val_root_mean_squared_error: 0.1173\n",
      "Epoch 2426/2500\n",
      "8/8 [==============================] - 0s 10ms/step - loss: 0.0108 - root_mean_squared_error: 0.1042 - val_loss: 0.0176 - val_root_mean_squared_error: 0.1326\n",
      "Epoch 2427/2500\n",
      "8/8 [==============================] - 0s 10ms/step - loss: 0.0109 - root_mean_squared_error: 0.1045 - val_loss: 0.0142 - val_root_mean_squared_error: 0.1190\n",
      "Epoch 2428/2500\n",
      "8/8 [==============================] - 0s 10ms/step - loss: 0.0104 - root_mean_squared_error: 0.1019 - val_loss: 0.0136 - val_root_mean_squared_error: 0.1166\n",
      "Epoch 2429/2500\n",
      "8/8 [==============================] - 0s 9ms/step - loss: 0.0104 - root_mean_squared_error: 0.1019 - val_loss: 0.0130 - val_root_mean_squared_error: 0.1140\n",
      "Epoch 2430/2500\n",
      "8/8 [==============================] - 0s 9ms/step - loss: 0.0103 - root_mean_squared_error: 0.1016 - val_loss: 0.0133 - val_root_mean_squared_error: 0.1153\n",
      "Epoch 2431/2500\n",
      "8/8 [==============================] - 0s 10ms/step - loss: 0.0103 - root_mean_squared_error: 0.1016 - val_loss: 0.0138 - val_root_mean_squared_error: 0.1175\n",
      "Epoch 2432/2500\n",
      "8/8 [==============================] - 0s 7ms/step - loss: 0.0103 - root_mean_squared_error: 0.1015 - val_loss: 0.0133 - val_root_mean_squared_error: 0.1153\n",
      "Epoch 2433/2500\n",
      "8/8 [==============================] - 0s 8ms/step - loss: 0.0103 - root_mean_squared_error: 0.1017 - val_loss: 0.0127 - val_root_mean_squared_error: 0.1128\n",
      "Epoch 2434/2500\n",
      "8/8 [==============================] - 0s 9ms/step - loss: 0.0113 - root_mean_squared_error: 0.1065 - val_loss: 0.0131 - val_root_mean_squared_error: 0.1146\n",
      "Epoch 2435/2500\n",
      "8/8 [==============================] - 0s 8ms/step - loss: 0.0104 - root_mean_squared_error: 0.1017 - val_loss: 0.0163 - val_root_mean_squared_error: 0.1278\n",
      "Epoch 2436/2500\n",
      "8/8 [==============================] - 0s 9ms/step - loss: 0.0114 - root_mean_squared_error: 0.1068 - val_loss: 0.0173 - val_root_mean_squared_error: 0.1316\n",
      "Epoch 2437/2500\n",
      "8/8 [==============================] - 0s 10ms/step - loss: 0.0107 - root_mean_squared_error: 0.1033 - val_loss: 0.0130 - val_root_mean_squared_error: 0.1142\n",
      "Epoch 2438/2500\n",
      "8/8 [==============================] - 0s 10ms/step - loss: 0.0104 - root_mean_squared_error: 0.1019 - val_loss: 0.0133 - val_root_mean_squared_error: 0.1152\n",
      "Epoch 2439/2500\n",
      "8/8 [==============================] - 0s 10ms/step - loss: 0.0103 - root_mean_squared_error: 0.1017 - val_loss: 0.0129 - val_root_mean_squared_error: 0.1135\n",
      "Epoch 2440/2500\n",
      "8/8 [==============================] - 0s 10ms/step - loss: 0.0117 - root_mean_squared_error: 0.1082 - val_loss: 0.0123 - val_root_mean_squared_error: 0.1109\n",
      "Epoch 2441/2500\n",
      "8/8 [==============================] - 0s 10ms/step - loss: 0.0120 - root_mean_squared_error: 0.1096 - val_loss: 0.0133 - val_root_mean_squared_error: 0.1151\n",
      "Epoch 2442/2500\n",
      "8/8 [==============================] - 0s 10ms/step - loss: 0.0110 - root_mean_squared_error: 0.1049 - val_loss: 0.0173 - val_root_mean_squared_error: 0.1316\n",
      "Epoch 2443/2500\n",
      "8/8 [==============================] - 0s 10ms/step - loss: 0.0125 - root_mean_squared_error: 0.1119 - val_loss: 0.0232 - val_root_mean_squared_error: 0.1523\n",
      "Epoch 2444/2500\n",
      "8/8 [==============================] - 0s 10ms/step - loss: 0.0110 - root_mean_squared_error: 0.1049 - val_loss: 0.0139 - val_root_mean_squared_error: 0.1181\n",
      "Epoch 2445/2500\n",
      "8/8 [==============================] - 0s 10ms/step - loss: 0.0108 - root_mean_squared_error: 0.1038 - val_loss: 0.0164 - val_root_mean_squared_error: 0.1281\n",
      "Epoch 2446/2500\n",
      "8/8 [==============================] - 0s 9ms/step - loss: 0.0111 - root_mean_squared_error: 0.1052 - val_loss: 0.0130 - val_root_mean_squared_error: 0.1141\n",
      "Epoch 2447/2500\n",
      "8/8 [==============================] - 0s 9ms/step - loss: 0.0113 - root_mean_squared_error: 0.1065 - val_loss: 0.0118 - val_root_mean_squared_error: 0.1088\n",
      "Epoch 2448/2500\n",
      "8/8 [==============================] - 0s 10ms/step - loss: 0.0112 - root_mean_squared_error: 0.1058 - val_loss: 0.0120 - val_root_mean_squared_error: 0.1096\n",
      "Epoch 2449/2500\n",
      "8/8 [==============================] - 0s 9ms/step - loss: 0.0105 - root_mean_squared_error: 0.1026 - val_loss: 0.0126 - val_root_mean_squared_error: 0.1120\n",
      "Epoch 2450/2500\n",
      "8/8 [==============================] - 0s 9ms/step - loss: 0.0106 - root_mean_squared_error: 0.1028 - val_loss: 0.0126 - val_root_mean_squared_error: 0.1121\n",
      "Epoch 2451/2500\n",
      "8/8 [==============================] - 0s 9ms/step - loss: 0.0107 - root_mean_squared_error: 0.1036 - val_loss: 0.0128 - val_root_mean_squared_error: 0.1130\n",
      "Epoch 2452/2500\n",
      "8/8 [==============================] - 0s 10ms/step - loss: 0.0105 - root_mean_squared_error: 0.1023 - val_loss: 0.0133 - val_root_mean_squared_error: 0.1151\n",
      "Epoch 2453/2500\n",
      "8/8 [==============================] - 0s 11ms/step - loss: 0.0106 - root_mean_squared_error: 0.1028 - val_loss: 0.0134 - val_root_mean_squared_error: 0.1157\n",
      "Epoch 2454/2500\n",
      "8/8 [==============================] - 0s 9ms/step - loss: 0.0107 - root_mean_squared_error: 0.1033 - val_loss: 0.0129 - val_root_mean_squared_error: 0.1136\n",
      "Epoch 2455/2500\n",
      "8/8 [==============================] - 0s 10ms/step - loss: 0.0104 - root_mean_squared_error: 0.1019 - val_loss: 0.0150 - val_root_mean_squared_error: 0.1227\n",
      "Epoch 2456/2500\n"
     ]
    },
    {
     "name": "stdout",
     "output_type": "stream",
     "text": [
      "8/8 [==============================] - 0s 10ms/step - loss: 0.0105 - root_mean_squared_error: 0.1026 - val_loss: 0.0140 - val_root_mean_squared_error: 0.1183\n",
      "Epoch 2457/2500\n",
      "8/8 [==============================] - 0s 9ms/step - loss: 0.0107 - root_mean_squared_error: 0.1037 - val_loss: 0.0125 - val_root_mean_squared_error: 0.1117\n",
      "Epoch 2458/2500\n",
      "8/8 [==============================] - 0s 10ms/step - loss: 0.0109 - root_mean_squared_error: 0.1042 - val_loss: 0.0125 - val_root_mean_squared_error: 0.1118\n",
      "Epoch 2459/2500\n",
      "8/8 [==============================] - 0s 10ms/step - loss: 0.0103 - root_mean_squared_error: 0.1017 - val_loss: 0.0134 - val_root_mean_squared_error: 0.1156\n",
      "Epoch 2460/2500\n",
      "8/8 [==============================] - 0s 11ms/step - loss: 0.0104 - root_mean_squared_error: 0.1021 - val_loss: 0.0136 - val_root_mean_squared_error: 0.1165\n",
      "Epoch 2461/2500\n",
      "8/8 [==============================] - 0s 10ms/step - loss: 0.0105 - root_mean_squared_error: 0.1024 - val_loss: 0.0133 - val_root_mean_squared_error: 0.1155\n",
      "Epoch 2462/2500\n",
      "8/8 [==============================] - 0s 10ms/step - loss: 0.0105 - root_mean_squared_error: 0.1022 - val_loss: 0.0131 - val_root_mean_squared_error: 0.1145\n",
      "Epoch 2463/2500\n",
      "8/8 [==============================] - 0s 10ms/step - loss: 0.0105 - root_mean_squared_error: 0.1027 - val_loss: 0.0128 - val_root_mean_squared_error: 0.1130\n",
      "Epoch 2464/2500\n",
      "8/8 [==============================] - 0s 10ms/step - loss: 0.0108 - root_mean_squared_error: 0.1041 - val_loss: 0.0134 - val_root_mean_squared_error: 0.1157\n",
      "Epoch 2465/2500\n",
      "8/8 [==============================] - 0s 10ms/step - loss: 0.0106 - root_mean_squared_error: 0.1029 - val_loss: 0.0139 - val_root_mean_squared_error: 0.1179\n",
      "Epoch 2466/2500\n",
      "8/8 [==============================] - 0s 10ms/step - loss: 0.0102 - root_mean_squared_error: 0.1011 - val_loss: 0.0134 - val_root_mean_squared_error: 0.1157\n",
      "Epoch 2467/2500\n",
      "8/8 [==============================] - 0s 9ms/step - loss: 0.0106 - root_mean_squared_error: 0.1030 - val_loss: 0.0130 - val_root_mean_squared_error: 0.1139\n",
      "Epoch 2468/2500\n",
      "8/8 [==============================] - 0s 9ms/step - loss: 0.0108 - root_mean_squared_error: 0.1039 - val_loss: 0.0131 - val_root_mean_squared_error: 0.1146\n",
      "Epoch 2469/2500\n",
      "8/8 [==============================] - 0s 8ms/step - loss: 0.0104 - root_mean_squared_error: 0.1019 - val_loss: 0.0144 - val_root_mean_squared_error: 0.1199\n",
      "Epoch 2470/2500\n",
      "8/8 [==============================] - 0s 7ms/step - loss: 0.0107 - root_mean_squared_error: 0.1036 - val_loss: 0.0133 - val_root_mean_squared_error: 0.1154\n",
      "Epoch 2471/2500\n",
      "8/8 [==============================] - 0s 8ms/step - loss: 0.0111 - root_mean_squared_error: 0.1054 - val_loss: 0.0128 - val_root_mean_squared_error: 0.1132\n",
      "Epoch 2472/2500\n",
      "8/8 [==============================] - 0s 10ms/step - loss: 0.0108 - root_mean_squared_error: 0.1038 - val_loss: 0.0130 - val_root_mean_squared_error: 0.1139\n",
      "Epoch 2473/2500\n",
      "8/8 [==============================] - 0s 10ms/step - loss: 0.0106 - root_mean_squared_error: 0.1029 - val_loss: 0.0138 - val_root_mean_squared_error: 0.1176\n",
      "Epoch 2474/2500\n",
      "8/8 [==============================] - 0s 10ms/step - loss: 0.0105 - root_mean_squared_error: 0.1026 - val_loss: 0.0126 - val_root_mean_squared_error: 0.1122\n",
      "Epoch 2475/2500\n",
      "8/8 [==============================] - 0s 10ms/step - loss: 0.0115 - root_mean_squared_error: 0.1071 - val_loss: 0.0149 - val_root_mean_squared_error: 0.1220\n",
      "Epoch 2476/2500\n",
      "8/8 [==============================] - 0s 8ms/step - loss: 0.0132 - root_mean_squared_error: 0.1148 - val_loss: 0.0136 - val_root_mean_squared_error: 0.1167\n",
      "Epoch 2477/2500\n",
      "8/8 [==============================] - 0s 9ms/step - loss: 0.0111 - root_mean_squared_error: 0.1053 - val_loss: 0.0139 - val_root_mean_squared_error: 0.1178\n",
      "Epoch 2478/2500\n",
      "8/8 [==============================] - 0s 8ms/step - loss: 0.0109 - root_mean_squared_error: 0.1045 - val_loss: 0.0146 - val_root_mean_squared_error: 0.1207\n",
      "Epoch 2479/2500\n",
      "8/8 [==============================] - 0s 9ms/step - loss: 0.0106 - root_mean_squared_error: 0.1030 - val_loss: 0.0127 - val_root_mean_squared_error: 0.1125\n",
      "Epoch 2480/2500\n",
      "8/8 [==============================] - 0s 8ms/step - loss: 0.0106 - root_mean_squared_error: 0.1030 - val_loss: 0.0124 - val_root_mean_squared_error: 0.1112\n",
      "Epoch 2481/2500\n",
      "8/8 [==============================] - 0s 7ms/step - loss: 0.0109 - root_mean_squared_error: 0.1043 - val_loss: 0.0124 - val_root_mean_squared_error: 0.1115\n",
      "Epoch 2482/2500\n",
      "8/8 [==============================] - 0s 8ms/step - loss: 0.0105 - root_mean_squared_error: 0.1027 - val_loss: 0.0130 - val_root_mean_squared_error: 0.1141\n",
      "Epoch 2483/2500\n",
      "8/8 [==============================] - 0s 7ms/step - loss: 0.0104 - root_mean_squared_error: 0.1018 - val_loss: 0.0129 - val_root_mean_squared_error: 0.1135\n",
      "Epoch 2484/2500\n",
      "8/8 [==============================] - 0s 8ms/step - loss: 0.0103 - root_mean_squared_error: 0.1014 - val_loss: 0.0128 - val_root_mean_squared_error: 0.1130\n",
      "Epoch 2485/2500\n",
      "8/8 [==============================] - 0s 8ms/step - loss: 0.0102 - root_mean_squared_error: 0.1011 - val_loss: 0.0131 - val_root_mean_squared_error: 0.1143\n",
      "Epoch 2486/2500\n",
      "8/8 [==============================] - 0s 9ms/step - loss: 0.0103 - root_mean_squared_error: 0.1013 - val_loss: 0.0135 - val_root_mean_squared_error: 0.1164\n",
      "Epoch 2487/2500\n",
      "8/8 [==============================] - 0s 8ms/step - loss: 0.0109 - root_mean_squared_error: 0.1044 - val_loss: 0.0159 - val_root_mean_squared_error: 0.1259\n",
      "Epoch 2488/2500\n",
      "8/8 [==============================] - 0s 10ms/step - loss: 0.0117 - root_mean_squared_error: 0.1081 - val_loss: 0.0128 - val_root_mean_squared_error: 0.1133\n",
      "Epoch 2489/2500\n",
      "8/8 [==============================] - 0s 11ms/step - loss: 0.0113 - root_mean_squared_error: 0.1064 - val_loss: 0.0121 - val_root_mean_squared_error: 0.1100\n",
      "Epoch 2490/2500\n",
      "8/8 [==============================] - 0s 10ms/step - loss: 0.0119 - root_mean_squared_error: 0.1089 - val_loss: 0.0131 - val_root_mean_squared_error: 0.1146\n",
      "Epoch 2491/2500\n",
      "8/8 [==============================] - 0s 9ms/step - loss: 0.0114 - root_mean_squared_error: 0.1068 - val_loss: 0.0120 - val_root_mean_squared_error: 0.1096\n",
      "Epoch 2492/2500\n",
      "8/8 [==============================] - 0s 9ms/step - loss: 0.0114 - root_mean_squared_error: 0.1066 - val_loss: 0.0125 - val_root_mean_squared_error: 0.1118\n",
      "Epoch 2493/2500\n",
      "8/8 [==============================] - 0s 11ms/step - loss: 0.0104 - root_mean_squared_error: 0.1019 - val_loss: 0.0129 - val_root_mean_squared_error: 0.1136\n",
      "Epoch 2494/2500\n",
      "8/8 [==============================] - 0s 9ms/step - loss: 0.0104 - root_mean_squared_error: 0.1019 - val_loss: 0.0128 - val_root_mean_squared_error: 0.1130\n",
      "Epoch 2495/2500\n",
      "8/8 [==============================] - 0s 9ms/step - loss: 0.0106 - root_mean_squared_error: 0.1027 - val_loss: 0.0130 - val_root_mean_squared_error: 0.1139\n",
      "Epoch 2496/2500\n",
      "8/8 [==============================] - 0s 10ms/step - loss: 0.0106 - root_mean_squared_error: 0.1032 - val_loss: 0.0126 - val_root_mean_squared_error: 0.1121\n",
      "Epoch 2497/2500\n",
      "8/8 [==============================] - 0s 11ms/step - loss: 0.0109 - root_mean_squared_error: 0.1043 - val_loss: 0.0120 - val_root_mean_squared_error: 0.1097\n",
      "Epoch 2498/2500\n",
      "8/8 [==============================] - 0s 9ms/step - loss: 0.0104 - root_mean_squared_error: 0.1022 - val_loss: 0.0128 - val_root_mean_squared_error: 0.1132\n",
      "Epoch 2499/2500\n",
      "8/8 [==============================] - 0s 10ms/step - loss: 0.0106 - root_mean_squared_error: 0.1029 - val_loss: 0.0129 - val_root_mean_squared_error: 0.1135\n",
      "Epoch 2500/2500\n",
      "8/8 [==============================] - 0s 10ms/step - loss: 0.0104 - root_mean_squared_error: 0.1019 - val_loss: 0.0128 - val_root_mean_squared_error: 0.1131\n"
     ]
    }
   ],
   "source": [
    "# LSTM\n",
    "model0 = Sequential()\n",
    "model0.add(InputLayer((7,6)))\n",
    "model0.add(LSTM(64))\n",
    "model0.add(Dense(32, 'relu'))\n",
    "model0.add(Dense(1, 'linear'))\n",
    "\n",
    "cp0 = ModelCheckpoint('model0/', save_best_only = True)\n",
    "model0.compile(loss = MeanSquaredError(), optimizer = Adam(learning_rate=.0001), metrics = [RootMeanSquaredError()])\n",
    "history = model0.fit(X_train, y_train, validation_data = (X_val,y_val), epochs = 2500, callbacks =[cp0])"
   ]
  },
  {
   "cell_type": "code",
   "execution_count": 28,
   "id": "059e7073",
   "metadata": {},
   "outputs": [],
   "source": [
    "from tensorflow.keras.models import load_model\n",
    "model0 = load_model('model0/')"
   ]
  },
  {
   "cell_type": "code",
   "execution_count": 29,
   "id": "5911c13b",
   "metadata": {},
   "outputs": [
    {
     "data": {
      "text/plain": [
       "[<matplotlib.lines.Line2D at 0x1e6ff9fbd60>]"
      ]
     },
     "execution_count": 29,
     "metadata": {},
     "output_type": "execute_result"
    },
    {
     "data": {
      "image/png": "[encoded data removed]",
      "text/plain": [
       "<Figure size 432x288 with 1 Axes>"
      ]
     },
     "metadata": {
      "needs_background": "light"
     },
     "output_type": "display_data"
    }
   ],
   "source": [
    "plt.plot(history.history['loss'])\n",
    "plt.plot(history.history['val_loss'])\n"
   ]
  },
  {
   "cell_type": "code",
   "execution_count": 30,
   "id": "712cc261",
   "metadata": {
    "scrolled": true
   },
   "outputs": [
    {
     "name": "stdout",
     "output_type": "stream",
     "text": [
      "2/2 [==============================] - 0s 4ms/step\n"
     ]
    },
    {
     "data": {
      "text/html": [
       "<div>\n",
       "<style scoped>\n",
       "    .dataframe tbody tr th:only-of-type {\n",
       "        vertical-align: middle;\n",
       "    }\n",
       "\n",
       "    .dataframe tbody tr th {\n",
       "        vertical-align: top;\n",
       "    }\n",
       "\n",
       "    .dataframe thead th {\n",
       "        text-align: right;\n",
       "    }\n",
       "</style>\n",
       "<table border=\"1\" class=\"dataframe\">\n",
       "  <thead>\n",
       "    <tr style=\"text-align: right;\">\n",
       "      <th></th>\n",
       "      <th>Test Predictions</th>\n",
       "      <th>Actuals</th>\n",
       "    </tr>\n",
       "  </thead>\n",
       "  <tbody>\n",
       "    <tr>\n",
       "      <th>0</th>\n",
       "      <td>3.774686</td>\n",
       "      <td>3.836900</td>\n",
       "    </tr>\n",
       "    <tr>\n",
       "      <th>1</th>\n",
       "      <td>3.808802</td>\n",
       "      <td>3.820900</td>\n",
       "    </tr>\n",
       "    <tr>\n",
       "      <th>2</th>\n",
       "      <td>3.788104</td>\n",
       "      <td>3.833900</td>\n",
       "    </tr>\n",
       "    <tr>\n",
       "      <th>3</th>\n",
       "      <td>3.817142</td>\n",
       "      <td>3.732600</td>\n",
       "    </tr>\n",
       "    <tr>\n",
       "      <th>4</th>\n",
       "      <td>3.730568</td>\n",
       "      <td>3.872500</td>\n",
       "    </tr>\n",
       "    <tr>\n",
       "      <th>5</th>\n",
       "      <td>3.847852</td>\n",
       "      <td>3.982300</td>\n",
       "    </tr>\n",
       "    <tr>\n",
       "      <th>6</th>\n",
       "      <td>3.953264</td>\n",
       "      <td>4.009200</td>\n",
       "    </tr>\n",
       "    <tr>\n",
       "      <th>7</th>\n",
       "      <td>3.966542</td>\n",
       "      <td>3.820500</td>\n",
       "    </tr>\n",
       "    <tr>\n",
       "      <th>8</th>\n",
       "      <td>3.825196</td>\n",
       "      <td>3.914200</td>\n",
       "    </tr>\n",
       "    <tr>\n",
       "      <th>9</th>\n",
       "      <td>3.892613</td>\n",
       "      <td>3.793000</td>\n",
       "    </tr>\n",
       "    <tr>\n",
       "      <th>10</th>\n",
       "      <td>3.824964</td>\n",
       "      <td>3.870800</td>\n",
       "    </tr>\n",
       "    <tr>\n",
       "      <th>11</th>\n",
       "      <td>3.869138</td>\n",
       "      <td>3.924300</td>\n",
       "    </tr>\n",
       "    <tr>\n",
       "      <th>12</th>\n",
       "      <td>3.924588</td>\n",
       "      <td>4.132300</td>\n",
       "    </tr>\n",
       "    <tr>\n",
       "      <th>13</th>\n",
       "      <td>4.082161</td>\n",
       "      <td>4.149300</td>\n",
       "    </tr>\n",
       "    <tr>\n",
       "      <th>14</th>\n",
       "      <td>4.123371</td>\n",
       "      <td>3.953900</td>\n",
       "    </tr>\n",
       "    <tr>\n",
       "      <th>15</th>\n",
       "      <td>3.888011</td>\n",
       "      <td>3.742900</td>\n",
       "    </tr>\n",
       "    <tr>\n",
       "      <th>16</th>\n",
       "      <td>3.793965</td>\n",
       "      <td>3.681500</td>\n",
       "    </tr>\n",
       "    <tr>\n",
       "      <th>17</th>\n",
       "      <td>3.729955</td>\n",
       "      <td>3.864300</td>\n",
       "    </tr>\n",
       "    <tr>\n",
       "      <th>18</th>\n",
       "      <td>3.898514</td>\n",
       "      <td>3.952400</td>\n",
       "    </tr>\n",
       "    <tr>\n",
       "      <th>19</th>\n",
       "      <td>3.948068</td>\n",
       "      <td>3.753200</td>\n",
       "    </tr>\n",
       "    <tr>\n",
       "      <th>20</th>\n",
       "      <td>3.758527</td>\n",
       "      <td>3.727100</td>\n",
       "    </tr>\n",
       "    <tr>\n",
       "      <th>21</th>\n",
       "      <td>3.702641</td>\n",
       "      <td>3.721500</td>\n",
       "    </tr>\n",
       "    <tr>\n",
       "      <th>22</th>\n",
       "      <td>3.746935</td>\n",
       "      <td>3.739200</td>\n",
       "    </tr>\n",
       "    <tr>\n",
       "      <th>23</th>\n",
       "      <td>3.740373</td>\n",
       "      <td>3.945100</td>\n",
       "    </tr>\n",
       "    <tr>\n",
       "      <th>24</th>\n",
       "      <td>3.912592</td>\n",
       "      <td>3.789500</td>\n",
       "    </tr>\n",
       "    <tr>\n",
       "      <th>25</th>\n",
       "      <td>3.781302</td>\n",
       "      <td>3.657800</td>\n",
       "    </tr>\n",
       "    <tr>\n",
       "      <th>26</th>\n",
       "      <td>3.667374</td>\n",
       "      <td>3.809300</td>\n",
       "    </tr>\n",
       "    <tr>\n",
       "      <th>27</th>\n",
       "      <td>3.784358</td>\n",
       "      <td>3.844100</td>\n",
       "    </tr>\n",
       "    <tr>\n",
       "      <th>28</th>\n",
       "      <td>3.842819</td>\n",
       "      <td>3.827300</td>\n",
       "    </tr>\n",
       "    <tr>\n",
       "      <th>29</th>\n",
       "      <td>3.815021</td>\n",
       "      <td>3.976300</td>\n",
       "    </tr>\n",
       "    <tr>\n",
       "      <th>30</th>\n",
       "      <td>3.918581</td>\n",
       "      <td>3.983700</td>\n",
       "    </tr>\n",
       "    <tr>\n",
       "      <th>31</th>\n",
       "      <td>3.961291</td>\n",
       "      <td>4.103600</td>\n",
       "    </tr>\n",
       "    <tr>\n",
       "      <th>32</th>\n",
       "      <td>4.067678</td>\n",
       "      <td>4.031500</td>\n",
       "    </tr>\n",
       "    <tr>\n",
       "      <th>33</th>\n",
       "      <td>4.010748</td>\n",
       "      <td>4.077300</td>\n",
       "    </tr>\n",
       "    <tr>\n",
       "      <th>34</th>\n",
       "      <td>4.043590</td>\n",
       "      <td>4.182700</td>\n",
       "    </tr>\n",
       "    <tr>\n",
       "      <th>35</th>\n",
       "      <td>4.151596</td>\n",
       "      <td>4.193300</td>\n",
       "    </tr>\n",
       "    <tr>\n",
       "      <th>36</th>\n",
       "      <td>4.247078</td>\n",
       "      <td>4.428600</td>\n",
       "    </tr>\n",
       "    <tr>\n",
       "      <th>37</th>\n",
       "      <td>4.322685</td>\n",
       "      <td>4.269800</td>\n",
       "    </tr>\n",
       "    <tr>\n",
       "      <th>38</th>\n",
       "      <td>4.254507</td>\n",
       "      <td>4.482700</td>\n",
       "    </tr>\n",
       "    <tr>\n",
       "      <th>39</th>\n",
       "      <td>4.396590</td>\n",
       "      <td>4.628900</td>\n",
       "    </tr>\n",
       "    <tr>\n",
       "      <th>40</th>\n",
       "      <td>4.574745</td>\n",
       "      <td>4.695500</td>\n",
       "    </tr>\n",
       "    <tr>\n",
       "      <th>41</th>\n",
       "      <td>4.568711</td>\n",
       "      <td>4.949100</td>\n",
       "    </tr>\n",
       "    <tr>\n",
       "      <th>42</th>\n",
       "      <td>4.758796</td>\n",
       "      <td>4.769400</td>\n",
       "    </tr>\n",
       "    <tr>\n",
       "      <th>43</th>\n",
       "      <td>4.650171</td>\n",
       "      <td>4.483400</td>\n",
       "    </tr>\n",
       "    <tr>\n",
       "      <th>44</th>\n",
       "      <td>4.405493</td>\n",
       "      <td>4.377500</td>\n",
       "    </tr>\n",
       "    <tr>\n",
       "      <th>45</th>\n",
       "      <td>4.338456</td>\n",
       "      <td>4.336295</td>\n",
       "    </tr>\n",
       "  </tbody>\n",
       "</table>\n",
       "</div>"
      ],
      "text/plain": [
       "    Test Predictions   Actuals\n",
       "0           3.774686  3.836900\n",
       "1           3.808802  3.820900\n",
       "2           3.788104  3.833900\n",
       "3           3.817142  3.732600\n",
       "4           3.730568  3.872500\n",
       "5           3.847852  3.982300\n",
       "6           3.953264  4.009200\n",
       "7           3.966542  3.820500\n",
       "8           3.825196  3.914200\n",
       "9           3.892613  3.793000\n",
       "10          3.824964  3.870800\n",
       "11          3.869138  3.924300\n",
       "12          3.924588  4.132300\n",
       "13          4.082161  4.149300\n",
       "14          4.123371  3.953900\n",
       "15          3.888011  3.742900\n",
       "16          3.793965  3.681500\n",
       "17          3.729955  3.864300\n",
       "18          3.898514  3.952400\n",
       "19          3.948068  3.753200\n",
       "20          3.758527  3.727100\n",
       "21          3.702641  3.721500\n",
       "22          3.746935  3.739200\n",
       "23          3.740373  3.945100\n",
       "24          3.912592  3.789500\n",
       "25          3.781302  3.657800\n",
       "26          3.667374  3.809300\n",
       "27          3.784358  3.844100\n",
       "28          3.842819  3.827300\n",
       "29          3.815021  3.976300\n",
       "30          3.918581  3.983700\n",
       "31          3.961291  4.103600\n",
       "32          4.067678  4.031500\n",
       "33          4.010748  4.077300\n",
       "34          4.043590  4.182700\n",
       "35          4.151596  4.193300\n",
       "36          4.247078  4.428600\n",
       "37          4.322685  4.269800\n",
       "38          4.254507  4.482700\n",
       "39          4.396590  4.628900\n",
       "40          4.574745  4.695500\n",
       "41          4.568711  4.949100\n",
       "42          4.758796  4.769400\n",
       "43          4.650171  4.483400\n",
       "44          4.405493  4.377500\n",
       "45          4.338456  4.336295"
      ]
     },
     "execution_count": 30,
     "metadata": {},
     "output_type": "execute_result"
    }
   ],
   "source": [
    "test_predictions = model0.predict(X_test).flatten()\n",
    "test_results = pd.DataFrame(data = {'Test Predictions':test_predictions,'Actuals':y_test})\n",
    "test_results"
   ]
  },
  {
   "cell_type": "code",
   "execution_count": 31,
   "id": "478f9b16",
   "metadata": {},
   "outputs": [
    {
     "data": {
      "text/plain": [
       "[<matplotlib.lines.Line2D at 0x1e68d79c040>]"
      ]
     },
     "execution_count": 31,
     "metadata": {},
     "output_type": "execute_result"
    },
    {
     "data": {
      "image/png": "[encoded data removed]",
      "text/plain": [
       "<Figure size 432x288 with 1 Axes>"
      ]
     },
     "metadata": {
      "needs_background": "light"
     },
     "output_type": "display_data"
    }
   ],
   "source": [
    "plt.plot(test_results['Test Predictions'])\n",
    "plt.plot(test_results['Actuals'])"
   ]
  },
  {
   "cell_type": "code",
   "execution_count": 32,
   "id": "120b5149",
   "metadata": {},
   "outputs": [
    {
     "name": "stdout",
     "output_type": "stream",
     "text": [
      "MSE: 0.016798155075958724\n",
      "RMSE: 0.12960769682375628\n",
      "RRMSE: 0.03682505534356911\n",
      "MAE: 0.10521707327469512\n",
      "RMAE: 0.029895018902294235\n",
      "EV: 0.8406005006207595\n"
     ]
    }
   ],
   "source": [
    "# Evaluating \n",
    "print(\"MSE:\",metrics.mean_squared_error (y_test,test_predictions))\n",
    "print(\"RMSE:\", np.sqrt(metrics.mean_squared_error (y_test,test_predictions)))\n",
    "print(\"RRMSE:\",np.sqrt(metrics.mean_squared_error (y_test,test_predictions))/model_data['USDPLN Close'].mean())\n",
    "print(\"MAE:\", metrics.mean_absolute_error (y_test, test_predictions))\n",
    "print(\"RMAE:\", metrics.mean_absolute_error (y_test, test_predictions)/model_data['USDPLN Close'].mean())\n",
    "print(\"EV:\", metrics.explained_variance_score(y_test,test_predictions))"
   ]
  },
  {
   "cell_type": "code",
   "execution_count": 33,
   "id": "b224b46e",
   "metadata": {},
   "outputs": [],
   "source": [
    "#####################\n",
    "# NEW DATA PREDICTION"
   ]
  },
  {
   "cell_type": "code",
   "execution_count": 34,
   "id": "a6fc35f0",
   "metadata": {},
   "outputs": [
    {
     "data": {
      "text/plain": [
       "'2023-02'"
      ]
     },
     "execution_count": 34,
     "metadata": {},
     "output_type": "execute_result"
    }
   ],
   "source": [
    "str(pd.to_datetime(model_data[-1:].index[0]) + pd.DateOffset(months=1))[:7]"
   ]
  },
  {
   "cell_type": "code",
   "execution_count": 35,
   "id": "c2fd2deb",
   "metadata": {},
   "outputs": [
    {
     "name": "stdout",
     "output_type": "stream",
     "text": [
      "Today is: 2023-02-12\n",
      "The last month of the dataset is the month ending: 2023-01\n",
      "The predicted close will be for the month ending: 2023-02\n"
     ]
    }
   ],
   "source": [
    "import datetime as dt\n",
    "print('Today is: '+dt.datetime.now().strftime('%Y-%m-%d')+'\\nThe last month of the dataset is the month ending: '+str(pd.to_datetime(model_data[-1:].index[0]))[:7])\n",
    "print('The predicted close will be for the month ending: '+str(pd.to_datetime(model_data[-1:].index[0]) + pd.DateOffset(months=1))[:7])"
   ]
  },
  {
   "cell_type": "code",
   "execution_count": 37,
   "id": "eae092be",
   "metadata": {},
   "outputs": [],
   "source": [
    "new_data = model_data.copy()\n",
    "new_data = new_data.to_numpy()\n",
    "new_data = new_data[-WINDOW_SIZE:]\n",
    "new_data = new_data.reshape(1,7,6)\n",
    "preprocess(new_data)"
   ]
  },
  {
   "cell_type": "code",
   "execution_count": 38,
   "id": "c6f3b8cb",
   "metadata": {},
   "outputs": [
    {
     "name": "stdout",
     "output_type": "stream",
     "text": [
      "1/1 [==============================] - 0s 7ms/step\n"
     ]
    }
   ],
   "source": [
    "yhat = model0.predict(new_data).flatten()"
   ]
  },
  {
   "cell_type": "code",
   "execution_count": 39,
   "id": "3c0376b2",
   "metadata": {},
   "outputs": [
    {
     "data": {
      "text/plain": [
       "'4.483161'"
      ]
     },
     "execution_count": 39,
     "metadata": {},
     "output_type": "execute_result"
    }
   ],
   "source": [
    "str(round(np.sqrt(metrics.mean_squared_error (y_test,test_predictions))+yhat[0],6))"
   ]
  },
  {
   "cell_type": "code",
   "execution_count": 40,
   "id": "87853fa8",
   "metadata": {},
   "outputs": [
    {
     "name": "stdout",
     "output_type": "stream",
     "text": [
      "The predicted close for the month ending: 2023-02 is: 4.353554\n",
      "The RMSE upper and lower bounds are: 4.483161, 4.223946\n",
      "The MAE upper and lower bounds are: 4.458771, 4.248337\n",
      "\n",
      "\n",
      "The RMSE extreme upper and lower bounds are: 4.612769, 4.094338\n",
      "The MAE extreme upper and lower bounds are: 4.563988, 4.14312\n"
     ]
    }
   ],
   "source": [
    "print('The predicted close for the month ending: '+str(pd.to_datetime(model_data[-1:].index[0]) + pd.DateOffset(months=1))[:7]+' is: '+str(yhat[0]))\n",
    "print('The RMSE upper and lower bounds are: '+str(round(np.sqrt(metrics.mean_squared_error (y_test,test_predictions))+yhat[0],6))+', '+str(round(yhat[0] - np.sqrt(metrics.mean_squared_error (y_test,test_predictions)),6)))\n",
    "print('The MAE upper and lower bounds are: '+str(round(metrics.mean_absolute_error (y_test, test_predictions)+yhat[0],6))+', '+str(round(yhat[0] - metrics.mean_absolute_error (y_test, test_predictions),6)))\n",
    "print('\\n\\nThe RMSE extreme upper and lower bounds are: '+str(round(np.sqrt(metrics.mean_squared_error (y_test,test_predictions))*2+yhat[0],6))+', '+str(round(yhat[0] - np.sqrt(metrics.mean_squared_error (y_test,test_predictions))*2,6)))\n",
    "print('The MAE extreme upper and lower bounds are: '+str(round(metrics.mean_absolute_error (y_test, test_predictions)*2+yhat[0],6))+', '+str(round(yhat[0] - metrics.mean_absolute_error (y_test, test_predictions)*2,6)))"
   ]
  },
  {
   "cell_type": "code",
   "execution_count": null,
   "id": "8c361220",
   "metadata": {},
   "outputs": [],
   "source": []
  }
 ],
 "metadata": {
  "kernelspec": {
   "display_name": "Python 3 (ipykernel)",
   "language": "python",
   "name": "python3"
  },
  "language_info": {
   "codemirror_mode": {
    "name": "ipython",
    "version": 3
   },
   "file_extension": ".py",
   "mimetype": "text/x-python",
   "name": "python",
   "nbconvert_exporter": "python",
   "pygments_lexer": "ipython3",
   "version": "3.9.12"
  }
 },
 "nbformat": 4,
 "nbformat_minor": 5
}
